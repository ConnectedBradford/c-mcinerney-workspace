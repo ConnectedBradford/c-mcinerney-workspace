{
 "cells": [
  {
   "cell_type": "markdown",
   "id": "dedf8e59-41ca-4821-b27f-c02d777204ef",
   "metadata": {
    "tags": []
   },
   "source": [
    "# Filtering feature sets based on prevalence\n",
    "\n",
    "The intended use of the feature sets is to support clinicians in identifying patients with complex mental health difficulties so that resources can be appropriately delivered. Without information like feature sets, the clinician’s expected accuracy in identifying patients with complex mental difficulties is 50% - a coin toss. Alternatively, with no other information, one could assume everyone has complex mental health difficulties or no one does. A balance must be struck between these extremes to facilitate optimal and appropriate use of healthcare resources that maximises benefit for the unidentified patients in need. Some boundaries can be defined for this purpose.\n",
    "\n",
    "The first boundary is that any useful feature set must not be more than 50% prevalent because although a greater prevalence might improve informativeness in the worst-case scenario, it would be at the cost of positive and negative predictive values in any scenario.\n",
    "\n",
    "The second boundary requires some analysis. If the caseness of complex mental health difficulties was a fundamental concept, then any useful feature set must be at least as prevalent as complex mental health difficulties because a lesser prevalence would, at best, disimprove informativeness and negative predictive value with no benefit to positive predictive value. However, the caseness of complex mental health difficulties is a composite of independent component criteria about records of medications and diagnoses. Specifically, it is the indicated by the presence of a diagnosis and then further qualified by the presence of a presciption within three months of our data extraction.\n",
    "\n",
    "Therefore, if we consider prevalence as a probability, the sentiment of the second boundary is better worded as \"any useful feature set must be at least as prevalent _as the least-prevalent combination of criterion diagnosis and medication_\". Practically, this equates to the product of the smallest condition and medication prevalence values.\n",
    "\n",
    "The prevalence of the component criteria diagnoses are available in our script calculating the prevalence of our definitive caseness variable for complex mental health difficulties. \n",
    "</br>\n",
    "</br>\n",
    "\n",
    "__*__ Note that for all arguments presented, we assume that the only signal of interest is the presence of the feature set rather than its absence because it is not possible to distinguish missingness from the genuine absence of a feature set (and each would provide different, indistinguishable information)."
   ]
  },
  {
   "cell_type": "code",
   "execution_count": 23,
   "id": "dff9d8ae-9cf2-4470-bcf2-3dad5af5b2ff",
   "metadata": {
    "tags": []
   },
   "outputs": [
    {
     "data": {
      "text/markdown": [
       "\n",
       "Running our script to calculate the prevalence of our caseness variable shows that\n",
       "no component diagnosis has a prevalence greater than $0.03\\%$. This sets the lower bound for feature-set prevalence.\n",
       "\n",
       "We conclude based on our arguments that a feature set prevalence must satisfy $0.03 \\le prevalence_{feature\\ set_{i}} \\le 0.5$,\n",
       "or $210 \\le count\\ of\\ patients_{feature\\ set_{i}} \\le 3,516$\n"
      ],
      "text/plain": [
       "<IPython.core.display.Markdown object>"
      ]
     },
     "metadata": {},
     "output_type": "display_data"
    }
   ],
   "source": [
    "\n",
    "# Refresh stored variables.\n",
    "%store -r\n",
    "\n",
    "# Check if the variables related to the caseness variables exist.\n",
    "if 'max_criterion_prev' not in globals():\n",
    "    %run ./\"UNSEEN_create_caseness_variables.ipynb\"\n",
    "\n",
    "# Display message.\n",
    "display(\n",
    "    Markdown(\"\"\"\n",
    "Running our script to calculate the prevalence of our caseness variable shows that\n",
    "no component diagnosis has a prevalence greater than $%s\\%%$. This sets the lower bound for feature-set prevalence.\n",
    "\n",
    "We conclude based on our arguments that a feature set prevalence must satisfy $%s \\le prevalence_{feature\\ set_{i}} \\le %s$,\n",
    "or $%s \\le count\\ of\\ patients_{feature\\ set_{i}} \\le %s$\n",
    "\"\"\"\n",
    "       %(min_criterion_prev,\n",
    "         min_criterion_prev,\n",
    "         max_criterion_prev,\n",
    "         f'{min_criterion_count:,}', \n",
    "         f'{max_criterion_count:,}' )\n",
    "       )\n",
    ")"
   ]
  }
 ],
 "metadata": {
  "environment": {
   "kernel": "python3",
   "name": "r-cpu.4-1.m95",
   "type": "gcloud",
   "uri": "gcr.io/deeplearning-platform-release/r-cpu.4-1:m95"
  },
  "kernelspec": {
   "display_name": "Python 3",
   "language": "python",
   "name": "python3"
  },
  "language_info": {
   "codemirror_mode": {
    "name": "ipython",
    "version": 3
   },
   "file_extension": ".py",
   "mimetype": "text/x-python",
   "name": "python",
   "nbconvert_exporter": "python",
   "pygments_lexer": "ipython3",
   "version": "3.7.12"
  }
 },
 "nbformat": 4,
 "nbformat_minor": 5
}
