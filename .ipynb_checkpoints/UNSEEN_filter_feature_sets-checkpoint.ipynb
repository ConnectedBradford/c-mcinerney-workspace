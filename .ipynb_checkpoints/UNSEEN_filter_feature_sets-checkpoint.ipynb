{
 "cells": [
  {
   "cell_type": "markdown",
   "id": "9e6d5d9a-a6b3-4471-82c7-317ece56bbfa",
   "metadata": {
    "tags": []
   },
   "source": [
    "# Filtering feature sets.\n",
    "Candidate feature sets are filtered based on their normalised mutual information with the various caseness variables.\n",
    "\n",
    "## Imports"
   ]
  },
  {
   "cell_type": "code",
   "execution_count": 79,
   "id": "b5e89744-b7fb-42f2-b718-503cdf46688c",
   "metadata": {
    "jupyter": {
     "source_hidden": true
    },
    "tags": []
   },
   "outputs": [],
   "source": [
    "%run 'UNSEEN_helper_functions.ipynb'\n",
    "%store -r"
   ]
  },
  {
   "cell_type": "markdown",
   "id": "3aca49ca-663c-4c1e-a330-e2e3966673ce",
   "metadata": {},
   "source": [
    "## Set parameters"
   ]
  },
  {
   "cell_type": "code",
   "execution_count": 2,
   "id": "c8e83b28-ce05-4c76-ad0a-e2c1e8cd4f34",
   "metadata": {
    "jupyter": {
     "source_hidden": true
    },
    "tags": []
   },
   "outputs": [],
   "source": [
    "# Order of feature sets, i.e. composed of individual features, pairs or triplets?\n",
    "ls_m = [1, 2, 3]\n",
    "# Type of representation of the feature set.\n",
    "ls_representation = ['all', 'multi']"
   ]
  },
  {
   "cell_type": "markdown",
   "id": "fc3c16ee-fa5b-46af-8f2f-f14f04b44c85",
   "metadata": {},
   "source": [
    "## Load the caseness variables"
   ]
  },
  {
   "cell_type": "code",
   "execution_count": 6,
   "id": "f085b218-7849-419d-848b-2d42afef00f4",
   "metadata": {
    "jupyter": {
     "source_hidden": true
    },
    "tags": []
   },
   "outputs": [],
   "source": [
    "%%capture\n",
    "%run ./\"UNSEEN create caseness variables.ipynb\""
   ]
  },
  {
   "cell_type": "markdown",
   "id": "007ebf61-5c60-455d-bbae-fc43740bcfa9",
   "metadata": {},
   "source": [
    "## Load feature-set arrays"
   ]
  },
  {
   "cell_type": "code",
   "execution_count": null,
   "id": "672ed3fd-a460-4234-8be6-bbbdb20ab764",
   "metadata": {
    "jupyter": {
     "source_hidden": true
    },
    "tags": []
   },
   "outputs": [],
   "source": [
    "%%capture\n",
    "if 'fs_database_possibleCaseness' not in globals():\n",
    "    %run ./\"UNSEEN_filter_database_feature_sets.ipynb\"\n",
    "    print(\"\\nDatabase feature set arrays loaded.\")\n",
    "if 'fs_clinician_possibleCaseness' not in globals():\n",
    "    %run ./\"UNSEEN_filter_database_feature_sets.ipynb\"\n",
    "    print(\"\\nClinician feature set arrays loaded.\")\n",
    "if 'fs_literature_possibleCaseness' not in globals():\n",
    "    %run ./\"UNSEEN_filter_database_feature_sets.ipynb\"\n",
    "    print(\"\\nLiterature feture set arrays loaded.\")\n",
    "if 'fs_interview_possibleCaseness' not in globals():\n",
    "    %run ./\"UNSEEN_filter_database_feature_sets.ipynb\"\n",
    "    print(\"\\nInterview feture set arrays loaded.\")\n",
    "#if 'fs_PPI_possibleCaseness' not in globals():\n",
    "#    %run ./\"UNSEEN_filter_database_feature_sets.ipynb\"\n",
    "#    print(\"\\nfPPI feture set arrays loaded.\")"
   ]
  },
  {
   "cell_type": "markdown",
   "id": "1d5965a6-ad7e-4359-8a1b-15c6db5c20c4",
   "metadata": {},
   "source": [
    "## Combine feature-set arrays from all sources"
   ]
  },
  {
   "cell_type": "markdown",
   "id": "c88b0787-8918-4dee-acfc-064105b357e0",
   "metadata": {},
   "source": [
    "#### 'Possible caseness'"
   ]
  },
  {
   "cell_type": "code",
   "execution_count": 1,
   "id": "a28f4eaa-9401-4255-b2dc-d4f9d35518e3",
   "metadata": {
    "jupyter": {
     "source_hidden": true
    },
    "tags": []
   },
   "outputs": [
    {
     "ename": "NameError",
     "evalue": "name 'fs_clinician_possibleCaseness' is not defined",
     "output_type": "error",
     "traceback": [
      "\u001b[0;31m---------------------------------------------------------------------------\u001b[0m",
      "\u001b[0;31mNameError\u001b[0m                                 Traceback (most recent call last)",
      "\u001b[0;32m/tmp/ipykernel_30758/3975641032.py\u001b[0m in \u001b[0;36m<module>\u001b[0;34m\u001b[0m\n\u001b[0;32m----> 1\u001b[0;31m \u001b[0mfs_clinician_possibleCaseness\u001b[0m\u001b[0;34m\u001b[0m\u001b[0;34m\u001b[0m\u001b[0m\n\u001b[0m",
      "\u001b[0;31mNameError\u001b[0m: name 'fs_clinician_possibleCaseness' is not defined"
     ]
    }
   ],
   "source": [
    "dfs = [\n",
    "    fs_database_possibleCaseness,\n",
    "    fs_clinician_possibleCaseness,\n",
    "    fs_literature_possibleCaseness,\n",
    "    fs_interview_possibleCasenss\n",
    "]\n",
    "fs_possibleCaseness = functools.reduce(lambda left, right: pandas.merge(left, right, on = 'person_id'), dfs)"
   ]
  },
  {
   "cell_type": "markdown",
   "id": "34941a22-415f-4a10-b71e-b6e52c3f7524",
   "metadata": {},
   "source": [
    "#### 'Definite caseness'"
   ]
  },
  {
   "cell_type": "code",
   "execution_count": 1,
   "id": "f741b611-cd7d-4b45-9270-2d4b25e10107",
   "metadata": {
    "jupyter": {
     "source_hidden": true
    },
    "tags": []
   },
   "outputs": [
    {
     "ename": "NameError",
     "evalue": "name 'fs_clinician_possibleCaseness' is not defined",
     "output_type": "error",
     "traceback": [
      "\u001b[0;31m---------------------------------------------------------------------------\u001b[0m",
      "\u001b[0;31mNameError\u001b[0m                                 Traceback (most recent call last)",
      "\u001b[0;32m/tmp/ipykernel_30758/3975641032.py\u001b[0m in \u001b[0;36m<module>\u001b[0;34m\u001b[0m\n\u001b[0;32m----> 1\u001b[0;31m \u001b[0mfs_clinician_possibleCaseness\u001b[0m\u001b[0;34m\u001b[0m\u001b[0;34m\u001b[0m\u001b[0m\n\u001b[0m",
      "\u001b[0;31mNameError\u001b[0m: name 'fs_clinician_possibleCaseness' is not defined"
     ]
    }
   ],
   "source": [
    "dfs = [\n",
    "    fs_database_definiteCaseness,\n",
    "    fs_clinician_definiteCaseness,\n",
    "    fs_literature_definiteCaseness,\n",
    "    fs_interview_definiteCasenss\n",
    "]\n",
    "fs_definiteCaseness = functools.reduce(lambda left, right: pandas.merge(left, right, on = 'person_id'), dfs)"
   ]
  },
  {
   "cell_type": "markdown",
   "id": "7d83e325-b27c-40b3-976f-54b2b628d011",
   "metadata": {},
   "source": [
    "#### 'Multinomial caseness'"
   ]
  },
  {
   "cell_type": "code",
   "execution_count": 1,
   "id": "e1d2537a-f3b2-4c23-92f7-086f435d344d",
   "metadata": {
    "jupyter": {
     "source_hidden": true
    },
    "tags": []
   },
   "outputs": [
    {
     "ename": "NameError",
     "evalue": "name 'fs_clinician_possibleCaseness' is not defined",
     "output_type": "error",
     "traceback": [
      "\u001b[0;31m---------------------------------------------------------------------------\u001b[0m",
      "\u001b[0;31mNameError\u001b[0m                                 Traceback (most recent call last)",
      "\u001b[0;32m/tmp/ipykernel_30758/3975641032.py\u001b[0m in \u001b[0;36m<module>\u001b[0;34m\u001b[0m\n\u001b[0;32m----> 1\u001b[0;31m \u001b[0mfs_clinician_possibleCaseness\u001b[0m\u001b[0;34m\u001b[0m\u001b[0;34m\u001b[0m\u001b[0m\n\u001b[0m",
      "\u001b[0;31mNameError\u001b[0m: name 'fs_clinician_possibleCaseness' is not defined"
     ]
    }
   ],
   "source": [
    "dfs = [\n",
    "    fs_database_multiCaseness,\n",
    "    fs_clinician_multiCaseness,\n",
    "    fs_literature_multiCaseness,\n",
    "    fs_interview_multiCasenss\n",
    "]\n",
    "fs_multiCaseness = functools.reduce(lambda left, right: pandas.merge(left, right, on = 'person_id'), dfs)"
   ]
  },
  {
   "cell_type": "markdown",
   "id": "67e6752e-c972-4937-85d6-a36bd3def4da",
   "metadata": {},
   "source": [
    "## Filter all feature sets"
   ]
  },
  {
   "cell_type": "markdown",
   "id": "4aabcdde-0e8a-4d65-a6ef-16712a28013c",
   "metadata": {
    "tags": []
   },
   "source": [
    "### 'Possible caseness'"
   ]
  },
  {
   "cell_type": "code",
   "execution_count": null,
   "id": "583ce477-e211-42ee-b4eb-467b8db7ca9e",
   "metadata": {
    "jupyter": {
     "source_hidden": true
    },
    "tags": []
   },
   "outputs": [],
   "source": [
    "for i_m in ls_m:\n",
    "    for i_representation in ls_representation:\n",
    "        featuresetmi(featureSet_array = fs_possibleCaseness,\n",
    "                     casenessVector = caseness_array[['person_id','CMHD_rx_not_dx']],\n",
    "                     m = m,\n",
    "                     representation = i_representation,\n",
    "                     source = 'combined')"
   ]
  },
  {
   "cell_type": "markdown",
   "id": "c486afbd-6b88-4215-8f0a-9c171f3acba4",
   "metadata": {
    "tags": []
   },
   "source": [
    "### 'Definite caseness'"
   ]
  },
  {
   "cell_type": "code",
   "execution_count": null,
   "id": "91321978-7b50-41b9-9ff6-c3201751c931",
   "metadata": {
    "jupyter": {
     "source_hidden": true
    },
    "tags": []
   },
   "outputs": [],
   "source": [
    "for i_m in ls_m:\n",
    "    for i_representation in ls_representation:\n",
    "        featuresetmi(featureSet_array = fs_definiteCaseness,\n",
    "                     casenessVector = caseness_array[['person_id','CMHD_dx_and_rx']],\n",
    "                     m = m,\n",
    "                     representation = i_representation,\n",
    "                     source = 'combined')"
   ]
  },
  {
   "cell_type": "markdown",
   "id": "39039dea-43b1-4a94-87f7-05ec73760ef9",
   "metadata": {
    "tags": []
   },
   "source": [
    "### 'Multinomial caseness'"
   ]
  },
  {
   "cell_type": "code",
   "execution_count": null,
   "id": "36748acb-2fcf-490d-a222-025816ba502f",
   "metadata": {
    "jupyter": {
     "source_hidden": true
    },
    "tags": []
   },
   "outputs": [],
   "source": [
    "for i_m in ls_m:\n",
    "    for i_representation in ls_representation:\n",
    "        featuresetmi(featureSet_array = fs_multiCaseness,\n",
    "                     casenessVector = caseness_array[['person_id','CMHD']],\n",
    "                     m = m,\n",
    "                     representation = i_representation,\n",
    "                     source = 'combined')"
   ]
  }
 ],
 "metadata": {
  "environment": {
   "kernel": "python3",
   "name": "r-cpu.4-1.m95",
   "type": "gcloud",
   "uri": "gcr.io/deeplearning-platform-release/r-cpu.4-1:m95"
  },
  "kernelspec": {
   "display_name": "Python 3",
   "language": "python",
   "name": "python3"
  },
  "language_info": {
   "codemirror_mode": {
    "name": "ipython",
    "version": 3
   },
   "file_extension": ".py",
   "mimetype": "text/x-python",
   "name": "python",
   "nbconvert_exporter": "python",
   "pygments_lexer": "ipython3",
   "version": "3.7.12"
  }
 },
 "nbformat": 4,
 "nbformat_minor": 5
}
