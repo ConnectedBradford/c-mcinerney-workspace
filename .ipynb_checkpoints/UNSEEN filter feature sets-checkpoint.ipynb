{
 "cells": [
  {
   "cell_type": "markdown",
   "id": "9e6d5d9a-a6b3-4471-82c7-317ece56bbfa",
   "metadata": {
    "tags": []
   },
   "source": [
    "# Filtering feature sets.\n",
    "\n",
    "Candidate feature sets are filtered based on their entropy. Should they demonstrate sufficient entropy, we calculate their mutual information with the 'active' and 'possible' caseness variables, for further review.\n",
    "\n",
    "The purpose of this script is to calculate the entropy and mutual information.\n",
    "\n",
    "This Jupyter notebook is intended to be called in other workbooks\n",
    "\n",
    "runs all notebooks that create the required\"UNSEEN database feature set array.IPYNB\" on which it depends, and \"UNSEEN create caseness array.IPYNB\" on which the feature-set Jupyter notebook depends.\n",
    "\n",
    "### Imports"
   ]
  },
  {
   "cell_type": "code",
   "execution_count": 1,
   "id": "a2e91e9e-05e9-466e-b6da-9743e8c41e6a",
   "metadata": {
    "tags": []
   },
   "outputs": [],
   "source": [
    "import itertools"
   ]
  },
  {
   "cell_type": "markdown",
   "id": "47159b04-f348-4084-ad6a-f698384b3979",
   "metadata": {},
   "source": [
    "## Prerequisites"
   ]
  },
  {
   "cell_type": "code",
   "execution_count": 2,
   "id": "00341cd4-abb5-4377-9edc-20832f80f759",
   "metadata": {
    "tags": []
   },
   "outputs": [],
   "source": [
    "%%capture\n",
    "%run ./\"UNSEEN create database feature sets.ipynb\""
   ]
  },
  {
   "cell_type": "code",
   "execution_count": 2,
   "id": "fc5206c3-bd00-4f11-bfb3-14c87b10f48d",
   "metadata": {
    "tags": []
   },
   "outputs": [],
   "source": [
    "%%capture\n",
    "%run ./\"UNSEEN create clinician feature sets.ipynb\""
   ]
  },
  {
   "cell_type": "code",
   "execution_count": 3,
   "id": "f085b218-7849-419d-848b-2d42afef00f4",
   "metadata": {},
   "outputs": [
    {
     "name": "stdout",
     "output_type": "stream",
     "text": [
      "Caseness variable entropy =  0.395 nats\n",
      "Caseness variable scaled entropy =  57.0 %\n",
      "Hit rate (all) = 13.5 %\n",
      "Hit rate (none) = 86.5 %\n",
      "Odds (No CMHD : CMHD) =  6.41 times less likely to have CMHD than to have it.\n"
     ]
    }
   ],
   "source": [
    "%%capture\n",
    "%run ./\"UNSEEN create caseness variables.ipynb\""
   ]
  },
  {
   "cell_type": "markdown",
   "id": "d2018413-fe48-40f4-bfec-196b6ff7da3f",
   "metadata": {},
   "source": [
    "## Prerequisites"
   ]
  },
  {
   "cell_type": "markdown",
   "id": "b7319adb-f1af-4489-84b8-ddfee2b637ac",
   "metadata": {
    "tags": []
   },
   "source": [
    "## Calculate the entropy and two-way mutual information of the feature sets and the caseness.\n",
    "\n",
    "Our focus is mutual information but I check the entropy of features so that I don't calculate the mutual information for any features whose entropy is less than that of the caseness variable. Justification for this action is based on the fact that the mutual information between the caseness variable and any feature will be less than or equal to the lesser entropy of the caseness or feature, i.e. $I(X_{i};CMHD) ≤ min\\{H(X_{i}), H(CMHD)\\}$. We don’t want any feature set that is worse than no feature set (i.e. having only the caseness prevalence to predict a random outcome value) so we don’t bother with any feature set that will lower the possible mutual information. Two-way mutual information* will not be calculated for those features whose entropy is less than the caseness variable's entropy. The dropped variables are indicated in the `f_to_drop` pandas.DataFrame.\n",
    "\n",
    "First, two-way mutual information will be calculated between the caseness variable and individual feature sets. Secondly, two-way mutual information will be calculated between the caseness variable and pair-composites of feature sets. These pair composites are individual feature sets that amalgamate two feature sets into a new binary definition, where values are `0` if both component feature sets are zero and `1` otherwise**. More-complicated encoding is possible, e.g. a different level for every combination of values from each component feature set. Further code extends these feature-set compositions up to quintuplet composites (i.e. amalgamating five feature sets into a single binary variable).\n",
    "\n",
    "<br/>\n",
    "<br/>\n",
    "\n",
    "__\\*__ _Initially, the plan was to use $k$-way mutual information for $k>2$ but the meaning of these mutual information values is controversial at best. I side with [Krippendorf's assessment](https://sci-hub.wf/10.1080/03081070902993160), which renders 3-way mutual information interpretable but not any higher-order mutual information statistics (yet?). I decided to stick with two-way mutual information using composite feature sets so that I am comparing the same statistic across individual and composite feature sets._\n",
    "\n",
    "__\\**__ _Other encodings will be trialled at a later date. If a feature set contains more than one feature, then it will be represented in three ways: OR, AND, and multinomial. The OR representation (alternative called the at-least-one representation) is a binary variable with a value of `0` if the component features are all zero, and `1` otherwise. The AND (alternative called the all-present representation) representation is a binary variable with a value of `1` if all component features are one, and `0` otherwise. The multinomial representation is a multinomial variable with values for each of the possible combinations of component features’ values. For example, given a feature set of two features $A=\\{0,1\\}$ and $B=\\{0,1\\}$, their multinomial feature-set representation would be $C=\\{0,1,2,3\\}$, where $C=0=(A=0\\   AND\\   B=0)$, $C=1=(A=0\\   AND\\   B=1)$, $C=2=(A=1\\  AND\\  B=0)$, and $C=3=(A=1\\   AND\\   B=1)$. The multinomial representation will only be applied to binary variables._"
   ]
  },
  {
   "cell_type": "markdown",
   "id": "6e64883f-6eab-4527-9ecc-75709b473c56",
   "metadata": {},
   "source": [
    "### Define a function to calculate the multinomial representation of a feature set."
   ]
  },
  {
   "cell_type": "code",
   "execution_count": 4,
   "id": "f7a66a26-c8d6-4ad8-8be6-ae0139a12aa5",
   "metadata": {
    "jupyter": {
     "source_hidden": true
    },
    "tags": []
   },
   "outputs": [],
   "source": [
    "# Define function that will calculate the multinomial\n",
    "# representation of a feature set.\n",
    "#\n",
    "# The function takes an n-by-m array of n patients and m features\n",
    "# and produces an n-by-1 array indicating the multinomial category\n",
    "# to which each patient record belongs.\n",
    "def mutlinomRepresentation(featureSet):\n",
    "    # Check that the variables have two or fewer values and\n",
    "    # only progress if True.\n",
    "    for i_col in range(var_vals.shape[1]-1):\n",
    "        unique_feature_vals = var_vals.iloc[:, i_col].drop_duplicates()\n",
    "        if (len(unique_feature_vals) > 2):\n",
    "            print(\"\\n** Error: At least one of the\",\n",
    "                  \"component features has more than\",\n",
    "                  \"two values so the multinomial\",\n",
    "                  \"representation will not be computed.**\\n\")\n",
    "            print(i_col, \"th variable:\", var_vals.columns.values[i_col])\n",
    "            unique_feature_vals\n",
    "            next_iter = True\n",
    "            return 0, next_iter\n",
    "\n",
    "    # Get all combinations of values of the component features\n",
    "    # and define feature set values for each multinomial combination.\n",
    "    feature_combins = var_vals.drop_duplicates()\n",
    "    feature_combins =\\\n",
    "        pandas.DataFrame(data = feature_combins, columns = var_vals.columns)\\\n",
    "        .reset_index()\\\n",
    "        .drop(['index'], axis = 1)\n",
    "    feature_combins['multinom_vals'] = feature_combins.index\n",
    "    \n",
    "    \n",
    "    # Define a vector indicating the feature set value.\n",
    "    myMerge =\\\n",
    "        pandas.merge(\n",
    "            var_vals,\n",
    "            feature_combins,\n",
    "            how = 'left',\n",
    "            on = list(var_vals.columns.values)\n",
    "    )\n",
    "    \n",
    "    # Extract multinomial representation as output variable.\n",
    "    featureSet = myMerge['multinom_vals']\n",
    "    next_iter = False\n",
    "    return featureSet, next_iter"
   ]
  },
  {
   "cell_type": "markdown",
   "id": "c9fc3752-c6d3-42d9-a5f0-9d80e8e2dbfd",
   "metadata": {},
   "source": [
    "### Define a function to calculate the mutual information between feature sets and the caseness variable."
   ]
  },
  {
   "cell_type": "code",
   "execution_count": 5,
   "id": "59330a6f-e936-4e96-b070-18e7116a14d4",
   "metadata": {
    "tags": []
   },
   "outputs": [],
   "source": [
    "# Define function that will calculate two-way mutual\n",
    "# information for the features of order m.\n",
    "def featuresetmi(featureArray,\n",
    "                 m = None,\n",
    "                 savelocation = None,\n",
    "                 representation = None):\n",
    "    # ## Assess argument validty.\n",
    "    \n",
    "    # Check order of feature set. If not provided,\n",
    "    # default to m = 1.    \n",
    "    if m == None:\n",
    "        order_int = 1\n",
    "        order_label = \"Individuals\"\n",
    "        print(\"\\nNo value for m provided.\" +\n",
    "              \"\\n...Default value of m = 1 will be used.\")\n",
    "    elif m == 1:\n",
    "        order_int = m\n",
    "        order_label = \"Individuals\"\n",
    "    elif m == 2:\n",
    "        order_int = m\n",
    "        order_label = \"Pairs\"\n",
    "    elif m == 3:\n",
    "        order_int = m\n",
    "        order_label = \"Triplets\"\n",
    "    else:\n",
    "        print(\"\\n** Error: Integer value between 1\",\n",
    "              \"3 not supplied for m.**\\n\")\n",
    "        return\n",
    "            \n",
    "    # Check and set save location.\n",
    "    if savelocation == None:\n",
    "        savelocation = \\\n",
    "           (\"Mutual information saves/\"+\\\n",
    "            order_label)\n",
    "        print(\"\\nNo save location provided.\" +\n",
    "              \"\\n...Defaulting to ~/\" + savelocation)    \n",
    "    \n",
    "    # ## Check encoding. If not provided, \n",
    "    # ## default to OR encoding.\n",
    "    if representation == None:\n",
    "        representation_label = \"ORrepresentation\"\n",
    "        print(\"\\nNo representation provided.\" +\n",
    "              \"\\n...Defaulting to '\" + representation_label + \"' representation.\")\n",
    "    elif representation == \"or\":\n",
    "        representation_label = \"ORrepresentation\"\n",
    "    elif representation == \"and\":\n",
    "        representation_label = \"ANDrepresentation\"\n",
    "    elif representation == \"multi\":\n",
    "        representation_label = \"MULTIrepresentation\"\n",
    "    else:\n",
    "        print(\"\\n** Error: Representation value from \",\n",
    "              \"{'or', 'and', 'multi'} not provided.**\\n\")\n",
    "        return\n",
    "\n",
    "    \n",
    "    \n",
    "    print(\"\\n\\n\\n****************************************\")  \n",
    "    print(\"Calculating mutual information values...\")\n",
    "    # Define the m-way tuples of features sets as a numpy array. We will loop\n",
    "    # through the rows of this array to create the feature sets.\n",
    "    combins = \\\n",
    "        numpy.asarray(\n",
    "            list(\n",
    "                itertools.combinations(\n",
    "                    featureSet_array.columns[featureSet_array.columns != 'person_id'],\n",
    "                    order_int)\n",
    "                )\n",
    "            )\n",
    "    # Instantiate specific storage for mutual information.\n",
    "    featureSet_MI = \\\n",
    "        pandas.DataFrame(columns = ['Feature set', 'Mutual information'])\n",
    "    # Instantiate batch number.\n",
    "    batch = 0\n",
    "    # Instantiate tally of feature sets that are dropped due to low entropy.\n",
    "    drop_tally = 0\n",
    "    \n",
    "    # ## loop through the feature sets.\n",
    "    for i_fs in range(len(combins)):\n",
    "                \n",
    "        # Define a vector indicating the feature set value.\n",
    "        var_vals = featureSet_array[combins[i_fs]]\n",
    "        if representation_label == \"ORrepresentation\":\n",
    "            fs_val = var_vals.any(True)\n",
    "        elif representation_label == \"ANDrepresentation\":\n",
    "            fs_val = var_vals.all(True)\n",
    "        elif representation_label == \"MULTIrepresentation\":\n",
    "            fs_val, next_iter = mutlinomRepresentation(var_vals)\n",
    "            if next_iter:\n",
    "                continue\n",
    "        \n",
    "        \n",
    "        # Calculate the mutual information for the feature set.\n",
    "        f_MI = sklearn.metrics.mutual_info_score(fs_val, caseness_array['CMHD'])\n",
    "\n",
    "        if f_MI < entropy_caseness:\n",
    "            drop_tally += 1\n",
    "            continue\n",
    "        else:\n",
    "            # Name the feature set.\n",
    "            # ...\n",
    "            # Store the name and mutual information value.\n",
    "            featureSet_MI.loc[len(featureSet_MI)] = name_var, f_MI\n",
    "\n",
    "        if len(featureSet_MI) > 9:\n",
    "                # Increment batch.\n",
    "                batch += 1\n",
    "\n",
    "                # Make an interim save of results.\n",
    "                featureSet_MI.to_csv(savelocation +\n",
    "                                  order_label + \"_\" +\n",
    "                                  representation_label + \"_\" +\n",
    "                                  \"_batch\" + \\\n",
    "                                  str(batch) + \\\n",
    "                                  \".csv\", index = False)\n",
    "                # Instantiate new storage.\n",
    "                featureSet_MI = \\\n",
    "                    pandas.DataFrame(columns = ['Feature set', 'Mutual information'])\n",
    "\n",
    "\n",
    "    # Increment counter.\n",
    "    batch += 1\n",
    "\n",
    "    # Final save.\n",
    "    if len(featureSet_MI) != 0:\n",
    "        featureSet_MI.to_csv(savelocation +\n",
    "                          order_label + \"_\" +\n",
    "                          representation_label + \"_\" +\n",
    "                          \"_batch\" + \\\n",
    "                          str(batch) + \\\n",
    "                          \".csv\", index = False)\n",
    "\n",
    "    # Feedback messages.\n",
    "    print(\"...\\n\")\n",
    "    print(str(batch), \"batch(es) of feature sets processed.\")\n",
    "    print(str(drop_tally), \"/\",\n",
    "          str(len(combins)),\n",
    "          \"feature sets dropped due to low entropy.\")\n",
    "    print(\"****************************************\")  "
   ]
  },
  {
   "cell_type": "markdown",
   "id": "592088df-e7ce-4941-a0ec-63e5b81fead2",
   "metadata": {},
   "source": [
    "### Mutual information of individual feature sets and the caseness variable."
   ]
  },
  {
   "cell_type": "markdown",
   "id": "6c2eb1b1-3ce7-48f2-853e-38a5c33e0d4b",
   "metadata": {},
   "source": [
    "##### OR representation."
   ]
  },
  {
   "cell_type": "code",
   "execution_count": 211,
   "id": "53645f7b-94a2-444a-aa32-57b5dc335b72",
   "metadata": {},
   "outputs": [
    {
     "name": "stdout",
     "output_type": "stream",
     "text": [
      "\n",
      "No save location provided.\n",
      "...Defaulting to ~/Mutual information saves/Individuals\n",
      "\n",
      "\n",
      "\n",
      "****************************************\n",
      "Calculating mutual information values...\n",
      "...\n",
      "\n",
      "1 batch(es) of feature sets processed.\n",
      "216 / 216 feature sets dropped due to low entropy.\n",
      "****************************************\n"
     ]
    }
   ],
   "source": [
    "featuresetmi(featureArray = featureSet_array,\n",
    "            m = 1,\n",
    "            representation = \"or\")"
   ]
  },
  {
   "cell_type": "markdown",
   "id": "aa49b33a-3dbb-43aa-89ad-497631a79b42",
   "metadata": {},
   "source": [
    "##### AND representation."
   ]
  },
  {
   "cell_type": "code",
   "execution_count": 212,
   "id": "3ca0a346-b3e1-41f6-82be-dbd93db528a8",
   "metadata": {},
   "outputs": [
    {
     "name": "stdout",
     "output_type": "stream",
     "text": [
      "\n",
      "No save location provided.\n",
      "...Defaulting to ~/Mutual information saves/Individuals\n",
      "\n",
      "\n",
      "\n",
      "****************************************\n",
      "Calculating mutual information values...\n",
      "...\n",
      "\n",
      "1 batch(es) of feature sets processed.\n",
      "216 / 216 feature sets dropped due to low entropy.\n",
      "****************************************\n"
     ]
    }
   ],
   "source": [
    "featuresetmi(featureArray = featureSet_array,\n",
    "            m = 1,\n",
    "            representation = \"and\")"
   ]
  },
  {
   "cell_type": "markdown",
   "id": "fc54a21f-5c4c-41d8-b94f-19441bc171ee",
   "metadata": {},
   "source": [
    "##### MULTI representation."
   ]
  },
  {
   "cell_type": "code",
   "execution_count": 278,
   "id": "58812e79-5a8f-44ee-b69c-59e234c9f1e5",
   "metadata": {},
   "outputs": [
    {
     "name": "stdout",
     "output_type": "stream",
     "text": [
      "\n",
      "No save location provided.\n",
      "...Defaulting to ~/Mutual information saves/Individuals\n",
      "\n",
      "\n",
      "\n",
      "****************************************\n",
      "Calculating mutual information values...\n",
      "...\n",
      "\n",
      "1 batch(es) of feature sets processed.\n",
      "216 / 216 feature sets dropped due to low entropy.\n",
      "****************************************\n"
     ]
    }
   ],
   "source": [
    "featuresetmi(featureArray = featureSet_array,\n",
    "            m = 1,\n",
    "            representation = \"multi\")"
   ]
  },
  {
   "cell_type": "markdown",
   "id": "98143cb2-17a8-4712-a00e-14038338a1a8",
   "metadata": {
    "tags": []
   },
   "source": [
    "### Mutual information of pair-composite feature sets and the caseness variable."
   ]
  },
  {
   "cell_type": "markdown",
   "id": "082655b1-02d0-4aaa-8343-72a2ee59dd40",
   "metadata": {},
   "source": [
    "##### OR representation."
   ]
  },
  {
   "cell_type": "code",
   "execution_count": 279,
   "id": "a74b781a-eede-4b80-9acb-9261cf5598fa",
   "metadata": {
    "tags": []
   },
   "outputs": [
    {
     "name": "stdout",
     "output_type": "stream",
     "text": [
      "\n",
      "No save location provided.\n",
      "...Defaulting to ~/Mutual information saves/Pairs\n",
      "\n",
      "\n",
      "\n",
      "****************************************\n",
      "Calculating mutual information values...\n",
      "...\n",
      "\n",
      "1 batch(es) of feature sets processed.\n",
      "23220 / 23220 feature sets dropped due to low entropy.\n",
      "****************************************\n"
     ]
    }
   ],
   "source": [
    "featuresetmi(featureArray = featureSet_array,\n",
    "            m = 2,\n",
    "            representation = \"or\")"
   ]
  },
  {
   "cell_type": "markdown",
   "id": "7c1476bf-66f1-4f77-b3ae-1127c803685e",
   "metadata": {},
   "source": [
    "##### AND representation."
   ]
  },
  {
   "cell_type": "code",
   "execution_count": 7,
   "id": "9b7b7373-25ad-4348-9df6-90573727cb97",
   "metadata": {
    "tags": []
   },
   "outputs": [
    {
     "name": "stdout",
     "output_type": "stream",
     "text": [
      "\n",
      "No save location provided.\n",
      "...Defaulting to ~/Mutual information saves/Pairs\n",
      "\n",
      "\n",
      "\n",
      "****************************************\n",
      "Calculating mutual information values...\n",
      "...\n",
      "\n",
      "1 batch(es) of feature sets processed.\n",
      "23220 / 23220 feature sets dropped due to low entropy.\n",
      "****************************************\n"
     ]
    }
   ],
   "source": [
    "featuresetmi(featureArray = featureSet_array,\n",
    "            m = 2,\n",
    "            representation = \"and\")"
   ]
  },
  {
   "cell_type": "markdown",
   "id": "ec5b9229-137f-4111-b8e4-9208d7cfc2d8",
   "metadata": {},
   "source": [
    "##### MULTI representation."
   ]
  },
  {
   "cell_type": "code",
   "execution_count": 8,
   "id": "751f8fc6-b3c9-4580-8e07-64afc336a05d",
   "metadata": {
    "tags": []
   },
   "outputs": [
    {
     "name": "stdout",
     "output_type": "stream",
     "text": [
      "\n",
      "No save location provided.\n",
      "...Defaulting to ~/Mutual information saves/Pairs\n",
      "\n",
      "\n",
      "\n",
      "****************************************\n",
      "Calculating mutual information values...\n"
     ]
    },
    {
     "ename": "NameError",
     "evalue": "name 'var_vals' is not defined",
     "output_type": "error",
     "traceback": [
      "\u001b[0;31m---------------------------------------------------------------------------\u001b[0m",
      "\u001b[0;31mNameError\u001b[0m                                 Traceback (most recent call last)",
      "\u001b[0;32m/tmp/ipykernel_2142/1788348830.py\u001b[0m in \u001b[0;36m<module>\u001b[0;34m\u001b[0m\n\u001b[1;32m      1\u001b[0m featuresetmi(featureArray = featureSet_array,\n\u001b[1;32m      2\u001b[0m             \u001b[0mm\u001b[0m \u001b[0;34m=\u001b[0m \u001b[0;36m2\u001b[0m\u001b[0;34m,\u001b[0m\u001b[0;34m\u001b[0m\u001b[0;34m\u001b[0m\u001b[0m\n\u001b[0;32m----> 3\u001b[0;31m             representation = \"multi\")\n\u001b[0m",
      "\u001b[0;32m/tmp/ipykernel_2142/2289686533.py\u001b[0m in \u001b[0;36mfeaturesetmi\u001b[0;34m(featureArray, m, savelocation, representation)\u001b[0m\n\u001b[1;32m     85\u001b[0m             \u001b[0mfs_val\u001b[0m \u001b[0;34m=\u001b[0m \u001b[0mvar_vals\u001b[0m\u001b[0;34m.\u001b[0m\u001b[0mall\u001b[0m\u001b[0;34m(\u001b[0m\u001b[0;32mTrue\u001b[0m\u001b[0;34m)\u001b[0m\u001b[0;34m\u001b[0m\u001b[0;34m\u001b[0m\u001b[0m\n\u001b[1;32m     86\u001b[0m         \u001b[0;32melif\u001b[0m \u001b[0mrepresentation_label\u001b[0m \u001b[0;34m==\u001b[0m \u001b[0;34m\"MULTIrepresentation\"\u001b[0m\u001b[0;34m:\u001b[0m\u001b[0;34m\u001b[0m\u001b[0;34m\u001b[0m\u001b[0m\n\u001b[0;32m---> 87\u001b[0;31m             \u001b[0mfs_val\u001b[0m\u001b[0;34m,\u001b[0m \u001b[0mnext_iter\u001b[0m \u001b[0;34m=\u001b[0m \u001b[0mmutlinomRepresentation\u001b[0m\u001b[0;34m(\u001b[0m\u001b[0mvar_vals\u001b[0m\u001b[0;34m)\u001b[0m\u001b[0;34m\u001b[0m\u001b[0;34m\u001b[0m\u001b[0m\n\u001b[0m\u001b[1;32m     88\u001b[0m             \u001b[0;32mif\u001b[0m \u001b[0mnext_iter\u001b[0m\u001b[0;34m:\u001b[0m\u001b[0;34m\u001b[0m\u001b[0;34m\u001b[0m\u001b[0m\n\u001b[1;32m     89\u001b[0m                 \u001b[0;32mcontinue\u001b[0m\u001b[0;34m\u001b[0m\u001b[0;34m\u001b[0m\u001b[0m\n",
      "\u001b[0;32m/tmp/ipykernel_2142/822331963.py\u001b[0m in \u001b[0;36mmutlinomRepresentation\u001b[0;34m(featureSet)\u001b[0m\n\u001b[1;32m      8\u001b[0m     \u001b[0;31m# Check that the variables have two or fewer values and\u001b[0m\u001b[0;34m\u001b[0m\u001b[0;34m\u001b[0m\u001b[0;34m\u001b[0m\u001b[0m\n\u001b[1;32m      9\u001b[0m     \u001b[0;31m# only progress if True.\u001b[0m\u001b[0;34m\u001b[0m\u001b[0;34m\u001b[0m\u001b[0;34m\u001b[0m\u001b[0m\n\u001b[0;32m---> 10\u001b[0;31m     \u001b[0;32mfor\u001b[0m \u001b[0mi_col\u001b[0m \u001b[0;32min\u001b[0m \u001b[0mrange\u001b[0m\u001b[0;34m(\u001b[0m\u001b[0mvar_vals\u001b[0m\u001b[0;34m.\u001b[0m\u001b[0mshape\u001b[0m\u001b[0;34m[\u001b[0m\u001b[0;36m1\u001b[0m\u001b[0;34m]\u001b[0m\u001b[0;34m-\u001b[0m\u001b[0;36m1\u001b[0m\u001b[0;34m)\u001b[0m\u001b[0;34m:\u001b[0m\u001b[0;34m\u001b[0m\u001b[0;34m\u001b[0m\u001b[0m\n\u001b[0m\u001b[1;32m     11\u001b[0m         \u001b[0munique_feature_vals\u001b[0m \u001b[0;34m=\u001b[0m \u001b[0mvar_vals\u001b[0m\u001b[0;34m.\u001b[0m\u001b[0miloc\u001b[0m\u001b[0;34m[\u001b[0m\u001b[0;34m:\u001b[0m\u001b[0;34m,\u001b[0m \u001b[0mi_col\u001b[0m\u001b[0;34m]\u001b[0m\u001b[0;34m.\u001b[0m\u001b[0mdrop_duplicates\u001b[0m\u001b[0;34m(\u001b[0m\u001b[0;34m)\u001b[0m\u001b[0;34m\u001b[0m\u001b[0;34m\u001b[0m\u001b[0m\n\u001b[1;32m     12\u001b[0m         \u001b[0;32mif\u001b[0m \u001b[0;34m(\u001b[0m\u001b[0mlen\u001b[0m\u001b[0;34m(\u001b[0m\u001b[0munique_feature_vals\u001b[0m\u001b[0;34m)\u001b[0m \u001b[0;34m>\u001b[0m \u001b[0;36m2\u001b[0m\u001b[0;34m)\u001b[0m\u001b[0;34m:\u001b[0m\u001b[0;34m\u001b[0m\u001b[0;34m\u001b[0m\u001b[0m\n",
      "\u001b[0;31mNameError\u001b[0m: name 'var_vals' is not defined"
     ]
    }
   ],
   "source": [
    "featuresetmi(featureArray = featureSet_array,\n",
    "            m = 2,\n",
    "            representation = \"multi\")"
   ]
  },
  {
   "cell_type": "markdown",
   "id": "68ca3628-3e07-408c-81b8-2ca72c513c2d",
   "metadata": {
    "tags": []
   },
   "source": [
    "### Mutual information of triplet-composite feature sets and the caseness variable."
   ]
  },
  {
   "cell_type": "markdown",
   "id": "3454f0f6-9219-4b41-a90b-7fd922825d5e",
   "metadata": {},
   "source": [
    "##### OR representation."
   ]
  },
  {
   "cell_type": "code",
   "execution_count": null,
   "id": "ff6afdc2-8ea2-4f62-ac03-267bd53c1e27",
   "metadata": {
    "tags": []
   },
   "outputs": [
    {
     "name": "stdout",
     "output_type": "stream",
     "text": [
      "\n",
      "No save location provided.\n",
      "...Defaulting to ~/Mutual information saves/Triplets\n",
      "\n",
      "\n",
      "\n",
      "****************************************\n",
      "Calculating mutual information values...\n"
     ]
    }
   ],
   "source": [
    "featuresetmi(featureArray = featureSet_array,\n",
    "            m = 3,\n",
    "            representation = \"or\")"
   ]
  },
  {
   "cell_type": "markdown",
   "id": "9fe5f5a8-a461-41a3-83d1-39661fd0a298",
   "metadata": {},
   "source": [
    "##### AND representation."
   ]
  },
  {
   "cell_type": "code",
   "execution_count": null,
   "id": "0c766069-9f7f-4c70-8b5c-44644675945b",
   "metadata": {
    "tags": []
   },
   "outputs": [],
   "source": [
    "featuresetmi(featureArray = featureSet_array,\n",
    "            m = 3,\n",
    "            representation = \"and\")"
   ]
  },
  {
   "cell_type": "markdown",
   "id": "f099663a-e0bd-4550-b033-90045517e213",
   "metadata": {},
   "source": [
    "##### MULTI representation."
   ]
  },
  {
   "cell_type": "code",
   "execution_count": null,
   "id": "4200598c-1d8e-4740-af9f-44ef30731d96",
   "metadata": {
    "tags": []
   },
   "outputs": [
    {
     "name": "stdout",
     "output_type": "stream",
     "text": [
      "\n",
      "No save location provided.\n",
      "...Defaulting to ~/Mutual information saves/Triplets\n",
      "\n",
      "\n",
      "\n",
      "****************************************\n",
      "Calculating mutual information values...\n"
     ]
    }
   ],
   "source": [
    "featuresetmi(featureArray = featureSet_array,\n",
    "            m = 3,\n",
    "            representation = \"multi\")"
   ]
  },
  {
   "cell_type": "markdown",
   "id": "cc764b31-a1d0-4ede-8d7a-1b09b0dcc03e",
   "metadata": {},
   "source": [
    "# Initial results\n",
    "\n",
    "__\\*__ _Note: these initial results were calculated using a previous version of the script where the mutual information of all feature sets was saved. This approach was dropped in favour of only saving mutual information values for feature sets whose mutual information with the caseness variable is greater than the entropy of the caseness variable._\n",
    "<br/><br/><br/>\n",
    "\n",
    "All individual feature sets score very low for two-way mutual information: all less than 0.05. A $I_{2}=0.05$ represents 7.9% of the theoretical maximal situatons where the feature set either _exactly is_ the caseness variable or _is exactly not_ the variable. The top five individal feature sets (which have $I_{2}≥0.033$) are defined as having at least one recording of the following SNOMED CT codes in their primary-care electronic health records:\n",
    "\n",
    "| SNOMED code | Feature set | Topic | Mutual Information | Scaled mutual information | Odds ratio | P(CMHD given X=1) | P(CMHD given X=0) |\n",
    "| ----------- | ----------- | ----- | ------------------ | ------------------------- | ---------- | ----------------- | ----------------- |\n",
    "| 314530002 | Medication review done | Medication | ~0.055 | 7.9% | 8.5 | 4.1 | 26.8 |\n",
    "| 182888003 | Medication requested  | Medication | ~0.035 | 5.0% | 4.9 | 7.9 | 29.5 |\n",
    "| 1018251000000107 | Serum alanine aminotransferase level (observable entity) | Liver test | ~0.033 | 4.7% | 5.5 | 4.7 | 21.6 |\n",
    "| 1000621000000104 | Serum alkaline phosphatase level | Liver test | ~0.033 | 4.7% | 5.5 | 4.7 | 21.5 |\n",
    "| 1022791000000101 | TSH (thyroid stimulating hormone) level | Endocrine | ~0.033 | 4.7% | 5.0 | 5.4 | 22.5 |\n",
    "\n",
    "The paradoxes of commonly-reported classification statistics are clearly shown. A medication _review_ has the largest odds ratio but the probability of having a record of the caseness variable given that medication was _requested_ is higher. One might propose that a record of a medication request is a better indicator than a record of a medication review, if they prefer the probability statistic over the odds-ratio statistic. But when we look at the probability of the caseness variable given that there is _no_ record of medication being requested, we see that this is also the largest of the top five feature sets! The odds ratio tries to balance these ambiguous probability statistics but it is, therefore, harder to interpret. Note, the odds ratio for a record of a medication _review_ scores better than for a record of medication _request_ because the distinction between the ambiguous probabilities is greater (multiplicatively).\n",
    "\n",
    "The scaled mutual information is simply a percentage measure of how much the caseness variable is described by the feature set (in terms of information). Unlike the odds ratio, it will give the same value whether the odds are multiplicatively greater or less than equal - e.g. $I_{2}$ will be the same for $OR = 4.0$ and $OR = 0.25$  - so it only measures magnitude of association."
   ]
  }
 ],
 "metadata": {
  "environment": {
   "kernel": "python3",
   "name": "r-cpu.4-1.m95",
   "type": "gcloud",
   "uri": "gcr.io/deeplearning-platform-release/r-cpu.4-1:m95"
  },
  "kernelspec": {
   "display_name": "Python 3",
   "language": "python",
   "name": "python3"
  },
  "language_info": {
   "codemirror_mode": {
    "name": "ipython",
    "version": 3
   },
   "file_extension": ".py",
   "mimetype": "text/x-python",
   "name": "python",
   "nbconvert_exporter": "python",
   "pygments_lexer": "ipython3",
   "version": "3.7.12"
  }
 },
 "nbformat": 4,
 "nbformat_minor": 5
}
