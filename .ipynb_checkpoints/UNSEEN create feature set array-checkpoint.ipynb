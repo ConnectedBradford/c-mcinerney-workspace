{
 "cells": [
  {
   "cell_type": "markdown",
   "id": "c3cf206f-210d-44e7-98ab-f8fa95970380",
   "metadata": {
    "tags": []
   },
   "source": [
    "# Feature-set array\n",
    "\n",
    "The purpose of this notebook is to produce the initial feature-set array. The initial feature set-array is an n-by-p array containing patient ID and categorical vectors for each feature indicating which level of the feature the patient is recorded to have expressed.\n",
    "\n",
    "### Imports"
   ]
  },
  {
   "cell_type": "code",
   "execution_count": 1,
   "id": "e31d250f-954f-4721-bcb3-82b3df071694",
   "metadata": {
    "tags": []
   },
   "outputs": [],
   "source": [
    "import pandas\n",
    "import numpy\n",
    "from google.cloud import bigquery\n",
    "from datetime import date\n",
    "import scipy.stats\n",
    "import math\n",
    "import sklearn.metrics\n",
    "\n",
    "# Instantiate the BigQuery client.\n",
    "client = bigquery.Client()"
   ]
  },
  {
   "cell_type": "markdown",
   "id": "cf5babb7-2224-4348-a5bf-471273d8e230",
   "metadata": {
    "tags": []
   },
   "source": [
    "## Which feature sets to start with?\n",
    "The initial feature sets will be individual SNOMED CT codes found in the Connected Bradford primary care table. But many SNOMED CT codes are infrequently used so they will not be able to provide any information about our caseness variable (i.e. complex mental health difficulties).\n",
    "\n",
    "The table outputted below shows the count of unique SNOMED CT codes that occur within a selection of ranges from $<10$ to $>10,000,000$ by factors of 10."
   ]
  },
  {
   "cell_type": "code",
   "execution_count": 2,
   "id": "089b7cb6-957f-4845-8f26-6f1d446a8912",
   "metadata": {
    "collapsed": true,
    "jupyter": {
     "outputs_hidden": true
    },
    "tags": []
   },
   "outputs": [
    {
     "data": {
      "text/html": [
       "<div>\n",
       "<style scoped>\n",
       "    .dataframe tbody tr th:only-of-type {\n",
       "        vertical-align: middle;\n",
       "    }\n",
       "\n",
       "    .dataframe tbody tr th {\n",
       "        vertical-align: top;\n",
       "    }\n",
       "\n",
       "    .dataframe thead th {\n",
       "        text-align: right;\n",
       "    }\n",
       "</style>\n",
       "<table border=\"1\" class=\"dataframe\">\n",
       "  <thead>\n",
       "    <tr style=\"text-align: right;\">\n",
       "      <th></th>\n",
       "      <th>Count_category</th>\n",
       "      <th>Count_of_occurences</th>\n",
       "    </tr>\n",
       "  </thead>\n",
       "  <tbody>\n",
       "    <tr>\n",
       "      <th>0</th>\n",
       "      <td>&lt;10</td>\n",
       "      <td>38831</td>\n",
       "    </tr>\n",
       "    <tr>\n",
       "      <th>1</th>\n",
       "      <td>10 =&lt; code &lt; 100</td>\n",
       "      <td>25977</td>\n",
       "    </tr>\n",
       "    <tr>\n",
       "      <th>2</th>\n",
       "      <td>100 =&lt; code &lt; 1,000</td>\n",
       "      <td>15262</td>\n",
       "    </tr>\n",
       "    <tr>\n",
       "      <th>3</th>\n",
       "      <td>1,000 =&lt; code &lt; 10,000</td>\n",
       "      <td>7678</td>\n",
       "    </tr>\n",
       "    <tr>\n",
       "      <th>4</th>\n",
       "      <td>10,000 =&lt; code &lt; 100,000</td>\n",
       "      <td>2975</td>\n",
       "    </tr>\n",
       "    <tr>\n",
       "      <th>5</th>\n",
       "      <td>100,000 =&lt; code &lt; 1,000,000</td>\n",
       "      <td>538</td>\n",
       "    </tr>\n",
       "    <tr>\n",
       "      <th>6</th>\n",
       "      <td>1,000,000 =&lt; code &lt; 10,000,000</td>\n",
       "      <td>94</td>\n",
       "    </tr>\n",
       "    <tr>\n",
       "      <th>7</th>\n",
       "      <td>code &gt;= 10,000,000</td>\n",
       "      <td>2</td>\n",
       "    </tr>\n",
       "  </tbody>\n",
       "</table>\n",
       "</div>"
      ],
      "text/plain": [
       "                   Count_category  Count_of_occurences\n",
       "0                             <10                38831\n",
       "1                10 =< code < 100                25977\n",
       "2             100 =< code < 1,000                15262\n",
       "3          1,000 =< code < 10,000                 7678\n",
       "4        10,000 =< code < 100,000                 2975\n",
       "5     100,000 =< code < 1,000,000                  538\n",
       "6  1,000,000 =< code < 10,000,000                   94\n",
       "7              code >= 10,000,000                    2"
      ]
     },
     "execution_count": 2,
     "metadata": {},
     "output_type": "execute_result"
    }
   ],
   "source": [
    "sql = \"\"\"\n",
    "WITH\n",
    "tbl AS\n",
    "(\n",
    "SELECT\n",
    "  DISTINCT src_snomedcode\n",
    "  ,CASE\n",
    "    WHEN COUNT(src_snomedcode) < 10 THEN \"<10\"\n",
    "    WHEN COUNT(src_snomedcode) < 100 THEN \"10 =< code < 100\"\n",
    "    WHEN COUNT(src_snomedcode) < 1000 THEN \"100 =< code < 1,000\"\n",
    "    WHEN COUNT(src_snomedcode) < 10000 THEN \"1,000 =< code < 10,000\"\n",
    "    WHEN COUNT(src_snomedcode) < 100000 THEN \"10,000 =< code < 100,000\"\n",
    "    WHEN COUNT(src_snomedcode) < 1000000 THEN \"100,000 =< code < 1,000,000\"\n",
    "    WHEN COUNT(src_snomedcode) < 10000000 THEN \"1,000,000 =< code < 10,000,000\"\n",
    "    WHEN COUNT(src_snomedcode) >= 10000000 THEN \"code >= 10,000,000\"\n",
    "  END AS cnt_SNOMED\n",
    "FROM `yhcr-prd-phm-bia-core.CY_FDM_PrimaryCare_v5.tbl_SRCode`\n",
    "GROUP BY src_snomedcode\n",
    ")\n",
    "\n",
    "SELECT\n",
    "  DISTINCT cnt_SNOMED AS Count_category\n",
    "  ,COUNT(cnt_SNOMED) AS Count_of_occurences\n",
    "FROM tbl\n",
    "GROUP BY cnt_SNOMED\n",
    "ORDER BY Count_of_occurences DESC\n",
    "\"\"\"\n",
    "bqTable = client.query(sql).to_dataframe()\n",
    "bqTable"
   ]
  },
  {
   "cell_type": "markdown",
   "id": "c4b3e28a-68a9-4bf8-a9e7-c54255dddf4c",
   "metadata": {
    "tags": []
   },
   "source": [
    "The table shows that most SNOMED CT codes are infrequently coded. We also know that the prevalence of CMHD in the sample is 13.7%. If we assume that the only signal of interest is from the _presence_ of a clinical code rather than its absence*, then the minimum odds ratio for a given feature can only occur if a) the prevalence (or 1 - the prevalence) is 50%, and b) the instances of the feature are evenly distributed throughout the levels of the caseness variable. Taking the first criterion only, this means we would need at least $0.5\\times n_{sample}$ instances of a SNOMED CT, and assume that each instance occurrs for each patient only once. Given that $n_{sample}\\approx 699,620$, this requires that for clinical codes to be of any use, the need to occurr at least $349,810$ times. By this logic, only the codes in categories 5', 6 and 7 should be taken forward for further study, where 5' is an updated category defined by $349,810 \\le code < 1,000,000$. This logic is followed while acknowledging that $349,810$ is a necessary but not sufficient minimum occurence of a SNOMED CT code in the sample.\n",
    "\n",
    "The final count of unique SNOMED CT codes that will be carried forward for study, `Count_of_codes`, is provided below.\n",
    "<br/><br/><br/>\n",
    "\n",
    "*I think I am justified in assuming that the presence of a clinical code is more information than its absence because so many SNOMED CT codes are not used that distinguishing relevant from irrelevant absences is overly burdensome. Based on the counts shown in the table above, our sample cohort demonstrate only approximately a quarter of the $352,567$ SNOMED CT codes."
   ]
  },
  {
   "cell_type": "code",
   "execution_count": 3,
   "id": "12cff86a-2235-4da4-8790-98336e58feb1",
   "metadata": {
    "tags": []
   },
   "outputs": [
    {
     "data": {
      "text/html": [
       "<div>\n",
       "<style scoped>\n",
       "    .dataframe tbody tr th:only-of-type {\n",
       "        vertical-align: middle;\n",
       "    }\n",
       "\n",
       "    .dataframe tbody tr th {\n",
       "        vertical-align: top;\n",
       "    }\n",
       "\n",
       "    .dataframe thead th {\n",
       "        text-align: right;\n",
       "    }\n",
       "</style>\n",
       "<table border=\"1\" class=\"dataframe\">\n",
       "  <thead>\n",
       "    <tr style=\"text-align: right;\">\n",
       "      <th></th>\n",
       "      <th>Count_of_codes</th>\n",
       "    </tr>\n",
       "  </thead>\n",
       "  <tbody>\n",
       "    <tr>\n",
       "      <th>0</th>\n",
       "      <td>216</td>\n",
       "    </tr>\n",
       "  </tbody>\n",
       "</table>\n",
       "</div>"
      ],
      "text/plain": [
       "   Count_of_codes\n",
       "0             216"
      ]
     },
     "execution_count": 3,
     "metadata": {},
     "output_type": "execute_result"
    }
   ],
   "source": [
    "sql = \"\"\"\n",
    "WITH\n",
    "tbl AS\n",
    "(\n",
    "SELECT\n",
    "    DISTINCT src_snomedcode\n",
    "    ,COUNT(src_snomedcode) AS cnt_code\n",
    "FROM `yhcr-prd-phm-bia-core.CY_FDM_PrimaryCare_v5.tbl_SRCode`\n",
    "GROUP BY src_snomedcode\n",
    ")\n",
    "\n",
    "\n",
    "SELECT\n",
    "  COUNT(src_snomedcode) AS Count_of_codes\n",
    "FROM tbl\n",
    "WHERE\n",
    "    cnt_code >= 349810\n",
    "\"\"\"\n",
    "bqTable = client.query(sql).to_dataframe()\n",
    "bqTable"
   ]
  },
  {
   "cell_type": "markdown",
   "id": "f617e365-6083-4551-8d03-7010da33b1aa",
   "metadata": {},
   "source": [
    "## Creating the initial feature-set array\n",
    "\n",
    "To produce the initial feature-set array, we need to define the list of unique SNOMED CT codes and check whether each patient has that code in their primary care record. The code below produces an n-by-p array where each column contains the count of times that a code is recorded for a given patient."
   ]
  },
  {
   "cell_type": "code",
   "execution_count": 3,
   "id": "29108508-195c-437c-986a-6622fafa1e9a",
   "metadata": {
    "tags": []
   },
   "outputs": [],
   "source": [
    "# I'm thankful for the following stackoverflow thread about pivot queries:\n",
    "# https://stackoverflow.com/questions/50293482/how-to-create-crosstab-with-two-field-in-bigquery-with-standart-or-legacy-sql.\n",
    "\n",
    "sql_with = \"\"\"\n",
    "WITH\n",
    "tbl_persons AS\n",
    "(\n",
    "SELECT\n",
    "    DISTINCT person_id\n",
    "FROM\n",
    "    yhcr-prd-phm-bia-core.CY_MYSPACE_CMC.person\n",
    "# Limiting to age range 18-70.\n",
    "WHERE\n",
    "    (EXTRACT(YEAR FROM CURRENT_DATE()) - year_of_birth) BETWEEN 18 AND 70\n",
    ")\n",
    ",tbl_codes_and_count AS\n",
    "(\n",
    "SELECT\n",
    "    DISTINCT src_snomedcode\n",
    "    ,COUNT(src_snomedcode) AS cnt_code\n",
    "FROM `yhcr-prd-phm-bia-core.CY_FDM_PrimaryCare_v5.tbl_SRCode`\n",
    "GROUP BY src_snomedcode\n",
    ")\n",
    ",tbl_codes_of_interest AS\n",
    "(\n",
    "SELECT\n",
    "  src_snomedcode AS SNOMEDcode\n",
    "FROM tbl_codes_and_count\n",
    "WHERE\n",
    "    cnt_code >= (SELECT COUNT(person_id)/2 FROM tbl_persons)\n",
    "    # This justification for this filter is described in the\n",
    "    # previous part of the Jupyter notebook.\n",
    ")\n",
    ",tbl_persons_and_codes AS\n",
    "(\n",
    "SELECT\n",
    "    tbl_persons.person_id\n",
    "    ,tbl_codes.src_snomedcode\n",
    "FROM \n",
    "    tbl_persons\n",
    "LEFT JOIN\n",
    "    yhcr-prd-phm-bia-core.CY_FDM_PrimaryCare_v5.tbl_SRCode AS tbl_codes\n",
    "ON\n",
    "    tbl_persons.person_id = tbl_codes.person_id\n",
    ")\n",
    ",tbl_persons_codes_of_interest AS\n",
    "(\n",
    "SELECT\n",
    "  tbl_persons_and_codes.person_id\n",
    "  ,tbl_codes_of_interest.SNOMEDcode\n",
    "FROM\n",
    "  tbl_persons_and_codes\n",
    "LEFT JOIN\n",
    "  tbl_codes_of_interest\n",
    "ON \n",
    "  tbl_codes_of_interest.SNOMEDcode = tbl_persons_and_codes.src_snomedcode\n",
    ")\n",
    "\"\"\"\n",
    "sql_pivot = \"\"\"\n",
    "SELECT\n",
    "    CONCAT(\"SELECT person_id,\", STRING_AGG(CONCAT(\"COUNTIF(SNOMEDcode='\",SNOMEDcode,\"') AS `_\",SNOMEDcode,\"`\")), \n",
    "        \" FROM `tbl_persons_codes_of_interest`\",\n",
    "        \" GROUP BY person_id ORDER BY person_id\")\n",
    "FROM (  SELECT DISTINCT SNOMEDcode FROM `tbl_persons_codes_of_interest` ORDER BY SNOMEDcode  )\n",
    "\"\"\"\n",
    "\n",
    "sql = client.query(sql_with + sql_pivot).to_dataframe()['f0_'].iloc[0]\n",
    "featureSet_array = client.query(sql_with + sql).to_dataframe()"
   ]
  },
  {
   "cell_type": "markdown",
   "id": "f3e00476-a598-4468-bc2d-f9b73e7d63f4",
   "metadata": {},
   "source": [
    "## Create the Feature Set ID table.\n",
    "This table is a look-up table of feature-set IDs that shows which features make up the feature set. The table is instantiated on the assumption that feature sets will include no more than five features."
   ]
  },
  {
   "cell_type": "code",
   "execution_count": 5,
   "id": "2f5099cb-1d5d-48b7-be1a-3bd0dcbe4638",
   "metadata": {
    "tags": []
   },
   "outputs": [],
   "source": [
    "# Instantiate the feature set id table.\n",
    "featureSet_ID_table = \\\n",
    "    pandas.DataFrame(columns = ['Feature set ID', 'Feature Set 1', 'Feature Set 2',\n",
    "                               'Feature Set 3', 'Feature Set 4', 'Feature Set 5'\n",
    "                               ])\n",
    "# Populate the feature set id table with the individual features.\n",
    "featureSet_ID_table['Feature set ID'] = \\\n",
    "    featureSet_ID_table['Feature Set 1'] = \\\n",
    "        featureSet_array.columns[featureSet_array.columns != 'person_id']"
   ]
  }
 ],
 "metadata": {
  "environment": {
   "kernel": "python3",
   "name": "r-cpu.4-1.m95",
   "type": "gcloud",
   "uri": "gcr.io/deeplearning-platform-release/r-cpu.4-1:m95"
  },
  "kernelspec": {
   "display_name": "Python 3",
   "language": "python",
   "name": "python3"
  },
  "language_info": {
   "codemirror_mode": {
    "name": "ipython",
    "version": 3
   },
   "file_extension": ".py",
   "mimetype": "text/x-python",
   "name": "python",
   "nbconvert_exporter": "python",
   "pygments_lexer": "ipython3",
   "version": "3.7.12"
  }
 },
 "nbformat": 4,
 "nbformat_minor": 5
}
