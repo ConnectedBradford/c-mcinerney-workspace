{
 "cells": [
  {
   "cell_type": "markdown",
   "id": "c3cf206f-210d-44e7-98ab-f8fa95970380",
   "metadata": {
    "tags": []
   },
   "source": [
    "# Feature-set array\n",
    "\n",
    "The purpose of this notebook is to produce the initial feature-set array. The initial feature set-array is an n-by-p array containing patient ID and categorical vectors for each feature indicating which level of the feature the patient is recorded to have expressed.\n",
    "\n",
    "### Imports"
   ]
  },
  {
   "cell_type": "code",
   "execution_count": 2,
   "id": "e31d250f-954f-4721-bcb3-82b3df071694",
   "metadata": {
    "tags": []
   },
   "outputs": [],
   "source": [
    "import pandas\n",
    "pandas.set_option('display.max_colwidth', None)\n",
    "import numpy\n",
    "from google.cloud import bigquery\n",
    "from datetime import date\n",
    "import scipy.stats\n",
    "import math\n",
    "import sklearn.metrics\n",
    "import itertools\n",
    "from IPython.display import display, Markdown, Latex\n",
    "\n",
    "# Instantiate the BigQuery client.\n",
    "client = bigquery.Client()"
   ]
  },
  {
   "cell_type": "markdown",
   "id": "cf5babb7-2224-4348-a5bf-471273d8e230",
   "metadata": {
    "tags": []
   },
   "source": [
    "## Which feature sets to start with?\n",
    "\n",
    "The intended use of the feature sets is to support clinicians in identifying patients with complex mental health difficulties so that resources can be appropriately delivered. Without information like feature sets, the clinician’s expected accuracy in identifying patients with complex mental difficulties is 50% - a coin toss. Alternatively, with no other information, one could assume everyone has complex mental health difficulties or no one does. A balance must be struck between these extremes to facilitate optimal and appropriate use of healthcare resources that maximises benefit for the unidentified patients in need. Some boundaries can be defined for this purpose.\n",
    "\n",
    "The first boundary is that any useful feature set must not be more than 50% prevalent because although a greater prevalence might improve informativeness in the worst-case scenario, it would be at the cost of positive and negative predictive values in any scenario.\n",
    "The second boundary requires some analysis. If the caseness of complex mental health difficulties was a fundamental concept, then any useful feature set must be at least as prevalent as complex mental health difficulties because a lesser prevalence would, at best, disimprove informativeness and negative predictive value with no benefit to positive predictive value. However, the caseness of complex mental health difficulties is a composite of independent component criteria about records of medications and diagnoses. Therefore, the sentiment of the second boundary is better worded as \"any useful feature set must be at least as prevalent _as any of the component criteria_ for the caseness of complex mental health difficulties\".\n",
    "\n",
    "The prevalence of the component criteria diagnoses are available in our script calculating the caseness variable for complex mental health difficulties. \n",
    "</br>\n",
    "</br>\n",
    "\n",
    "__*__ Note that for all arguments presented, we assume that the only signal of interest is the presence of the feature set rather than its absence because it is not possible to distinguish missingness from the genuine absence of a feature set (and each would provide different, indistinguishable information)."
   ]
  },
  {
   "cell_type": "code",
   "execution_count": 3,
   "id": "94ca5ef0-a5d6-4798-9f6d-1ada3ba7c5d1",
   "metadata": {
    "jupyter": {
     "source_hidden": true
    },
    "tags": []
   },
   "outputs": [
    {
     "data": {
      "text/markdown": [
       "\n",
       "## Prevalence of caseness components (per hundred)\n",
       "\n",
       "To mitigate disclosure, counts <=7 are redacted before remaining values are rounded to the nearest 10. Only then are proportions calculated.\n",
       "\n",
       "The prevalence values refer to the period up to 27-Jan-2023.\n",
       "       "
      ],
      "text/plain": [
       "<IPython.core.display.Markdown object>"
      ]
     },
     "metadata": {},
     "output_type": "display_data"
    },
    {
     "name": "stdout",
     "output_type": "stream",
     "text": [
      "                              numerator  denominator  prevalence (%)\n",
      "Bipolar                            2170       703210            0.31\n",
      "Borderline                          480       703210            0.07\n",
      "ChronicPTSD                         120       703210            0.02\n",
      "ComplexPTSD                         120       703210            0.02\n",
      "Depression                         1190       703210            0.17\n",
      "DevAcademicDisorder                2330       703210            0.33\n",
      "Dysthymia                           520       703210            0.07\n",
      "PersonalityDisorder                3600       703210            0.51\n",
      "Schizophrenia                      2690       703210            0.38\n",
      "Meds_PsychosisAndRelated           9670       703210            1.38\n",
      "Meds_hypnoticsAndAnxiolytics       9260       703210            1.32\n",
      "Meds_antidepressants              85270       703210           12.13\n"
     ]
    },
    {
     "data": {
      "text/markdown": [
       "\n",
       "Maximum prevalence of any component diagnosis is __0.51%__ of 703,210 patients.\n"
      ],
      "text/plain": [
       "<IPython.core.display.Markdown object>"
      ]
     },
     "metadata": {},
     "output_type": "display_data"
    },
    {
     "name": "stdout",
     "output_type": "stream",
     "text": [
      "Caseness variable entropy =  0.395 nats\n",
      "Caseness variable scaled entropy =  57.0 %\n",
      "Hit rate (all) = 13.5 %\n",
      "Hit rate (none) = 86.5 %\n",
      "Odds (No CMHD : CMHD) =  6.41 times less likely to have CMHD than to have it.\n"
     ]
    },
    {
     "data": {
      "text/markdown": [
       "    \n",
       "We now know that:\n",
       "1. based on the scaled entropy, our variable for indicating complex mental health difficulties is $57.0\\%$ as uncertain/surprising/unforeseeable\n",
       "as it could possibly be (note: about half as bad as the coin-toss scenario); _and_\n",
       "2. we would correctly classify $86.5\\%$ of patients in this sample if we simply assumed that no one has complex mental health difficulties.\n",
       "\n",
       "The first point encourages us to continue with the initial research aim because our caseness variable does indeed appear to be uncertain.\n",
       "Our intention to reduce this uncertainty by leveraging information from other sources seems like it will be worthwhile. Given this\n",
       "encourgement to continue, the second point defines a benchmark for the indicative performance of any feature set that we evalaute in our\n",
       "study. Specifically, any feature set that we suggest to improve our certainty of knowing that someone has complex mental health difficulties\n",
       "must correctly identify $\\ge 86.5 \\%$ of patients in our sample. Otherwise, the added feature set is a needless complication to our attempt to know\n",
       "whether someone has complex mental health difficulties.\n"
      ],
      "text/plain": [
       "<IPython.core.display.Markdown object>"
      ]
     },
     "metadata": {},
     "output_type": "display_data"
    },
    {
     "data": {
      "text/markdown": [
       "\n",
       "Running our script to calculate the prevalence of our caseness variable shows that\n",
       "no component diagnosis has a prevalence greater than $0.51\\%$. This sets the lower bound for feature-set prevalence.\n",
       "\n",
       "We conclude based on our arguments that a feature set prevalence must satisfy $3,586 \\le prevalence_{feature\\ set_{i}} \\le 351,605$\n"
      ],
      "text/plain": [
       "<IPython.core.display.Markdown object>"
      ]
     },
     "metadata": {},
     "output_type": "display_data"
    }
   ],
   "source": [
    "%run ./\"UNSEEN create caseness array.ipynb\"\n",
    "display(\n",
    "    Markdown(\"\"\"\n",
    "Running our script to calculate the prevalence of our caseness variable shows that\n",
    "no component diagnosis has a prevalence greater than $%s\\%%$. This sets the lower bound for feature-set prevalence.\n",
    "\n",
    "We conclude based on our arguments that a feature set prevalence must satisfy $%s \\le prevalence_{feature\\ set_{i}} \\le %s$\n",
    "\"\"\"\n",
    "       %(max_component_prev_diag,\n",
    "         f'{int(max_component_prev_diag / 100 * denominator_as_int):,}', \n",
    "         f'{int(0.5 * denominator_as_int):,}' )\n",
    "       )\n",
    ")"
   ]
  },
  {
   "cell_type": "markdown",
   "id": "58428e76-cf33-4dfa-a409-426ece931a3d",
   "metadata": {},
   "source": [
    "### What is the prevalence of single-SNOMED-CT code feature sets?\n",
    "The first feature sets to be assessed are individual SNOMED-CT codes found in the Connected Bradford primary care table.\n",
    "\n",
    "The tables outputted below shows the count of patient records in which unique SNOMED-CT codes occur. The first table provides counts are aggregated in ranges from $<10$ to $>10,000,000$ by factors of 10. The second table presents counts aggregate in the ranges defined by the arguments made previously."
   ]
  },
  {
   "cell_type": "code",
   "execution_count": 4,
   "id": "bbb44c4e-71e7-42d1-87e0-1af13f81671e",
   "metadata": {
    "jupyter": {
     "source_hidden": true
    },
    "tags": []
   },
   "outputs": [
    {
     "data": {
      "text/html": [
       "<div>\n",
       "<style scoped>\n",
       "    .dataframe tbody tr th:only-of-type {\n",
       "        vertical-align: middle;\n",
       "    }\n",
       "\n",
       "    .dataframe tbody tr th {\n",
       "        vertical-align: top;\n",
       "    }\n",
       "\n",
       "    .dataframe thead th {\n",
       "        text-align: right;\n",
       "    }\n",
       "</style>\n",
       "<table border=\"1\" class=\"dataframe\">\n",
       "  <thead>\n",
       "    <tr style=\"text-align: right;\">\n",
       "      <th></th>\n",
       "      <th>This_many_codes__</th>\n",
       "      <th>__occur_for_this_many_patients</th>\n",
       "    </tr>\n",
       "  </thead>\n",
       "  <tbody>\n",
       "    <tr>\n",
       "      <th>0</th>\n",
       "      <td>40287</td>\n",
       "      <td>&lt;10</td>\n",
       "    </tr>\n",
       "    <tr>\n",
       "      <th>1</th>\n",
       "      <td>22996</td>\n",
       "      <td>10 =&lt; code &lt; 100</td>\n",
       "    </tr>\n",
       "    <tr>\n",
       "      <th>2</th>\n",
       "      <td>12139</td>\n",
       "      <td>100 =&lt; code &lt; 1,000</td>\n",
       "    </tr>\n",
       "    <tr>\n",
       "      <th>3</th>\n",
       "      <td>5483</td>\n",
       "      <td>1,000 =&lt; code &lt; 10,000</td>\n",
       "    </tr>\n",
       "    <tr>\n",
       "      <th>4</th>\n",
       "      <td>1357</td>\n",
       "      <td>10,000 =&lt; code &lt; 100,000</td>\n",
       "    </tr>\n",
       "    <tr>\n",
       "      <th>5</th>\n",
       "      <td>146</td>\n",
       "      <td>100,000 =&lt; code &lt; 1,000,000</td>\n",
       "    </tr>\n",
       "  </tbody>\n",
       "</table>\n",
       "</div>"
      ],
      "text/plain": [
       "   This_many_codes__ __occur_for_this_many_patients\n",
       "0              40287                            <10\n",
       "1              22996               10 =< code < 100\n",
       "2              12139            100 =< code < 1,000\n",
       "3               5483         1,000 =< code < 10,000\n",
       "4               1357       10,000 =< code < 100,000\n",
       "5                146    100,000 =< code < 1,000,000"
      ]
     },
     "metadata": {},
     "output_type": "display_data"
    },
    {
     "data": {
      "text/html": [
       "<div>\n",
       "<style scoped>\n",
       "    .dataframe tbody tr th:only-of-type {\n",
       "        vertical-align: middle;\n",
       "    }\n",
       "\n",
       "    .dataframe tbody tr th {\n",
       "        vertical-align: top;\n",
       "    }\n",
       "\n",
       "    .dataframe thead th {\n",
       "        text-align: right;\n",
       "    }\n",
       "</style>\n",
       "<table border=\"1\" class=\"dataframe\">\n",
       "  <thead>\n",
       "    <tr style=\"text-align: right;\">\n",
       "      <th></th>\n",
       "      <th>This_many_codes__</th>\n",
       "      <th>__occur_this_often</th>\n",
       "    </tr>\n",
       "  </thead>\n",
       "  <tbody>\n",
       "    <tr>\n",
       "      <th>0</th>\n",
       "      <td>79094</td>\n",
       "      <td>too infrequent (occurs in &lt; 3,586 patients' records)</td>\n",
       "    </tr>\n",
       "    <tr>\n",
       "      <th>1</th>\n",
       "      <td>3280</td>\n",
       "      <td>within bounds</td>\n",
       "    </tr>\n",
       "    <tr>\n",
       "      <th>2</th>\n",
       "      <td>34</td>\n",
       "      <td>too frequent (occurs in &gt; 351,605 patients' records)</td>\n",
       "    </tr>\n",
       "  </tbody>\n",
       "</table>\n",
       "</div>"
      ],
      "text/plain": [
       "   This_many_codes__                                    __occur_this_often\n",
       "0              79094  too infrequent (occurs in < 3,586 patients' records)\n",
       "1               3280                                         within bounds\n",
       "2                 34  too frequent (occurs in > 351,605 patients' records)"
      ]
     },
     "metadata": {},
     "output_type": "display_data"
    }
   ],
   "source": [
    "# Declare your redaction threshold and target rounding number.\n",
    "redaction_threshold = 7\n",
    "target_round = 10\n",
    "sql_variables = \\\n",
    "\"\"\"\n",
    "DECLARE redaction_threshold INT64 DEFAULT \"\"\" + str(redaction_threshold) + \"\"\";\n",
    "DECLARE target_round INT64 DEFAULT \"\"\" + str(target_round) + \"\"\";\n",
    "\"\"\"\n",
    "\n",
    "# Declare lower and upp boundaries for feature-set prevalence\n",
    "lower_bound = int(max_component_prev_diag / 100 * denominator_as_int)\n",
    "upper_bound = int(0.5 * denominator_as_int)\n",
    "sql_variables = \\\n",
    "    sql_variables + \\\n",
    "\"\"\"\n",
    "DECLARE lower_bound INT64 DEFAULT \"\"\" + str(lower_bound) + \"\"\";\n",
    "DECLARE upper_bound INT64 DEFAULT \"\"\" + str(upper_bound) + \"\"\";\n",
    "\"\"\"\n",
    "\n",
    "\n",
    "sql_base = \\\n",
    "\"\"\"\n",
    "WITH\n",
    "tbl_persons AS (\n",
    "SELECT\n",
    "    DISTINCT person_id\n",
    "FROM\n",
    "    yhcr-prd-phm-bia-core.CY_MYSPACE_CMC.person\n",
    "# Limiting to age range 18-70.\n",
    "WHERE\n",
    "    (EXTRACT(YEAR FROM CURRENT_DATE()) - year_of_birth) BETWEEN 18 AND 70\n",
    ")\n",
    ",tbl_patients_per_code AS (\n",
    "SELECT\n",
    "    DISTINCT a.src_snomedcode,\n",
    "    COUNT(DISTINCT tbl_persons.person_id) AS count_patients_with_code\n",
    "FROM\n",
    "    `yhcr-prd-phm-bia-core.CY_FDM_PrimaryCare_v5.tbl_SRCode` AS a    \n",
    "RIGHT JOIN\n",
    "    tbl_persons\n",
    "    ON a.person_id = tbl_persons.person_id\n",
    "GROUP BY\n",
    "    a.src_snomedcode\n",
    "ORDER BY\n",
    "    count_patients_with_code DESC\n",
    ")\n",
    "\"\"\"\n",
    "\n",
    "sql_full_table = \\\n",
    "\"\"\"\n",
    ",tbl_category_full AS\n",
    "(\n",
    "SELECT\n",
    "  DISTINCT src_snomedcode\n",
    "  ,CASE\n",
    "    WHEN count_patients_with_code < 10 THEN \"<10\"\n",
    "    WHEN count_patients_with_code < 100 THEN \"10 =< code < 100\"\n",
    "    WHEN count_patients_with_code < 1000 THEN \"100 =< code < 1,000\"\n",
    "    WHEN count_patients_with_code < 10000 THEN \"1,000 =< code < 10,000\"\n",
    "    WHEN count_patients_with_code < 100000 THEN \"10,000 =< code < 100,000\"\n",
    "    WHEN count_patients_with_code < 1000000 THEN \"100,000 =< code < 1,000,000\"\n",
    "    WHEN count_patients_with_code < 10000000 THEN \"1,000,000 =< code < 10,000,000\"\n",
    "    WHEN count_patients_with_code >= 10000000 THEN \"code >= 10,000,000\"\n",
    "  END AS cnt_SNOMED\n",
    "FROM tbl_patients_per_code\n",
    "ORDER BY cnt_SNOMED\n",
    ")\n",
    "\n",
    "SELECT\n",
    "  COUNT(cnt_SNOMED) AS This_many_codes__\n",
    "  ,cnt_SNOMED AS __occur_for_this_many_patients\n",
    "FROM tbl_category_full\n",
    "GROUP BY cnt_SNOMED\n",
    "ORDER BY This_many_codes__ DESC\n",
    "\"\"\"\n",
    "full_Table = client.query(sql_variables + sql_base + sql_full_table).to_dataframe()\n",
    "display(full_Table)\n",
    "\n",
    "sql_boundary_table = \\\n",
    "\"\"\"\n",
    ",tbl_category_boundary AS\n",
    "(\n",
    "SELECT\n",
    "  DISTINCT src_snomedcode\n",
    "  ,CASE\n",
    "    WHEN count_patients_with_code < lower_bound THEN \"too infrequent (occurs in < \"\"\" + f'{lower_bound:,}' + \"\"\" patients' records)\"\n",
    "    WHEN count_patients_with_code <= upper_bound THEN \"within bounds\"\n",
    "    ELSE \"too frequent (occurs in > \"\"\" + f'{upper_bound:,}' + \"\"\" patients' records)\"\n",
    "  END AS cnt_SNOMED\n",
    "FROM tbl_patients_per_code\n",
    "ORDER BY cnt_SNOMED\n",
    ")\n",
    "\n",
    "SELECT\n",
    "  COUNT(cnt_SNOMED) AS This_many_codes__\n",
    "  ,cnt_SNOMED AS __occur_this_often\n",
    "FROM tbl_category_boundary\n",
    "GROUP BY cnt_SNOMED\n",
    "ORDER BY This_many_codes__ DESC\n",
    "\"\"\"\n",
    "boundary_Table = client.query(sql_variables + sql_base + sql_boundary_table).to_dataframe()\n",
    "display(boundary_Table)\n",
    "\n",
    "# Prepare the table for extracting data.\n",
    "boundary_Table.set_index('__occur_this_often', inplace = True)\n",
    "n_within_bounds = int(boundary_Table.loc['within bounds'])"
   ]
  },
  {
   "cell_type": "code",
   "execution_count": 5,
   "id": "63ec8cb2-327d-48c5-977d-1d5a75cbafe0",
   "metadata": {
    "jupyter": {
     "source_hidden": true
    },
    "tags": []
   },
   "outputs": [
    {
     "data": {
      "text/markdown": [
       "\n",
       "The table above shows that most SNOMED-CT codes occur infrequently in patients' records, with a\n",
       "handfull of codes showing up in many patient's records.\n",
       "\n",
       "Recall that for a feature to be informative, it must occur in $3,586 \\le prevalence_{feature\\ set_{i}} \\le 351,605$ patients' records.\n",
       "\n",
       "#### Interim conclusion\n",
       "We can infer that __3,280 feature sets (defined solely by the presence of a single SNOMED-CT code) might be\n",
       "informative of the caseness of complex mental health difficulties, in our particular cohort within the Connected Bradford dataset__.\n"
      ],
      "text/plain": [
       "<IPython.core.display.Markdown object>"
      ]
     },
     "metadata": {},
     "output_type": "display_data"
    }
   ],
   "source": [
    "# Display message.\n",
    "display(\n",
    "    Markdown(\n",
    "\"\"\"\n",
    "The table above shows that most SNOMED-CT codes occur infrequently in patients' records, with a\n",
    "handfull of codes showing up in many patient's records.\n",
    "\n",
    "Recall that for a feature to be informative, it must occur in $%s \\le prevalence_{feature\\ set_{i}} \\le %s$ patients' records.\n",
    "\n",
    "#### Interim conclusion\n",
    "We can infer that __%s feature sets (defined solely by the presence of a single SNOMED-CT code) might be\n",
    "informative of the caseness of complex mental health difficulties, in our particular cohort within the Connected Bradford dataset__.\n",
    "\"\"\"\n",
    "        %(f'{int(max_component_prev_diag / 100 * denominator_as_int):,}',\n",
    "          f'{int(0.5 * denominator_as_int):,}',\n",
    "         f'{n_within_bounds:,}')\n",
    "    )\n",
    ")"
   ]
  },
  {
   "cell_type": "markdown",
   "id": "011410e4-1330-4169-83ee-f55ef01a09fd",
   "metadata": {},
   "source": [
    "#### Making a list of the single-feature feature sets of interest\n",
    "The following code defines a list of SNOMED-CT codes (that appear in our cohort from the Connected Bradford dataset) that we will carry forward as single-feature feature sets."
   ]
  },
  {
   "cell_type": "code",
   "execution_count": 6,
   "id": "813d0223-e4a9-47a2-9b19-3dfa7307cdd2",
   "metadata": {
    "jupyter": {
     "source_hidden": true
    },
    "tags": []
   },
   "outputs": [
    {
     "data": {
      "text/html": [
       "<div>\n",
       "<style scoped>\n",
       "    .dataframe tbody tr th:only-of-type {\n",
       "        vertical-align: middle;\n",
       "    }\n",
       "\n",
       "    .dataframe tbody tr th {\n",
       "        vertical-align: top;\n",
       "    }\n",
       "\n",
       "    .dataframe thead th {\n",
       "        text-align: right;\n",
       "    }\n",
       "</style>\n",
       "<table border=\"1\" class=\"dataframe\">\n",
       "  <thead>\n",
       "    <tr style=\"text-align: right;\">\n",
       "      <th></th>\n",
       "      <th>src_snomedcode</th>\n",
       "    </tr>\n",
       "  </thead>\n",
       "  <tbody>\n",
       "    <tr>\n",
       "      <th>0</th>\n",
       "      <td>1020291000000106</td>\n",
       "    </tr>\n",
       "    <tr>\n",
       "      <th>1</th>\n",
       "      <td>1022791000000101</td>\n",
       "    </tr>\n",
       "    <tr>\n",
       "      <th>2</th>\n",
       "      <td>78564009</td>\n",
       "    </tr>\n",
       "    <tr>\n",
       "      <th>3</th>\n",
       "      <td>279991000000102</td>\n",
       "    </tr>\n",
       "    <tr>\n",
       "      <th>4</th>\n",
       "      <td>773011000000101</td>\n",
       "    </tr>\n",
       "    <tr>\n",
       "      <th>...</th>\n",
       "      <td>...</td>\n",
       "    </tr>\n",
       "    <tr>\n",
       "      <th>3275</th>\n",
       "      <td>300954003</td>\n",
       "    </tr>\n",
       "    <tr>\n",
       "      <th>3276</th>\n",
       "      <td>40799003</td>\n",
       "    </tr>\n",
       "    <tr>\n",
       "      <th>3277</th>\n",
       "      <td>177143000</td>\n",
       "    </tr>\n",
       "    <tr>\n",
       "      <th>3278</th>\n",
       "      <td>59274003</td>\n",
       "    </tr>\n",
       "    <tr>\n",
       "      <th>3279</th>\n",
       "      <td>306582008</td>\n",
       "    </tr>\n",
       "  </tbody>\n",
       "</table>\n",
       "<p>3280 rows × 1 columns</p>\n",
       "</div>"
      ],
      "text/plain": [
       "        src_snomedcode\n",
       "0     1020291000000106\n",
       "1     1022791000000101\n",
       "2             78564009\n",
       "3      279991000000102\n",
       "4      773011000000101\n",
       "...                ...\n",
       "3275         300954003\n",
       "3276          40799003\n",
       "3277         177143000\n",
       "3278          59274003\n",
       "3279         306582008\n",
       "\n",
       "[3280 rows x 1 columns]"
      ]
     },
     "metadata": {},
     "output_type": "display_data"
    }
   ],
   "source": [
    "sql_singleFS_select = \\\n",
    "\"\"\"\n",
    "SELECT\n",
    "    src_snomedcode\n",
    "FROM\n",
    "    tbl_patients_per_code\n",
    "WHERE\n",
    "    count_patients_with_code BETWEEN lower_bound AND upper_bound\n",
    "\"\"\"\n",
    "ls_single_feature_featureSet = client.query(sql_variables + sql_base + sql_singleFS_select).to_dataframe()\n",
    "display(ls_single_feature_featureSet)"
   ]
  },
  {
   "cell_type": "markdown",
   "id": "6dcb63ef-6cf8-4f37-92e0-6cd2bc85b899",
   "metadata": {},
   "source": [
    "### What is the prevalence of pair-composite feature sets?\n",
    "The next question we might ask is whether pairs of SNOMED-CT codes might be informative of the cases of complex mental health difficulties.\n",
    "\n",
    "To answer this question, we re-run the previous analysis but count the patients who have pairs of SNOMED-CT codes in their record instead of individual SNOMED-CT codes."
   ]
  },
  {
   "cell_type": "code",
   "execution_count": null,
   "id": "0ed0d2ef-17c4-4410-a106-7f93afa958a3",
   "metadata": {
    "tags": []
   },
   "outputs": [],
   "source": [
    "# First, we must compute all the possible SNOMED-CT code pairs.\n",
    "sql_snomedcode_vector = \\\n",
    "\"\"\"\n",
    "SELECT\n",
    "    src_snomedcode\n",
    "FROM\n",
    "    tbl_patients_per_code\n",
    "\"\"\"\n",
    "\n",
    "snomedcode_vector = client.query(sql_base + sql_snomedcode_vector).to_dataframe().values.tolist()\n",
    "display(snomedcode_vector)\n",
    "combins = itertools.combinations(snomedcode_vector,2)\n",
    "list(combins)[0:5]"
   ]
  },
  {
   "cell_type": "markdown",
   "id": "f617e365-6083-4551-8d03-7010da33b1aa",
   "metadata": {},
   "source": [
    "## Creating the initial feature-set array\n",
    "\n",
    "To produce the initial feature-set array, we need to define the list of unique SNOMED CT codes and check whether each patient has that code in their primary care record. The code below produces an n-by-p array where each column contains the count of times that a code is recorded for a given patient."
   ]
  },
  {
   "cell_type": "code",
   "execution_count": 3,
   "id": "29108508-195c-437c-986a-6622fafa1e9a",
   "metadata": {
    "tags": []
   },
   "outputs": [],
   "source": [
    "# I'm thankful for the following stackoverflow thread about pivot queries:\n",
    "# https://stackoverflow.com/questions/50293482/how-to-create-crosstab-with-two-field-in-bigquery-with-standart-or-legacy-sql.\n",
    "\n",
    "sql_with = \"\"\"\n",
    "WITH\n",
    "tbl_persons AS\n",
    "(\n",
    "SELECT\n",
    "    DISTINCT person_id\n",
    "FROM\n",
    "    yhcr-prd-phm-bia-core.CY_MYSPACE_CMC.person\n",
    "# Limiting to age range 18-70.\n",
    "WHERE\n",
    "    (EXTRACT(YEAR FROM CURRENT_DATE()) - year_of_birth) BETWEEN 18 AND 70\n",
    ")\n",
    ",tbl_codes_and_count AS\n",
    "(\n",
    "SELECT\n",
    "    DISTINCT src_snomedcode\n",
    "    ,COUNT(src_snomedcode) AS cnt_code\n",
    "FROM `yhcr-prd-phm-bia-core.CY_FDM_PrimaryCare_v5.tbl_SRCode`\n",
    "GROUP BY src_snomedcode\n",
    ")\n",
    ",tbl_codes_of_interest AS\n",
    "(\n",
    "SELECT\n",
    "  src_snomedcode AS SNOMEDcode\n",
    "FROM tbl_codes_and_count\n",
    "WHERE\n",
    "    cnt_code >= (SELECT COUNT(person_id)/2 FROM tbl_persons)\n",
    "    # This justification for this filter is described in the\n",
    "    # previous part of the Jupyter notebook.\n",
    ")\n",
    ",tbl_persons_and_codes AS\n",
    "(\n",
    "SELECT\n",
    "    tbl_persons.person_id\n",
    "    ,tbl_codes.src_snomedcode\n",
    "FROM \n",
    "    tbl_persons\n",
    "LEFT JOIN\n",
    "    yhcr-prd-phm-bia-core.CY_FDM_PrimaryCare_v5.tbl_SRCode AS tbl_codes\n",
    "ON\n",
    "    tbl_persons.person_id = tbl_codes.person_id\n",
    ")\n",
    ",tbl_persons_codes_of_interest AS\n",
    "(\n",
    "SELECT\n",
    "  tbl_persons_and_codes.person_id\n",
    "  ,tbl_codes_of_interest.SNOMEDcode\n",
    "FROM\n",
    "  tbl_persons_and_codes\n",
    "LEFT JOIN\n",
    "  tbl_codes_of_interest\n",
    "ON \n",
    "  tbl_codes_of_interest.SNOMEDcode = tbl_persons_and_codes.src_snomedcode\n",
    ")\n",
    "\"\"\"\n",
    "sql_pivot = \"\"\"\n",
    "SELECT\n",
    "    CONCAT(\"SELECT person_id,\", STRING_AGG(CONCAT(\"COUNTIF(SNOMEDcode='\",SNOMEDcode,\"') AS `_\",SNOMEDcode,\"`\")), \n",
    "        \" FROM `tbl_persons_codes_of_interest`\",\n",
    "        \" GROUP BY person_id ORDER BY person_id\")\n",
    "FROM (  SELECT DISTINCT SNOMEDcode FROM `tbl_persons_codes_of_interest` ORDER BY SNOMEDcode  )\n",
    "\"\"\"\n",
    "\n",
    "sql = client.query(sql_with + sql_pivot).to_dataframe()['f0_'].iloc[0]\n",
    "featureSet_array = client.query(sql_with + sql).to_dataframe()"
   ]
  },
  {
   "cell_type": "markdown",
   "id": "f3e00476-a598-4468-bc2d-f9b73e7d63f4",
   "metadata": {},
   "source": [
    "## Create the Feature Set ID table.\n",
    "This table is a look-up table of feature-set IDs that shows which features make up the feature set. The table is instantiated on the assumption that feature sets will include no more than five features."
   ]
  },
  {
   "cell_type": "code",
   "execution_count": 5,
   "id": "2f5099cb-1d5d-48b7-be1a-3bd0dcbe4638",
   "metadata": {
    "tags": []
   },
   "outputs": [],
   "source": [
    "# Instantiate the feature set id table.\n",
    "featureSet_ID_table = \\\n",
    "    pandas.DataFrame(columns = ['Feature set ID', 'Feature Set 1', 'Feature Set 2',\n",
    "                               'Feature Set 3', 'Feature Set 4', 'Feature Set 5'\n",
    "                               ])\n",
    "# Populate the feature set id table with the individual features.\n",
    "featureSet_ID_table['Feature set ID'] = \\\n",
    "    featureSet_ID_table['Feature Set 1'] = \\\n",
    "        featureSet_array.columns[featureSet_array.columns != 'person_id']"
   ]
  }
 ],
 "metadata": {
  "environment": {
   "kernel": "python3",
   "name": "r-cpu.4-1.m95",
   "type": "gcloud",
   "uri": "gcr.io/deeplearning-platform-release/r-cpu.4-1:m95"
  },
  "kernelspec": {
   "display_name": "Python 3",
   "language": "python",
   "name": "python3"
  },
  "language_info": {
   "codemirror_mode": {
    "name": "ipython",
    "version": 3
   },
   "file_extension": ".py",
   "mimetype": "text/x-python",
   "name": "python",
   "nbconvert_exporter": "python",
   "pygments_lexer": "ipython3",
   "version": "3.7.12"
  }
 },
 "nbformat": 4,
 "nbformat_minor": 5
}
