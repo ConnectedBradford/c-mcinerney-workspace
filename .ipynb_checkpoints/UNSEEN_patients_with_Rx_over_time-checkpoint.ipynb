{
 "cells": [
  {
   "cell_type": "markdown",
   "id": "235e4845-6ef7-4440-b2b4-7216b537fde3",
   "metadata": {},
   "source": [
    "# Patients with prescriptions, over time.\n",
    "\n",
    "The purpose of this notebook is to plot the journey of patients that satisfy the prescription-based caseness, over time in four-month chunks. I will visualise the data with an alluvial plot.\n",
    "\n",
    "The motivation is that we want to see if there are marked declines in the counts of patients with the prescriptions of interest, at particular times.\n",
    "\n",
    "The rationale is that we hope that this will give us an indication of the duration back in time from an index date that sufficiently distinguishes active pharmaceutical treatment for complex mental health difficulties from historic complex mental health difficulties.\n",
    "\n",
    "I will run a portion of the code used in `UNSEEN_create_caseness_variables.ipynb` to return the count of patients that have a prescription within 1-60 month(s) of the index date."
   ]
  },
  {
   "cell_type": "markdown",
   "id": "65099f3a-e9ee-44f7-b949-88f990416d1b",
   "metadata": {},
   "source": [
    "There are two components to a [Sankey diagram in Python](https://plotly.com/python/sankey-diagram/).\n",
    "1. Node: these are the source and destination for the flows.\n",
    "2. Link: these are flows.\n",
    "\n",
    "The only vital argument for the nodes is the `label` list, which contains all the source and destination nodes that will be used in the entire Sankey diagram.\n",
    "\n",
    "The vital arguments for the links are three lists:\n",
    "1. source = the index in the `label` list that indicates which label is the left side of a flow.\n",
    "2. target = the index in the `label` list that indicates which label is the right side of a flow.\n",
    "3. value  = the count of the entities in the flow; this represents the width of the flow.\n",
    "\n",
    "An example Sankey is shown below."
   ]
  },
  {
   "cell_type": "code",
   "execution_count": 5,
   "id": "fcc718c5-7e28-4371-b340-31859b7942d5",
   "metadata": {
    "jupyter": {
     "source_hidden": true
    },
    "tags": []
   },
   "outputs": [
    {
     "data": {
      "application/vnd.plotly.v1+json": {
       "config": {
        "plotlyServerURL": "https://plot.ly"
       },
       "data": [
        {
         "link": {
          "color": [
           "#636EFA",
           "#EF553B",
           "#636EFA",
           "#EF553B",
           "#00CC96",
           "#AB63FA",
           "#636EFA",
           "#EF553B",
           "#00CC96",
           "#AB63FA"
          ],
          "source": [
           0,
           0,
           2,
           2,
           3,
           3,
           4,
           4,
           5,
           5
          ],
          "target": [
           2,
           3,
           4,
           5,
           4,
           5,
           6,
           7,
           6,
           7
          ],
          "value": [
           20,
           20,
           10,
           10,
           10,
           10,
           10,
           10,
           10,
           10
          ]
         },
         "node": {
          "color": "blue",
          "label": [
           "Rx_12mth",
           "Rx_8mth",
           "not Rx_8mth",
           "Rx_4mth",
           "not Rx_4mth",
           "Rx_0mth",
           "not Rx_0mth"
          ],
          "line": {
           "color": "black",
           "width": 0.5
          },
          "pad": 50,
          "thickness": 20
         },
         "type": "sankey"
        }
       ],
       "layout": {
        "autosize": true,
        "font": {
         "size": 10
        },
        "template": {
         "data": {
          "bar": [
           {
            "error_x": {
             "color": "#2a3f5f"
            },
            "error_y": {
             "color": "#2a3f5f"
            },
            "marker": {
             "line": {
              "color": "#E5ECF6",
              "width": 0.5
             },
             "pattern": {
              "fillmode": "overlay",
              "size": 10,
              "solidity": 0.2
             }
            },
            "type": "bar"
           }
          ],
          "barpolar": [
           {
            "marker": {
             "line": {
              "color": "#E5ECF6",
              "width": 0.5
             },
             "pattern": {
              "fillmode": "overlay",
              "size": 10,
              "solidity": 0.2
             }
            },
            "type": "barpolar"
           }
          ],
          "carpet": [
           {
            "aaxis": {
             "endlinecolor": "#2a3f5f",
             "gridcolor": "white",
             "linecolor": "white",
             "minorgridcolor": "white",
             "startlinecolor": "#2a3f5f"
            },
            "baxis": {
             "endlinecolor": "#2a3f5f",
             "gridcolor": "white",
             "linecolor": "white",
             "minorgridcolor": "white",
             "startlinecolor": "#2a3f5f"
            },
            "type": "carpet"
           }
          ],
          "choropleth": [
           {
            "colorbar": {
             "outlinewidth": 0,
             "ticks": ""
            },
            "type": "choropleth"
           }
          ],
          "contour": [
           {
            "colorbar": {
             "outlinewidth": 0,
             "ticks": ""
            },
            "colorscale": [
             [
              0,
              "#0d0887"
             ],
             [
              0.1111111111111111,
              "#46039f"
             ],
             [
              0.2222222222222222,
              "#7201a8"
             ],
             [
              0.3333333333333333,
              "#9c179e"
             ],
             [
              0.4444444444444444,
              "#bd3786"
             ],
             [
              0.5555555555555556,
              "#d8576b"
             ],
             [
              0.6666666666666666,
              "#ed7953"
             ],
             [
              0.7777777777777778,
              "#fb9f3a"
             ],
             [
              0.8888888888888888,
              "#fdca26"
             ],
             [
              1,
              "#f0f921"
             ]
            ],
            "type": "contour"
           }
          ],
          "contourcarpet": [
           {
            "colorbar": {
             "outlinewidth": 0,
             "ticks": ""
            },
            "type": "contourcarpet"
           }
          ],
          "heatmap": [
           {
            "colorbar": {
             "outlinewidth": 0,
             "ticks": ""
            },
            "colorscale": [
             [
              0,
              "#0d0887"
             ],
             [
              0.1111111111111111,
              "#46039f"
             ],
             [
              0.2222222222222222,
              "#7201a8"
             ],
             [
              0.3333333333333333,
              "#9c179e"
             ],
             [
              0.4444444444444444,
              "#bd3786"
             ],
             [
              0.5555555555555556,
              "#d8576b"
             ],
             [
              0.6666666666666666,
              "#ed7953"
             ],
             [
              0.7777777777777778,
              "#fb9f3a"
             ],
             [
              0.8888888888888888,
              "#fdca26"
             ],
             [
              1,
              "#f0f921"
             ]
            ],
            "type": "heatmap"
           }
          ],
          "heatmapgl": [
           {
            "colorbar": {
             "outlinewidth": 0,
             "ticks": ""
            },
            "colorscale": [
             [
              0,
              "#0d0887"
             ],
             [
              0.1111111111111111,
              "#46039f"
             ],
             [
              0.2222222222222222,
              "#7201a8"
             ],
             [
              0.3333333333333333,
              "#9c179e"
             ],
             [
              0.4444444444444444,
              "#bd3786"
             ],
             [
              0.5555555555555556,
              "#d8576b"
             ],
             [
              0.6666666666666666,
              "#ed7953"
             ],
             [
              0.7777777777777778,
              "#fb9f3a"
             ],
             [
              0.8888888888888888,
              "#fdca26"
             ],
             [
              1,
              "#f0f921"
             ]
            ],
            "type": "heatmapgl"
           }
          ],
          "histogram": [
           {
            "marker": {
             "pattern": {
              "fillmode": "overlay",
              "size": 10,
              "solidity": 0.2
             }
            },
            "type": "histogram"
           }
          ],
          "histogram2d": [
           {
            "colorbar": {
             "outlinewidth": 0,
             "ticks": ""
            },
            "colorscale": [
             [
              0,
              "#0d0887"
             ],
             [
              0.1111111111111111,
              "#46039f"
             ],
             [
              0.2222222222222222,
              "#7201a8"
             ],
             [
              0.3333333333333333,
              "#9c179e"
             ],
             [
              0.4444444444444444,
              "#bd3786"
             ],
             [
              0.5555555555555556,
              "#d8576b"
             ],
             [
              0.6666666666666666,
              "#ed7953"
             ],
             [
              0.7777777777777778,
              "#fb9f3a"
             ],
             [
              0.8888888888888888,
              "#fdca26"
             ],
             [
              1,
              "#f0f921"
             ]
            ],
            "type": "histogram2d"
           }
          ],
          "histogram2dcontour": [
           {
            "colorbar": {
             "outlinewidth": 0,
             "ticks": ""
            },
            "colorscale": [
             [
              0,
              "#0d0887"
             ],
             [
              0.1111111111111111,
              "#46039f"
             ],
             [
              0.2222222222222222,
              "#7201a8"
             ],
             [
              0.3333333333333333,
              "#9c179e"
             ],
             [
              0.4444444444444444,
              "#bd3786"
             ],
             [
              0.5555555555555556,
              "#d8576b"
             ],
             [
              0.6666666666666666,
              "#ed7953"
             ],
             [
              0.7777777777777778,
              "#fb9f3a"
             ],
             [
              0.8888888888888888,
              "#fdca26"
             ],
             [
              1,
              "#f0f921"
             ]
            ],
            "type": "histogram2dcontour"
           }
          ],
          "mesh3d": [
           {
            "colorbar": {
             "outlinewidth": 0,
             "ticks": ""
            },
            "type": "mesh3d"
           }
          ],
          "parcoords": [
           {
            "line": {
             "colorbar": {
              "outlinewidth": 0,
              "ticks": ""
             }
            },
            "type": "parcoords"
           }
          ],
          "pie": [
           {
            "automargin": true,
            "type": "pie"
           }
          ],
          "scatter": [
           {
            "fillpattern": {
             "fillmode": "overlay",
             "size": 10,
             "solidity": 0.2
            },
            "type": "scatter"
           }
          ],
          "scatter3d": [
           {
            "line": {
             "colorbar": {
              "outlinewidth": 0,
              "ticks": ""
             }
            },
            "marker": {
             "colorbar": {
              "outlinewidth": 0,
              "ticks": ""
             }
            },
            "type": "scatter3d"
           }
          ],
          "scattercarpet": [
           {
            "marker": {
             "colorbar": {
              "outlinewidth": 0,
              "ticks": ""
             }
            },
            "type": "scattercarpet"
           }
          ],
          "scattergeo": [
           {
            "marker": {
             "colorbar": {
              "outlinewidth": 0,
              "ticks": ""
             }
            },
            "type": "scattergeo"
           }
          ],
          "scattergl": [
           {
            "marker": {
             "colorbar": {
              "outlinewidth": 0,
              "ticks": ""
             }
            },
            "type": "scattergl"
           }
          ],
          "scattermapbox": [
           {
            "marker": {
             "colorbar": {
              "outlinewidth": 0,
              "ticks": ""
             }
            },
            "type": "scattermapbox"
           }
          ],
          "scatterpolar": [
           {
            "marker": {
             "colorbar": {
              "outlinewidth": 0,
              "ticks": ""
             }
            },
            "type": "scatterpolar"
           }
          ],
          "scatterpolargl": [
           {
            "marker": {
             "colorbar": {
              "outlinewidth": 0,
              "ticks": ""
             }
            },
            "type": "scatterpolargl"
           }
          ],
          "scatterternary": [
           {
            "marker": {
             "colorbar": {
              "outlinewidth": 0,
              "ticks": ""
             }
            },
            "type": "scatterternary"
           }
          ],
          "surface": [
           {
            "colorbar": {
             "outlinewidth": 0,
             "ticks": ""
            },
            "colorscale": [
             [
              0,
              "#0d0887"
             ],
             [
              0.1111111111111111,
              "#46039f"
             ],
             [
              0.2222222222222222,
              "#7201a8"
             ],
             [
              0.3333333333333333,
              "#9c179e"
             ],
             [
              0.4444444444444444,
              "#bd3786"
             ],
             [
              0.5555555555555556,
              "#d8576b"
             ],
             [
              0.6666666666666666,
              "#ed7953"
             ],
             [
              0.7777777777777778,
              "#fb9f3a"
             ],
             [
              0.8888888888888888,
              "#fdca26"
             ],
             [
              1,
              "#f0f921"
             ]
            ],
            "type": "surface"
           }
          ],
          "table": [
           {
            "cells": {
             "fill": {
              "color": "#EBF0F8"
             },
             "line": {
              "color": "white"
             }
            },
            "header": {
             "fill": {
              "color": "#C8D4E3"
             },
             "line": {
              "color": "white"
             }
            },
            "type": "table"
           }
          ]
         },
         "layout": {
          "annotationdefaults": {
           "arrowcolor": "#2a3f5f",
           "arrowhead": 0,
           "arrowwidth": 1
          },
          "autotypenumbers": "strict",
          "coloraxis": {
           "colorbar": {
            "outlinewidth": 0,
            "ticks": ""
           }
          },
          "colorscale": {
           "diverging": [
            [
             0,
             "#8e0152"
            ],
            [
             0.1,
             "#c51b7d"
            ],
            [
             0.2,
             "#de77ae"
            ],
            [
             0.3,
             "#f1b6da"
            ],
            [
             0.4,
             "#fde0ef"
            ],
            [
             0.5,
             "#f7f7f7"
            ],
            [
             0.6,
             "#e6f5d0"
            ],
            [
             0.7,
             "#b8e186"
            ],
            [
             0.8,
             "#7fbc41"
            ],
            [
             0.9,
             "#4d9221"
            ],
            [
             1,
             "#276419"
            ]
           ],
           "sequential": [
            [
             0,
             "#0d0887"
            ],
            [
             0.1111111111111111,
             "#46039f"
            ],
            [
             0.2222222222222222,
             "#7201a8"
            ],
            [
             0.3333333333333333,
             "#9c179e"
            ],
            [
             0.4444444444444444,
             "#bd3786"
            ],
            [
             0.5555555555555556,
             "#d8576b"
            ],
            [
             0.6666666666666666,
             "#ed7953"
            ],
            [
             0.7777777777777778,
             "#fb9f3a"
            ],
            [
             0.8888888888888888,
             "#fdca26"
            ],
            [
             1,
             "#f0f921"
            ]
           ],
           "sequentialminus": [
            [
             0,
             "#0d0887"
            ],
            [
             0.1111111111111111,
             "#46039f"
            ],
            [
             0.2222222222222222,
             "#7201a8"
            ],
            [
             0.3333333333333333,
             "#9c179e"
            ],
            [
             0.4444444444444444,
             "#bd3786"
            ],
            [
             0.5555555555555556,
             "#d8576b"
            ],
            [
             0.6666666666666666,
             "#ed7953"
            ],
            [
             0.7777777777777778,
             "#fb9f3a"
            ],
            [
             0.8888888888888888,
             "#fdca26"
            ],
            [
             1,
             "#f0f921"
            ]
           ]
          },
          "colorway": [
           "#636efa",
           "#EF553B",
           "#00cc96",
           "#ab63fa",
           "#FFA15A",
           "#19d3f3",
           "#FF6692",
           "#B6E880",
           "#FF97FF",
           "#FECB52"
          ],
          "font": {
           "color": "#2a3f5f"
          },
          "geo": {
           "bgcolor": "white",
           "lakecolor": "white",
           "landcolor": "#E5ECF6",
           "showlakes": true,
           "showland": true,
           "subunitcolor": "white"
          },
          "hoverlabel": {
           "align": "left"
          },
          "hovermode": "closest",
          "mapbox": {
           "style": "light"
          },
          "paper_bgcolor": "white",
          "plot_bgcolor": "#E5ECF6",
          "polar": {
           "angularaxis": {
            "gridcolor": "white",
            "linecolor": "white",
            "ticks": ""
           },
           "bgcolor": "#E5ECF6",
           "radialaxis": {
            "gridcolor": "white",
            "linecolor": "white",
            "ticks": ""
           }
          },
          "scene": {
           "xaxis": {
            "backgroundcolor": "#E5ECF6",
            "gridcolor": "white",
            "gridwidth": 2,
            "linecolor": "white",
            "showbackground": true,
            "ticks": "",
            "zerolinecolor": "white"
           },
           "yaxis": {
            "backgroundcolor": "#E5ECF6",
            "gridcolor": "white",
            "gridwidth": 2,
            "linecolor": "white",
            "showbackground": true,
            "ticks": "",
            "zerolinecolor": "white"
           },
           "zaxis": {
            "backgroundcolor": "#E5ECF6",
            "gridcolor": "white",
            "gridwidth": 2,
            "linecolor": "white",
            "showbackground": true,
            "ticks": "",
            "zerolinecolor": "white"
           }
          },
          "shapedefaults": {
           "line": {
            "color": "#2a3f5f"
           }
          },
          "ternary": {
           "aaxis": {
            "gridcolor": "white",
            "linecolor": "white",
            "ticks": ""
           },
           "baxis": {
            "gridcolor": "white",
            "linecolor": "white",
            "ticks": ""
           },
           "bgcolor": "#E5ECF6",
           "caxis": {
            "gridcolor": "white",
            "linecolor": "white",
            "ticks": ""
           }
          },
          "title": {
           "x": 0.05
          },
          "xaxis": {
           "automargin": true,
           "gridcolor": "white",
           "linecolor": "white",
           "ticks": "",
           "title": {
            "standoff": 15
           },
           "zerolinecolor": "white",
           "zerolinewidth": 2
          },
          "yaxis": {
           "automargin": true,
           "gridcolor": "white",
           "linecolor": "white",
           "ticks": "",
           "title": {
            "standoff": 15
           },
           "zerolinecolor": "white",
           "zerolinewidth": 2
          }
         }
        },
        "title": {
         "text": "Basic Sankey Diagram"
        }
       }
      },
      "image/png": "[encoded data removed]",
      "text/html": [
       "<div>                            <div id=\"5729020c-2547-44a7-a73e-01b48d9e237c\" class=\"plotly-graph-div\" style=\"height:525px; width:100%;\"></div>            <script type=\"text/javascript\">                require([\"plotly\"], function(Plotly) {                    window.PLOTLYENV=window.PLOTLYENV || {};                                    if (document.getElementById(\"5729020c-2547-44a7-a73e-01b48d9e237c\")) {                    Plotly.newPlot(                        \"5729020c-2547-44a7-a73e-01b48d9e237c\",                        [{\"link\":{\"color\":[\"#636EFA\",\"#EF553B\",\"#636EFA\",\"#EF553B\",\"#00CC96\",\"#AB63FA\",\"#636EFA\",\"#EF553B\",\"#00CC96\",\"#AB63FA\"],\"source\":[0,0,2,2,3,3,4,4,5,5],\"target\":[2,3,4,5,4,5,6,7,6,7],\"value\":[20,20,10,10,10,10,10,10,10,10]},\"node\":{\"color\":\"blue\",\"label\":[\"Rx_12mth\",\"Rx_8mth\",\"not Rx_8mth\",\"Rx_4mth\",\"not Rx_4mth\",\"Rx_0mth\",\"not Rx_0mth\"],\"line\":{\"color\":\"black\",\"width\":0.5},\"pad\":50,\"thickness\":20},\"type\":\"sankey\"}],                        {\"template\":{\"data\":{\"histogram2dcontour\":[{\"type\":\"histogram2dcontour\",\"colorbar\":{\"outlinewidth\":0,\"ticks\":\"\"},\"colorscale\":[[0.0,\"#0d0887\"],[0.1111111111111111,\"#46039f\"],[0.2222222222222222,\"#7201a8\"],[0.3333333333333333,\"#9c179e\"],[0.4444444444444444,\"#bd3786\"],[0.5555555555555556,\"#d8576b\"],[0.6666666666666666,\"#ed7953\"],[0.7777777777777778,\"#fb9f3a\"],[0.8888888888888888,\"#fdca26\"],[1.0,\"#f0f921\"]]}],\"choropleth\":[{\"type\":\"choropleth\",\"colorbar\":{\"outlinewidth\":0,\"ticks\":\"\"}}],\"histogram2d\":[{\"type\":\"histogram2d\",\"colorbar\":{\"outlinewidth\":0,\"ticks\":\"\"},\"colorscale\":[[0.0,\"#0d0887\"],[0.1111111111111111,\"#46039f\"],[0.2222222222222222,\"#7201a8\"],[0.3333333333333333,\"#9c179e\"],[0.4444444444444444,\"#bd3786\"],[0.5555555555555556,\"#d8576b\"],[0.6666666666666666,\"#ed7953\"],[0.7777777777777778,\"#fb9f3a\"],[0.8888888888888888,\"#fdca26\"],[1.0,\"#f0f921\"]]}],\"heatmap\":[{\"type\":\"heatmap\",\"colorbar\":{\"outlinewidth\":0,\"ticks\":\"\"},\"colorscale\":[[0.0,\"#0d0887\"],[0.1111111111111111,\"#46039f\"],[0.2222222222222222,\"#7201a8\"],[0.3333333333333333,\"#9c179e\"],[0.4444444444444444,\"#bd3786\"],[0.5555555555555556,\"#d8576b\"],[0.6666666666666666,\"#ed7953\"],[0.7777777777777778,\"#fb9f3a\"],[0.8888888888888888,\"#fdca26\"],[1.0,\"#f0f921\"]]}],\"heatmapgl\":[{\"type\":\"heatmapgl\",\"colorbar\":{\"outlinewidth\":0,\"ticks\":\"\"},\"colorscale\":[[0.0,\"#0d0887\"],[0.1111111111111111,\"#46039f\"],[0.2222222222222222,\"#7201a8\"],[0.3333333333333333,\"#9c179e\"],[0.4444444444444444,\"#bd3786\"],[0.5555555555555556,\"#d8576b\"],[0.6666666666666666,\"#ed7953\"],[0.7777777777777778,\"#fb9f3a\"],[0.8888888888888888,\"#fdca26\"],[1.0,\"#f0f921\"]]}],\"contourcarpet\":[{\"type\":\"contourcarpet\",\"colorbar\":{\"outlinewidth\":0,\"ticks\":\"\"}}],\"contour\":[{\"type\":\"contour\",\"colorbar\":{\"outlinewidth\":0,\"ticks\":\"\"},\"colorscale\":[[0.0,\"#0d0887\"],[0.1111111111111111,\"#46039f\"],[0.2222222222222222,\"#7201a8\"],[0.3333333333333333,\"#9c179e\"],[0.4444444444444444,\"#bd3786\"],[0.5555555555555556,\"#d8576b\"],[0.6666666666666666,\"#ed7953\"],[0.7777777777777778,\"#fb9f3a\"],[0.8888888888888888,\"#fdca26\"],[1.0,\"#f0f921\"]]}],\"surface\":[{\"type\":\"surface\",\"colorbar\":{\"outlinewidth\":0,\"ticks\":\"\"},\"colorscale\":[[0.0,\"#0d0887\"],[0.1111111111111111,\"#46039f\"],[0.2222222222222222,\"#7201a8\"],[0.3333333333333333,\"#9c179e\"],[0.4444444444444444,\"#bd3786\"],[0.5555555555555556,\"#d8576b\"],[0.6666666666666666,\"#ed7953\"],[0.7777777777777778,\"#fb9f3a\"],[0.8888888888888888,\"#fdca26\"],[1.0,\"#f0f921\"]]}],\"mesh3d\":[{\"type\":\"mesh3d\",\"colorbar\":{\"outlinewidth\":0,\"ticks\":\"\"}}],\"scatter\":[{\"fillpattern\":{\"fillmode\":\"overlay\",\"size\":10,\"solidity\":0.2},\"type\":\"scatter\"}],\"parcoords\":[{\"type\":\"parcoords\",\"line\":{\"colorbar\":{\"outlinewidth\":0,\"ticks\":\"\"}}}],\"scatterpolargl\":[{\"type\":\"scatterpolargl\",\"marker\":{\"colorbar\":{\"outlinewidth\":0,\"ticks\":\"\"}}}],\"bar\":[{\"error_x\":{\"color\":\"#2a3f5f\"},\"error_y\":{\"color\":\"#2a3f5f\"},\"marker\":{\"line\":{\"color\":\"#E5ECF6\",\"width\":0.5},\"pattern\":{\"fillmode\":\"overlay\",\"size\":10,\"solidity\":0.2}},\"type\":\"bar\"}],\"scattergeo\":[{\"type\":\"scattergeo\",\"marker\":{\"colorbar\":{\"outlinewidth\":0,\"ticks\":\"\"}}}],\"scatterpolar\":[{\"type\":\"scatterpolar\",\"marker\":{\"colorbar\":{\"outlinewidth\":0,\"ticks\":\"\"}}}],\"histogram\":[{\"marker\":{\"pattern\":{\"fillmode\":\"overlay\",\"size\":10,\"solidity\":0.2}},\"type\":\"histogram\"}],\"scattergl\":[{\"type\":\"scattergl\",\"marker\":{\"colorbar\":{\"outlinewidth\":0,\"ticks\":\"\"}}}],\"scatter3d\":[{\"type\":\"scatter3d\",\"line\":{\"colorbar\":{\"outlinewidth\":0,\"ticks\":\"\"}},\"marker\":{\"colorbar\":{\"outlinewidth\":0,\"ticks\":\"\"}}}],\"scattermapbox\":[{\"type\":\"scattermapbox\",\"marker\":{\"colorbar\":{\"outlinewidth\":0,\"ticks\":\"\"}}}],\"scatterternary\":[{\"type\":\"scatterternary\",\"marker\":{\"colorbar\":{\"outlinewidth\":0,\"ticks\":\"\"}}}],\"scattercarpet\":[{\"type\":\"scattercarpet\",\"marker\":{\"colorbar\":{\"outlinewidth\":0,\"ticks\":\"\"}}}],\"carpet\":[{\"aaxis\":{\"endlinecolor\":\"#2a3f5f\",\"gridcolor\":\"white\",\"linecolor\":\"white\",\"minorgridcolor\":\"white\",\"startlinecolor\":\"#2a3f5f\"},\"baxis\":{\"endlinecolor\":\"#2a3f5f\",\"gridcolor\":\"white\",\"linecolor\":\"white\",\"minorgridcolor\":\"white\",\"startlinecolor\":\"#2a3f5f\"},\"type\":\"carpet\"}],\"table\":[{\"cells\":{\"fill\":{\"color\":\"#EBF0F8\"},\"line\":{\"color\":\"white\"}},\"header\":{\"fill\":{\"color\":\"#C8D4E3\"},\"line\":{\"color\":\"white\"}},\"type\":\"table\"}],\"barpolar\":[{\"marker\":{\"line\":{\"color\":\"#E5ECF6\",\"width\":0.5},\"pattern\":{\"fillmode\":\"overlay\",\"size\":10,\"solidity\":0.2}},\"type\":\"barpolar\"}],\"pie\":[{\"automargin\":true,\"type\":\"pie\"}]},\"layout\":{\"autotypenumbers\":\"strict\",\"colorway\":[\"#636efa\",\"#EF553B\",\"#00cc96\",\"#ab63fa\",\"#FFA15A\",\"#19d3f3\",\"#FF6692\",\"#B6E880\",\"#FF97FF\",\"#FECB52\"],\"font\":{\"color\":\"#2a3f5f\"},\"hovermode\":\"closest\",\"hoverlabel\":{\"align\":\"left\"},\"paper_bgcolor\":\"white\",\"plot_bgcolor\":\"#E5ECF6\",\"polar\":{\"bgcolor\":\"#E5ECF6\",\"angularaxis\":{\"gridcolor\":\"white\",\"linecolor\":\"white\",\"ticks\":\"\"},\"radialaxis\":{\"gridcolor\":\"white\",\"linecolor\":\"white\",\"ticks\":\"\"}},\"ternary\":{\"bgcolor\":\"#E5ECF6\",\"aaxis\":{\"gridcolor\":\"white\",\"linecolor\":\"white\",\"ticks\":\"\"},\"baxis\":{\"gridcolor\":\"white\",\"linecolor\":\"white\",\"ticks\":\"\"},\"caxis\":{\"gridcolor\":\"white\",\"linecolor\":\"white\",\"ticks\":\"\"}},\"coloraxis\":{\"colorbar\":{\"outlinewidth\":0,\"ticks\":\"\"}},\"colorscale\":{\"sequential\":[[0.0,\"#0d0887\"],[0.1111111111111111,\"#46039f\"],[0.2222222222222222,\"#7201a8\"],[0.3333333333333333,\"#9c179e\"],[0.4444444444444444,\"#bd3786\"],[0.5555555555555556,\"#d8576b\"],[0.6666666666666666,\"#ed7953\"],[0.7777777777777778,\"#fb9f3a\"],[0.8888888888888888,\"#fdca26\"],[1.0,\"#f0f921\"]],\"sequentialminus\":[[0.0,\"#0d0887\"],[0.1111111111111111,\"#46039f\"],[0.2222222222222222,\"#7201a8\"],[0.3333333333333333,\"#9c179e\"],[0.4444444444444444,\"#bd3786\"],[0.5555555555555556,\"#d8576b\"],[0.6666666666666666,\"#ed7953\"],[0.7777777777777778,\"#fb9f3a\"],[0.8888888888888888,\"#fdca26\"],[1.0,\"#f0f921\"]],\"diverging\":[[0,\"#8e0152\"],[0.1,\"#c51b7d\"],[0.2,\"#de77ae\"],[0.3,\"#f1b6da\"],[0.4,\"#fde0ef\"],[0.5,\"#f7f7f7\"],[0.6,\"#e6f5d0\"],[0.7,\"#b8e186\"],[0.8,\"#7fbc41\"],[0.9,\"#4d9221\"],[1,\"#276419\"]]},\"xaxis\":{\"gridcolor\":\"white\",\"linecolor\":\"white\",\"ticks\":\"\",\"title\":{\"standoff\":15},\"zerolinecolor\":\"white\",\"automargin\":true,\"zerolinewidth\":2},\"yaxis\":{\"gridcolor\":\"white\",\"linecolor\":\"white\",\"ticks\":\"\",\"title\":{\"standoff\":15},\"zerolinecolor\":\"white\",\"automargin\":true,\"zerolinewidth\":2},\"scene\":{\"xaxis\":{\"backgroundcolor\":\"#E5ECF6\",\"gridcolor\":\"white\",\"linecolor\":\"white\",\"showbackground\":true,\"ticks\":\"\",\"zerolinecolor\":\"white\",\"gridwidth\":2},\"yaxis\":{\"backgroundcolor\":\"#E5ECF6\",\"gridcolor\":\"white\",\"linecolor\":\"white\",\"showbackground\":true,\"ticks\":\"\",\"zerolinecolor\":\"white\",\"gridwidth\":2},\"zaxis\":{\"backgroundcolor\":\"#E5ECF6\",\"gridcolor\":\"white\",\"linecolor\":\"white\",\"showbackground\":true,\"ticks\":\"\",\"zerolinecolor\":\"white\",\"gridwidth\":2}},\"shapedefaults\":{\"line\":{\"color\":\"#2a3f5f\"}},\"annotationdefaults\":{\"arrowcolor\":\"#2a3f5f\",\"arrowhead\":0,\"arrowwidth\":1},\"geo\":{\"bgcolor\":\"white\",\"landcolor\":\"#E5ECF6\",\"subunitcolor\":\"white\",\"showland\":true,\"showlakes\":true,\"lakecolor\":\"white\"},\"title\":{\"x\":0.05},\"mapbox\":{\"style\":\"light\"}}},\"title\":{\"text\":\"Basic Sankey Diagram\"},\"font\":{\"size\":10}},                        {\"responsive\": true}                    ).then(function(){\n",
       "                            \n",
       "var gd = document.getElementById('5729020c-2547-44a7-a73e-01b48d9e237c');\n",
       "var x = new MutationObserver(function (mutations, observer) {{\n",
       "        var display = window.getComputedStyle(gd).display;\n",
       "        if (!display || display === 'none') {{\n",
       "            console.log([gd, 'removed!']);\n",
       "            Plotly.purge(gd);\n",
       "            observer.disconnect();\n",
       "        }}\n",
       "}});\n",
       "\n",
       "// Listen for the removal of the full notebook cells\n",
       "var notebookContainer = gd.closest('#notebook-container');\n",
       "if (notebookContainer) {{\n",
       "    x.observe(notebookContainer, {childList: true});\n",
       "}}\n",
       "\n",
       "// Listen for the clearing of the current output cell\n",
       "var outputEl = gd.closest('.output');\n",
       "if (outputEl) {{\n",
       "    x.observe(outputEl, {childList: true});\n",
       "}}\n",
       "\n",
       "                        })                };                });            </script>        </div>"
      ]
     },
     "metadata": {},
     "output_type": "display_data"
    }
   ],
   "source": [
    "import plotly.graph_objects\n",
    "\n",
    "fig = plotly.graph_objects.Figure(data = [plotly.graph_objects.Sankey(\n",
    "    node = dict(\n",
    "      pad = 50,\n",
    "      thickness = 20,\n",
    "      line = dict(color = \"black\", width = 0.5),\n",
    "      label = [\"Rx_12mth\",\n",
    "               \"Rx_8mth\", \"not Rx_8mth\",\n",
    "               \"Rx_4mth\", \"not Rx_4mth\",\n",
    "               \"Rx_0mth\", \"not Rx_0mth\"],\n",
    "      color = \"blue\"\n",
    "    ),\n",
    "    link = dict(\n",
    "      source = [\n",
    "          0, # \"Rx_12mth\"      ->   \"Rx_8mth\"\n",
    "          0, # \"Rx_12mth\"      ->   \"not Rx_8mth\"\n",
    "          2, # \"Rx_8mth\"       ->   \"Rx_4mth\"\n",
    "          2, # \"Rx_8mth\"       ->   \"not Rx_4mth\"\n",
    "          3, # \"not Rx_8mth\"   ->   \"Rx_4mth\"\n",
    "          3, # \"not Rx_8mth\"   ->   \"not Rx_4mth\"\n",
    "          4, # \"Rx_4mth\"       ->   \"Rx_0mth\"\n",
    "          4, # \"Rx_4mth\"       ->   \"not Rx_0mth\"\n",
    "          5, # \"not Rx_4mth\"   ->   \"Rx_0mth\"\n",
    "          5, # \"not Rx_4mth\"   ->   \"not Rx_0mth\"\n",
    "      ],\n",
    "      target = [\n",
    "          2, # \"Rx_12mth\"      ->   \"Rx_8mth\"\n",
    "          3, # \"Rx_12mth\"      ->   \"not Rx_8mth\"\n",
    "          4, # \"Rx_8mth\"       ->   \"Rx_4mth\"\n",
    "          5, # \"Rx_8mth\"       ->   \"not Rx_4mth\"\n",
    "          4, # \"not Rx_8mth\"   ->   \"Rx_4mth\"\n",
    "          5, # \"not Rx_8mth\"   ->   \"not Rx_4mth\"\n",
    "          6, # \"Rx_4mth\"       ->   \"Rx_0mth\"\n",
    "          7, # \"Rx_4mth\"       ->   \"not Rx_0mth\"\n",
    "          6, # \"not Rx_4mth\"   ->   \"Rx_0mth\"\n",
    "          7, # \"not Rx_4mth\"   ->   \"not Rx_0mth\"\n",
    "      ],\n",
    "      value = [\n",
    "          20, # \"Rx_12mth\"      ->   \"Rx_8mth\"\n",
    "          20, # \"Rx_12mth\"      ->   \"not Rx_8mth\"\n",
    "          10, # \"Rx_8mth\"       ->   \"Rx_4mth\"\n",
    "          10, # \"Rx_8mth\"       ->   \"not Rx_4mth\"\n",
    "          10, # \"not Rx_8mth\"   ->   \"Rx_4mth\"\n",
    "          10, # \"not Rx_8mth\"   ->   \"not Rx_4mth\"\n",
    "          10, # \"Rx_4mth\"       ->   \"Rx_0mth\"\n",
    "          10, # \"Rx_4mth\"       ->   \"not Rx_0mth\"\n",
    "          10, # \"not Rx_4mth\"   ->   \"Rx_0mth\"\n",
    "          10, # \"not Rx_4mth\"   ->   \"not Rx_0mth\"\n",
    "      ],\n",
    "      color = [\n",
    "          '#636EFA', # \"Rx_12mth\"      ->   \"Rx_8mth\"\n",
    "          '#EF553B', # \"Rx_12mth\"      ->   \"not Rx_8mth\"\n",
    "          '#636EFA', # \"Rx_8mth\"       ->   \"Rx_4mth\"\n",
    "          '#EF553B', # \"Rx_8mth\"       ->   \"not Rx_4mth\"\n",
    "          '#00CC96', # \"not Rx_8mth\"   ->   \"Rx_4mth\"\n",
    "          '#AB63FA', # \"not Rx_8mth\"   ->   \"not Rx_4mth\"\n",
    "          '#636EFA', # \"Rx_4mth\"       ->   \"Rx_0mth\"\n",
    "          '#EF553B', # \"Rx_4mth\"       ->   \"not Rx_0mth\"\n",
    "          '#00CC96', # \"not Rx_4mth\"   ->   \"Rx_0mth\"\n",
    "          '#AB63FA', # \"not Rx_4mth\"   ->   \"not Rx_0mth\"\n",
    "          # Links are colour-coded based on their combination of \n",
    "          # source and destination/target:\n",
    "          # Yes -> Yes = '#0aa116'\n",
    "          # Yes -> No  = '#f71414'\n",
    "          # No  -> Yes = '#10e822'\n",
    "          # No  -> No  = '#b03a3a'\n",
    "      ]\n",
    "  ))])\n",
    "\n",
    "\n",
    "fig.update_layout(title_text = \"Basic Sankey Diagram\", font_size = 10)\n",
    "fig.show()"
   ]
  },
  {
   "cell_type": "markdown",
   "id": "ff7986b8-6256-42e4-a591-c72fdf4b72b8",
   "metadata": {},
   "source": [
    "To make the Sankey diagram that we are looking for, I need to produce a list of lists in the following format:\n",
    "1. myList\\['node_label'\\]   = Preset list of source and target labels:\n",
    "    - \\[\"Rx_12mth\", \"Rx_8mth\", \"not Rx_8mth\", \"Rx_4mth\", \"not Rx_4mth\", \"Rx_0mth\", \"not Rx_0mth\"\\]\n",
    "2. myList\\['link_source'\\]  = Preset list of source nodes, shown in example above:\n",
    "    - \\[0, 0, 1, 1, 2, 2, 3, 3, 4, 4\\]\n",
    "3. myList\\['link_target'\\]  = Preset list of source nodes, shown in example above:\n",
    "    - \\[1, 2, 3, 4, 3, 4, 5, 6, 5, 6\\]\n",
    "4. myList\\['link_value'\\]   = Count of patients with a prescription that match the source and target labels.\n",
    "    - This will be the result of the BigQuery query.\n",
    "5. myList\\['link_colour'\\]  = Preset list of HEX colours:\n",
    "    - \\['#0aa116', '#f71414', '#0aa116', '#f71414', '#10e822', '#b03a3a', '#0aa116', '#f71414', '#10e822', '#b03a3a'\\]"
   ]
  },
  {
   "cell_type": "markdown",
   "id": "5b68755e-9616-4984-87bb-f941ef5827d3",
   "metadata": {},
   "source": [
    "### Imports"
   ]
  },
  {
   "cell_type": "code",
   "execution_count": 6,
   "id": "d6ed30da-74e3-4ea5-9699-39121a358b02",
   "metadata": {
    "jupyter": {
     "source_hidden": true
    },
    "tags": []
   },
   "outputs": [],
   "source": [
    "%run 'UNSEEN_helper_functions.ipynb'\n",
    "%store -r"
   ]
  },
  {
   "cell_type": "markdown",
   "id": "4935369c-3bcd-4182-9fa8-6b462493c18b",
   "metadata": {},
   "source": [
    "### Prerequisites"
   ]
  },
  {
   "cell_type": "code",
   "execution_count": 7,
   "id": "2032ff9d-fc9f-4f0f-9ea5-780f718eda8a",
   "metadata": {
    "jupyter": {
     "source_hidden": true
    },
    "tags": []
   },
   "outputs": [],
   "source": [
    "%%capture\n",
    "# Set index date. Usually CURRENT_DATE() but Dec 2021 will be used until cB fixed the missing prescriptions.\n",
    "myIndexDate =  '2021-12-31'\n",
    "\n",
    "# Set the capture window that indicates an active prescription of the medications of interest.\n",
    "meds_catch_window = range(60)\n",
    "\n",
    "# Set parameters for disclosivity adjustments.\n",
    "redaction_threshold = 7\n",
    "target_round = 10\n",
    "\n",
    "# Set the database attributes.\n",
    "global server_id\n",
    "server_id = 'yhcr-prd-phm-bia-core'\n",
    "global database_id\n",
    "database_id = 'CB_FDM_PrimaryCare_V7'\n",
    "\n",
    "# Set folder location.\n",
    "folder_loc = os.path.dirname(os.path.abspath(\"UNSEEN create caseness array.ipynb\"))\n",
    "folder = folder_loc + '/codelists/'\n",
    "\n",
    "# Medications of interest.\n",
    "medications_to_query_all = pandas.read_csv(folder + \"UNSEEN_medications_list.csv\")"
   ]
  },
  {
   "cell_type": "markdown",
   "id": "d548a72c-5ac3-4dc4-82ba-c8dbf82318bf",
   "metadata": {},
   "source": [
    "### Count patients with prescriptions at each interval threshold."
   ]
  },
  {
   "cell_type": "code",
   "execution_count": 8,
   "id": "d38b6a0f-08ce-4ce7-b714-6902875aee3c",
   "metadata": {
    "jupyter": {
     "source_hidden": true
    },
    "tags": []
   },
   "outputs": [
    {
     "name": "stderr",
     "output_type": "stream",
     "text": [
      "/opt/conda/lib/python3.7/site-packages/google/auth/_default.py:78: UserWarning:\n",
      "\n",
      "Your application has authenticated using end user credentials from Google Cloud SDK without a quota project. You might receive a \"quota exceeded\" or \"API not enabled\" error. See the following page for troubleshooting: https://cloud.google.com/docs/authentication/adc-troubleshooting/user-creds. \n",
      "\n"
     ]
    }
   ],
   "source": [
    "sql_base = \\\n",
    "\"\"\"\n",
    "DECLARE myIndexDate DATE DEFAULT '\"\"\" + myIndexDate + \"\"\"';\n",
    "\n",
    "WITH\n",
    "# ## Define a list of people within the age range.\n",
    "tbl_people_within_age_range AS (\n",
    "    SELECT\n",
    "        DISTINCT person_id\n",
    "    FROM\n",
    "        \"\"\" + server_id + \"\"\".\"\"\" + database_id + \"\"\".person\n",
    "    # Limiting to age range 18-70.\n",
    "    WHERE\n",
    "        (EXTRACT(YEAR FROM myIndexDate) - year_of_birth) BETWEEN 18 AND 70\n",
    ")\n",
    "\"\"\"\n",
    "\n",
    "sql_middle = \\\n",
    "\"\"\"\n",
    "# ## Define the list of medications to search.\n",
    ",tbl_meds_names AS (\n",
    "SELECT\n",
    "    my_nameofmedication\n",
    "FROM\n",
    "    UNNEST([\n",
    "            '\"\"\" + '\\', \\''.join(map(str, medications_to_query_all[\"Medication\"].tolist())) + \"\"\"'\n",
    "            ]) AS my_nameofmedication\n",
    ")\n",
    "# ## Define the list of people and their prescriptions dates, where the people have a\n",
    "# ## prescription for these medications of interest.\n",
    ",tbl_people_and_prescriptions AS (\n",
    "SELECT\n",
    "  DISTINCT person_id\n",
    "  ,datemedicationstart\n",
    "FROM\n",
    "  \"\"\" + server_id + \"\"\".\"\"\" + database_id + \"\"\".tbl_srprimarycaremedication, tbl_meds_names\n",
    "WHERE\n",
    "    nameofmedication LIKE CAST(CONCAT('%',tbl_meds_names.my_nameofmedication,'%') AS STRING)\n",
    ")\n",
    "# ## Define a list of people who have a prescription between 12 and 16 months prior to the index date.\n",
    ",tbl_people_with_prescription_at_36_months AS (\n",
    "SELECT\n",
    "    DISTINCT person_id\n",
    "FROM\n",
    "    tbl_people_and_prescriptions\n",
    "WHERE\n",
    "    DATE_DIFF(myIndexDate, datemedicationstart, MONTH) BETWEEN 36 AND 40\n",
    ")\n",
    "# ## Filter the list of people and their prescriptions to only include those with a prescription\n",
    "# ## between 36 and 40 months prior to the index date.\n",
    ",tbl_people_and_prescriptions_with_prescription_at_36_months AS (\n",
    "SELECT\n",
    "    DISTINCT tbl_people_with_prescription_at_36_months.person_id\n",
    "    ,tbl_people_and_prescriptions.datemedicationstart\n",
    "FROM\n",
    "    tbl_people_with_prescription_at_36_months\n",
    "LEFT JOIN\n",
    "    tbl_people_and_prescriptions\n",
    "    ON tbl_people_with_prescription_at_36_months.person_id = tbl_people_and_prescriptions.person_id\n",
    "WHERE\n",
    "    DATE_DIFF(myIndexDate, tbl_people_and_prescriptions.datemedicationstart, MONTH) <= 40\n",
    ")\n",
    "# ## Add indicators that indcate when a prescription belongs to a particular node.\n",
    ",tbl_add_node_indicators AS (\n",
    "SELECT\n",
    "    DISTINCT person_id\n",
    "    ,datemedicationstart\n",
    "    ,DATE_DIFF(myIndexDate, datemedicationstart, MONTH) AS differenceInMonths\n",
    "    ,CASE WHEN DATE_DIFF(myIndexDate, datemedicationstart, MONTH) >= 36 THEN 1 ELSE 0 END AS at36\n",
    "    ,CASE WHEN DATE_DIFF(myIndexDate, datemedicationstart, MONTH) BETWEEN 30 AND 35 THEN 1 ELSE 0 END AS at30\n",
    "    ,CASE WHEN DATE_DIFF(myIndexDate, datemedicationstart, MONTH) BETWEEN 24 AND 29 THEN 1 ELSE 0 END AS at24\n",
    "    ,CASE WHEN DATE_DIFF(myIndexDate, datemedicationstart, MONTH) BETWEEN 18 AND 23 THEN 1 ELSE 0 END AS at18\n",
    "    ,CASE WHEN DATE_DIFF(myIndexDate, datemedicationstart, MONTH) BETWEEN 12 AND 17 THEN 1 ELSE 0 END AS at12\n",
    "    ,CASE WHEN DATE_DIFF(myIndexDate, datemedicationstart, MONTH) BETWEEN  6 AND 11 THEN 1 ELSE 0 END AS at6\n",
    "    ,CASE WHEN DATE_DIFF(myIndexDate, datemedicationstart, MONTH) BETWEEN  0 AND  6 THEN 1 ELSE 0 END AS at0\n",
    "FROM\n",
    "    tbl_people_and_prescriptions_with_prescription_at_36_months\n",
    "WHERE\n",
    "    datemedicationstart < myIndexDate\n",
    ")\n",
    "# ## \n",
    ",tbl_one_person_per_row AS (\n",
    "SELECT\n",
    "    DISTINCT person_id\n",
    "    ,1 AS at36Months\n",
    "    ,CASE WHEN MAX(at30) OVER (PARTITION BY person_id) = 1 THEN 1 ELSE 0 END AS stillAt30Months\n",
    "    ,CASE WHEN MAX(at24) OVER (PARTITION BY person_id) = 1 THEN 1 ELSE 0 END AS stillAt24Months\n",
    "    ,CASE WHEN MAX(at18) OVER (PARTITION BY person_id) = 1 THEN 1 ELSE 0 END AS stillAt18Months\n",
    "    ,CASE WHEN MAX(at12) OVER (PARTITION BY person_id) = 1 THEN 1 ELSE 0 END AS stillAt12Months\n",
    "    ,CASE WHEN MAX(at6) OVER (PARTITION BY person_id) = 1 THEN 1 ELSE 0 END AS stillAt6Months\n",
    "    ,CASE WHEN MAX(at0) OVER (PARTITION BY person_id) = 1 THEN 1 ELSE 0 END AS stillAt0Months\n",
    "FROM\n",
    "    tbl_add_node_indicators\n",
    ")\n",
    "# ## Counts.\n",
    ",tbl_counts AS (\n",
    "SELECT 1 AS myOrder , 'at36months' AS Node , COUNT(DISTINCT person_id) AS n FROM tbl_one_person_per_row WHERE at36Months = 1\n",
    "UNION ALL\n",
    "SELECT 2 AS myOrder , 'Rx_36mth -> Rx_30mth' AS Node , COUNT(DISTINCT person_id) AS n FROM tbl_one_person_per_row WHERE at36Months = 1 AND stillAt30Months = 1\n",
    "UNION ALL\n",
    "SELECT 3 AS myOrder, 'Rx_36mth -> not Rx_30mth' AS Node, COUNT(DISTINCT person_id) AS n FROM tbl_one_person_per_row WHERE at36Months = 1 AND stillAt30Months = 0\n",
    "UNION ALL\n",
    "SELECT 4 AS myOrder, 'Rx_30mth -> Rx_24mth' AS Node, COUNT(DISTINCT person_id) AS n FROM tbl_one_person_per_row WHERE stillAt30Months = 1 AND stillAt24Months = 1\n",
    "UNION ALL\n",
    "SELECT 5 AS myOrder, 'Rx_30mth -> not Rx_24mth' AS Node, COUNT(DISTINCT person_id) AS n FROM tbl_one_person_per_row WHERE stillAt30Months = 1 AND stillAt24Months = 0\n",
    "UNION ALL\n",
    "SELECT 6 AS myOrder, 'not Rx_30mth -> Rx_24mth' AS Node, COUNT(DISTINCT person_id) AS n FROM tbl_one_person_per_row WHERE stillAt30Months = 0 AND stillAt24Months = 1\n",
    "UNION ALL\n",
    "SELECT 7 AS myOrder, 'not Rx_30mth -> not Rx_24mth' AS Node, COUNT(DISTINCT person_id) AS n FROM tbl_one_person_per_row WHERE stillAt30Months = 0 AND stillAt24Months = 0\n",
    "UNION ALL\n",
    "SELECT 8 AS myOrder, 'Rx_24mth -> Rx_18mth' AS Node, COUNT(DISTINCT person_id) AS n FROM tbl_one_person_per_row WHERE stillAt24Months = 1 AND stillAt18Months = 1\n",
    "UNION ALL\n",
    "SELECT 9 AS myOrder, 'Rx_24mth -> not Rx_18mth' AS Node, COUNT(DISTINCT person_id) AS n FROM tbl_one_person_per_row WHERE stillAt24Months = 1 AND stillAt18Months = 0\n",
    "UNION ALL\n",
    "SELECT 10 AS myOrder, 'not Rx_24mth -> Rx_18mth' AS Node, COUNT(DISTINCT person_id) AS n FROM tbl_one_person_per_row WHERE stillAt24Months = 0 AND stillAt18Months = 1\n",
    "UNION ALL\n",
    "SELECT 11 AS myOrder, 'not Rx_24mth -> not Rx_18mth' AS Node, COUNT(DISTINCT person_id) AS n FROM tbl_one_person_per_row WHERE stillAt24Months = 0 AND stillAt18Months = 0\n",
    "UNION ALL\n",
    "SELECT 12 AS myOrder, 'Rx_18mth -> Rx_12mth' AS Node, COUNT(DISTINCT person_id) AS n FROM tbl_one_person_per_row WHERE stillAt18Months = 1 AND stillAt12Months = 1\n",
    "UNION ALL\n",
    "SELECT 13 AS myOrder, 'Rx_18mth -> not Rx_12mth' AS Node, COUNT(DISTINCT person_id) AS n FROM tbl_one_person_per_row WHERE stillAt18Months = 1 AND stillAt12Months = 0\n",
    "UNION ALL\n",
    "SELECT 14 AS myOrder, 'not Rx_18mth -> Rx_12mth' AS Node, COUNT(DISTINCT person_id) AS n FROM tbl_one_person_per_row WHERE stillAt18Months = 0 AND stillAt12Months = 1\n",
    "UNION ALL\n",
    "SELECT 15 AS myOrder, 'not Rx_18mth -> not Rx_12mth' AS Node, COUNT(DISTINCT person_id) AS n FROM tbl_one_person_per_row WHERE stillAt18Months = 0 AND stillAt12Months = 0\n",
    "UNION ALL\n",
    "SELECT 16 AS myOrder, 'Rx_12mth -> Rx_6mth' AS Node, COUNT(DISTINCT person_id) AS n FROM tbl_one_person_per_row WHERE stillAt12Months = 1 AND stillAt6Months = 1\n",
    "UNION ALL\n",
    "SELECT 17 AS myOrder, 'Rx_12mth -> not Rx_6mth' AS Node, COUNT(DISTINCT person_id) AS n FROM tbl_one_person_per_row WHERE stillAt12Months = 1 AND stillAt6Months = 0\n",
    "UNION ALL\n",
    "SELECT 18 AS myOrder, 'not Rx_12mth -> Rx_6mth' AS Node, COUNT(DISTINCT person_id) AS n FROM tbl_one_person_per_row WHERE stillAt12Months = 0 AND stillAt6Months = 1\n",
    "UNION ALL\n",
    "SELECT 19 AS myOrder, 'not Rx_12mth -> not Rx_6mth' AS Node, COUNT(DISTINCT person_id) AS n FROM tbl_one_person_per_row WHERE stillAt12Months = 0 AND stillAt6Months = 0\n",
    "UNION ALL\n",
    "SELECT 20 AS myOrder, 'Rx_6mth -> Rx_0mth' AS Node, COUNT(DISTINCT person_id) AS n FROM tbl_one_person_per_row WHERE stillAt6Months = 1 AND stillAt0Months = 1\n",
    "UNION ALL\n",
    "SELECT 21 AS myOrder, 'Rx_6mth -> not Rx_0mth' AS Node, COUNT(DISTINCT person_id) AS n FROM tbl_one_person_per_row WHERE stillAt6Months = 1 AND stillAt0Months = 0\n",
    "UNION ALL\n",
    "SELECT 22 AS myOrder, 'not Rx_6mth -> Rx_0mth' AS Node, COUNT(DISTINCT person_id) AS n FROM tbl_one_person_per_row WHERE stillAt6Months = 0 AND stillAt0Months = 1\n",
    "UNION ALL\n",
    "SELECT 23 AS myOrder, 'not Rx_6mth -> not Rx_0mth' AS Node, COUNT(DISTINCT person_id) AS n FROM tbl_one_person_per_row WHERE stillAt6Months = 0 AND stillAt0Months = 0\n",
    ")\n",
    "\"\"\"\n",
    "\n",
    "bqTable = pandas.read_gbq(sql_base + sql_middle + \"SELECT * FROM tbl_counts ORDER BY myOrder\")\n",
    "bqTable.n = round(bqTable.n / target_round) * target_round"
   ]
  },
  {
   "cell_type": "code",
   "execution_count": 9,
   "id": "d98ad460-e543-4904-a584-68bb3eb10152",
   "metadata": {
    "jupyter": {
     "source_hidden": true
    },
    "tags": []
   },
   "outputs": [
    {
     "data": {
      "text/html": [
       "<div>\n",
       "<style scoped>\n",
       "    .dataframe tbody tr th:only-of-type {\n",
       "        vertical-align: middle;\n",
       "    }\n",
       "\n",
       "    .dataframe tbody tr th {\n",
       "        vertical-align: top;\n",
       "    }\n",
       "\n",
       "    .dataframe thead th {\n",
       "        text-align: right;\n",
       "    }\n",
       "</style>\n",
       "<table border=\"1\" class=\"dataframe\">\n",
       "  <thead>\n",
       "    <tr style=\"text-align: right;\">\n",
       "      <th></th>\n",
       "      <th>myOrder</th>\n",
       "      <th>Node</th>\n",
       "      <th>n</th>\n",
       "      <th>pct_diff</th>\n",
       "    </tr>\n",
       "  </thead>\n",
       "  <tbody>\n",
       "    <tr>\n",
       "      <th>0</th>\n",
       "      <td>1</td>\n",
       "      <td>at36months</td>\n",
       "      <td>55980.0</td>\n",
       "      <td>&lt;NA&gt;</td>\n",
       "    </tr>\n",
       "    <tr>\n",
       "      <th>1</th>\n",
       "      <td>2</td>\n",
       "      <td>Rx_36mth -&gt; Rx_30mth</td>\n",
       "      <td>45550.0</td>\n",
       "      <td>-22.897914</td>\n",
       "    </tr>\n",
       "    <tr>\n",
       "      <th>2</th>\n",
       "      <td>3</td>\n",
       "      <td>Rx_36mth -&gt; not Rx_30mth</td>\n",
       "      <td>10430.0</td>\n",
       "      <td>-336.720997</td>\n",
       "    </tr>\n",
       "    <tr>\n",
       "      <th>3</th>\n",
       "      <td>4</td>\n",
       "      <td>Rx_30mth -&gt; Rx_24mth</td>\n",
       "      <td>39810.0</td>\n",
       "      <td>73.800553</td>\n",
       "    </tr>\n",
       "    <tr>\n",
       "      <th>4</th>\n",
       "      <td>5</td>\n",
       "      <td>Rx_30mth -&gt; not Rx_24mth</td>\n",
       "      <td>5740.0</td>\n",
       "      <td>-593.554007</td>\n",
       "    </tr>\n",
       "    <tr>\n",
       "      <th>5</th>\n",
       "      <td>6</td>\n",
       "      <td>not Rx_30mth -&gt; Rx_24mth</td>\n",
       "      <td>1890.0</td>\n",
       "      <td>-203.703704</td>\n",
       "    </tr>\n",
       "    <tr>\n",
       "      <th>6</th>\n",
       "      <td>7</td>\n",
       "      <td>not Rx_30mth -&gt; not Rx_24mth</td>\n",
       "      <td>8530.0</td>\n",
       "      <td>77.842907</td>\n",
       "    </tr>\n",
       "    <tr>\n",
       "      <th>7</th>\n",
       "      <td>8</td>\n",
       "      <td>Rx_24mth -&gt; Rx_18mth</td>\n",
       "      <td>37120.0</td>\n",
       "      <td>77.020474</td>\n",
       "    </tr>\n",
       "    <tr>\n",
       "      <th>8</th>\n",
       "      <td>9</td>\n",
       "      <td>Rx_24mth -&gt; not Rx_18mth</td>\n",
       "      <td>4580.0</td>\n",
       "      <td>-710.480349</td>\n",
       "    </tr>\n",
       "    <tr>\n",
       "      <th>9</th>\n",
       "      <td>10</td>\n",
       "      <td>not Rx_24mth -&gt; Rx_18mth</td>\n",
       "      <td>2000.0</td>\n",
       "      <td>-129.0</td>\n",
       "    </tr>\n",
       "    <tr>\n",
       "      <th>10</th>\n",
       "      <td>11</td>\n",
       "      <td>not Rx_24mth -&gt; not Rx_18mth</td>\n",
       "      <td>12270.0</td>\n",
       "      <td>83.700081</td>\n",
       "    </tr>\n",
       "    <tr>\n",
       "      <th>11</th>\n",
       "      <td>12</td>\n",
       "      <td>Rx_18mth -&gt; Rx_12mth</td>\n",
       "      <td>35120.0</td>\n",
       "      <td>65.062642</td>\n",
       "    </tr>\n",
       "    <tr>\n",
       "      <th>12</th>\n",
       "      <td>13</td>\n",
       "      <td>Rx_18mth -&gt; not Rx_12mth</td>\n",
       "      <td>4010.0</td>\n",
       "      <td>-775.810474</td>\n",
       "    </tr>\n",
       "    <tr>\n",
       "      <th>13</th>\n",
       "      <td>14</td>\n",
       "      <td>not Rx_18mth -&gt; Rx_12mth</td>\n",
       "      <td>2030.0</td>\n",
       "      <td>-97.536946</td>\n",
       "    </tr>\n",
       "    <tr>\n",
       "      <th>14</th>\n",
       "      <td>15</td>\n",
       "      <td>not Rx_18mth -&gt; not Rx_12mth</td>\n",
       "      <td>14820.0</td>\n",
       "      <td>86.302294</td>\n",
       "    </tr>\n",
       "    <tr>\n",
       "      <th>15</th>\n",
       "      <td>16</td>\n",
       "      <td>Rx_12mth -&gt; Rx_6mth</td>\n",
       "      <td>32550.0</td>\n",
       "      <td>54.470046</td>\n",
       "    </tr>\n",
       "    <tr>\n",
       "      <th>16</th>\n",
       "      <td>17</td>\n",
       "      <td>Rx_12mth -&gt; not Rx_6mth</td>\n",
       "      <td>4590.0</td>\n",
       "      <td>-609.150327</td>\n",
       "    </tr>\n",
       "    <tr>\n",
       "      <th>17</th>\n",
       "      <td>18</td>\n",
       "      <td>not Rx_12mth -&gt; Rx_6mth</td>\n",
       "      <td>2220.0</td>\n",
       "      <td>-106.756757</td>\n",
       "    </tr>\n",
       "    <tr>\n",
       "      <th>18</th>\n",
       "      <td>19</td>\n",
       "      <td>not Rx_12mth -&gt; not Rx_6mth</td>\n",
       "      <td>16620.0</td>\n",
       "      <td>86.642599</td>\n",
       "    </tr>\n",
       "    <tr>\n",
       "      <th>19</th>\n",
       "      <td>20</td>\n",
       "      <td>Rx_6mth -&gt; Rx_0mth</td>\n",
       "      <td>32320.0</td>\n",
       "      <td>48.576733</td>\n",
       "    </tr>\n",
       "    <tr>\n",
       "      <th>20</th>\n",
       "      <td>21</td>\n",
       "      <td>Rx_6mth -&gt; not Rx_0mth</td>\n",
       "      <td>2450.0</td>\n",
       "      <td>-1219.183673</td>\n",
       "    </tr>\n",
       "    <tr>\n",
       "      <th>21</th>\n",
       "      <td>22</td>\n",
       "      <td>not Rx_6mth -&gt; Rx_0mth</td>\n",
       "      <td>3410.0</td>\n",
       "      <td>28.152493</td>\n",
       "    </tr>\n",
       "    <tr>\n",
       "      <th>22</th>\n",
       "      <td>23</td>\n",
       "      <td>not Rx_6mth -&gt; not Rx_0mth</td>\n",
       "      <td>17800.0</td>\n",
       "      <td>&lt;NA&gt;</td>\n",
       "    </tr>\n",
       "  </tbody>\n",
       "</table>\n",
       "</div>"
      ],
      "text/plain": [
       "    myOrder                          Node        n     pct_diff\n",
       "0         1                    at36months  55980.0         <NA>\n",
       "1         2          Rx_36mth -> Rx_30mth  45550.0   -22.897914\n",
       "2         3      Rx_36mth -> not Rx_30mth  10430.0  -336.720997\n",
       "3         4          Rx_30mth -> Rx_24mth  39810.0    73.800553\n",
       "4         5      Rx_30mth -> not Rx_24mth   5740.0  -593.554007\n",
       "5         6      not Rx_30mth -> Rx_24mth   1890.0  -203.703704\n",
       "6         7  not Rx_30mth -> not Rx_24mth   8530.0    77.842907\n",
       "7         8          Rx_24mth -> Rx_18mth  37120.0    77.020474\n",
       "8         9      Rx_24mth -> not Rx_18mth   4580.0  -710.480349\n",
       "9        10      not Rx_24mth -> Rx_18mth   2000.0       -129.0\n",
       "10       11  not Rx_24mth -> not Rx_18mth  12270.0    83.700081\n",
       "11       12          Rx_18mth -> Rx_12mth  35120.0    65.062642\n",
       "12       13      Rx_18mth -> not Rx_12mth   4010.0  -775.810474\n",
       "13       14      not Rx_18mth -> Rx_12mth   2030.0   -97.536946\n",
       "14       15  not Rx_18mth -> not Rx_12mth  14820.0    86.302294\n",
       "15       16           Rx_12mth -> Rx_6mth  32550.0    54.470046\n",
       "16       17       Rx_12mth -> not Rx_6mth   4590.0  -609.150327\n",
       "17       18       not Rx_12mth -> Rx_6mth   2220.0  -106.756757\n",
       "18       19   not Rx_12mth -> not Rx_6mth  16620.0    86.642599\n",
       "19       20            Rx_6mth -> Rx_0mth  32320.0    48.576733\n",
       "20       21        Rx_6mth -> not Rx_0mth   2450.0 -1219.183673\n",
       "21       22        not Rx_6mth -> Rx_0mth   3410.0    28.152493\n",
       "22       23    not Rx_6mth -> not Rx_0mth  17800.0         <NA>"
      ]
     },
     "metadata": {},
     "output_type": "display_data"
    }
   ],
   "source": [
    "bqTable['pct_diff'] = bqTable.n.diff()/bqTable.n[:-1] * 100\n",
    "display(bqTable)"
   ]
  },
  {
   "cell_type": "markdown",
   "id": "c21d0542-d27d-4228-b8dc-585ca6c4c467",
   "metadata": {
    "tags": []
   },
   "source": [
    "### Create myList of list components"
   ]
  },
  {
   "cell_type": "code",
   "execution_count": 10,
   "id": "34ba5b13-7c07-49d4-85c2-ca07f5d0498f",
   "metadata": {
    "jupyter": {
     "source_hidden": true
    },
    "tags": []
   },
   "outputs": [],
   "source": [
    "node_label  = [\"Rx at 36 months\",\n",
    "               \"Rx at 30 months\", \"no Rx 30 months\",\n",
    "               \"Rx at 24 months\", \"no Rx 24 months\",\n",
    "               \"Rx at 18 months\", \"no Rx 18 months\",\n",
    "               \"Rx at 12 months\", \"no Rx 12 months\",\n",
    "               \"Rx at 6 months\",  \"no Rx 6 months\",\n",
    "               \"Rx at index date\", \"no Rx at index date\"]\n",
    "link_source = [0, 0, 1, 1, 2, 2, 3, 3, 4, 4, 5, 5, 6, 6, 7,  7, 8,  8,  9,  9, 10, 10]\n",
    "link_target = [1, 2, 3, 4, 3, 4, 5, 6, 5, 6, 7, 8, 7, 8, 9, 10, 9, 10, 11, 12, 11, 12]\n",
    "link_value  = list(bqTable.n.tail(-1))\n",
    "link_colour = ['#0aa116', '#f71414',\n",
    "               '#0aa116', '#f71414', '#10e822', '#b03a3a',\n",
    "               '#0aa116', '#f71414', '#10e822', '#b03a3a',\n",
    "               '#0aa116', '#f71414', '#10e822', '#b03a3a',\n",
    "               '#0aa116', '#f71414', '#10e822', '#b03a3a',\n",
    "               '#0aa116', '#f71414', '#10e822', '#b03a3a']\n",
    "              \n",
    "myDict = dict(node_label = node_label,\n",
    "          link_source = link_source,\n",
    "          link_target = link_target,\n",
    "          link_value = link_value,\n",
    "          link_colour = link_colour\n",
    "             )"
   ]
  },
  {
   "cell_type": "markdown",
   "id": "f3f300f6-27fd-443b-9eed-bcbb1039be0d",
   "metadata": {},
   "source": [
    "### Create Sankey."
   ]
  },
  {
   "cell_type": "code",
   "execution_count": 11,
   "id": "f5c53c2d-14e1-43df-b647-274495a185c4",
   "metadata": {
    "jupyter": {
     "source_hidden": true
    },
    "tags": []
   },
   "outputs": [
    {
     "data": {
      "application/vnd.plotly.v1+json": {
       "config": {
        "plotlyServerURL": "https://plot.ly"
       },
       "data": [
        {
         "link": {
          "color": [
           "#0aa116",
           "#f71414",
           "#0aa116",
           "#f71414",
           "#10e822",
           "#b03a3a",
           "#0aa116",
           "#f71414",
           "#10e822",
           "#b03a3a",
           "#0aa116",
           "#f71414",
           "#10e822",
           "#b03a3a",
           "#0aa116",
           "#f71414",
           "#10e822",
           "#b03a3a",
           "#0aa116",
           "#f71414",
           "#10e822",
           "#b03a3a"
          ],
          "source": [
           0,
           0,
           1,
           1,
           2,
           2,
           3,
           3,
           4,
           4,
           5,
           5,
           6,
           6,
           7,
           7,
           8,
           8,
           9,
           9,
           10,
           10
          ],
          "target": [
           1,
           2,
           3,
           4,
           3,
           4,
           5,
           6,
           5,
           6,
           7,
           8,
           7,
           8,
           9,
           10,
           9,
           10,
           11,
           12,
           11,
           12
          ],
          "value": [
           45550,
           10430,
           39810,
           5740,
           1890,
           8530,
           37120,
           4580,
           2000,
           12270,
           35120,
           4010,
           2030,
           14820,
           32550,
           4590,
           2220,
           16620,
           32320,
           2450,
           3410,
           17800
          ]
         },
         "node": {
          "color": "lightgrey",
          "label": [
           "Rx at 36 months",
           "Rx at 30 months",
           "no Rx 30 months",
           "Rx at 24 months",
           "no Rx 24 months",
           "Rx at 18 months",
           "no Rx 18 months",
           "Rx at 12 months",
           "no Rx 12 months",
           "Rx at 6 months",
           "no Rx 6 months",
           "Rx at index date",
           "no Rx at index date"
          ],
          "line": {
           "color": "black",
           "width": 0.5
          },
          "pad": 50,
          "thickness": 30,
          "x": [
           0.01,
           0.14,
           0.14,
           0.3,
           0.3,
           0.44,
           0.44,
           0.6,
           0.6,
           0.74,
           0.74,
           1,
           1
          ],
          "y": [
           0.65,
           0.5,
           1,
           0.5,
           1,
           0.5,
           1,
           0.5,
           1,
           0.5,
           1,
           0.5,
           1
          ]
         },
         "type": "sankey"
        }
       ],
       "layout": {
        "autosize": true,
        "font": {
         "size": 15
        },
        "template": {
         "data": {
          "bar": [
           {
            "error_x": {
             "color": "#2a3f5f"
            },
            "error_y": {
             "color": "#2a3f5f"
            },
            "marker": {
             "line": {
              "color": "#E5ECF6",
              "width": 0.5
             },
             "pattern": {
              "fillmode": "overlay",
              "size": 10,
              "solidity": 0.2
             }
            },
            "type": "bar"
           }
          ],
          "barpolar": [
           {
            "marker": {
             "line": {
              "color": "#E5ECF6",
              "width": 0.5
             },
             "pattern": {
              "fillmode": "overlay",
              "size": 10,
              "solidity": 0.2
             }
            },
            "type": "barpolar"
           }
          ],
          "carpet": [
           {
            "aaxis": {
             "endlinecolor": "#2a3f5f",
             "gridcolor": "white",
             "linecolor": "white",
             "minorgridcolor": "white",
             "startlinecolor": "#2a3f5f"
            },
            "baxis": {
             "endlinecolor": "#2a3f5f",
             "gridcolor": "white",
             "linecolor": "white",
             "minorgridcolor": "white",
             "startlinecolor": "#2a3f5f"
            },
            "type": "carpet"
           }
          ],
          "choropleth": [
           {
            "colorbar": {
             "outlinewidth": 0,
             "ticks": ""
            },
            "type": "choropleth"
           }
          ],
          "contour": [
           {
            "colorbar": {
             "outlinewidth": 0,
             "ticks": ""
            },
            "colorscale": [
             [
              0,
              "#0d0887"
             ],
             [
              0.1111111111111111,
              "#46039f"
             ],
             [
              0.2222222222222222,
              "#7201a8"
             ],
             [
              0.3333333333333333,
              "#9c179e"
             ],
             [
              0.4444444444444444,
              "#bd3786"
             ],
             [
              0.5555555555555556,
              "#d8576b"
             ],
             [
              0.6666666666666666,
              "#ed7953"
             ],
             [
              0.7777777777777778,
              "#fb9f3a"
             ],
             [
              0.8888888888888888,
              "#fdca26"
             ],
             [
              1,
              "#f0f921"
             ]
            ],
            "type": "contour"
           }
          ],
          "contourcarpet": [
           {
            "colorbar": {
             "outlinewidth": 0,
             "ticks": ""
            },
            "type": "contourcarpet"
           }
          ],
          "heatmap": [
           {
            "colorbar": {
             "outlinewidth": 0,
             "ticks": ""
            },
            "colorscale": [
             [
              0,
              "#0d0887"
             ],
             [
              0.1111111111111111,
              "#46039f"
             ],
             [
              0.2222222222222222,
              "#7201a8"
             ],
             [
              0.3333333333333333,
              "#9c179e"
             ],
             [
              0.4444444444444444,
              "#bd3786"
             ],
             [
              0.5555555555555556,
              "#d8576b"
             ],
             [
              0.6666666666666666,
              "#ed7953"
             ],
             [
              0.7777777777777778,
              "#fb9f3a"
             ],
             [
              0.8888888888888888,
              "#fdca26"
             ],
             [
              1,
              "#f0f921"
             ]
            ],
            "type": "heatmap"
           }
          ],
          "heatmapgl": [
           {
            "colorbar": {
             "outlinewidth": 0,
             "ticks": ""
            },
            "colorscale": [
             [
              0,
              "#0d0887"
             ],
             [
              0.1111111111111111,
              "#46039f"
             ],
             [
              0.2222222222222222,
              "#7201a8"
             ],
             [
              0.3333333333333333,
              "#9c179e"
             ],
             [
              0.4444444444444444,
              "#bd3786"
             ],
             [
              0.5555555555555556,
              "#d8576b"
             ],
             [
              0.6666666666666666,
              "#ed7953"
             ],
             [
              0.7777777777777778,
              "#fb9f3a"
             ],
             [
              0.8888888888888888,
              "#fdca26"
             ],
             [
              1,
              "#f0f921"
             ]
            ],
            "type": "heatmapgl"
           }
          ],
          "histogram": [
           {
            "marker": {
             "pattern": {
              "fillmode": "overlay",
              "size": 10,
              "solidity": 0.2
             }
            },
            "type": "histogram"
           }
          ],
          "histogram2d": [
           {
            "colorbar": {
             "outlinewidth": 0,
             "ticks": ""
            },
            "colorscale": [
             [
              0,
              "#0d0887"
             ],
             [
              0.1111111111111111,
              "#46039f"
             ],
             [
              0.2222222222222222,
              "#7201a8"
             ],
             [
              0.3333333333333333,
              "#9c179e"
             ],
             [
              0.4444444444444444,
              "#bd3786"
             ],
             [
              0.5555555555555556,
              "#d8576b"
             ],
             [
              0.6666666666666666,
              "#ed7953"
             ],
             [
              0.7777777777777778,
              "#fb9f3a"
             ],
             [
              0.8888888888888888,
              "#fdca26"
             ],
             [
              1,
              "#f0f921"
             ]
            ],
            "type": "histogram2d"
           }
          ],
          "histogram2dcontour": [
           {
            "colorbar": {
             "outlinewidth": 0,
             "ticks": ""
            },
            "colorscale": [
             [
              0,
              "#0d0887"
             ],
             [
              0.1111111111111111,
              "#46039f"
             ],
             [
              0.2222222222222222,
              "#7201a8"
             ],
             [
              0.3333333333333333,
              "#9c179e"
             ],
             [
              0.4444444444444444,
              "#bd3786"
             ],
             [
              0.5555555555555556,
              "#d8576b"
             ],
             [
              0.6666666666666666,
              "#ed7953"
             ],
             [
              0.7777777777777778,
              "#fb9f3a"
             ],
             [
              0.8888888888888888,
              "#fdca26"
             ],
             [
              1,
              "#f0f921"
             ]
            ],
            "type": "histogram2dcontour"
           }
          ],
          "mesh3d": [
           {
            "colorbar": {
             "outlinewidth": 0,
             "ticks": ""
            },
            "type": "mesh3d"
           }
          ],
          "parcoords": [
           {
            "line": {
             "colorbar": {
              "outlinewidth": 0,
              "ticks": ""
             }
            },
            "type": "parcoords"
           }
          ],
          "pie": [
           {
            "automargin": true,
            "type": "pie"
           }
          ],
          "scatter": [
           {
            "fillpattern": {
             "fillmode": "overlay",
             "size": 10,
             "solidity": 0.2
            },
            "type": "scatter"
           }
          ],
          "scatter3d": [
           {
            "line": {
             "colorbar": {
              "outlinewidth": 0,
              "ticks": ""
             }
            },
            "marker": {
             "colorbar": {
              "outlinewidth": 0,
              "ticks": ""
             }
            },
            "type": "scatter3d"
           }
          ],
          "scattercarpet": [
           {
            "marker": {
             "colorbar": {
              "outlinewidth": 0,
              "ticks": ""
             }
            },
            "type": "scattercarpet"
           }
          ],
          "scattergeo": [
           {
            "marker": {
             "colorbar": {
              "outlinewidth": 0,
              "ticks": ""
             }
            },
            "type": "scattergeo"
           }
          ],
          "scattergl": [
           {
            "marker": {
             "colorbar": {
              "outlinewidth": 0,
              "ticks": ""
             }
            },
            "type": "scattergl"
           }
          ],
          "scattermapbox": [
           {
            "marker": {
             "colorbar": {
              "outlinewidth": 0,
              "ticks": ""
             }
            },
            "type": "scattermapbox"
           }
          ],
          "scatterpolar": [
           {
            "marker": {
             "colorbar": {
              "outlinewidth": 0,
              "ticks": ""
             }
            },
            "type": "scatterpolar"
           }
          ],
          "scatterpolargl": [
           {
            "marker": {
             "colorbar": {
              "outlinewidth": 0,
              "ticks": ""
             }
            },
            "type": "scatterpolargl"
           }
          ],
          "scatterternary": [
           {
            "marker": {
             "colorbar": {
              "outlinewidth": 0,
              "ticks": ""
             }
            },
            "type": "scatterternary"
           }
          ],
          "surface": [
           {
            "colorbar": {
             "outlinewidth": 0,
             "ticks": ""
            },
            "colorscale": [
             [
              0,
              "#0d0887"
             ],
             [
              0.1111111111111111,
              "#46039f"
             ],
             [
              0.2222222222222222,
              "#7201a8"
             ],
             [
              0.3333333333333333,
              "#9c179e"
             ],
             [
              0.4444444444444444,
              "#bd3786"
             ],
             [
              0.5555555555555556,
              "#d8576b"
             ],
             [
              0.6666666666666666,
              "#ed7953"
             ],
             [
              0.7777777777777778,
              "#fb9f3a"
             ],
             [
              0.8888888888888888,
              "#fdca26"
             ],
             [
              1,
              "#f0f921"
             ]
            ],
            "type": "surface"
           }
          ],
          "table": [
           {
            "cells": {
             "fill": {
              "color": "#EBF0F8"
             },
             "line": {
              "color": "white"
             }
            },
            "header": {
             "fill": {
              "color": "#C8D4E3"
             },
             "line": {
              "color": "white"
             }
            },
            "type": "table"
           }
          ]
         },
         "layout": {
          "annotationdefaults": {
           "arrowcolor": "#2a3f5f",
           "arrowhead": 0,
           "arrowwidth": 1
          },
          "autotypenumbers": "strict",
          "coloraxis": {
           "colorbar": {
            "outlinewidth": 0,
            "ticks": ""
           }
          },
          "colorscale": {
           "diverging": [
            [
             0,
             "#8e0152"
            ],
            [
             0.1,
             "#c51b7d"
            ],
            [
             0.2,
             "#de77ae"
            ],
            [
             0.3,
             "#f1b6da"
            ],
            [
             0.4,
             "#fde0ef"
            ],
            [
             0.5,
             "#f7f7f7"
            ],
            [
             0.6,
             "#e6f5d0"
            ],
            [
             0.7,
             "#b8e186"
            ],
            [
             0.8,
             "#7fbc41"
            ],
            [
             0.9,
             "#4d9221"
            ],
            [
             1,
             "#276419"
            ]
           ],
           "sequential": [
            [
             0,
             "#0d0887"
            ],
            [
             0.1111111111111111,
             "#46039f"
            ],
            [
             0.2222222222222222,
             "#7201a8"
            ],
            [
             0.3333333333333333,
             "#9c179e"
            ],
            [
             0.4444444444444444,
             "#bd3786"
            ],
            [
             0.5555555555555556,
             "#d8576b"
            ],
            [
             0.6666666666666666,
             "#ed7953"
            ],
            [
             0.7777777777777778,
             "#fb9f3a"
            ],
            [
             0.8888888888888888,
             "#fdca26"
            ],
            [
             1,
             "#f0f921"
            ]
           ],
           "sequentialminus": [
            [
             0,
             "#0d0887"
            ],
            [
             0.1111111111111111,
             "#46039f"
            ],
            [
             0.2222222222222222,
             "#7201a8"
            ],
            [
             0.3333333333333333,
             "#9c179e"
            ],
            [
             0.4444444444444444,
             "#bd3786"
            ],
            [
             0.5555555555555556,
             "#d8576b"
            ],
            [
             0.6666666666666666,
             "#ed7953"
            ],
            [
             0.7777777777777778,
             "#fb9f3a"
            ],
            [
             0.8888888888888888,
             "#fdca26"
            ],
            [
             1,
             "#f0f921"
            ]
           ]
          },
          "colorway": [
           "#636efa",
           "#EF553B",
           "#00cc96",
           "#ab63fa",
           "#FFA15A",
           "#19d3f3",
           "#FF6692",
           "#B6E880",
           "#FF97FF",
           "#FECB52"
          ],
          "font": {
           "color": "#2a3f5f"
          },
          "geo": {
           "bgcolor": "white",
           "lakecolor": "white",
           "landcolor": "#E5ECF6",
           "showlakes": true,
           "showland": true,
           "subunitcolor": "white"
          },
          "hoverlabel": {
           "align": "left"
          },
          "hovermode": "closest",
          "mapbox": {
           "style": "light"
          },
          "paper_bgcolor": "white",
          "plot_bgcolor": "#E5ECF6",
          "polar": {
           "angularaxis": {
            "gridcolor": "white",
            "linecolor": "white",
            "ticks": ""
           },
           "bgcolor": "#E5ECF6",
           "radialaxis": {
            "gridcolor": "white",
            "linecolor": "white",
            "ticks": ""
           }
          },
          "scene": {
           "xaxis": {
            "backgroundcolor": "#E5ECF6",
            "gridcolor": "white",
            "gridwidth": 2,
            "linecolor": "white",
            "showbackground": true,
            "ticks": "",
            "zerolinecolor": "white"
           },
           "yaxis": {
            "backgroundcolor": "#E5ECF6",
            "gridcolor": "white",
            "gridwidth": 2,
            "linecolor": "white",
            "showbackground": true,
            "ticks": "",
            "zerolinecolor": "white"
           },
           "zaxis": {
            "backgroundcolor": "#E5ECF6",
            "gridcolor": "white",
            "gridwidth": 2,
            "linecolor": "white",
            "showbackground": true,
            "ticks": "",
            "zerolinecolor": "white"
           }
          },
          "shapedefaults": {
           "line": {
            "color": "#2a3f5f"
           }
          },
          "ternary": {
           "aaxis": {
            "gridcolor": "white",
            "linecolor": "white",
            "ticks": ""
           },
           "baxis": {
            "gridcolor": "white",
            "linecolor": "white",
            "ticks": ""
           },
           "bgcolor": "#E5ECF6",
           "caxis": {
            "gridcolor": "white",
            "linecolor": "white",
            "ticks": ""
           }
          },
          "title": {
           "x": 0.05
          },
          "xaxis": {
           "automargin": true,
           "gridcolor": "white",
           "linecolor": "white",
           "ticks": "",
           "title": {
            "standoff": 15
           },
           "zerolinecolor": "white",
           "zerolinewidth": 2
          },
          "yaxis": {
           "automargin": true,
           "gridcolor": "white",
           "linecolor": "white",
           "ticks": "",
           "title": {
            "standoff": 15
           },
           "zerolinecolor": "white",
           "zerolinewidth": 2
          }
         }
        },
        "title": {
         "text": "Count of patients with prescriptions, through time<br><sup>Dark green = continued with prescription | Light green = gained prescription</sup><br><sup>Dark red = continued without prescription | Light red = dropped prescription</sup>"
        }
       }
      },
      "image/png": "[encoded data removed]",
      "text/html": [
       "<div>                            <div id=\"410dbafa-5cba-4b29-9fa8-8ff65e1993cb\" class=\"plotly-graph-div\" style=\"height:525px; width:100%;\"></div>            <script type=\"text/javascript\">                require([\"plotly\"], function(Plotly) {                    window.PLOTLYENV=window.PLOTLYENV || {};                                    if (document.getElementById(\"410dbafa-5cba-4b29-9fa8-8ff65e1993cb\")) {                    Plotly.newPlot(                        \"410dbafa-5cba-4b29-9fa8-8ff65e1993cb\",                        [{\"link\":{\"color\":[\"#0aa116\",\"#f71414\",\"#0aa116\",\"#f71414\",\"#10e822\",\"#b03a3a\",\"#0aa116\",\"#f71414\",\"#10e822\",\"#b03a3a\",\"#0aa116\",\"#f71414\",\"#10e822\",\"#b03a3a\",\"#0aa116\",\"#f71414\",\"#10e822\",\"#b03a3a\",\"#0aa116\",\"#f71414\",\"#10e822\",\"#b03a3a\"],\"source\":[0,0,1,1,2,2,3,3,4,4,5,5,6,6,7,7,8,8,9,9,10,10],\"target\":[1,2,3,4,3,4,5,6,5,6,7,8,7,8,9,10,9,10,11,12,11,12],\"value\":[45550.0,10430.0,39810.0,5740.0,1890.0,8530.0,37120.0,4580.0,2000.0,12270.0,35120.0,4010.0,2030.0,14820.0,32550.0,4590.0,2220.0,16620.0,32320.0,2450.0,3410.0,17800.0]},\"node\":{\"color\":\"lightgrey\",\"label\":[\"Rx at 36 months\",\"Rx at 30 months\",\"no Rx 30 months\",\"Rx at 24 months\",\"no Rx 24 months\",\"Rx at 18 months\",\"no Rx 18 months\",\"Rx at 12 months\",\"no Rx 12 months\",\"Rx at 6 months\",\"no Rx 6 months\",\"Rx at index date\",\"no Rx at index date\"],\"line\":{\"color\":\"black\",\"width\":0.5},\"pad\":50,\"thickness\":30,\"x\":[0.01,0.14,0.14,0.3,0.3,0.44,0.44,0.6,0.6,0.74,0.74,1.0,1.0],\"y\":[0.65,0.5,1.0,0.5,1.0,0.5,1.0,0.5,1.0,0.5,1.0,0.5,1.0]},\"type\":\"sankey\"}],                        {\"template\":{\"data\":{\"histogram2dcontour\":[{\"type\":\"histogram2dcontour\",\"colorbar\":{\"outlinewidth\":0,\"ticks\":\"\"},\"colorscale\":[[0.0,\"#0d0887\"],[0.1111111111111111,\"#46039f\"],[0.2222222222222222,\"#7201a8\"],[0.3333333333333333,\"#9c179e\"],[0.4444444444444444,\"#bd3786\"],[0.5555555555555556,\"#d8576b\"],[0.6666666666666666,\"#ed7953\"],[0.7777777777777778,\"#fb9f3a\"],[0.8888888888888888,\"#fdca26\"],[1.0,\"#f0f921\"]]}],\"choropleth\":[{\"type\":\"choropleth\",\"colorbar\":{\"outlinewidth\":0,\"ticks\":\"\"}}],\"histogram2d\":[{\"type\":\"histogram2d\",\"colorbar\":{\"outlinewidth\":0,\"ticks\":\"\"},\"colorscale\":[[0.0,\"#0d0887\"],[0.1111111111111111,\"#46039f\"],[0.2222222222222222,\"#7201a8\"],[0.3333333333333333,\"#9c179e\"],[0.4444444444444444,\"#bd3786\"],[0.5555555555555556,\"#d8576b\"],[0.6666666666666666,\"#ed7953\"],[0.7777777777777778,\"#fb9f3a\"],[0.8888888888888888,\"#fdca26\"],[1.0,\"#f0f921\"]]}],\"heatmap\":[{\"type\":\"heatmap\",\"colorbar\":{\"outlinewidth\":0,\"ticks\":\"\"},\"colorscale\":[[0.0,\"#0d0887\"],[0.1111111111111111,\"#46039f\"],[0.2222222222222222,\"#7201a8\"],[0.3333333333333333,\"#9c179e\"],[0.4444444444444444,\"#bd3786\"],[0.5555555555555556,\"#d8576b\"],[0.6666666666666666,\"#ed7953\"],[0.7777777777777778,\"#fb9f3a\"],[0.8888888888888888,\"#fdca26\"],[1.0,\"#f0f921\"]]}],\"heatmapgl\":[{\"type\":\"heatmapgl\",\"colorbar\":{\"outlinewidth\":0,\"ticks\":\"\"},\"colorscale\":[[0.0,\"#0d0887\"],[0.1111111111111111,\"#46039f\"],[0.2222222222222222,\"#7201a8\"],[0.3333333333333333,\"#9c179e\"],[0.4444444444444444,\"#bd3786\"],[0.5555555555555556,\"#d8576b\"],[0.6666666666666666,\"#ed7953\"],[0.7777777777777778,\"#fb9f3a\"],[0.8888888888888888,\"#fdca26\"],[1.0,\"#f0f921\"]]}],\"contourcarpet\":[{\"type\":\"contourcarpet\",\"colorbar\":{\"outlinewidth\":0,\"ticks\":\"\"}}],\"contour\":[{\"type\":\"contour\",\"colorbar\":{\"outlinewidth\":0,\"ticks\":\"\"},\"colorscale\":[[0.0,\"#0d0887\"],[0.1111111111111111,\"#46039f\"],[0.2222222222222222,\"#7201a8\"],[0.3333333333333333,\"#9c179e\"],[0.4444444444444444,\"#bd3786\"],[0.5555555555555556,\"#d8576b\"],[0.6666666666666666,\"#ed7953\"],[0.7777777777777778,\"#fb9f3a\"],[0.8888888888888888,\"#fdca26\"],[1.0,\"#f0f921\"]]}],\"surface\":[{\"type\":\"surface\",\"colorbar\":{\"outlinewidth\":0,\"ticks\":\"\"},\"colorscale\":[[0.0,\"#0d0887\"],[0.1111111111111111,\"#46039f\"],[0.2222222222222222,\"#7201a8\"],[0.3333333333333333,\"#9c179e\"],[0.4444444444444444,\"#bd3786\"],[0.5555555555555556,\"#d8576b\"],[0.6666666666666666,\"#ed7953\"],[0.7777777777777778,\"#fb9f3a\"],[0.8888888888888888,\"#fdca26\"],[1.0,\"#f0f921\"]]}],\"mesh3d\":[{\"type\":\"mesh3d\",\"colorbar\":{\"outlinewidth\":0,\"ticks\":\"\"}}],\"scatter\":[{\"fillpattern\":{\"fillmode\":\"overlay\",\"size\":10,\"solidity\":0.2},\"type\":\"scatter\"}],\"parcoords\":[{\"type\":\"parcoords\",\"line\":{\"colorbar\":{\"outlinewidth\":0,\"ticks\":\"\"}}}],\"scatterpolargl\":[{\"type\":\"scatterpolargl\",\"marker\":{\"colorbar\":{\"outlinewidth\":0,\"ticks\":\"\"}}}],\"bar\":[{\"error_x\":{\"color\":\"#2a3f5f\"},\"error_y\":{\"color\":\"#2a3f5f\"},\"marker\":{\"line\":{\"color\":\"#E5ECF6\",\"width\":0.5},\"pattern\":{\"fillmode\":\"overlay\",\"size\":10,\"solidity\":0.2}},\"type\":\"bar\"}],\"scattergeo\":[{\"type\":\"scattergeo\",\"marker\":{\"colorbar\":{\"outlinewidth\":0,\"ticks\":\"\"}}}],\"scatterpolar\":[{\"type\":\"scatterpolar\",\"marker\":{\"colorbar\":{\"outlinewidth\":0,\"ticks\":\"\"}}}],\"histogram\":[{\"marker\":{\"pattern\":{\"fillmode\":\"overlay\",\"size\":10,\"solidity\":0.2}},\"type\":\"histogram\"}],\"scattergl\":[{\"type\":\"scattergl\",\"marker\":{\"colorbar\":{\"outlinewidth\":0,\"ticks\":\"\"}}}],\"scatter3d\":[{\"type\":\"scatter3d\",\"line\":{\"colorbar\":{\"outlinewidth\":0,\"ticks\":\"\"}},\"marker\":{\"colorbar\":{\"outlinewidth\":0,\"ticks\":\"\"}}}],\"scattermapbox\":[{\"type\":\"scattermapbox\",\"marker\":{\"colorbar\":{\"outlinewidth\":0,\"ticks\":\"\"}}}],\"scatterternary\":[{\"type\":\"scatterternary\",\"marker\":{\"colorbar\":{\"outlinewidth\":0,\"ticks\":\"\"}}}],\"scattercarpet\":[{\"type\":\"scattercarpet\",\"marker\":{\"colorbar\":{\"outlinewidth\":0,\"ticks\":\"\"}}}],\"carpet\":[{\"aaxis\":{\"endlinecolor\":\"#2a3f5f\",\"gridcolor\":\"white\",\"linecolor\":\"white\",\"minorgridcolor\":\"white\",\"startlinecolor\":\"#2a3f5f\"},\"baxis\":{\"endlinecolor\":\"#2a3f5f\",\"gridcolor\":\"white\",\"linecolor\":\"white\",\"minorgridcolor\":\"white\",\"startlinecolor\":\"#2a3f5f\"},\"type\":\"carpet\"}],\"table\":[{\"cells\":{\"fill\":{\"color\":\"#EBF0F8\"},\"line\":{\"color\":\"white\"}},\"header\":{\"fill\":{\"color\":\"#C8D4E3\"},\"line\":{\"color\":\"white\"}},\"type\":\"table\"}],\"barpolar\":[{\"marker\":{\"line\":{\"color\":\"#E5ECF6\",\"width\":0.5},\"pattern\":{\"fillmode\":\"overlay\",\"size\":10,\"solidity\":0.2}},\"type\":\"barpolar\"}],\"pie\":[{\"automargin\":true,\"type\":\"pie\"}]},\"layout\":{\"autotypenumbers\":\"strict\",\"colorway\":[\"#636efa\",\"#EF553B\",\"#00cc96\",\"#ab63fa\",\"#FFA15A\",\"#19d3f3\",\"#FF6692\",\"#B6E880\",\"#FF97FF\",\"#FECB52\"],\"font\":{\"color\":\"#2a3f5f\"},\"hovermode\":\"closest\",\"hoverlabel\":{\"align\":\"left\"},\"paper_bgcolor\":\"white\",\"plot_bgcolor\":\"#E5ECF6\",\"polar\":{\"bgcolor\":\"#E5ECF6\",\"angularaxis\":{\"gridcolor\":\"white\",\"linecolor\":\"white\",\"ticks\":\"\"},\"radialaxis\":{\"gridcolor\":\"white\",\"linecolor\":\"white\",\"ticks\":\"\"}},\"ternary\":{\"bgcolor\":\"#E5ECF6\",\"aaxis\":{\"gridcolor\":\"white\",\"linecolor\":\"white\",\"ticks\":\"\"},\"baxis\":{\"gridcolor\":\"white\",\"linecolor\":\"white\",\"ticks\":\"\"},\"caxis\":{\"gridcolor\":\"white\",\"linecolor\":\"white\",\"ticks\":\"\"}},\"coloraxis\":{\"colorbar\":{\"outlinewidth\":0,\"ticks\":\"\"}},\"colorscale\":{\"sequential\":[[0.0,\"#0d0887\"],[0.1111111111111111,\"#46039f\"],[0.2222222222222222,\"#7201a8\"],[0.3333333333333333,\"#9c179e\"],[0.4444444444444444,\"#bd3786\"],[0.5555555555555556,\"#d8576b\"],[0.6666666666666666,\"#ed7953\"],[0.7777777777777778,\"#fb9f3a\"],[0.8888888888888888,\"#fdca26\"],[1.0,\"#f0f921\"]],\"sequentialminus\":[[0.0,\"#0d0887\"],[0.1111111111111111,\"#46039f\"],[0.2222222222222222,\"#7201a8\"],[0.3333333333333333,\"#9c179e\"],[0.4444444444444444,\"#bd3786\"],[0.5555555555555556,\"#d8576b\"],[0.6666666666666666,\"#ed7953\"],[0.7777777777777778,\"#fb9f3a\"],[0.8888888888888888,\"#fdca26\"],[1.0,\"#f0f921\"]],\"diverging\":[[0,\"#8e0152\"],[0.1,\"#c51b7d\"],[0.2,\"#de77ae\"],[0.3,\"#f1b6da\"],[0.4,\"#fde0ef\"],[0.5,\"#f7f7f7\"],[0.6,\"#e6f5d0\"],[0.7,\"#b8e186\"],[0.8,\"#7fbc41\"],[0.9,\"#4d9221\"],[1,\"#276419\"]]},\"xaxis\":{\"gridcolor\":\"white\",\"linecolor\":\"white\",\"ticks\":\"\",\"title\":{\"standoff\":15},\"zerolinecolor\":\"white\",\"automargin\":true,\"zerolinewidth\":2},\"yaxis\":{\"gridcolor\":\"white\",\"linecolor\":\"white\",\"ticks\":\"\",\"title\":{\"standoff\":15},\"zerolinecolor\":\"white\",\"automargin\":true,\"zerolinewidth\":2},\"scene\":{\"xaxis\":{\"backgroundcolor\":\"#E5ECF6\",\"gridcolor\":\"white\",\"linecolor\":\"white\",\"showbackground\":true,\"ticks\":\"\",\"zerolinecolor\":\"white\",\"gridwidth\":2},\"yaxis\":{\"backgroundcolor\":\"#E5ECF6\",\"gridcolor\":\"white\",\"linecolor\":\"white\",\"showbackground\":true,\"ticks\":\"\",\"zerolinecolor\":\"white\",\"gridwidth\":2},\"zaxis\":{\"backgroundcolor\":\"#E5ECF6\",\"gridcolor\":\"white\",\"linecolor\":\"white\",\"showbackground\":true,\"ticks\":\"\",\"zerolinecolor\":\"white\",\"gridwidth\":2}},\"shapedefaults\":{\"line\":{\"color\":\"#2a3f5f\"}},\"annotationdefaults\":{\"arrowcolor\":\"#2a3f5f\",\"arrowhead\":0,\"arrowwidth\":1},\"geo\":{\"bgcolor\":\"white\",\"landcolor\":\"#E5ECF6\",\"subunitcolor\":\"white\",\"showland\":true,\"showlakes\":true,\"lakecolor\":\"white\"},\"title\":{\"x\":0.05},\"mapbox\":{\"style\":\"light\"}}},\"title\":{\"text\":\"Count of patients with prescriptions, through time\\u003cbr\\u003e\\u003csup\\u003eDark green = continued with prescription | Light green = gained prescription\\u003c\\u002fsup\\u003e\\u003cbr\\u003e\\u003csup\\u003eDark red = continued without prescription | Light red = dropped prescription\\u003c\\u002fsup\\u003e\"},\"font\":{\"size\":15}},                        {\"responsive\": true}                    ).then(function(){\n",
       "                            \n",
       "var gd = document.getElementById('410dbafa-5cba-4b29-9fa8-8ff65e1993cb');\n",
       "var x = new MutationObserver(function (mutations, observer) {{\n",
       "        var display = window.getComputedStyle(gd).display;\n",
       "        if (!display || display === 'none') {{\n",
       "            console.log([gd, 'removed!']);\n",
       "            Plotly.purge(gd);\n",
       "            observer.disconnect();\n",
       "        }}\n",
       "}});\n",
       "\n",
       "// Listen for the removal of the full notebook cells\n",
       "var notebookContainer = gd.closest('#notebook-container');\n",
       "if (notebookContainer) {{\n",
       "    x.observe(notebookContainer, {childList: true});\n",
       "}}\n",
       "\n",
       "// Listen for the clearing of the current output cell\n",
       "var outputEl = gd.closest('.output');\n",
       "if (outputEl) {{\n",
       "    x.observe(outputEl, {childList: true});\n",
       "}}\n",
       "\n",
       "                        })                };                });            </script>        </div>"
      ]
     },
     "metadata": {},
     "output_type": "display_data"
    }
   ],
   "source": [
    "fig = plotly.graph_objects.Figure(data = [plotly.graph_objects.Sankey(\n",
    "    node = dict(\n",
    "      pad = 50,\n",
    "      thickness = 30,\n",
    "      line = dict(color = \"black\", width = 0.5),\n",
    "      label = myDict['node_label'],\n",
    "      color = \"lightgrey\",\n",
    "      x = [0.01, 0.14, 0.14, 0.3, 0.3, 0.44, 0.44, 0.6, 0.6, 0.74, 0.74, 1.0, 1.0],\n",
    "      y = [0.65, 0.50, 1.00, 0.5, 1.0, 0.50, 1.00, 0.5, 1.0, 0.50, 1.00, 0.5, 1.0],\n",
    "    ),\n",
    "    link = dict(\n",
    "      source = myDict['link_source'],\n",
    "      target = myDict['link_target'],\n",
    "      value = myDict['link_value'],\n",
    "      color = myDict['link_colour'],\n",
    "  ))])\n",
    "\n",
    "\n",
    "fig.update_layout(\n",
    "    title_text = \"Count of patients with prescriptions, through time<br>\" +\n",
    "                 \"<sup>Dark green = continued with prescription | Light green = gained prescription</sup><br>\" +\n",
    "                 \"<sup>Dark red = continued without prescription | Light red = dropped prescription</sup>\"\n",
    "    ,font_size = 15\n",
    ")\n",
    "fig.show()"
   ]
  }
 ],
 "metadata": {
  "environment": {
   "kernel": "python3",
   "name": "r-cpu.4-2.m111",
   "type": "gcloud",
   "uri": "gcr.io/deeplearning-platform-release/r-cpu.4-2:m111"
  },
  "kernelspec": {
   "display_name": "Python 3",
   "language": "python",
   "name": "python3"
  },
  "language_info": {
   "codemirror_mode": {
    "name": "ipython",
    "version": 3
   },
   "file_extension": ".py",
   "mimetype": "text/x-python",
   "name": "python",
   "nbconvert_exporter": "python",
   "pygments_lexer": "ipython3",
   "version": "3.7.12"
  }
 },
 "nbformat": 4,
 "nbformat_minor": 5
}
