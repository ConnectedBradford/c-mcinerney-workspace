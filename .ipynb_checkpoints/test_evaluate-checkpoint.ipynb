{
 "cells": [
  {
   "cell_type": "markdown",
   "id": "b6da7423-2ae7-406f-b1db-6672ea624988",
   "metadata": {},
   "source": [
    "#### Define function."
   ]
  },
  {
   "cell_type": "code",
   "execution_count": 43,
   "id": "aabaadad-0e74-43eb-b690-42d2d9b166ad",
   "metadata": {
    "jupyter": {
     "source_hidden": true
    },
    "tags": []
   },
   "outputs": [],
   "source": [
    "# A function to compute the evalaution outputs. The function automatically saves the\n",
    "# contingency table and also returns it.\n",
    "#\n",
    "# ARGUMENTS\n",
    "# 1. vec_featureSet:      A column from a pandas.Dataframe containing the feature set\n",
    "#                         that needs evaluating.\n",
    "# 2. vec_caseness:        A column from a pandas.Dataframe containing the caseness\n",
    "#                         variable of interest.\n",
    "# 3. savelocation:        The folder location where the output should be saved.\n",
    "#\n",
    "# RETURNS\n",
    "# 1. prevalence:          The proportion of patients satisfying the definition of the\n",
    "#                         feature set.\n",
    "# 2. cba:                 Class balanced accuracy - the lower bound of the average\n",
    "#                         sensitivity and average positive predictive value\n",
    "#                         (a.k.a. precision) for all caseness values.\n",
    "# 3. oddsRatio:           The ratio of the odds of caseness given the presence of feature\n",
    "#                         set, to the odds of CMHD given the absence of the feature set.\n",
    "#                         It can also be thought of as the multiplicative difference\n",
    "#                         between correct and incorrect classification.\n",
    "# 4. ppv:                 The proportion of patients satisfying the definition of the\n",
    "#                         feature set who satisfy the caseness.\n",
    "# 5. npv:                 The proportion of patients who do not satisfy the definition\n",
    "#                         of the feature set who do not satisfy the caseness.\n",
    "# 6. tn:                  The count of true negatives, i.e. the count of patients whose \n",
    "#                         feature-set value and caseness value are both zero.\n",
    "# 7. fn:                  The count of false negatives, i.e. the count of patients whose \n",
    "#                         feature-set value is zero but whose caseness value is one.\n",
    "# 8. fp:                  The count of false positives, i.e. the count of patients whose \n",
    "#                         feature-set value is one but whose caseness value is zero.\n",
    "# 9. tp:                  The count of true positives, i.e. the count of patients whose \n",
    "#                         feature-set value and caseness value are both one.\n",
    "#\n",
    "def evaloutputs(vec_featureSet,\n",
    "                vec_caseness):\n",
    "    # ## Assess argument validty.\n",
    "    \n",
    "    if len(vec_featureSet.value_counts()) < 2:\n",
    "        print(f\"**Feature-set {vec_featureSet.name} only has one value.**\")\n",
    "        return vec_featureSet.name, vec_featureSet.dtype, None, None, None, None, None, None, None, None, None, None\n",
    "    \n",
    "    # Check that both vectors are the same length.\n",
    "    if len(vec_featureSet) != len(vec_caseness):\n",
    "        print(\"Feature-set and caseness vectors are of different lengths.\")\n",
    "        return vec_featureSet.name, vec_featureSet.dtype, None, None, None, None, None, None, None, None, None, None\n",
    "    \n",
    "    # Change the data type to suit the `statsmodel` function.\n",
    "    if vec_featureSet.dtype == 'int64':\n",
    "        vec_featureSet = vec_featureSet.astype(int)\n",
    "    elif vec_featureSet.dtype == 'boolean':\n",
    "        vec_featureSet = vec_featureSet.astype(bool)\n",
    "    \n",
    "    # Calculate the entropy of the caseness variable.\n",
    "    pk = vec_caseness.value_counts() / len(vec_caseness)\n",
    "    entropy_caseness = -numpy.sum(pk * numpy.log(pk)) / numpy.log(numpy.e)\n",
    "    \n",
    "    # Check what dtype the feature set is because float64-dtype feature sets need\n",
    "    # to be processed differently to the categorical ones.\n",
    "    if vec_featureSet.dtype == 'float64' or len(vec_featureSet.value_counts()) > 3:\n",
    "        tn = tp = fn = fp = None\n",
    "        # ## Compute outputs.\n",
    "        #\n",
    "        # Mutual information\n",
    "        MI = mutual_info_regression(vec_featureSet.to_numpy().reshape(-1,1), vec_caseness, n_neighbors = 2)[0]\n",
    "        sMI = MI / entropy_caseness \n",
    "\n",
    "        # Prevalence value per 1,000.\n",
    "        #\n",
    "        # When the feature set is a float64, we will use the arithmetic\n",
    "        # mean in place of the prevalence. When the feature set is a \n",
    "        # count, we will use the mode in place of the prevalence.\n",
    "        # I reason that the prevalence gives an expectation of an occurrence variable.\n",
    "        # Similarly, the mode and mean give the expectations of count and continuous\n",
    "        # variables.\n",
    "        if vec_featureSet.dtype == 'float64':\n",
    "            prevalence = round(numpy.mean(vec_featureSet), 2)\n",
    "        else:\n",
    "            prevalence = scipy.stats.mode(vec_featureSet)[0][0]\n",
    "        \n",
    "        # Class balance accuracy.\n",
    "        cba = None\n",
    "        \n",
    "        # Odds ratio.\n",
    "        # ## Create the required dataframe.\n",
    "        df = pandas.DataFrame({'feature_set' : vec_featureSet.astype(int), 'caseness' : vec_caseness.astype(int)})\n",
    "        # ## Build regression model.\n",
    "        log_reg = statsmodels.formula.api.logit(\"caseness ~ feature_set\", data = df).fit(disp=0)\n",
    "        # ## Extract odds ratio.\n",
    "        oddsRatio = round(numpy.exp(log_reg.params)[1], 2)\n",
    "        \n",
    "        # Positive predictive value.\n",
    "        ppv = None\n",
    "        \n",
    "        # Negative predictive value.\n",
    "        npv = None\n",
    "        \n",
    "    else:\n",
    "        # ## Contingency table.\n",
    "        # Make contingency table.\n",
    "        contingencyTable = \\\n",
    "            pandas.crosstab(\n",
    "                index = vec_featureSet,\n",
    "                columns = vec_caseness\n",
    "        )\n",
    "\n",
    "        # Extract components of contingency table\n",
    "        tn = contingencyTable.iloc[0,0]\n",
    "        fn = contingencyTable.iloc[0,1]\n",
    "        fp = contingencyTable.iloc[1,0]\n",
    "        tp = contingencyTable.iloc[1,1]\n",
    "    \n",
    "        # ## Compute outputs.\n",
    "        #\n",
    "        # Scaled mutual information.\n",
    "        #\n",
    "        # Our particular scaled mutual information values are the proportional improvement in certainty about the\n",
    "        # caseness variable. For example, a f_nMI = 0.05 means that the feature set improves our certainty about\n",
    "        # whether the person has CMHD by 5%.\n",
    "        MI = sklearn.metrics.mutual_info_score(vec_featureSet, vec_caseness)\n",
    "        sMI = MI / entropy_caseness\n",
    "\n",
    "        # Prevalence value per 1,000.\n",
    "        #\n",
    "        # I use 1 minus the prevalence of zeros because that\n",
    "        # combines all the possibly-many values that indicate\n",
    "        # the presence of the feature set.\n",
    "        prevalence = \\\n",
    "            (1 - (sum(vec_featureSet == 0) / len(vec_featureSet))) * 10\n",
    "        if prevalence < 0.01:\n",
    "             prevalence = '< 0.01'\n",
    "        else:\n",
    "             prevalence = round(prevalence, 2)\n",
    "\n",
    "        # Class balance accuracy.\n",
    "        cba = \\\n",
    "            round( 0.5 * \\\n",
    "                  ( (tp / max( (tp + fn), (tp + fp) ) ) + \\\n",
    "                   (tn / max( (tn + fp), (tn +fn) ) ) ), 2)\n",
    "        if cba < 0.01:\n",
    "            cba = '< 0.01'\n",
    "\n",
    "        # Odds ratio.\n",
    "        if min( (tp * tn) , (fp * fn) ) == 0:\n",
    "            oddsRatio = 'Undefined'\n",
    "        else:\n",
    "            oddsRatio = round( (tp * tn) / (fp * fn), 2)\n",
    "\n",
    "        # Positive predictive value.\n",
    "        ppv = 0.00 if (tp + fp) == 0 else tp / (tp + fp)\n",
    "        if ppv > 0 and ppv < 0.01:\n",
    "            ppv = '< 0.01'\n",
    "        elif ppv < 1 and ppv > 0.999:\n",
    "            ppv = '\\u2248 1.00'\n",
    "        else:\n",
    "             ppv = round(ppv, 2)\n",
    "\n",
    "        # Negative predictive value.\n",
    "        npv = 0.00 if (tn + fn) == 0 else tn / (tn + fn)\n",
    "        if npv > 0 and npv < 0.01:\n",
    "            npv = '< 0.01'\n",
    "        elif npv < 1 and npv > 0.999:\n",
    "            npv = '\\u2248 1.00'\n",
    "        else:\n",
    "             npv = round(npv, 2)\n",
    "    \n",
    "    \n",
    "    \n",
    "    return vec_featureSet.name, vec_featureSet.dtype, round(sMI, 6), prevalence, cba, oddsRatio, ppv, npv, tn, fn, fp, tp"
   ]
  },
  {
   "cell_type": "markdown",
   "id": "453d24bf-cc43-4224-b4fb-f8fd8d615a19",
   "metadata": {
    "tags": []
   },
   "source": [
    "#### Load required data."
   ]
  },
  {
   "cell_type": "code",
   "execution_count": 28,
   "id": "527b972d-ff1b-436e-9e3e-b176ca6808b6",
   "metadata": {
    "jupyter": {
     "source_hidden": true
    },
    "tags": []
   },
   "outputs": [],
   "source": [
    "%run 'UNSEEN_helper_functions.ipynb'\n",
    "%store -r"
   ]
  },
  {
   "cell_type": "markdown",
   "id": "8f2586c2-73d3-4bca-bc86-9476fad25357",
   "metadata": {},
   "source": [
    "#### Process all feature sets."
   ]
  },
  {
   "cell_type": "code",
   "execution_count": 44,
   "id": "7ec66746-4d74-4b82-960e-57d7f3343d58",
   "metadata": {},
   "outputs": [
    {
     "data": {
      "text/plain": [
       "('countAppointmentsPreviousYear',\n",
       " Int64Dtype(),\n",
       " 0.035848,\n",
       " 0,\n",
       " None,\n",
       " 1.03,\n",
       " None,\n",
       " None,\n",
       " None,\n",
       " None,\n",
       " None,\n",
       " None)"
      ]
     },
     "execution_count": 44,
     "metadata": {},
     "output_type": "execute_result"
    }
   ],
   "source": [
    "evaloutputs(feature_set_array['countAppointmentsPreviousYear'],\n",
    "            caseness_array.caseness_1isYes.astype(int))"
   ]
  },
  {
   "cell_type": "code",
   "execution_count": 45,
   "id": "67e159c5-cfdb-4fd3-9e07-5e7ba25eed3a",
   "metadata": {},
   "outputs": [
    {
     "name": "stdout",
     "output_type": "stream",
     "text": [
      "**Feature-set abandonment_CYP only has one value.**\n",
      "**Feature-set abandonment_EA only has one value.**\n",
      "**Feature-set foodInsecurity only has one value.**\n",
      "**Feature-set foodInsecurity_CYP only has one value.**\n",
      "**Feature-set foodInsecurity_EA only has one value.**\n",
      "**Feature-set foodInsecurity_Adult only has one value.**\n",
      "**Feature-set hoarder_CYP only has one value.**\n",
      "**Feature-set hoarder_EA only has one value.**\n",
      "**Feature-set IAPTreferral_CYP only has one value.**\n",
      "**Feature-set IAPTrevolvingDoor only has one value.**\n",
      "**Feature-set IAPTrevolvingDoor_CYP only has one value.**\n",
      "**Feature-set IAPTrevolvingDoor_EA only has one value.**\n",
      "**Feature-set IAPTrevolvingDoor_Adult only has one value.**\n",
      "**Feature-set IAPTuse_CYP only has one value.**\n",
      "**Feature-set IAPTuse_EA only has one value.**\n",
      "**Feature-set incarcerationImprisonment only has one value.**\n",
      "**Feature-set incarcerationImprisonment_CYP only has one value.**\n",
      "**Feature-set incarcerationImprisonment_EA only has one value.**\n",
      "**Feature-set incarcerationImprisonment_Adult only has one value.**\n",
      "**Feature-set metabolicSyndrome_CYP only has one value.**\n",
      "**Feature-set metabolicSyndrome_EA only has one value.**\n",
      "**Feature-set poorBodyImage_CYP only has one value.**\n",
      "**Feature-set poverty_CYP only has one value.**\n",
      "**Feature-set relevantPrescriptions_CYP only has one value.**\n",
      "**Feature-set sleepDysfunction_CYP only has one value.**\n",
      "**Feature-set sleepDysfunction_EA only has one value.**\n",
      "**Feature-set AccessToHealthcare only has one value.**\n"
     ]
    }
   ],
   "source": [
    "feature_set_array.fillna(0, inplace = True)\n",
    "ls_output = []\n",
    "for i_featureSet in feature_set_array.columns[1:]:\n",
    "    try:\n",
    "        ls_output.append(\n",
    "            evaloutputs(feature_set_array[i_featureSet],\n",
    "                        caseness_array.caseness_1isYes.astype(int))\n",
    "        )\n",
    "    except:\n",
    "        print(i_featureSet)"
   ]
  },
  {
   "cell_type": "code",
   "execution_count": 46,
   "id": "b25358f3-b311-43ed-8763-d9c4a41da74b",
   "metadata": {},
   "outputs": [
    {
     "data": {
      "text/html": [
       "<div>\n",
       "<style scoped>\n",
       "    .dataframe tbody tr th:only-of-type {\n",
       "        vertical-align: middle;\n",
       "    }\n",
       "\n",
       "    .dataframe tbody tr th {\n",
       "        vertical-align: top;\n",
       "    }\n",
       "\n",
       "    .dataframe thead th {\n",
       "        text-align: right;\n",
       "    }\n",
       "</style>\n",
       "<table border=\"1\" class=\"dataframe\">\n",
       "  <thead>\n",
       "    <tr style=\"text-align: right;\">\n",
       "      <th></th>\n",
       "      <th>Feature_set</th>\n",
       "      <th>Data_type</th>\n",
       "      <th>Scaled_mutual_information</th>\n",
       "      <th>Prevalence_per_thousand</th>\n",
       "      <th>Class_balanced_accuracy</th>\n",
       "      <th>Odds_ratio</th>\n",
       "      <th>ppv</th>\n",
       "      <th>npv</th>\n",
       "      <th>tn</th>\n",
       "      <th>fn</th>\n",
       "      <th>fp</th>\n",
       "      <th>tp</th>\n",
       "    </tr>\n",
       "  </thead>\n",
       "  <tbody>\n",
       "    <tr>\n",
       "      <th>54</th>\n",
       "      <td>countPsychologicalDisorders</td>\n",
       "      <td>Int64</td>\n",
       "      <td>0.166370</td>\n",
       "      <td>1</td>\n",
       "      <td>NaN</td>\n",
       "      <td>1.93</td>\n",
       "      <td>NaN</td>\n",
       "      <td>NaN</td>\n",
       "      <td>NaN</td>\n",
       "      <td>NaN</td>\n",
       "      <td>NaN</td>\n",
       "      <td>NaN</td>\n",
       "    </tr>\n",
       "    <tr>\n",
       "      <th>222</th>\n",
       "      <td>antipsychoticsPrescription</td>\n",
       "      <td>object</td>\n",
       "      <td>0.137894</td>\n",
       "      <td>0.27</td>\n",
       "      <td>0.64</td>\n",
       "      <td>27.47</td>\n",
       "      <td>0.43</td>\n",
       "      <td>0.97</td>\n",
       "      <td>196904.0</td>\n",
       "      <td>5439.0</td>\n",
       "      <td>3221.0</td>\n",
       "      <td>2444.0</td>\n",
       "    </tr>\n",
       "    <tr>\n",
       "      <th>140</th>\n",
       "      <td>paranoia_Adult</td>\n",
       "      <td>bool</td>\n",
       "      <td>0.054925</td>\n",
       "      <td>0.85</td>\n",
       "      <td>0.53</td>\n",
       "      <td>5.69</td>\n",
       "      <td>0.14</td>\n",
       "      <td>0.97</td>\n",
       "      <td>184979.0</td>\n",
       "      <td>5377.0</td>\n",
       "      <td>15146.0</td>\n",
       "      <td>2506.0</td>\n",
       "    </tr>\n",
       "    <tr>\n",
       "      <th>137</th>\n",
       "      <td>paranoia</td>\n",
       "      <td>bool</td>\n",
       "      <td>0.054783</td>\n",
       "      <td>0.92</td>\n",
       "      <td>0.53</td>\n",
       "      <td>5.49</td>\n",
       "      <td>0.14</td>\n",
       "      <td>0.97</td>\n",
       "      <td>183594.0</td>\n",
       "      <td>5275.0</td>\n",
       "      <td>16531.0</td>\n",
       "      <td>2608.0</td>\n",
       "    </tr>\n",
       "    <tr>\n",
       "      <th>228</th>\n",
       "      <td>MentalHealthTreatments</td>\n",
       "      <td>bool</td>\n",
       "      <td>0.053215</td>\n",
       "      <td>3.12</td>\n",
       "      <td>0.39</td>\n",
       "      <td>4.03</td>\n",
       "      <td>0.08</td>\n",
       "      <td>0.98</td>\n",
       "      <td>140212.0</td>\n",
       "      <td>2895.0</td>\n",
       "      <td>59913.0</td>\n",
       "      <td>4988.0</td>\n",
       "    </tr>\n",
       "    <tr>\n",
       "      <th>...</th>\n",
       "      <td>...</td>\n",
       "      <td>...</td>\n",
       "      <td>...</td>\n",
       "      <td>...</td>\n",
       "      <td>...</td>\n",
       "      <td>...</td>\n",
       "      <td>...</td>\n",
       "      <td>...</td>\n",
       "      <td>...</td>\n",
       "      <td>...</td>\n",
       "      <td>...</td>\n",
       "      <td>...</td>\n",
       "    </tr>\n",
       "    <tr>\n",
       "      <th>147</th>\n",
       "      <td>poverty_CYP</td>\n",
       "      <td>boolean</td>\n",
       "      <td>NaN</td>\n",
       "      <td>None</td>\n",
       "      <td>NaN</td>\n",
       "      <td>None</td>\n",
       "      <td>NaN</td>\n",
       "      <td>NaN</td>\n",
       "      <td>NaN</td>\n",
       "      <td>NaN</td>\n",
       "      <td>NaN</td>\n",
       "      <td>NaN</td>\n",
       "    </tr>\n",
       "    <tr>\n",
       "      <th>152</th>\n",
       "      <td>relevantPrescriptions_CYP</td>\n",
       "      <td>boolean</td>\n",
       "      <td>NaN</td>\n",
       "      <td>None</td>\n",
       "      <td>NaN</td>\n",
       "      <td>None</td>\n",
       "      <td>NaN</td>\n",
       "      <td>NaN</td>\n",
       "      <td>NaN</td>\n",
       "      <td>NaN</td>\n",
       "      <td>NaN</td>\n",
       "      <td>NaN</td>\n",
       "    </tr>\n",
       "    <tr>\n",
       "      <th>165</th>\n",
       "      <td>sleepDysfunction_CYP</td>\n",
       "      <td>boolean</td>\n",
       "      <td>NaN</td>\n",
       "      <td>None</td>\n",
       "      <td>NaN</td>\n",
       "      <td>None</td>\n",
       "      <td>NaN</td>\n",
       "      <td>NaN</td>\n",
       "      <td>NaN</td>\n",
       "      <td>NaN</td>\n",
       "      <td>NaN</td>\n",
       "      <td>NaN</td>\n",
       "    </tr>\n",
       "    <tr>\n",
       "      <th>166</th>\n",
       "      <td>sleepDysfunction_EA</td>\n",
       "      <td>boolean</td>\n",
       "      <td>NaN</td>\n",
       "      <td>None</td>\n",
       "      <td>NaN</td>\n",
       "      <td>None</td>\n",
       "      <td>NaN</td>\n",
       "      <td>NaN</td>\n",
       "      <td>NaN</td>\n",
       "      <td>NaN</td>\n",
       "      <td>NaN</td>\n",
       "      <td>NaN</td>\n",
       "    </tr>\n",
       "    <tr>\n",
       "      <th>214</th>\n",
       "      <td>AccessToHealthcare</td>\n",
       "      <td>bool</td>\n",
       "      <td>NaN</td>\n",
       "      <td>None</td>\n",
       "      <td>NaN</td>\n",
       "      <td>None</td>\n",
       "      <td>NaN</td>\n",
       "      <td>NaN</td>\n",
       "      <td>NaN</td>\n",
       "      <td>NaN</td>\n",
       "      <td>NaN</td>\n",
       "      <td>NaN</td>\n",
       "    </tr>\n",
       "  </tbody>\n",
       "</table>\n",
       "<p>229 rows × 12 columns</p>\n",
       "</div>"
      ],
      "text/plain": [
       "                     Feature_set Data_type  Scaled_mutual_information  \\\n",
       "54   countPsychologicalDisorders     Int64                   0.166370   \n",
       "222   antipsychoticsPrescription    object                   0.137894   \n",
       "140               paranoia_Adult      bool                   0.054925   \n",
       "137                     paranoia      bool                   0.054783   \n",
       "228       MentalHealthTreatments      bool                   0.053215   \n",
       "..                           ...       ...                        ...   \n",
       "147                  poverty_CYP   boolean                        NaN   \n",
       "152    relevantPrescriptions_CYP   boolean                        NaN   \n",
       "165         sleepDysfunction_CYP   boolean                        NaN   \n",
       "166          sleepDysfunction_EA   boolean                        NaN   \n",
       "214           AccessToHealthcare      bool                        NaN   \n",
       "\n",
       "    Prevalence_per_thousand  Class_balanced_accuracy Odds_ratio   ppv   npv  \\\n",
       "54                        1                      NaN       1.93   NaN   NaN   \n",
       "222                    0.27                     0.64      27.47  0.43  0.97   \n",
       "140                    0.85                     0.53       5.69  0.14  0.97   \n",
       "137                    0.92                     0.53       5.49  0.14  0.97   \n",
       "228                    3.12                     0.39       4.03  0.08  0.98   \n",
       "..                      ...                      ...        ...   ...   ...   \n",
       "147                    None                      NaN       None   NaN   NaN   \n",
       "152                    None                      NaN       None   NaN   NaN   \n",
       "165                    None                      NaN       None   NaN   NaN   \n",
       "166                    None                      NaN       None   NaN   NaN   \n",
       "214                    None                      NaN       None   NaN   NaN   \n",
       "\n",
       "           tn      fn       fp      tp  \n",
       "54        NaN     NaN      NaN     NaN  \n",
       "222  196904.0  5439.0   3221.0  2444.0  \n",
       "140  184979.0  5377.0  15146.0  2506.0  \n",
       "137  183594.0  5275.0  16531.0  2608.0  \n",
       "228  140212.0  2895.0  59913.0  4988.0  \n",
       "..        ...     ...      ...     ...  \n",
       "147       NaN     NaN      NaN     NaN  \n",
       "152       NaN     NaN      NaN     NaN  \n",
       "165       NaN     NaN      NaN     NaN  \n",
       "166       NaN     NaN      NaN     NaN  \n",
       "214       NaN     NaN      NaN     NaN  \n",
       "\n",
       "[229 rows x 12 columns]"
      ]
     },
     "metadata": {},
     "output_type": "display_data"
    }
   ],
   "source": [
    "eval_output = \\\n",
    "    pandas.DataFrame(ls_output,\n",
    "                     columns = ['Feature_set', 'Data_type', 'Scaled_mutual_information',\n",
    "                                'Prevalence_per_thousand', 'Class_balanced_accuracy',\n",
    "                                'Odds_ratio', 'ppv', 'npv', 'tn', 'fn', 'fp', 'tp'])\n",
    "eval_output.sort_values(by=['Scaled_mutual_information'], ascending = False, inplace = True)\n",
    "pandas.set_option('display.max_rows', 30)\n",
    "display(eval_output)"
   ]
  },
  {
   "cell_type": "markdown",
   "id": "a5674e12-9fe4-4ef6-ae57-75578c19d736",
   "metadata": {},
   "source": [
    " ### Process breakdown: simple"
   ]
  },
  {
   "cell_type": "code",
   "execution_count": 283,
   "id": "e2ee2927-3575-4dd8-b893-10bcfeb422ce",
   "metadata": {
    "jupyter": {
     "source_hidden": true
    },
    "tags": []
   },
   "outputs": [
    {
     "data": {
      "text/plain": [
       "3"
      ]
     },
     "execution_count": 283,
     "metadata": {},
     "output_type": "execute_result"
    }
   ],
   "source": [
    "feature_set_array.fillna(0, inplace = True)\n",
    "vec_featureSet = feature_set_array['countUniqueHypnoticsAndAnxiolytics']\n",
    "vec_caseness = caseness_array.caseness_1isYes.astype(int)\n",
    "len(vec_featureSet.value_counts())"
   ]
  },
  {
   "cell_type": "code",
   "execution_count": 284,
   "id": "fd754c33-08ed-46f2-aa73-9443b5e36525",
   "metadata": {
    "jupyter": {
     "source_hidden": true
    },
    "tags": []
   },
   "outputs": [],
   "source": [
    "if len(vec_featureSet.value_counts()) < 2:\n",
    "    print(\"\\n**\",\n",
    "          \"Feature-set only has one value.\",\n",
    "         \"**\\n\")"
   ]
  },
  {
   "cell_type": "code",
   "execution_count": 285,
   "id": "c7c69a5b-51d4-4566-82af-8a3595350aff",
   "metadata": {
    "jupyter": {
     "source_hidden": true
    },
    "tags": []
   },
   "outputs": [],
   "source": [
    "# Check that both vectors are the same length.\n",
    "if len(vec_featureSet) != len(vec_caseness):\n",
    "    print(\"\\n**\",\n",
    "          \"Feature-set and caseness vectors are of different lengths.\",\n",
    "         \"**\\n\")"
   ]
  },
  {
   "cell_type": "code",
   "execution_count": 286,
   "id": "9750b98a-6699-47be-b057-791d4dd39a65",
   "metadata": {
    "jupyter": {
     "source_hidden": true
    },
    "tags": []
   },
   "outputs": [],
   "source": [
    "# Change the data type to suit the `statsmodel` function.\n",
    "if vec_featureSet.dtype == 'int64':\n",
    "    vec_featureSet = vec_featureSet.astype(int)\n",
    "elif vec_featureSet.dtype == 'boolean':\n",
    "    vec_featureSet = vec_featureSet.astype(bool)"
   ]
  },
  {
   "cell_type": "code",
   "execution_count": 287,
   "id": "04cb3940-4290-4d66-9ba1-0d9e064fc0c8",
   "metadata": {
    "jupyter": {
     "source_hidden": true
    },
    "tags": []
   },
   "outputs": [
    {
     "data": {
      "text/plain": [
       "False"
      ]
     },
     "execution_count": 287,
     "metadata": {},
     "output_type": "execute_result"
    }
   ],
   "source": [
    "vec_featureSet.dtype == 'float64' or len(vec_featureSet.value_counts()) > 3"
   ]
  },
  {
   "cell_type": "code",
   "execution_count": 288,
   "id": "a0353cab-b308-43f3-9b16-7648210d7df8",
   "metadata": {
    "jupyter": {
     "source_hidden": true
    },
    "tags": []
   },
   "outputs": [
    {
     "data": {
      "text/html": [
       "<div>\n",
       "<style scoped>\n",
       "    .dataframe tbody tr th:only-of-type {\n",
       "        vertical-align: middle;\n",
       "    }\n",
       "\n",
       "    .dataframe tbody tr th {\n",
       "        vertical-align: top;\n",
       "    }\n",
       "\n",
       "    .dataframe thead th {\n",
       "        text-align: right;\n",
       "    }\n",
       "</style>\n",
       "<table border=\"1\" class=\"dataframe\">\n",
       "  <thead>\n",
       "    <tr style=\"text-align: right;\">\n",
       "      <th>caseness_1isYes</th>\n",
       "      <th>0</th>\n",
       "      <th>1</th>\n",
       "    </tr>\n",
       "    <tr>\n",
       "      <th>countUniqueHypnoticsAndAnxiolytics</th>\n",
       "      <th></th>\n",
       "      <th></th>\n",
       "    </tr>\n",
       "  </thead>\n",
       "  <tbody>\n",
       "    <tr>\n",
       "      <th>0</th>\n",
       "      <td>198290</td>\n",
       "      <td>7122</td>\n",
       "    </tr>\n",
       "    <tr>\n",
       "      <th>1</th>\n",
       "      <td>1694</td>\n",
       "      <td>669</td>\n",
       "    </tr>\n",
       "    <tr>\n",
       "      <th>2</th>\n",
       "      <td>141</td>\n",
       "      <td>92</td>\n",
       "    </tr>\n",
       "  </tbody>\n",
       "</table>\n",
       "</div>"
      ],
      "text/plain": [
       "caseness_1isYes                          0     1\n",
       "countUniqueHypnoticsAndAnxiolytics              \n",
       "0                                   198290  7122\n",
       "1                                     1694   669\n",
       "2                                      141    92"
      ]
     },
     "execution_count": 288,
     "metadata": {},
     "output_type": "execute_result"
    }
   ],
   "source": [
    "# Make contingency table.\n",
    "contingencyTable = \\\n",
    "    pandas.crosstab(\n",
    "        index = vec_featureSet,\n",
    "        columns = vec_caseness\n",
    ")\n",
    "contingencyTable"
   ]
  },
  {
   "cell_type": "code",
   "execution_count": 295,
   "id": "aad798d3-d0d2-449a-b831-5fd2e6b0bfee",
   "metadata": {
    "jupyter": {
     "source_hidden": true
    },
    "tags": []
   },
   "outputs": [
    {
     "name": "stdout",
     "output_type": "stream",
     "text": [
      "sMI = 0.03063777735411082\n"
     ]
    }
   ],
   "source": [
    "# Scaled mutual information.\n",
    "#\n",
    "# Our particular scaled mutual information values are the proportional improvement in certainty about the\n",
    "# caseness variable. For example, a f_nMI = 0.05 means that the feature set improves our certainty about\n",
    "# whether the person has CMHD by 5%.\n",
    "pk = vec_caseness.value_counts() / len(vec_caseness)\n",
    "entropy_caseness = -numpy.sum(pk * numpy.log(pk)) / numpy.log(numpy.e)\n",
    "MI = sklearn.metrics.mutual_info_score(vec_featureSet, vec_caseness)\n",
    "sMI = MI / entropy_caseness       \n",
    "print(f'sMI = {sMI}')"
   ]
  },
  {
   "cell_type": "code",
   "execution_count": 401,
   "id": "45171e9b-3d92-4e4e-ba79-b6c70753e71e",
   "metadata": {
    "jupyter": {
     "source_hidden": true
    },
    "tags": []
   },
   "outputs": [
    {
     "name": "stdout",
     "output_type": "stream",
     "text": [
      "prevalence = 9.64\n"
     ]
    }
   ],
   "source": [
    "# Prevalence value per 1,000.\n",
    "#\n",
    "# I use 1 minus the prevalence of zeros because that\n",
    "# combines all the possibly-many values that indicate\n",
    "# the presence of the feature set.\n",
    "prevalence = \\\n",
    "    (1 - (sum(vec_featureSet == 0) / len(vec_featureSet))) * 10\n",
    "if prevalence < 0.01:\n",
    "     prevalence = '< 0.01'\n",
    "else:\n",
    "     prevalence = round(prevalence, 2)\n",
    "print(f'prevalence = {prevalence}')"
   ]
  },
  {
   "cell_type": "code",
   "execution_count": 291,
   "id": "d2606205-2d1e-4663-a7aa-7e0d83953428",
   "metadata": {
    "jupyter": {
     "source_hidden": true
    },
    "tags": []
   },
   "outputs": [
    {
     "name": "stdout",
     "output_type": "stream",
     "text": [
      "cba = 0.02\n"
     ]
    }
   ],
   "source": [
    "# Class balance accuracy.\n",
    "cba = \\\n",
    "    round( 0.5 * \\\n",
    "          ( (tp / max( (tp + fn), (tp + fp) ) ) + \\\n",
    "           (tn / max( (tn + fp), (tn +fn) ) ) ), 2)\n",
    "if cba < 0.01:\n",
    "    cba = '< 0.01'\n",
    "print(f'cba = {cba}')"
   ]
  },
  {
   "cell_type": "code",
   "execution_count": 292,
   "id": "2a9d2a23-6f58-46fe-9885-dcb073c282f1",
   "metadata": {
    "jupyter": {
     "source_hidden": true
    },
    "tags": []
   },
   "outputs": [
    {
     "name": "stdout",
     "output_type": "stream",
     "text": [
      "oddsRatio = 0.1\n"
     ]
    }
   ],
   "source": [
    "# Odds ratio.\n",
    "if min( (tp * tn) , (fp * fn) ) == 0:\n",
    "    oddsRatio = 'Undefined'\n",
    "else:\n",
    "    oddsRatio = round( (tp * tn) / (fp * fn), 2)\n",
    "print(f'oddsRatio = {oddsRatio}')"
   ]
  },
  {
   "cell_type": "code",
   "execution_count": 293,
   "id": "06f5f199-c2dd-490e-b43b-24e650fbd401",
   "metadata": {
    "jupyter": {
     "source_hidden": true
    },
    "tags": []
   },
   "outputs": [
    {
     "name": "stdout",
     "output_type": "stream",
     "text": [
      "ppv = 0.04\n"
     ]
    }
   ],
   "source": [
    "# Positive predictive value.\n",
    "ppv = 0.00 if (tp + fp) == 0 else tp / (tp + fp)\n",
    "if ppv > 0 and ppv < 0.01:\n",
    "    ppv = '< 0.01'\n",
    "elif ppv < 1 and ppv > 0.999:\n",
    "    ppv = '\\u2248 1.00'\n",
    "else:\n",
    "     ppv = round(ppv, 2)\n",
    "print(f'ppv = {ppv}')"
   ]
  },
  {
   "cell_type": "code",
   "execution_count": 294,
   "id": "cbbe0d47-c3df-45c3-b6e4-caf37e24542f",
   "metadata": {
    "jupyter": {
     "source_hidden": true
    },
    "tags": []
   },
   "outputs": [
    {
     "name": "stdout",
     "output_type": "stream",
     "text": [
      "npv = 0.73\n"
     ]
    }
   ],
   "source": [
    "# Negative predictive value.\n",
    "npv = 0.00 if (tn + fn) == 0 else tn / (tn + fn)\n",
    "if npv > 0 and npv < 0.01:\n",
    "    npv = '< 0.01'\n",
    "elif npv < 1 and npv > 0.999:\n",
    "    npv = '\\u2248 1.00'\n",
    "else:\n",
    "     npv = round(npv, 2)\n",
    "print(f'npv = {npv}')"
   ]
  },
  {
   "cell_type": "markdown",
   "id": "3cb4424c-631c-42b2-955d-fb3f6d252a5f",
   "metadata": {},
   "source": [
    " ### Process breakdown: complicatedfeature_set_array"
   ]
  },
  {
   "cell_type": "code",
   "execution_count": 15,
   "id": "bc54a12a-f204-47f2-8adf-aa8a71fb5338",
   "metadata": {
    "tags": []
   },
   "outputs": [
    {
     "data": {
      "text/plain": [
       "105"
      ]
     },
     "execution_count": 15,
     "metadata": {},
     "output_type": "execute_result"
    }
   ],
   "source": [
    "feature_set_array.fillna(0, inplace = True)\n",
    "vec_featureSet = feature_set_array['countAppointmentsPreviousYear']\n",
    "vec_caseness = caseness_array.caseness_1isYes.astype(int)\n",
    "len(vec_featureSet.value_counts())"
   ]
  },
  {
   "cell_type": "code",
   "execution_count": 16,
   "id": "ec906a5b-03aa-4fd8-8754-fce52265c193",
   "metadata": {
    "jupyter": {
     "source_hidden": true
    },
    "tags": []
   },
   "outputs": [],
   "source": [
    "if len(vec_featureSet.value_counts()) < 2:\n",
    "    print(\"\\n**\",\n",
    "          \"Feature-set only has one value.\",\n",
    "         \"**\\n\")"
   ]
  },
  {
   "cell_type": "code",
   "execution_count": 17,
   "id": "14240a65-915b-4e5c-888c-0e46a4d68ef8",
   "metadata": {
    "jupyter": {
     "source_hidden": true
    },
    "tags": []
   },
   "outputs": [],
   "source": [
    "# Check that both vectors are the same length.\n",
    "if len(vec_featureSet) != len(vec_caseness):\n",
    "    print(\"\\n**\",\n",
    "          \"Feature-set and caseness vectors are of different lengths.\",\n",
    "         \"**\\n\")"
   ]
  },
  {
   "cell_type": "code",
   "execution_count": 18,
   "id": "bac1ae2d-99e1-4e31-8bb1-f28f6875bd9c",
   "metadata": {
    "jupyter": {
     "source_hidden": true
    },
    "tags": []
   },
   "outputs": [],
   "source": [
    "# Change the data type to suit the `statsmodel` function.\n",
    "if vec_featureSet.dtype == 'int64':\n",
    "    vec_featureSet=vec_featureSet.astype(int)\n",
    "elif vec_featureSet.dtype == 'boolean':\n",
    "    vec_featureSet = vec_featureSet.astype(bool)"
   ]
  },
  {
   "cell_type": "code",
   "execution_count": 19,
   "id": "1a1fb8e3-0f31-4375-96d9-f840d9880f41",
   "metadata": {
    "jupyter": {
     "source_hidden": true
    },
    "tags": []
   },
   "outputs": [
    {
     "data": {
      "text/plain": [
       "True"
      ]
     },
     "execution_count": 19,
     "metadata": {},
     "output_type": "execute_result"
    }
   ],
   "source": [
    "vec_featureSet.dtype == 'float64' or len(vec_featureSet.value_counts()) > 3"
   ]
  },
  {
   "cell_type": "code",
   "execution_count": 20,
   "id": "77d9186c-ccf0-40a0-8fdb-5a8e9a796a94",
   "metadata": {
    "jupyter": {
     "source_hidden": true
    },
    "tags": []
   },
   "outputs": [
    {
     "name": "stdout",
     "output_type": "stream",
     "text": [
      "sMI = 0.015111121531988047\n"
     ]
    }
   ],
   "source": [
    "pk = vec_caseness.value_counts() / len(vec_caseness)\n",
    "entropy_caseness = -numpy.sum(pk * numpy.log(pk)) / numpy.log(numpy.e)\n",
    "# Mutual information\n",
    "MI = mutual_info_regression(vec_featureSet.to_numpy().reshape(-1,1), vec_caseness, n_neighbors = 2)[0]\n",
    "sMI = MI / entropy_caseness       \n",
    "print(f'sMI = {sMI}')"
   ]
  },
  {
   "cell_type": "code",
   "execution_count": 21,
   "id": "b44a444c-dd8d-433b-8eab-3201f9380ab6",
   "metadata": {
    "jupyter": {
     "source_hidden": true
    },
    "tags": []
   },
   "outputs": [
    {
     "name": "stdout",
     "output_type": "stream",
     "text": [
      "Prevalence, in the form of mode and arithmetic mean, = [0, 6.55]\n"
     ]
    }
   ],
   "source": [
    "# Prevalence value per 1,000.\n",
    "#\n",
    "# When the feature set is a float64, we will use the arithmetic\n",
    "# mean in place of the prevalence. When the feature set is a \n",
    "# count, we will use the mode in place of the prevalence.\n",
    "prevalence = [scipy.stats.mode(vec_featureSet)[0][0], round(numpy.mean(vec_featureSet), 2)]\n",
    "print(f'Prevalence, in the form of mode and arithmetic mean, = {prevalence}')"
   ]
  },
  {
   "cell_type": "code",
   "execution_count": 22,
   "id": "ac24b2d1-c27b-4172-9197-95198fc1ab42",
   "metadata": {
    "jupyter": {
     "source_hidden": true
    },
    "tags": []
   },
   "outputs": [
    {
     "name": "stdout",
     "output_type": "stream",
     "text": [
      "CBA for non-binary feature sets is not meaningful\n"
     ]
    }
   ],
   "source": [
    "# Class balance accuracy.\n",
    "cba = None\n",
    "print('CBA for non-binary feature sets is not meaningful.')"
   ]
  },
  {
   "cell_type": "code",
   "execution_count": 23,
   "id": "00edfcce-7ecc-4945-952a-c16c8dab0eec",
   "metadata": {
    "jupyter": {
     "source_hidden": true
    },
    "tags": []
   },
   "outputs": [
    {
     "name": "stdout",
     "output_type": "stream",
     "text": [
      "Optimization terminated successfully.\n",
      "         Current function value: 0.159026\n",
      "         Iterations 7\n",
      "oddsRatio = 1.03\n"
     ]
    }
   ],
   "source": [
    "# Odds ratio.\n",
    "# ## Create the required dataframe.\n",
    "df = pandas.DataFrame({'feature_set' : vec_featureSet.astype(int), 'caseness' : vec_caseness.astype(int)})\n",
    "# ## Build regression model.\n",
    "log_reg = statsmodels.formula.api.logit(\"caseness ~ feature_set\", data = df).fit()\n",
    "# ## Extract odds ratio.\n",
    "oddsRatio = round(numpy.exp(log_reg.params)[1], 2)\n",
    "print(f'oddsRatio = {oddsRatio}')"
   ]
  },
  {
   "cell_type": "code",
   "execution_count": 24,
   "id": "d79272c1-6a21-40b8-92fd-8e43ec7e36d4",
   "metadata": {
    "jupyter": {
     "source_hidden": true
    },
    "tags": []
   },
   "outputs": [
    {
     "name": "stdout",
     "output_type": "stream",
     "text": [
      "PPV for non-binary feature sets is not meaningful.\n"
     ]
    }
   ],
   "source": [
    "# Positive predictive value.\n",
    "ppv = None\n",
    "print('PPV for non-binary feature sets is not meaningful.')"
   ]
  },
  {
   "cell_type": "code",
   "execution_count": 25,
   "id": "b026c8f1-e081-4dd5-b5da-17cdee09025c",
   "metadata": {
    "jupyter": {
     "source_hidden": true
    },
    "tags": []
   },
   "outputs": [
    {
     "name": "stdout",
     "output_type": "stream",
     "text": [
      "NPV for non-binary feature sets is not meaningful.\n"
     ]
    }
   ],
   "source": [
    "# Negative predictive value.\n",
    "npv = None\n",
    "print('NPV for non-binary feature sets is not meaningful.')"
   ]
  }
 ],
 "metadata": {
  "environment": {
   "kernel": "python3",
   "name": "r-cpu.4-2.m109",
   "type": "gcloud",
   "uri": "gcr.io/deeplearning-platform-release/r-cpu.4-2:m109"
  },
  "kernelspec": {
   "display_name": "Python 3",
   "language": "python",
   "name": "python3"
  },
  "language_info": {
   "codemirror_mode": {
    "name": "ipython",
    "version": 3
   },
   "file_extension": ".py",
   "mimetype": "text/x-python",
   "name": "python",
   "nbconvert_exporter": "python",
   "pygments_lexer": "ipython3",
   "version": "3.7.12"
  }
 },
 "nbformat": 4,
 "nbformat_minor": 5
}
