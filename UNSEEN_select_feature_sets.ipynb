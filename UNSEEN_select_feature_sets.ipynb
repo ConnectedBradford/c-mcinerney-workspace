{
 "cells": [
  {
   "cell_type": "markdown",
   "id": "9e6d5d9a-a6b3-4471-82c7-317ece56bbfa",
   "metadata": {
    "tags": []
   },
   "source": [
    "# Filtering feature sets.\n",
    "Candidate feature sets are filtered based on their normalised mutual information with the various caseness variables.\n",
    "\n",
    "## Imports"
   ]
  },
  {
   "cell_type": "code",
   "execution_count": 13,
   "id": "b5e89744-b7fb-42f2-b718-503cdf46688c",
   "metadata": {
    "jupyter": {
     "source_hidden": true
    },
    "tags": []
   },
   "outputs": [],
   "source": [
    "%run 'UNSEEN_helper_functions.ipynb'\n",
    "%store -r"
   ]
  },
  {
   "cell_type": "markdown",
   "id": "3aca49ca-663c-4c1e-a330-e2e3966673ce",
   "metadata": {},
   "source": [
    "## Set parameters"
   ]
  },
  {
   "cell_type": "code",
   "execution_count": 15,
   "id": "c8e83b28-ce05-4c76-ad0a-e2c1e8cd4f34",
   "metadata": {
    "tags": []
   },
   "outputs": [],
   "source": [
    "# Order of feature sets, i.e. composed of individual features, pairs or triplets?\n",
    "ls_m = [2]#[1, 2, 3]\n",
    "# Type of representation of the feature set.\n",
    "ls_representation = ['all', 'any']#, 'multi']"
   ]
  },
  {
   "cell_type": "markdown",
   "id": "fc3c16ee-fa5b-46af-8f2f-f14f04b44c85",
   "metadata": {},
   "source": [
    "## Load the caseness variables"
   ]
  },
  {
   "cell_type": "code",
   "execution_count": 3,
   "id": "f085b218-7849-419d-848b-2d42afef00f4",
   "metadata": {
    "jupyter": {
     "source_hidden": true
    },
    "tags": []
   },
   "outputs": [],
   "source": [
    "%%capture\n",
    "if 'caseness_array' not in globals():\n",
    "    %run ./\"UNSEEN_create_caseness_variables.ipynb\""
   ]
  },
  {
   "cell_type": "markdown",
   "id": "007ebf61-5c60-455d-bbae-fc43740bcfa9",
   "metadata": {},
   "source": [
    "## Load feature-set arrays"
   ]
  },
  {
   "cell_type": "code",
   "execution_count": 4,
   "id": "d998b9b1-0119-4613-9991-63fdc2e52727",
   "metadata": {
    "jupyter": {
     "source_hidden": true
    },
    "tags": []
   },
   "outputs": [],
   "source": [
    "%%capture\n",
    "if 'fs_clinician' not in globals():\n",
    "    %run ./\"UNSEEN_create_clinician_feature_sets.ipynb\""
   ]
  },
  {
   "cell_type": "code",
   "execution_count": 5,
   "id": "3ec2b7d8-df01-4f51-bb92-6d864d277ea3",
   "metadata": {
    "jupyter": {
     "source_hidden": true
    },
    "tags": []
   },
   "outputs": [
    {
     "name": "stdout",
     "output_type": "stream",
     "text": [
      "\n",
      "Clinician feature set arrays loaded.\n"
     ]
    }
   ],
   "source": [
    "print(\"\\nClinician feature set arrays loaded.\")"
   ]
  },
  {
   "cell_type": "code",
   "execution_count": 6,
   "id": "7e22ce7b-0e0f-48a9-a725-30fcc6f992af",
   "metadata": {
    "jupyter": {
     "source_hidden": true
    },
    "tags": []
   },
   "outputs": [],
   "source": [
    "%%capture\n",
    "if 'fs_literature' not in globals():\n",
    "    %run ./\"UNSEEN_create_literature_feature_sets.ipynb\""
   ]
  },
  {
   "cell_type": "code",
   "execution_count": 7,
   "id": "2b1bbb26-9dff-4d1a-8923-938c005b4193",
   "metadata": {
    "jupyter": {
     "source_hidden": true
    },
    "tags": []
   },
   "outputs": [
    {
     "name": "stdout",
     "output_type": "stream",
     "text": [
      "\n",
      "Literature feture set arrays loaded.\n"
     ]
    }
   ],
   "source": [
    "print(\"\\nLiterature feture set arrays loaded.\")"
   ]
  },
  {
   "cell_type": "raw",
   "id": "3a04ef63-9b1b-4ddb-a3ff-dcebbc6ae245",
   "metadata": {
    "jupyter": {
     "source_hidden": true
    },
    "tags": []
   },
   "source": [
    "#%%capture\n",
    "#if 'fs_interview' not in globals():\n",
    "#    %run ./\"UNSEEN_create_interview_feature_sets.ipynb\""
   ]
  },
  {
   "cell_type": "raw",
   "id": "31e2e794-be09-484e-834c-27413feee3a6",
   "metadata": {
    "jupyter": {
     "source_hidden": true
    },
    "tags": []
   },
   "source": [
    "#print(\"\\nInterview feture set arrays loaded.\")"
   ]
  },
  {
   "cell_type": "raw",
   "id": "e94c79bb-c82d-442c-930c-c600482fbe4b",
   "metadata": {
    "jupyter": {
     "source_hidden": true
    },
    "tags": []
   },
   "source": [
    "%%capture\n",
    "if 'fs_database' not in globals():\n",
    "    %run ./\"UNSEEN_create_database_feature_sets.ipynb\""
   ]
  },
  {
   "cell_type": "raw",
   "id": "7c5001ff-dfbf-4aa4-a28b-b6bc95bc2eb8",
   "metadata": {
    "jupyter": {
     "source_hidden": true
    },
    "tags": []
   },
   "source": [
    "print(\"\\nDatabase feature set arrays loaded.\")"
   ]
  },
  {
   "cell_type": "raw",
   "id": "6c23a5b7-8f6d-468f-af77-5fe5a3c0dcb4",
   "metadata": {
    "jupyter": {
     "source_hidden": true
    },
    "tags": []
   },
   "source": [
    "#%%capture\n",
    "#if 'fs_PPI' not in globals():\n",
    "#    %run ./\"UNSEEN_filter_database_feature_sets.ipynb\""
   ]
  },
  {
   "cell_type": "raw",
   "id": "0cb01bf0-bdfd-418c-9631-2ce1704cb748",
   "metadata": {
    "jupyter": {
     "source_hidden": true
    },
    "tags": []
   },
   "source": [
    "#    print(\"\\nfPPI feture set arrays loaded.\")"
   ]
  },
  {
   "cell_type": "markdown",
   "id": "1d5965a6-ad7e-4359-8a1b-15c6db5c20c4",
   "metadata": {},
   "source": [
    "## Combine feature-set arrays from all sources"
   ]
  },
  {
   "cell_type": "markdown",
   "id": "c88b0787-8918-4dee-acfc-064105b357e0",
   "metadata": {},
   "source": [
    "#### 'Possible caseness'"
   ]
  },
  {
   "cell_type": "raw",
   "id": "d9690116-db50-466b-83ba-0404b4d2fcd3",
   "metadata": {
    "jupyter": {
     "source_hidden": true
    },
    "tags": []
   },
   "source": [
    "dfs = [\n",
    "    fs_database_filteredPossible\n",
    "    ,fs_clinician_filteredPossible\n",
    "    ,fs_literature_filteredPossible\n",
    "    #,fs_interview_filteredPossible\n",
    "]\n",
    "fs_possibleCaseness = functools.reduce(lambda left, right: pandas.merge(left, right, on = 'person_id'), dfs)"
   ]
  },
  {
   "cell_type": "code",
   "execution_count": 8,
   "id": "d595d16e-6a1e-43f4-9af6-893f95039387",
   "metadata": {},
   "outputs": [],
   "source": [
    "####################################"
   ]
  },
  {
   "cell_type": "code",
   "execution_count": 9,
   "id": "65344aed-f45a-40bf-8377-599fbf3ef49c",
   "metadata": {
    "tags": []
   },
   "outputs": [],
   "source": [
    "dfs = [\n",
    "    fs_clinician\n",
    "    ,fs_literature\n",
    "]\n",
    "df_fs = functools.reduce(lambda left, right: pandas.merge(left, right, on = 'person_id'), dfs)"
   ]
  },
  {
   "cell_type": "markdown",
   "id": "34941a22-415f-4a10-b71e-b6e52c3f7524",
   "metadata": {},
   "source": [
    "#### 'Definite caseness'"
   ]
  },
  {
   "cell_type": "raw",
   "id": "9b62f1d5-1015-48c8-90c3-1e21260da487",
   "metadata": {
    "jupyter": {
     "source_hidden": true
    },
    "tags": []
   },
   "source": [
    "dfs = [\n",
    "    fs_database_filteredDefinite\n",
    "    ,fs_clinician_filteredDefinite\n",
    "    ,fs_literature_filteredDefinite\n",
    "    #,fs_interview_filteredDefinite\n",
    "]\n",
    "fs_definiteCaseness = functools.reduce(lambda left, right: pandas.merge(left, right, on = 'person_id'), dfs)"
   ]
  },
  {
   "cell_type": "markdown",
   "id": "7d83e325-b27c-40b3-976f-54b2b628d011",
   "metadata": {},
   "source": [
    "#### 'Multinomial caseness'"
   ]
  },
  {
   "cell_type": "raw",
   "id": "c03c823e-c73e-4812-a90f-e88eb869dad2",
   "metadata": {
    "jupyter": {
     "source_hidden": true
    },
    "tags": []
   },
   "source": [
    "dfs = [\n",
    "    fs_database_filteredMulti\n",
    "    ,fs_clinician_filteredMulti\n",
    "    ,fs_literature_filteredMulti\n",
    "    #,fs_interview_filteredMulti\n",
    "]\n",
    "fs_multiCaseness = functools.reduce(lambda left, right: pandas.merge(left, right, on = 'person_id'), dfs)"
   ]
  },
  {
   "cell_type": "markdown",
   "id": "1a171087-a4ee-4081-9049-c756e11decf7",
   "metadata": {},
   "source": [
    "#### 'Possible-vs-Definite caseness'"
   ]
  },
  {
   "cell_type": "raw",
   "id": "0597427f-ee82-488e-ab11-bd2bd3f7b25b",
   "metadata": {
    "jupyter": {
     "source_hidden": true
    },
    "tags": []
   },
   "source": [
    "dfs = [\n",
    "    fs_database_filteredPossDef\n",
    "    ,fs_clinician_filteredPossDef\n",
    "    ,fs_literature_filteredPossDef\n",
    "    #,fs_interview_filteredPossDef\n",
    "]\n",
    "fs_possdefCaseness = functools.reduce(lambda left, right: pandas.merge(left, right, on = 'person_id'), dfs)"
   ]
  },
  {
   "cell_type": "markdown",
   "id": "67e6752e-c972-4937-85d6-a36bd3def4da",
   "metadata": {},
   "source": [
    "## Select all feature sets"
   ]
  },
  {
   "cell_type": "markdown",
   "id": "4aabcdde-0e8a-4d65-a6ef-16712a28013c",
   "metadata": {
    "tags": []
   },
   "source": [
    "### 'Possible caseness'"
   ]
  },
  {
   "cell_type": "code",
   "execution_count": null,
   "id": "583ce477-e211-42ee-b4eb-467b8db7ca9e",
   "metadata": {
    "jupyter": {
     "source_hidden": true
    },
    "tags": []
   },
   "outputs": [],
   "source": [
    "for i_m in ls_m:\n",
    "    for i_representation in ls_representation:\n",
    "        featuresetmi(featureSet_array = fs_possibleCaseness,\n",
    "                     casenessVector = caseness_array[['person_id','CMHD_rx_not_dx']],\n",
    "                     m = m,\n",
    "                     representation = i_representation,\n",
    "                     source = 'combined')"
   ]
  },
  {
   "cell_type": "code",
   "execution_count": null,
   "id": "59b865de-bcb1-43f2-9662-3d04938d3243",
   "metadata": {},
   "outputs": [],
   "source": [
    "####################################"
   ]
  },
  {
   "cell_type": "code",
   "execution_count": 16,
   "id": "57875882-1f00-4d0e-a061-64cc630455b7",
   "metadata": {
    "tags": []
   },
   "outputs": [
    {
     "name": "stdout",
     "output_type": "stream",
     "text": [
      "\n",
      "No save location provided.\n",
      "...Defaulting to ~/Mutual information saves/Pairs\n",
      "\n",
      "\n",
      "\n",
      "****************************************\n",
      "Calculating mutual information values...\n",
      "Parallel processing of feature sets has begun...\n",
      "\t...parallel processing of feature sets has ended.\n",
      "...\n",
      "\n",
      "1 batch(es) of feature sets processed.\n",
      "0 / 1596 feature sets dropped due to insufficient normalised mutual information.\n",
      "****************************************\n",
      "\n",
      "No save location provided.\n",
      "...Defaulting to ~/Mutual information saves/Pairs\n",
      "\n",
      "\n",
      "\n",
      "****************************************\n",
      "Calculating mutual information values...\n",
      "Parallel processing of feature sets has begun...\n",
      "\t...parallel processing of feature sets has ended.\n",
      "...\n",
      "\n",
      "1 batch(es) of feature sets processed.\n",
      "0 / 1596 feature sets dropped due to insufficient normalised mutual information.\n",
      "****************************************\n"
     ]
    }
   ],
   "source": [
    "for i_m in ls_m:\n",
    "    for i_representation in ls_representation:\n",
    "        featuresetmi(featureSet_array = df_fs,\n",
    "                     casenessVector = caseness_array[['person_id','CMHD_dx_and_rx']],\n",
    "                     m = i_m,\n",
    "                     representation = i_representation,\n",
    "                     src = 'combined')"
   ]
  },
  {
   "cell_type": "code",
   "execution_count": 11,
   "id": "d8f31592-2c44-4749-b6e1-79d0acb10e4b",
   "metadata": {},
   "outputs": [],
   "source": [
    "####################################"
   ]
  },
  {
   "cell_type": "markdown",
   "id": "c486afbd-6b88-4215-8f0a-9c171f3acba4",
   "metadata": {
    "tags": []
   },
   "source": [
    "### 'Definite caseness'"
   ]
  },
  {
   "cell_type": "code",
   "execution_count": null,
   "id": "91321978-7b50-41b9-9ff6-c3201751c931",
   "metadata": {
    "jupyter": {
     "source_hidden": true
    },
    "tags": []
   },
   "outputs": [],
   "source": [
    "for i_m in ls_m:\n",
    "    for i_representation in ls_representation:\n",
    "        featuresetmi(featureSet_array = fs_definiteCaseness,\n",
    "                     casenessVector = caseness_array[['person_id','CMHD_dx_and_rx']],\n",
    "                     m = m,\n",
    "                     representation = i_representation,\n",
    "                     source = 'combined')"
   ]
  },
  {
   "cell_type": "markdown",
   "id": "39039dea-43b1-4a94-87f7-05ec73760ef9",
   "metadata": {
    "tags": []
   },
   "source": [
    "### 'Multinomial caseness'"
   ]
  },
  {
   "cell_type": "code",
   "execution_count": null,
   "id": "36748acb-2fcf-490d-a222-025816ba502f",
   "metadata": {
    "jupyter": {
     "source_hidden": true
    },
    "tags": []
   },
   "outputs": [],
   "source": [
    "for i_m in ls_m:\n",
    "    for i_representation in ls_representation:\n",
    "        featuresetmi(featureSet_array = fs_multiCaseness,\n",
    "                     casenessVector = caseness_array[['person_id','CMHD']],\n",
    "                     m = m,\n",
    "                     representation = i_representation,\n",
    "                     source = 'combined')"
   ]
  },
  {
   "cell_type": "markdown",
   "id": "9bae4f71-b6d4-4b63-86af-b16670e76baa",
   "metadata": {
    "tags": []
   },
   "source": [
    "### 'Possible-vs-Definite caseness'"
   ]
  },
  {
   "cell_type": "code",
   "execution_count": null,
   "id": "849a0bc0-5c1d-445e-a979-f42474781527",
   "metadata": {
    "jupyter": {
     "source_hidden": true
    },
    "tags": []
   },
   "outputs": [],
   "source": [
    "for i_m in ls_m:\n",
    "    for i_representation in ls_representation:\n",
    "        featuresetmi(featureSet_array = fs_possdefCaseness,\n",
    "                     casenessVector = caseness_array[['person_id','CMHD_possdef']],\n",
    "                     m = m,\n",
    "                     representation = i_representation,\n",
    "                     source = 'combined')"
   ]
  }
 ],
 "metadata": {
  "environment": {
   "kernel": "python3",
   "name": "r-cpu.4-1.m95",
   "type": "gcloud",
   "uri": "gcr.io/deeplearning-platform-release/r-cpu.4-1:m95"
  },
  "kernelspec": {
   "display_name": "Python 3",
   "language": "python",
   "name": "python3"
  },
  "language_info": {
   "codemirror_mode": {
    "name": "ipython",
    "version": 3
   },
   "file_extension": ".py",
   "mimetype": "text/x-python",
   "name": "python",
   "nbconvert_exporter": "python",
   "pygments_lexer": "ipython3",
   "version": "3.7.12"
  }
 },
 "nbformat": 4,
 "nbformat_minor": 5
}
