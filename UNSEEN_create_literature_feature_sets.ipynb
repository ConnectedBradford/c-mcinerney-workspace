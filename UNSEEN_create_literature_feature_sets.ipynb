{
 "cells": [
  {
   "cell_type": "markdown",
   "id": "7ef62a66-4956-4591-b43a-bc3ee30745ab",
   "metadata": {
    "tags": []
   },
   "source": [
    "# Literature feature sets\n",
    "The purpose of this notebook is to create the array of feature sets suggested by the literature.\n",
    "\n",
    "### Imports and helper functions"
   ]
  },
  {
   "cell_type": "code",
   "execution_count": 1,
   "id": "b044e55d-64e9-43d6-92e9-6a2ca43295cc",
   "metadata": {
    "tags": []
   },
   "outputs": [],
   "source": [
    "%run 'UNSEEN_helper_functions.ipynb'\n",
    "%store -r"
   ]
  },
  {
   "cell_type": "markdown",
   "id": "be69d2ce-8c42-4879-b232-a480e500679d",
   "metadata": {},
   "source": [
    "## Load codelist CSV files.\n",
    "We used opencodelist.org to define codelists that define the set of SNOMED-CT codes used to identify patients based on various attributes."
   ]
  },
  {
   "cell_type": "code",
   "execution_count": 2,
   "id": "437c8f34-fdc7-4343-a685-afdbf53f8096",
   "metadata": {
    "tags": []
   },
   "outputs": [],
   "source": [
    "# Instaniate BigQuery client.\n",
    "client = bigquery.Client()\n",
    "\n",
    "# Set folder location.\n",
    "folder_loc = os.path.dirname(os.path.abspath(\"UNSEEN create clinician feature sets.ipynb\"))\n",
    "folder = folder_loc + '/codelists/'\n",
    "\n",
    "# Clinical codes of interest.\n",
    "codes_to_query_homeless = pandas.read_csv(folder + \"ciaranmci-homelessness-0e1fe637.csv\")\n",
    "codes_to_query_incarcerationImprisonment = pandas.read_csv(folder + \"ciaranmci-incarceration-or-imprisonment-75107301.csv\")\n",
    "codes_to_query_sleepDisturbance = pandas.read_csv(folder + \"ciaranmci-sleep-disturbance-dyssomnia-29e21962.csv\")\n",
    "codes_to_query_suicidal = pandas.read_csv(folder + \"ciaranmci-suicidal-5eaa56c5.csv\")\n",
    "codes_to_query_tinnitus = pandas.read_csv(folder + \"ciaranmci-tinnitus-finding-10d2a62d.csv\")"
   ]
  },
  {
   "cell_type": "markdown",
   "id": "6bfdf4e2-64c4-40a3-965d-14632520023f",
   "metadata": {},
   "source": [
    "## Load prerequisites"
   ]
  },
  {
   "cell_type": "code",
   "execution_count": 3,
   "id": "34bff67f-edf7-462b-943b-a6909b113e94",
   "metadata": {
    "tags": []
   },
   "outputs": [],
   "source": [
    "%%capture\n",
    "if 'caseness_array' not in globals():\n",
    "    print(\"not here\")\n",
    "    %run ./\"UNSEEN_create_caseness_variables.ipynb\"\n",
    "%store -r"
   ]
  },
  {
   "cell_type": "markdown",
   "id": "14bf4787-ac83-477f-a2d1-e6cf91669f26",
   "metadata": {},
   "source": [
    "## Query database for base feature sets\n",
    "The literature feature sets are a mix of feature sets are simply defined by the presence of SNOMED-CT codes. The code below returns `fs_literature` that contains the base feature sets."
   ]
  },
  {
   "cell_type": "code",
   "execution_count": 3,
   "id": "92d713ef-af22-4195-a670-41efbb3ead81",
   "metadata": {
    "jupyter": {
     "source_hidden": true
    },
    "tags": []
   },
   "outputs": [],
   "source": [
    "sql_CTEs_body = \\\n",
    "\"\"\"\n",
    "#  ## Homeless\n",
    ",tbl_homeless AS ( \n",
    "    SELECT\n",
    "        snomedcode\n",
    "    FROM\n",
    "        UNNEST([\n",
    "                '\"\"\" + '\\', \\''.join(map(str, codes_to_query_homeless[\"code\"].tolist())) + \"\"\"'\n",
    "                ]) AS snomedcode\n",
    ")\n",
    ",tbl_homeless_persons AS (\n",
    "    SELECT\n",
    "        DISTINCT person_id\n",
    "        ,a.snomedcode\n",
    "    FROM\n",
    "        \"\"\" + server_id + \"\"\".\"\"\" + database_id + \"\"\".tbl_srcode AS a, tbl_homeless\n",
    "    WHERE\n",
    "        a.snomedcode IN (tbl_homeless.snomedcode)\n",
    ")\n",
    "#  ## Poverty\n",
    ",tbl_poverty_persons AS (\n",
    "    SELECT\n",
    "        DISTINCT person_id\n",
    "        ,snomedcode\n",
    "    FROM\n",
    "        \"\"\" + server_id + \"\"\".\"\"\" + database_id + \"\"\".tbl_srcode\n",
    "    WHERE\n",
    "        snomedcode IN ('11403006', '284477001', '724451000000108', '722221000000105', '719781000000101')\n",
    ")\n",
    "#  ## Sleep disturbance\n",
    ",tbl_sleepDisturbance AS ( \n",
    "    SELECT\n",
    "        snomedcode\n",
    "    FROM\n",
    "        UNNEST([\n",
    "                '\"\"\" + '\\', \\''.join(map(str, codes_to_query_sleepDisturbance[\"code\"].tolist())) + \"\"\"'\n",
    "                ]) AS snomedcode\n",
    ")\n",
    ",tbl_sleepDisturbance_persons AS (\n",
    "    SELECT\n",
    "        DISTINCT person_id\n",
    "        ,a.snomedcode\n",
    "    FROM\n",
    "        \"\"\" + server_id + \"\"\".\"\"\" + database_id + \"\"\".tbl_srcode AS a, tbl_sleepDisturbance\n",
    "    WHERE\n",
    "        a.snomedcode IN (tbl_sleepDisturbance.snomedcode)\n",
    ")\n",
    "#  ## Suicidal ideation\n",
    ",tbl_suicidal AS ( \n",
    "    SELECT\n",
    "        snomedcode\n",
    "    FROM\n",
    "        UNNEST([\n",
    "                '\"\"\" + '\\', \\''.join(map(str, codes_to_query_suicidal[\"code\"].tolist())) + \"\"\"'\n",
    "                ]) AS snomedcode\n",
    ")\n",
    ",tbl_suicidal_persons AS (\n",
    "    SELECT\n",
    "        DISTINCT person_id\n",
    "        ,a.snomedcode\n",
    "    FROM\n",
    "        \"\"\" + server_id + \"\"\".\"\"\" + database_id + \"\"\".tbl_srcode AS a, tbl_suicidal\n",
    "    WHERE\n",
    "        a.snomedcode IN (tbl_suicidal.snomedcode)\n",
    ")\n",
    "#  ## Tinnitus\n",
    ",tbl_tinnitus AS ( \n",
    "    SELECT\n",
    "        snomedcode\n",
    "    FROM\n",
    "        UNNEST([\n",
    "                '\"\"\" + '\\', \\''.join(map(str, codes_to_query_tinnitus[\"code\"].tolist())) + \"\"\"'\n",
    "                ]) AS snomedcode\n",
    ")\n",
    ",tbl_tinnitus_persons AS (\n",
    "    SELECT\n",
    "        DISTINCT person_id\n",
    "        ,a.snomedcode\n",
    "    FROM\n",
    "        \"\"\" + server_id + \"\"\".\"\"\" + database_id + \"\"\".tbl_srcode AS a, tbl_tinnitus\n",
    "    WHERE\n",
    "        a.snomedcode IN (tbl_tinnitus.snomedcode)\n",
    ")\n",
    "# ## Food insecurity\n",
    ",tbl_foodInsecurity AS (\n",
    "    SELECT\n",
    "        DISTINCT person_id\n",
    "        ,snomedcode\n",
    "    FROM\n",
    "        \"\"\" + server_id + \"\"\".\"\"\" + database_id + \"\"\".tbl_srcode\n",
    "    WHERE\n",
    "        snomedcode IN ('1078229009', '1004109000', '1002223009')\n",
    ")\n",
    "#  ## Age at first admission to psychiatric rehabilitation services\n",
    ",tbl_admissionToPsychRehabServices_persons AS (\n",
    "    SELECT\n",
    "        DISTINCT person_id\n",
    "        ,snomedcode\n",
    "        ,dateevent\n",
    "    FROM\n",
    "        \"\"\" + server_id + \"\"\".\"\"\" + database_id + \"\"\".tbl_srcode\n",
    "    WHERE\n",
    "        snomedcode IN ('306139004')\n",
    ")\n",
    ",tbl_ageAtFirstAdmissionToPsychRehabServices_persons AS (\n",
    "    SELECT\n",
    "        DISTINCT tbl_studyPopulation_no_caseness.person_id\n",
    "        ,tbl_admissionToPsychRehabServices_persons.snomedcode\n",
    "        ,MIN((EXTRACT(YEAR FROM tbl_admissionToPsychRehabServices_persons.dateevent) - tbl_studyPopulation_no_caseness.year_of_birth)) AS ageAtFirstAdmission\n",
    "    FROM tbl_studyPopulation_no_caseness\n",
    "    LEFT OUTER JOIN tbl_admissionToPsychRehabServices_persons ON tbl_studyPopulation_no_caseness.person_id = tbl_admissionToPsychRehabServices_persons.person_id\n",
    "    WHERE\n",
    "        IS_NAN((EXTRACT(YEAR FROM tbl_admissionToPsychRehabServices_persons.dateevent) - tbl_studyPopulation_no_caseness.year_of_birth)) = FALSE\n",
    "    GROUP BY\n",
    "        tbl_studyPopulation_no_caseness.person_id, tbl_admissionToPsychRehabServices_persons.snomedcode\n",
    ")\n",
    "\n",
    "#  ## Incarceration or imprisonment\n",
    ",tbl_incarcerationImprisonment AS ( \n",
    "    SELECT\n",
    "        snomedcode\n",
    "    FROM\n",
    "        UNNEST([\n",
    "                '\"\"\" + '\\', \\''.join(map(str, codes_to_query_incarcerationImprisonment[\"code\"].tolist())) + \"\"\"'\n",
    "                ]) AS snomedcode\n",
    ")\n",
    ",tbl_incarcerationImprisonment_persons AS (\n",
    "    SELECT\n",
    "        DISTINCT person_id\n",
    "        ,a.snomedcode\n",
    "    FROM\n",
    "        \"\"\" + server_id + \"\"\".\"\"\" + database_id + \"\"\".tbl_srcode AS a, tbl_incarcerationImprisonment\n",
    "    WHERE\n",
    "        a.snomedcode IN (tbl_incarcerationImprisonment.snomedcode)\n",
    ")\n",
    "#  ## Metabolic syndrome\n",
    ",tbl_metabolicSyndrome_persons AS (\n",
    "    SELECT\n",
    "        DISTINCT person_id\n",
    "        ,snomedcode\n",
    "    FROM\n",
    "        \"\"\" + server_id + \"\"\".\"\"\" + database_id + \"\"\".tbl_srcode\n",
    "    WHERE\n",
    "        snomedcode IN ('237602007')\n",
    ")\n",
    "#  ## Sleep dysfunction\n",
    ",tbl_sleepDysfunction_persons AS (\n",
    "    SELECT\n",
    "        DISTINCT person_id\n",
    "        ,snomedcode\n",
    "    FROM\n",
    "        \"\"\" + server_id + \"\"\".\"\"\" + database_id + \"\"\".tbl_srcode\n",
    "    WHERE\n",
    "        snomedcode IN ('441877007', '442176004')\n",
    ")\n",
    "\"\"\"\n",
    "\n",
    "sql_final_select = \\\n",
    "\"\"\"\n",
    "# Finally, we use the above CTEs to define a table with one row per patient and one column for each\n",
    "# feature set. The feature-set columns are populated by interger values with '1' indicating that the\n",
    "# feature set is satisfied and '0' indicating otherwise.\n",
    "SELECT\n",
    "    DISTINCT tbl_studyPopulation_no_caseness.person_id\n",
    "    ,CASE WHEN tbl_homeless_persons.person_id IS NULL THEN 0 ELSE 1 END AS homeless\n",
    "    ,CASE WHEN tbl_poverty_persons.person_id IS NULL THEN 0 ELSE 1 END AS poverty\n",
    "    ,CASE WHEN tbl_sleepDisturbance_persons.person_id IS NULL THEN 0 ELSE 1 END AS sleepDisturbance\n",
    "    ,CASE WHEN tbl_suicidal_persons.person_id IS NULL THEN 0 ELSE 1 END AS suicidal\n",
    "    ,CASE WHEN tbl_tinnitus_persons.person_id IS NULL THEN 0 ELSE 1 END AS tinnitus\n",
    "    ,CASE WHEN tbl_foodInsecurity.person_id IS NULL THEN 0 ELSE 1 END AS foodInsecurity\n",
    "    ,CASE WHEN tbl_ageAtFirstAdmissionToPsychRehabServices_persons.person_id IS NULL THEN 0 ELSE 1 END AS ageAtFirstAdmissionToPsychRehabServices\n",
    "    ,CASE WHEN tbl_incarcerationImprisonment_persons.person_id IS NULL THEN 0 ELSE 1 END AS incarcerationImprisonment\n",
    "    ,CASE WHEN tbl_metabolicSyndrome_persons.person_id IS NULL THEN 0 ELSE 1 END AS metabolicSyndrome\n",
    "    ,CASE WHEN tbl_sleepDysfunction_persons.person_id IS NULL THEN 0 ELSE 1 END AS sleepDysfunction\n",
    "FROM tbl_studyPopulation_no_caseness\n",
    "LEFT OUTER JOIN tbl_homeless_persons ON tbl_studyPopulation_no_caseness.person_id = tbl_homeless_persons.person_id\n",
    "LEFT OUTER JOIN tbl_poverty_persons ON tbl_studyPopulation_no_caseness.person_id = tbl_poverty_persons.person_id\n",
    "LEFT OUTER JOIN tbl_sleepDisturbance_persons ON tbl_studyPopulation_no_caseness.person_id = tbl_sleepDisturbance_persons.person_id\n",
    "LEFT OUTER JOIN tbl_suicidal_persons ON tbl_studyPopulation_no_caseness.person_id = tbl_suicidal_persons.person_id\n",
    "LEFT OUTER JOIN tbl_tinnitus_persons ON tbl_studyPopulation_no_caseness.person_id = tbl_tinnitus_persons.person_id\n",
    "LEFT OUTER JOIN tbl_foodInsecurity ON tbl_studyPopulation_no_caseness.person_id = tbl_foodInsecurity.person_id\n",
    "LEFT OUTER JOIN tbl_ageAtFirstAdmissionToPsychRehabServices_persons ON tbl_studyPopulation_no_caseness.person_id = tbl_ageAtFirstAdmissionToPsychRehabServices_persons.person_id\n",
    "LEFT OUTER JOIN tbl_incarcerationImprisonment_persons ON tbl_studyPopulation_no_caseness.person_id = tbl_incarcerationImprisonment_persons.person_id\n",
    "LEFT OUTER JOIN tbl_metabolicSyndrome_persons ON tbl_studyPopulation_no_caseness.person_id = tbl_metabolicSyndrome_persons.person_id\n",
    "LEFT OUTER JOIN tbl_sleepDysfunction_persons ON tbl_studyPopulation_no_caseness.person_id = tbl_sleepDysfunction_persons.person_id\n",
    "ORDER BY tbl_studyPopulation_no_caseness.person_id\n",
    "\"\"\"\n",
    "\n",
    "fs_literature = client.query(sql_declarations + sql_studyPopulation + sql_CTEs_body + sql_final_select).to_dataframe()"
   ]
  },
  {
   "cell_type": "code",
   "execution_count": 4,
   "id": "aeb7559d-1c96-4c81-a33e-b36a3c4dabef",
   "metadata": {
    "tags": []
   },
   "outputs": [
    {
     "data": {
      "text/markdown": [
       "\n",
       "## Filter feature sets not within bounds\n",
       "\n",
       "All feature sets must have a prevalence (or count) between the prevalence (or count) bounds defined in `UNSEEN_feature_sets_prevalence_bounds.ipynb`,\n",
       "i.e. a feature set's count must satisfy:\n",
       "- $1,510\\le$ $count\\ of\\ patients_{feature\\ set_{i}}$ $\\le3,350$, for 'Definite caseness'\n",
       "- $2,640\\le$ $count\\ of\\ patients_{feature\\ set_{i}}$ $\\le5,860$, for 'Diagnosis-based caseness'\n",
       "- $43,580\\le$ $count\\ of\\ patients_{feature\\ set_{i}}$ $\\le96,850$, for 'Prescription-based caseness'\n",
       "- $47,720\\le$ $count\\ of\\ patients_{feature\\ set_{i}}$ $\\le106,050$, for 'Multinomial caseness'\n",
       "- $1,510\\le$ $count\\ of\\ patients_{feature\\ set_{i}}$ $\\le3,350$, for 'Prescription-based -vs- Definite caseness'\n"
      ],
      "text/plain": [
       "<IPython.core.display.Markdown object>"
      ]
     },
     "metadata": {},
     "output_type": "display_data"
    }
   ],
   "source": [
    "# Display message.\n",
    "display(\n",
    "    Markdown(\n",
    "f\"\"\"\n",
    "## Filter feature sets not within bounds\n",
    "\n",
    "All feature sets must have a prevalence (or count) between the prevalence (or count) bounds defined in `UNSEEN_feature_sets_prevalence_bounds.ipynb`,\n",
    "i.e. a feature set's count must satisfy:\n",
    "- ${int(DxAndRxCaseness_count_LB):,}\\le$ $count\\ of\\ patients_{{feature\\ set_{{i}}}}$ $\\le{int(DxAndRxCaseness_count_UB):,}$, for 'Definite caseness'\n",
    "- ${int(DxNotRxCaseness_count_LB):,}\\le$ $count\\ of\\ patients_{{feature\\ set_{{i}}}}$ $\\le{int(DxNotRxCaseness_count_UB):,}$, for 'Diagnosis-based caseness'\n",
    "- ${int(RxNotDxCaseness_count_LB):,}\\le$ $count\\ of\\ patients_{{feature\\ set_{{i}}}}$ $\\le{int(RxNotDxCaseness_count_UB):,}$, for 'Prescription-based caseness'\n",
    "- ${int(multinomialCaseness_count_LB):,}\\le$ $count\\ of\\ patients_{{feature\\ set_{{i}}}}$ $\\le{int(multinomialCaseness_count_UB):,}$, for 'Multinomial caseness'\n",
    "- ${int(prescriptionVsDefiniteCaseness_count_LB):,}\\le$ $count\\ of\\ patients_{{feature\\ set_{{i}}}}$ $\\le{int(prescriptionVsDefiniteCaseness_count_UB):,}$, for 'Prescription-based -vs- Definite caseness'\n",
    "\"\"\"\n",
    "       )\n",
    ")"
   ]
  },
  {
   "cell_type": "code",
   "execution_count": 5,
   "id": "9921532f-455c-44e3-8818-3b779d015100",
   "metadata": {
    "jupyter": {
     "source_hidden": true
    },
    "tags": []
   },
   "outputs": [
    {
     "name": "stdout",
     "output_type": "stream",
     "text": [
      "\n",
      " Filtering complete for 'Definite caseness'...\n",
      "\t 1  feature sets remain.\n",
      "\t 9  feature sets removed, in total.\n",
      "\t 5  feature sets removed because of low prevalence.\n",
      "\t 4  feature sets removed because of high prevalence.\n",
      "\n",
      "The final list of feature sets from this source is:\n",
      " ['poverty']\n",
      "\n",
      " Filtering complete for 'Diagnosis-based caseness'...\n",
      "\t 1  feature sets remain.\n",
      "\t 9  feature sets removed, in total.\n",
      "\t 6  feature sets removed because of low prevalence.\n",
      "\t 3  feature sets removed because of high prevalence.\n",
      "\n",
      "The final list of feature sets from this source is:\n",
      " ['homeless']\n",
      "\n",
      " Filtering complete for 'Prescription-based caseness'...\n",
      "\t 0  feature sets remain.\n",
      "\t 10  feature sets removed, in total.\n",
      "\t 10  feature sets removed because of low prevalence.\n",
      "\t 0  feature sets removed because of high prevalence.\n",
      "\n",
      "The final list of feature sets from this source is:\n",
      " []\n",
      "\n",
      " Filtering complete for 'Multinomial caseness'...\n",
      "\t 0  feature sets remain.\n",
      "\t 10  feature sets removed, in total.\n",
      "\t 10  feature sets removed because of low prevalence.\n",
      "\t 0  feature sets removed because of high prevalence.\n",
      "\n",
      "The final list of feature sets from this source is:\n",
      " []\n",
      "\n",
      " Filtering complete for 'Prescription-based -vs- Definite caseness'...\n",
      "\t 1  feature sets remain.\n",
      "\t 9  feature sets removed, in total.\n",
      "\t 5  feature sets removed because of low prevalence.\n",
      "\t 4  feature sets removed because of high prevalence.\n",
      "\n",
      "The final list of feature sets from this source is:\n",
      " ['poverty']\n",
      "Stored 'fs_literature' (DataFrame)\n",
      "Stored 'fs_literature_filteredDxAndRx' (DataFrame)\n",
      "Stored 'fs_literature_filteredDxNotRx' (DataFrame)\n",
      "Stored 'fs_literature_filteredRxNotDx' (DataFrame)\n",
      "Stored 'fs_literature_filteredMulti' (DataFrame)\n",
      "Stored 'fs_literature_filteredPrescriptionVsDefinite' (DataFrame)\n"
     ]
    }
   ],
   "source": [
    "fs_literature_filteredDxAndRx = boundaryfilter(my_featureSet_array = fs_literature, caseness = 'dxandrx', verbose = True)[0]\n",
    "print(\"\\nThe final list of feature sets from this source is:\\n\", fs_literature_filteredDxAndRx.columns.values[1:])\n",
    "fs_literature_filteredDxNotRx = boundaryfilter(my_featureSet_array = fs_literature, caseness = 'dxnotrx', verbose = True)[0]\n",
    "print(\"\\nThe final list of feature sets from this source is:\\n\", fs_literature_filteredDxNotRx.columns.values[1:])\n",
    "fs_literature_filteredRxNotDx = boundaryfilter(my_featureSet_array = fs_literature, caseness = 'rxnotdx', verbose = True)[0]\n",
    "print(\"\\nThe final list of feature sets from this source is:\\n\", fs_literature_filteredRxNotDx.columns.values[1:])\n",
    "fs_literature_filteredMulti = boundaryfilter(my_featureSet_array = fs_literature, caseness = 'multi', verbose = True)[0]\n",
    "print(\"\\nThe final list of feature sets from this source is:\\n\", fs_literature_filteredMulti.columns.values[1:])\n",
    "fs_literature_filteredPrescriptionVsDefinite = boundaryfilter(my_featureSet_array = fs_literature, caseness = 'prescriptionVsDefinite', verbose = True)[0]\n",
    "print(\"\\nThe final list of feature sets from this source is:\\n\", fs_literature_filteredPrescriptionVsDefinite.columns.values[1:])\n",
    "\n",
    "# Store clinician feature sets for use in other notebooks.\n",
    "%store fs_literature fs_literature_filteredDxAndRx fs_literature_filteredDxNotRx \\\n",
    "    fs_literature_filteredRxNotDx fs_literature_filteredMulti fs_literature_filteredPrescriptionVsDefinite"
   ]
  },
  {
   "cell_type": "markdown",
   "id": "8c5539d6-31f2-4642-87d4-43585448ba2d",
   "metadata": {
    "tags": []
   },
   "source": [
    "# ---------------------------------------------------------------------------------"
   ]
  }
 ],
 "metadata": {
  "environment": {
   "kernel": "python3",
   "name": "r-cpu.4-1.m95",
   "type": "gcloud",
   "uri": "gcr.io/deeplearning-platform-release/r-cpu.4-1:m95"
  },
  "kernelspec": {
   "display_name": "Python 3",
   "language": "python",
   "name": "python3"
  },
  "language_info": {
   "codemirror_mode": {
    "name": "ipython",
    "version": 3
   },
   "file_extension": ".py",
   "mimetype": "text/x-python",
   "name": "python",
   "nbconvert_exporter": "python",
   "pygments_lexer": "ipython3",
   "version": "3.7.12"
  }
 },
 "nbformat": 4,
 "nbformat_minor": 5
}
