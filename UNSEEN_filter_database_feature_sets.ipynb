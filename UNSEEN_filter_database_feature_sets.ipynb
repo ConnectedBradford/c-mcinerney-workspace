{
 "cells": [
  {
   "cell_type": "markdown",
   "id": "1a794520-cc39-42d3-b040-3aeab1a3049f",
   "metadata": {},
   "source": [
    "# Filter database feature sets.\n",
    "\n",
    "Candidate feature sets inspired by a database review are filtered based on their entropy. Further details are in this notebook's parent notebook \"UNSEEN filter feature sets.ipynb\".\n",
    "\n",
    "## Imports"
   ]
  },
  {
   "cell_type": "code",
   "execution_count": 1,
   "id": "c626ecea-669d-47c9-a27a-432b9cb97756",
   "metadata": {},
   "outputs": [],
   "source": [
    "import itertools\n",
    "import sklearn.metrics"
   ]
  },
  {
   "cell_type": "markdown",
   "id": "eb22bd79-604f-4d88-a8d2-5aa57073e2d9",
   "metadata": {},
   "source": [
    "## Load database feature-set array\n",
    "\n",
    "Here, we run the notebook that creates the database feature-set array. We will then save the feature-set array as \"my_featureSet_array\", so that the remaining syntax in this notebook is common for all feature-set sources.\n",
    "\n",
    "\n",
    "It is assumed that the caseness variables have already been created in the parent notebook."
   ]
  },
  {
   "cell_type": "code",
   "execution_count": 2,
   "id": "7be5bb17-1f3c-4b07-aa36-8d4138f2d1ed",
   "metadata": {
    "tags": []
   },
   "outputs": [],
   "source": [
    "%%capture\n",
    "%run ./\"UNSEEN create database feature sets.ipynb\"\n",
    "my_featureSet_array = fs_database"
   ]
  },
  {
   "cell_type": "markdown",
   "id": "7016d268-ee44-45ea-9d18-73c6a23c989a",
   "metadata": {
    "tags": []
   },
   "source": [
    "## Filter feature sets."
   ]
  },
  {
   "cell_type": "markdown",
   "id": "91084bca-e139-417a-8667-9c9db014bd54",
   "metadata": {},
   "source": [
    "### 1. Mutual information of individual feature sets and the caseness variables."
   ]
  },
  {
   "cell_type": "code",
   "execution_count": 3,
   "id": "bed25afd-cad7-41de-8a57-628ef7d1a5f3",
   "metadata": {
    "tags": []
   },
   "outputs": [],
   "source": [
    "# Set the order of the composite: 1 = individual, 2 = pair, 3 = triplet.\n",
    "m = 1"
   ]
  },
  {
   "cell_type": "markdown",
   "id": "8aa6dc72-56d9-4bf9-9fb2-936000c95f6d",
   "metadata": {},
   "source": [
    "#### 1.1. Multinomial caseness"
   ]
  },
  {
   "cell_type": "markdown",
   "id": "f6b43fe8-0e68-4bad-8ca3-fd5bdc6bf87a",
   "metadata": {},
   "source": [
    "##### 1.1.1. ALL representation."
   ]
  },
  {
   "cell_type": "code",
   "execution_count": 4,
   "id": "2ae24a5a-5d11-4019-a4b9-98ca33460d17",
   "metadata": {
    "tags": []
   },
   "outputs": [
    {
     "ename": "NameError",
     "evalue": "name 'featuresetmi' is not defined",
     "output_type": "error",
     "traceback": [
      "\u001b[0;31m---------------------------------------------------------------------------\u001b[0m",
      "\u001b[0;31mNameError\u001b[0m                                 Traceback (most recent call last)",
      "\u001b[0;32m/tmp/ipykernel_20577/1261979774.py\u001b[0m in \u001b[0;36m<module>\u001b[0;34m\u001b[0m\n\u001b[0;32m----> 1\u001b[0;31m featuresetmi(featureSet_array = my_featureSet_array,\n\u001b[0m\u001b[1;32m      2\u001b[0m              \u001b[0mcasenessVector\u001b[0m \u001b[0;34m=\u001b[0m \u001b[0mcaseness_array\u001b[0m\u001b[0;34m[\u001b[0m\u001b[0;34m[\u001b[0m\u001b[0;34m'person_id'\u001b[0m\u001b[0;34m,\u001b[0m\u001b[0;34m'CMHD'\u001b[0m\u001b[0;34m]\u001b[0m\u001b[0;34m]\u001b[0m\u001b[0;34m,\u001b[0m\u001b[0;34m\u001b[0m\u001b[0;34m\u001b[0m\u001b[0m\n\u001b[1;32m      3\u001b[0m              \u001b[0mm\u001b[0m \u001b[0;34m=\u001b[0m \u001b[0mm\u001b[0m\u001b[0;34m,\u001b[0m\u001b[0;34m\u001b[0m\u001b[0;34m\u001b[0m\u001b[0m\n\u001b[1;32m      4\u001b[0m              representation = \"all\")\n",
      "\u001b[0;31mNameError\u001b[0m: name 'featuresetmi' is not defined"
     ]
    }
   ],
   "source": [
    "featuresetmi(featureSet_array = my_featureSet_array,\n",
    "             casenessVector = caseness_array[['person_id','CMHD']],\n",
    "             m = m,\n",
    "             representation = \"all\")"
   ]
  },
  {
   "cell_type": "markdown",
   "id": "cb7bfb0d-0900-4c88-a69a-78bb48a131a9",
   "metadata": {},
   "source": [
    "##### 1.1.2. MULTI representation."
   ]
  },
  {
   "cell_type": "code",
   "execution_count": null,
   "id": "e68a5997-0c4d-4c79-9b20-7e7b50ef9829",
   "metadata": {
    "tags": []
   },
   "outputs": [],
   "source": [
    "featuresetmi(featureSet_array = my_featureSet_array,\n",
    "             casenessVector = caseness_array[['person_id','CMHD']],\n",
    "             m = m,\n",
    "             representation = \"multi\")"
   ]
  },
  {
   "cell_type": "markdown",
   "id": "a9bc82d1-509b-447c-adba-3d14561f3ee5",
   "metadata": {},
   "source": [
    "#### 1.2. Definitive caseness"
   ]
  },
  {
   "cell_type": "markdown",
   "id": "c5ce5be9-386e-4fae-b16d-dd0d736cce16",
   "metadata": {},
   "source": [
    "##### 1.2.1. ALL representation."
   ]
  },
  {
   "cell_type": "code",
   "execution_count": null,
   "id": "fc3615cb-aae2-487e-b334-2fbcc580e93d",
   "metadata": {
    "tags": []
   },
   "outputs": [],
   "source": [
    "featuresetmi(featureSet_array = my_featureSet_array,\n",
    "             casenessVector = caseness_array[['person_id','CMHD_dx_and_rx']],\n",
    "             m = m,\n",
    "             representation = \"all\")"
   ]
  },
  {
   "cell_type": "markdown",
   "id": "f9b269c2-c57f-4f37-aaa7-5cbbd015b02c",
   "metadata": {},
   "source": [
    "##### 1.2.2. MULTI representation."
   ]
  },
  {
   "cell_type": "code",
   "execution_count": null,
   "id": "bc55b6a9-1006-4963-9186-fe8dcc7178c6",
   "metadata": {
    "tags": []
   },
   "outputs": [],
   "source": [
    "featuresetmi(featureSet_array = my_featureSet_array,\n",
    "             casenessVector = caseness_array[['person_id','CMHD_dx_and_rx']],\n",
    "             m = m,\n",
    "             representation = \"multi\")"
   ]
  },
  {
   "cell_type": "markdown",
   "id": "64a0e692-34a7-48b4-8a2d-1b0132ca2752",
   "metadata": {},
   "source": [
    "#### 1.3. Possible caseness"
   ]
  },
  {
   "cell_type": "markdown",
   "id": "08750d83-e0c8-4547-a78b-48cb720345b1",
   "metadata": {},
   "source": [
    "##### 1.3.1. ALL representation."
   ]
  },
  {
   "cell_type": "code",
   "execution_count": null,
   "id": "dcf5f7be-da60-465c-8b9b-0f949608b9fe",
   "metadata": {
    "tags": []
   },
   "outputs": [],
   "source": [
    "featuresetmi(featureSet_array = my_featureSet_array,\n",
    "             casenessVector = caseness_array[['person_id','CMHD_rx_not_dx']],\n",
    "             m = m,\n",
    "             representation = \"all\")"
   ]
  },
  {
   "cell_type": "markdown",
   "id": "54d680b1-41a5-429b-90a4-3886ffc2deb7",
   "metadata": {},
   "source": [
    "##### 1.3.2. MULTI representation."
   ]
  },
  {
   "cell_type": "code",
   "execution_count": null,
   "id": "b408d50c-c902-4237-aca0-0c18f05f4d93",
   "metadata": {
    "tags": []
   },
   "outputs": [],
   "source": [
    "featuresetmi(featureSet_array = my_featureSet_array,\n",
    "             casenessVector = caseness_array[['person_id','CMHD_rx_not_dx']],\n",
    "             m = m,\n",
    "             representation = \"multi\")"
   ]
  },
  {
   "cell_type": "markdown",
   "id": "feb4a09f-cf24-4113-aaa9-aa6bfc879a0f",
   "metadata": {},
   "source": [
    "#### 1.4. No caseness (i.e. control group)"
   ]
  },
  {
   "cell_type": "markdown",
   "id": "a25e3dcb-a08d-4de1-b92c-7703f215efe2",
   "metadata": {},
   "source": [
    "##### 1.4.1. ALL representation."
   ]
  },
  {
   "cell_type": "code",
   "execution_count": null,
   "id": "b89274e9-4ada-43da-9ac1-4adeffa20452",
   "metadata": {
    "tags": []
   },
   "outputs": [],
   "source": [
    "featuresetmi(featureSet_array = my_featureSet_array,\n",
    "             casenessVector = caseness_array[['person_id','CMHD_control']],\n",
    "             m = m,\n",
    "             representation = \"all\")"
   ]
  },
  {
   "cell_type": "markdown",
   "id": "198d8124-dff7-4349-bfab-5015487d9e47",
   "metadata": {},
   "source": [
    "##### 1.4.2. MULTI representation."
   ]
  },
  {
   "cell_type": "code",
   "execution_count": null,
   "id": "0ad4b532-13df-4bf9-be96-aaa032ef65f5",
   "metadata": {
    "tags": []
   },
   "outputs": [],
   "source": [
    "featuresetmi(featureSet_array = my_featureSet_array,\n",
    "             casenessVector = caseness_array[['person_id','CMHD_control']],\n",
    "             m = m,\n",
    "             representation = \"multi\")"
   ]
  },
  {
   "cell_type": "markdown",
   "id": "9631fa3f-1a3f-4e47-9dd3-988c68212fc1",
   "metadata": {
    "tags": []
   },
   "source": [
    "### 2. Mutual information of pair-composite feature sets and the caseness variables."
   ]
  },
  {
   "cell_type": "code",
   "execution_count": null,
   "id": "8d921a9c-7992-4505-b805-b56dc8dbf61e",
   "metadata": {},
   "outputs": [],
   "source": [
    "# Set the order of the composite: 1 = individual, 2 = pair, 3 = triplet.\n",
    "m = 2"
   ]
  },
  {
   "cell_type": "markdown",
   "id": "effc1197-ee43-4ef3-968d-4efc062f9885",
   "metadata": {},
   "source": [
    "#### 1.1. Multinomial caseness"
   ]
  },
  {
   "cell_type": "markdown",
   "id": "1e9ed6c3-915b-45d7-8f90-e65cb1589575",
   "metadata": {},
   "source": [
    "##### 1.1.1. ALL representation."
   ]
  },
  {
   "cell_type": "code",
   "execution_count": null,
   "id": "5c35347d-6113-425d-85d3-019c8fb3f1e9",
   "metadata": {
    "tags": []
   },
   "outputs": [],
   "source": [
    "featuresetmi(featureSet_array = my_featureSet_array,\n",
    "             casenessVector = caseness_array[['person_id','CMHD']],\n",
    "             m = m,\n",
    "             representation = \"all\")"
   ]
  },
  {
   "cell_type": "markdown",
   "id": "941990b5-bd26-4e4d-8fb0-1c9408abae7d",
   "metadata": {},
   "source": [
    "##### 1.1.2. MULTI representation."
   ]
  },
  {
   "cell_type": "code",
   "execution_count": null,
   "id": "0a676d38-7173-48e6-9849-b99bf1f9f981",
   "metadata": {
    "tags": []
   },
   "outputs": [],
   "source": [
    "featuresetmi(featureSet_array = my_featureSet_array,\n",
    "             casenessVector = caseness_array[['person_id','CMHD']],\n",
    "             m = m,\n",
    "             representation = \"multi\")"
   ]
  },
  {
   "cell_type": "markdown",
   "id": "e9784a71-814a-45b9-a8b9-cc6e246357b0",
   "metadata": {},
   "source": [
    "#### 1.2. Definitive caseness"
   ]
  },
  {
   "cell_type": "markdown",
   "id": "e20088e3-1e78-4684-9076-a939bb4b10ff",
   "metadata": {},
   "source": [
    "##### 1.2.1. ALL representation."
   ]
  },
  {
   "cell_type": "code",
   "execution_count": null,
   "id": "49dcd050-9162-40d4-b306-97f52de13f17",
   "metadata": {
    "tags": []
   },
   "outputs": [],
   "source": [
    "featuresetmi(featureSet_array = my_featureSet_array,\n",
    "             casenessVector = caseness_array[['person_id','CMHD_dx_and_rx']],\n",
    "             m = m,\n",
    "             representation = \"all\")"
   ]
  },
  {
   "cell_type": "markdown",
   "id": "c6276f1d-f696-4ec6-ba34-617f94aa880d",
   "metadata": {},
   "source": [
    "##### 1.2.2. MULTI representation."
   ]
  },
  {
   "cell_type": "code",
   "execution_count": null,
   "id": "0258d594-4170-4c08-b932-e92a65373607",
   "metadata": {
    "tags": []
   },
   "outputs": [],
   "source": [
    "featuresetmi(featureSet_array = my_featureSet_array,\n",
    "             casenessVector = caseness_array[['person_id','CMHD_dx_and_rx']],\n",
    "             m = m,\n",
    "             representation = \"multi\")"
   ]
  },
  {
   "cell_type": "markdown",
   "id": "0b40cdb0-87e5-4cad-a5fc-f92f96654f8c",
   "metadata": {},
   "source": [
    "#### 1.3. Possible caseness"
   ]
  },
  {
   "cell_type": "markdown",
   "id": "eb9c491c-5c5a-4d72-aab3-62de79acc8ed",
   "metadata": {},
   "source": [
    "##### 1.3.1. ALL representation."
   ]
  },
  {
   "cell_type": "code",
   "execution_count": null,
   "id": "11f948ca-9135-4219-b6a5-00dc3630165a",
   "metadata": {
    "tags": []
   },
   "outputs": [],
   "source": [
    "featuresetmi(featureSet_array = my_featureSet_array,\n",
    "             casenessVector = caseness_array[['person_id','CMHD_rx_not_dx']],\n",
    "             m = m,\n",
    "             representation = \"all\")"
   ]
  },
  {
   "cell_type": "markdown",
   "id": "58de659d-e49d-4fe8-9649-97086594f44a",
   "metadata": {},
   "source": [
    "##### 1.3.2. MULTI representation."
   ]
  },
  {
   "cell_type": "code",
   "execution_count": null,
   "id": "4f3cb70f-087e-44db-bcfa-1f24302071d2",
   "metadata": {
    "tags": []
   },
   "outputs": [],
   "source": [
    "featuresetmi(featureSet_array = my_featureSet_array,\n",
    "             casenessVector = caseness_array[['person_id','CMHD_rx_not_dx']],\n",
    "             m = m,\n",
    "             representation = \"multi\")"
   ]
  },
  {
   "cell_type": "markdown",
   "id": "0166c3b1-431a-4456-a065-535f8ffe5e6f",
   "metadata": {},
   "source": [
    "#### 1.4. No caseness (i.e. control group)"
   ]
  },
  {
   "cell_type": "markdown",
   "id": "1b0b6eae-ebf2-4f47-814e-bd3bc34a2220",
   "metadata": {},
   "source": [
    "##### 1.4.1. ALL representation."
   ]
  },
  {
   "cell_type": "code",
   "execution_count": null,
   "id": "9f3ebbec-7783-4919-9c90-28183fdc1c65",
   "metadata": {
    "tags": []
   },
   "outputs": [],
   "source": [
    "featuresetmi(featureSet_array = my_featureSet_array,\n",
    "             casenessVector = caseness_array[['person_id','CMHD_control']],\n",
    "             m = m,\n",
    "             representation = \"all\")"
   ]
  },
  {
   "cell_type": "markdown",
   "id": "1e25e070-d808-4231-ae69-675b0e215266",
   "metadata": {},
   "source": [
    "##### 1.4.2. MULTI representation."
   ]
  },
  {
   "cell_type": "code",
   "execution_count": null,
   "id": "9f0cf584-61ea-42d9-86c5-fb7f98c75f84",
   "metadata": {
    "tags": []
   },
   "outputs": [],
   "source": [
    "featuresetmi(featureSet_array = my_featureSet_array,\n",
    "             casenessVector = caseness_array[['person_id','CMHD_control']],\n",
    "             m = m,\n",
    "             representation = \"multi\")"
   ]
  },
  {
   "cell_type": "markdown",
   "id": "c7bc2c12-bc95-4c4a-ae84-82ef4ddc87cc",
   "metadata": {
    "tags": []
   },
   "source": [
    "### 3. Mutual information of triplet-composite feature sets and the caseness variables."
   ]
  },
  {
   "cell_type": "code",
   "execution_count": null,
   "id": "88ce171c-4be8-44e5-ba00-5fafccf184d2",
   "metadata": {},
   "outputs": [],
   "source": [
    "# Set the order of the composite: 1 = individual, 2 = pair, 3 = triplet.\n",
    "m = 3"
   ]
  },
  {
   "cell_type": "markdown",
   "id": "b3f651a4-b14a-4cb9-95d6-0cac87c2b9ca",
   "metadata": {},
   "source": [
    "#### 1.1. Multinomial caseness"
   ]
  },
  {
   "cell_type": "markdown",
   "id": "dfed5c9c-a5fd-4a40-9e82-adb0302dfdbe",
   "metadata": {},
   "source": [
    "##### 1.1.1. ALL representation."
   ]
  },
  {
   "cell_type": "code",
   "execution_count": null,
   "id": "77517bcb-b25f-459e-a918-76ddd570e0df",
   "metadata": {
    "tags": []
   },
   "outputs": [],
   "source": [
    "featuresetmi(featureSet_array = my_featureSet_array,\n",
    "             casenessVector = caseness_array[['person_id','CMHD']],\n",
    "             m = m,\n",
    "             representation = \"all\")"
   ]
  },
  {
   "cell_type": "markdown",
   "id": "73780878-f444-4775-9eeb-a094bf7469df",
   "metadata": {},
   "source": [
    "##### 1.1.2. MULTI representation."
   ]
  },
  {
   "cell_type": "code",
   "execution_count": null,
   "id": "39644a80-9dca-44cc-b2e2-1f659ba4d2fb",
   "metadata": {
    "tags": []
   },
   "outputs": [],
   "source": [
    "featuresetmi(featureSet_array = my_featureSet_array,\n",
    "             casenessVector = caseness_array[['person_id','CMHD']],\n",
    "             m = m,\n",
    "             representation = \"multi\")"
   ]
  },
  {
   "cell_type": "markdown",
   "id": "ccb1931d-8f35-44eb-b340-dcc846bdfcaa",
   "metadata": {},
   "source": [
    "#### 1.2. Definitive caseness"
   ]
  },
  {
   "cell_type": "markdown",
   "id": "42e42636-2576-47fd-b4f7-9c09f24c9b8a",
   "metadata": {},
   "source": [
    "##### 1.2.1. ALL representation."
   ]
  },
  {
   "cell_type": "code",
   "execution_count": null,
   "id": "400e8e14-38cf-4592-a3f3-81cb73b1ab5a",
   "metadata": {
    "tags": []
   },
   "outputs": [],
   "source": [
    "featuresetmi(featureSet_array = my_featureSet_array,\n",
    "             casenessVector = caseness_array[['person_id','CMHD_dx_and_rx']],\n",
    "             m = m,\n",
    "             representation = \"all\")"
   ]
  },
  {
   "cell_type": "markdown",
   "id": "a251c37c-1762-4634-a90f-d49d697b65ac",
   "metadata": {},
   "source": [
    "##### 1.2.2. MULTI representation."
   ]
  },
  {
   "cell_type": "code",
   "execution_count": null,
   "id": "8cbea023-44cc-421b-9bd9-78cfc52eb1ab",
   "metadata": {
    "tags": []
   },
   "outputs": [],
   "source": [
    "featuresetmi(featureSet_array = my_featureSet_array,\n",
    "             casenessVector = caseness_array[['person_id','CMHD_dx_and_rx']],\n",
    "             m = m,\n",
    "             representation = \"multi\")"
   ]
  },
  {
   "cell_type": "markdown",
   "id": "e58104a9-16c1-4c65-854c-9a43c208d694",
   "metadata": {},
   "source": [
    "#### 1.3. Possible caseness"
   ]
  },
  {
   "cell_type": "markdown",
   "id": "d84602f3-4ab1-463f-bee8-9b7d56c8205a",
   "metadata": {},
   "source": [
    "##### 1.3.1. ALL representation."
   ]
  },
  {
   "cell_type": "code",
   "execution_count": null,
   "id": "b7b6f74d-9bcb-4b5b-8e5a-979caa6e8097",
   "metadata": {
    "tags": []
   },
   "outputs": [],
   "source": [
    "featuresetmi(featureSet_array = my_featureSet_array,\n",
    "             casenessVector = caseness_array[['person_id','CMHD_rx_not_dx']],\n",
    "             m = m,\n",
    "             representation = \"all\")"
   ]
  },
  {
   "cell_type": "markdown",
   "id": "ce56d7ed-679d-41dd-8dd7-41057ef4b948",
   "metadata": {},
   "source": [
    "##### 1.3.2. MULTI representation."
   ]
  },
  {
   "cell_type": "code",
   "execution_count": null,
   "id": "ff976624-b018-4987-b638-b17308f1fea1",
   "metadata": {
    "tags": []
   },
   "outputs": [],
   "source": [
    "featuresetmi(featureSet_array = my_featureSet_array,\n",
    "             casenessVector = caseness_array[['person_id','CMHD_rx_not_dx']],\n",
    "             m = m,\n",
    "             representation = \"multi\")"
   ]
  },
  {
   "cell_type": "markdown",
   "id": "cc8f9d45-fea7-4bcf-b333-e260adce6ea4",
   "metadata": {},
   "source": [
    "#### 1.4. No caseness (i.e. control group)"
   ]
  },
  {
   "cell_type": "markdown",
   "id": "0b86b08b-bced-430b-935a-d99515ef431c",
   "metadata": {},
   "source": [
    "##### 1.4.1. ALL representation."
   ]
  },
  {
   "cell_type": "code",
   "execution_count": null,
   "id": "a1fad7cb-ae2a-4e82-b2de-8a172a17cada",
   "metadata": {
    "tags": []
   },
   "outputs": [],
   "source": [
    "featuresetmi(featureSet_array = my_featureSet_array,\n",
    "             casenessVector = caseness_array[['person_id','CMHD_control']],\n",
    "             m = m,\n",
    "             representation = \"all\")"
   ]
  },
  {
   "cell_type": "markdown",
   "id": "c3568511-13e8-4e15-b7e1-63c2cc28c244",
   "metadata": {},
   "source": [
    "##### 1.4.2. MULTI representation."
   ]
  },
  {
   "cell_type": "code",
   "execution_count": null,
   "id": "b169c831-d77b-496d-9a7b-fcff70835b1a",
   "metadata": {
    "tags": []
   },
   "outputs": [],
   "source": [
    "featuresetmi(featureSet_array = my_featureSet_array,\n",
    "             casenessVector = caseness_array[['person_id','CMHD_control']],\n",
    "             m = m,\n",
    "             representation = \"multi\")"
   ]
  },
  {
   "cell_type": "markdown",
   "id": "c15351f9-5b76-468d-9155-bd499c28398d",
   "metadata": {
    "jp-MarkdownHeadingCollapsed": true,
    "tags": []
   },
   "source": [
    "# Initial results (\\*needs editing because caseness variable has changed\\*)\n",
    "\n",
    "__\\*__ _Note: these initial results were calculated using a previous version of the script where the mutual information of all feature sets was saved. This approach was dropped in favour of only saving mutual information values for feature sets whose mutual information with the caseness variable is greater than the entropy of the caseness variable._\n",
    "<br/><br/><br/>\n",
    "\n",
    "All individual feature sets score very low for two-way mutual information: all less than 0.05. A $I_{2}=0.05$ represents 7.9% of the theoretical maximal situatons where the feature set either _is exactly_ the caseness variable or _is exactly not_ the variable. The top five individal feature sets (which only have $I_{2}≥0.033$) are defined as having at least one recording of the following SNOMED CT codes in their primary-care electronic health records:\n",
    "\n",
    "| SNOMED code | Feature set | Topic | Mutual Information | Scaled mutual information | Odds ratio | P(CMHD given X=1) | P(CMHD given X=0) |\n",
    "| ----------- | ----------- | ----- | ------------------ | ------------------------- | ---------- | ----------------- | ----------------- |\n",
    "| 314530002 | Medication review done | Medication | ~0.055 | 7.9% | 8.5 | 4.1 | 26.8 |\n",
    "| 182888003 | Medication requested  | Medication | ~0.035 | 5.0% | 4.9 | 7.9 | 29.5 |\n",
    "| 1018251000000107 | Serum alanine aminotransferase level (observable entity) | Liver test | ~0.033 | 4.7% | 5.5 | 4.7 | 21.6 |\n",
    "| 1000621000000104 | Serum alkaline phosphatase level | Liver test | ~0.033 | 4.7% | 5.5 | 4.7 | 21.5 |\n",
    "| 1022791000000101 | TSH (thyroid stimulating hormone) level | Endocrine | ~0.033 | 4.7% | 5.0 | 5.4 | 22.5 |\n",
    "\n",
    "The paradoxes of commonly-reported classification statistics are clearly shown. A medication _review_ has the largest odds ratio but the probability of having a record of the caseness variable given that medication was _requested_ is higher. One might propose that a record of a medication request is a better indicator than a record of a medication review, if they prefer the probability statistic over the odds-ratio statistic. But when we look at the probability of the caseness variable given that there is _no_ record of medication being requested, we see that this is also the largest of the top five feature sets! The odds ratio tries to balance these ambiguous probability statistics but it is, therefore, harder to interpret. Note, the odds ratio for a record of a medication _review_ scores better than for a record of medication _request_ because the distinction between the ambiguous probabilities is greater (multiplicatively).\n",
    "\n",
    "The scaled mutual information is simply a percentage measure of how much the caseness variable is described by the feature set (in terms of information). Unlike the odds ratio, it will give the same value whether the odds are multiplicatively greater or less than equal - e.g. $I_{2}$ will be the same for $OR = 4.0$ and $OR = 0.25$  - so it only measures magnitude of association."
   ]
  }
 ],
 "metadata": {
  "environment": {
   "kernel": "python3",
   "name": "r-cpu.4-1.m95",
   "type": "gcloud",
   "uri": "gcr.io/deeplearning-platform-release/r-cpu.4-1:m95"
  },
  "kernelspec": {
   "display_name": "Python 3",
   "language": "python",
   "name": "python3"
  },
  "language_info": {
   "codemirror_mode": {
    "name": "ipython",
    "version": 3
   },
   "file_extension": ".py",
   "mimetype": "text/x-python",
   "name": "python",
   "nbconvert_exporter": "python",
   "pygments_lexer": "ipython3",
   "version": "3.7.12"
  }
 },
 "nbformat": 4,
 "nbformat_minor": 5
}
