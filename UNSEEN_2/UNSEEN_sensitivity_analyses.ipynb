{
 "cells": [
  {
   "cell_type": "code",
   "execution_count": null,
   "id": "0d1dacbe-b67a-420d-bcb6-5d792890bef1",
   "metadata": {},
   "outputs": [],
   "source": []
  },
  {
   "cell_type": "markdown",
   "id": "b9a8111f-b2dc-441d-bb6c-f53033281a41",
   "metadata": {},
   "source": [
    "## Sensitivity of 'Patterns of Prescriptions' family to its component feature.\n",
    " \n",
    "CB would like to test the performance of the 'Patterns of Prescriptions' family feature set when the following changes are made:\n",
    "1. Remove `antipsychoticsPrescription` only.\n",
    "2. Remove `countAntidepressantPrescriptions` only.\n",
    "3. Remove both.\n",
    "\n",
    "Below, I have copied the code cell that creates the family. I make the different versions of the family feature sets and pass them to the evaluationg function."
   ]
  },
  {
   "cell_type": "markdown",
   "id": "3ec3190e-1d3b-42b5-8149-a50e633b5065",
   "metadata": {},
   "source": [
    "#### Remove nothing."
   ]
  },
  {
   "cell_type": "code",
   "execution_count": 107,
   "id": "c227df1e-f90d-44af-8d83-41837714cfe3",
   "metadata": {
    "jupyter": {
     "source_hidden": true
    },
    "tags": []
   },
   "outputs": [],
   "source": [
    "# Define list of feature sets that are members of the 'Patterns of Prescription' family.\n",
    "# ## The list of boolean members.\n",
    "ls_patternsOfPrescriptions_fs_bool = \\\n",
    "[\n",
    "    'antipsychoticsPrescription'\n",
    "]\n",
    "# ## The list of count members.\n",
    "ls_patternsOfPrescriptions_fs_count = \\\n",
    "[\n",
    "    'countAbortedAntidepressantMedicationRegimes', 'countAntidepressantPrescriptions',\n",
    "    'countHypnoticsAndAnxiolyticsPrescriptions', 'countUniqueAntidepressants',\n",
    "    'countUniqueHypnoticsAndAnxiolytics'\n",
    "]\n",
    "# ## The list of ordinal members.\n",
    "# None\n",
    "# ## The list of continuous members.\n",
    "# None\n",
    "\n",
    "# Create feature set that indicates the patient has at least one 'Patterns of Prescription' feature set.\n",
    "array_any_patternsOfPrescriptions_atLeast =\\\n",
    "    pandas.concat(\n",
    "                    [\n",
    "                        feature_set_array[feature_set_array.columns.intersection(ls_patternsOfPrescriptions_fs_count)] > feature_set_array[feature_set_array.columns.intersection(ls_patternsOfPrescriptions_fs_count)].quantile(0.75),\n",
    "                        feature_set_array[feature_set_array.columns.intersection(ls_patternsOfPrescriptions_fs_bool)]\n",
    "                    ],\n",
    "                    axis = 1,\n",
    "                )\n",
    "as_usual = array_any_patternsOfPrescriptions_atLeast.any(True)"
   ]
  },
  {
   "cell_type": "code",
   "execution_count": 108,
   "id": "20e03335-4050-4f18-91be-9b8e952e5f93",
   "metadata": {
    "jupyter": {
     "source_hidden": true
    },
    "tags": []
   },
   "outputs": [],
   "source": [
    "any_patternsOfPrescription_removeNothing = \\\n",
    "pandas.DataFrame(\n",
    "    list(\n",
    "    (at_least_family_membership.any_antecedent_atLeast == False) & \\\n",
    "    (at_least_family_membership.any_concurrent_atLeast == False) & \\\n",
    "    (at_least_family_membership.any_serviceUse_atLeast == False) & \\\n",
    "    (at_least_family_membership.any_treatment_atLeast == False) & \\\n",
    "    #(at_least_family_membership.any_chaotic_atLeast == False) & \\\n",
    "    (as_usual == True) & \\\n",
    "    (at_least_family_membership.any_relevantPrescriptions_atLeast == False)\n",
    "    ),\n",
    "    columns = ['any_patternsOfPrescription_only']\n",
    ")"
   ]
  },
  {
   "cell_type": "markdown",
   "id": "d02134ac-4e23-4a87-9447-7042310171d3",
   "metadata": {},
   "source": [
    "#### Remove `antipsychoticsPrescription` only."
   ]
  },
  {
   "cell_type": "code",
   "execution_count": 109,
   "id": "8f189b94-6b9a-4071-81b8-b865503f9ddf",
   "metadata": {
    "jupyter": {
     "source_hidden": true
    },
    "tags": []
   },
   "outputs": [],
   "source": [
    "# Define list of feature sets that are members of the 'Patterns of Prescription' family.\n",
    "# ## The list of boolean members.\n",
    "# None\n",
    "# ## The list of count members.\n",
    "ls_patternsOfPrescriptions_fs_count = \\\n",
    "[\n",
    "    'countAbortedAntidepressantMedicationRegimes', 'countAntidepressantPrescriptions',\n",
    "    'countHypnoticsAndAnxiolyticsPrescriptions', 'countUniqueAntidepressants',\n",
    "    'countUniqueHypnoticsAndAnxiolytics'\n",
    "]\n",
    "# ## The list of ordinal members.\n",
    "# None\n",
    "# ## The list of continuous members.\n",
    "# None\n",
    "\n",
    "# Create feature set that indicates the patient has at least one 'Patterns of Prescription' feature set.\n",
    "array_any_patternsOfPrescriptions_atLeast =\\\n",
    "    pandas.concat(\n",
    "                    [\n",
    "                        feature_set_array[feature_set_array.columns.intersection(ls_patternsOfPrescriptions_fs_count)] > feature_set_array[feature_set_array.columns.intersection(ls_patternsOfPrescriptions_fs_count)].quantile(0.75),\n",
    "                    ],\n",
    "                    axis = 1,\n",
    "                )\n",
    "without_antiPsychotics = array_any_patternsOfPrescriptions_atLeast.any(True)"
   ]
  },
  {
   "cell_type": "code",
   "execution_count": 110,
   "id": "d3e40718-564f-4c1f-bfb2-b0260eaa44b2",
   "metadata": {
    "jupyter": {
     "source_hidden": true
    },
    "tags": []
   },
   "outputs": [],
   "source": [
    "any_patternsOfPrescription_Antipsychotics = \\\n",
    "pandas.DataFrame(\n",
    "    list(\n",
    "    (at_least_family_membership.any_antecedent_atLeast == False) & \\\n",
    "    (at_least_family_membership.any_concurrent_atLeast == False) & \\\n",
    "    (at_least_family_membership.any_serviceUse_atLeast == False) & \\\n",
    "    (at_least_family_membership.any_treatment_atLeast == False) & \\\n",
    "    #(at_least_family_membership.any_chaotic_atLeast == False) & \\\n",
    "    (without_antiPsychotics == True) & \\\n",
    "    (at_least_family_membership.any_relevantPrescriptions_atLeast == False)\n",
    "    ),\n",
    "    columns = ['any_patternsOfPrescription_only']\n",
    ")"
   ]
  },
  {
   "cell_type": "markdown",
   "id": "e1f76772-1fef-4c44-ba98-e6c2a8d38964",
   "metadata": {},
   "source": [
    "#### Remove `countAntidepressantPrescriptions` only."
   ]
  },
  {
   "cell_type": "code",
   "execution_count": 111,
   "id": "9d5e291f-6554-4f01-a3c5-a6ea9964b447",
   "metadata": {
    "tags": []
   },
   "outputs": [],
   "source": [
    "# Define list of feature sets that are members of the 'Patterns of Prescription' family.\n",
    "# ## The list of boolean members.\n",
    "ls_patternsOfPrescriptions_fs_bool = \\\n",
    "[\n",
    "    'antipsychoticsPrescription'\n",
    "]\n",
    "# ## The list of count members.\n",
    "ls_patternsOfPrescriptions_fs_count = \\\n",
    "[\n",
    "    'countAbortedAntidepressantMedicationRegimes',\n",
    "    'countHypnoticsAndAnxiolyticsPrescriptions', 'countUniqueAntidepressants',\n",
    "    'countUniqueHypnoticsAndAnxiolytics'\n",
    "]\n",
    "# ## The list of ordinal members.\n",
    "# None\n",
    "# ## The list of continuous members.\n",
    "# None\n",
    "\n",
    "# Create feature set that indicates the patient has at least one 'Patterns of Prescription' feature set.\n",
    "array_any_patternsOfPrescriptions_atLeast =\\\n",
    "    pandas.concat(\n",
    "                    [\n",
    "                        feature_set_array[feature_set_array.columns.intersection(ls_patternsOfPrescriptions_fs_count)] > feature_set_array[feature_set_array.columns.intersection(ls_patternsOfPrescriptions_fs_count)].quantile(0.75),\n",
    "                        feature_set_array[feature_set_array.columns.intersection(ls_patternsOfPrescriptions_fs_bool)]\n",
    "                    ],\n",
    "                    axis = 1,\n",
    "                )\n",
    "without_antiDepressants = array_any_patternsOfPrescriptions_atLeast.any(True)"
   ]
  },
  {
   "cell_type": "code",
   "execution_count": 112,
   "id": "eb6e5492-2135-41f7-acf7-50b7dffa3bd3",
   "metadata": {
    "tags": []
   },
   "outputs": [],
   "source": [
    "any_patternsOfPrescription_removeAntidepressants = \\\n",
    "pandas.DataFrame(\n",
    "    list(\n",
    "    (at_least_family_membership.any_antecedent_atLeast == False) & \\\n",
    "    (at_least_family_membership.any_concurrent_atLeast == False) & \\\n",
    "    (at_least_family_membership.any_serviceUse_atLeast == False) & \\\n",
    "    (at_least_family_membership.any_treatment_atLeast == False) & \\\n",
    "    #(at_least_family_membership.any_chaotic_atLeast == False) & \\\n",
    "    (without_antiDepressants == True) & \\\n",
    "    (at_least_family_membership.any_relevantPrescriptions_atLeast == False)\n",
    "    ),\n",
    "    columns = ['any_patternsOfPrescription_only']\n",
    ")"
   ]
  },
  {
   "cell_type": "markdown",
   "id": "4307fce6-fa92-45ac-9bc7-bf607c4675c7",
   "metadata": {},
   "source": [
    "#### Remove both."
   ]
  },
  {
   "cell_type": "code",
   "execution_count": 113,
   "id": "d845a5e4-036b-4b18-b024-8c83d2871258",
   "metadata": {
    "jupyter": {
     "source_hidden": true
    },
    "tags": []
   },
   "outputs": [],
   "source": [
    "# Define list of feature sets that are members of the 'Patterns of Prescription' family.\n",
    "# ## The list of boolean members.\n",
    "# None\n",
    "# ## The list of count members.\n",
    "ls_patternsOfPrescriptions_fs_count = \\\n",
    "[\n",
    "    'countAbortedAntidepressantMedicationRegimes',\n",
    "    'countHypnoticsAndAnxiolyticsPrescriptions', 'countUniqueAntidepressants',\n",
    "    'countUniqueHypnoticsAndAnxiolytics'\n",
    "]\n",
    "# ## The list of ordinal members.\n",
    "# None\n",
    "# ## The list of continuous members.\n",
    "# None\n",
    "\n",
    "# Create feature set that indicates the patient has at least one 'Patterns of Prescription' feature set.\n",
    "array_any_patternsOfPrescriptions_atLeast =\\\n",
    "    pandas.concat(\n",
    "                    [\n",
    "                        feature_set_array[feature_set_array.columns.intersection(ls_patternsOfPrescriptions_fs_count)] > feature_set_array[feature_set_array.columns.intersection(ls_patternsOfPrescriptions_fs_count)].quantile(0.75)\n",
    "                    ],\n",
    "                    axis = 1,\n",
    "                )\n",
    "without_either = array_any_patternsOfPrescriptions_atLeast.any(True)"
   ]
  },
  {
   "cell_type": "code",
   "execution_count": 114,
   "id": "550f5102-59db-4fb0-8aac-40fb556cc843",
   "metadata": {
    "jupyter": {
     "source_hidden": true
    },
    "tags": []
   },
   "outputs": [],
   "source": [
    "any_patternsOfPrescription_removeBoth = \\\n",
    "pandas.DataFrame(\n",
    "    list(\n",
    "    (at_least_family_membership.any_antecedent_atLeast == False) & \\\n",
    "    (at_least_family_membership.any_concurrent_atLeast == False) & \\\n",
    "    (at_least_family_membership.any_serviceUse_atLeast == False) & \\\n",
    "    (at_least_family_membership.any_treatment_atLeast == False) & \\\n",
    "    #(at_least_family_membership.any_chaotic_atLeast == False) & \\\n",
    "    (without_either == True) & \\\n",
    "    (at_least_family_membership.any_relevantPrescriptions_atLeast == False)\n",
    "    ),\n",
    "    columns = ['any_patternsOfPrescription_only']\n",
    ")"
   ]
  },
  {
   "cell_type": "markdown",
   "id": "67295dca-2e57-43ab-94a1-41a6f1171de7",
   "metadata": {},
   "source": [
    "### Make comparison table."
   ]
  },
  {
   "cell_type": "code",
   "execution_count": 116,
   "id": "139666aa-9f0a-4252-b5a8-947e56425119",
   "metadata": {},
   "outputs": [
    {
     "data": {
      "text/plain": [
       "[False    208008\n",
       " Name: any_patternsOfPrescription_only, dtype: int64,\n",
       " False    208008\n",
       " Name: any_patternsOfPrescription_only, dtype: int64,\n",
       " False    208008\n",
       " Name: any_patternsOfPrescription_only, dtype: int64,\n",
       " False    208008\n",
       " Name: any_patternsOfPrescription_only, dtype: int64]"
      ]
     },
     "metadata": {},
     "output_type": "display_data"
    }
   ],
   "source": [
    "display(\n",
    "    [\n",
    "        any_patternsOfPrescription_removeNothing.any_patternsOfPrescription_only.value_counts(),\n",
    "        any_patternsOfPrescription_Antipsychotics.any_patternsOfPrescription_only.value_counts(),\n",
    "        any_patternsOfPrescription_removeAntidepressants.any_patternsOfPrescription_only.value_counts(),\n",
    "        any_patternsOfPrescription_removeBoth.any_patternsOfPrescription_only.value_counts()\n",
    "    ]\n",
    ")"
   ]
  },
  {
   "cell_type": "code",
   "execution_count": 104,
   "id": "0ea7bb9e-b6b8-4694-b0aa-293434b6ea0b",
   "metadata": {},
   "outputs": [
    {
     "ename": "IndexError",
     "evalue": "single positional indexer is out-of-bounds",
     "output_type": "error",
     "traceback": [
      "\u001b[0;31m---------------------------------------------------------------------------\u001b[0m",
      "\u001b[0;31mIndexError\u001b[0m                                Traceback (most recent call last)",
      "\u001b[0;32m/var/tmp/ipykernel_25485/378322830.py\u001b[0m in \u001b[0;36m<module>\u001b[0;34m\u001b[0m\n\u001b[1;32m      1\u001b[0m evaloutputs(any_patternsOfPrescription_removeNothing.any_patternsOfPrescription_only,\n\u001b[0;32m----> 2\u001b[0;31m                      caseness_array.caseness_1isYes.astype(int))\n\u001b[0m",
      "\u001b[0;32m/var/tmp/ipykernel_25485/3949577640.py\u001b[0m in \u001b[0;36mevaloutputs\u001b[0;34m(vec_featureSet, vec_caseness)\u001b[0m\n\u001b[1;32m    138\u001b[0m         \u001b[0mtn\u001b[0m \u001b[0;34m=\u001b[0m \u001b[0mcontingencyTable\u001b[0m\u001b[0;34m.\u001b[0m\u001b[0miloc\u001b[0m\u001b[0;34m[\u001b[0m\u001b[0;36m0\u001b[0m\u001b[0;34m,\u001b[0m\u001b[0;36m0\u001b[0m\u001b[0;34m]\u001b[0m\u001b[0;34m\u001b[0m\u001b[0;34m\u001b[0m\u001b[0m\n\u001b[1;32m    139\u001b[0m         \u001b[0mfn\u001b[0m \u001b[0;34m=\u001b[0m \u001b[0mcontingencyTable\u001b[0m\u001b[0;34m.\u001b[0m\u001b[0miloc\u001b[0m\u001b[0;34m[\u001b[0m\u001b[0;36m0\u001b[0m\u001b[0;34m,\u001b[0m\u001b[0;36m1\u001b[0m\u001b[0;34m]\u001b[0m\u001b[0;34m\u001b[0m\u001b[0;34m\u001b[0m\u001b[0m\n\u001b[0;32m--> 140\u001b[0;31m         \u001b[0mfp\u001b[0m \u001b[0;34m=\u001b[0m \u001b[0mcontingencyTable\u001b[0m\u001b[0;34m.\u001b[0m\u001b[0miloc\u001b[0m\u001b[0;34m[\u001b[0m\u001b[0;36m1\u001b[0m\u001b[0;34m,\u001b[0m\u001b[0;36m0\u001b[0m\u001b[0;34m]\u001b[0m\u001b[0;34m\u001b[0m\u001b[0;34m\u001b[0m\u001b[0m\n\u001b[0m\u001b[1;32m    141\u001b[0m         \u001b[0mtp\u001b[0m \u001b[0;34m=\u001b[0m \u001b[0mcontingencyTable\u001b[0m\u001b[0;34m.\u001b[0m\u001b[0miloc\u001b[0m\u001b[0;34m[\u001b[0m\u001b[0;36m1\u001b[0m\u001b[0;34m,\u001b[0m\u001b[0;36m1\u001b[0m\u001b[0;34m]\u001b[0m\u001b[0;34m\u001b[0m\u001b[0;34m\u001b[0m\u001b[0m\n\u001b[1;32m    142\u001b[0m \u001b[0;34m\u001b[0m\u001b[0m\n",
      "\u001b[0;32m/opt/conda/lib/python3.7/site-packages/pandas/core/indexing.py\u001b[0m in \u001b[0;36m__getitem__\u001b[0;34m(self, key)\u001b[0m\n\u001b[1;32m    923\u001b[0m                 \u001b[0;32mwith\u001b[0m \u001b[0msuppress\u001b[0m\u001b[0;34m(\u001b[0m\u001b[0mKeyError\u001b[0m\u001b[0;34m,\u001b[0m \u001b[0mIndexError\u001b[0m\u001b[0;34m)\u001b[0m\u001b[0;34m:\u001b[0m\u001b[0;34m\u001b[0m\u001b[0;34m\u001b[0m\u001b[0m\n\u001b[1;32m    924\u001b[0m                     \u001b[0;32mreturn\u001b[0m \u001b[0mself\u001b[0m\u001b[0;34m.\u001b[0m\u001b[0mobj\u001b[0m\u001b[0;34m.\u001b[0m\u001b[0m_get_value\u001b[0m\u001b[0;34m(\u001b[0m\u001b[0;34m*\u001b[0m\u001b[0mkey\u001b[0m\u001b[0;34m,\u001b[0m \u001b[0mtakeable\u001b[0m\u001b[0;34m=\u001b[0m\u001b[0mself\u001b[0m\u001b[0;34m.\u001b[0m\u001b[0m_takeable\u001b[0m\u001b[0;34m)\u001b[0m\u001b[0;34m\u001b[0m\u001b[0;34m\u001b[0m\u001b[0m\n\u001b[0;32m--> 925\u001b[0;31m             \u001b[0;32mreturn\u001b[0m \u001b[0mself\u001b[0m\u001b[0;34m.\u001b[0m\u001b[0m_getitem_tuple\u001b[0m\u001b[0;34m(\u001b[0m\u001b[0mkey\u001b[0m\u001b[0;34m)\u001b[0m\u001b[0;34m\u001b[0m\u001b[0;34m\u001b[0m\u001b[0m\n\u001b[0m\u001b[1;32m    926\u001b[0m         \u001b[0;32melse\u001b[0m\u001b[0;34m:\u001b[0m\u001b[0;34m\u001b[0m\u001b[0;34m\u001b[0m\u001b[0m\n\u001b[1;32m    927\u001b[0m             \u001b[0;31m# we by definition only have the 0th axis\u001b[0m\u001b[0;34m\u001b[0m\u001b[0;34m\u001b[0m\u001b[0;34m\u001b[0m\u001b[0m\n",
      "\u001b[0;32m/opt/conda/lib/python3.7/site-packages/pandas/core/indexing.py\u001b[0m in \u001b[0;36m_getitem_tuple\u001b[0;34m(self, tup)\u001b[0m\n\u001b[1;32m   1504\u001b[0m     \u001b[0;32mdef\u001b[0m \u001b[0m_getitem_tuple\u001b[0m\u001b[0;34m(\u001b[0m\u001b[0mself\u001b[0m\u001b[0;34m,\u001b[0m \u001b[0mtup\u001b[0m\u001b[0;34m:\u001b[0m \u001b[0mtuple\u001b[0m\u001b[0;34m)\u001b[0m\u001b[0;34m:\u001b[0m\u001b[0;34m\u001b[0m\u001b[0;34m\u001b[0m\u001b[0m\n\u001b[1;32m   1505\u001b[0m \u001b[0;34m\u001b[0m\u001b[0m\n\u001b[0;32m-> 1506\u001b[0;31m         \u001b[0mself\u001b[0m\u001b[0;34m.\u001b[0m\u001b[0m_has_valid_tuple\u001b[0m\u001b[0;34m(\u001b[0m\u001b[0mtup\u001b[0m\u001b[0;34m)\u001b[0m\u001b[0;34m\u001b[0m\u001b[0;34m\u001b[0m\u001b[0m\n\u001b[0m\u001b[1;32m   1507\u001b[0m         \u001b[0;32mwith\u001b[0m \u001b[0msuppress\u001b[0m\u001b[0;34m(\u001b[0m\u001b[0mIndexingError\u001b[0m\u001b[0;34m)\u001b[0m\u001b[0;34m:\u001b[0m\u001b[0;34m\u001b[0m\u001b[0;34m\u001b[0m\u001b[0m\n\u001b[1;32m   1508\u001b[0m             \u001b[0;32mreturn\u001b[0m \u001b[0mself\u001b[0m\u001b[0;34m.\u001b[0m\u001b[0m_getitem_lowerdim\u001b[0m\u001b[0;34m(\u001b[0m\u001b[0mtup\u001b[0m\u001b[0;34m)\u001b[0m\u001b[0;34m\u001b[0m\u001b[0;34m\u001b[0m\u001b[0m\n",
      "\u001b[0;32m/opt/conda/lib/python3.7/site-packages/pandas/core/indexing.py\u001b[0m in \u001b[0;36m_has_valid_tuple\u001b[0;34m(self, key)\u001b[0m\n\u001b[1;32m    752\u001b[0m         \u001b[0;32mfor\u001b[0m \u001b[0mi\u001b[0m\u001b[0;34m,\u001b[0m \u001b[0mk\u001b[0m \u001b[0;32min\u001b[0m \u001b[0menumerate\u001b[0m\u001b[0;34m(\u001b[0m\u001b[0mkey\u001b[0m\u001b[0;34m)\u001b[0m\u001b[0;34m:\u001b[0m\u001b[0;34m\u001b[0m\u001b[0;34m\u001b[0m\u001b[0m\n\u001b[1;32m    753\u001b[0m             \u001b[0;32mtry\u001b[0m\u001b[0;34m:\u001b[0m\u001b[0;34m\u001b[0m\u001b[0;34m\u001b[0m\u001b[0m\n\u001b[0;32m--> 754\u001b[0;31m                 \u001b[0mself\u001b[0m\u001b[0;34m.\u001b[0m\u001b[0m_validate_key\u001b[0m\u001b[0;34m(\u001b[0m\u001b[0mk\u001b[0m\u001b[0;34m,\u001b[0m \u001b[0mi\u001b[0m\u001b[0;34m)\u001b[0m\u001b[0;34m\u001b[0m\u001b[0;34m\u001b[0m\u001b[0m\n\u001b[0m\u001b[1;32m    755\u001b[0m             \u001b[0;32mexcept\u001b[0m \u001b[0mValueError\u001b[0m \u001b[0;32mas\u001b[0m \u001b[0merr\u001b[0m\u001b[0;34m:\u001b[0m\u001b[0;34m\u001b[0m\u001b[0;34m\u001b[0m\u001b[0m\n\u001b[1;32m    756\u001b[0m                 raise ValueError(\n",
      "\u001b[0;32m/opt/conda/lib/python3.7/site-packages/pandas/core/indexing.py\u001b[0m in \u001b[0;36m_validate_key\u001b[0;34m(self, key, axis)\u001b[0m\n\u001b[1;32m   1407\u001b[0m             \u001b[0;32mreturn\u001b[0m\u001b[0;34m\u001b[0m\u001b[0;34m\u001b[0m\u001b[0m\n\u001b[1;32m   1408\u001b[0m         \u001b[0;32melif\u001b[0m \u001b[0mis_integer\u001b[0m\u001b[0;34m(\u001b[0m\u001b[0mkey\u001b[0m\u001b[0;34m)\u001b[0m\u001b[0;34m:\u001b[0m\u001b[0;34m\u001b[0m\u001b[0;34m\u001b[0m\u001b[0m\n\u001b[0;32m-> 1409\u001b[0;31m             \u001b[0mself\u001b[0m\u001b[0;34m.\u001b[0m\u001b[0m_validate_integer\u001b[0m\u001b[0;34m(\u001b[0m\u001b[0mkey\u001b[0m\u001b[0;34m,\u001b[0m \u001b[0maxis\u001b[0m\u001b[0;34m)\u001b[0m\u001b[0;34m\u001b[0m\u001b[0;34m\u001b[0m\u001b[0m\n\u001b[0m\u001b[1;32m   1410\u001b[0m         \u001b[0;32melif\u001b[0m \u001b[0misinstance\u001b[0m\u001b[0;34m(\u001b[0m\u001b[0mkey\u001b[0m\u001b[0;34m,\u001b[0m \u001b[0mtuple\u001b[0m\u001b[0;34m)\u001b[0m\u001b[0;34m:\u001b[0m\u001b[0;34m\u001b[0m\u001b[0;34m\u001b[0m\u001b[0m\n\u001b[1;32m   1411\u001b[0m             \u001b[0;31m# a tuple should already have been caught by this point\u001b[0m\u001b[0;34m\u001b[0m\u001b[0;34m\u001b[0m\u001b[0;34m\u001b[0m\u001b[0m\n",
      "\u001b[0;32m/opt/conda/lib/python3.7/site-packages/pandas/core/indexing.py\u001b[0m in \u001b[0;36m_validate_integer\u001b[0;34m(self, key, axis)\u001b[0m\n\u001b[1;32m   1498\u001b[0m         \u001b[0mlen_axis\u001b[0m \u001b[0;34m=\u001b[0m \u001b[0mlen\u001b[0m\u001b[0;34m(\u001b[0m\u001b[0mself\u001b[0m\u001b[0;34m.\u001b[0m\u001b[0mobj\u001b[0m\u001b[0;34m.\u001b[0m\u001b[0m_get_axis\u001b[0m\u001b[0;34m(\u001b[0m\u001b[0maxis\u001b[0m\u001b[0;34m)\u001b[0m\u001b[0;34m)\u001b[0m\u001b[0;34m\u001b[0m\u001b[0;34m\u001b[0m\u001b[0m\n\u001b[1;32m   1499\u001b[0m         \u001b[0;32mif\u001b[0m \u001b[0mkey\u001b[0m \u001b[0;34m>=\u001b[0m \u001b[0mlen_axis\u001b[0m \u001b[0;32mor\u001b[0m \u001b[0mkey\u001b[0m \u001b[0;34m<\u001b[0m \u001b[0;34m-\u001b[0m\u001b[0mlen_axis\u001b[0m\u001b[0;34m:\u001b[0m\u001b[0;34m\u001b[0m\u001b[0;34m\u001b[0m\u001b[0m\n\u001b[0;32m-> 1500\u001b[0;31m             \u001b[0;32mraise\u001b[0m \u001b[0mIndexError\u001b[0m\u001b[0;34m(\u001b[0m\u001b[0;34m\"single positional indexer is out-of-bounds\"\u001b[0m\u001b[0;34m)\u001b[0m\u001b[0;34m\u001b[0m\u001b[0;34m\u001b[0m\u001b[0m\n\u001b[0m\u001b[1;32m   1501\u001b[0m \u001b[0;34m\u001b[0m\u001b[0m\n\u001b[1;32m   1502\u001b[0m     \u001b[0;31m# -------------------------------------------------------------------\u001b[0m\u001b[0;34m\u001b[0m\u001b[0;34m\u001b[0m\u001b[0;34m\u001b[0m\u001b[0m\n",
      "\u001b[0;31mIndexError\u001b[0m: single positional indexer is out-of-bounds"
     ]
    }
   ],
   "source": [
    "evaloutputs(any_patternsOfPrescription_removeNothing.any_patternsOfPrescription_only,\n",
    "                     caseness_array.caseness_1isYes.astype(int))"
   ]
  },
  {
   "cell_type": "code",
   "execution_count": 83,
   "id": "f10e8a87-4cc1-44ad-a76f-f656bf01db53",
   "metadata": {
    "tags": []
   },
   "outputs": [
    {
     "ename": "AttributeError",
     "evalue": "'DataFrame' object has no attribute 'dtype'",
     "output_type": "error",
     "traceback": [
      "\u001b[0;31m---------------------------------------------------------------------------\u001b[0m",
      "\u001b[0;31mAttributeError\u001b[0m                            Traceback (most recent call last)",
      "\u001b[0;32m/var/tmp/ipykernel_25485/3014347270.py\u001b[0m in \u001b[0;36m<module>\u001b[0;34m\u001b[0m\n\u001b[1;32m      3\u001b[0m         \u001b[0;34m[\u001b[0m\u001b[0;34m'as_usual'\u001b[0m\u001b[0;34m]\u001b[0m \u001b[0;34m+\u001b[0m\u001b[0;31m \u001b[0m\u001b[0;31m\\\u001b[0m\u001b[0;34m\u001b[0m\u001b[0;34m\u001b[0m\u001b[0m\n\u001b[1;32m      4\u001b[0m          list(evaloutputs(any_patternsOfPrescription_removeNothing,\n\u001b[0;32m----> 5\u001b[0;31m                      caseness_array.caseness_1isYes.astype(int))),\n\u001b[0m\u001b[1;32m      6\u001b[0m         \u001b[0;34m[\u001b[0m\u001b[0;34m'without_antiPsychotics'\u001b[0m\u001b[0;34m]\u001b[0m \u001b[0;34m+\u001b[0m\u001b[0;31m \u001b[0m\u001b[0;31m\\\u001b[0m\u001b[0;34m\u001b[0m\u001b[0;34m\u001b[0m\u001b[0m\n\u001b[1;32m      7\u001b[0m          list(evaloutputs(any_patternsOfPrescription_Antipsychotics,\n",
      "\u001b[0;32m/var/tmp/ipykernel_25485/3949577640.py\u001b[0m in \u001b[0;36mevaloutputs\u001b[0;34m(vec_featureSet, vec_caseness)\u001b[0m\n\u001b[1;32m     78\u001b[0m \u001b[0;34m\u001b[0m\u001b[0m\n\u001b[1;32m     79\u001b[0m     \u001b[0;31m# Change the data type to suit the `statsmodel` function.\u001b[0m\u001b[0;34m\u001b[0m\u001b[0;34m\u001b[0m\u001b[0;34m\u001b[0m\u001b[0m\n\u001b[0;32m---> 80\u001b[0;31m     \u001b[0;32mif\u001b[0m \u001b[0mvec_featureSet\u001b[0m\u001b[0;34m.\u001b[0m\u001b[0mdtype\u001b[0m \u001b[0;34m==\u001b[0m \u001b[0;34m'int64'\u001b[0m\u001b[0;34m:\u001b[0m\u001b[0;34m\u001b[0m\u001b[0;34m\u001b[0m\u001b[0m\n\u001b[0m\u001b[1;32m     81\u001b[0m         \u001b[0mvec_featureSet\u001b[0m \u001b[0;34m=\u001b[0m \u001b[0mvec_featureSet\u001b[0m\u001b[0;34m.\u001b[0m\u001b[0mastype\u001b[0m\u001b[0;34m(\u001b[0m\u001b[0mint\u001b[0m\u001b[0;34m)\u001b[0m\u001b[0;34m\u001b[0m\u001b[0;34m\u001b[0m\u001b[0m\n\u001b[1;32m     82\u001b[0m     \u001b[0;32melif\u001b[0m \u001b[0mvec_featureSet\u001b[0m\u001b[0;34m.\u001b[0m\u001b[0mdtype\u001b[0m \u001b[0;34m==\u001b[0m \u001b[0;34m'boolean'\u001b[0m\u001b[0;34m:\u001b[0m\u001b[0;34m\u001b[0m\u001b[0;34m\u001b[0m\u001b[0m\n",
      "\u001b[0;32m/opt/conda/lib/python3.7/site-packages/pandas/core/generic.py\u001b[0m in \u001b[0;36m__getattr__\u001b[0;34m(self, name)\u001b[0m\n\u001b[1;32m   5485\u001b[0m         ):\n\u001b[1;32m   5486\u001b[0m             \u001b[0;32mreturn\u001b[0m \u001b[0mself\u001b[0m\u001b[0;34m[\u001b[0m\u001b[0mname\u001b[0m\u001b[0;34m]\u001b[0m\u001b[0;34m\u001b[0m\u001b[0;34m\u001b[0m\u001b[0m\n\u001b[0;32m-> 5487\u001b[0;31m         \u001b[0;32mreturn\u001b[0m \u001b[0mobject\u001b[0m\u001b[0;34m.\u001b[0m\u001b[0m__getattribute__\u001b[0m\u001b[0;34m(\u001b[0m\u001b[0mself\u001b[0m\u001b[0;34m,\u001b[0m \u001b[0mname\u001b[0m\u001b[0;34m)\u001b[0m\u001b[0;34m\u001b[0m\u001b[0;34m\u001b[0m\u001b[0m\n\u001b[0m\u001b[1;32m   5488\u001b[0m \u001b[0;34m\u001b[0m\u001b[0m\n\u001b[1;32m   5489\u001b[0m     \u001b[0;32mdef\u001b[0m \u001b[0m__setattr__\u001b[0m\u001b[0;34m(\u001b[0m\u001b[0mself\u001b[0m\u001b[0;34m,\u001b[0m \u001b[0mname\u001b[0m\u001b[0;34m:\u001b[0m \u001b[0mstr\u001b[0m\u001b[0;34m,\u001b[0m \u001b[0mvalue\u001b[0m\u001b[0;34m)\u001b[0m \u001b[0;34m->\u001b[0m \u001b[0;32mNone\u001b[0m\u001b[0;34m:\u001b[0m\u001b[0;34m\u001b[0m\u001b[0;34m\u001b[0m\u001b[0m\n",
      "\u001b[0;31mAttributeError\u001b[0m: 'DataFrame' object has no attribute 'dtype'"
     ]
    }
   ],
   "source": [
    "pandas.DataFrame(\n",
    "    [\n",
    "        ['as_usual'] + \\\n",
    "         list(evaloutputs(any_patternsOfPrescription_removeNothing,\n",
    "                     caseness_array.caseness_1isYes.astype(int))),\n",
    "        ['without_antiPsychotics'] + \\\n",
    "         list(evaloutputs(any_patternsOfPrescription_Antipsychotics,\n",
    "                     caseness_array.caseness_1isYes.astype(int))),\n",
    "        ['without_antiDepressants'] + \\\n",
    "         list(evaloutputs(any_patternsOfPrescription_removeAntidepressants,\n",
    "                     caseness_array.caseness_1isYes.astype(int))),\n",
    "        ['without_either'] + \\\n",
    "         list(evaloutputs(any_patternsOfPrescription_removeBoth,\n",
    "                     caseness_array.caseness_1isYes.astype(int)))\n",
    "    ],\n",
    "    columns = ['Sensitivity_analysis', 'Feature_set', 'Data_type', 'Scaled_mutual_information',\n",
    "               'Prevalence_per_thousand', 'Mean', 'Mode','Class_balanced_accuracy',\n",
    "               'Odds_ratio', 'ppv', 'npv', 'tn', 'fn', 'fp', 'tp']\n",
    ").drop(labels = ['Feature_set', 'Data_type', 'Mean', 'Mode'], axis = 1)"
   ]
  },
  {
   "cell_type": "code",
   "execution_count": 63,
   "id": "596f872e-941b-49c7-927b-9855b8df0406",
   "metadata": {
    "tags": []
   },
   "outputs": [],
   "source": [
    "del any_patternsOfPrescriptions_atLeast"
   ]
  }
 ],
 "metadata": {
  "environment": {
   "kernel": "python3",
   "name": ".m115",
   "type": "gcloud",
   "uri": "gcr.io/deeplearning-platform-release/:m115"
  },
  "kernelspec": {
   "display_name": "Python 3",
   "language": "python",
   "name": "python3"
  },
  "language_info": {
   "codemirror_mode": {
    "name": "ipython",
    "version": 3
   },
   "file_extension": ".py",
   "mimetype": "text/x-python",
   "name": "python",
   "nbconvert_exporter": "python",
   "pygments_lexer": "ipython3",
   "version": "3.7.12"
  }
 },
 "nbformat": 4,
 "nbformat_minor": 5
}
