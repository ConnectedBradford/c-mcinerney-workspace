{
 "cells": [
  {
   "cell_type": "markdown",
   "id": "4133cccb-8bbe-45e3-bff7-ad4ebd5c06d8",
   "metadata": {
    "tags": []
   },
   "source": [
    "# ClearPath example\n",
    "The purpose of this notebook is to present an example of applying the ClearPath method of process mining.\n",
    "\n",
    "The [ClearPath method](https://sci-hub.wf/10.1007/978-3-030-11641-5_19) is an extension of the PM^2 process-mining method that was developed specifically to meet the particulars of healthcare process mining for the purpose of informing simulations. Key additions are the Clinical Review Board and the Evidence Template.\n",
    "\n",
    "### Basic structure of the ClearPath method\n",
    "The ClearPath method follows an agile approach, which is an iterative and incremental development approach founded on cross-disciplinary collaboration including with the end-user. Following the PM^2 method, the ClearPath method iterates five stages joining an outer loop that involves implementation. The six stages are listed below with some key features.\n",
    "1. ___Planning___\n",
    "    - Compose the project team; Set the research question; Schedule all review meeting to ensure iterations are time-boxed.\n",
    "2. ___Extracting___\n",
    "    - Gather knowledge and insight into the processes under study and the data-generating mechanisms; Obtain data for processing.\n",
    "3. ___Data processing___\n",
    "    - Assess data quality; Format data for study.\n",
    "4. ___Mining and analysis___\n",
    "    - Discover / Mine process models; Build simulation models, if applicable; Design and test model evaluation rig; Set up and/or update the evidence template.\n",
    "5. ___Evaluation___\n",
    "    - Meet with Clinical Review Board to assess validity; Set requirements for next interation of stages 1-5.\n",
    "6. ___Process improvement and support___\n",
    "    - Obtain approval of models and evidence based from Clinical Review Board; Publish outputs; Develop implementation strategy; Specify conditions for return to stage 1 for developing the next version.\n",
    "\n",
    "As stated in [Johnson _et al._ (2018)](https://sci-hub.wf/10.1007/978-3-030-11641-5_19), key features of the ClearPath method \"_time-boxed iterations which produce process simulation models of increasing fidelity that are backed by strong tooling (_ \\[process mining, simulation\\], _data mining), traditional academic research methods (literature reviews, qualitative methods) and traditional business process analysis (observation, interviews, sample documents)._\"\n",
    "\n",
    "### The Clinical Review Board\n",
    "The Clinicial Review Board are a group of clinical experts who are set up in the Planning stage to be consulted at every iteration of the ClearPath method. The Board can be replaced with a rotating roster of interviewees with clinical expertise. Where boardmembers or interviewees, their role is to assess each iteration of the the model for validity/\n",
    "As stated in [Johnson _et al._ (2018)](https://sci-hub.wf/10.1007/978-3-030-11641-5_19), the Clinical Review Board meeting is \"_where the evidence base, data quality management framework (assumptions, root cause analysis and mitigation decisions) are reviewed together with the latest “as is” and candidate “to be\"_ \\[simulation\\] _model as runnable simulations. The_ \\[Clinical Review Board\\] _meetings are interactive and generally highly productive. The outcome of the meeting is to plan objectives for the next iteration._\"\n",
    "\n",
    "### The evidence template\n",
    "As stated in [Johnson _et al._ (2018)](https://sci-hub.wf/10.1007/978-3-030-11641-5_19), \"_In the evidence template, each model element (patient agent, activity, decision point) and each model attribute (e.g. disease incidence, cost and duration, probability of next activity) are listed with references to the source material so that audit trail can be traced back to the literature sources, pro- cess mining outputs or investigation artifacts that were used._\"\n",
    "The five levels of confidence that can be set by the modeller are:\n",
    "\n",
    "0. No confidence/ not applicable/ system defaults\n",
    "1. Guess by modeller\n",
    "2. Estimate from observation or domain expert interview\n",
    "3. Empirical evidence from process mining or published literature\n",
    "4. Confirmed from multiple reliable sources\n",
    "5. Confirmed through Clinical Review Board"
   ]
  },
  {
   "cell_type": "markdown",
   "id": "e3ca508d-c627-4998-865a-1b07b9163d1d",
   "metadata": {},
   "source": [
    "Follow along with the Jupyter notebooks for a walkthrough of the ClearPath method applied to the study of Type 2 Diabetes care pathways.\n",
    "\n",
    "1. `ClearPath_iter_1.ipynb`\n",
    "2. `ClearPath_iter_2.ipynb`\n",
    "3. `ClearPath_iter_3.ipynb`\n",
    "4. `ClearPath_iter_4.ipynb`"
   ]
  }
 ],
 "metadata": {
  "environment": {
   "kernel": "ir",
   "name": ".m115",
   "type": "gcloud",
   "uri": "gcr.io/deeplearning-platform-release/:m115"
  },
  "kernelspec": {
   "display_name": "R",
   "language": "R",
   "name": "ir"
  },
  "language_info": {
   "codemirror_mode": "r",
   "file_extension": ".r",
   "mimetype": "text/x-r-source",
   "name": "R",
   "pygments_lexer": "r",
   "version": "4.3.2"
  }
 },
 "nbformat": 4,
 "nbformat_minor": 5
}
