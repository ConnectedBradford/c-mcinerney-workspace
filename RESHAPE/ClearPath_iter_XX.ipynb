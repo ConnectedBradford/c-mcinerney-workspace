{
 "cells": [
  {
   "cell_type": "markdown",
   "id": "91e97a4b-84b5-46a4-a070-a6f99de7906d",
   "metadata": {
    "tags": []
   },
   "source": [
    "# Run `ClearPath_iter_3.ipynb` first."
   ]
  },
  {
   "cell_type": "markdown",
   "id": "f18661e1-860e-4e2f-bd5b-ce2977744278",
   "metadata": {
    "tags": []
   },
   "source": [
    "# ==========\n",
    "# = Iteration #4 =\n",
    "# =========="
   ]
  },
  {
   "cell_type": "markdown",
   "id": "502dc0d9-6093-40a0-a245-b2698eadfd9f",
   "metadata": {},
   "source": [
    "## Stage 1: Planning\n",
    "The tasks for this stage are:\n",
    "1. Compose the project team\n",
    "2. Set the research question\n",
    "3. Schedule all review meeting to ensure iterations are time-boxed.\n",
    "\n",
    "### 4.1.1. Compose the project team\n",
    "No change since previous iteration.\n",
    "\n",
    "### 4.1.2. Set the research question\n",
    "The research question is _What are the differences in control, engagement, and adherence statistics between the simulated model and a perturbed simulation where inter-test durations are halved?_\n",
    "\n",
    "### 4.1.3. Schedule all review meeting to ensure iterations are time-boxed\n",
    "No change since previous iteration."
   ]
  },
  {
   "cell_type": "markdown",
   "id": "b85fec05-cd8f-4aa4-af1d-da6dee77d5be",
   "metadata": {},
   "source": [
    "## Stage 2: Extraction\n",
    "This tasks for this stage are:\n",
    "1. Gather knowledge and insight into the processes under study and the data-generating mechanisms.\n",
    "2. Obtain data for processing\n",
    "\n",
    "### 4.2.1. Gather knowledge and insight into the processes under study and the data-generating mechanisms.\n",
    "No change since previous iteration.\n",
    "\n",
    "### 4.2.2. Obtain data for processing\n",
    "No change since previous iteration."
   ]
  },
  {
   "cell_type": "markdown",
   "id": "a450fb1e-44c6-467d-8f5a-8a25d70c78fc",
   "metadata": {
    "tags": []
   },
   "source": [
    "## Stage 3: Data processing\n",
    "This tasks for this stage are:\n",
    "1. Assess data quality\n",
    "2. Format data for study\n",
    "\n",
    "### 4.3.1. Assess data quality\n",
    "No change since previous iteration.\n",
    "\n",
    "### 4.3.2. Format data for study\n",
    "No change since previous iteration."
   ]
  },
  {
   "cell_type": "markdown",
   "id": "45097ecd-c99d-4cbe-a1d7-446223b5729d",
   "metadata": {
    "tags": []
   },
   "source": [
    "## Stage 4: Mining and analysis\n",
    "This tasks for this stage are:\n",
    "1. Discover / Mine process models\n",
    "2. Build simulation models, if applicable\n",
    "3. Design and test model evaluation rig\n",
    "4. Set up and/or update the evidence template\n",
    "\n",
    "### 4.4.1 Discover / Mine process models\n",
    "No further process mining is required to answer the research question associated with this iteration. I will use the discovered processes from the first iteration.\n",
    "\n",
    "### 4.4.2 Build simulation models, if applicable\n",
    "No change since previous iteration."
   ]
  },
  {
   "cell_type": "code",
   "execution_count": null,
   "id": "1bb61abe-016a-4646-8277-aafe3f887514",
   "metadata": {},
   "outputs": [],
   "source": []
  },
  {
   "cell_type": "markdown",
   "id": "f876932b-83d7-408f-9038-a9664e758a30",
   "metadata": {},
   "source": [
    "### 4.4.3 Design and test model evaluation rig\n",
    "No change since previous iteration.\n",
    "\n",
    "### 4.4.4 Set up and/or update the evidence template\n",
    "The template is updated with an attribute column for the perturbed model.\n",
    "\n",
    "|Model element|Model attribute|Attribute value<br>(discovered)|Attribute value<br>(perturbed)|Confidence|Reference|\n",
    "|---|---|---|---|---|---|\n",
    "|Patient agent|NA|NA|NA|NA|NA|\n",
    "|||||||\n",
    "|Test|Cost|£55|No change|0|1|\n",
    "||P(next event = Test)|0.6||2|5|\n",
    "||P(next event = Metformin)|0.1||2|5|\n",
    "||P(next event = Gliclazide )|0.1||2|5|\n",
    "||P(next event = Empagliflozin )|0.1||2|5|\n",
    "||P(next event = Else)|0.1||2|5|\n",
    "|Prescription > Metforim|Cost|£17|No change|0|2|\n",
    "||P(next event = Test)|0.4||2|5|\n",
    "||P(next event = Metformin)|0.3||2|5|\n",
    "||P(next event = Gliclazide )|0.1||2|5|\n",
    "||P(next event = Empagliflozin )|0.1||2|5|\n",
    "||P(next event = Else)|0.1||2|5|\n",
    "|Prescription > Gliclazide |Cost|£5.24|No change|0|3|\n",
    "||P(next event = Test)|0.4||2|5|\n",
    "||P(next event = Metformin)|0.1||2|5|\n",
    "||P(next event = Gliclazide )|0.3||2|5|\n",
    "||P(next event = Empagliflozin )|0.1||2|5|\n",
    "||P(next event = Else)|0.1||2|5|\n",
    "|Prescription > Empagliflozin |Cost|£18.05|No change|0|4|\n",
    "||P(next event = Test)|0.4||2|5|\n",
    "||P(next event = Metformin)|0.1||2|5|\n",
    "||P(next event = Gliclazide )|0.1||2|5|\n",
    "||P(next event = Empagliflozin )|0.3||2|5|\n",
    "||P(next event = Else)|0.1||2|5|"
   ]
  },
  {
   "cell_type": "markdown",
   "id": "cfdf6399-e231-4932-b706-1823ee775ee9",
   "metadata": {},
   "source": [
    "## Stage 5: Evaluation\n",
    "This tasks for this stage are:\n",
    "1. Meet with Clinical Review Board to assess validity.\n",
    "2. Set requirements for next interation of stages 1-5.\n",
    "\n",
    "### 4.5.1. Meet with Clinical Review Board to assess validity\n",
    "My assessment is that the pertubred model \\<is\\> / \\<is not\\> a reasonable model \\<even though it does\\> / \\<and it doesn't\\> improve the evaluation statistics.\n",
    "\n",
    "### 4.5.2 Set requirements for next interation of stages 1-5.\n",
    "Requirements for the next iteration are:\n",
    "1. TBA"
   ]
  }
 ],
 "metadata": {
  "environment": {
   "kernel": "ir",
   "name": ".m115",
   "type": "gcloud",
   "uri": "gcr.io/deeplearning-platform-release/:m115"
  },
  "kernelspec": {
   "display_name": "R",
   "language": "R",
   "name": "ir"
  },
  "language_info": {
   "codemirror_mode": "r",
   "file_extension": ".r",
   "mimetype": "text/x-r-source",
   "name": "R",
   "pygments_lexer": "r",
   "version": "4.3.2"
  }
 },
 "nbformat": 4,
 "nbformat_minor": 5
}
