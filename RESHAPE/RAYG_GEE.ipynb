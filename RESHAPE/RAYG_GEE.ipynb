{
 "cells": [
  {
   "cell_type": "markdown",
   "id": "3ff060c0-ab87-4755-8cc2-ae1222f5f0bf",
   "metadata": {
    "tags": []
   },
   "source": [
    "# RAYG GEE\n",
    "\n",
    "The purpose of this workbook is ..."
   ]
  },
  {
   "cell_type": "markdown",
   "id": "ef98dd3e-9805-4215-8148-4f105991ece9",
   "metadata": {},
   "source": [
    "Install R packages."
   ]
  },
  {
   "cell_type": "code",
   "execution_count": 129,
   "id": "f4f8621c-34a3-4f6e-b425-da1a6067ba2d",
   "metadata": {
    "jupyter": {
     "source_hidden": true
    },
    "tags": []
   },
   "outputs": [
    {
     "name": "stderr",
     "output_type": "stream",
     "text": [
      "Installing package into ‘/home/jupyter/.R/library’\n",
      "(as ‘lib’ is unspecified)\n",
      "\n",
      "Installing package into ‘/home/jupyter/.R/library’\n",
      "(as ‘lib’ is unspecified)\n",
      "\n",
      "Skipping install of 'dagitty' from a github remote, the SHA1 (8a8fd72a) has not changed since last install.\n",
      "  Use `force = TRUE` to force installation\n",
      "\n"
     ]
    }
   ],
   "source": [
    "#######################\n",
    "## Install packages. ##\n",
    "#######################\n",
    "install.packages( \"pacman\" )\n",
    "library( pacman )\n",
    "pacman::p_load(\n",
    "    bigrquery\n",
    "    ,ggplot2\n",
    "    ,tidyverse\n",
    ")\n",
    "Sys.setenv(DOWNLOAD_STATIC_LIBV8 = 1)\n",
    "install.packages(\"V8\")\n",
    "remotes::install_github(\"jtextor/dagitty/r\")\n",
    "library(dagitty)\n",
    "require('IRdisplay', quietly = TRUE)\n",
    "display_dagitty <-\n",
    "function(\n",
    "    data = NULL,\n",
    "    path = NULL,\n",
    "    height = 500,\n",
    "    width = NULL,\n",
    "    mutable = FALSE\n",
    ") {\n",
    "    if (!is.null(path)) {\n",
    "        if (!is.null(data)) {\n",
    "            stop('Please provide either `data` or `path`, not both.')\n",
    "        }\n",
    "        data = paste(readLines(path), collapse=  ' ')\n",
    "    }\n",
    "    bundle <- list(\n",
    "        data=list(\n",
    "            'application/x.dagitty.dag' = toString(data)\n",
    "        ),\n",
    "        metadata=list(\n",
    "            height = ifelse(is.null(height), 'unset', paste0(height, 'px')),\n",
    "            width = ifelse(is.null(width), 'unset', paste0(width, 'px')),\n",
    "            mutable = mutable\n",
    "        )\n",
    "    )\n",
    "    IRdisplay::publish_mimebundle(bundle$data, bundle$metadata)\n",
    "}"
   ]
  },
  {
   "cell_type": "markdown",
   "id": "a782262c-417b-44a1-84d2-2cbc5d954ed6",
   "metadata": {},
   "source": [
    "Set and load requisites."
   ]
  },
  {
   "cell_type": "code",
   "execution_count": 337,
   "id": "6d86d5df-4dbf-4046-b4de-ef8040407ffd",
   "metadata": {
    "jupyter": {
     "source_hidden": true
    },
    "tags": []
   },
   "outputs": [
    {
     "name": "stderr",
     "output_type": "stream",
     "text": [
      "Auto-refreshing stale OAuth token.\n",
      "\n"
     ]
    }
   ],
   "source": [
    "##############################\n",
    "## Set and load requisites. ##\n",
    "##############################\n",
    "\n",
    "# Setup connection to GCP.\n",
    "project_id = \"yhcr-prd-phm-bia-core\"\n",
    "con <- DBI::dbConnect( drv = bigquery(), project = project_id ) %>% suppressWarnings()\n",
    "\n",
    "# Define R tibbles from GCP tables.\n",
    "#r_tbl_srcode <- dplyr::tbl( con, dbplyr::in_schema( sql( \"CB_FDM_PrimaryCare\" ), sql( \"tbl_srcode\" ) ) )\n",
    "r_tbl_srcode <- dplyr::tbl( con, \"CB_FDM_PrimaryCare.tbl_srcode\" )\n",
    "r_tbl_srpatient <- dplyr::tbl( con, \"CB_FDM_PrimaryCare.tbl_srpatient\" )\n",
    "r_tbl_BNF_DMD_SNOMED_lkp <- dplyr::tbl( con, \"CB_LOOKUPS.tbl_BNF_DMD_SNOMED_lkp\" )\n",
    "r_tbl_srprimarycaremedication <- dplyr::tbl( con, \"CB_FDM_PrimaryCare.tbl_srprimarycaremedication\" )\n",
    "r_tbl_srappointment <- dplyr::tbl( con, \"CB_FDM_PrimaryCare.tbl_srappointment\" )\n",
    "\n",
    "# Clinical code lists (BNF, SNOMED-CT, etc).\n",
    "# ## Medication codes.\n",
    "codes_SNOMED_diagnoses_of_interest <-\n",
    "    readr::read_csv(file = paste0( 'codelists/', 'nhsd-primary-care-domain-refsets-dmtype2_cod-20200812.csv' ),\n",
    "                    col_types = cols( code = col_character(), term = col_character() ) )$code\n",
    "codes_SNOMED_test_of_interest <-\n",
    "    readr::read_csv(file = paste0( 'codelists/', 'opensafely-glycated-haemoglobin-hba1c-tests-3e5b1269.csv' ),\n",
    "                    col_types = cols( code = col_character(), term = col_character() ) )$code\n",
    "codes_BNF_metformin <-\n",
    "    readr::read_csv(file = paste0( 'codelists/', 'ciaranmci-metformin-bnf-0601022b0-and-child-bnf-codes-only-43e7d87e.csv' ),\n",
    "                    col_types = cols( code = col_character(), term = col_character() ) )$code\n",
    "names_metformin_meds <-\n",
    "    r_tbl_BNF_DMD_SNOMED_lkp %>%\n",
    "    dplyr::filter( BNF_Code %in% codes_BNF_metformin ) %>%\n",
    "    dplyr::select( DMplusD_ProductDescription )\n",
    "BNF_meds_of_interest <-\n",
    "    readr::read_csv(file = paste0( 'codelists/', 'ciaranmci-bnf-section-61-drugs-for-diabetes-207573b7.csv' ),\n",
    "                    col_types = cols( code = col_character(), term = col_character() ) )\n",
    "codes_BNF_meds_of_interest <-\n",
    "    BNF_meds_of_interest$code\n",
    "# ## ## Aggregate the medications to the first nine digits of their BNF codes.\n",
    "names_meds_of_interest <-\n",
    "    r_tbl_BNF_DMD_SNOMED_lkp %>%\n",
    "    dplyr::filter( BNF_Code %in% codes_BNF_meds_of_interest ) %>%\n",
    "    dplyr::select( BNF_Code, DMplusD_ProductDescription ) %>%\n",
    "    dplyr::mutate(\n",
    "        BNF_Code_short = stringr::str_sub( BNF_Code, end = 9 )\n",
    "        ) \n",
    "shortNames_meds_of_interest <-\n",
    "    names_meds_of_interest %>%\n",
    "    dplyr::collect() %>%\n",
    "    dplyr::left_join(\n",
    "         BNF_meds_of_interest %>% filter(nchar(code) == 9)\n",
    "        ,by = join_by( BNF_Code_short == code )\n",
    "    ) %>%\n",
    "    dplyr::select( -c( BNF_Code, BNF_Code_short ) ) %>%\n",
    "    dplyr::rename(\n",
    "        drug_name = DMplusD_ProductDescription\n",
    "        ,drug_name_short = term\n",
    "    ) %>%\n",
    "    dplyr::distinct()\n",
    "\n",
    "# ## Did-not-attend.\n",
    "codes_SNOMED_didNotAttend <-\n",
    "    readr::read_csv(file = paste0( 'codelists/', 'ciaranmci-did-not-attend-098119da.csv' ),\n",
    "                    col_types = cols( code = col_character(), term = col_character() ) )$code\n",
    "\n",
    "# Load the CSV file containing that matches all medications in `codes_SNOMED_diagnoses_of_interest`\n",
    "# with an expected duration of prescription.\n",
    "##meds_expected_prescription_duration <-\n",
    " ##   readr::read_csv(file = 'meds_expected_prescription_duration.csv',\n",
    "  ##                  col_types = cols( term = col_character(), duration = col_numeric() ) )\n",
    "\n",
    "# Study dates\n",
    "date_diagnosis_threshold <- lubridate::ymd('2000-01-01')\n",
    "date_followup_start <- lubridate::ymd('2010-01-01')\n",
    "date_followup_end <- lubridate::ymd('2019-12-31')\n",
    "\n",
    "# Duration of months after the first prescription that we ignore before studying patterns.\n",
    "pattern_delay_months <- 0\n",
    "\n",
    "# Threshold value for the test, which in this case is HbA1c.\n",
    "val_test_threshold <- 48\n",
    "\n",
    "# Threshold for the expected interval between subsequent tests, in months\n",
    "val_testing_interval_LB <- 2\n",
    "val_testing_interval_UB <- 5\n",
    "\n",
    "# Set values for meaningful changes in the values of the test.\n",
    "val_meaningful_test_improvement <- -10\n",
    "val_meaningful_test_disimprovement <- 10\n",
    "\n",
    "# Set window within which to search for repeated (but not repeat) prescriptions.\n",
    "window_repeated_prescription_months <- 3\n",
    "\n",
    "# Set number of tests, treatments, or iterations after diagnosis that should be tracked.\n",
    "n_iterations <- 10\n",
    "\n",
    "# Set ordering of factors labels for the event variable.\n",
    "df_event_factor <-\n",
    "    data.frame(\n",
    "        event_fct_order =\n",
    "            factor(\n",
    "                c( \"Test Status = Red\", \"Test Status = Amber\"\n",
    "                  ,\"Test Status = Yellow\", \"Test Status = Green\" )\n",
    "                ,levels = c( \"Test Status = Red\", \"Test Status = Amber\"\n",
    "                            ,\"Test Status = Yellow\", \"Test Status = Green\" )\n",
    "            )\n",
    "        ,event_colours_order = c( \"firebrick1\", \"darkorange\", \"gold\", \"limegreen\" )\n",
    "    )\n",
    "\n",
    "# Set ordering of H.M.A. stratification.\n",
    "df_HMA_factor <-\n",
    "    data.frame(\n",
    "        HMA_fct_order =\n",
    "            factor(\n",
    "                c(\"Hold\", \"Monitor\", \"Adjust\", \"Unobserved\")\n",
    "                ,levels = c(\"Hold\", \"Monitor\",\"Adjust\", \"Unobserved\")\n",
    "            )\n",
    "        ,HMA_colours_order = c( \"plum1\", \"lightcoral\", \"cornflowerblue\", \"grey\" )\n",
    "    )"
   ]
  },
  {
   "cell_type": "markdown",
   "id": "e9070302-7591-4e90-8dbf-b38001dce1f2",
   "metadata": {
    "tags": []
   },
   "source": [
    "Define study cohort.\n",
    "\n",
    "This was trivial in previous iterations because I relied on clinicall-coded diagnoses, only. This time I will also permit diagnosis to be indicated by abnormal HbA1c (i.e. >48 mmol/mol). The justification is that concurrent work by CMI and colleagues shows that clinicall-coded dates of diabetes diagnosis disagree with HbA1c values by more than 10 years. The HbA1c values are surperior indicators but the validity of HbA1c values decreases as we go further back in the record because they weren't used diagnostically until a while after introduction. Therefore, in the early days, we will have to trust the clinically-coded date.\n",
    "\n",
    "In an email sent 26th July 2024, CB suggested a three-option algorthin for identifying the date of diagnosis:\n",
    "1. If the clinically-coded diagnosis is <u>before</u> April 2004 AND there are raised HbA1c values <u>after</u> April 2003 (note the difference in years), then use the clinically-coded date.\n",
    "    - The actual statement from CB was: if the clinically-coded diagnosis is before April 2004 AND some \"recent\" raised HbA1c, then use the clinically-coded date, on the assumption that the date is not miscoded. This requries a threshold for \"recent\" (or does he mean \"concurrent\"?).\n",
    "2. If the clinically-coded diagnosis is <u>after</u> April 2004 AND there are raised HbA1c values before April 2003 (note the difference in years), then use the earliest raised HbA1c date.\n",
    "3. If the clinically-coded diagnosis is <u>after</u> April 2004 AND the first raised HbA1c value is after April 2003 (note the difference in years), then use the clinically-coded date.\n",
    "\n",
    "My approach to identifying the date of diagnosis will be to start with the original method of using clinical codes, and then only change the date if it satisfies option #2, above.\n",
    "\n",
    "First, I need to convert historic A1c% values to up-to-date mmol/mol values (Formala taken from https://ebmcalc.com/GlycemicAssessment.htm). Then I will define the cohort of relevant records."
   ]
  },
  {
   "cell_type": "code",
   "execution_count": 35,
   "id": "f8af8729-bc43-42d1-98a9-83face3b390e",
   "metadata": {
    "jupyter": {
     "source_hidden": true
    },
    "tags": []
   },
   "outputs": [],
   "source": [
    "# First, I need to convert historic A1c% values to up-to-date mmol/mol values. Formala taken from https://ebmcalc.com/GlycemicAssessment.htm\n",
    "r_tbl_srcode <-\n",
    "    r_tbl_srcode %>%\n",
    "    dplyr::select( person_id, dateevent, numericvalue, snomedcode ) %>%\n",
    "    # Convert A1c% values to mmol/mol values. Formala taken from https://ebmcalc.com/GlycemicAssessment.htm\n",
    "    dplyr::mutate(\n",
    "        numericvalue = \n",
    "            dplyr::if_else(\n",
    "                ( snomedcode %in% codes_SNOMED_test_of_interest ) & sql(\"REGEXP_CONTAINS( numericvalue, r'\\\\.')\" )\n",
    "                ,( numericvalue %>% as.numeric() %>% `-`( 2.15 ) ) %>% `*`( 10.929 ) %>% as.character()\n",
    "                ,numericvalue\n",
    "            )\n",
    "    )"
   ]
  },
  {
   "cell_type": "code",
   "execution_count": 36,
   "id": "7be9ce89-1698-45ce-a8df-3c62b02314e6",
   "metadata": {
    "jupyter": {
     "source_hidden": true
    },
    "tags": []
   },
   "outputs": [],
   "source": [
    "####################\n",
    "## Define cohort. ##\n",
    "####################\n",
    "qry_records_with_T2DM_diagnoses_coded <-\n",
    "    r_tbl_srcode %>%\n",
    "    # Identify records with a clinical code for Type 2 Diabetes Mellitus.\n",
    "    dplyr::filter( snomedcode %in% codes_SNOMED_diagnoses_of_interest ) %>%\n",
    "    dplyr::group_by( person_id ) %>%\n",
    "    dplyr::summarise( date_coded_diagnosis = min( dateevent, na.rm = TRUE ) ) %>%\n",
    "    dplyr::ungroup() %>%\n",
    "    dplyr::select( person_id, date_coded_diagnosis ) %>%\n",
    "    # Identify records whose clinically-coded date of diagnosis is after April 2004.\n",
    "    dplyr::mutate(\n",
    "        coded_diagnosis_before_April2004 =\n",
    "            dplyr::if_else(\n",
    "                ( date_coded_diagnosis < '2004-04-01' )\n",
    "                ,TRUE\n",
    "                ,FALSE\n",
    "            )\n",
    "    )\n",
    "\n",
    "qry_records_with_T2DM_diagnoses_HbA1c <-\n",
    "    r_tbl_srcode %>%\n",
    "    dplyr::filter( snomedcode %in% codes_SNOMED_test_of_interest) %>%\n",
    "    dplyr::select( person_id, dateevent, numericvalue ) %>%\n",
    "    # Filter for raised test scores.\n",
    "    dplyr::filter( as.numeric( numericvalue ) > 48 ) %>%\n",
    "    # Identify records with raised HbA1c values before April 2003.\n",
    "    dplyr::mutate(\n",
    "        raised_HbA1c_before_April2003 =\n",
    "            dplyr::if_else(\n",
    "                ( dateevent  < '2003-04-01' )\n",
    "                ,TRUE\n",
    "                ,FALSE\n",
    "            )\n",
    "    ) %>%\n",
    "    # Filter for the earliest test that has satisfied the criteria so far.\n",
    "    dplyr::group_by( person_id ) %>%\n",
    "    dplyr::filter( dateevent == min( dateevent ) ) %>%\n",
    "    # Filter for the largest score because, sometimes, a patient has two tests on the same date, one of which seems spuriously low.\n",
    "    dplyr::filter( as.numeric( numericvalue ) == max( as.numeric( numericvalue ) ) ) %>%\n",
    "    dplyr::ungroup() %>%\n",
    "    # Tidy up.\n",
    "    dplyr::rename( date_HbA1c_diagnosis = dateevent)\n",
    "\n",
    "qry_records_with_T2DM_diagnoses <-\n",
    "    # Join the two query results.\n",
    "    qry_records_with_T2DM_diagnoses_coded %>%\n",
    "    dplyr::left_join( qry_records_with_T2DM_diagnoses_HbA1c, by = join_by( person_id ) ) %>%\n",
    "    # Choose the date based on CB's definitions.\n",
    "    dplyr::mutate(\n",
    "        date_diagnosis = \n",
    "            dplyr::case_when(\n",
    "                is.na( date_HbA1c_diagnosis ) ~ date_coded_diagnosis\n",
    "                ,is.na( date_coded_diagnosis ) ~ date_HbA1c_diagnosis\n",
    "                # Option 1.\n",
    "                ,( coded_diagnosis_before_April2004 == TRUE ) & ( raised_HbA1c_before_April2003 == FALSE ) ~ date_coded_diagnosis\n",
    "                # Option 2.\n",
    "                ,( coded_diagnosis_before_April2004 == FALSE ) & ( raised_HbA1c_before_April2003 == TRUE ) ~ date_HbA1c_diagnosis\n",
    "                # Option 3.\n",
    "                ,( coded_diagnosis_before_April2004 == FALSE ) & ( raised_HbA1c_before_April2003 == FALSE ) ~ date_coded_diagnosis\n",
    "\n",
    "                ,TRUE ~ NA_character_\n",
    "            )\n",
    "    ) %>%\n",
    "    # Filter for records who diagnosis date is before the threshold.\n",
    "    dplyr::filter( date_coded_diagnosis <= date_diagnosis_threshold ) %>%\n",
    "    # Tidy up.\n",
    "    dplyr::select( person_id, date_diagnosis )"
   ]
  },
  {
   "cell_type": "markdown",
   "id": "c3f8462f-7a05-4b13-98cf-0d83fc842fd3",
   "metadata": {},
   "source": [
    "Retrieve dates of prescriptions in the follow-up period."
   ]
  },
  {
   "cell_type": "code",
   "execution_count": 37,
   "id": "5e93c5ea-d788-4f9b-80d6-c3c0c406d9ba",
   "metadata": {
    "jupyter": {
     "source_hidden": true
    },
    "tags": []
   },
   "outputs": [],
   "source": [
    "##################################################################\n",
    "## Retrieve dates of prescriptions within the follow-up period. ##\n",
    "##################################################################\n",
    "qry_log_prescription_longFormat <-\n",
    "    qry_records_with_T2DM_diagnoses %>%\n",
    "    dplyr::left_join( r_tbl_srprimarycaremedication, by = join_by( person_id ) ) %>% \n",
    "    # Select every record that has a prescription for any diabetes medication.\n",
    "    dplyr::inner_join( names_meds_of_interest, by = join_by( nameofmedication == DMplusD_ProductDescription ) ) %>%\n",
    "    # Filter for records within the follow-up period.\n",
    "    dplyr::filter( dplyr::between( dateevent, date_followup_start, date_followup_end ) ) %>%\n",
    "    dplyr::select( person_id, date_diagnosis, dateevent, nameofmedication ) %>%\n",
    "    dplyr::distinct() %>%\n",
    "    # Filter for however many subsequent prescriptions were specified in `n_iteraions`, then number them.\n",
    "    dplyr::group_by( person_id ) %>%\n",
    "    dbplyr::window_order( person_id, dateevent ) %>%\n",
    "    dplyr::mutate( new_prescp_day = if_else( dateevent != lag( dateevent), 1, 0 ) ) %>%\n",
    "    tidyr::replace_na( list( new_prescp_day = 1 ) ) %>%\n",
    "    dplyr::mutate( i_prescrp = cumsum( new_prescp_day ) ) %>%\n",
    "    dplyr::filter( i_prescrp <= n_iterations + 1 ) %>% # The \"+ 1\" is added so that we always include the final \"Unobserved\" state.\n",
    "    dplyr::mutate( event_name = paste0( \"prescription_\", i_prescrp ) ) %>% \n",
    "    dplyr::ungroup() %>%\n",
    "    # Rename columns.\n",
    "    dplyr::rename(\n",
    "        start_dttm = dateevent\n",
    "        ,event_value = nameofmedication\n",
    "    ) %>%\n",
    "    # Set the end time of each prescription as the start time of the previous one.\n",
    "    dplyr::group_by( person_id ) %>%\n",
    "    dbplyr::window_order( person_id, start_dttm ) %>%\n",
    "    dplyr::mutate( end_dttm = dplyr::if_else( person_id != lag( person_id ), start_dttm, lead( start_dttm ) ) ) %>%\n",
    "    dplyr::mutate( end_dttm = dplyr::if_else( is.na( end_dttm ), start_dttm, end_dttm ) ) %>%\n",
    "    dplyr::ungroup() %>%\n",
    "    # Tidy up.\n",
    "    dplyr::select( person_id, start_dttm, event_name, event_value, end_dttm )"
   ]
  },
  {
   "cell_type": "markdown",
   "id": "638b016d-bcd7-494d-a97d-3ecd1b1c6506",
   "metadata": {},
   "source": [
    "Retrieve dates of tests in the follow-up period."
   ]
  },
  {
   "cell_type": "code",
   "execution_count": 38,
   "id": "5312374b-d9ec-4e4d-a20f-ab7e212782cd",
   "metadata": {
    "jupyter": {
     "source_hidden": true
    },
    "tags": []
   },
   "outputs": [],
   "source": [
    "##########################################################\n",
    "## Retrieve dates of tests within the follow-up period. ##\n",
    "##########################################################\n",
    "qry_log_prescription_longFormat <-\n",
    "    qry_records_with_T2DM_diagnoses %>%\n",
    "    dplyr::left_join( r_tbl_srprimarycaremedication, by = join_by( person_id ) ) %>% \n",
    "    # Select every record that has a prescription for any diabetes medication.\n",
    "    dplyr::inner_join( names_meds_of_interest, by = join_by( nameofmedication == DMplusD_ProductDescription ) ) %>%\n",
    "    # Filter for records within the follow-up period.\n",
    "    dplyr::filter( dplyr::between( dateevent, date_followup_start, date_followup_end ) ) %>%\n",
    "    dplyr::select( person_id, date_diagnosis, dateevent, nameofmedication ) %>%\n",
    "    dplyr::distinct() %>%\n",
    "    # Filter for however many subsequent prescriptions were specified in `n_iteraions`, then number them.\n",
    "    dplyr::group_by( person_id ) %>%\n",
    "    dbplyr::window_order( person_id, dateevent ) %>%\n",
    "    dplyr::mutate( new_prescp_day = if_else( dateevent != lag( dateevent), 1, 0 ) ) %>%\n",
    "    tidyr::replace_na( list( new_prescp_day = 1 ) ) %>%\n",
    "    dplyr::mutate( i_prescrp = cumsum( new_prescp_day ) ) %>%\n",
    "    dplyr::filter( i_prescrp <= n_iterations + 1 ) %>% # The \"+ 1\" is added so that we always include the final \"Unobserved\" state.\n",
    "    dplyr::mutate( event_name = paste0( \"prescription_\", i_prescrp ) ) %>% \n",
    "    dplyr::ungroup() %>%\n",
    "    # Rename columns.\n",
    "    dplyr::rename(\n",
    "        start_dttm = dateevent\n",
    "        ,event_value = nameofmedication\n",
    "    ) %>%\n",
    "    # Set the end time of each prescription as the start time of the previous one.\n",
    "    dplyr::group_by( person_id ) %>%\n",
    "    dbplyr::window_order( person_id, start_dttm ) %>%\n",
    "    dplyr::mutate(\n",
    "        end_dttm = dplyr::if_else( person_id != lag( person_id ), start_dttm, lead( start_dttm ) )\n",
    "    ) %>%\n",
    "    dplyr::mutate( end_dttm = dplyr::if_else( is.na( end_dttm ), start_dttm, end_dttm )  )%>%\n",
    "    dplyr::ungroup() %>%\n",
    "    # Tidy up.\n",
    "    dplyr::select( person_id, start_dttm, event_name, event_value, end_dttm )"
   ]
  },
  {
   "cell_type": "code",
   "execution_count": 39,
   "id": "7dac9b65-7fe7-4910-8bdd-9bc933e58e41",
   "metadata": {
    "jupyter": {
     "source_hidden": true
    },
    "tags": []
   },
   "outputs": [],
   "source": [
    "######################################################\n",
    "## Retrieve dates of tests in the follow-up period. ##\n",
    "######################################################\n",
    "qry_log_test_longFormat <- \n",
    "    qry_records_with_T2DM_diagnoses %>%\n",
    "    dplyr::left_join( r_tbl_srcode, by = join_by( person_id ) ) %>% \n",
    "    # Filter records for only those that refer to the test of interest.\n",
    "    dplyr::filter( snomedcode %in% codes_SNOMED_test_of_interest ) %>% \n",
    "    # Extract the required fields.\n",
    "    dplyr::select( person_id, dateevent, numericvalue ) %>%\n",
    "    dplyr::distinct() %>%\n",
    "    # Filter out test scores of 0, which are expected to be data entry anomalies, given my selection of columns.\n",
    "    dplyr::filter( numericvalue != \"0\" ) %>%\n",
    "     # Filter for records within the follow-up period.\n",
    "    dplyr::filter( dplyr::between( dateevent, date_followup_start, date_followup_end ) ) %>%\n",
    "    # Rename columns.\n",
    "    dplyr::rename(\n",
    "        start_dttm = dateevent\n",
    "        ,event_value_numeric = numericvalue\n",
    "    ) %>% \n",
    "    # Filter for however many subsequent tests were specified in `n_iteraions`, then number them.\n",
    "    dplyr::group_by( person_id ) %>% \n",
    "    dbplyr::window_order( start_dttm ) %>% \n",
    "    dplyr::filter( row_number() <= n_iterations + 1 ) %>% # The \"+ 1\" is added so that we always include the final \"Unobserved\" state.\n",
    "    dplyr::mutate( event_name = paste0( \"test_\", row_number() - 1 ) ) %>% \n",
    "    dplyr::ungroup() %>% \n",
    "    # Set the end time each test as the start time of the previous one.\n",
    "    dplyr::group_by( person_id ) %>%\n",
    "    dbplyr::window_order( start_dttm ) %>%\n",
    "    dplyr::mutate( end_dttm = lead( start_dttm ) ) %>% \n",
    "    dplyr::ungroup() %>%\n",
    "    # Convert the numeric test values into labels.\n",
    "    dplyr::mutate( event_value_numeric = as.numeric( event_value_numeric ) ) %>%\n",
    "    dplyr::mutate(\n",
    "        event_value = dplyr::case_when(\n",
    "            is.na( event_value_numeric ) ~ NA_character_\n",
    "            ,event_value_numeric > 70 ~ \"Test Status = Red\"\n",
    "            ,event_value_numeric > 58  ~ \"Test Status = Amber\"\n",
    "            ,event_value_numeric > 48 ~ \"Test Status = Yellow\"\n",
    "            ,TRUE ~ \"Test Status = Green\"\n",
    "            )\n",
    "    ) %>%\n",
    "    # Tidy up.\n",
    "    dplyr::select( person_id, start_dttm, event_name, event_value, end_dttm ) %>%\n",
    "    dplyr::distinct()"
   ]
  },
  {
   "cell_type": "markdown",
   "id": "4bac83e2-e535-4a92-b515-a3e022a065ab",
   "metadata": {},
   "source": [
    "Create a variable to indicate the date from which we no longer observe the patient in the record."
   ]
  },
  {
   "cell_type": "code",
   "execution_count": 40,
   "id": "9a6a9a68-244b-42fe-b439-d553e71e3cd4",
   "metadata": {
    "jupyter": {
     "source_hidden": true
    },
    "tags": []
   },
   "outputs": [],
   "source": [
    "# Firstly, retrieve the dates of death, if they exist, and use them to inform a variable\n",
    "# called `date_unobserved` to indicate the date from which we no longer observe\n",
    "# the patient in the record.\n",
    "patients_of_interest_with_death_dates <-\n",
    "    r_tbl_srpatient %>%\n",
    "    # Select only those patients in whom we are interested.\n",
    "    dplyr::inner_join( qry_records_with_T2DM_diagnoses, by = join_by( person_id ) )\n",
    "\n",
    "if( !is.na( nrow( patients_of_interest_with_death_dates ) ) )\n",
    "    {\n",
    "        df_date_unobserved <-\n",
    "            patients_of_interest_with_death_dates %>%\n",
    "            dplyr::select( person_id, datedeath ) %>% \n",
    "            dplyr::distinct() %>%\n",
    "            dplyr::collect() %>%\n",
    "            tidyr::separate(\n",
    "                col = datedeath\n",
    "                ,sep = 4\n",
    "                ,into = c( \"death_year\", \"death_month\" )\n",
    "            ) %>%\n",
    "            dplyr::mutate(\n",
    "                date_unobserved = \n",
    "                    dplyr::if_else(\n",
    "                        is.na( death_year )\n",
    "                        ,NA\n",
    "                        ,ISOdate( year = death_year, month = death_month, day = 1, hour = 0 )\n",
    "                    )\n",
    "            ) #%>%\n",
    "            # If there are multiple dates of death, chose the earliest one.\n",
    "            dplyr::group_by( person_id ) %>%\n",
    "            dplyr::filter( if (is.na( date_unobserved ) ) min( date_unobserved, na.rm = TRUE) else date_unobserved ) %>%\n",
    "            dplyr::ungroup() %>%\n",
    "            # Tidy up.\n",
    "            dplyr::select( person_id, date_unobserved ) %>%\n",
    "            dplyr::arrange( person_id )\n",
    "    } else {\n",
    "        df_date_unobserved <-\n",
    "            data.frame(\n",
    "                person_id = integer(0)\n",
    "                ,date_unobserved = Date(0)\n",
    "            )\n",
    "    }"
   ]
  },
  {
   "cell_type": "markdown",
   "id": "e8de80ca-18ad-446c-bea0-2de7dddbea92",
   "metadata": {},
   "source": [
    "Append the prescriptions and tests dataframe logs."
   ]
  },
  {
   "cell_type": "code",
   "execution_count": 41,
   "id": "58ac9036-e372-46f5-9e96-c4151866a523",
   "metadata": {
    "jupyter": {
     "source_hidden": true
    },
    "tags": []
   },
   "outputs": [],
   "source": [
    "df_log_PandT_longFormat <-\n",
    "    qry_log_prescription_longFormat %>%\n",
    "    dplyr::union_all( qry_log_test_longFormat ) %>%\n",
    "    dplyr::ungroup() %>% \n",
    "    dplyr::distinct() %>%\n",
    "    dplyr::arrange( person_id, start_dttm ) %>%\n",
    "    # Include a date from which we stop observing the patient in the record.\n",
    "    # This will be either the date of death or one second after the `end_dttm`\n",
    "    # of the last event in a patient's record.\n",
    "    dplyr::collect() %>%\n",
    "    dplyr::group_by( person_id ) %>%\n",
    "    dplyr::group_modify( ~ tibble::add_row( .x ), .by = person_id ) %>% \n",
    "    dplyr::left_join( df_date_unobserved, by = join_by( person_id ) ) %>%\n",
    "    dplyr::mutate( start_dttm = if_else( is.na( start_dttm ), date_unobserved , start_dttm ) ) %>%\n",
    "    dplyr::ungroup() %>%\n",
    "    # Update `event_name` so that it shows \"Unobserved\", where appropriate.\n",
    "    dplyr::mutate( event_value = if_else( is.na( event_value ), \"Unobserved\", event_value ) ) %>%\n",
    "    # Update `start_dttm` so that it shows one second after the last\n",
    "    # `start_dttm` whenever `date_unobserved` is NA. \n",
    "    dplyr::mutate( start_dttm = if_else( is.na( start_dttm ), lag( start_dttm ) + lubridate::seconds(1), start_dttm ) ) %>%\n",
    "    # Update `end_dttm` for the final observed event. It should no longer read\n",
    "    # as NA because the \"Unobserved\" follows it \n",
    "    dplyr::mutate( end_dttm = if_else( lead( event_value ) == \"Unobserved\", lead( start_dttm ), end_dttm ) ) %>%\n",
    "    suppressWarnings() %>%\n",
    "    dplyr::select( - date_unobserved ) %>%\n",
    "    dplyr::arrange( person_id, start_dttm )"
   ]
  },
  {
   "cell_type": "markdown",
   "id": "39845084-6ced-4269-995b-4345382a5007",
   "metadata": {},
   "source": [
    "Now, I create the simplified dataframe object from the first iteration (i.e. the SQL-extracted dataframe to only focus on a handful of medications because this is only an example)."
   ]
  },
  {
   "cell_type": "code",
   "execution_count": 44,
   "id": "042ceb60-2714-4a97-b3f4-ec9cb1cf8574",
   "metadata": {
    "jupyter": {
     "source_hidden": true
    },
    "tags": []
   },
   "outputs": [],
   "source": [
    "# Simplify the event names and values.\n",
    "df_log_PandT_longFormat_simplified <-\n",
    "    df_log_PandT_longFormat %>%\n",
    "    # Remove the numbers in the event name.\n",
    "    dplyr::mutate_at(\n",
    "        .vars = vars( event_name )\n",
    "        ,.funs = ~ gsub( \"_[0-9]\", \"\", . )\n",
    "    ) %>% \n",
    "    # Aggregate medications.\n",
    "    dplyr::left_join(\n",
    "        shortNames_meds_of_interest\n",
    "        ,by = join_by( event_value == drug_name )\n",
    "    ) %>%\n",
    "    dplyr::mutate(\n",
    "        event_value = dplyr::if_else( is.na( drug_name_short ), event_value, drug_name_short )\n",
    "    ) %>%\n",
    "    dplyr::select( -drug_name_short ) %>%\n",
    "    # Convert to factor ## Can no longer do this because the factor list is too large.\n",
    "    dplyr::mutate_at(\n",
    "        .vars = vars( event_value )\n",
    "        ,.funs = funs( factor( ., levels = df_event_factor %>% dplyr::select( event_fct_order ) %>% dplyr::pull() ) )\n",
    "    ) %>%\n",
    "    suppressWarnings()"
   ]
  },
  {
   "cell_type": "markdown",
   "id": "b9d3cadc-a2fe-4c53-9fc8-cdcd1a04c94c",
   "metadata": {},
   "source": [
    "Before I can beging analysing the data, I need to define the strata proposed by the Clinical Review Board. The stratifications were:\n",
    "- H.M.A.: Four strata defined by combinations of {'Expected', 'Shorter-than-expected'} testing intervals and {'No observed change', 'Observed change'} in prescriptions. The H.M.A. acronym derives from the three strata: (0,0)-Hold; (1,0)-Monitor; (0 or 1, 1)-Adjust.\n",
    "- Tests-and-Interventions: Twelve strata defined by combinations of the test statuses and whether the patient is on one, two or three medications simulatneously.\n",
    "- Multimorbidity: Two strata defined by whether or not there is a record for at least one of the multimorbidity diagnositic codes.\n",
    "\n",
    "The first thing I do is to add a variable that indicates the patient-specific test interval. This will be handy for bounding the variables I need to create."
   ]
  },
  {
   "cell_type": "code",
   "execution_count": 45,
   "id": "14f8e264-008b-4b62-9e96-7ca036704db1",
   "metadata": {
    "jupyter": {
     "source_hidden": true
    },
    "tags": []
   },
   "outputs": [],
   "source": [
    "# Create a variable that indicates patient-specific test interval.\n",
    "df_log_PandT_longFormat_simplified_StrataLabels <-\n",
    "    df_log_PandT_longFormat_simplified %>%\n",
    "    dplyr::group_by( person_id ) %>%\n",
    "    dplyr::arrange( start_dttm ) %>%\n",
    "    dplyr::mutate(\n",
    "        idx_test_interval = 0 + cumsum( stringr::str_detect( event_value, pattern = \"Test\" ) )\n",
    "    ) %>% \n",
    "    dplyr::ungroup() %>%\n",
    "    # Remove any record with `idx_test_interval` == 0, which indicates no tests on record.\n",
    "    dplyr::filter( idx_test_interval != 0 ) %>%\n",
    "    # Remove any calculated `idx_test_interval` for which the `event_value` is \"Unobserved\".\n",
    "    dplyr::mutate_at(\n",
    "        .vars = vars( idx_test_interval )\n",
    "        ,.funs = funs(\n",
    "            dplyr::if_else( event_value == \"Unobserved\", NA_integer_, . )\n",
    "        )\n",
    "    ) %>%\n",
    "    suppressWarnings() %>%\n",
    "    # Tidy up.\n",
    "    dplyr::distinct() %>%\n",
    "    dplyr::arrange( person_id, start_dttm )"
   ]
  },
  {
   "cell_type": "markdown",
   "id": "61c5c146-e61c-47f3-afc3-460b41505f69",
   "metadata": {
    "tags": []
   },
   "source": [
    "__H.M.A. stratification__\n",
    "\n",
    "The two components of this stratification are the testing interval and the change in prescription. The testing interval requries me to create a variable indicating that the inter-test duration was between `val_testing_interval_LB` and `val_testing_interval_UB`. The change in prescription requires me to create a variable indicating whether the prescriptions before and after an index test event are the same.\n",
    "\n",
    "The first thing is to calculate the inter-test duration. In this iteration, I will have to ignore the interval between the diagnostic test and the subsequent test because I am deliberately looking at records ten years after the diagnostic test."
   ]
  },
  {
   "cell_type": "code",
   "execution_count": 46,
   "id": "f1162ae9-a53f-4672-bdf0-afece0c2af49",
   "metadata": {
    "jupyter": {
     "source_hidden": true
    },
    "tags": []
   },
   "outputs": [],
   "source": [
    "df_inter_test_duration <-\n",
    "    qry_log_test_longFormat %>%\n",
    "    dplyr::filter( event_name != \"diagnosis\" ) %>%\n",
    "    # Calculate the duration between each test and the next.\n",
    "    dplyr::mutate( inter_test_duration_cont = sql( \"DATE_DIFF( end_dttm, start_dttm, MONTH )\" ) ) %>%\n",
    "    # If the event is a diagnosis, then I need to calculate the inter-test duration in a different way.\n",
    "    dplyr::group_by( person_id ) %>%\n",
    "    dplyr::mutate(\n",
    "        inter_test_duration_cont =\n",
    "            dplyr::if_else(\n",
    "                event_name == \"diagnosis\"\n",
    "                ,sql( \"DATE_DIFF( LEAD( start_dttm ) OVER( PARTITION BY person_id ORDER BY start_dttm ASC), start_dttm, MONTH )\" )\n",
    "                ,inter_test_duration_cont\n",
    "            )\n",
    "    ) %>%\n",
    "    dplyr::ungroup() %>%\n",
    "    # Make any same-day tests or anomalies = NA.\n",
    "    dplyr::mutate(\n",
    "        inter_test_duration_cont = \n",
    "            dplyr::if_else(\n",
    "                inter_test_duration_cont == 0\n",
    "                ,NA_real_\n",
    "                ,inter_test_duration_cont\n",
    "            )\n",
    "    ) %>%\n",
    "    # Create a discretised version of the inter-test duration variable.\n",
    "    dplyr::mutate(\n",
    "        inter_test_duration_discr =\n",
    "            dplyr::if_else(\n",
    "                ( inter_test_duration_cont > val_testing_interval_LB ) & ( inter_test_duration_cont < val_testing_interval_UB )\n",
    "                ,\"Shorter than expected\"\n",
    "                ,\"As expected\"\n",
    "            )\n",
    "    ) %>%\n",
    "    # Make any same-day tests or anomalies = NA.\n",
    "    dplyr::mutate(\n",
    "        inter_test_duration_discr =\n",
    "             dplyr::if_else(\n",
    "                 inter_test_duration_cont == 0\n",
    "                 ,NA_character_\n",
    "                 ,inter_test_duration_discr\n",
    "             )\n",
    "    ) %>%\n",
    "    # Tidy up.\n",
    "    dplyr::filter( !is.na( inter_test_duration_cont ) ) %>%\n",
    "    arrange( person_id, start_dttm ) %>%\n",
    "    dplyr::select( c( person_id, start_dttm\n",
    "                     ,inter_test_duration_cont, inter_test_duration_discr ) ) %>% \n",
    "    dplyr::distinct()\n",
    "\n",
    "# Add the new variable to the dataframe.\n",
    "df_log_PandT_longFormat_simplified_StrataLabels <-\n",
    "    # Join the variable indicating the inter-test duration.\n",
    "    df_log_PandT_longFormat_simplified_StrataLabels %>%\n",
    "    dplyr::left_join(\n",
    "        df_inter_test_duration %>% dplyr::collect()\n",
    "        ,by = join_by( person_id, start_dttm )\n",
    "        ,relationship = \"many-to-many\"\n",
    "        # The `relationship` argument is needed because a warning is raised happens for the situations\n",
    "        # where multiple prescriptions are given on the same day.\n",
    "    ) %>%\n",
    "    # Fill in the values of the inter-test variables into subsequent rows until a new value is given.\n",
    "    dplyr::group_by( person_id ) %>%\n",
    "    dplyr::arrange( start_dttm ) %>%\n",
    "    tidyr::fill( inter_test_duration_cont ) %>%\n",
    "    tidyr::fill( inter_test_duration_discr ) %>%\n",
    "    dplyr::ungroup()"
   ]
  },
  {
   "cell_type": "markdown",
   "id": "5631cf54-2131-40fc-b872-84d33ed5d972",
   "metadata": {
    "tags": []
   },
   "source": [
    "Next, I need to make the variable that indicates whether the prescription has changed since the previous interval."
   ]
  },
  {
   "cell_type": "code",
   "execution_count": 47,
   "id": "92fbd1a4-c5c0-4adf-9dc5-ba9841a58cc5",
   "metadata": {
    "jupyter": {
     "source_hidden": true
    },
    "tags": []
   },
   "outputs": [],
   "source": [
    "df_log_PandT_longFormat_simplified_StrataLabels <-\n",
    "    df_log_PandT_longFormat_simplified_StrataLabels %>%\n",
    "    # Create new columns that contain either the test events or the prescription events.\n",
    "    dplyr::select( person_id, start_dttm, event_value, idx_test_interval ) %>%\n",
    "    dplyr::mutate(\n",
    "        tempCol_tests = dplyr::if_else( stringr::str_detect( event_value, pattern = \"Test\"), event_value, NA_character_ )\n",
    "    ) %>%\n",
    "    dplyr::mutate(\n",
    "        tempCol_prescrps = dplyr::if_else( !stringr::str_detect( event_value, pattern = \"Test\"), event_value, NA_character_ )\n",
    "    ) %>%\n",
    "    # Fill the test column until a new value is given.\n",
    "    dplyr::arrange( person_id, start_dttm ) %>%\n",
    "    tidyr::fill( tempCol_tests ) %>%\n",
    "    # Tidy away unecessary columns.\n",
    "    dplyr::select( - c( event_value, start_dttm ) ) %>%\n",
    "    # Remove repeated prescriptions within an inter-test period.\n",
    "    dplyr::distinct() %>%\n",
    "    # Pivot wider so that each row represents an inter-test period.\n",
    "    dplyr::group_by( person_id, tempCol_tests ) %>%\n",
    "    dplyr::mutate( rn = row_number() ) %>%\n",
    "    dplyr::ungroup() %>%\n",
    "    tidyr::pivot_wider(\n",
    "        names_from = rn\n",
    "        ,values_from = tempCol_prescrps\n",
    "        ) %>% \n",
    "    # List-concatonate the repeated prescriptions into one string\n",
    "    tidyr::unite(\n",
    "        col = \"meds_set\"\n",
    "        ,dplyr::select(\n",
    "            .\n",
    "            ,- c('person_id', 'tempCol_tests', 'idx_test_interval')\n",
    "        ) %>% colnames()\n",
    "        ,sep = \",\"\n",
    "        ,na.rm = TRUE\n",
    "    ) %>%\n",
    "    # Check subsequent rows for a match.\n",
    "    dplyr::group_by( person_id ) %>% \n",
    "    dplyr::mutate( prev_meds_set = lag( meds_set ) ) %>%\n",
    "    dplyr::ungroup() %>%\n",
    "    dplyr::mutate_at(\n",
    "        .vars = vars( meds_set, prev_meds_set )\n",
    "        ,.funs = funs( strsplit( ., ',') )\n",
    "    ) %>% \n",
    "    dplyr::rowwise() %>%\n",
    "    dplyr::mutate(\n",
    "        new_meds =\n",
    "            dplyr::if_else(\n",
    "                is.na( prev_meds_set[1] )\n",
    "                ,\"\",\n",
    "                toString( setdiff( meds_set, prev_meds_set ) ) \n",
    "                ) %>% nchar() != 0\n",
    "    ) %>%\n",
    "    dplyr::ungroup() %>%\n",
    "    suppressWarnings() %>%\n",
    "    # Join the `new_meds` column to the original dataframe.\n",
    "    dplyr::select( person_id, idx_test_interval, new_meds ) %>%\n",
    "    dplyr::right_join(\n",
    "        df_log_PandT_longFormat_simplified_StrataLabels\n",
    "        ,by = join_by( person_id, idx_test_interval )\n",
    "    )"
   ]
  },
  {
   "cell_type": "markdown",
   "id": "e8a5838e-4878-4cc2-b921-563cb3eaf532",
   "metadata": {},
   "source": [
    "The final step is to combine the two components of the stratification's definition into a single variable called HMA."
   ]
  },
  {
   "cell_type": "code",
   "execution_count": 48,
   "id": "2d346693-8b11-4d5a-8bf3-d7a60c406360",
   "metadata": {
    "jupyter": {
     "source_hidden": true
    },
    "tags": []
   },
   "outputs": [],
   "source": [
    "df_log_PandT_longFormat_simplified_StrataLabels <-\n",
    "    df_log_PandT_longFormat_simplified_StrataLabels %>%\n",
    "    dplyr::mutate(\n",
    "        HMA =\n",
    "            dplyr::case_when(\n",
    "                event_value == \"Unobserved\" ~ \"Unobserved\"\n",
    "\n",
    "                ,( inter_test_duration_discr == \"As expected\" & new_meds == FALSE ) ~ \"Hold\"\n",
    "                ,( inter_test_duration_discr == \"Shorter than expected\" & new_meds == FALSE ) ~ \"Monitor\"\n",
    "                ,( new_meds == TRUE ) ~ \"Adjust\"\n",
    "\n",
    "                ,TRUE ~ NA_character_\n",
    "            )\n",
    "    ) %>%\n",
    "    # Set as a factor datatype and order the factors.\n",
    "    dplyr::mutate( HMA = factor( HMA, levels = df_HMA_factor %>% dplyr::select( HMA_fct_order ) %>% dplyr::pull() ) )"
   ]
  },
  {
   "cell_type": "markdown",
   "id": "f30ec9ed-9b8e-44a6-ac34-881cb081a30b",
   "metadata": {
    "tags": []
   },
   "source": [
    "Prepare a dataset for the Generalised Estimating Equation. Keep in mind that the `test_status` variable is ordered 1 to 4 from Green to Red, and the HMA variable is ordered 1 to 3 from Hold to Adjust."
   ]
  },
  {
   "cell_type": "code",
   "execution_count": 154,
   "id": "682e32c9-6ab2-4ab1-881d-7353d31a72bf",
   "metadata": {
    "jupyter": {
     "source_hidden": true
    },
    "tags": []
   },
   "outputs": [
    {
     "data": {
      "text/html": [
       "<table class=\"dataframe\">\n",
       "<caption>A tibble: 6 × 5</caption>\n",
       "<thead>\n",
       "\t<tr><th scope=col>person_id</th><th scope=col>test_status</th><th scope=col>previous_HMA_state</th><th scope=col>rn</th><th scope=col>previous_test_status</th></tr>\n",
       "\t<tr><th scope=col>&lt;int&gt;</th><th scope=col>&lt;ord&gt;</th><th scope=col>&lt;fct&gt;</th><th scope=col>&lt;int&gt;</th><th scope=col>&lt;ord&gt;</th></tr>\n",
       "</thead>\n",
       "<tbody>\n",
       "\t<tr><td>1168</td><td>Test Status = Red   </td><td>Hold   </td><td>1</td><td>NA                 </td></tr>\n",
       "\t<tr><td>1168</td><td>Test Status = Red   </td><td>Monitor</td><td>2</td><td>Test Status = Red  </td></tr>\n",
       "\t<tr><td>1168</td><td>Test Status = Amber </td><td>Hold   </td><td>3</td><td>Test Status = Red  </td></tr>\n",
       "\t<tr><td>1243</td><td>Test Status = Yellow</td><td>Hold   </td><td>1</td><td>NA                 </td></tr>\n",
       "\t<tr><td>1619</td><td>Test Status = Green </td><td>Hold   </td><td>1</td><td>NA                 </td></tr>\n",
       "\t<tr><td>1619</td><td>Test Status = Red   </td><td>Hold   </td><td>2</td><td>Test Status = Green</td></tr>\n",
       "</tbody>\n",
       "</table>\n"
      ],
      "text/latex": [
       "A tibble: 6 × 5\n",
       "\\begin{tabular}{lllll}\n",
       " person\\_id & test\\_status & previous\\_HMA\\_state & rn & previous\\_test\\_status\\\\\n",
       " <int> & <ord> & <fct> & <int> & <ord>\\\\\n",
       "\\hline\n",
       "\t 1168 & Test Status = Red    & Hold    & 1 & NA                 \\\\\n",
       "\t 1168 & Test Status = Red    & Monitor & 2 & Test Status = Red  \\\\\n",
       "\t 1168 & Test Status = Amber  & Hold    & 3 & Test Status = Red  \\\\\n",
       "\t 1243 & Test Status = Yellow & Hold    & 1 & NA                 \\\\\n",
       "\t 1619 & Test Status = Green  & Hold    & 1 & NA                 \\\\\n",
       "\t 1619 & Test Status = Red    & Hold    & 2 & Test Status = Green\\\\\n",
       "\\end{tabular}\n"
      ],
      "text/markdown": [
       "\n",
       "A tibble: 6 × 5\n",
       "\n",
       "| person_id &lt;int&gt; | test_status &lt;ord&gt; | previous_HMA_state &lt;fct&gt; | rn &lt;int&gt; | previous_test_status &lt;ord&gt; |\n",
       "|---|---|---|---|---|\n",
       "| 1168 | Test Status = Red    | Hold    | 1 | NA                  |\n",
       "| 1168 | Test Status = Red    | Monitor | 2 | Test Status = Red   |\n",
       "| 1168 | Test Status = Amber  | Hold    | 3 | Test Status = Red   |\n",
       "| 1243 | Test Status = Yellow | Hold    | 1 | NA                  |\n",
       "| 1619 | Test Status = Green  | Hold    | 1 | NA                  |\n",
       "| 1619 | Test Status = Red    | Hold    | 2 | Test Status = Green |\n",
       "\n"
      ],
      "text/plain": [
       "  person_id test_status          previous_HMA_state rn previous_test_status\n",
       "1 1168      Test Status = Red    Hold               1  NA                  \n",
       "2 1168      Test Status = Red    Monitor            2  Test Status = Red   \n",
       "3 1168      Test Status = Amber  Hold               3  Test Status = Red   \n",
       "4 1243      Test Status = Yellow Hold               1  NA                  \n",
       "5 1619      Test Status = Green  Hold               1  NA                  \n",
       "6 1619      Test Status = Red    Hold               2  Test Status = Green "
      ]
     },
     "metadata": {},
     "output_type": "display_data"
    }
   ],
   "source": [
    "gee_dataset <-\n",
    "    df_log_PandT_longFormat_simplified_StrataLabels %>%\n",
    "    dplyr::distinct( person_id, event_value, HMA) %>%\n",
    "    dplyr::filter( stringr::str_detect( event_value, pattern = \"Test\" ) ) %>%\n",
    "    dplyr::mutate( event_value = event_value %>% droplevels() %>% ordered() ) %>%\n",
    "    dplyr::mutate( HMA = HMA %>% droplevels() ) %>%\n",
    "    dplyr::group_by( person_id ) %>%\n",
    "    dplyr::mutate( rn = row_number() ) %>%\n",
    "    dplyr::ungroup() %>%\n",
    "    dplyr::arrange( person_id, rn ) %>%\n",
    "    dplyr::group_by( person_id ) %>%\n",
    "    dplyr::rename(\n",
    "        test_status = event_value\n",
    "        ,previous_HMA_state = HMA\n",
    "    ) %>%\n",
    "    dplyr::mutate( previous_test_status = lag( test_status ) ) %>%\n",
    "    dplyr::ungroup() \n",
    "\n",
    "gee_dataset %>% head()"
   ]
  },
  {
   "cell_type": "markdown",
   "id": "98763d77-24d1-4881-9ce3-391b155d505a",
   "metadata": {},
   "source": [
    "## Specifying the parameters.\n",
    "There are several parameters that must be specified to fit the Generalised Estimating Equation:\n",
    "1. local odds ratio structure\n",
    "2. link function\n",
    "3. covariates\n",
    "4. form of covariate"
   ]
  },
  {
   "cell_type": "markdown",
   "id": "62bcc7d8-f028-4c7f-9cae-0fd4e95540aa",
   "metadata": {},
   "source": [
    "### 1. Choosing the local odds ratio structure.\n",
    "The local odds ratio structure is the equivalent of the covariance structure in a standard GEE. That is to say, the local odds ratio structure sets up what I assume to be the dependency / association between the repeated observations. Repeated observations are grouped into 'blocks' - in our case, based on `person_id` - and then we have to decide:\n",
    "1. how we assume the repeated observations of the variate (i.e. `test_status`) relate to each other; and\n",
    "2. how the levels of the variate (i.e. {Red, Amber, Yellow, Green}) at each observation timepoint relate to each other.\n",
    "\n",
    "Following Occam's razor, it's best to choose the simplist local odds ratio stucture that still represents the dependencies / associations between the difference levels of the variate at the repeated observation timepoints. The authors of the `multgee::ordLORgee()` function that I am using suggest that one should start by checking the range of the intrinsic parameters for the dataset. If the range is less than two, then I am probbably safe to set the local odd ratio structure to `\"uniform\"`, which would assume that the dependency / assocation between levels of the variate are all the same at all observation timepoints. (Note: An intrinsic parameter is a unitless measure of association inherent to the construction of local odds ratios. There is an intrinsic parameter for every adjacent 2-by-2 table that compares levels of the variate at between successive observation timepoints).\n",
    "\n",
    "The range of the intrinsic parameters in our dataset is shown below."
   ]
  },
  {
   "cell_type": "code",
   "execution_count": 54,
   "id": "fb079d01-2d72-499e-82cd-0f46a9e47a36",
   "metadata": {
    "jupyter": {
     "source_hidden": true
    },
    "tags": []
   },
   "outputs": [
    {
     "name": "stderr",
     "output_type": "stream",
     "text": [
      "Warning message:\n",
      "“glm.fit: fitted rates numerically 0 occurred”\n"
     ]
    },
    {
     "data": {
      "text/html": [
       "10.8793206482873"
      ],
      "text/latex": [
       "10.8793206482873"
      ],
      "text/markdown": [
       "10.8793206482873"
      ],
      "text/plain": [
       "[1] 10.87932"
      ]
     },
     "metadata": {},
     "output_type": "display_data"
    }
   ],
   "source": [
    "ips <-\n",
    "multgee::intrinsic.pars(\n",
    "                        y = gee_dataset$test_status\n",
    "                         ,data = gee_dataset\n",
    "                         ,id = person_id\n",
    "                         ,repeated = rn\n",
    "                         ,rscale = \"ordinal\"\n",
    "                         )\n",
    "max( ips ) - min( ips )"
   ]
  },
  {
   "cell_type": "markdown",
   "id": "9c006314-dba1-4946-9e28-412ad4fe1430",
   "metadata": {},
   "source": [
    "The range of the intrinsic parameters is much greater than 2, so it is probably not appropriate to fit the local odds ratios structure as `\"uniform\"`. \n",
    "\n",
    "I fit the GEE using all structures that are available in the `multgee::ordLORgee()` function, and found that the local odds ratios all land around 1.00. The GEE coefficients also don't differ to any meaningful degree depending on the local odds ratio structure that is assumed. Therefore, I conclude that the choice of local odds ratio structure is not important in my case (In fact, the premise of the local-odds-ratio approach to GEEs is that the local odds ratios are nuisance parameters, so I shouldn't expect much insight from them, anyway).\n",
    "\n",
    "Ultimately, I choose the `\"time.exch\"` local odds ratio structure because I think it is appropriate to assume the associations between levels of the variate are consistent over repeated observations, but that those associations are permitted to different for each pair of levels being compared. For example, the association between whether a patient's record indicated `Test Status = Green` or `Test Status = Yellow` at timepoints t1 and t2 is the same as the association at timepoints t2 and t3, but the value of the association can be different for the comparison between `Test Status = Amber` and `Test Status = Red`. My justification comes from the consistency in the proportion of transitions between test-status values, as seen in the Sankey plots from the ClearPath studies. To be clear, the `\"time.exch\"` structure assumes that there is a dependency / assocation between successive observations, and that the dependency / association is the same for every pair of antecedent and subsequent (similar to a Markov model).\n",
    "\n",
    "I would have preferred to have set the `\"independence\"` local odds ratio structure, which would have permitted the odds ratios to vary between both variate level comparisons and timepoints, but the local odds ratios that are returned by the `multgee::ordLORgee()` function are all the same and all equal '1' exactly with no decimal places, suggesting improper estimation. This seems pathological and might be a sign of the convergence problems identified by the authors with the `\"independence\"` local odds ratio structure (see the second-to-last paragraph of section 6 in [Touloumis (2015)](https://www.jstatsoft.org/article/view/v064i08)). The `\"time.exch\"` local odds ratio structure provides plausible estimates that do not differ much from the '1' value provided by the `\"independence\"` local odds ratio structure.\n",
    "\n",
    "(For future versions of this study, I might define my own, bespoke local odds ratio structure.)"
   ]
  },
  {
   "cell_type": "markdown",
   "id": "67a9d3ce-6161-4287-abc1-e493e6e9c553",
   "metadata": {},
   "source": [
    "### 2. Choosing the link function.\n",
    "The most-common choice of link function for ordinal multinomial regression models is the cumulative logit link. For my case of a variate with four levels, the cumulative logit link function would compute the population averages for:\n",
    "\n",
    "$$log\\left(\\frac{P(test\\_status = Red)}{P(test\\_status = \\{Amber\\ or\\ Yellow\\ or\\ Green\\})}\\right)$$\n",
    "\n",
    "$$log\\left(\\frac{P(test\\_status = \\{Red\\ or\\ Amber\\})}{P(test\\_status = \\{Yellow\\ or\\ Green\\})}\\right)$$\n",
    "\n",
    "$$log\\left(\\frac{P(test\\_status = \\{Red\\ or\\ Amber\\ or\\ Yellow\\})}{P(test\\_status = Green)}\\right)$$\n",
    "\n",
    "Note that the comparison (i.e. what is above and below the line) is between every variate level either side of a different threshold.\n",
    "\n",
    "In contrast, the adjacent category logit compares each variate level with its adjacent level, only:\n",
    "\n",
    "$$log\\left(\\frac{P(test\\_status = Red)}{P(test\\_status = Amber)}\\right)$$\n",
    "\n",
    "$$log\\left(\\frac{P(test\\_status = Amber)}{P(test\\_status = Yellow)}\\right)$$\n",
    "\n",
    "$$log\\left(\\frac{P(test\\_status = Yellow)}{P(test\\_status = Green)}\\right)$$\n",
    "\n",
    "I choose the adjacent category logit because I am interested in the population averages for the specific comparisons of variate levels."
   ]
  },
  {
   "cell_type": "markdown",
   "id": "244a3eb4-df7e-4b82-ba9c-90bf04bdf676",
   "metadata": {},
   "source": [
    "### 3. Choosing the covariates.\n",
    "It is crucial for unbiased inference that confounding bias is mitigated and collider bias is not induced. I use a directed acyclic graph to present my hypothesised map of how the variables associated with my research question relate to each other. From this graph, I can identify what covariates are required to mitigate confounding bias and mitigate contamination from unintentional collider bias.\n",
    "\n",
    "The R syntax below defines the directed acyclic graph and then outputs the list of covariates that are needed to mitigate bias in the modelling of the association between test status and the previous HMA state."
   ]
  },
  {
   "cell_type": "code",
   "execution_count": 141,
   "id": "09be2db9-9dde-440b-90a4-498d1488813d",
   "metadata": {
    "jupyter": {
     "source_hidden": true
    },
    "tags": []
   },
   "outputs": [
    {
     "name": "stdout",
     "output_type": "stream",
     "text": [
      "{ test_status_tminus1 }\n"
     ]
    }
   ],
   "source": [
    "GEE_dag <- dagitty::dagitty('\n",
    "dag {\n",
    "bb=\"0,0,1,1\"\n",
    "D_tminus3 [latent,pos=\"0.097,0.331\"]\n",
    "D_tminus2 [latent,pos=\"0.290,0.346\"]\n",
    "D_tminus1 [latent,pos=\"0.507,0.348\"]\n",
    "D [latent,pos=\"0.729,0.342\"]\n",
    "HMA_tminus2 [pos=\"0.377,0.892\"]\n",
    "HMA_tminus1 [exposure,pos=\"0.618,0.894\"]\n",
    "HMA [pos=\"0.834,0.890\"]\n",
    "Rx_tminus3 [pos=\"0.178,0.499\"]\n",
    "Rx_tminus2 [pos=\"0.375,0.507\"]\n",
    "Rx_tminus1 [pos=\"0.614,0.499\"]\n",
    "Rx [pos=\"0.836,0.516\"]\n",
    "test_status_tminus3 [pos=\"0.101,0.132\"]\n",
    "test_status_tminus2 [pos=\"0.290,0.121\"]\n",
    "test_status_tminus1 [adjusted,pos=\"0.512,0.113\"]\n",
    "test_status [outcome,pos=\"0.728,0.113\"]\n",
    "dT_tminus3 [pos=\"0.174,0.692\"]\n",
    "dT_tminus2 [pos=\"0.378,0.694\"]\n",
    "dT_tminus1 [pos=\"0.609,0.701\"]\n",
    "dT [pos=\"0.837,0.711\"]\n",
    "D_tminus3 -> D_tminus2\n",
    "D_tminus3 -> Rx_tminus3\n",
    "D_tminus3 -> dT_tminus3\n",
    "D_tminus2 -> D_tminus1\n",
    "D_tminus2 -> Rx_tminus2\n",
    "D_tminus2 -> dT_tminus2\n",
    "D_tminus1 -> D\n",
    "D_tminus1 -> Rx_tminus1\n",
    "D_tminus1 -> dT_tminus1\n",
    "D -> Rx\n",
    "D -> dT\n",
    "Rx_tminus3 -> D_tminus2\n",
    "Rx_tminus3 -> HMA_tminus2\n",
    "Rx_tminus2 -> D_tminus1\n",
    "Rx_tminus2 -> HMA_tminus2\n",
    "Rx_tminus2 -> HMA_tminus1\n",
    "Rx_tminus1 -> D\n",
    "Rx_tminus1 -> HMA_tminus1\n",
    "Rx_tminus1 -> HMA\n",
    "Rx -> HMA\n",
    "test_status_tminus3 -> D_tminus3\n",
    "test_status_tminus3 -> test_status_tminus2\n",
    "test_status_tminus2 -> D_tminus2\n",
    "test_status_tminus2 -> test_status_tminus1\n",
    "test_status_tminus1 -> D_tminus1\n",
    "test_status_tminus1 -> test_status\n",
    "test_status -> test_status\n",
    "dT_tminus3 -> HMA_tminus2\n",
    "dT_tminus2 -> HMA_tminus1\n",
    "dT_tminus1 -> HMA\n",
    "}\n",
    "')\n",
    "print( dagitty::adjustmentSets( GEE_dag, exposure = \"HMA\", outcome = \"test_status\", effect = \"total\" ) )"
   ]
  },
  {
   "cell_type": "markdown",
   "id": "01d33510-0cf4-477a-a651-6d7a16cdb0bb",
   "metadata": {},
   "source": [
    "The results show that I only need to include the immediately-preceding test_status as a covariate, in addition to my exposure covariate.\n",
    "\n",
    "But, the covariate assessment is only valid if the hypothesised graph is valid. The following R syntax details the testable statistical implications of my graph, which would need to be true if my graph were valid."
   ]
  },
  {
   "cell_type": "code",
   "execution_count": 147,
   "id": "60b4069d-3dde-43ac-a908-503487789df2",
   "metadata": {
    "jupyter": {
     "source_hidden": true
    },
    "tags": []
   },
   "outputs": [
    {
     "name": "stdout",
     "output_type": "stream",
     "text": [
      "[1] \"There are 64 testable implications.\"\n"
     ]
    }
   ],
   "source": [
    "testable_implications <- dagitty::impliedConditionalIndependencies( GEE_dag )\n",
    "print( paste0( \"There are \", testable_implications %>% length(), \" testable implications.\" ) )"
   ]
  },
  {
   "cell_type": "code",
   "execution_count": null,
   "id": "0030b83e-f039-4c3f-baf2-2eb8c9693a93",
   "metadata": {},
   "outputs": [],
   "source": [
    "###### TEST THE TESTABLE IMPLICATIONS"
   ]
  },
  {
   "cell_type": "markdown",
   "id": "4a4679b0-79a4-40f7-b21d-d1172396fe60",
   "metadata": {},
   "source": [
    "### 4. Form of covariates.\n",
    "Now that I have identified my covariates, I need to choose how best to represent that covariate in the GEE.\n",
    "\n",
    "Both covariates `previous_HMA_status` and `previous_test_status` are ordinal factors. I could represent them as numeric covariates, which would provide a single coefficient for me to interpret the population-averaged log-odds test-status values. The caveat is that this coefficient represents the population-averaged log-odds corresponding to a 1-unit difference in the covariate, on average, so:\n",
    "1. I can't if there are differences between any particular pairing of the covariate levels (e.g. Hold-vs-Monitor compare to Monitor-vs-Adjust),\n",
    "2. I can't know about greater-than-1-unit changes (e.g. Hold-vs-Adjust, which skips the Monitor level), and\n",
    "3. technically, the coefficient applies to nonsensical values of the covariate beyond the numeric range that don't exist (e.g. Hold = 1 but the coefficient is averaged of values up to infinity for which there is no HMA state).\n",
    "\n",
    "The alternative is to represent the covariates with dummy encoding. The benefit is that each coefficient can be interpreted as the population-averaged log-odds of the test-status value comparing specific pairs of levels of the covariate. Specifically, each dummy variable encodes the log-odds for comparison to a reference value. The disadvantage of this representation is that I will have to run multple estimations with different the reference values to estimate the population-averaged log-odds for all possible pairs of levels of the covariate.\n",
    "\n",
    "Based on these considerations:\n",
    "1. I will use the dummy encoding for the exposure covariate, so that I can estimate pair-specific specific population-averaged log-odds.\n",
    "2. I will use the dummy encoding for the confounding-adjustment covariate, because this is the lagged-by-1 variate value that is already being represented non-numerically."
   ]
  },
  {
   "cell_type": "markdown",
   "id": "0cd9d6f5-b29e-4bbc-991d-b19a2f2359d8",
   "metadata": {},
   "source": [
    "## Fit the model.\n",
    "I want to estimate the following population-averaged log-odds for the `previous_HMA_state` covariate:\n",
    "1. Hold-vs-Monitor (Hold as reference)\n",
    "2. Hold-vs-Adjust (Hold as reference)\n",
    "3. Monitor-vs-Adjust (Monitor as Monitor)\n",
    "\n",
    "Odds are symmetrical, so estimating these three log-odds means I immediately know the opposite odds. For example, if the odds ratio for Hold-vs-Monitor (Hold as reference is 1.2, then this means that the Monitor state is 1.2-times the odds of the Hold state AND that the Hold state is approximately 0.8-times the odds of the Monitor state.\n",
    "\n",
    "To estimate these coefficients, I need to run the same GEE specification but:\n",
    "1. GEE_holdAsReferenceLevel will have Hold as the reference level in `previous_HMA_state`, and \n",
    "2. GEE_monitorAsReferenceLevel will have Monitor as the reference level in `previous_HMA_state`."
   ]
  },
  {
   "cell_type": "code",
   "execution_count": 257,
   "id": "c011bc23-7418-4678-a35c-b1bf5245f3c4",
   "metadata": {
    "jupyter": {
     "source_hidden": true
    },
    "tags": []
   },
   "outputs": [],
   "source": [
    "GEE_holdAsReferenceLevel <-\n",
    "multgee::ordLORgee(\n",
    "        formula = test_status ~ previous_HMA_state + previous_test_status\n",
    "        ,link = \"acl\"\n",
    "        ,id = person_id\n",
    "        ,repeated = rn\n",
    "        ,data = gee_dataset %>% \n",
    "                    dplyr::mutate(\n",
    "                        previous_HMA_state = relevel( as.factor( previous_HMA_state ), ref = 1 )\n",
    "                    )\n",
    "        ,LORstr = \"time.exch\"\n",
    "    )\n",
    "GEE_holdAsReferenceLevel_odds <- GEE_holdAsReferenceLevel %>% coef() %>% exp()\n",
    "GEE_holdAsReferenceLevel_probs <- 1 / (1 + (GEE_holdAsReferenceLevel %>% coef() %>% exp()))\n",
    "\n",
    "\n",
    "GEE_monitorAsReferenceLevel <-\n",
    "multgee::ordLORgee(\n",
    "        formula = test_status ~ previous_HMA_state + previous_test_status\n",
    "        ,link = \"acl\"\n",
    "        ,id = person_id\n",
    "        ,repeated = rn\n",
    "        ,data = gee_dataset %>% \n",
    "                    dplyr::mutate(\n",
    "                        previous_HMA_state = relevel( as.factor( previous_HMA_state ), ref = 2 )\n",
    "                    )\n",
    "        ,LORstr = \"time.exch\"\n",
    "    )\n",
    "GEE_monitorAsReferenceLevel_odds <- GEE_monitorAsReferenceLevel %>% coef() %>% exp()\n",
    "GEE_monitorAsReferenceLevel_probs <- 1 / (1 + (GEE_monitorAsReferenceLevel %>% coef() %>% exp()))"
   ]
  },
  {
   "cell_type": "markdown",
   "id": "b727f7c0-0dc1-4c95-a882-4ccfd2399db6",
   "metadata": {
    "tags": []
   },
   "source": [
    "## Checking the generalisability of the GEEs.\n",
    "We need to check two p-values to understand whether our estimates are generalisable to our study population or limited to our sample.\n",
    "\n",
    "The first is the p-value for the GEE, overall. If the p-value of the GEE is not statistically significant, then we infer that the spread of the observed data is such that none of our estimated differences in odds would are likely be found in the study population beyond our sample (even though it is the observed difference in odds within our sample). More data would need collecting or the model would need respecifying.\n",
    "\n",
    "If the p-value of the GEE is statistically significant, then we proceed to review the estimated coefficients.\n",
    "\n",
    "The second p-value(s)  is for the estimate of the previous HMA state.  The covariate `previous_HMA_state` is dummy coded so it has two coefficients, and thus, we have to review two p-values. If the coefficients are statistically significant, then we infer that it is likely that a difference in odds at least as large as we estimated would be found in the study population beyond our sample.\n",
    "\n",
    "If coefficient is not statistically significant, then we infer that the spread of the observed data is such that the estimated odds ratios are statistically similar to equality, i.e. it is unlikely that a difference in odds at least as large as we estimated would be found in the study population beyond our sample (even though it is the observed difference in odds within our sample).\n",
    "\n",
    "If we have found that both the GEE and a particular coefficient are statistically significant, then our concluding statements can be presented as inferences about the study population; if not, then our concluding statements must be presented as descriptions about the study sample.\n",
    "\n",
    "The p-values are presented below."
   ]
  },
  {
   "cell_type": "code",
   "execution_count": 178,
   "id": "ec0a903e-74c6-4637-bac9-80988d688fd3",
   "metadata": {
    "jupyter": {
     "source_hidden": true
    },
    "tags": []
   },
   "outputs": [
    {
     "name": "stdout",
     "output_type": "stream",
     "text": [
      "[1] \"GEE_holdAsReferenceLevel\"\n"
     ]
    },
    {
     "data": {
      "text/html": [
       "<style>\n",
       ".dl-inline {width: auto; margin:0; padding: 0}\n",
       ".dl-inline>dt, .dl-inline>dd {float: none; width: auto; display: inline-block}\n",
       ".dl-inline>dt::after {content: \":\\0020\"; padding-right: .5ex}\n",
       ".dl-inline>dt:not(:first-of-type) {padding-left: .5ex}\n",
       "</style><dl class=dl-inline><dt>1</dt><dd>'&lt; 0.0001'</dd><dt>previous_HMA_stateMonitor</dt><dd>'&lt; 0.0001'</dd><dt>previous_HMA_stateAdjust</dt><dd>'&lt; 0.0001'</dd></dl>\n"
      ],
      "text/latex": [
       "\\begin{description*}\n",
       "\\item[1] '< 0.0001'\n",
       "\\item[previous\\textbackslash{}\\_HMA\\textbackslash{}\\_stateMonitor] '< 0.0001'\n",
       "\\item[previous\\textbackslash{}\\_HMA\\textbackslash{}\\_stateAdjust] '< 0.0001'\n",
       "\\end{description*}\n"
      ],
      "text/markdown": [
       "1\n",
       ":   '&lt; 0.0001'previous_HMA_stateMonitor\n",
       ":   '&lt; 0.0001'previous_HMA_stateAdjust\n",
       ":   '&lt; 0.0001'\n",
       "\n"
      ],
      "text/plain": [
       "                          previous_HMA_stateMonitor  previous_HMA_stateAdjust \n",
       "               \"< 0.0001\"                \"< 0.0001\"                \"< 0.0001\" "
      ]
     },
     "metadata": {},
     "output_type": "display_data"
    },
    {
     "name": "stdout",
     "output_type": "stream",
     "text": [
      "[1] \"GEE_monitorAsReferenceLevel\"\n"
     ]
    },
    {
     "data": {
      "text/html": [
       "<style>\n",
       ".dl-inline {width: auto; margin:0; padding: 0}\n",
       ".dl-inline>dt, .dl-inline>dd {float: none; width: auto; display: inline-block}\n",
       ".dl-inline>dt::after {content: \":\\0020\"; padding-right: .5ex}\n",
       ".dl-inline>dt:not(:first-of-type) {padding-left: .5ex}\n",
       "</style><dl class=dl-inline><dt>1</dt><dd>'&lt; 0.0001'</dd><dt>previous_HMA_stateHold</dt><dd>'&lt; 0.0001'</dd><dt>previous_HMA_stateAdjust</dt><dd>'&lt; 0.0001'</dd></dl>\n"
      ],
      "text/latex": [
       "\\begin{description*}\n",
       "\\item[1] '< 0.0001'\n",
       "\\item[previous\\textbackslash{}\\_HMA\\textbackslash{}\\_stateHold] '< 0.0001'\n",
       "\\item[previous\\textbackslash{}\\_HMA\\textbackslash{}\\_stateAdjust] '< 0.0001'\n",
       "\\end{description*}\n"
      ],
      "text/markdown": [
       "1\n",
       ":   '&lt; 0.0001'previous_HMA_stateHold\n",
       ":   '&lt; 0.0001'previous_HMA_stateAdjust\n",
       ":   '&lt; 0.0001'\n",
       "\n"
      ],
      "text/plain": [
       "                           previous_HMA_stateHold previous_HMA_stateAdjust \n",
       "              \"< 0.0001\"               \"< 0.0001\"               \"< 0.0001\" "
      ]
     },
     "metadata": {},
     "output_type": "display_data"
    }
   ],
   "source": [
    "print(\"GEE_holdAsReferenceLevel\")\n",
    "pval_extraction <- summary( GEE_holdAsReferenceLevel ) %>% `[`( c(\"pvalue\", \"coefficients\"))\n",
    "pval_model <- pval_extraction$pvalue %>% as.numeric()\n",
    "pval_coeffs <- pval_extraction$coefficients[ c('previous_HMA_stateMonitor', 'previous_HMA_stateAdjust'), 'Pr(>|san.z|)']\n",
    "pvals <- c(pval_model, pval_coeffs)\n",
    "ifelse( pvals < 0.0001, \"< 0.0001\", pvals)\n",
    "\n",
    "print(\"GEE_monitorAsReferenceLevel\")\n",
    "pval_extraction <- summary( GEE_monitorAsReferenceLevel ) %>% `[`( c(\"pvalue\", \"coefficients\"))\n",
    "pval_model <- pval_extraction$pvalue %>% as.numeric()\n",
    "pval_coeffs <- pval_extraction$coefficients[ c('previous_HMA_stateHold', 'previous_HMA_stateAdjust'), 'Pr(>|san.z|)']\n",
    "pvals <- c(pval_model, pval_coeffs)\n",
    "ifelse( pvals < 0.0001, \"< 0.0001\", pvals)"
   ]
  },
  {
   "cell_type": "markdown",
   "id": "a84ab227-3fd0-450f-8691-fd96f67a4e88",
   "metadata": {},
   "source": [
    "All p-values are lower than the default level of signficance (alpha = 0.05). Specifically, the GEEs output suggests that:\n",
    "- there is less than a 1 in 10,000 chance that either GEE's coefficients are all compatible with them truly being zero.\n",
    "- there is less than a 1 in 10,000 chance that any of the coefficients of interest are compatible with it truly being zero.\n",
    "\n",
    "Since these probabilities are so low, I consider it reasonable to assume the coefficients are not truly zero. And if they are not truly zero, then the estimates from our sample are our best population estimates, for now."
   ]
  },
  {
   "cell_type": "markdown",
   "id": "454080ed-cdc5-4cfa-9bc9-2d7a90eb09c6",
   "metadata": {},
   "source": [
    "### Presenting the estimated population-averaged means.\n",
    "The GEEs estimate the population-averaged log-odds of test-status values, conditional on the previous test-status value and on the previous HMA state. A simple transformation provides probabilities rather than odds, for each of the HMA states. The result, shown below, is a plot of the probability of each test-status value, accounting for the covariates, for each of the value of the previous HMA state."
   ]
  },
  {
   "cell_type": "code",
   "execution_count": 359,
   "id": "62b4270d-70fa-4285-8c05-530efaa753cc",
   "metadata": {
    "jupyter": {
     "source_hidden": true
    },
    "tags": []
   },
   "outputs": [],
   "source": [
    "newdata_holdAsReferenceLevel <- expand.grid(\n",
    "    previous_HMA_stateMonitor = c(0,1)\n",
    "    ,previous_HMA_stateAdjust = c(0,1)\n",
    "    ,previous_test_status.L = c(0,1)\n",
    "    ,previous_test_status.Q = c(0,1)\n",
    "    ,previous_test_status.C = c(0,1)\n",
    ")\n",
    "intercepts_holdAsReferenceLevel <-\n",
    "    GEE_holdAsReferenceLevel %>%\n",
    "    coef() %>%\n",
    "    `[`( 1:3 ) \n",
    "covars_holdAsReferenceLevel <-\n",
    "    GEE_holdAsReferenceLevel %>%\n",
    "    coef() %>%\n",
    "    `[`( 4:length( . ) ) %>%\n",
    "    `*`( newdata_holdAsReferenceLevel ) %>%\n",
    "    rowSums()\n",
    "# Red: use the reciprocal of the RedToAmber intercept, plus the covariate because reciprocating makes Red = 1 and Amber = 0.\n",
    "preds_Red <- exp( -intercepts_holdAsReferenceLevel[1] + covars_holdAsReferenceLevel ) / ( 1 + exp( -intercepts_holdAsReferenceLevel[1] + covars_holdAsReferenceLevel ) )\n",
    "# Amber: use RedToAmber intercept, plus covariates because Red = 0 and Amber = 1.\n",
    "preds_Amber <- exp( intercepts_holdAsReferenceLevel[1] + covars_holdAsReferenceLevel ) / ( 1 + exp( intercepts_holdAsReferenceLevel[1] + covars_holdAsReferenceLevel ) )\n",
    "# Yellow: use AmberToYellow intercept, plus covariates because Amber = 0 and Yellow = 1.\n",
    "preds_Yellow <- exp( intercepts_holdAsReferenceLevel[2] + covars_holdAsReferenceLevel ) / ( 1 + exp( intercepts_holdAsReferenceLevel[2] + covars_holdAsReferenceLevel ) )\n",
    "# Green: use YellowToGreen intercept, plus covariates because Yellow = 0 and Green = 1.\n",
    "preds_Green <- 1 - ( exp( intercepts_holdAsReferenceLevel[3] + covars_holdAsReferenceLevel ) / ( 1 + exp( intercepts_holdAsReferenceLevel[3] + covars_holdAsReferenceLevel ) ) )\n",
    "preds <- dplyr::bind_cols(\n",
    "    preds_Red = preds_Red\n",
    "    ,preds_Amber = preds_Amber\n",
    "    ,preds_Yellow = preds_Yellow\n",
    "    ,preds_Green = preds_Green\n",
    "    ,HMA_number = newdata_holdAsReferenceLevel %>%\n",
    "                    dplyr::transmute(\n",
    "                        HMA_state = dplyr::case_when(\n",
    "                            previous_HMA_stateMonitor == 0 & previous_HMA_stateAdjust == 0 ~ 'Hold'\n",
    "                            ,previous_HMA_stateMonitor == 1 & previous_HMA_stateAdjust == 0 ~ 'Monitor'\n",
    "                            ,previous_HMA_stateMonitor == 0 & previous_HMA_stateAdjust == 1 ~ 'Adjust'\n",
    "\n",
    "                            ,TRUE ~ NA\n",
    "                        )\n",
    "                    )\n",
    ") %>%\n",
    "tidyr::drop_na() %>%\n",
    "pivot_longer(\n",
    "    cols = !HMA_state\n",
    "    ,names_to = \"intercept\"\n",
    "    ,values_to = \"Estimation\"\n",
    ") %>%\n",
    "dplyr::group_by( HMA_state, intercept ) %>%\n",
    "dplyr::mutate(\n",
    "    grp_avg = mean( Estimation )\n",
    ") %>%\n",
    "dplyr::ungroup() %>%\n",
    "# Make `intercept` into a factor and order it.\n",
    "dplyr::mutate(\n",
    "    intercept = factor( intercept,  levels = c( 'preds_Red', 'preds_Amber', 'preds_Yellow', 'preds_Green' ) )\n",
    ") %>%\n",
    "dplyr::mutate(\n",
    "    HMA_state = factor( HMA_state,  levels = c( 'Hold', 'Monitor', 'Adjust' ) )\n",
    ") %>%\n",
    "dplyr::arrange( intercept, HMA_state )"
   ]
  },
  {
   "cell_type": "code",
   "execution_count": 372,
   "id": "d244d015-b210-4d69-aa33-021b742f13b4",
   "metadata": {
    "jupyter": {
     "source_hidden": true
    },
    "tags": []
   },
   "outputs": [
    {
     "data": {
      "image/png": "[encoded data removed]",
      "text/plain": [
       "plot without title"
      ]
     },
     "metadata": {
      "image/png": {
       "height": 600,
       "width": 600
      }
     },
     "output_type": "display_data"
    }
   ],
   "source": [
    "options( repr.plot.width = 6, repr.plot.height = 6, repr.plot.res = 200 )\n",
    "\n",
    "preds %>%\n",
    "ggplot( aes( x = HMA_state, colour = intercept ) ) +\n",
    "geom_point( aes( y = grp_avg ), size = 10 ) +\n",
    "scale_colour_manual(\n",
    "    values =\n",
    "        df_event_factor %>%\n",
    "        dplyr::select( event_colours_order ) %>%\n",
    "        droplevels() %>%\n",
    "        dplyr::pull()\n",
    ") +\n",
    "labs(\n",
    "    title = \"Probability of each test-status value\\ngiven the previous HMA state.\"\n",
    "    ,subtitle = paste0(\n",
    "        \"Note: \\n\"\n",
    "        ,\"\\u2022 Regardles of previous HMA state, a Red test status is always\\nmost likely, followed by Yellow, Amber, then Green.\\n\"\n",
    "        ,\"\\u2022 The Adjust state shows the greatest range between Red and Green,\\nand Hold shows the least.\"\n",
    "        )\n",
    "    ,x = \"Previous H.M.A. state\"\n",
    ") +\n",
    "scale_y_continuous( labels = scales::percent_format(), limits = c( 0, 1 ) ) +\n",
    "theme_minimal() +\n",
    "theme(\n",
    "    title = element_text( size = 15 )\n",
    "    ,axis.title.x = element_text( size = 12 )\n",
    "    ,axis.title.y = element_blank()\n",
    "    ,plot.subtitle = element_text( size = 10 )\n",
    "    ,plot.caption = ggtext::element_markdown( size = 10, hjust = 0 )\n",
    "    ,legend.title = element_blank()\n",
    "    ,legend.position = 'none'\n",
    "    ,axis.text = element_text( size = 15 )\n",
    ")"
   ]
  }
 ],
 "metadata": {
  "environment": {
   "kernel": "ir",
   "name": ".m115",
   "type": "gcloud",
   "uri": "gcr.io/deeplearning-platform-release/:m115"
  },
  "kernelspec": {
   "display_name": "R",
   "language": "R",
   "name": "ir"
  },
  "language_info": {
   "codemirror_mode": "r",
   "file_extension": ".r",
   "mimetype": "text/x-r-source",
   "name": "R",
   "pygments_lexer": "r",
   "version": "4.3.2"
  }
 },
 "nbformat": 4,
 "nbformat_minor": 5
}
