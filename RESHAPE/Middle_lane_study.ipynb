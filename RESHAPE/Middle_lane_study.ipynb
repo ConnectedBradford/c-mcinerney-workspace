{
 "cells": [
  {
   "cell_type": "markdown",
   "id": "e8f6c2a9-ecd9-40ca-b972-592bad6961e5",
   "metadata": {},
   "source": [
    "# The \"middle-lane\" study.\n",
    "\n",
    "This study is based on the metaphor that there are some patients that are happily cruising along with their healthcare (left laners), there are some patients whose treatment has escalated in terms of frequency of clinical events or changes in treatment (right laners), and there are some patients who demonstrated a small degree of escalation but have not committed to further escalation or to returning to cruising (middle-lane hoggers). In this metaphor, a movement from the middle lane to the left lane is interpretted as a successful escalation that returns the patient to (conditionally and subjective) control of their condition; a movement from the middle lane to the right lane is interpretted as a decisive action to further escalate the patient's care because their condition has not been controlled by the previous escalation. It's assumed that middle-lane hoggers are examples of operational inefficiency, unimproved patient outcomes, and a patient whose care is in limbo.\n",
    "\n",
    "The motivating question is whether coercing the middle-lane hoggers into the left or right lanes would improve operational efficiency and patient outcomes (Note: The third pillar - patient experience - is not something we can measure with routinely-collected data). THe details of _how_ a patient might justifiably be moved out of the middle lane is not the focus of this study. Instead, we are asking what would happen to outcomes of interest if all patients were like those who entered and then shortly exited the middle lane; a healthcare service in which patients aren't stuck in limbo.\n",
    "\n",
    "## The purpose of this notebook.\n",
    "This notebook describes a casual-inference study in which I estimate the \"effect of treatment on the untreated\", which is a statistical estimand that quantifies the effect of treatment on those who were not treated by borrowing information from those who were treated, rather than relying solely on information about those who were untreated. For this study, \"treatment\" refers to coercing a patient out of the middle lane into either the left or right lanes.\n",
    "\n",
    "## My estimand: The effect of treatment on the treated.\n",
    "The effect on an outcome (Y) of treatment on the untreated (ETU) for a binary intervention ($X \\in \\{x_0 = hogger, x_1 = switcher\\}$) can be summarised as:\n",
    "\n",
    "$$ETU_{x_0,x_1}(Y)=E[y|X=x_0] - E[Y=y_{X=x_1}|X=x_0]$$\n",
    "\n",
    "The ETU can be read as the difference between the observed average HbA1c of those who are middle-lane hoggers, and the unobserved HbA1c of those who are middle-lane hoggers if they were lane switchers.\n",
    "\n",
    "The term $X=x_0$ means \"_the treatment value is $x_0=hogger$_\", and similarly for $X=x_1=switcher$. The term $Y=y_{X=x_0}$ means \"_the HbA1c value when the treatment value is $x_0=hoggers$_\". These quantities are directly summarisable from our observations of middle-lane hoggers. On the other hand, the $(Y=y_{X=x_1}|X=x_0)$ term is our counterfactual that is not directly summarisable from our observations of either middle-lane hoggers or switchers. It can be read as \"_the HbA1c value we $\\underline{would}$ observe if the treatment were $X=x_1=switcher$, given that we know the treatment was $X=x_0=hogger$_\". Quantifying this term seems impossible given that we can only observed one of these scenarios.\n",
    "\n",
    "## The fundamental problem of causal inference.\n",
    "Succinctly, the fundamental problem of causal inference is that we only observe what _actually happened_ so we can never be completely sure about would _would have happened_ if we did something different. At the moment of our intervening in, say, a binary decision, each option leads to only one of two potential outcomes. To quantify a causal effect, we would need to simultaneously observed both potential outcomes and calculate their difference, but this is impossible.\n",
    "\n",
    "To get around this fundamental problem, the craft of causal inference is to impute the missing value of the potential outcome that we did not observe, as accurately and precisely as possible (i.e. with the least bias and least residual error as possible).\n",
    "\n",
    "## My proposed remedy to the fundamental problem.\n",
    "In the case of my estimand (the effect of treatment on the untreated), I must estimate the counterfactual described by $P(Y=y_{X=x_1}|X=x_0)$ using only observed data. In other words, I need to impute to unobserved potential outcome where those who hogged the middle lane switched lanes.\n",
    "\n",
    "Of all the methods that could be used to impute this missing quantity, I choose an approach similar to the X-learner described in [Kunzel et al. (2018)](https://www.pnas.org/doi/epdf/10.1073/pnas.1804597116). Specifically, I will impute the missing quantity by fitting a regression model using observations of patients who _switched out of_ the middle lane, and use this model to \"predict\" the outcome values for patients who _hogged_ the middle lane. The model based on switchers gives me a way to retrieve $P(Y=y_{X=x_1}|\\cdot)$. Feeding the observations of hoggers into this model sets the context of the predictions to $P(\\cdot|X=x_0)$. Combined, I get $P(Y=y_{X=x_1}|X=x_0)$.\n",
    "\n",
    "It must be noted that that this approach to imputing the missing potential outcome value assumes that hoggers and switchers are exchangeable if they share the same covariate values. Thus, this approach reduces to a covariate-matching scheme. However, using the regression approach gives greater functionality. In particular, our dataset is made of repeated observations of patients, and Generalised Estimating Equations can include the information from all repeated observations, rather than limiting to one observation per patient.\n",
    "\n",
    "## The protocol.\n",
    "They steps toward estimating the effect of treatment on the treated are:\n",
    "1. Collate a dataset of patient's repeated observations of HbA1c value and R.A.M.E. status. Name the variables `HbA1c` and `lane`, respectively.\n",
    "2. Update the `lane` variable to be \"other\" for all values that are not \"middle\".\n",
    "3. Create new variables, `previous_HbA1c` and `previous_lane`, by lagging the `HbA1c` and `lane` variables by one, within time-ordered observations of patients.\n",
    "4. Using observations for which the `lane` covariate (i.e. our exposure) is `lane` = \"other\" (i.e. for switchers), fit a Generalised Estimating Equation (GEE) model, blocked for patient ID and with a first-order autoregression. Include covariates for `previous_HbA1c` and `previous_lane` to adjust for observable confounding.\n",
    "    - This step creates a model of the switcher world, a.k.a. the world in which everyone switched out of the middle lane.\n",
    "5. Using observations for which the `lane` covariate is `lane` = \"middle\" (i.e. for hoggers), retrieve the 'predictions' from the fitted GEE model, for each observation.\n",
    "    - This step brings the hoggers into the switcher world and asks what their outcome would have been if they had switched from the middle lane.\n",
    "6. Calculate the arithmetic mean patient-specific difference between the observed `HbA1c` and predicted `HbA1c` for hoggers. This is the estimated treatment effect on the untreated.\n",
    "    - By comparing the observed story of the hoggers to the counterfactual story of the switchers, we're trying to isolate the effect of switching beyond what was inherrent to switchers, i.e. selection bias."
   ]
  },
  {
   "cell_type": "code",
   "execution_count": 27,
   "id": "c0bbf4a0-f3c6-4a9f-8200-858add293579",
   "metadata": {
    "tags": []
   },
   "outputs": [],
   "source": [
    "pacman::p_load(\n",
    "    lme4\n",
    "    ,geepack\n",
    "    ,tidyverse\n",
    ")"
   ]
  },
  {
   "cell_type": "code",
   "execution_count": 60,
   "id": "01a527b6-39a2-47dd-8838-e5d0753aed28",
   "metadata": {
    "tags": []
   },
   "outputs": [
    {
     "data": {
      "text/html": [
       "<style>\n",
       ".list-inline {list-style: none; margin:0; padding: 0}\n",
       ".list-inline>li {display: inline-block}\n",
       ".list-inline>li:not(:last-child)::after {content: \"\\00b7\"; padding: 0 .5ex}\n",
       "</style>\n",
       "<ol class=list-inline><li>4</li><li>5</li><li>6</li><li>5</li><li>6</li><li>7</li><li>8</li></ol>\n"
      ],
      "text/latex": [
       "\\begin{enumerate*}\n",
       "\\item 4\n",
       "\\item 5\n",
       "\\item 6\n",
       "\\item 5\n",
       "\\item 6\n",
       "\\item 7\n",
       "\\item 8\n",
       "\\end{enumerate*}\n"
      ],
      "text/markdown": [
       "1. 4\n",
       "2. 5\n",
       "3. 6\n",
       "4. 5\n",
       "5. 6\n",
       "6. 7\n",
       "7. 8\n",
       "\n",
       "\n"
      ],
      "text/plain": [
       "[1] 4 5 6 5 6 7 8"
      ]
     },
     "metadata": {},
     "output_type": "display_data"
    }
   ],
   "source": [
    " c(\n",
    "        4:6, 5:8\n",
    "    )"
   ]
  },
  {
   "cell_type": "code",
   "execution_count": 62,
   "id": "b889817c-1262-45e1-b4f8-1b2dfd94e19b",
   "metadata": {
    "tags": []
   },
   "outputs": [
    {
     "ename": "ERROR",
     "evalue": "Error in levelfun(r, n, allow.new.levels = allow.new.levels): new levels detected in newdata: 11, 12\n",
     "output_type": "error",
     "traceback": [
      "Error in levelfun(r, n, allow.new.levels = allow.new.levels): new levels detected in newdata: 11, 12\nTraceback:\n",
      "1. predict(mod, newdata = d2)",
      "2. predict.merMod(mod, newdata = d2)",
      "3. mkNewReTrms(object, rfd, re.form, na.action = na.action, allow.new.levels = allow.new.levels)",
      "4. Map(function(r, n) levelfun(r, n, allow.new.levels = allow.new.levels), \n .     re[names(new_levels)], new_levels)",
      "5. mapply(FUN = f, ..., SIMPLIFY = FALSE)",
      "6. (function (r, n) \n . levelfun(r, n, allow.new.levels = allow.new.levels))(dots[[1L]][[1L]], \n .     dots[[2L]][[1L]])",
      "7. levelfun(r, n, allow.new.levels = allow.new.levels)",
      "8. stop(\"new levels detected in newdata: \", err.str)"
     ]
    }
   ],
   "source": [
    "d <- \n",
    "data.frame(\n",
    "    patient_id = rep(1:10, each = 4)\n",
    "    ,HbA1c = c(\n",
    "        1:4, 2:5, 3:6, 4:7, 5:8, 6:9, 7:10, 8:11, 9:12, 10:13\n",
    "    )\n",
    ") %>%\n",
    "dplyr::group_by( patient_id ) %>%\n",
    "dplyr::mutate(\n",
    "    previous_HbA1c = lag( HbA1c )\n",
    ") %>%\n",
    "dplyr::ungroup() %>%\n",
    "tidyr::drop_na()\n",
    "\n",
    "\n",
    "\n",
    "mod <-\n",
    "    lme4::lmer(\n",
    "        formula = HbA1c ~ ( 1 | patient_id )\n",
    "        ,data = d\n",
    "    )\n",
    "d2 <- \n",
    "data.frame(\n",
    "    patient_id = rep(11:12, each = 3)\n",
    "    ,previous_HbA1c = c(\n",
    "        4:6, 5:7\n",
    "    )\n",
    ")\n",
    "predict(mod, newdata = d2)"
   ]
  },
  {
   "cell_type": "code",
   "execution_count": 74,
   "id": "3f272a0f-4bbd-4992-8f1c-b1b8813b17b9",
   "metadata": {
    "tags": []
   },
   "outputs": [
    {
     "data": {
      "text/html": [
       "<style>\n",
       ".list-inline {list-style: none; margin:0; padding: 0}\n",
       ".list-inline>li {display: inline-block}\n",
       ".list-inline>li:not(:last-child)::after {content: \"\\00b7\"; padding: 0 .5ex}\n",
       "</style>\n",
       "<ol class=list-inline><li>2</li><li>3</li><li>4</li><li>3</li><li>4</li><li>5</li><li>4</li><li>5</li><li>6</li><li>5</li><li>6</li><li>7</li><li>6</li><li>7</li><li>8</li><li>7</li><li>8</li><li>9</li><li>8</li><li>9</li><li>10</li><li>9</li><li>10</li><li>11</li><li>10</li><li>11</li><li>12</li><li>11</li><li>12</li><li>13</li></ol>\n"
      ],
      "text/latex": [
       "\\begin{enumerate*}\n",
       "\\item 2\n",
       "\\item 3\n",
       "\\item 4\n",
       "\\item 3\n",
       "\\item 4\n",
       "\\item 5\n",
       "\\item 4\n",
       "\\item 5\n",
       "\\item 6\n",
       "\\item 5\n",
       "\\item 6\n",
       "\\item 7\n",
       "\\item 6\n",
       "\\item 7\n",
       "\\item 8\n",
       "\\item 7\n",
       "\\item 8\n",
       "\\item 9\n",
       "\\item 8\n",
       "\\item 9\n",
       "\\item 10\n",
       "\\item 9\n",
       "\\item 10\n",
       "\\item 11\n",
       "\\item 10\n",
       "\\item 11\n",
       "\\item 12\n",
       "\\item 11\n",
       "\\item 12\n",
       "\\item 13\n",
       "\\end{enumerate*}\n"
      ],
      "text/markdown": [
       "1. 2\n",
       "2. 3\n",
       "3. 4\n",
       "4. 3\n",
       "5. 4\n",
       "6. 5\n",
       "7. 4\n",
       "8. 5\n",
       "9. 6\n",
       "10. 5\n",
       "11. 6\n",
       "12. 7\n",
       "13. 6\n",
       "14. 7\n",
       "15. 8\n",
       "16. 7\n",
       "17. 8\n",
       "18. 9\n",
       "19. 8\n",
       "20. 9\n",
       "21. 10\n",
       "22. 9\n",
       "23. 10\n",
       "24. 11\n",
       "25. 10\n",
       "26. 11\n",
       "27. 12\n",
       "28. 11\n",
       "29. 12\n",
       "30. 13\n",
       "\n",
       "\n"
      ],
      "text/plain": [
       " [1]  2  3  4  3  4  5  4  5  6  5  6  7  6  7  8  7  8  9  8  9 10  9 10 11 10\n",
       "[26] 11 12 11 12 13"
      ]
     },
     "metadata": {},
     "output_type": "display_data"
    },
    {
     "data": {
      "text/html": [
       "<style>\n",
       ".list-inline {list-style: none; margin:0; padding: 0}\n",
       ".list-inline>li {display: inline-block}\n",
       ".list-inline>li:not(:last-child)::after {content: \"\\00b7\"; padding: 0 .5ex}\n",
       "</style>\n",
       "<ol class=list-inline><li>2</li><li>3</li><li>4</li><li>3</li><li>4</li><li>5</li><li>4</li><li>5</li><li>6</li><li>5</li><li>6</li><li>7</li><li>6</li><li>7</li><li>8</li><li>7</li><li>8</li><li>9</li><li>8</li><li>9</li><li>10</li><li>9</li><li>10</li><li>11</li><li>10</li><li>11</li><li>12</li><li>11</li><li>12</li><li>13</li></ol>\n"
      ],
      "text/latex": [
       "\\begin{enumerate*}\n",
       "\\item 2\n",
       "\\item 3\n",
       "\\item 4\n",
       "\\item 3\n",
       "\\item 4\n",
       "\\item 5\n",
       "\\item 4\n",
       "\\item 5\n",
       "\\item 6\n",
       "\\item 5\n",
       "\\item 6\n",
       "\\item 7\n",
       "\\item 6\n",
       "\\item 7\n",
       "\\item 8\n",
       "\\item 7\n",
       "\\item 8\n",
       "\\item 9\n",
       "\\item 8\n",
       "\\item 9\n",
       "\\item 10\n",
       "\\item 9\n",
       "\\item 10\n",
       "\\item 11\n",
       "\\item 10\n",
       "\\item 11\n",
       "\\item 12\n",
       "\\item 11\n",
       "\\item 12\n",
       "\\item 13\n",
       "\\end{enumerate*}\n"
      ],
      "text/markdown": [
       "1. 2\n",
       "2. 3\n",
       "3. 4\n",
       "4. 3\n",
       "5. 4\n",
       "6. 5\n",
       "7. 4\n",
       "8. 5\n",
       "9. 6\n",
       "10. 5\n",
       "11. 6\n",
       "12. 7\n",
       "13. 6\n",
       "14. 7\n",
       "15. 8\n",
       "16. 7\n",
       "17. 8\n",
       "18. 9\n",
       "19. 8\n",
       "20. 9\n",
       "21. 10\n",
       "22. 9\n",
       "23. 10\n",
       "24. 11\n",
       "25. 10\n",
       "26. 11\n",
       "27. 12\n",
       "28. 11\n",
       "29. 12\n",
       "30. 13\n",
       "\n",
       "\n"
      ],
      "text/plain": [
       " [1]  2  3  4  3  4  5  4  5  6  5  6  7  6  7  8  7  8  9  8  9 10  9 10 11 10\n",
       "[26] 11 12 11 12 13"
      ]
     },
     "metadata": {},
     "output_type": "display_data"
    },
    {
     "data": {
      "text/html": [
       "<style>\n",
       ".list-inline {list-style: none; margin:0; padding: 0}\n",
       ".list-inline>li {display: inline-block}\n",
       ".list-inline>li:not(:last-child)::after {content: \"\\00b7\"; padding: 0 .5ex}\n",
       "</style>\n",
       "<ol class=list-inline><li>4</li><li>5</li><li>6</li><li>5</li><li>6</li><li>7</li></ol>\n"
      ],
      "text/latex": [
       "\\begin{enumerate*}\n",
       "\\item 4\n",
       "\\item 5\n",
       "\\item 6\n",
       "\\item 5\n",
       "\\item 6\n",
       "\\item 7\n",
       "\\end{enumerate*}\n"
      ],
      "text/markdown": [
       "1. 4\n",
       "2. 5\n",
       "3. 6\n",
       "4. 5\n",
       "5. 6\n",
       "6. 7\n",
       "\n",
       "\n"
      ],
      "text/plain": [
       "[1] 4 5 6 5 6 7"
      ]
     },
     "metadata": {},
     "output_type": "display_data"
    },
    {
     "data": {
      "text/html": [
       "<style>\n",
       ".list-inline {list-style: none; margin:0; padding: 0}\n",
       ".list-inline>li {display: inline-block}\n",
       ".list-inline>li:not(:last-child)::after {content: \"\\00b7\"; padding: 0 .5ex}\n",
       "</style>\n",
       "<ol class=list-inline><li>5</li><li>6</li><li>7</li><li>6</li><li>7</li><li>8</li></ol>\n"
      ],
      "text/latex": [
       "\\begin{enumerate*}\n",
       "\\item 5\n",
       "\\item 6\n",
       "\\item 7\n",
       "\\item 6\n",
       "\\item 7\n",
       "\\item 8\n",
       "\\end{enumerate*}\n"
      ],
      "text/markdown": [
       "1. 5\n",
       "2. 6\n",
       "3. 7\n",
       "4. 6\n",
       "5. 7\n",
       "6. 8\n",
       "\n",
       "\n"
      ],
      "text/plain": [
       "[1] 5 6 7 6 7 8"
      ]
     },
     "metadata": {},
     "output_type": "display_data"
    }
   ],
   "source": [
    "gee1 <- geeglm(\n",
    "    formula = HbA1c ~ previous_HbA1c\n",
    "    ,data = d\n",
    "    ,id = patient_id\n",
    "    ,family = gaussian(\"identity\")\n",
    "    ,corstr = \"ar1\"\n",
    ")\n",
    "d$HbA1c\n",
    "predict(gee1, newdata = d) %>% as.vector()\n",
    "d2$previous_HbA1c\n",
    "predict(gee1, newdata = d2) %>% as.vector()"
   ]
  },
  {
   "cell_type": "code",
   "execution_count": 51,
   "id": "42c9f4e8-d457-4747-a1cc-04691fbed9ad",
   "metadata": {
    "tags": []
   },
   "outputs": [
    {
     "data": {
      "text/html": [
       "<table class=\"dataframe\">\n",
       "<caption>A data.frame: 40 × 1</caption>\n",
       "<thead>\n",
       "\t<tr><th scope=col>patient_id</th></tr>\n",
       "\t<tr><th scope=col>&lt;int&gt;</th></tr>\n",
       "</thead>\n",
       "<tbody>\n",
       "\t<tr><td>11</td></tr>\n",
       "\t<tr><td>11</td></tr>\n",
       "\t<tr><td>11</td></tr>\n",
       "\t<tr><td>11</td></tr>\n",
       "\t<tr><td>12</td></tr>\n",
       "\t<tr><td>12</td></tr>\n",
       "\t<tr><td>12</td></tr>\n",
       "\t<tr><td>12</td></tr>\n",
       "\t<tr><td>13</td></tr>\n",
       "\t<tr><td>13</td></tr>\n",
       "\t<tr><td>13</td></tr>\n",
       "\t<tr><td>13</td></tr>\n",
       "\t<tr><td>14</td></tr>\n",
       "\t<tr><td>14</td></tr>\n",
       "\t<tr><td>14</td></tr>\n",
       "\t<tr><td>14</td></tr>\n",
       "\t<tr><td>15</td></tr>\n",
       "\t<tr><td>15</td></tr>\n",
       "\t<tr><td>15</td></tr>\n",
       "\t<tr><td>15</td></tr>\n",
       "\t<tr><td>16</td></tr>\n",
       "\t<tr><td>16</td></tr>\n",
       "\t<tr><td>16</td></tr>\n",
       "\t<tr><td>16</td></tr>\n",
       "\t<tr><td>17</td></tr>\n",
       "\t<tr><td>17</td></tr>\n",
       "\t<tr><td>17</td></tr>\n",
       "\t<tr><td>17</td></tr>\n",
       "\t<tr><td>18</td></tr>\n",
       "\t<tr><td>18</td></tr>\n",
       "\t<tr><td>18</td></tr>\n",
       "\t<tr><td>18</td></tr>\n",
       "\t<tr><td>19</td></tr>\n",
       "\t<tr><td>19</td></tr>\n",
       "\t<tr><td>19</td></tr>\n",
       "\t<tr><td>19</td></tr>\n",
       "\t<tr><td>20</td></tr>\n",
       "\t<tr><td>20</td></tr>\n",
       "\t<tr><td>20</td></tr>\n",
       "\t<tr><td>20</td></tr>\n",
       "</tbody>\n",
       "</table>\n"
      ],
      "text/latex": [
       "A data.frame: 40 × 1\n",
       "\\begin{tabular}{l}\n",
       " patient\\_id\\\\\n",
       " <int>\\\\\n",
       "\\hline\n",
       "\t 11\\\\\n",
       "\t 11\\\\\n",
       "\t 11\\\\\n",
       "\t 11\\\\\n",
       "\t 12\\\\\n",
       "\t 12\\\\\n",
       "\t 12\\\\\n",
       "\t 12\\\\\n",
       "\t 13\\\\\n",
       "\t 13\\\\\n",
       "\t 13\\\\\n",
       "\t 13\\\\\n",
       "\t 14\\\\\n",
       "\t 14\\\\\n",
       "\t 14\\\\\n",
       "\t 14\\\\\n",
       "\t 15\\\\\n",
       "\t 15\\\\\n",
       "\t 15\\\\\n",
       "\t 15\\\\\n",
       "\t 16\\\\\n",
       "\t 16\\\\\n",
       "\t 16\\\\\n",
       "\t 16\\\\\n",
       "\t 17\\\\\n",
       "\t 17\\\\\n",
       "\t 17\\\\\n",
       "\t 17\\\\\n",
       "\t 18\\\\\n",
       "\t 18\\\\\n",
       "\t 18\\\\\n",
       "\t 18\\\\\n",
       "\t 19\\\\\n",
       "\t 19\\\\\n",
       "\t 19\\\\\n",
       "\t 19\\\\\n",
       "\t 20\\\\\n",
       "\t 20\\\\\n",
       "\t 20\\\\\n",
       "\t 20\\\\\n",
       "\\end{tabular}\n"
      ],
      "text/markdown": [
       "\n",
       "A data.frame: 40 × 1\n",
       "\n",
       "| patient_id &lt;int&gt; |\n",
       "|---|\n",
       "| 11 |\n",
       "| 11 |\n",
       "| 11 |\n",
       "| 11 |\n",
       "| 12 |\n",
       "| 12 |\n",
       "| 12 |\n",
       "| 12 |\n",
       "| 13 |\n",
       "| 13 |\n",
       "| 13 |\n",
       "| 13 |\n",
       "| 14 |\n",
       "| 14 |\n",
       "| 14 |\n",
       "| 14 |\n",
       "| 15 |\n",
       "| 15 |\n",
       "| 15 |\n",
       "| 15 |\n",
       "| 16 |\n",
       "| 16 |\n",
       "| 16 |\n",
       "| 16 |\n",
       "| 17 |\n",
       "| 17 |\n",
       "| 17 |\n",
       "| 17 |\n",
       "| 18 |\n",
       "| 18 |\n",
       "| 18 |\n",
       "| 18 |\n",
       "| 19 |\n",
       "| 19 |\n",
       "| 19 |\n",
       "| 19 |\n",
       "| 20 |\n",
       "| 20 |\n",
       "| 20 |\n",
       "| 20 |\n",
       "\n"
      ],
      "text/plain": [
       "   patient_id\n",
       "1  11        \n",
       "2  11        \n",
       "3  11        \n",
       "4  11        \n",
       "5  12        \n",
       "6  12        \n",
       "7  12        \n",
       "8  12        \n",
       "9  13        \n",
       "10 13        \n",
       "11 13        \n",
       "12 13        \n",
       "13 14        \n",
       "14 14        \n",
       "15 14        \n",
       "16 14        \n",
       "17 15        \n",
       "18 15        \n",
       "19 15        \n",
       "20 15        \n",
       "21 16        \n",
       "22 16        \n",
       "23 16        \n",
       "24 16        \n",
       "25 17        \n",
       "26 17        \n",
       "27 17        \n",
       "28 17        \n",
       "29 18        \n",
       "30 18        \n",
       "31 18        \n",
       "32 18        \n",
       "33 19        \n",
       "34 19        \n",
       "35 19        \n",
       "36 19        \n",
       "37 20        \n",
       "38 20        \n",
       "39 20        \n",
       "40 20        "
      ]
     },
     "metadata": {},
     "output_type": "display_data"
    }
   ],
   "source": [
    "d2"
   ]
  },
  {
   "cell_type": "code",
   "execution_count": 2,
   "id": "074f3a1c-edec-4d54-94da-ec116b2c11c9",
   "metadata": {
    "jupyter": {
     "source_hidden": true
    },
    "tags": []
   },
   "outputs": [],
   "source": [
    "if (!exists(\"spssData\"))\n",
    "{\n",
    "  spssData <-\n",
    "    haven::read_sav(\"ExtBinomPQL2T3RT7F_FractFinalA.sav\") %>%\n",
    "    mutate(across(everything(), as.vector))\n",
    "}"
   ]
  },
  {
   "cell_type": "markdown",
   "id": "a8546155-6eac-4b9e-b7e0-112f1c886074",
   "metadata": {},
   "source": [
    "# Assess over-/under-dispersion."
   ]
  },
  {
   "cell_type": "markdown",
   "id": "32f84840-e47d-4b71-a3a5-8f62b66dd210",
   "metadata": {},
   "source": [
    "Assess whether the counts of crimes satisfy the Poisson assumption of equality of mean and variance. A value > 1 indicated over-dispersion, and a value < 1 indicates under-dispersion."
   ]
  },
  {
   "cell_type": "code",
   "execution_count": 18,
   "id": "26e8e38e-4d39-4ad7-b0c7-50a96af64366",
   "metadata": {
    "tags": []
   },
   "outputs": [
    {
     "name": "stderr",
     "output_type": "stream",
     "text": [
      "Warning message in kableExtra::column_spec(., column = 1:3, width = \"2cm\"):\n",
      "“Please specify format in kable. kableExtra can customize either HTML or LaTeX outputs. See https://haozhu233.github.io/kableExtra/ for details.”\n"
     ]
    },
    {
     "data": {
      "text/plain": [
       "\n",
       "\n",
       "=====================  =====================  ==================\n",
       "Darkness_PoissonRatio  Daylight_PoissonRatio  Total_PoissonRatio\n",
       "=====================  =====================  ==================\n",
       "               13.372                 16.507              25.982\n",
       "=====================  =====================  =================="
      ]
     },
     "metadata": {},
     "output_type": "display_data"
    }
   ],
   "source": [
    "spssData %>% \n",
    "dplyr::select( DarknessCrime_sum, DaylightCrime_sum, SumDarkAndDaylight ) %>%\n",
    "dplyr::summarise_all(\n",
    "    ,.funs =  list( mean, var )\n",
    ") %>%\n",
    "dplyr::transmute(\n",
    "    Darkness_PoissonRatio = .[[4]] / .[[1]]\n",
    "    ,Daylight_PoissonRatio = .[[5]] / .[[2]]\n",
    "    ,Total_PoissonRatio = .[[6]] / .[[3]]\n",
    ") %>%\n",
    "dplyr::mutate_if( is.numeric, round, 3 ) %>%\n",
    "knitr::kable(format = 'rst') %>%\n",
    "kableExtra::column_spec(column = 1:3, width = \"2cm\")"
   ]
  }
 ],
 "metadata": {
  "environment": {
   "kernel": "ir",
   "name": ".m115",
   "type": "gcloud",
   "uri": "gcr.io/deeplearning-platform-release/:m115"
  },
  "kernelspec": {
   "display_name": "R",
   "language": "R",
   "name": "ir"
  },
  "language_info": {
   "codemirror_mode": "r",
   "file_extension": ".r",
   "mimetype": "text/x-r-source",
   "name": "R",
   "pygments_lexer": "r",
   "version": "4.3.2"
  }
 },
 "nbformat": 4,
 "nbformat_minor": 5
}
