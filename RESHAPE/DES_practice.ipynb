{
 "cells": [
  {
   "cell_type": "code",
   "execution_count": null,
   "id": "16f58705-7b30-4e39-bb3e-02c62d2a8cbf",
   "metadata": {},
   "outputs": [],
   "source": []
  },
  {
   "cell_type": "markdown",
   "id": "ffea21e2-7cff-428d-9ad3-9bd8c72e0dae",
   "metadata": {},
   "source": [
    "# ==========\n",
    "# Simulate the underlying EHR"
   ]
  },
  {
   "cell_type": "code",
   "execution_count": 19,
   "id": "5fb1af2a-be65-40f9-bd39-31b6de9b9dd8",
   "metadata": {
    "tags": []
   },
   "outputs": [
    {
     "name": "stderr",
     "output_type": "stream",
     "text": [
      "Installing package into ‘/home/jupyter/.R/library’\n",
      "(as ‘lib’ is unspecified)\n",
      "\n",
      "\n",
      "simmer installed\n",
      "\n"
     ]
    }
   ],
   "source": [
    "pacman::p_load( simmer )"
   ]
  },
  {
   "cell_type": "code",
   "execution_count": 37,
   "id": "61d62f93-649c-438a-8639-fb418116259c",
   "metadata": {
    "tags": []
   },
   "outputs": [
    {
     "name": "stdout",
     "output_type": "stream",
     "text": [
      "0: Customer0: Here I am\n",
      "12: Customer0: I must leave\n",
      "14.3114: Customer1: Here I am\n",
      "26.3114: Customer1: I must leave\n",
      "26.5588: Customer2: Here I am\n",
      "35.8506: Customer3: Here I am\n",
      "38.2706: Customer4: Here I am\n",
      "38.5588: Customer2: I must leave\n",
      "47.8506: Customer3: I must leave\n",
      "50.2706: Customer4: I must leave\n"
     ]
    },
    {
     "data": {
      "text/plain": [
       "simmer environment: bank | now: 50.2705868901582 | next: \n",
       "{ Monitor: in memory }\n",
       "{ Source: Customer | monitored: 1 | n_generated: 5 }"
      ]
     },
     "metadata": {},
     "output_type": "display_data"
    },
    {
     "data": {
      "text/html": [
       "<table class=\"dataframe\">\n",
       "<caption>A data.frame: 5 × 6</caption>\n",
       "<thead>\n",
       "\t<tr><th scope=col>name</th><th scope=col>start_time</th><th scope=col>end_time</th><th scope=col>activity_time</th><th scope=col>finished</th><th scope=col>replication</th></tr>\n",
       "\t<tr><th scope=col>&lt;chr&gt;</th><th scope=col>&lt;dbl&gt;</th><th scope=col>&lt;dbl&gt;</th><th scope=col>&lt;dbl&gt;</th><th scope=col>&lt;lgl&gt;</th><th scope=col>&lt;int&gt;</th></tr>\n",
       "</thead>\n",
       "<tbody>\n",
       "\t<tr><td>Customer0</td><td> 0.00000</td><td>12.00000</td><td>12</td><td>TRUE</td><td>1</td></tr>\n",
       "\t<tr><td>Customer1</td><td>14.31136</td><td>26.31136</td><td>12</td><td>TRUE</td><td>1</td></tr>\n",
       "\t<tr><td>Customer2</td><td>26.55882</td><td>38.55882</td><td>12</td><td>TRUE</td><td>1</td></tr>\n",
       "\t<tr><td>Customer3</td><td>35.85064</td><td>47.85064</td><td>12</td><td>TRUE</td><td>1</td></tr>\n",
       "\t<tr><td>Customer4</td><td>38.27059</td><td>50.27059</td><td>12</td><td>TRUE</td><td>1</td></tr>\n",
       "</tbody>\n",
       "</table>\n"
      ],
      "text/latex": [
       "A data.frame: 5 × 6\n",
       "\\begin{tabular}{llllll}\n",
       " name & start\\_time & end\\_time & activity\\_time & finished & replication\\\\\n",
       " <chr> & <dbl> & <dbl> & <dbl> & <lgl> & <int>\\\\\n",
       "\\hline\n",
       "\t Customer0 &  0.00000 & 12.00000 & 12 & TRUE & 1\\\\\n",
       "\t Customer1 & 14.31136 & 26.31136 & 12 & TRUE & 1\\\\\n",
       "\t Customer2 & 26.55882 & 38.55882 & 12 & TRUE & 1\\\\\n",
       "\t Customer3 & 35.85064 & 47.85064 & 12 & TRUE & 1\\\\\n",
       "\t Customer4 & 38.27059 & 50.27059 & 12 & TRUE & 1\\\\\n",
       "\\end{tabular}\n"
      ],
      "text/markdown": [
       "\n",
       "A data.frame: 5 × 6\n",
       "\n",
       "| name &lt;chr&gt; | start_time &lt;dbl&gt; | end_time &lt;dbl&gt; | activity_time &lt;dbl&gt; | finished &lt;lgl&gt; | replication &lt;int&gt; |\n",
       "|---|---|---|---|---|---|\n",
       "| Customer0 |  0.00000 | 12.00000 | 12 | TRUE | 1 |\n",
       "| Customer1 | 14.31136 | 26.31136 | 12 | TRUE | 1 |\n",
       "| Customer2 | 26.55882 | 38.55882 | 12 | TRUE | 1 |\n",
       "| Customer3 | 35.85064 | 47.85064 | 12 | TRUE | 1 |\n",
       "| Customer4 | 38.27059 | 50.27059 | 12 | TRUE | 1 |\n",
       "\n"
      ],
      "text/plain": [
       "  name      start_time end_time activity_time finished replication\n",
       "1 Customer0  0.00000   12.00000 12            TRUE     1          \n",
       "2 Customer1 14.31136   26.31136 12            TRUE     1          \n",
       "3 Customer2 26.55882   38.55882 12            TRUE     1          \n",
       "4 Customer3 35.85064   47.85064 12            TRUE     1          \n",
       "5 Customer4 38.27059   50.27059 12            TRUE     1          "
      ]
     },
     "metadata": {},
     "output_type": "display_data"
    }
   ],
   "source": [
    "set.seed(1289)\n",
    "customer <-\n",
    "  simmer::trajectory( name = \"Customer's path\" ) %>%\n",
    "  simmer::log_(\"Here I am\") %>%\n",
    "  simmer::timeout( 12 ) %>% # This is a hardcoded duration at node.\n",
    "  simmer::log_(\"I must leave\")\n",
    "\n",
    "sim_bank <-\n",
    "  simmer::simmer( name = \"bank\") %>%\n",
    "  simmer::add_generator(\"Customer\", customer, function() { c(0, rexp(4, 1/10), -1) } )\n",
    "\n",
    "sim_bank %>% simmer::run( until = 400 )\n",
    "sim_bank %>% simmer::get_mon_arrivals()"
   ]
  },
  {
   "cell_type": "code",
   "execution_count": 79,
   "id": "93674d34-ec34-47fb-b88a-35164e045958",
   "metadata": {
    "tags": []
   },
   "outputs": [
    {
     "name": "stdout",
     "output_type": "stream",
     "text": [
      "0: Customer0: Here I am\n",
      "0: Customer0: Waited:  0\n",
      "3.68365: Customer1: Here I am\n",
      "3.89529: Customer2: Here I am\n",
      "4.91521: Customer0: Finished:  4.91521483175031\n",
      "4.91521: Customer1: Waited:  1.23156707156024\n",
      "10.961: Customer3: Here I am\n",
      "12.4143: Customer4: Here I am\n",
      "21.0552: Customer1: Finished:  21.055182798071\n",
      "21.0552: Customer2: Waited:  17.1598927142276\n",
      "65.3116: Customer2: Finished:  65.3115507844349\n",
      "65.3116: Customer3: Waited:  54.3505873236467\n",
      "80.1134: Customer3: Finished:  80.1133545241526\n",
      "80.1134: Customer4: Waited:  67.6990166719428\n",
      "93.7286: Customer4: Finished:  93.7285504163997\n"
     ]
    },
    {
     "data": {
      "text/plain": [
       "simmer environment: bank | now: 93.7285504163997 | next: \n",
       "{ Monitor: in memory }\n",
       "{ Resource: counter | monitored: TRUE | server status: 0(1) | queue status: 0(Inf) }\n",
       "{ Source: Customer | monitored: 1 | n_generated: 5 }"
      ]
     },
     "metadata": {},
     "output_type": "display_data"
    },
    {
     "data": {
      "text/html": [
       "<table class=\"dataframe\">\n",
       "<caption>A data.frame: 5 × 7</caption>\n",
       "<thead>\n",
       "\t<tr><th scope=col>name</th><th scope=col>start_time</th><th scope=col>end_time</th><th scope=col>activity_time</th><th scope=col>finished</th><th scope=col>replication</th><th scope=col>waiting_time</th></tr>\n",
       "\t<tr><th scope=col>&lt;chr&gt;</th><th scope=col>&lt;dbl&gt;</th><th scope=col>&lt;dbl&gt;</th><th scope=col>&lt;dbl&gt;</th><th scope=col>&lt;lgl&gt;</th><th scope=col>&lt;int&gt;</th><th scope=col>&lt;dbl&gt;</th></tr>\n",
       "</thead>\n",
       "<tbody>\n",
       "\t<tr><td>Customer0</td><td> 0.000000</td><td> 4.915215</td><td> 4.915215</td><td>TRUE</td><td>1</td><td> 0.000000</td></tr>\n",
       "\t<tr><td>Customer1</td><td> 3.683648</td><td>21.055183</td><td>16.139968</td><td>TRUE</td><td>1</td><td> 1.231567</td></tr>\n",
       "\t<tr><td>Customer2</td><td> 3.895290</td><td>65.311551</td><td>44.256368</td><td>TRUE</td><td>1</td><td>17.159893</td></tr>\n",
       "\t<tr><td>Customer3</td><td>10.960963</td><td>80.113355</td><td>14.801804</td><td>TRUE</td><td>1</td><td>54.350587</td></tr>\n",
       "\t<tr><td>Customer4</td><td>12.414338</td><td>93.728550</td><td>13.615196</td><td>TRUE</td><td>1</td><td>67.699017</td></tr>\n",
       "</tbody>\n",
       "</table>\n"
      ],
      "text/latex": [
       "A data.frame: 5 × 7\n",
       "\\begin{tabular}{lllllll}\n",
       " name & start\\_time & end\\_time & activity\\_time & finished & replication & waiting\\_time\\\\\n",
       " <chr> & <dbl> & <dbl> & <dbl> & <lgl> & <int> & <dbl>\\\\\n",
       "\\hline\n",
       "\t Customer0 &  0.000000 &  4.915215 &  4.915215 & TRUE & 1 &  0.000000\\\\\n",
       "\t Customer1 &  3.683648 & 21.055183 & 16.139968 & TRUE & 1 &  1.231567\\\\\n",
       "\t Customer2 &  3.895290 & 65.311551 & 44.256368 & TRUE & 1 & 17.159893\\\\\n",
       "\t Customer3 & 10.960963 & 80.113355 & 14.801804 & TRUE & 1 & 54.350587\\\\\n",
       "\t Customer4 & 12.414338 & 93.728550 & 13.615196 & TRUE & 1 & 67.699017\\\\\n",
       "\\end{tabular}\n"
      ],
      "text/markdown": [
       "\n",
       "A data.frame: 5 × 7\n",
       "\n",
       "| name &lt;chr&gt; | start_time &lt;dbl&gt; | end_time &lt;dbl&gt; | activity_time &lt;dbl&gt; | finished &lt;lgl&gt; | replication &lt;int&gt; | waiting_time &lt;dbl&gt; |\n",
       "|---|---|---|---|---|---|---|\n",
       "| Customer0 |  0.000000 |  4.915215 |  4.915215 | TRUE | 1 |  0.000000 |\n",
       "| Customer1 |  3.683648 | 21.055183 | 16.139968 | TRUE | 1 |  1.231567 |\n",
       "| Customer2 |  3.895290 | 65.311551 | 44.256368 | TRUE | 1 | 17.159893 |\n",
       "| Customer3 | 10.960963 | 80.113355 | 14.801804 | TRUE | 1 | 54.350587 |\n",
       "| Customer4 | 12.414338 | 93.728550 | 13.615196 | TRUE | 1 | 67.699017 |\n",
       "\n"
      ],
      "text/plain": [
       "  name      start_time end_time  activity_time finished replication\n",
       "1 Customer0  0.000000   4.915215  4.915215     TRUE     1          \n",
       "2 Customer1  3.683648  21.055183 16.139968     TRUE     1          \n",
       "3 Customer2  3.895290  65.311551 44.256368     TRUE     1          \n",
       "4 Customer3 10.960963  80.113355 14.801804     TRUE     1          \n",
       "5 Customer4 12.414338  93.728550 13.615196     TRUE     1          \n",
       "  waiting_time\n",
       "1  0.000000   \n",
       "2  1.231567   \n",
       "3 17.159893   \n",
       "4 54.350587   \n",
       "5 67.699017   "
      ]
     },
     "metadata": {},
     "output_type": "display_data"
    }
   ],
   "source": [
    "\n",
    "set.seed(1269)\n",
    "\n",
    "customer <-\n",
    "  trajectory(\"Customer's path\") %>%\n",
    "  log_(\"Here I am\") %>%\n",
    "  set_attribute(\"start_time\", function() {now(bank)}) %>%\n",
    "  seize(\"counter\") %>%\n",
    "  log_(function() {paste(\"Waited: \", now(bank) - get_attribute(bank, \"start_time\"))}) %>%\n",
    "  # timeout(rexp(1, 1/12)) would generate a single random time and use it for\n",
    "  # every arrival, whereas the following line generates a random time for each\n",
    "  # arrival\n",
    "  timeout(function() {rexp(1, 1/12)}) %>%\n",
    "  release(\"counter\") %>%\n",
    "  log_(function() {paste(\"Finished: \", now(bank))})\n",
    "\n",
    "bank <-\n",
    "  simmer(\"bank\") %>%\n",
    "  add_resource(\"counter\") %>%\n",
    "  add_generator(\"Customer\", customer, function() {c(0, rexp(4, 1/10), -1)})\n",
    "\n",
    "bank %>% run(until = 400)\n",
    "bank %>%\n",
    "  get_mon_arrivals() %>%\n",
    "  transform(waiting_time = end_time - start_time - activity_time)"
   ]
  }
 ],
 "metadata": {
  "environment": {
   "kernel": "ir",
   "name": ".m115",
   "type": "gcloud",
   "uri": "gcr.io/deeplearning-platform-release/:m115"
  },
  "kernelspec": {
   "display_name": "R",
   "language": "R",
   "name": "ir"
  },
  "language_info": {
   "codemirror_mode": "r",
   "file_extension": ".r",
   "mimetype": "text/x-r-source",
   "name": "R",
   "pygments_lexer": "r",
   "version": "4.3.2"
  }
 },
 "nbformat": 4,
 "nbformat_minor": 5
}
