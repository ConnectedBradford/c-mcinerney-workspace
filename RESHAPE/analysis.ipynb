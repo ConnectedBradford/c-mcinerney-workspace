{
 "cells": [
  {
   "cell_type": "code",
   "execution_count": 2,
   "id": "62bb09fd-aaac-4dd9-830e-c029a7285502",
   "metadata": {},
   "outputs": [
    {
     "name": "stderr",
     "output_type": "stream",
     "text": [
      "Installing package into ‘/home/jupyter/.R/library’\n",
      "(as ‘lib’ is unspecified)\n",
      "\n",
      "also installing the dependencies ‘checkmate’, ‘insight’\n",
      "\n",
      "\n"
     ]
    }
   ],
   "source": [
    "## Install packages \n",
    "\n",
    "library(bigrquery)\n",
    "library(ggplot2)\n",
    "library(lubridate)\n",
    "library(tidyverse)\n",
    "install.packages(\"marginaleffects\")\n",
    "library(marginaleffects)"
   ]
  },
  {
   "cell_type": "code",
   "execution_count": 69,
   "id": "9525c941-5a11-4bc3-b1df-0ad49505c2f1",
   "metadata": {},
   "outputs": [],
   "source": [
    "## Load the data \n",
    "\n",
    "project_id=\"yhcr-prd-phm-bia-core\"\n",
    "attendance_sql <- \"SELECT * FROM `yhcr-prd-phm-bia-core.CB_CLASS_ACT.attendance`\"\n",
    "attendance_table <- bq_project_query(project_id, attendance_sql)"
   ]
  },
  {
   "cell_type": "code",
   "execution_count": 70,
   "id": "1081c9e0-391a-420a-8356-a46dbe61f13a",
   "metadata": {},
   "outputs": [],
   "source": [
    "## Specify experimental vs. controls \n",
    "\n",
    "start_date <- as.Date(\"2021-09-01\")\n",
    "end_date <- as.Date(\"2022-04-01\")\n",
    "hepa_school_codes <- c(\"H01\", \"H02\", \"H03\", \"H04\", \"H05\", \"H06\", \"H07\", \"H08\",\n",
    "\"H09\", \"H10\", \"H11\")\n",
    "control_school_codes <- c(\"C01\", \"C02\", \"C03\", \"C04\", \"C05\", \"C09\", \"C10\",\n",
    "\"C11\", \"C12\", \"C13\", \"C14\")\n",
    "study_schools <- c(hepa_school_codes, control_school_codes)\n"
   ]
  },
  {
   "cell_type": "code",
   "execution_count": 71,
   "id": "96a9c268-f13f-4f9c-b1ee-7b2cdfd06fab",
   "metadata": {},
   "outputs": [],
   "source": [
    "# download CO2 stats and format variables\n",
    "co2_sql <- \"SELECT School_ID, week_start, co2_mean FROM `yhcr-prd-phm-bia-core.CB_CLASS_ACT.stats_week_school_21_09_22`\"\n",
    "co2_table <- bq_project_query(project_id, co2_sql)\n",
    "co2 <- bq_table_download(co2_table) %>% \n",
    "    rename(WeekStart = week_start, School_AnonID = School_ID) "
   ]
  },
  {
   "cell_type": "code",
   "execution_count": 72,
   "id": "ae950431-c00d-4031-b11c-fad2a7135b59",
   "metadata": {},
   "outputs": [],
   "source": [
    "# download PM stats and format variables\n",
    "pm_sql <- \"SELECT School_ID, week_start, PM2_5_mean FROM `yhcr-prd-phm-bia-core.CB_CLASS_ACT.stats_week_school_21_09_22`\"\n",
    "pm_table <- bq_project_query(project_id, pm_sql)\n",
    "pm <- bq_table_download(pm_table) %>% \n",
    "    rename(WeekStart = week_start, School_AnonID = School_ID) \n",
    "\n",
    "#head(pm)"
   ]
  },
  {
   "cell_type": "code",
   "execution_count": 73,
   "id": "c499ad24-f1cc-4de7-961c-4d4b02e2fb46",
   "metadata": {},
   "outputs": [],
   "source": [
    "# load in schools data for time-period of study - drop closures\n",
    "attendance <- bq_table_download(attendance_table) %>%\n",
    "    filter(School_AnonID %in% study_schools) %>% \n",
    "    filter(pct_in_school > 0) %>%\n",
    "    filter(Unk / (pupils * 14) < 0.01) %>%\n",
    "    filter(WeekStart < end_date) %>%\n",
    "    mutate(arm = case_when(School_AnonID %in% hepa_school_codes ~ \"HEPA\", \n",
    "                           School_AnonID %in% control_school_codes ~ \"Control\"),\n",
    "           mth = factor(month.abb[month(WeekStart)], \n",
    "                          levels=c(\"Sep\", \"Oct\", \"Nov\", \"Dec\", \"Jan\", \"Feb\", \"Mar\"), \n",
    "                          ordered=TRUE),\n",
    "           illness_rate = prop_absent_ill * 100) %>%\n",
    "    group_by(WeekStart, arm) %>% \n",
    "    mutate(outlier_threshold = mean(prop_absent_ill) + 3.25*(IQR(prop_absent_ill, na.rm=TRUE)),\n",
    "           is_outlier = prop_absent_ill > outlier_threshold) \n"
   ]
  },
  {
   "cell_type": "code",
   "execution_count": 74,
   "id": "66af9f12-632e-4ba7-8fbf-412c6344158f",
   "metadata": {},
   "outputs": [
    {
     "name": "stderr",
     "output_type": "stream",
     "text": [
      "\u001b[1mRows: \u001b[22m\u001b[34m7876\u001b[39m \u001b[1mColumns: \u001b[22m\u001b[34m11\u001b[39m\n",
      "\u001b[36m──\u001b[39m \u001b[1mColumn specification\u001b[22m \u001b[36m────────────────────────────────────────────────────────\u001b[39m\n",
      "\u001b[1mDelimiter:\u001b[22m \",\"\n",
      "\u001b[31mchr\u001b[39m  (9): regionCode, regionName, UtlaCode, UtlaName, LtlaCode, LtlaName, ar...\n",
      "\u001b[32mdbl\u001b[39m  (1): newCasesBySpecimenDateRollingRate\n",
      "\u001b[34mdate\u001b[39m (1): date\n",
      "\n",
      "\u001b[36mℹ\u001b[39m Use `spec()` to retrieve the full column specification for this data.\n",
      "\u001b[36mℹ\u001b[39m Specify the column types or set `show_col_types = FALSE` to quiet this message.\n"
     ]
    }
   ],
   "source": [
    "# download rate data from .gov site and format WeekStart and msoa varaiables\n",
    "msoa_rates_link <- \"https://api.coronavirus.data.gov.uk/v2/data?areaType=msoa&areaCode=E08000032&metric=newCasesBySpecimenDateRollingRate&format=csv\"\n",
    "msoa_rates_csv <- \"msoa_2023-10-19.csv\"\n",
    "keep_cols <- c(\"msoa\", \"WeekStart\", \"covid_msoa_rate\")\n",
    "msoa_rates <- read_csv(msoa_rates_csv) %>%\n",
    "    mutate(WeekStart = date - 5) %>%\n",
    "    rename(covid_msoa_rate = newCasesBySpecimenDateRollingRate, \n",
    "           msoa = areaCode) %>%\n",
    "    select(all_of(keep_cols)) "
   ]
  },
  {
   "cell_type": "code",
   "execution_count": 75,
   "id": "56a32ff1-88b9-4ee8-ad60-2d7abe8b3610",
   "metadata": {},
   "outputs": [],
   "source": [
    "#head(msoa_rates)"
   ]
  },
  {
   "cell_type": "code",
   "execution_count": 77,
   "id": "ea7cf9ad-7542-443a-b539-369bd64083c5",
   "metadata": {},
   "outputs": [],
   "source": [
    "#attendance %>% filter(prop_absent_ill > 0.15)"
   ]
  },
  {
   "cell_type": "code",
   "execution_count": 78,
   "id": "96af71dd-6c2a-4a0a-b702-1ca071e0cfef",
   "metadata": {},
   "outputs": [
    {
     "data": {
      "text/html": [
       "<style>\n",
       ".list-inline {list-style: none; margin:0; padding: 0}\n",
       ".list-inline>li {display: inline-block}\n",
       ".list-inline>li:not(:last-child)::after {content: \"\\00b7\"; padding: 0 .5ex}\n",
       "</style>\n",
       "<ol class=list-inline><li>'School_AnonID'</li><li>'WeekStart'</li><li>'pupils'</li><li>'Unk'</li><li>'I02'</li><li>'X02'</li><li>'X09'</li><li>'X06'</li><li>'X07'</li><li>'am'</li><li>'pm'</li><li>'closed'</li><li>'X08'</li><li>'X01'</li><li>'I01'</li><li>'B'</li><li>'C'</li><li>'D'</li><li>'E'</li><li>'G'</li><li>'H'</li><li>'I'</li><li>'J'</li><li>'L'</li><li>'M'</li><li>'N'</li><li>'O'</li><li>'P'</li><li>'R'</li><li>'S'</li><li>'T'</li><li>'U'</li><li>'V'</li><li>'W'</li><li>'X'</li><li>'Y'</li><li>'Z'</li><li>'in_school'</li><li>'ill'</li><li>'pct_in_school'</li><li>'prop_absent_ill'</li><li>'msoa'</li><li>'arm'</li><li>'mth'</li><li>'illness_rate'</li><li>'outlier_threshold'</li><li>'is_outlier'</li></ol>\n"
      ],
      "text/latex": [
       "\\begin{enumerate*}\n",
       "\\item 'School\\_AnonID'\n",
       "\\item 'WeekStart'\n",
       "\\item 'pupils'\n",
       "\\item 'Unk'\n",
       "\\item 'I02'\n",
       "\\item 'X02'\n",
       "\\item 'X09'\n",
       "\\item 'X06'\n",
       "\\item 'X07'\n",
       "\\item 'am'\n",
       "\\item 'pm'\n",
       "\\item 'closed'\n",
       "\\item 'X08'\n",
       "\\item 'X01'\n",
       "\\item 'I01'\n",
       "\\item 'B'\n",
       "\\item 'C'\n",
       "\\item 'D'\n",
       "\\item 'E'\n",
       "\\item 'G'\n",
       "\\item 'H'\n",
       "\\item 'I'\n",
       "\\item 'J'\n",
       "\\item 'L'\n",
       "\\item 'M'\n",
       "\\item 'N'\n",
       "\\item 'O'\n",
       "\\item 'P'\n",
       "\\item 'R'\n",
       "\\item 'S'\n",
       "\\item 'T'\n",
       "\\item 'U'\n",
       "\\item 'V'\n",
       "\\item 'W'\n",
       "\\item 'X'\n",
       "\\item 'Y'\n",
       "\\item 'Z'\n",
       "\\item 'in\\_school'\n",
       "\\item 'ill'\n",
       "\\item 'pct\\_in\\_school'\n",
       "\\item 'prop\\_absent\\_ill'\n",
       "\\item 'msoa'\n",
       "\\item 'arm'\n",
       "\\item 'mth'\n",
       "\\item 'illness\\_rate'\n",
       "\\item 'outlier\\_threshold'\n",
       "\\item 'is\\_outlier'\n",
       "\\end{enumerate*}\n"
      ],
      "text/markdown": [
       "1. 'School_AnonID'\n",
       "2. 'WeekStart'\n",
       "3. 'pupils'\n",
       "4. 'Unk'\n",
       "5. 'I02'\n",
       "6. 'X02'\n",
       "7. 'X09'\n",
       "8. 'X06'\n",
       "9. 'X07'\n",
       "10. 'am'\n",
       "11. 'pm'\n",
       "12. 'closed'\n",
       "13. 'X08'\n",
       "14. 'X01'\n",
       "15. 'I01'\n",
       "16. 'B'\n",
       "17. 'C'\n",
       "18. 'D'\n",
       "19. 'E'\n",
       "20. 'G'\n",
       "21. 'H'\n",
       "22. 'I'\n",
       "23. 'J'\n",
       "24. 'L'\n",
       "25. 'M'\n",
       "26. 'N'\n",
       "27. 'O'\n",
       "28. 'P'\n",
       "29. 'R'\n",
       "30. 'S'\n",
       "31. 'T'\n",
       "32. 'U'\n",
       "33. 'V'\n",
       "34. 'W'\n",
       "35. 'X'\n",
       "36. 'Y'\n",
       "37. 'Z'\n",
       "38. 'in_school'\n",
       "39. 'ill'\n",
       "40. 'pct_in_school'\n",
       "41. 'prop_absent_ill'\n",
       "42. 'msoa'\n",
       "43. 'arm'\n",
       "44. 'mth'\n",
       "45. 'illness_rate'\n",
       "46. 'outlier_threshold'\n",
       "47. 'is_outlier'\n",
       "\n",
       "\n"
      ],
      "text/plain": [
       " [1] \"School_AnonID\"     \"WeekStart\"         \"pupils\"           \n",
       " [4] \"Unk\"               \"I02\"               \"X02\"              \n",
       " [7] \"X09\"               \"X06\"               \"X07\"              \n",
       "[10] \"am\"                \"pm\"                \"closed\"           \n",
       "[13] \"X08\"               \"X01\"               \"I01\"              \n",
       "[16] \"B\"                 \"C\"                 \"D\"                \n",
       "[19] \"E\"                 \"G\"                 \"H\"                \n",
       "[22] \"I\"                 \"J\"                 \"L\"                \n",
       "[25] \"M\"                 \"N\"                 \"O\"                \n",
       "[28] \"P\"                 \"R\"                 \"S\"                \n",
       "[31] \"T\"                 \"U\"                 \"V\"                \n",
       "[34] \"W\"                 \"X\"                 \"Y\"                \n",
       "[37] \"Z\"                 \"in_school\"         \"ill\"              \n",
       "[40] \"pct_in_school\"     \"prop_absent_ill\"   \"msoa\"             \n",
       "[43] \"arm\"               \"mth\"               \"illness_rate\"     \n",
       "[46] \"outlier_threshold\" \"is_outlier\"       "
      ]
     },
     "metadata": {},
     "output_type": "display_data"
    }
   ],
   "source": [
    "colnames(attendance)"
   ]
  },
  {
   "cell_type": "code",
   "execution_count": 79,
   "id": "cf33c78c-c1e0-4ae2-b9ec-b632b3933925",
   "metadata": {},
   "outputs": [
    {
     "data": {
      "image/png": "[encoded data removed]",
      "text/plain": [
       "plot without title"
      ]
     },
     "metadata": {
      "image/png": {
       "height": 450,
       "width": 900
      }
     },
     "output_type": "display_data"
    }
   ],
   "source": [
    "\n",
    "options(repr.plot.width = 9, repr.plot.height = 4.5, repr.plot.res = 200)\n",
    "attendance %>% \n",
    "    ggplot() +\n",
    "    geom_boxplot(aes(x=WeekStart, y=illness_rate, group=interaction(WeekStart, arm), color=arm)) "
   ]
  },
  {
   "cell_type": "code",
   "execution_count": 80,
   "id": "71fd840e-5d5a-4ba1-a0fa-1cd7e2cd82c2",
   "metadata": {},
   "outputs": [
    {
     "name": "stderr",
     "output_type": "stream",
     "text": [
      "\u001b[1m\u001b[22mJoining with `by = join_by(WeekStart, msoa)`\n",
      "\u001b[1m\u001b[22mJoining with `by = join_by(School_AnonID, WeekStart)`\n",
      "\u001b[1m\u001b[22mJoining with `by = join_by(School_AnonID, WeekStart)`\n"
     ]
    },
    {
     "data": {
      "text/html": [
       "<style>\n",
       ".list-inline {list-style: none; margin:0; padding: 0}\n",
       ".list-inline>li {display: inline-block}\n",
       ".list-inline>li:not(:last-child)::after {content: \"\\00b7\"; padding: 0 .5ex}\n",
       "</style>\n",
       "<ol class=list-inline><li>'School_AnonID'</li><li>'WeekStart'</li><li>'pupils'</li><li>'Unk'</li><li>'I02'</li><li>'X02'</li><li>'X09'</li><li>'X06'</li><li>'X07'</li><li>'am'</li><li>'pm'</li><li>'closed'</li><li>'X08'</li><li>'X01'</li><li>'I01'</li><li>'B'</li><li>'C'</li><li>'D'</li><li>'E'</li><li>'G'</li><li>'H'</li><li>'I'</li><li>'J'</li><li>'L'</li><li>'M'</li><li>'N'</li><li>'O'</li><li>'P'</li><li>'R'</li><li>'S'</li><li>'T'</li><li>'U'</li><li>'V'</li><li>'W'</li><li>'X'</li><li>'Y'</li><li>'Z'</li><li>'in_school'</li><li>'ill'</li><li>'pct_in_school'</li><li>'prop_absent_ill'</li><li>'msoa'</li><li>'arm'</li><li>'mth'</li><li>'illness_rate'</li><li>'outlier_threshold'</li><li>'is_outlier'</li><li>'covid_msoa_rate'</li><li>'co2_mean'</li><li>'PM2_5_mean'</li></ol>\n"
      ],
      "text/latex": [
       "\\begin{enumerate*}\n",
       "\\item 'School\\_AnonID'\n",
       "\\item 'WeekStart'\n",
       "\\item 'pupils'\n",
       "\\item 'Unk'\n",
       "\\item 'I02'\n",
       "\\item 'X02'\n",
       "\\item 'X09'\n",
       "\\item 'X06'\n",
       "\\item 'X07'\n",
       "\\item 'am'\n",
       "\\item 'pm'\n",
       "\\item 'closed'\n",
       "\\item 'X08'\n",
       "\\item 'X01'\n",
       "\\item 'I01'\n",
       "\\item 'B'\n",
       "\\item 'C'\n",
       "\\item 'D'\n",
       "\\item 'E'\n",
       "\\item 'G'\n",
       "\\item 'H'\n",
       "\\item 'I'\n",
       "\\item 'J'\n",
       "\\item 'L'\n",
       "\\item 'M'\n",
       "\\item 'N'\n",
       "\\item 'O'\n",
       "\\item 'P'\n",
       "\\item 'R'\n",
       "\\item 'S'\n",
       "\\item 'T'\n",
       "\\item 'U'\n",
       "\\item 'V'\n",
       "\\item 'W'\n",
       "\\item 'X'\n",
       "\\item 'Y'\n",
       "\\item 'Z'\n",
       "\\item 'in\\_school'\n",
       "\\item 'ill'\n",
       "\\item 'pct\\_in\\_school'\n",
       "\\item 'prop\\_absent\\_ill'\n",
       "\\item 'msoa'\n",
       "\\item 'arm'\n",
       "\\item 'mth'\n",
       "\\item 'illness\\_rate'\n",
       "\\item 'outlier\\_threshold'\n",
       "\\item 'is\\_outlier'\n",
       "\\item 'covid\\_msoa\\_rate'\n",
       "\\item 'co2\\_mean'\n",
       "\\item 'PM2\\_5\\_mean'\n",
       "\\end{enumerate*}\n"
      ],
      "text/markdown": [
       "1. 'School_AnonID'\n",
       "2. 'WeekStart'\n",
       "3. 'pupils'\n",
       "4. 'Unk'\n",
       "5. 'I02'\n",
       "6. 'X02'\n",
       "7. 'X09'\n",
       "8. 'X06'\n",
       "9. 'X07'\n",
       "10. 'am'\n",
       "11. 'pm'\n",
       "12. 'closed'\n",
       "13. 'X08'\n",
       "14. 'X01'\n",
       "15. 'I01'\n",
       "16. 'B'\n",
       "17. 'C'\n",
       "18. 'D'\n",
       "19. 'E'\n",
       "20. 'G'\n",
       "21. 'H'\n",
       "22. 'I'\n",
       "23. 'J'\n",
       "24. 'L'\n",
       "25. 'M'\n",
       "26. 'N'\n",
       "27. 'O'\n",
       "28. 'P'\n",
       "29. 'R'\n",
       "30. 'S'\n",
       "31. 'T'\n",
       "32. 'U'\n",
       "33. 'V'\n",
       "34. 'W'\n",
       "35. 'X'\n",
       "36. 'Y'\n",
       "37. 'Z'\n",
       "38. 'in_school'\n",
       "39. 'ill'\n",
       "40. 'pct_in_school'\n",
       "41. 'prop_absent_ill'\n",
       "42. 'msoa'\n",
       "43. 'arm'\n",
       "44. 'mth'\n",
       "45. 'illness_rate'\n",
       "46. 'outlier_threshold'\n",
       "47. 'is_outlier'\n",
       "48. 'covid_msoa_rate'\n",
       "49. 'co2_mean'\n",
       "50. 'PM2_5_mean'\n",
       "\n",
       "\n"
      ],
      "text/plain": [
       " [1] \"School_AnonID\"     \"WeekStart\"         \"pupils\"           \n",
       " [4] \"Unk\"               \"I02\"               \"X02\"              \n",
       " [7] \"X09\"               \"X06\"               \"X07\"              \n",
       "[10] \"am\"                \"pm\"                \"closed\"           \n",
       "[13] \"X08\"               \"X01\"               \"I01\"              \n",
       "[16] \"B\"                 \"C\"                 \"D\"                \n",
       "[19] \"E\"                 \"G\"                 \"H\"                \n",
       "[22] \"I\"                 \"J\"                 \"L\"                \n",
       "[25] \"M\"                 \"N\"                 \"O\"                \n",
       "[28] \"P\"                 \"R\"                 \"S\"                \n",
       "[31] \"T\"                 \"U\"                 \"V\"                \n",
       "[34] \"W\"                 \"X\"                 \"Y\"                \n",
       "[37] \"Z\"                 \"in_school\"         \"ill\"              \n",
       "[40] \"pct_in_school\"     \"prop_absent_ill\"   \"msoa\"             \n",
       "[43] \"arm\"               \"mth\"               \"illness_rate\"     \n",
       "[46] \"outlier_threshold\" \"is_outlier\"        \"covid_msoa_rate\"  \n",
       "[49] \"co2_mean\"          \"PM2_5_mean\"       "
      ]
     },
     "metadata": {},
     "output_type": "display_data"
    },
    {
     "name": "stderr",
     "output_type": "stream",
     "text": [
      "\u001b[1m\u001b[22mJoining with `by = join_by(WeekStart, msoa)`\n",
      "\u001b[1m\u001b[22mJoining with `by = join_by(School_AnonID, WeekStart)`\n",
      "\u001b[1m\u001b[22mJoining with `by = join_by(School_AnonID, WeekStart)`\n",
      "\u001b[1m\u001b[22mAdding missing grouping variables: `WeekStart`\n"
     ]
    }
   ],
   "source": [
    "attendance %>% \n",
    "    left_join(msoa_rates) %>%\n",
    "    left_join(co2) %>%\n",
    "    left_join(pm) %>% \n",
    "colnames()\n",
    "\n",
    "df <- attendance %>% \n",
    "    left_join(msoa_rates) %>%\n",
    "    left_join(co2) %>%\n",
    "    left_join(pm) %>%\n",
    "select(School_AnonID, msoa, arm, mth, illness_rate, covid_msoa_rate, co2_mean, PM2_5_mean)\n"
   ]
  },
  {
   "cell_type": "code",
   "execution_count": 81,
   "id": "17aaba28-6d81-4b3a-a7f7-b64d29254fb3",
   "metadata": {},
   "outputs": [],
   "source": [
    "#df"
   ]
  },
  {
   "cell_type": "markdown",
   "id": "75240387-e137-40e5-a8fc-eb10890f2f6a",
   "metadata": {},
   "source": [
    "## COVID RATES "
   ]
  },
  {
   "cell_type": "code",
   "execution_count": 83,
   "id": "763217fa-634b-4506-aa07-0ce138b6db3d",
   "metadata": {},
   "outputs": [
    {
     "data": {
      "text/plain": [
       "\n",
       "Call:\n",
       "stats::lm(formula = covid_msoa_rate ~ arm, data = df)\n",
       "\n",
       "Residuals:\n",
       "    Min      1Q  Median      3Q     Max \n",
       "-446.46 -319.81 -177.66   93.39 2586.95 \n",
       "\n",
       "Coefficients:\n",
       "            Estimate Std. Error t value Pr(>|t|)    \n",
       "(Intercept)   516.55      29.89  17.283   <2e-16 ***\n",
       "armHEPA       -20.39      43.30  -0.471    0.638    \n",
       "---\n",
       "Signif. codes:  0 ‘***’ 0.001 ‘**’ 0.01 ‘*’ 0.05 ‘.’ 0.1 ‘ ’ 1\n",
       "\n",
       "Residual standard error: 498.3 on 529 degrees of freedom\n",
       "  (2 observations deleted due to missingness)\n",
       "Multiple R-squared:  0.0004192,\tAdjusted R-squared:  -0.00147 \n",
       "F-statistic: 0.2219 on 1 and 529 DF,  p-value: 0.6378\n"
      ]
     },
     "metadata": {},
     "output_type": "display_data"
    }
   ],
   "source": [
    "covid_lm <- stats::lm(covid_msoa_rate ~ arm, data = df)\n",
    "summary(covid_lm)"
   ]
  },
  {
   "cell_type": "code",
   "execution_count": 84,
   "id": "9fe8bc8e-2f1d-4179-93e3-ff0428ef26e8",
   "metadata": {},
   "outputs": [
    {
     "name": "stderr",
     "output_type": "stream",
     "text": [
      "\u001b[1m\u001b[22mJoining with `by = join_by(WeekStart, msoa)`\n",
      "\u001b[1m\u001b[22mJoining with `by = join_by(School_AnonID, WeekStart)`\n",
      "\u001b[1m\u001b[22mJoining with `by = join_by(School_AnonID, WeekStart)`\n",
      "\u001b[1m\u001b[22m`summarise()` has grouped output by 'School_AnonID', 'mth', 'arm'. You can\n",
      "override using the `.groups` argument.\n"
     ]
    },
    {
     "data": {
      "image/png": "[encoded data removed]",
      "text/plain": [
       "plot without title"
      ]
     },
     "metadata": {
      "image/png": {
       "height": 500,
       "width": 800
      }
     },
     "output_type": "display_data"
    }
   ],
   "source": [
    "\n",
    "options(repr.plot.width = 8, repr.plot.height = 5, repr.plot.res = 200)\n",
    "arm_colors <- c(HEPA = \"#808080\", Control = \"#000000\")\n",
    "msoa_covid_p <- attendance %>% \n",
    "    left_join(msoa_rates) %>%\n",
    "    left_join(co2) %>%\n",
    "    left_join(pm) %>% \n",
    "    group_by(School_AnonID, mth, arm, msoa) %>% \n",
    "    summarise(total_in_school = sum(in_school),\n",
    "              total_ill = sum(ill),\n",
    "              overall_illness_rate = total_ill/total_in_school * 100,\n",
    "              mean_weekly_illness_ratio = mean(prop_absent_ill),\n",
    "              mean_msoa_rate = mean(covid_msoa_rate, na.rm=TRUE),\n",
    "              mean_co2 = mean(co2_mean, na.rm=TRUE),\n",
    "              mean_pm = mean(PM2_5_mean, na.rm = T)) %>%\n",
    "    ungroup() %>%\n",
    "    ggplot() +\n",
    "    geom_boxplot(aes(x=mth, y=mean_msoa_rate, color=arm)) +\n",
    "    xlab(\"Date\") +\n",
    "    ylab(\"COVID MSOA Rate\") +\n",
    "    theme_classic() +\n",
    "    scale_color_manual(values=arm_colors, breaks=c(\"Control\", \"HEPA\")) +\n",
    "    theme(legend.direction = \"horizontal\", \n",
    "        legend.position = \"bottom\",\n",
    "        legend.box = \"horizontal\"\n",
    "    )\n",
    "msoa_covid_p"
   ]
  },
  {
   "cell_type": "markdown",
   "id": "36ee145c-1fe0-4589-bda6-aee9cc6258d3",
   "metadata": {},
   "source": [
    "## CO2 RATES "
   ]
  },
  {
   "cell_type": "code",
   "execution_count": 85,
   "id": "4370330d-572d-42e4-bde0-76c7c295264e",
   "metadata": {},
   "outputs": [
    {
     "data": {
      "text/plain": [
       "\n",
       "Call:\n",
       "stats::lm(formula = co2_mean ~ arm, data = df)\n",
       "\n",
       "Residuals:\n",
       "    Min      1Q  Median      3Q     Max \n",
       "-618.30 -209.31    7.06  196.55  892.78 \n",
       "\n",
       "Coefficients:\n",
       "            Estimate Std. Error t value Pr(>|t|)    \n",
       "(Intercept)  1213.86      17.95  67.632   <2e-16 ***\n",
       "armHEPA        55.44      25.96   2.136   0.0332 *  \n",
       "---\n",
       "Signif. codes:  0 ‘***’ 0.001 ‘**’ 0.01 ‘*’ 0.05 ‘.’ 0.1 ‘ ’ 1\n",
       "\n",
       "Residual standard error: 283.2 on 475 degrees of freedom\n",
       "  (56 observations deleted due to missingness)\n",
       "Multiple R-squared:  0.009511,\tAdjusted R-squared:  0.007426 \n",
       "F-statistic: 4.561 on 1 and 475 DF,  p-value: 0.03321\n"
      ]
     },
     "metadata": {},
     "output_type": "display_data"
    }
   ],
   "source": [
    "co2_lm <- stats::lm(co2_mean ~ arm, data = df)\n",
    "summary(co2_lm)"
   ]
  },
  {
   "cell_type": "code",
   "execution_count": 86,
   "id": "ed03ef24-2870-49fd-a3b1-5f5b56c0f1d5",
   "metadata": {},
   "outputs": [
    {
     "name": "stderr",
     "output_type": "stream",
     "text": [
      "\u001b[1m\u001b[22mJoining with `by = join_by(WeekStart, msoa)`\n",
      "\u001b[1m\u001b[22mJoining with `by = join_by(School_AnonID, WeekStart)`\n",
      "\u001b[1m\u001b[22mJoining with `by = join_by(School_AnonID, WeekStart)`\n",
      "\u001b[1m\u001b[22m`summarise()` has grouped output by 'School_AnonID', 'mth', 'arm'. You can\n",
      "override using the `.groups` argument.\n",
      "Warning message:\n",
      "“\u001b[1m\u001b[22mRemoved 1 rows containing non-finite values (`stat_boxplot()`).”\n"
     ]
    },
    {
     "data": {
      "image/png": "[encoded data removed]",
      "text/plain": [
       "plot without title"
      ]
     },
     "metadata": {
      "image/png": {
       "height": 500,
       "width": 800
      }
     },
     "output_type": "display_data"
    }
   ],
   "source": [
    "\n",
    "options(repr.plot.width = 8, repr.plot.height = 5, repr.plot.res = 200)\n",
    "arm_colors <- c(HEPA = \"#808080\", Control = \"#000000\")\n",
    "co2_p <- attendance %>% \n",
    "    left_join(msoa_rates) %>%\n",
    "    left_join(co2) %>%\n",
    "    left_join(pm) %>% \n",
    "    group_by(School_AnonID, mth, arm, msoa) %>% \n",
    "    summarise(total_in_school = sum(in_school),\n",
    "              total_ill = sum(ill),\n",
    "              overall_illness_rate = total_ill/total_in_school * 100,\n",
    "              mean_weekly_illness_ratio = mean(prop_absent_ill),\n",
    "              mean_msoa_rate = mean(covid_msoa_rate, na.rm=TRUE),\n",
    "              mean_co2 = mean(co2_mean, na.rm=TRUE),\n",
    "              mean_pm = mean(PM2_5_mean, na.rm = T)) %>%\n",
    "    ungroup() %>%\n",
    "    ggplot() +\n",
    "    geom_boxplot(aes(x=mth, y=mean_co2, color=arm)) +\n",
    "    xlab(\"Date\") +\n",
    "    ylab(\"Mean CO2\") +\n",
    "    theme_classic() +\n",
    "    scale_color_manual(values=arm_colors, breaks=c(\"Control\", \"HEPA\")) +\n",
    "    theme(legend.direction = \"horizontal\", \n",
    "        legend.position = \"bottom\",\n",
    "        legend.box = \"horizontal\"\n",
    "    )\n",
    "co2_p"
   ]
  },
  {
   "cell_type": "markdown",
   "id": "338763dc-d5ef-45c1-9730-38c0b0f37b66",
   "metadata": {},
   "source": [
    "## PM RATES"
   ]
  },
  {
   "cell_type": "code",
   "execution_count": 87,
   "id": "d8311aea-c8a8-4884-9d41-c771301ce3d3",
   "metadata": {},
   "outputs": [
    {
     "data": {
      "text/plain": [
       "\n",
       "Call:\n",
       "stats::lm(formula = PM2_5_mean ~ arm, data = df)\n",
       "\n",
       "Residuals:\n",
       "   Min     1Q Median     3Q    Max \n",
       "-3.572 -1.996 -0.998 -0.330 57.246 \n",
       "\n",
       "Coefficients:\n",
       "            Estimate Std. Error t value Pr(>|t|)    \n",
       "(Intercept)   4.7934     0.3010  15.925  < 2e-16 ***\n",
       "armHEPA      -2.5844     0.4354  -5.936 5.64e-09 ***\n",
       "---\n",
       "Signif. codes:  0 ‘***’ 0.001 ‘**’ 0.01 ‘*’ 0.05 ‘.’ 0.1 ‘ ’ 1\n",
       "\n",
       "Residual standard error: 4.75 on 475 degrees of freedom\n",
       "  (56 observations deleted due to missingness)\n",
       "Multiple R-squared:  0.06906,\tAdjusted R-squared:  0.0671 \n",
       "F-statistic: 35.24 on 1 and 475 DF,  p-value: 5.638e-09\n"
      ]
     },
     "metadata": {},
     "output_type": "display_data"
    }
   ],
   "source": [
    "pm2_lm <- stats::lm(PM2_5_mean ~ arm, data = df)\n",
    "summary(pm2_lm) "
   ]
  },
  {
   "cell_type": "code",
   "execution_count": 88,
   "id": "0b959bf2-e77a-4f47-a1bd-45121be87d6e",
   "metadata": {},
   "outputs": [
    {
     "name": "stderr",
     "output_type": "stream",
     "text": [
      "\u001b[1m\u001b[22mJoining with `by = join_by(WeekStart, msoa)`\n",
      "\u001b[1m\u001b[22mJoining with `by = join_by(School_AnonID, WeekStart)`\n",
      "\u001b[1m\u001b[22mJoining with `by = join_by(School_AnonID, WeekStart)`\n",
      "\u001b[1m\u001b[22m`summarise()` has grouped output by 'School_AnonID', 'mth', 'arm'. You can\n",
      "override using the `.groups` argument.\n",
      "Warning message:\n",
      "“\u001b[1m\u001b[22mRemoved 40 rows containing non-finite values (`stat_boxplot()`).”\n"
     ]
    },
    {
     "data": {
      "image/png": "[encoded data removed]",
      "text/plain": [
       "plot without title"
      ]
     },
     "metadata": {
      "image/png": {
       "height": 500,
       "width": 800
      }
     },
     "output_type": "display_data"
    }
   ],
   "source": [
    "\n",
    "options(repr.plot.width = 8, repr.plot.height = 5, repr.plot.res = 200)\n",
    "arm_colors <- c(HEPA = \"#808080\", Control = \"#000000\")\n",
    "pm2_plot <- attendance %>% \n",
    "    left_join(msoa_rates) %>%\n",
    "    left_join(co2) %>%\n",
    "    left_join(pm) %>% \n",
    "    group_by(School_AnonID, mth, arm, msoa) %>% \n",
    "    summarise(total_in_school = sum(in_school),\n",
    "              total_ill = sum(ill),\n",
    "              overall_illness_rate = total_ill/total_in_school * 100,\n",
    "              mean_weekly_illness_ratio = mean(prop_absent_ill),\n",
    "              mean_msoa_rate = mean(covid_msoa_rate, na.rm=TRUE),\n",
    "              mean_co2 = mean(co2_mean, na.rm=TRUE),\n",
    "              mean_pm = mean(PM2_5_mean, na.rm = T)) %>%\n",
    "    ungroup() %>%\n",
    "    ggplot() +\n",
    "    geom_boxplot(aes(x=mth, y=mean_pm, color=arm)) +\n",
    "    xlab(\"Date\") +\n",
    "    ylab(\"Mean PM2.5\") +\n",
    "    theme_classic() +\n",
    "    scale_color_manual(values=arm_colors, breaks=c(\"Control\", \"HEPA\")) +\n",
    "    theme(legend.direction = \"horizontal\", \n",
    "        legend.position = \"bottom\",\n",
    "        legend.box = \"horizontal\"\n",
    "    )\n",
    "pm2_plot"
   ]
  },
  {
   "cell_type": "markdown",
   "id": "404ebec3-1728-4473-99f1-1db350f36f8f",
   "metadata": {},
   "source": [
    "### Above repeated with outliers removed "
   ]
  },
  {
   "cell_type": "code",
   "execution_count": 89,
   "id": "89fbbb15-0a8b-45a3-be8c-68bd8fb2fc47",
   "metadata": {},
   "outputs": [
    {
     "name": "stderr",
     "output_type": "stream",
     "text": [
      "\u001b[1m\u001b[22mJoining with `by = join_by(WeekStart, msoa)`\n",
      "\u001b[1m\u001b[22mJoining with `by = join_by(School_AnonID, WeekStart)`\n",
      "\u001b[1m\u001b[22mJoining with `by = join_by(School_AnonID, WeekStart)`\n",
      "\u001b[1m\u001b[22mAdding missing grouping variables: `WeekStart`\n"
     ]
    }
   ],
   "source": [
    "df_wo_outliers <- attendance %>% \n",
    "    filter(!is_outlier) %>% \n",
    "    left_join(msoa_rates) %>%\n",
    "    left_join(co2) %>%\n",
    "    left_join(pm) %>%\n",
    "select(School_AnonID, msoa, arm, mth, illness_rate, covid_msoa_rate, co2_mean, PM2_5_mean) "
   ]
  },
  {
   "cell_type": "code",
   "execution_count": 90,
   "id": "525d6a9e-a5a3-45af-94a5-3d87bde26c27",
   "metadata": {},
   "outputs": [
    {
     "data": {
      "text/plain": [
       "\n",
       "Call:\n",
       "stats::lm(formula = PM2_5_mean ~ arm, data = df_wo_outliers)\n",
       "\n",
       "Residuals:\n",
       "   Min     1Q Median     3Q    Max \n",
       "-3.621 -2.024 -1.005 -0.343 57.197 \n",
       "\n",
       "Coefficients:\n",
       "            Estimate Std. Error t value Pr(>|t|)    \n",
       "(Intercept)   4.8428     0.3073  15.760  < 2e-16 ***\n",
       "armHEPA      -2.6464     0.4457  -5.937 5.69e-09 ***\n",
       "---\n",
       "Signif. codes:  0 ‘***’ 0.001 ‘**’ 0.01 ‘*’ 0.05 ‘.’ 0.1 ‘ ’ 1\n",
       "\n",
       "Residual standard error: 4.8 on 463 degrees of freedom\n",
       "  (56 observations deleted due to missingness)\n",
       "Multiple R-squared:  0.07075,\tAdjusted R-squared:  0.06874 \n",
       "F-statistic: 35.25 on 1 and 463 DF,  p-value: 5.689e-09\n"
      ]
     },
     "metadata": {},
     "output_type": "display_data"
    }
   ],
   "source": [
    "pm2_lm_outliers <- stats::lm(PM2_5_mean ~ arm, data = df_wo_outliers)\n",
    "    summary(pm2_lm_outliers) "
   ]
  },
  {
   "cell_type": "code",
   "execution_count": 91,
   "id": "5267898f-3212-418d-a9c0-c7de6e642163",
   "metadata": {},
   "outputs": [
    {
     "data": {
      "text/plain": [
       "\n",
       "Call:\n",
       "stats::lm(formula = co2_mean ~ arm, data = df_wo_outliers)\n",
       "\n",
       "Residuals:\n",
       "    Min      1Q  Median      3Q     Max \n",
       "-629.92 -208.75    8.46  195.76  890.14 \n",
       "\n",
       "Coefficients:\n",
       "            Estimate Std. Error t value Pr(>|t|)    \n",
       "(Intercept)  1216.51      17.91  67.912   <2e-16 ***\n",
       "armHEPA        64.41      25.98   2.479   0.0135 *  \n",
       "---\n",
       "Signif. codes:  0 ‘***’ 0.001 ‘**’ 0.01 ‘*’ 0.05 ‘.’ 0.1 ‘ ’ 1\n",
       "\n",
       "Residual standard error: 279.8 on 463 degrees of freedom\n",
       "  (56 observations deleted due to missingness)\n",
       "Multiple R-squared:  0.0131,\tAdjusted R-squared:  0.01097 \n",
       "F-statistic: 6.145 on 1 and 463 DF,  p-value: 0.01353\n"
      ]
     },
     "metadata": {},
     "output_type": "display_data"
    }
   ],
   "source": [
    "co2_lm_outliers <- stats::lm(co2_mean ~ arm, data = df_wo_outliers)\n",
    "summary(co2_lm_outliers)"
   ]
  },
  {
   "cell_type": "code",
   "execution_count": 92,
   "id": "2a605067-a3e2-40a3-8c83-70239a5d638c",
   "metadata": {},
   "outputs": [
    {
     "data": {
      "text/plain": [
       "\n",
       "Call:\n",
       "stats::lm(formula = covid_msoa_rate ~ arm, data = df_wo_outliers)\n",
       "\n",
       "Residuals:\n",
       "    Min      1Q  Median      3Q     Max \n",
       "-446.51 -321.69 -179.51   92.46 2584.69 \n",
       "\n",
       "Coefficients:\n",
       "            Estimate Std. Error t value Pr(>|t|)    \n",
       "(Intercept)   518.81      30.41  17.059   <2e-16 ***\n",
       "armHEPA       -23.04      44.17  -0.522    0.602    \n",
       "---\n",
       "Signif. codes:  0 ‘***’ 0.001 ‘**’ 0.01 ‘*’ 0.05 ‘.’ 0.1 ‘ ’ 1\n",
       "\n",
       "Residual standard error: 502.5 on 517 degrees of freedom\n",
       "  (2 observations deleted due to missingness)\n",
       "Multiple R-squared:  0.0005261,\tAdjusted R-squared:  -0.001407 \n",
       "F-statistic: 0.2721 on 1 and 517 DF,  p-value: 0.6021\n"
      ]
     },
     "metadata": {},
     "output_type": "display_data"
    }
   ],
   "source": [
    "covid_lm_outliers <- stats::lm(covid_msoa_rate ~ arm, data = df_wo_outliers)\n",
    "summary(covid_lm_outliers)"
   ]
  },
  {
   "cell_type": "code",
   "execution_count": 93,
   "id": "27e26e8b-99fa-4c9e-a652-6f5c0fa30882",
   "metadata": {},
   "outputs": [
    {
     "name": "stderr",
     "output_type": "stream",
     "text": [
      "\u001b[1m\u001b[22m`summarise()` has grouped output by 'School_AnonID'. You can override using the\n",
      "`.groups` argument.\n"
     ]
    }
   ],
   "source": [
    "## Download agg data \n",
    "\n",
    "agg_data <- bq_table_download(attendance_table) %>%\n",
    "filter(School_AnonID %in% study_schools) %>%\n",
    "filter(pct_in_school > 0) %>%\n",
    "filter(Unk / (pupils * 14) < 0.01) %>%\n",
    "filter(WeekStart < end_date) %>%\n",
    "mutate(arm = case_when(School_AnonID %in% hepa_school_codes ~ \"HEPA\",\n",
    "School_AnonID %in% control_school_codes ~ \"Control\"),\n",
    "mth = factor(month.abb[month(WeekStart)],\n",
    "levels=c(\"Sep\", \"Oct\", \"Nov\", \"Dec\", \"Jan\", \"Feb\", \"Mar\"),\n",
    "ordered=TRUE),\n",
    "illness_rate = prop_absent_ill * 100) %>%\n",
    "group_by(WeekStart, arm) %>%\n",
    "mutate(outlier_threshold = mean(prop_absent_ill) + 3.25 *(IQR(prop_absent_ill, na.rm=TRUE)),\n",
    "is_outlier = prop_absent_ill > outlier_threshold) %>%\n",
    "group_by(School_AnonID, arm) %>%\n",
    "summarise(in_school = sum(in_school),\n",
    "ill = sum(ill)) %>%\n",
    "pivot_longer(cols=c(in_school, ill),\n",
    "names_to = \"attendance_type\",\n",
    "values_to = \"attendance_count\") %>%\n",
    "mutate(is_illness = as.integer(attendance_type == \"ill\"),\n",
    "hepa_filters = as.integer(arm == \"HEPA\"))"
   ]
  },
  {
   "cell_type": "code",
   "execution_count": 94,
   "id": "2462e546-9854-4ae3-a4c6-0d0483eb6310",
   "metadata": {},
   "outputs": [],
   "source": [
    "#agg_data"
   ]
  }
 ],
 "metadata": {
  "environment": {
   "kernel": "ir",
   "name": "r-cpu.4-2.m111",
   "type": "gcloud",
   "uri": "gcr.io/deeplearning-platform-release/r-cpu.4-2:m111"
  },
  "kernelspec": {
   "display_name": "R",
   "language": "R",
   "name": "ir"
  },
  "language_info": {
   "codemirror_mode": "r",
   "file_extension": ".r",
   "mimetype": "text/x-r-source",
   "name": "R",
   "pygments_lexer": "r",
   "version": "4.3.1"
  }
 },
 "nbformat": 4,
 "nbformat_minor": 5
}
