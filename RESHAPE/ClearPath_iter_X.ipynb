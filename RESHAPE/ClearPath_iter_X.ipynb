{
 "cells": [
  {
   "cell_type": "markdown",
   "id": "1879adb2-346a-484a-8b6d-47c79b601bb9",
   "metadata": {},
   "source": [
    "# Run `ClearPath_iter_2.ipynb` first."
   ]
  },
  {
   "cell_type": "markdown",
   "id": "c8bef23e-abf6-438a-aa2e-a7103b6406ce",
   "metadata": {
    "tags": []
   },
   "source": [
    "# ==========\n",
    "# = Iteration #3 =\n",
    "# =========="
   ]
  },
  {
   "cell_type": "markdown",
   "id": "77aade3c-a791-4a46-8559-e77dbba929e2",
   "metadata": {},
   "source": [
    "## Stage 1: Planning\n",
    "The tasks for this stage are:\n",
    "1. Compose the project team\n",
    "2. Set the research question\n",
    "3. Schedule all review meeting to ensure iterations are time-boxed.\n",
    "\n",
    "### 3.1.1. Compose the project team\n",
    "No change since previous iteration.\n",
    "\n",
    "### 3.1.2. Set the research question\n",
    "The research question is _How representative is a simulated process model of the discovered process model, in terms of control, engagement, and adherence statistics ?_\n",
    "\n",
    "### 3.1.3. Schedule all review meeting to ensure iterations are time-boxed\n",
    "No change since previous iteration."
   ]
  },
  {
   "cell_type": "markdown",
   "id": "b6b484dd-21ea-4bb2-be4a-660228e9a7b5",
   "metadata": {},
   "source": [
    "## Stage 2: Extraction\n",
    "This tasks for this stage are:\n",
    "1. Gather knowledge and insight into the processes under study and the data-generating mechanisms.\n",
    "2. Obtain data for processing\n",
    "\n",
    "### 3.2.1. Gather knowledge and insight into the processes under study and the data-generating mechanisms.\n",
    "No change since previous iteration.\n",
    "\n",
    "### 3.2.2. Obtain data for processing\n",
    "No change since previous iteration."
   ]
  },
  {
   "cell_type": "markdown",
   "id": "bd6e8e5d-644e-4a12-8f56-eef61398d2cc",
   "metadata": {
    "tags": []
   },
   "source": [
    "## Stage 3: Data processing\n",
    "This tasks for this stage are:\n",
    "1. Assess data quality\n",
    "2. Format data for study\n",
    "\n",
    "### 3.3.1. Assess data quality\n",
    "No change since previous iteration.\n",
    "\n",
    "### 3.3.2. Format data for study\n",
    "No change since previous iteration."
   ]
  },
  {
   "cell_type": "markdown",
   "id": "041b561e-acbf-498a-8ec1-c8560fd09151",
   "metadata": {
    "tags": []
   },
   "source": [
    "## Stage 4: Mining and analysis\n",
    "This tasks for this stage are:\n",
    "1. Discover / Mine process models\n",
    "2. Build simulation models, if applicable\n",
    "3. Design and test model evaluation rig\n",
    "4. Set up and/or update the evidence template\n",
    "\n",
    "### 3.4.1 Discover / Mine process models\n",
    "No further process mining is required to answer the research question associated with this iteration. I will use the discovered processes from the previous iteration.\n",
    "\n",
    "### 3.4.2 Build simulation models, if applicable\n",
    "The process models \"discovered\" using process-mining methods lend themselves to discrete event simulation (DES), for which the `simmer` package in R was developed."
   ]
  },
  {
   "cell_type": "code",
   "execution_count": null,
   "id": "3c55b233-e7c8-4f12-af6d-fee5196bee1d",
   "metadata": {},
   "outputs": [],
   "source": [
    "# Simulate.\n",
    "..."
   ]
  },
  {
   "cell_type": "markdown",
   "id": "239f255b-b01a-4343-81a2-08087002741a",
   "metadata": {},
   "source": [
    "### 3.4.3 Design and test model evaluation rig\n",
    "All process models will be evaluated for the control, engagement, and adherence statistics listed below. All adherence statistics will be calculated by the `AdhereR` package in R. \"CMA\" stands for continuous medication adherence. \"Duration of supply\" is the quantity of medication prescribed divided by the directed daily usage (e.g. 28 tablets at 1 per day = 28-day duration of supply). These durations can overlap. Although arithmetically equivalent, the \"duration of theoretical adherence\" assumes the durations of supply are stitched end-to-end rather than overlapped.\n",
    "#### Control statistics\n",
    "1. _Test status_: a binary indicator variable indicating whether the given test value is 'Of concern' or 'No concern'. RAYG {>70, 70<=x<=58, 58<=x<=48, <48}\n",
    "2. _Test improvement_: a binary indicator variable indicating whether the given test value is an 'Improvment' or 'Disimprovement' relative to the previous test value.\n",
    "#### Engagement statistics\n",
    "3. _Count of DNAs_: the count of did-not-attend events recorded during the inter-test interval.\n",
    "#### Adherence statistics (see [Vollmer et al. 2012](https://bmchealthservres.biomedcentral.com/counter/pdf/10.1186/1472-6963-12-155) and [Dima and Dediu 2017](https://sci-hub.wf/10.1371/journal.pone.0174426))\n",
    "4. _CMA1_ a.k.a. _Medication Possession Ratio_ a.k.a. _Compliance Rate_: the sum of every prescription's duration of supply from all but the last prescription started within the observations window, divided by the number of days between the first and last prescription.\n",
    "5. _CMA2_ a.k.a. _Medication Possession Ratio_ a.k.a. _Continuous Measure of Medication Acquisition_: the sum of every prescription's duration of supply from all prescriptions started within the observations window, divided by the number of days between the first prescription and the end of the observation window. \n",
    "6. _CMA3_ a.k.a. _Proportion of Days Covered_: CMA1 capped at 1.0.\n",
    "7. _CMA4_ a.k.a. _Proportion of Days Covered_: CMA2 capped at 1.0.\n",
    "8. _CMA5_ a.k.a. _Proportion of Days Covered_: the sum of every prescription's duration of theoretical adherence from all but the last prescription started within the observations window, divided by the number of days between the first and last prescription.\n",
    "9. _CAM6_ a.k.a. _Proportion of Days Covered_: the sum of every prescription's duration of theoretical adherence from all prescriptions started within the observations window, divided by the number of days between the first prescription and the end of the observation window. \n",
    "10. _CAM7_: the sum of every prescription's duration of theoretical adherence from all prescriptions started within the observations window, plus any portion of the duration of theoretical adherence from prescriptions started before the observation window, all divided by the width of the observation window.\n",
    "11. _CAM8_: the sum of every prescription's duration of theoretical adherence from all prescriptions started within the observations window, divided by the width of the observation window, but the start of the observation window is lagged to start on the date that the duration of theoretical adherence from prescriptions started before the observation window ends.\n",
    "12. _CAM9_: the numerator is the sum of either a) all durations of theoretical adherence, if there is overlap, or b) each duration of supply as a proportion of inter-prescription days. The denominator is the width of the observation window. Essentially, if gaps exist between prescriptions, it assumes they don't by spreading the supply over the inter-prescription period, which results in fractional daily supply (rather than the true case of full supply on some days and no supply on others). Finaly prescriptions are included.\n",
    "\n",
    "All adherence statistics can be calculated by the `AdhereR` package in R. \"CMA\" stands for continuous medication adherence. Other key concepts related to the adherence statistics are:\n",
    "- the follow-up window is the total period for which relevant prescriptions are included.\n",
    "- the observation window is the period within the follow-up window for which adherence is calculated. This is always expected to occur after the last prescription of interest.\n",
    "- the date of prescription is used as the date of dispense or issue when the date of dispense or issue are not available.\n",
    "- surplus medication from earlier overlapping events within the observation are carried over, for CAM5 and higher.\n",
    "- surplus medication from before the observation are carried over, for CAM7 and higher.\n",
    "- CAM3 will always equal CAM5, and CAM4 will always equal CAM6 for a fixed observation window\n",
    "- it is possible to set threshold gaps between prescriptions that do break the prescription history into epsiodes within the observation window. The CMAs can be calculated for these periods instead of considering the entire observation window as one episode.\n",
    "- if the period between prescriptions is greater than the N-per-day expection, then one can assume that either a) patients use the medication sparingly and get a new prescription exactly when their previous prescription is exhausted, or b) the period between prescriptions are made up of a period of perfect dherence to the N-per-day expectation followed by a period with no medicatl available. The distinction between these distinguishes CMAs 1-4 from CMAs 5-9."
   ]
  },
  {
   "cell_type": "code",
   "execution_count": null,
   "id": "2cd0136e-be89-412a-a005-b2672a8f966b",
   "metadata": {},
   "outputs": [],
   "source": [
    "# Control statistics.\n",
    "...\n",
    "\n",
    "\n",
    "# Engagement statistics.\n",
    "...\n",
    "\n",
    "\n",
    "# Adherence statistics.\n",
    "..."
   ]
  },
  {
   "cell_type": "markdown",
   "id": "6dbc8ff0-f595-4370-8492-790eeb7c3b17",
   "metadata": {},
   "source": [
    "### 3.4.4 Set up and/or update the evidence template\n",
    "No change since previous iteration."
   ]
  },
  {
   "cell_type": "markdown",
   "id": "1cec32c7-b38a-4280-b749-49a49d8b5862",
   "metadata": {},
   "source": [
    "## Stage 5: Evaluation\n",
    "This tasks for this stage are:\n",
    "1. Meet with Clinical Review Board to assess validity.\n",
    "2. Set requirements for next interation of stages 1-5.\n",
    "\n",
    "### 3.5.1. Meet with Clinical Review Board to assess validity\n",
    "My assessment is that the simluated model is fit for the purposes of this example.\n",
    "\n",
    "### 3.5.2 Set requirements for next interation of stages 1-5.\n",
    "Requirements for the next iteration are:\n",
    "1. Evaluate a perturbed simulation model that halves the inter-test duration.\n",
    "2. Report on the differences in evaluation statistics between the simulated and perturbed model."
   ]
  }
 ],
 "metadata": {
  "environment": {
   "kernel": "ir",
   "name": ".m115",
   "type": "gcloud",
   "uri": "gcr.io/deeplearning-platform-release/:m115"
  },
  "kernelspec": {
   "display_name": "R",
   "language": "R",
   "name": "ir"
  },
  "language_info": {
   "codemirror_mode": "r",
   "file_extension": ".r",
   "mimetype": "text/x-r-source",
   "name": "R",
   "pygments_lexer": "r",
   "version": "4.3.2"
  }
 },
 "nbformat": 4,
 "nbformat_minor": 5
}
