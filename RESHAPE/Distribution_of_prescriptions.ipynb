{
 "cells": [
  {
   "cell_type": "markdown",
   "id": "e2ba08cb-795c-4b47-bbe2-c2711045a5e2",
   "metadata": {},
   "source": [
    "# Medication prevalence\n",
    "The purpose of this notebook is to rank the diabetes medications of interest by their prevalence in patients' primary-care records."
   ]
  },
  {
   "cell_type": "markdown",
   "id": "92e157ba-75bf-4f04-a3cc-4224c4fae254",
   "metadata": {},
   "source": [
    "Install packages."
   ]
  },
  {
   "cell_type": "code",
   "execution_count": 1,
   "id": "821d9346-d9bc-4a5a-b614-02515202cd00",
   "metadata": {
    "jupyter": {
     "source_hidden": true
    },
    "tags": []
   },
   "outputs": [
    {
     "name": "stderr",
     "output_type": "stream",
     "text": [
      "── \u001b[1mAttaching core tidyverse packages\u001b[22m ──────────────────────── tidyverse 2.0.0 ──\n",
      "\u001b[32m✔\u001b[39m \u001b[34mdplyr    \u001b[39m 1.1.2     \u001b[32m✔\u001b[39m \u001b[34mreadr    \u001b[39m 2.1.4\n",
      "\u001b[32m✔\u001b[39m \u001b[34mforcats  \u001b[39m 1.0.0     \u001b[32m✔\u001b[39m \u001b[34mstringr  \u001b[39m 1.5.0\n",
      "\u001b[32m✔\u001b[39m \u001b[34mlubridate\u001b[39m 1.9.2     \u001b[32m✔\u001b[39m \u001b[34mtibble   \u001b[39m 3.2.1\n",
      "\u001b[32m✔\u001b[39m \u001b[34mpurrr    \u001b[39m 1.0.2     \u001b[32m✔\u001b[39m \u001b[34mtidyr    \u001b[39m 1.3.0\n",
      "── \u001b[1mConflicts\u001b[22m ────────────────────────────────────────── tidyverse_conflicts() ──\n",
      "\u001b[31m✖\u001b[39m \u001b[34mdplyr\u001b[39m::\u001b[32mfilter()\u001b[39m masks \u001b[34mstats\u001b[39m::filter()\n",
      "\u001b[31m✖\u001b[39m \u001b[34mdplyr\u001b[39m::\u001b[32mlag()\u001b[39m    masks \u001b[34mstats\u001b[39m::lag()\n",
      "\u001b[36mℹ\u001b[39m Use the conflicted package (\u001b[3m\u001b[34m<http://conflicted.r-lib.org/>\u001b[39m\u001b[23m) to force all conflicts to become errors\n"
     ]
    }
   ],
   "source": [
    "#######################\n",
    "## Install packages. ##\n",
    "#######################\n",
    "library( bigrquery )\n",
    "library( ggplot2 )\n",
    "library( tidyverse )\n",
    "library( readr )"
   ]
  },
  {
   "cell_type": "markdown",
   "id": "ca58ebad-a092-46fb-ab7c-7756c9abd36a",
   "metadata": {},
   "source": [
    "Set and load requisites."
   ]
  },
  {
   "cell_type": "code",
   "execution_count": 2,
   "id": "3a8de0bc-cb48-4bc0-85e3-910316ef94ef",
   "metadata": {
    "tags": []
   },
   "outputs": [
    {
     "name": "stderr",
     "output_type": "stream",
     "text": [
      "Warning message:\n",
      "“<BigQueryConnection> uses an old dbplyr interface\n",
      "\u001b[34mℹ\u001b[39m Please install a newer version of the package or contact the maintainer\n",
      "\u001b[90mThis warning is displayed once every 8 hours.\u001b[39m”\n"
     ]
    }
   ],
   "source": [
    "##############################\n",
    "## Set and load requisites. ##\n",
    "##############################\n",
    "\n",
    "# Setup connection to GCP.\n",
    "project_id = \"yhcr-prd-phm-bia-core\"\n",
    "con <- DBI::dbConnect( drv = bigquery(), project = project_id )\n",
    "\n",
    "# Define R tibbles from GCP tables.\n",
    "r_tbl_srcode <- dplyr::tbl( con, \"CB_FDM_PrimaryCare_V7.tbl_srcode\" )\n",
    "r_tbl_BNF_DMD_SNOMED_lkp <- dplyr::tbl( con, \"CB_LOOKUPS.tbl_BNF_DMD_SNOMED_lkp\" )\n",
    "r_tbl_srprimarycaremedication <- dplyr::tbl( con, \"CB_FDM_PrimaryCare_V7.tbl_srprimarycaremedication\" )\n",
    "\n",
    "# Clinical code lists (BNF, SNOMED-CT, etc).\n",
    "codes_SNOMED_test_of_interest <-\n",
    "    readr::read_csv(file = 'opensafely-glycated-haemoglobin-hba1c-tests-3e5b1269.csv',\n",
    "                    col_types = cols( code = col_character(), term = col_character() ) )$code\n",
    "codes_BNF_meds_of_interest <-\n",
    "    readr::read_csv(file = 'ciaranmci-bnf-section-61-drugs-for-diabetes-207573b7.csv',\n",
    "                    col_types = cols( code = col_character(), term = col_character() ) )$code\n",
    "names_meds_of_interest <-\n",
    "    r_tbl_BNF_DMD_SNOMED_lkp %>%\n",
    "    dplyr::filter( BNF_Code %in% codes_BNF_meds_of_interest ) %>%\n",
    "    dplyr::select( DMplusD_ProductDescription )"
   ]
  },
  {
   "cell_type": "markdown",
   "id": "e779529e-3880-42a6-8ecc-aca36f0e2180",
   "metadata": {},
   "source": [
    "Rank medications of interest for their prevalence among patients. A medication is counted once for each patient if the patient has been prescribed it."
   ]
  },
  {
   "cell_type": "code",
   "execution_count": 18,
   "id": "ceafd2d4-fd2e-4f51-953d-4099c33ad665",
   "metadata": {},
   "outputs": [
    {
     "data": {
      "text/html": [
       "<table class=\"dataframe\">\n",
       "<caption>A tibble: 11 × 4</caption>\n",
       "<thead>\n",
       "\t<tr><th scope=col>nameofmedication</th><th scope=col>medicationquantity</th><th scope=col>medicationdosage</th><th scope=col>count_records_per_medication</th></tr>\n",
       "\t<tr><th scope=col>&lt;chr&gt;</th><th scope=col>&lt;chr&gt;</th><th scope=col>&lt;chr&gt;</th><th scope=col>&lt;int&gt;</th></tr>\n",
       "</thead>\n",
       "<tbody>\n",
       "\t<tr><td>Metformin 500mg tablets    </td><td>84 tablet </td><td>take one 3 times/day</td><td>104340</td></tr>\n",
       "\t<tr><td>Canagliflozin 100mg tablets</td><td>30 tablet </td><td>take one daily      </td><td>115053</td></tr>\n",
       "\t<tr><td>Empagliflozin 10mg tablets </td><td>28 tablet </td><td>take one daily      </td><td>124302</td></tr>\n",
       "\t<tr><td>Metformin 850mg tablets    </td><td>56 tablet </td><td>take one twice daily</td><td>141676</td></tr>\n",
       "\t<tr><td>Sitagliptin 100mg tablets  </td><td>28 tablets</td><td>take one daily      </td><td>149520</td></tr>\n",
       "\t<tr><td>Linagliptin 5mg tablets    </td><td>7 tablet  </td><td>take one daily      </td><td>165567</td></tr>\n",
       "\t<tr><td>Metformin 850mg tablets    </td><td>56 tablets</td><td>take one twice daily</td><td>177912</td></tr>\n",
       "\t<tr><td>Sitagliptin 100mg tablets  </td><td>7 tablet  </td><td>take one daily      </td><td>193854</td></tr>\n",
       "\t<tr><td>Linagliptin 5mg tablets    </td><td>28 tablet </td><td>take one daily      </td><td>228321</td></tr>\n",
       "\t<tr><td>Metformin 500mg tablets    </td><td>84 tablets</td><td>take one 3 times/day</td><td>237635</td></tr>\n",
       "\t<tr><td>Sitagliptin 100mg tablets  </td><td>28 tablet </td><td>take one daily      </td><td>311865</td></tr>\n",
       "</tbody>\n",
       "</table>\n"
      ],
      "text/latex": [
       "A tibble: 11 × 4\n",
       "\\begin{tabular}{llll}\n",
       " nameofmedication & medicationquantity & medicationdosage & count\\_records\\_per\\_medication\\\\\n",
       " <chr> & <chr> & <chr> & <int>\\\\\n",
       "\\hline\n",
       "\t Metformin 500mg tablets     & 84 tablet  & take one 3 times/day & 104340\\\\\n",
       "\t Canagliflozin 100mg tablets & 30 tablet  & take one daily       & 115053\\\\\n",
       "\t Empagliflozin 10mg tablets  & 28 tablet  & take one daily       & 124302\\\\\n",
       "\t Metformin 850mg tablets     & 56 tablet  & take one twice daily & 141676\\\\\n",
       "\t Sitagliptin 100mg tablets   & 28 tablets & take one daily       & 149520\\\\\n",
       "\t Linagliptin 5mg tablets     & 7 tablet   & take one daily       & 165567\\\\\n",
       "\t Metformin 850mg tablets     & 56 tablets & take one twice daily & 177912\\\\\n",
       "\t Sitagliptin 100mg tablets   & 7 tablet   & take one daily       & 193854\\\\\n",
       "\t Linagliptin 5mg tablets     & 28 tablet  & take one daily       & 228321\\\\\n",
       "\t Metformin 500mg tablets     & 84 tablets & take one 3 times/day & 237635\\\\\n",
       "\t Sitagliptin 100mg tablets   & 28 tablet  & take one daily       & 311865\\\\\n",
       "\\end{tabular}\n"
      ],
      "text/markdown": [
       "\n",
       "A tibble: 11 × 4\n",
       "\n",
       "| nameofmedication &lt;chr&gt; | medicationquantity &lt;chr&gt; | medicationdosage &lt;chr&gt; | count_records_per_medication &lt;int&gt; |\n",
       "|---|---|---|---|\n",
       "| Metformin 500mg tablets     | 84 tablet  | take one 3 times/day | 104340 |\n",
       "| Canagliflozin 100mg tablets | 30 tablet  | take one daily       | 115053 |\n",
       "| Empagliflozin 10mg tablets  | 28 tablet  | take one daily       | 124302 |\n",
       "| Metformin 850mg tablets     | 56 tablet  | take one twice daily | 141676 |\n",
       "| Sitagliptin 100mg tablets   | 28 tablets | take one daily       | 149520 |\n",
       "| Linagliptin 5mg tablets     | 7 tablet   | take one daily       | 165567 |\n",
       "| Metformin 850mg tablets     | 56 tablets | take one twice daily | 177912 |\n",
       "| Sitagliptin 100mg tablets   | 7 tablet   | take one daily       | 193854 |\n",
       "| Linagliptin 5mg tablets     | 28 tablet  | take one daily       | 228321 |\n",
       "| Metformin 500mg tablets     | 84 tablets | take one 3 times/day | 237635 |\n",
       "| Sitagliptin 100mg tablets   | 28 tablet  | take one daily       | 311865 |\n",
       "\n"
      ],
      "text/plain": [
       "   nameofmedication            medicationquantity medicationdosage    \n",
       "1  Metformin 500mg tablets     84 tablet          take one 3 times/day\n",
       "2  Canagliflozin 100mg tablets 30 tablet          take one daily      \n",
       "3  Empagliflozin 10mg tablets  28 tablet          take one daily      \n",
       "4  Metformin 850mg tablets     56 tablet          take one twice daily\n",
       "5  Sitagliptin 100mg tablets   28 tablets         take one daily      \n",
       "6  Linagliptin 5mg tablets     7 tablet           take one daily      \n",
       "7  Metformin 850mg tablets     56 tablets         take one twice daily\n",
       "8  Sitagliptin 100mg tablets   7 tablet           take one daily      \n",
       "9  Linagliptin 5mg tablets     28 tablet          take one daily      \n",
       "10 Metformin 500mg tablets     84 tablets         take one 3 times/day\n",
       "11 Sitagliptin 100mg tablets   28 tablet          take one daily      \n",
       "   count_records_per_medication\n",
       "1  104340                      \n",
       "2  115053                      \n",
       "3  124302                      \n",
       "4  141676                      \n",
       "5  149520                      \n",
       "6  165567                      \n",
       "7  177912                      \n",
       "8  193854                      \n",
       "9  228321                      \n",
       "10 237635                      \n",
       "11 311865                      "
      ]
     },
     "metadata": {},
     "output_type": "display_data"
    }
   ],
   "source": [
    "qry %>%\n",
    "    dplyr::filter( !is.na( count_records_per_medication ) ) %>% \n",
    "    dbplyr::window_order( count_records_per_medication ) %>%\n",
    "    dplyr::filter( row_number() >= ( n() - 10 ) ) %>%\n",
    "    dplyr::arrange( count_records_per_medication ) %>% collect()"
   ]
  },
  {
   "cell_type": "code",
   "execution_count": 21,
   "id": "bc0727a1-6be2-48d1-90c7-524a832e3335",
   "metadata": {
    "tags": []
   },
   "outputs": [
    {
     "data": {
      "text/html": [
       "<table class=\"dataframe\">\n",
       "<caption>A tibble: 11 × 4</caption>\n",
       "<thead>\n",
       "\t<tr><th scope=col>nameofmedication</th><th scope=col>medicationquantity</th><th scope=col>medicationdosage</th><th scope=col>count_records_per_medication</th></tr>\n",
       "\t<tr><th scope=col>&lt;chr&gt;</th><th scope=col>&lt;chr&gt;</th><th scope=col>&lt;chr&gt;</th><th scope=col>&lt;int&gt;</th></tr>\n",
       "</thead>\n",
       "<tbody>\n",
       "\t<tr><td>Metformin 500mg tablets    </td><td>84 tablet </td><td>take one 3 times/day</td><td>104340</td></tr>\n",
       "\t<tr><td>Canagliflozin 100mg tablets</td><td>30 tablet </td><td>take one daily      </td><td>115053</td></tr>\n",
       "\t<tr><td>Empagliflozin 10mg tablets </td><td>28 tablet </td><td>take one daily      </td><td>124302</td></tr>\n",
       "\t<tr><td>Metformin 850mg tablets    </td><td>56 tablet </td><td>take one twice daily</td><td>141676</td></tr>\n",
       "\t<tr><td>Sitagliptin 100mg tablets  </td><td>28 tablets</td><td>take one daily      </td><td>149520</td></tr>\n",
       "\t<tr><td>Linagliptin 5mg tablets    </td><td>7 tablet  </td><td>take one daily      </td><td>165567</td></tr>\n",
       "\t<tr><td>Metformin 850mg tablets    </td><td>56 tablets</td><td>take one twice daily</td><td>177912</td></tr>\n",
       "\t<tr><td>Sitagliptin 100mg tablets  </td><td>7 tablet  </td><td>take one daily      </td><td>193854</td></tr>\n",
       "\t<tr><td>Linagliptin 5mg tablets    </td><td>28 tablet </td><td>take one daily      </td><td>228321</td></tr>\n",
       "\t<tr><td>Metformin 500mg tablets    </td><td>84 tablets</td><td>take one 3 times/day</td><td>237635</td></tr>\n",
       "\t<tr><td>Sitagliptin 100mg tablets  </td><td>28 tablet </td><td>take one daily      </td><td>311865</td></tr>\n",
       "</tbody>\n",
       "</table>\n"
      ],
      "text/latex": [
       "A tibble: 11 × 4\n",
       "\\begin{tabular}{llll}\n",
       " nameofmedication & medicationquantity & medicationdosage & count\\_records\\_per\\_medication\\\\\n",
       " <chr> & <chr> & <chr> & <int>\\\\\n",
       "\\hline\n",
       "\t Metformin 500mg tablets     & 84 tablet  & take one 3 times/day & 104340\\\\\n",
       "\t Canagliflozin 100mg tablets & 30 tablet  & take one daily       & 115053\\\\\n",
       "\t Empagliflozin 10mg tablets  & 28 tablet  & take one daily       & 124302\\\\\n",
       "\t Metformin 850mg tablets     & 56 tablet  & take one twice daily & 141676\\\\\n",
       "\t Sitagliptin 100mg tablets   & 28 tablets & take one daily       & 149520\\\\\n",
       "\t Linagliptin 5mg tablets     & 7 tablet   & take one daily       & 165567\\\\\n",
       "\t Metformin 850mg tablets     & 56 tablets & take one twice daily & 177912\\\\\n",
       "\t Sitagliptin 100mg tablets   & 7 tablet   & take one daily       & 193854\\\\\n",
       "\t Linagliptin 5mg tablets     & 28 tablet  & take one daily       & 228321\\\\\n",
       "\t Metformin 500mg tablets     & 84 tablets & take one 3 times/day & 237635\\\\\n",
       "\t Sitagliptin 100mg tablets   & 28 tablet  & take one daily       & 311865\\\\\n",
       "\\end{tabular}\n"
      ],
      "text/markdown": [
       "\n",
       "A tibble: 11 × 4\n",
       "\n",
       "| nameofmedication &lt;chr&gt; | medicationquantity &lt;chr&gt; | medicationdosage &lt;chr&gt; | count_records_per_medication &lt;int&gt; |\n",
       "|---|---|---|---|\n",
       "| Metformin 500mg tablets     | 84 tablet  | take one 3 times/day | 104340 |\n",
       "| Canagliflozin 100mg tablets | 30 tablet  | take one daily       | 115053 |\n",
       "| Empagliflozin 10mg tablets  | 28 tablet  | take one daily       | 124302 |\n",
       "| Metformin 850mg tablets     | 56 tablet  | take one twice daily | 141676 |\n",
       "| Sitagliptin 100mg tablets   | 28 tablets | take one daily       | 149520 |\n",
       "| Linagliptin 5mg tablets     | 7 tablet   | take one daily       | 165567 |\n",
       "| Metformin 850mg tablets     | 56 tablets | take one twice daily | 177912 |\n",
       "| Sitagliptin 100mg tablets   | 7 tablet   | take one daily       | 193854 |\n",
       "| Linagliptin 5mg tablets     | 28 tablet  | take one daily       | 228321 |\n",
       "| Metformin 500mg tablets     | 84 tablets | take one 3 times/day | 237635 |\n",
       "| Sitagliptin 100mg tablets   | 28 tablet  | take one daily       | 311865 |\n",
       "\n"
      ],
      "text/plain": [
       "   nameofmedication            medicationquantity medicationdosage    \n",
       "1  Metformin 500mg tablets     84 tablet          take one 3 times/day\n",
       "2  Canagliflozin 100mg tablets 30 tablet          take one daily      \n",
       "3  Empagliflozin 10mg tablets  28 tablet          take one daily      \n",
       "4  Metformin 850mg tablets     56 tablet          take one twice daily\n",
       "5  Sitagliptin 100mg tablets   28 tablets         take one daily      \n",
       "6  Linagliptin 5mg tablets     7 tablet           take one daily      \n",
       "7  Metformin 850mg tablets     56 tablets         take one twice daily\n",
       "8  Sitagliptin 100mg tablets   7 tablet           take one daily      \n",
       "9  Linagliptin 5mg tablets     28 tablet          take one daily      \n",
       "10 Metformin 500mg tablets     84 tablets         take one 3 times/day\n",
       "11 Sitagliptin 100mg tablets   28 tablet          take one daily      \n",
       "   count_records_per_medication\n",
       "1  104340                      \n",
       "2  115053                      \n",
       "3  124302                      \n",
       "4  141676                      \n",
       "5  149520                      \n",
       "6  165567                      \n",
       "7  177912                      \n",
       "8  193854                      \n",
       "9  228321                      \n",
       "10 237635                      \n",
       "11 311865                      "
      ]
     },
     "metadata": {},
     "output_type": "display_data"
    },
    {
     "name": "stderr",
     "output_type": "stream",
     "text": [
      "\u001b[1m\u001b[22m`stat_bin()` using `bins = 30`. Pick better value with `binwidth`.\n"
     ]
    },
    {
     "data": {
      "image/png": "[encoded data removed]",
      "text/plain": [
       "plot without title"
      ]
     },
     "metadata": {
      "image/png": {
       "height": 420,
       "width": 420
      }
     },
     "output_type": "display_data"
    }
   ],
   "source": [
    "qry <-\n",
    "    r_tbl_srprimarycaremedication %>%\n",
    "    # Select every record that has a prescription for any diabetes medication.\n",
    "    dplyr::inner_join( names_meds_of_interest, by = join_by( nameofmedication == DMplusD_ProductDescription ) ) %>%\n",
    "    # Tally how many patients have ever been prescribed each medication.\n",
    "    dplyr::select( person_id, nameofmedication, medicationquantity, medicationdosage ) %>%\n",
    "    dplyr::summarise( count_records_per_medication = n(), .by = c( nameofmedication, medicationquantity, medicationdosage ) )\n",
    "\n",
    "top_10 <-\n",
    "    qry %>%\n",
    "    dplyr::filter( !is.na( count_records_per_medication ) ) %>% \n",
    "    dbplyr::window_order( count_records_per_medication ) %>%\n",
    "    dplyr::filter( row_number() >= ( n() - 10 ) ) %>%\n",
    "    dplyr::arrange( count_records_per_medication ) %>%\n",
    "    dplyr::collect()\n",
    "top_10\n",
    "\n",
    "plot_histogram <-\n",
    "    qry %>%\n",
    "    ggplot2::ggplot() +\n",
    "        geom_histogram( aes( x = log( count_records_per_medication ) ) ) +\n",
    "        labs( title = \"Histogram of the count of\\nmedication-quantity-dose that have\\nbeen prescribed at least once\\nin a patient record\" ) +\n",
    "        xlab( base::expression( log[e]*\"(Count of records)\" ) ) +\n",
    "        ylab( \"Count of medication-quantity-dose combinations\" ) +\n",
    "        theme( text = element_text( size = 20 ) )\n",
    "plot_histogram"
   ]
  }
 ],
 "metadata": {
  "environment": {
   "kernel": "ir",
   "name": "r-cpu.4-2.m111",
   "type": "gcloud",
   "uri": "gcr.io/deeplearning-platform-release/r-cpu.4-2:m111"
  },
  "kernelspec": {
   "display_name": "R",
   "language": "R",
   "name": "ir"
  },
  "language_info": {
   "codemirror_mode": "r",
   "file_extension": ".r",
   "mimetype": "text/x-r-source",
   "name": "R",
   "pygments_lexer": "r",
   "version": "4.3.1"
  }
 },
 "nbformat": 4,
 "nbformat_minor": 5
}
