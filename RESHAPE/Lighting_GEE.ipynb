{
 "cells": [
  {
   "cell_type": "markdown",
   "id": "2f3aee49-a201-41d8-ac8a-dd9c9bbf77dd",
   "metadata": {},
   "source": [
    "# Modelling the effect of increased streetlighting on crime counts.\n",
    "\n",
    "The purpose of this report is to model the association between the weekly count of lighting changed as part of Leeds City Councils relighting scheme, and the count of crimes in darkness, daylight, and in total.\n",
    "\n",
    "The difference between this and `Lighting.ipynb` is that I use Generalised Estimating Equations (GEEs) in this notebook, while I used Generalised Linear Mixed Models (GLMMs) in the previous notebook.\n",
    "\n",
    "## Why Generalised Estimating Equations?\n",
    "GEEs are an estimating procedure rather than a model. It's a way of estimating the population average from a sample of observations, but it has the versatility to account for dependence of observations during the estimation.\n",
    "\n",
    "For binary variates, GEEs estimate the population-averaged association, from the sample, assuming every unit of observation experienced a one-unit change in the exposure. In contrast, GLMMs estimates the conditional-mean when all other covariates are fixed to some value. Thus, the interpretation of the coefficients are different. If we want to make statements about a population (based on observations of its component units), then the GEE estimate is actually what we are after. If, on the other hand, we want to make statements about indivudals (based on information about the population, some of which we have gathered from our sample but some we have added with our parameteric assumptions), then the GLMM estimate is what we want. For this evaluation of Leeds City's relighting scheme, I argue that we want to make statements about the population of crimes, so the estimate from a GEE is more appropriate.\n",
    "\n",
    "While GLMMs sink or swim based on assumptions about the distributions of the random-effects, GEEs sink or swim based on assumptions about the covariance structure. This means that GEEs are summarising the sample data, only, while GLMMs are summarising the sample data conditional on random-effects being correctly specified. The ramification of these setups is that a mispecified GLMM will give you an incorrect estimate and possibly an incorrected standard error, but a GEE with a mispecfiied covariance structure will only cause problems for the standard error; the estimate of the mean is robust. But this shortcoming of GEEs can be mitigated by using a sandwich estimator, especially when we have many \"clusters\" and the same number of observations in each cluster (which we do in our Leeds data).\n",
    "\n",
    "\n",
    "## Why not Generalised Estimating Equations?\n",
    "GEEs are not familiar to those schooled in likelihood-based inference. GEEs don't have model-fit statistics because they are not fitted using maximum likelihood or related methods (after all, they are an estimation procedure rather than a model). This means no deviance scores, no likelihood ratios, and no information-criteria statistics, which leaves many statisticians adrift. GEEs are non-parametric summaries of the observed sample so they are on the description side of things rather than the modelling side of things. Asking for a model-fit statistic for a GEE makes as much sense as asking for a model-fit statistic for an odds ratio calculated from a 2-by-2 contingency table!\n",
    "\n",
    "Furthermore, I think it is this relative lack of modelling in comparison to likelihood-based methods that makes people uncomfortable. It shouldn't. A statisticians job is to summarise the data, not to build models, but I fear that most statisticians have forgotten that in favour of building ever-more-interesting models. GEEs are like complicated summary statistics, rather than models, and, confusingly, look fiendishly like likelihood-based model, at a glance. They look like a duck but they don't quack lie a duck, which is why run-of-the-mill statisticians are wary of them, in my opinion.\n",
    "\n",
    "\n",
    "\n",
    "Two informative sources on GEEs are in these hyperlinks:\n",
    "- [\"To GEE or not to GEE: Comparing population average and mixed models for estimating the associations between neighborhood risk factors and health\"](https://sci-hub.wf/10.1097/EDE.0b013e3181caeb90)\n",
    "- [\"Generalised Estimating Equations (GEE)\"](https://rlbarter.github.io/Practical-Statistics/2017/05/10/generalized-estimating-equations-gee/)"
   ]
  },
  {
   "cell_type": "markdown",
   "id": "031b02d7-6aaa-407d-8d04-52b625ca5fcf",
   "metadata": {},
   "source": [
    "## Load required packages and data"
   ]
  },
  {
   "cell_type": "code",
   "execution_count": 1,
   "id": "f2b3b543-724a-4e56-bf91-477b0958ff54",
   "metadata": {
    "jupyter": {
     "source_hidden": true
    },
    "tags": []
   },
   "outputs": [],
   "source": [
    "pacman::p_load(\n",
    "    geepack\n",
    "    ,haven\n",
    "    ,lme4\n",
    "    ,tidyverse\n",
    ")"
   ]
  },
  {
   "cell_type": "code",
   "execution_count": 2,
   "id": "1c72d3d3-4563-4b2d-9b74-ec3c7e5dcf96",
   "metadata": {
    "jupyter": {
     "source_hidden": true
    },
    "tags": []
   },
   "outputs": [],
   "source": [
    "if (!exists(\"spssData\"))\n",
    "{\n",
    "  spssData <-\n",
    "    haven::read_sav(\"ExtBinomPQL2T3RT7F_FractFinalA.sav\") %>%\n",
    "    mutate(across(everything(), as.vector))\n",
    "}"
   ]
  },
  {
   "cell_type": "markdown",
   "id": "69033e75-3074-4bdb-9f64-3daff0a02ae1",
   "metadata": {},
   "source": [
    "# Over-/under-dispersion."
   ]
  },
  {
   "cell_type": "markdown",
   "id": "71a349b8-5562-4677-846f-1d196cf40722",
   "metadata": {},
   "source": [
    "Contrary to the parameterised GLMMs in `Lighting.ipynb`, one doesn't expect any dispersion statistic to change when we specify the covariance matric of a GEE. The deviance-based dispersion statistic doesn't even exist for the GEEs because they are not likelihood based so the concept of deviance doesn't apply.\n",
    "Regarding the Pearson dispersion statistic, recall that it is a generalisation of the variance:mean quotient. In `Lighting.ipynb`, the Pearson statistic changed between models because we were changing the conditional mean, i.e. the denominator in the quotient. GEEs, on the other hand, do not produced conditional means so one does not expect the Pearson statistic to change when the dependence between observations is handled by specifying the covariance structure."
   ]
  },
  {
   "cell_type": "markdown",
   "id": "dba5f34c-e0f2-4823-9c6f-d88033be12da",
   "metadata": {},
   "source": [
    "# The GEE approach to modelling dependence\n",
    "\n",
    "I specify a covariance structure that blocks for MSOA and incorporates a first-order autoregression. And, just like our final GLMM in `Lighting.ipynb`, I remove MSOA #5 and #111 because they are outliers."
   ]
  },
  {
   "cell_type": "code",
   "execution_count": 3,
   "id": "c08d8a7e-6638-412c-9771-2d8d97961dbe",
   "metadata": {
    "jupyter": {
     "source_hidden": true
    },
    "tags": []
   },
   "outputs": [],
   "source": [
    "mod_GEE_Darkness <-\n",
    "    geepack::geeglm(\n",
    "        DarknessCrime_sum ~ 1 + N_LampsChanged\n",
    "        ,id = MSOAN112\n",
    "        ,corstr = \"ar1\"\n",
    "        ,family = \"poisson\"\n",
    "        ,data = spssData %>% dplyr::filter( !MSOAN112 %in% c( 5, 111 ) )\n",
    "    )\n",
    "mod_GEE_Daylight <-\n",
    "    geepack::geeglm(\n",
    "        DaylightCrime_sum ~ 1 + N_LampsChanged\n",
    "        ,id = MSOAN112\n",
    "        ,corstr = \"ar1\"\n",
    "        ,family = \"poisson\"\n",
    "        ,data = spssData %>% dplyr::filter( !MSOAN112 %in% c( 5, 111 ) )\n",
    "    )\n",
    "mod_GEE_Total <-\n",
    "    geepack::geeglm(\n",
    "        SumDarkAndDaylight ~ 1 + N_LampsChanged\n",
    "        ,id = MSOAN112\n",
    "        ,corstr = \"ar1\"\n",
    "        ,family = \"poisson\"\n",
    "        ,data = spssData %>% dplyr::filter( !MSOAN112 %in% c( 5, 111 ) )\n",
    "    )"
   ]
  },
  {
   "cell_type": "markdown",
   "id": "0b009f50-403c-4a75-b3be-a426d638f131",
   "metadata": {},
   "source": [
    "Below I present the exponentiated estimate for the `N_LampsChange` covariate (rounded to 3 decimal places)."
   ]
  },
  {
   "cell_type": "code",
   "execution_count": 15,
   "id": "e721a32e-6d75-4efa-b01d-0d659fd78008",
   "metadata": {
    "tags": []
   },
   "outputs": [
    {
     "data": {
      "text/html": [
       "<table class=\"dataframe\">\n",
       "<caption>A formattable: 3 × 4</caption>\n",
       "<thead>\n",
       "\t<tr><th></th><th scope=col>Estimate</th><th scope=col>Std.err</th><th scope=col>CI_LB</th><th scope=col>CI_UB</th></tr>\n",
       "\t<tr><th></th><th scope=col>&lt;dbl&gt;</th><th scope=col>&lt;dbl&gt;</th><th scope=col>&lt;dbl&gt;</th><th scope=col>&lt;dbl&gt;</th></tr>\n",
       "</thead>\n",
       "<tbody>\n",
       "\t<tr><th scope=row>Darkness</th><td>1.000</td><td>1.000</td><td>-0.961</td><td>2.960</td></tr>\n",
       "\t<tr><th scope=row>Darkness1</th><td>1.000</td><td>1.000</td><td>-0.961</td><td>2.960</td></tr>\n",
       "\t<tr><th scope=row>Darkness2</th><td>1.066</td><td>1.004</td><td>-0.902</td><td>3.034</td></tr>\n",
       "</tbody>\n",
       "</table>\n"
      ],
      "text/latex": [
       "A formattable: 3 × 4\n",
       "\\begin{tabular}{r|llll}\n",
       "  & Estimate & Std.err & CI\\_LB & CI\\_UB\\\\\n",
       "  & <dbl> & <dbl> & <dbl> & <dbl>\\\\\n",
       "\\hline\n",
       "\tDarkness & 1.000 & 1.000 & -0.961 & 2.960\\\\\n",
       "\tDarkness1 & 1.000 & 1.000 & -0.961 & 2.960\\\\\n",
       "\tDarkness2 & 1.066 & 1.004 & -0.902 & 3.034\\\\\n",
       "\\end{tabular}\n"
      ],
      "text/markdown": [
       "\n",
       "A formattable: 3 × 4\n",
       "\n",
       "| <!--/--> | Estimate &lt;dbl&gt; | Std.err &lt;dbl&gt; | CI_LB &lt;dbl&gt; | CI_UB &lt;dbl&gt; |\n",
       "|---|---|---|---|---|\n",
       "| Darkness | 1.000 | 1.000 | -0.961 | 2.960 |\n",
       "| Darkness1 | 1.000 | 1.000 | -0.961 | 2.960 |\n",
       "| Darkness2 | 1.066 | 1.004 | -0.902 | 3.034 |\n",
       "\n"
      ],
      "text/plain": [
       "          Estimate Std.err CI_LB  CI_UB\n",
       "Darkness  1.000    1.000   -0.961 2.960\n",
       "Darkness1 1.000    1.000   -0.961 2.960\n",
       "Darkness2 1.066    1.004   -0.902 3.034"
      ]
     },
     "metadata": {},
     "output_type": "display_data"
    }
   ],
   "source": [
    "df_final_results <-\n",
    "    rbind(\n",
    "        summary(mod_GEE_Darkness)$coefficients['N_LampsChanged', c( 'Estimate', 'Std.err') ] %>% `rownames<-`( \"Darkness\" ) %>% exp()\n",
    "\n",
    "        ,summary(mod_GEE_Daylight)$coefficients['N_LampsChanged', c( 'Estimate', 'Std.err') ] %>% `rownames<-`( \"Darkness\" ) %>% exp()\n",
    "\n",
    "        ,summary(mod_GEE_Total)$coefficients['N_LampsChanged', c( 'Estimate', 'Std.err') ] %>% `rownames<-`( \"Darkness\" ) %>% exp()\n",
    "    ) %>%\n",
    "    dplyr::mutate(\n",
    "        CI_LB = Estimate - `Std.err` * qnorm(0.975)\n",
    "        ,CI_UB = Estimate + `Std.err` * qnorm(0.975)\n",
    "        ) %>%\n",
    "    round(3)\n",
    "\n",
    "df_final_results %>% formattable::formattable()"
   ]
  },
  {
   "cell_type": "markdown",
   "id": "0269bfe1-f275-4df5-bdeb-c6c378b162d6",
   "metadata": {},
   "source": [
    "The estimates from the GEE match almost exactly to those from the GLMM in `Lighting.ipynb` (at least, when rounded to three decimal place) __but it is crucial to keep in mind that the meaning of the coefficients differ__. The interpretation of the exponentiated GEE coefficent is that it is the population-averaged odds ratio relating crime the cumulative count to the number of new lamps operating that week. In other words, the estimated value of 1 indicates that, on average in this sample of observations, the odds of an additional crime are the equivalent whether or not an additional lamp is installed. We also note that the standard errors are so wide that, when converted to the standard 95% confidence interval, we conclude that, for 100 repeats of the Leeds City relighting scheme, we would expect that 95 of the trials to be inconclusive.\n",
    "\n",
    "## Conclusion from quasi-liklelihood, GLMM and GEE analyses.\n",
    "Whether we adjust our standard errors from a semi-parametric GLMM, use a fully-parametric GLMM, or a GEE, we always conclude that there is insufficient evidence to reject the null hypothesis that additional lamps were associated with additional or fewer crimes, in the Leeds City relighting scheme."
   ]
  }
 ],
 "metadata": {
  "environment": {
   "kernel": "ir",
   "name": ".m115",
   "type": "gcloud",
   "uri": "gcr.io/deeplearning-platform-release/:m115"
  },
  "kernelspec": {
   "display_name": "R",
   "language": "R",
   "name": "ir"
  },
  "language_info": {
   "codemirror_mode": "r",
   "file_extension": ".r",
   "mimetype": "text/x-r-source",
   "name": "R",
   "pygments_lexer": "r",
   "version": "4.3.2"
  }
 },
 "nbformat": 4,
 "nbformat_minor": 5
}
