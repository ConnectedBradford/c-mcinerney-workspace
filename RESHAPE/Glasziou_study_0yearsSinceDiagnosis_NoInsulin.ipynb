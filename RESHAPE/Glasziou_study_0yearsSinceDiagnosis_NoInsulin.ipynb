{
 "cells": [
  {
   "cell_type": "markdown",
   "id": "f4b2f559-9a60-4ab4-b6b8-a0d096caac5d",
   "metadata": {
    "tags": []
   },
   "source": [
    "# =============================================\n",
    "# = Glazsiou study | 0 years since diagnosis | Insulin sensitivity check  =\n",
    "# =============================================\n",
    "\n",
    "The purpose of this notebook is to check what the effect is of different degrees of excluding people who are treated with insulin:\n",
    "1. Excluding a person's entire record if they were ever prescribed insulin.\n",
    "2. Excluding the portion of a person's record after their first prescription of insulin.\n",
    "3. Including a clause in the definition of the HMA state that ignores insulin prescriptions.\n",
    "<br></br>\n",
    "\n",
    "The motivation behind the sensitivity analyses is that there were instances of inter-terst intervals being labelled as 'Adjust' because the interval between insulin prescriptions was larger than the threshold. The interval is not as relevant for insulin prescriptions so these inter-test intervals were mislabelled as 'Adjust'.\n",
    "\n",
    "## Conclusions\n",
    "1. Excluding insulin users barely changes the proportions.\n",
    "2. There is no expectations that the other methods will have any effect, given the first conclusion.\n",
    "3. Redefining 'Adjust' to ignore insulin does not change the proportions.\n",
    "\n",
    "I didn't work on the 2nd method because that would have been more difficult to code, technically."
   ]
  },
  {
   "cell_type": "markdown",
   "id": "545ce290-ba6f-4296-a7bd-5628fb01e059",
   "metadata": {},
   "source": [
    "# Get requisite packages."
   ]
  },
  {
   "cell_type": "code",
   "execution_count": 40,
   "id": "7fec1647-9d33-45ee-bad6-6920f9ca55c7",
   "metadata": {
    "jupyter": {
     "source_hidden": true
    },
    "tags": []
   },
   "outputs": [
    {
     "name": "stderr",
     "output_type": "stream",
     "text": [
      "Downloading GitHub repo ciaranmci/ggsankey@HEAD\n",
      "\n"
     ]
    },
    {
     "name": "stdout",
     "output_type": "stream",
     "text": [
      "\n",
      "\u001b[36m──\u001b[39m \u001b[36mR CMD build\u001b[39m \u001b[36m─────────────────────────────────────────────────────────────────\u001b[39m\n",
      "* checking for file ‘/var/tmp/Rtmp1wtJnn/remotes1deb784940fd/ciaranmci-ggsankey-821b0e3/DESCRIPTION’ ... OK\n",
      "* preparing ‘ggsankey’:\n",
      "* checking DESCRIPTION meta-information ... OK\n",
      "* checking for LF line-endings in source and make files and shell scripts\n",
      "* checking for empty or unneeded directories\n",
      "* building ‘ggsankey_0.0.99999.tar.gz’\n",
      "\n"
     ]
    },
    {
     "name": "stderr",
     "output_type": "stream",
     "text": [
      "Installing package into ‘/home/jupyter/.R/library’\n",
      "(as ‘lib’ is unspecified)\n",
      "\n"
     ]
    }
   ],
   "source": [
    "# Get requisite packages.\n",
    "if( !\"pacman\" %in% installed.packages() )\n",
    "{\n",
    "  install.packages( \"pacman\" )\n",
    "  libray( pacman )\n",
    "}\n",
    "pacman::p_load(\n",
    "    bigrquery # Version ‘1.5.1’\n",
    "    ,data.table # Version ‘1.16.0’\n",
    "    ,GGally # Version ‘2.2.1’\n",
    "    ,gtable # Version ‘0.3.6’\n",
    "    ,grid # Version ‘4.4.1’\n",
    "    ,gridExtra # Version ‘2.3’\n",
    "    ,IRdisplay\n",
    "    ,kableExtra\n",
    "    ,paletteer # Version ‘1.6.0’\n",
    "    ,readr # Version ‘2.1.5’\n",
    "    ,tidytext # Version ‘0.4.2’\n",
    "    ,tidyverse # Version ‘2.0.0’\n",
    "    ,TraMineR # Version ‘2.2.10’\n",
    "    ,TraMineRextras # Version ‘0.6.8’\n",
    ")\n",
    "#devtools::install_github(\"davidsjoberg/ggsankey\")\n",
    "#remove.packages(\"ggsankey\")\n",
    "devtools::install_github(\"ciaranmci/ggsankey\", force = TRUE )"
   ]
  },
  {
   "cell_type": "markdown",
   "id": "39293e36-edc1-42b7-8571-942adeacb5de",
   "metadata": {},
   "source": [
    "# Set cohort parameters"
   ]
  },
  {
   "cell_type": "code",
   "execution_count": 41,
   "id": "78045f93-88e8-487f-8dfb-5d16f26b0d61",
   "metadata": {
    "jupyter": {
     "source_hidden": true
    },
    "tags": []
   },
   "outputs": [],
   "source": [
    "# Study dates\n",
    "# ## The date before which a patient must have had their diagnosis.\n",
    "date_diagnosis_threshold <- lubridate::ymd('2000-01-01')\n",
    "# ## The date after which test and intervention records will be studied.\n",
    "followup_delay_in_years <- 0\n",
    "date_followup_start <- date_diagnosis_threshold + lubridate::years( followup_delay_in_years )\n",
    "# ## The date before which test and intervention records will be studied.\n",
    "followup_duration_in_years <- 10\n",
    "date_followup_end <- date_followup_start + lubridate::years( followup_duration_in_years )\n",
    "\n",
    "# Set the duration of the window back in time to review prescriptions when identifying\n",
    "# the HMA status.\n",
    "HMA_adjust_lookBack_window <- lubridate::weeks( 16 )\n",
    "\n",
    "# Set upper and lower thresholds for acceptable values of the test.\n",
    "test_value_cutoff_lower <- 20\n",
    "test_value_cutoff_upper <- 200\n",
    "\n",
    "# Threshold for the expected interval between subsequent tests, in months\n",
    "val_testing_interval_LB <- 2\n",
    "val_testing_interval_UB <- 5\n",
    "\n",
    "# Set values for meaningful changes in the values of the test.\n",
    "val_meaningful_test_improvement <- -10\n",
    "val_meaningful_test_disimprovement <- 10\n",
    "\n",
    "# Set window within which to search for repeated (but not repeat) prescriptions.\n",
    "window_repeated_prescription_months <- 3\n",
    "\n",
    "# Set number of tests, treatments, or iterations after diagnosis that should be tracked.\n",
    "n_iterations <- followup_duration_in_years*2\n",
    "\n",
    "# Set the window within which mutimorbidity diagnoses and the index diagnosis must fit in, in months.\n",
    "multimorb_inclusion_window_months <- 60\n",
    "\n",
    "# Set the window outwith which at least two mutimorbidity diagnoses must be of each other, in months.\n",
    "multimorb_gap_window_months <- 1"
   ]
  },
  {
   "cell_type": "markdown",
   "id": "7e3ef6a0-c4d3-49c9-8909-5833dc9833f3",
   "metadata": {},
   "source": [
    "# Generate the cohort."
   ]
  },
  {
   "cell_type": "code",
   "execution_count": 42,
   "id": "b1348492-6b18-4287-91ac-06193b304b3e",
   "metadata": {
    "jupyter": {
     "source_hidden": true
    },
    "tags": []
   },
   "outputs": [
    {
     "name": "stderr",
     "output_type": "stream",
     "text": [
      "Auto-refreshing stale OAuth token.\n",
      "\n"
     ]
    }
   ],
   "source": [
    "source('RESHAPE_cohort_generator.r')"
   ]
  },
  {
   "cell_type": "markdown",
   "id": "f79d1721-6652-488b-bd80-7080bdb2d49e",
   "metadata": {},
   "source": [
    "# Format the data."
   ]
  },
  {
   "cell_type": "code",
   "execution_count": 43,
   "id": "d39bb1ad-688b-4119-953b-9bfd8ee7f3cd",
   "metadata": {
    "jupyter": {
     "source_hidden": true
    },
    "tags": []
   },
   "outputs": [
    {
     "name": "stderr",
     "output_type": "stream",
     "text": [
      "\u001b[1m\u001b[22m`summarise()` has grouped output by 'person_id'. You can override using the\n",
      "`.groups` argument.\n"
     ]
    }
   ],
   "source": [
    "source('RESHAPE_format_the_data.r')"
   ]
  },
  {
   "cell_type": "markdown",
   "id": "07af64e9-84f6-4a5a-b7b3-c03ff8985fdc",
   "metadata": {},
   "source": [
    "# 1. Excluding a person's entire record if they were ever prescribed insulin."
   ]
  },
  {
   "cell_type": "code",
   "execution_count": 75,
   "id": "540cc471-5a03-4e48-ab5d-f0bad655e4bf",
   "metadata": {
    "jupyter": {
     "source_hidden": true
    },
    "tags": []
   },
   "outputs": [
    {
     "name": "stdout",
     "output_type": "stream",
     "text": [
      "[1] \"Total number of people = 7807\"\n",
      "[1] \"Total number of insulin users = 1033\"\n",
      "[1] \"Total number of non-insulin users = 6774\"\n",
      "[1] \"Total number of inter-test intervals for all people = 37719\"\n",
      "[1] \"Total number of inter-test intervals for insulin users people = 7122\"\n",
      "[1] \"Total number of inter-test intervals for non-insulin users people = 30597\"\n",
      "[1] \"The breakdown of inter-test intervals by HMA state for each cohort:\"\n"
     ]
    },
    {
     "data": {
      "text/html": [
       "<table class=\"dataframe\">\n",
       "<caption>A tibble: 3 × 7</caption>\n",
       "<thead>\n",
       "\t<tr><th scope=col>HMA</th><th scope=col>All people</th><th scope=col>Non-insulin users</th><th scope=col>Insulin users</th><th scope=col>Relative proportion</th><th scope=col>Relative proportion non-insulin users</th><th scope=col>Relative proportion insulin users</th></tr>\n",
       "\t<tr><th scope=col>&lt;fct&gt;</th><th scope=col>&lt;int&gt;</th><th scope=col>&lt;int&gt;</th><th scope=col>&lt;int&gt;</th><th scope=col>&lt;dbl&gt;</th><th scope=col>&lt;dbl&gt;</th><th scope=col>&lt;dbl&gt;</th></tr>\n",
       "</thead>\n",
       "<tbody>\n",
       "\t<tr><td>Hold   </td><td>18262</td><td>15416</td><td>2846</td><td>0.48</td><td>0.50</td><td>0.40</td></tr>\n",
       "\t<tr><td>Monitor</td><td>14105</td><td>11335</td><td>2770</td><td>0.37</td><td>0.37</td><td>0.39</td></tr>\n",
       "\t<tr><td>Adjust </td><td> 5352</td><td> 3846</td><td>1506</td><td>0.14</td><td>0.13</td><td>0.21</td></tr>\n",
       "</tbody>\n",
       "</table>\n"
      ],
      "text/latex": [
       "A tibble: 3 × 7\n",
       "\\begin{tabular}{lllllll}\n",
       " HMA & All people & Non-insulin users & Insulin users & Relative proportion & Relative proportion non-insulin users & Relative proportion insulin users\\\\\n",
       " <fct> & <int> & <int> & <int> & <dbl> & <dbl> & <dbl>\\\\\n",
       "\\hline\n",
       "\t Hold    & 18262 & 15416 & 2846 & 0.48 & 0.50 & 0.40\\\\\n",
       "\t Monitor & 14105 & 11335 & 2770 & 0.37 & 0.37 & 0.39\\\\\n",
       "\t Adjust  &  5352 &  3846 & 1506 & 0.14 & 0.13 & 0.21\\\\\n",
       "\\end{tabular}\n"
      ],
      "text/markdown": [
       "\n",
       "A tibble: 3 × 7\n",
       "\n",
       "| HMA &lt;fct&gt; | All people &lt;int&gt; | Non-insulin users &lt;int&gt; | Insulin users &lt;int&gt; | Relative proportion &lt;dbl&gt; | Relative proportion non-insulin users &lt;dbl&gt; | Relative proportion insulin users &lt;dbl&gt; |\n",
       "|---|---|---|---|---|---|---|\n",
       "| Hold    | 18262 | 15416 | 2846 | 0.48 | 0.50 | 0.40 |\n",
       "| Monitor | 14105 | 11335 | 2770 | 0.37 | 0.37 | 0.39 |\n",
       "| Adjust  |  5352 |  3846 | 1506 | 0.14 | 0.13 | 0.21 |\n",
       "\n"
      ],
      "text/plain": [
       "  HMA     All people Non-insulin users Insulin users Relative proportion\n",
       "1 Hold    18262      15416             2846          0.48               \n",
       "2 Monitor 14105      11335             2770          0.37               \n",
       "3 Adjust   5352       3846             1506          0.14               \n",
       "  Relative proportion non-insulin users Relative proportion insulin users\n",
       "1 0.50                                  0.40                             \n",
       "2 0.37                                  0.39                             \n",
       "3 0.13                                  0.21                             "
      ]
     },
     "metadata": {},
     "output_type": "display_data"
    },
    {
     "name": "stdout",
     "output_type": "stream",
     "text": [
      "[1] \"The relative proportion of HMA states in the cohort with and without the insulin users is essentially the same.\"\n",
      "[1] \"This is why there is no discernable difference between the plots with and without the insulin users.\"\n"
     ]
    }
   ],
   "source": [
    "# Table of HMA states before removing insulin people.\n",
    "tbl_intervals_per_HMA__all_people <-\n",
    "    df_log_PandT_longFormat_simplified_StrataLabels %>%\n",
    "    dplyr::distinct( person_id, idx_test_interval, HMA ) %>%\n",
    "    dplyr::filter( HMA != \"Unobserved\", !is.na( HMA ) ) %>%\n",
    "    dplyr::arrange( person_id, idx_test_interval ) %>%\n",
    "    dplyr::group_by( HMA ) %>%\n",
    "    dplyr::reframe( n = n() )\n",
    "n_people__all_people <-\n",
    "    df_log_PandT_longFormat_simplified_StrataLabels %>%\n",
    "    dplyr::distinct( person_id ) %>%\n",
    "    nrow()\n",
    "n_intervals__all_people <- \n",
    "    tbl_intervals_per_HMA__all_people %>%\n",
    "    dplyr::pull() %>%\n",
    "    sum()\n",
    "\n",
    "\n",
    "# Table of HMA states of insulin people and non insulin people.\n",
    "tbl_indicating_insulin_or_not <- \n",
    "    df_log_PandT_longFormat_simplified_StrataLabels %>%\n",
    "    dplyr::group_by( person_id ) %>%\n",
    "    dplyr::mutate( used_insulin = as.logical( any( event_value == \"Insulin\" ) ) ) %>%\n",
    "    dplyr::ungroup() %>%\n",
    "    dplyr::select( person_id, idx_test_interval, HMA, used_insulin )\n",
    "\n",
    "tbl_intervals_per_HMA__insulin_users_only <-\n",
    "    tbl_indicating_insulin_or_not %>%\n",
    "    dplyr::filter( used_insulin == TRUE ) %>%\n",
    "    dplyr::distinct( person_id, idx_test_interval, HMA ) %>%\n",
    "    dplyr::filter( HMA != \"Unobserved\", !is.na( HMA ) ) %>%\n",
    "    dplyr::arrange( person_id, idx_test_interval ) %>%\n",
    "    dplyr::group_by( HMA ) %>%\n",
    "    dplyr::reframe( n = n() )\n",
    "n_people__insulin_users_only <-\n",
    "    tbl_indicating_insulin_or_not %>%\n",
    "    dplyr::filter( used_insulin == TRUE ) %>%\n",
    "    dplyr::distinct( person_id ) %>%\n",
    "    nrow()\n",
    "n_intervals__insulin_users_only <- \n",
    "    tbl_intervals_per_HMA__insulin_users_only %>%\n",
    "    dplyr::pull() %>%\n",
    "    sum()\n",
    "\n",
    "tbl_intervals_per_HMA__non_insulin_users_only <-\n",
    "    tbl_indicating_insulin_or_not %>%\n",
    "    dplyr::filter( used_insulin == FALSE ) %>%\n",
    "    dplyr::distinct( person_id, idx_test_interval, HMA ) %>%\n",
    "    dplyr::filter( HMA != \"Unobserved\", !is.na( HMA ) ) %>%\n",
    "    dplyr::arrange( person_id, idx_test_interval ) %>%\n",
    "    dplyr::group_by( HMA ) %>%\n",
    "    dplyr::reframe( n = n() )\n",
    "n_people__non_insulin_users_only <-\n",
    "    tbl_indicating_insulin_or_not %>%\n",
    "    dplyr::filter( used_insulin == FALSE ) %>%\n",
    "    dplyr::distinct( person_id ) %>%\n",
    "    nrow()\n",
    "n_intervals__non_insulin_users_only <- \n",
    "    tbl_intervals_per_HMA__non_insulin_users_only %>%\n",
    "    dplyr::pull() %>%\n",
    "    sum()\n",
    "\n",
    "\n",
    "\n",
    "\n",
    "\n",
    "\n",
    "\n",
    "\n",
    "# Presentation.\n",
    "# ## Totals.\n",
    "print( paste0(\"Total number of people = \", n_people__all_people ) )\n",
    "print( paste0(\"Total number of insulin users = \", n_people__insulin_users_only ) )\n",
    "print( paste0(\"Total number of non-insulin users = \", n_people__non_insulin_users_only ) )\n",
    "\n",
    "print( paste0(\"Total number of inter-test intervals for all people = \", n_intervals__all_people) )\n",
    "print( paste0(\"Total number of inter-test intervals for insulin users people = \", n_intervals__insulin_users_only) )\n",
    "print( paste0(\"Total number of inter-test intervals for non-insulin users people = \", n_intervals__non_insulin_users_only) )\n",
    "\n",
    "# ## Breakdown by HMA state.\n",
    "print( \"The breakdown of inter-test intervals by HMA state for each cohort:\" )\n",
    "dplyr::left_join(\n",
    "    tbl_intervals_per_HMA__all_people\n",
    "    ,tbl_intervals_per_HMA__insulin_users_only\n",
    "    ,by = join_by( HMA )\n",
    "    ) %>%\n",
    "dplyr::left_join(\n",
    "    tbl_intervals_per_HMA__non_insulin_users_only\n",
    "    ,by = join_by( HMA )\n",
    "    ) %>%\n",
    "`colnames<-`( c( \"HMA\", \"All people\", \"Insulin users\" , \"Non-insulin users\" ) ) %>%\n",
    "dplyr::mutate(\n",
    "    `Relative proportion` = round( `All people` / sum( `All people` ), 2 ) \n",
    "    ,`Proportion insulin users` = round( `Insulin users` / `All people`, 2 )\n",
    "    ,`Relative proportion insulin users` = round( `Insulin users` / sum( `Insulin users` ), 2 ) \n",
    "    ,`Proportion non-insulin users` = round( `Non-insulin users` / `All people`, 2)\n",
    "    ,`Relative proportion non-insulin users` = round( `Non-insulin users` / sum( `Non-insulin users` ), 2 ) \n",
    ") %>%\n",
    "dplyr::select(\n",
    "    `HMA`, `All people`\n",
    "    ,`Non-insulin users`\n",
    "    ,`Insulin users`\n",
    "    , `Relative proportion`\n",
    "    , `Relative proportion non-insulin users`\n",
    "    , `Relative proportion insulin users`\n",
    ")\n",
    "\n",
    "print( \"The relative proportion of HMA states in the cohort with and without the insulin users is essentially the same.\" )\n",
    "print( \"This is why there is no discernable difference between the plots with and without the insulin users.\" )\n",
    "\n",
    "### There appears to be no difference when I remove the 1032 people who used insulin."
   ]
  },
  {
   "cell_type": "markdown",
   "id": "1e79f0b1-2d5e-480d-8b2a-a2c621609eca",
   "metadata": {},
   "source": [
    "# 2. Excluding the portion of a person's record after their first prescription of insulin."
   ]
  },
  {
   "cell_type": "code",
   "execution_count": null,
   "id": "0b8a42a0-5a23-416c-9e7e-88f94ba539b7",
   "metadata": {},
   "outputs": [],
   "source": [
    "NOT DONE"
   ]
  },
  {
   "cell_type": "markdown",
   "id": "5fbc101d-f51f-4e05-9ae4-b303e57abf75",
   "metadata": {},
   "source": [
    "# 3. Including a clause in the definition of the HMA state that ignores insulin prescriptions.\n",
    "\n",
    "This is the most problematic adjustment to make because I must answer _What label do I use if the prescription __is__ for insulin?_\n",
    "\n",
    "The original problem was that insulin was being prescribed many weeks after the previous prescription of insulin, which is considered to be an adjustment to treatment. I suppose the appopriate label is 'Hold' because the inter-test interval is definitely not shorter than expected and there is no consideration for the change in prescription.\n",
    "\n",
    "But what happens if something else is prescribed as well as insulin? I can't simply ignore the inter-test interval because insulin is present."
   ]
  },
  {
   "cell_type": "markdown",
   "id": "87c2e0be-c77a-4d6b-a268-8785f303dec6",
   "metadata": {},
   "source": [
    "I need to get the list of people who have used insulin as well as another drug."
   ]
  },
  {
   "cell_type": "code",
   "execution_count": 45,
   "id": "d1084516-d977-4faf-8f50-7a606a72128d",
   "metadata": {
    "jupyter": {
     "source_hidden": true
    },
    "tags": []
   },
   "outputs": [],
   "source": [
    "df_people_using_more_than_just_insulin <-\n",
    "    df_log_PandT_longFormat_simplified_StrataLabels %>%\n",
    "    dplyr::distinct( person_id, idx_test_interval, event_value ) %>%\n",
    "    # Ignore the rows related to tests and that are 'Unobserved'.\n",
    "    dplyr::filter(\n",
    "        !stringr::str_detect( event_value, pattern = \"Test\" )\n",
    "        ,!stringr::str_detect( event_value, pattern = \"Unobserved\" )\n",
    "    ) %>%\n",
    "    # Filter for the intervals that contain an insulin prescription.\n",
    "    dplyr::group_by( person_id, idx_test_interval ) %>%\n",
    "    dplyr::filter( any( event_value == \"Insulin\" ) ) %>%\n",
    "    dplyr::ungroup() %>%\n",
    "    # Now remove the rows that refer to insulin, which should leave me with the intervals that contain more than insulin.\n",
    "    dplyr::filter( event_value != \"Insulin\" )"
   ]
  },
  {
   "cell_type": "markdown",
   "id": "c7abb25d-f58c-43cd-9e0b-cb8e08414c2d",
   "metadata": {},
   "source": [
    "I now need to compare these prescriptions with the prior window to see if these prescriptions indiated an 'Adjust' state or not.\n",
    "\n",
    "The first thing to do is to extrct these people from 'df_log_PandT_longFormat_simplified_StrataLabels' so that I am only dealing with them."
   ]
  },
  {
   "cell_type": "code",
   "execution_count": 46,
   "id": "f8027d29-92d2-4293-8039-7cc872ec5f1d",
   "metadata": {
    "jupyter": {
     "source_hidden": true
    },
    "tags": []
   },
   "outputs": [],
   "source": [
    "# I now need to compare these prescriptions with the prior window to see if these prescriptions indiated an 'Adjust' state or not.\n",
    "\n",
    "# The first thing to do is to extrct these people from 'df_log_PandT_longFormat_simplified_StrataLabels' so that I am only \n",
    "# dealing with them.\n",
    "df_main_table_but_only_insulin_users <-\n",
    "    df_people_using_more_than_just_insulin %>%\n",
    "    dplyr::distinct( person_id ) %>%\n",
    "    dplyr::inner_join(\n",
    "        df_log_PandT_longFormat_simplified_StrataLabels\n",
    "        ,by = join_by( person_id )\n",
    "    ) %>%\n",
    "    dplyr::filter( event_value != \"Insulin\" ) %>%\n",
    "    dplyr::select( -HMA )"
   ]
  },
  {
   "cell_type": "markdown",
   "id": "0d2a5612-0e90-40b4-86ae-4d7628405d7e",
   "metadata": {},
   "source": [
    "I now need to apply the window method to define the 'Adjust' state, but ignoring insulin."
   ]
  },
  {
   "cell_type": "code",
   "execution_count": 47,
   "id": "b6cfc49d-13ee-4525-b579-4c05c3cb2937",
   "metadata": {
    "jupyter": {
     "source_hidden": true
    },
    "tags": []
   },
   "outputs": [],
   "source": [
    "# I now need to apply the window method to define the 'Adjust' state, but ignoring insulin.\n",
    "df_main_table_but_only_insulin_users <-\n",
    "    df_main_table_but_only_insulin_users %>%\n",
    "    # Create new columns that contain the test events and the prescription events.\n",
    "    dplyr::select( person_id, start_dttm, event_value, idx_test_interval ) %>%\n",
    "    dplyr::filter( !stringr::str_detect( event_value, pattern = \"Test\") ) %>%\n",
    "    dplyr::filter( !stringr::str_detect( event_value, pattern = \"Unobserved\") ) %>%\n",
    "    dplyr::mutate( meds_only = as.character( event_value ) ) %>%\n",
    "    dplyr::select( -event_value ) %>%\n",
    "    # Remove duplicated prescriptions occuring on the same day.\n",
    "    dplyr::distinct( ) %>%\n",
    "    # Create a list-column of the prescriptions given in the preceding months of a given prescription, `HMA_adjust_lookBack_window`.\n",
    "    tidyr::nest( .by = person_id ) %>%\n",
    "    dplyr::mutate(\n",
    "        meds_set_window = \n",
    "            lapply(\n",
    "                data\n",
    "                ,function(x) slider::slide_index(.x = x$meds_only, .i = x$start_dttm, .f = ~.x, .before = HMA_adjust_lookBack_window ) %>% array()\n",
    "            )\n",
    "        ) %>%\n",
    "    tidyr::unnest( cols = c( data, meds_set_window ) ) %>%\n",
    "    # Remove the current prescription from `meds_set_window`.\n",
    "    dplyr::mutate(\n",
    "        meds_set_window = purrr::map2(\n",
    "            meds_only\n",
    "            ,meds_set_window\n",
    "            ,function( med, med_set) {\n",
    "                idx <- which( med_set == med )\n",
    "                if ( length( idx ) > 0) {\n",
    "                    med_set[ -idx[ 1 ] ]\n",
    "                } else {\n",
    "                    med_set\n",
    "                }\n",
    "            }\n",
    "        )\n",
    "    ) %>%\n",
    "    # Join this data.frame to one that contains a list-column of the prescriptions given on a particular day.\n",
    "    dplyr::left_join(\n",
    "        x = dplyr::select( ., - meds_only )\n",
    "        # Create a list-column of the prescriptions given on a particular day.\n",
    "        ,y = stats::aggregate(\n",
    "                    meds_only ~ person_id + start_dttm\n",
    "                    ,data = .\n",
    "                    ,FUN = list\n",
    "                    ,na.action = NULL\n",
    "                ) %>% dplyr::arrange( person_id, start_dttm )\n",
    "        ,by = join_by( person_id, start_dttm )\n",
    "        ) %>%\n",
    "    # Find the difference between the history of meds and the meds on the day.\n",
    "    dplyr::mutate( new_meds = purrr::map2( meds_only, meds_set_window,  ~!all( .x %in% .y ) ) ) %>%\n",
    "    as.data.frame() %>%\n",
    "    dplyr::select( -c( meds_only, meds_set_window ) ) %>%\n",
    "    # Label any additional meds as ' Adjust'.\n",
    "    dplyr::rowwise() %>%\n",
    "    dplyr::mutate( HMA = dplyr::if_else( new_meds, 'Adjust', 'Not adjust' ) ) %>%\n",
    "    dplyr::ungroup() %>%\n",
    "    as.data.frame() %>%\n",
    "    dplyr::select( -new_meds ) %>%\n",
    "    # Set the entire inter-test intervals to an 'Adjust' or 'Not adjust' value based\n",
    "    # whether an adjust event occured during that window.\n",
    "    dplyr::group_by( person_id, idx_test_interval ) %>%\n",
    "    dplyr::mutate( HMA = dplyr::if_else( 'Adjust' %in% HMA, 'Adjust', 'Not adjust') ) %>%\n",
    "    dplyr::ungroup() %>%\n",
    "    as.data.frame() %>%\n",
    "    # Rejoin to the original dataframe.\n",
    "    dplyr::select( - start_dttm ) %>%\n",
    "    dplyr::distinct( ) %>%\n",
    "    dplyr::right_join(\n",
    "            df_main_table_but_only_insulin_users \n",
    "            ,by = join_by( person_id, idx_test_interval )\n",
    "        ,relationship = \"one-to-many\"\n",
    "        ) %>%\n",
    "    # Impute the value for `idx_test_interval` for the event_value == `Unobserved` event.\n",
    "    dplyr::group_by( person_id ) %>%\n",
    "    dplyr::mutate(\n",
    "        idx_test_interval = dplyr::if_else( ( event_value == 'Unobserved' ) & ( !all(is.na(idx_test_interval)) ), max( idx_test_interval, na.rm = TRUE ) + 1, idx_test_interval )\n",
    "    ) %>%\n",
    "    dplyr::ungroup() %>%\n",
    "    # Remove any record with `idx_test_interval` == 0. This exlcudes all prescriptions before\n",
    "    # the first non-diagnostic test recorded. The syntax below will also exclude the diagnosis event.\n",
    "    dplyr::filter( idx_test_interval != 0 ) %>%\n",
    "    suppressWarnings()"
   ]
  },
  {
   "cell_type": "markdown",
   "id": "bf3b7c75-3953-4a99-af5a-d2ed8fe598ce",
   "metadata": {},
   "source": [
    "The final step is to combine the two components of the stratification's definition into a single variable called HMA. Take note that the 'Adjust' label overrules a 'Monitor' label."
   ]
  },
  {
   "cell_type": "code",
   "execution_count": 48,
   "id": "904a5e45-148d-480a-818c-71b651be5e66",
   "metadata": {
    "jupyter": {
     "source_hidden": true
    },
    "tags": []
   },
   "outputs": [],
   "source": [
    "# The final step is to combine the two components of the stratification's definition into a single variable called HMA.\n",
    "# Take note that the 'Adjust' label overrules a 'Monitor' label.\n",
    "df_main_table_but_only_insulin_users <-\n",
    "    df_main_table_but_only_insulin_users %>%\n",
    "    dplyr::arrange( person_id, idx_test_interval, start_dttm ) %>%\n",
    "    dplyr::mutate(\n",
    "        HMA =\n",
    "            dplyr::case_when(\n",
    "                event_value == \"Unobserved\" ~ \"Unobserved\"\n",
    "                \n",
    "                ,HMA == \"Adjust\" ~ \"Adjust\"\n",
    "                ,inter_test_duration_discr == \"As expected\" ~ \"Hold\"\n",
    "                ,inter_test_duration_discr == \"Shorter than expected\" ~ \"Monitor\"\n",
    "\n",
    "                ,TRUE ~ NA_character_\n",
    "            )\n",
    "    ) %>%\n",
    "    # Set as a factor datatype and order the factors.\n",
    "    dplyr::mutate( HMA = factor( HMA, levels = df_HMA_factor %>% dplyr::select( HMA_fct_order ) %>% dplyr::pull() ) ) %>%\n",
    "    dplyr::arrange( person_id, start_dttm )"
   ]
  },
  {
   "cell_type": "markdown",
   "id": "f5d20598-5d47-40de-988a-a98fe509d3c6",
   "metadata": {},
   "source": [
    "I now join the updated definition of the HMA state to the original data frame, for comparison."
   ]
  },
  {
   "cell_type": "code",
   "execution_count": 60,
   "id": "df0539f2-07af-4637-a105-7e4239430521",
   "metadata": {
    "jupyter": {
     "source_hidden": true
    },
    "tags": []
   },
   "outputs": [],
   "source": [
    "df_main_table_but_only_insulin_users <-\n",
    "    df_main_table_but_only_insulin_users %>%\n",
    "    dplyr::distinct( person_id, idx_test_interval, HMA ) %>%\n",
    "    dplyr::rename( updated_HMA = HMA ) %>%\n",
    "    dplyr::right_join(\n",
    "        df_log_PandT_longFormat_simplified_StrataLabels\n",
    "        ,by = join_by( person_id, idx_test_interval )\n",
    "        ,relationship = \"many-to-many\"\n",
    "        ) %>%\n",
    "    # The dataframe using the updated definition of 'Adjust' did not contain all the people so my new, combined dataframe\n",
    "    # so I need to impute the values for these people. I will do it by accepting the original HMA value if the new HMA is \n",
    "    # NA. \n",
    "    dplyr::mutate(\n",
    "        updated_HMA = dplyr::if_else( is.na( updated_HMA ), HMA, updated_HMA )\n",
    "        )"
   ]
  },
  {
   "cell_type": "markdown",
   "id": "efa4af51-ed06-411c-b1c7-b0c0c9fec6df",
   "metadata": {
    "tags": []
   },
   "source": [
    "We can check the breakdown of states in this updated dataframe."
   ]
  },
  {
   "cell_type": "code",
   "execution_count": 73,
   "id": "1c461144-5ff8-40ba-864f-85c7e6be6aff",
   "metadata": {
    "jupyter": {
     "source_hidden": true
    },
    "tags": []
   },
   "outputs": [
    {
     "data": {
      "text/html": [
       "<table class=\"dataframe\">\n",
       "<caption>A tibble: 3 × 5</caption>\n",
       "<thead>\n",
       "\t<tr><th scope=col>State</th><th scope=col>Original count</th><th scope=col>Updated count</th><th scope=col>Original proportion</th><th scope=col>Updated proportion</th></tr>\n",
       "\t<tr><th scope=col>&lt;fct&gt;</th><th scope=col>&lt;int&gt;</th><th scope=col>&lt;int&gt;</th><th scope=col>&lt;dbl&gt;</th><th scope=col>&lt;dbl&gt;</th></tr>\n",
       "</thead>\n",
       "<tbody>\n",
       "\t<tr><td>Hold   </td><td>45681</td><td>45897</td><td>0.33</td><td>0.33</td></tr>\n",
       "\t<tr><td>Monitor</td><td>26316</td><td>26479</td><td>0.19</td><td>0.19</td></tr>\n",
       "\t<tr><td>Adjust </td><td>43314</td><td>42996</td><td>0.31</td><td>0.31</td></tr>\n",
       "</tbody>\n",
       "</table>\n"
      ],
      "text/latex": [
       "A tibble: 3 × 5\n",
       "\\begin{tabular}{lllll}\n",
       " State & Original count & Updated count & Original proportion & Updated proportion\\\\\n",
       " <fct> & <int> & <int> & <dbl> & <dbl>\\\\\n",
       "\\hline\n",
       "\t Hold    & 45681 & 45897 & 0.33 & 0.33\\\\\n",
       "\t Monitor & 26316 & 26479 & 0.19 & 0.19\\\\\n",
       "\t Adjust  & 43314 & 42996 & 0.31 & 0.31\\\\\n",
       "\\end{tabular}\n"
      ],
      "text/markdown": [
       "\n",
       "A tibble: 3 × 5\n",
       "\n",
       "| State &lt;fct&gt; | Original count &lt;int&gt; | Updated count &lt;int&gt; | Original proportion &lt;dbl&gt; | Updated proportion &lt;dbl&gt; |\n",
       "|---|---|---|---|---|\n",
       "| Hold    | 45681 | 45897 | 0.33 | 0.33 |\n",
       "| Monitor | 26316 | 26479 | 0.19 | 0.19 |\n",
       "| Adjust  | 43314 | 42996 | 0.31 | 0.31 |\n",
       "\n"
      ],
      "text/plain": [
       "  State   Original count Updated count Original proportion Updated proportion\n",
       "1 Hold    45681          45897         0.33                0.33              \n",
       "2 Monitor 26316          26479         0.19                0.19              \n",
       "3 Adjust  43314          42996         0.31                0.31              "
      ]
     },
     "metadata": {},
     "output_type": "display_data"
    }
   ],
   "source": [
    "original_state_breakdown <-\n",
    "    df_main_table_but_only_insulin_users %>%\n",
    "    dplyr::group_by( HMA ) %>%\n",
    "    dplyr::reframe( n = n() ) %>%\n",
    "    dplyr::ungroup() %>%\n",
    "    dplyr::mutate( `Relative proportion` = round( n / sum( n ), 2) ) %>%\n",
    "    dplyr::filter( HMA != \"Unobserved\", !is.na( HMA ) )\n",
    "\n",
    "updated_state_breakdown <-\n",
    "    df_main_table_but_only_insulin_users %>%\n",
    "    dplyr::group_by( updated_HMA ) %>%\n",
    "    dplyr::reframe( n = n() ) %>%\n",
    "    dplyr::ungroup() %>%\n",
    "    dplyr::mutate( `Relative proportion` = round( n / sum( n ), 2) ) %>%\n",
    "    dplyr::filter( updated_HMA != \"Unobserved\", !is.na( updated_HMA ) ) %>%\n",
    "    dplyr::rename( HMA = updated_HMA )\n",
    "\n",
    "dplyr::left_join(\n",
    "    original_state_breakdown\n",
    "    ,updated_state_breakdown\n",
    "    ,by = join_by( HMA )\n",
    "    ) %>%\n",
    "dplyr::select( HMA, n.x, n.y, `Relative proportion.x`, `Relative proportion.y` ) %>%\n",
    "`colnames<-`( c( \"State\", \"Original count\", \"Updated count\", \"Original proportion\", \"Updated proportion\" ) )"
   ]
  },
  {
   "cell_type": "markdown",
   "id": "dc5a6239-b642-4cc6-b569-45f5ff6ef068",
   "metadata": {
    "tags": []
   },
   "source": [
    "The count of 'Adjust' states has gone down but the relative proportion remains unchanged, at the resolution of two decimal places or a proportion."
   ]
  }
 ],
 "metadata": {
  "environment": {
   "kernel": "ir",
   "name": "r-cpu.m125",
   "type": "gcloud",
   "uri": "us-docker.pkg.dev/deeplearning-platform-release/gcr.io/r-cpu:m125"
  },
  "kernelspec": {
   "display_name": "R (Local)",
   "language": "R",
   "name": "ir"
  },
  "language_info": {
   "codemirror_mode": "r",
   "file_extension": ".r",
   "mimetype": "text/x-r-source",
   "name": "R",
   "pygments_lexer": "r",
   "version": "4.4.1"
  }
 },
 "nbformat": 4,
 "nbformat_minor": 5
}
