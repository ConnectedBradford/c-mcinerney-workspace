{
 "cells": [
  {
   "cell_type": "markdown",
   "id": "17fa9c5d-6626-4c1e-b228-3ff73515057a",
   "metadata": {},
   "source": [
    "# Add feature sets that are defined by others.\n",
    "\n",
    "The purpose of this notebook is to append features that were not part of the initial databaset query.\n",
    "\n",
    "This notebook is expected to be called by its parent `UNSEEN_create_feature_sets.ipynb`. It will not run without the requisite loaded during the parent notebook."
   ]
  },
  {
   "cell_type": "markdown",
   "id": "a00ed2b7-3715-4d94-ad32-ab2184ab4feb",
   "metadata": {
    "tags": []
   },
   "source": [
    "## Refresh store."
   ]
  },
  {
   "cell_type": "code",
   "execution_count": 1,
   "id": "57c9f979-3c41-4bf4-ad10-2dbc0f57a90f",
   "metadata": {
    "jupyter": {
     "source_hidden": true
    },
    "tags": []
   },
   "outputs": [],
   "source": [
    "# Get helper functions.\n",
    "%run 'UNSEEN_helper_functions.ipynb'\n",
    "# Refresh stored variables, if they are present.\n",
    "%store -r"
   ]
  },
  {
   "cell_type": "markdown",
   "id": "e5c79660-c70f-4ec9-a482-77994b577a00",
   "metadata": {},
   "source": [
    "## Load requisites"
   ]
  },
  {
   "cell_type": "code",
   "execution_count": 2,
   "id": "1ec229bb-3756-4710-a403-cf06ef6f5c23",
   "metadata": {
    "jupyter": {
     "source_hidden": true
    },
    "tags": []
   },
   "outputs": [],
   "source": [
    "# Set folder location.\n",
    "folder_loc = os.path.dirname(os.path.abspath(\"UNSEEN_create_clinician_feature_sets.ipynb\"))\n",
    "folder = folder_loc + '/codelists/'\n",
    "\n",
    "# Clinical codes of interest.\n",
    "codes_to_query_crisisContraception = pandas.read_csv(folder + \"ciaranmci-crisis-contraception-409408ed.csv\")\n",
    "codes_to_query_UPSI = pandas.read_csv(folder + \"ciaranmci-unprotected-sexual-intercourse-1c772b8e.csv\")\n",
    "codes_to_query_teenagePregnancy = pandas.read_csv(folder + \"ciaranmci-teenage-adolescent-pregnancy-3e52c03a.csv\")\n",
    "codes_to_query_attemptedSuicide = pandas.read_csv(folder + \"ciaranmci-attempted-suicide-0367b859.csv\")\n",
    "codes_to_query_selfHarm = pandas.read_csv(folder + \"ciaranmci-self-harm-6b0c26b8.csv\")\n",
    "codes_to_query_CAMHSrefsAndDisch = pandas.read_csv(folder + \"ciaranmci-camhs-referrals-and-discharges-0e87f47d.csv\")\n",
    "codes_to_query_substanceMisuse = pandas.read_csv(folder + \"ciaranmci-substance-misuse-363a8058.csv\")\n",
    "codes_to_query_CYPmentalDisorder = pandas.read_csv(folder + \"ciaranmci-child-young-person-mental-disorder-279767b2.csv\")\n",
    "codes_to_query_childAbuse = pandas.read_csv(folder + \"ciaranmci-child-abuse-041b99ee.csv\")\n",
    "codes_to_query_familialSubstanceMisuse = pandas.read_csv(folder + \"ciaranmci-familial-drug-abuse-and-misuse-3aec1eaf.csv\")\n",
    "codes_to_query_socialServicesInvolved = pandas.read_csv(folder + \"ciaranmci-social-services-involved-25434d05.csv\")\n",
    "codes_to_query_childProtection = pandas.read_csv(folder + \"ciaranmci-child-protection-13ed7469.csv\")\n",
    "codes_to_query_familialMentalHealthConditions = pandas.read_csv(folder + \"ciaranmci-family-history-of-mental-health-conditions-or-suicide-53fb91e4.csv\")\n",
    "codes_to_query_partedParents = pandas.read_csv(folder + \"ciaranmci-child-of-single-divorced-or-separated-parents-061a784f.csv\")\n",
    "codes_to_query_depressionNotDysthymiaOrChronic = pandas.read_csv(folder + \"ciaranmci-depression-not-chronic-not-dysthymia-782b413d.csv\")\n",
    "codes_to_query_IAPTuse = pandas.read_csv(folder + \"ciaranmci-iapt-use-51fcb383.csv\")\n",
    "codes_to_query_anxietyOrPanic = pandas.read_csv(folder + \"ciaranmci-anxiety-or-panic-finding-and-disorder-2cfce79e.csv\")\n",
    "codes_to_query_agorophobia = pandas.read_csv(folder + \"ciaranmci-agorophobia-67a5852d.csv\")\n",
    "codes_to_query_eatingDisorders = pandas.read_csv(folder + \"ciaranmci-eating-disorders-3ba00044.csv\")\n",
    "codes_to_query_poorBodyImage = pandas.read_csv(folder + \"ciaranmci-poor-body-image-27422b66.csv\")\n",
    "codes_to_query_CYPneurodevDisorder = pandas.read_csv(folder + \"ciaranmci-child-young-person-neurodevelopmental-disorder-59b64e1c.csv\")\n",
    "codes_to_query_ADHD = pandas.read_csv(folder + \"ciaranmci-attention-deficit-hyperactivity-disorder-752344fb.csv\")\n",
    "codes_to_query_autism = pandas.read_csv(folder + \"nhsd-primary-care-domain-refsets-autism_cod-20210127.csv\")\n",
    "codes_to_query_SpLD = pandas.read_csv(folder + \"ciaranmci-dyspraxia-dyscalculia-and-dyslexia-7889e686.csv\")\n",
    "codes_to_query_adultVictimOfAbuse = pandas.read_csv(folder + \"ciaranmci-adult-victim-of-abuse-447ef3b5.csv\")\n",
    "codes_to_query_DNA = pandas.read_csv(folder + \"ciaranmci-did-not-attend-098119da.csv\")\n",
    "codes_to_query_violentBehaviour = pandas.read_csv(folder + \"ciaranmci-violent-behaviour-7071a6a4.csv\")\n",
    "codes_to_query_IAPTreferral = pandas.read_csv(folder + \"ciaranmci-iapt-referral-16fed9a8.csv\")\n",
    "codes_to_query_paranoia = pandas.read_csv(folder + \"ciaranmci-paranoia-5c690e12.csv\")\n",
    "codes_to_query_auditoryHallucinations = pandas.read_csv(folder + \"ciaranmci-auditory-hallucinations-5762336f.csv\")\n",
    "codes_to_query_dissociation = pandas.read_csv(folder + \"ciaranmci-dissociation-75788147.csv\")\n",
    "codes_to_query_NESA = pandas.read_csv(folder + \"ciaranmci-non-epileptic-seizure-attack-depreciated-pseduoseizure-43599add.csv\")\n",
    "codes_to_query_alcoholMisuse = pandas.read_csv(folder + \"ciaranmci-alcohol-misuse-53df56ed.csv\")\n",
    "codes_to_query_drugMisuse = pandas.read_csv(folder + \"ciaranmci-drug-misuse-3acfe3b8.csv\")\n",
    "codes_to_query_DNA = pandas.read_csv(folder + \"ciaranmci-did-not-attend-098119da.csv\")\n",
    "codes_to_query_suicidal = pandas.read_csv(folder + \"ciaranmci-suicidal-5eaa56c5.csv\")\n",
    "codes_to_query_historyOfOrCurrentAddiction = pandas.read_csv(folder + \"ciaranmci-history-of-or-current-addiction-5bf796cf.csv\")\n",
    "codes_to_query_drugMisuse = pandas.read_csv(folder + \"ciaranmci-drug-misuse-3acfe3b8.csv\")\n",
    "codes_to_query_alcoholMisuse = pandas.read_csv(folder + \"ciaranmci-alcohol-misuse-53df56ed.csv\")\n",
    "codes_to_query_asylumSeeker = pandas.read_csv(folder + \"ciaranmci-asylum-seeker-4972fc5e.csv\")\n",
    "codes_to_query_raisedInCareSystem = pandas.read_csv(folder + \"ciaranmci-raised-in-care-system-7e44a2be.csv\")\n",
    "codes_to_query_brainInjury = pandas.read_csv(folder + \"ciaranmci-brain-injury-30638929.csv\")\n",
    "codes_to_query_socialServicesInvolved = pandas.read_csv(folder + \"ciaranmci-social-services-involved-25434d05.csv\")\n",
    "codes_to_query_homeless = pandas.read_csv(folder + \"ciaranmci-homelessness-0e1fe637.csv\")\n",
    "codes_to_query_incarcerationImprisonment = pandas.read_csv(folder + \"ciaranmci-incarceration-or-imprisonment-75107301.csv\")\n",
    "codes_to_query_sleepDisturbance = pandas.read_csv(folder + \"ciaranmci-sleep-disturbance-dyssomnia-29e21962.csv\")\n",
    "codes_to_query_tinnitus = pandas.read_csv(folder + \"ciaranmci-tinnitus-finding-10d2a62d.csv\")\n",
    "codes_to_query_abandonment = pandas.read_csv(folder + \"ciaranmci-abandonment-008f546f.csv\")\n",
    "\n",
    "codes_to_query_mentalIllHealth = pandas.read_csv(folder + \"mental_ill_health_codelist.txt\", sep = '\\t')\n",
    "codes_to_query_bipolar = pandas.read_csv(folder + \"ciaranmci-bipolar-disorder-6a0308d7.csv\")\n",
    "codes_to_query_schizophrenia = pandas.read_csv(folder + \"ciaranmci-schizophrenia-05c53c03.csv\")\n",
    "codes_to_query_mentalIllHealth = pandas.DataFrame(\n",
    "    list(\n",
    "        set(codes_to_query_mentalIllHealth[\"Id\"]).difference(\n",
    "            set(codes_to_query_bipolar[\"code\"]).union(\n",
    "                set(codes_to_query_schizophrenia[\"code\"])\n",
    "            )\n",
    "        )\n",
    "    )\n",
    "    ,columns = [\"Id\"]\n",
    ")\n",
    "\n",
    "\n",
    "# Medications of interest.\n",
    "medications_to_query_all = pandas.read_csv(folder + \"UNSEEN_medications_list.csv\")\n",
    "medications_to_query_antidepressants = pandas.read_csv(folder + \"UNSEEN_medications_antidepressants.csv\")\n",
    "medications_to_query_hypnoticsAndAnxiolytics = pandas.read_csv(folder + \"UNSEEN_medications_hypnoticsAndAnxiolytics.csv\")\n",
    "medications_to_query_psychosisAndRelated = pandas.read_csv(folder + \"UNSEEN_medications_psychosisAndRelated.csv\")\n",
    "medications_to_query_alcoholMisuse = pandas.read_csv(folder + \"UNSEEN_medications_indicating_treatment_for_alcohol_misuse.csv\")\n",
    "medications_to_query_drugMisuse = pandas.read_csv(folder + \"UNSEEN_medications_indicating_treatment_for_drug_misuse.csv\")"
   ]
  },
  {
   "cell_type": "markdown",
   "id": "5283320e-6d39-4f53-8a9b-45fc33784e53",
   "metadata": {
    "tags": []
   },
   "source": [
    "### Young person, mental health concerns"
   ]
  },
  {
   "cell_type": "code",
   "execution_count": 3,
   "id": "94b66f48-4c22-42bb-b18f-9ef51af73fc8",
   "metadata": {
    "jupyter": {
     "source_hidden": true
    },
    "tags": []
   },
   "outputs": [],
   "source": [
    "toAdd = \\\n",
    "pandas.DataFrame(data = {\n",
    "    'person_id' : feature_set_array.person_id,\n",
    "    'mentalHealthConcern_CYPA' : feature_set_array[['attemptedSuicide_CYPA', 'selfHarm_CYPA', 'CAMHSrefsAndDisch_CYPA']].any(True),\n",
    "    'mentalHealthConcern_EA' : feature_set_array[['attemptedSuicide_EA', 'selfHarm_EA', 'CAMHSrefsAndDisch_EA']].any(True),\n",
    "    'mentalHealthConcern_Adult' : feature_set_array[['attemptedSuicide_Adult', 'selfHarm_Adult',\n",
    "                                                     'adultVictimOfAbuse', 'substanceMisuse_Adult']].any(True)\n",
    "                        }\n",
    "                )\n",
    "feature_set_array = feature_set_array.merge(toAdd, on = 'person_id', how = 'left')"
   ]
  },
  {
   "cell_type": "markdown",
   "id": "f9a4599b-091c-40e2-b44b-c66d5962b7e2",
   "metadata": {
    "tags": []
   },
   "source": [
    "### Family concerns"
   ]
  },
  {
   "cell_type": "code",
   "execution_count": 4,
   "id": "2f402a6f-0be8-47e5-a64e-c6f680f79494",
   "metadata": {
    "jupyter": {
     "source_hidden": true
    },
    "tags": []
   },
   "outputs": [],
   "source": [
    "# FamilyConcerns\n",
    "toAdd = \\\n",
    "pandas.DataFrame(data = {\n",
    "    'person_id' : feature_set_array.person_id,\n",
    "    'FamilyConcerns' : feature_set_array[['familialMentalHealthConditions', 'familialSubstanceMisuse', 'familyHistoryOfAlcoholism',\n",
    "                                          'familyHistoryOfPsychosis', 'socialServicesInvolved_CYPA', 'socialServicesInvolved_EA',\n",
    "                                          'socialServicesInvolved_Adult', 'childProtection', 'partedParents']].any(True)\n",
    "                        }\n",
    "                )\n",
    "feature_set_array = feature_set_array.merge(toAdd, on = 'person_id', how = 'left')"
   ]
  },
  {
   "cell_type": "markdown",
   "id": "90431f28-65d7-42be-af75-c07e61ce19c0",
   "metadata": {
    "tags": []
   },
   "source": [
    "### Recurrent ED attendance"
   ]
  },
  {
   "cell_type": "code",
   "execution_count": 5,
   "id": "ca7f1b14-3385-4786-8e6b-cce320b5a906",
   "metadata": {
    "jupyter": {
     "source_hidden": true
    },
    "tags": []
   },
   "outputs": [
    {
     "name": "stderr",
     "output_type": "stream",
     "text": [
      "/opt/conda/lib/python3.7/site-packages/google/auth/_default.py:78: UserWarning: Your application has authenticated using end user credentials from Google Cloud SDK without a quota project. You might receive a \"quota exceeded\" or \"API not enabled\" error. See the following page for troubleshooting: https://cloud.google.com/docs/authentication/adc-troubleshooting/user-creds. \n",
      "  warnings.warn(_CLOUD_SDK_CREDENTIALS_WARNING)\n"
     ]
    }
   ],
   "source": [
    "sql = \\\n",
    "\"\"\"\n",
    "WITH\n",
    "tbl_a AS (\n",
    "    SELECT\n",
    "        person_id\n",
    "        ,CASE\n",
    "            WHEN ( EXTRACT( YEAR FROM tbl_ae_start_date) - CAST(birth_year AS INT) ) < 18 THEN 'CYPA'\n",
    "            WHEN ( EXTRACT( YEAR FROM tbl_ae_start_date) - CAST(birth_year AS INT) ) BETWEEN 18 AND 29 THEN 'EA'\n",
    "            ELSE 'Adult'\n",
    "        END AS period\n",
    "        ,tbl_ae_start_date AS visit_date\n",
    "        ,LAG(tbl_ae_start_date) OVER(PARTITION BY person_id ORDER BY tbl_ae_start_date) AS lag_visit_date \n",
    "    FROM\n",
    "        `\"\"\" + server_id + \"\"\".CB_FDM_Warehouse_V2.tbl_ae`\n",
    ")\n",
    "SELECT\n",
    "    person_id\n",
    "    ,period\n",
    "    ,CASE\n",
    "        WHEN COUNT(person_id) > 20 THEN 2 #'Very frequent'\n",
    "        WHEN COUNT(person_id) > 4 THEN 1 #'Frequent'\n",
    "        ELSE 0 # 'Infrequent'\n",
    "     END\n",
    "     AS recurrentEDattendances\n",
    "FROM\n",
    "    tbl_a\n",
    "WHERE\n",
    "    DATE_DIFF(visit_date, lag_visit_date, DAY) BETWEEN 1 AND 365\n",
    "GROUP BY\n",
    "    person_id\n",
    "    ,period\n",
    "ORDER BY\n",
    "    person_id\n",
    "    ,period\n",
    "\"\"\"\n",
    "fs_recurrentEDattendances = pandas.read_gbq(sql)\n",
    "fs_recurrentEDattendances_CYPA = \\\n",
    "    fs_recurrentEDattendances.loc[fs_recurrentEDattendances.period == 'CYPA', ~fs_recurrentEDattendances.columns.isin(['period'])]\n",
    "fs_recurrentEDattendances_CYPA.columns = ['person_id', 'recurrentEDattendances_CYPA']\n",
    "fs_recurrentEDattendances_EA = \\\n",
    "    fs_recurrentEDattendances.loc[fs_recurrentEDattendances.period == 'EA', ~fs_recurrentEDattendances.columns.isin(['period'])]\n",
    "fs_recurrentEDattendances_EA.columns = ['person_id', 'recurrentEDattendances_EA']\n",
    "fs_recurrentEDattendances_Adult = \\\n",
    "    fs_recurrentEDattendances.loc[fs_recurrentEDattendances.period == 'Adult', ~fs_recurrentEDattendances.columns.isin(['period'])]\n",
    "fs_recurrentEDattendances_Adult.columns = ['person_id', 'recurrentEDattendances_Adult']\n",
    "\n",
    "# Join recurrentEDattendances.\n",
    "feature_set_array = \\\n",
    "    feature_set_array.merge(fs_recurrentEDattendances_CYPA, on = 'person_id', how = 'left').merge(\n",
    "        fs_recurrentEDattendances_EA, on = 'person_id', how = 'left').merge(\n",
    "            fs_recurrentEDattendances_Adult, on = 'person_id', how = 'left')"
   ]
  },
  {
   "cell_type": "markdown",
   "id": "26c21ea5-39c3-442d-a848-68ffcf7b3719",
   "metadata": {},
   "source": [
    "### Access to healthcare"
   ]
  },
  {
   "cell_type": "code",
   "execution_count": 6,
   "id": "c0c30975-798d-4a42-a61f-5910af4bffe0",
   "metadata": {
    "jupyter": {
     "source_hidden": true
    },
    "tags": []
   },
   "outputs": [],
   "source": [
    "# AccessToHealthcare\n",
    "toAdd = \\\n",
    "    pandas.DataFrame(data = {\n",
    "        'person_id' : feature_set_array.person_id,\n",
    "        'AccessToHealthcare_CYPA' : feature_set_array[['manyDNA_CYPA', 'violentBehaviour_CYPA', 'recurrentEDattendances_CYPA']].any(True),\n",
    "        'AccessToHealthcare_EA' : feature_set_array[['manyDNA_EA', 'violentBehaviour_EA', 'recurrentEDattendances_EA']].any(True),\n",
    "        'AccessToHealthcare_Adult' : feature_set_array[['manyDNA_Adult', 'violentBehaviour_Adult', 'recurrentEDattendances_Adult']].any(True)\n",
    "                            }\n",
    "                    )\n",
    "feature_set_array = feature_set_array.merge(toAdd, on = 'person_id', how = 'left')"
   ]
  },
  {
   "cell_type": "markdown",
   "id": "39fcbdb1-62c9-4b89-8a43-06de3e6ba68a",
   "metadata": {
    "tags": []
   },
   "source": [
    "### Count of antidepressants prescriptions, in the three years before the index date"
   ]
  },
  {
   "cell_type": "code",
   "execution_count": 7,
   "id": "2f0ee36c-2cc8-433c-ad39-4b4e8b97112d",
   "metadata": {
    "jupyter": {
     "source_hidden": true
    },
    "tags": []
   },
   "outputs": [],
   "source": [
    "sql_select = \\\n",
    "\"\"\"\n",
    ",tbl_antidepressants AS (\n",
    "    SELECT\n",
    "        my_nameofmedication\n",
    "    FROM\n",
    "        UNNEST([\n",
    "                '\"\"\" + '\\', \\''.join(map(str, medications_to_query_antidepressants[\"Medication\"].tolist())) + \"\"\"'\n",
    "                ]) AS my_nameofmedication\n",
    ")\n",
    ",tbl_AntidepressantPrescriptions_persons AS (\n",
    "    SELECT\n",
    "        DISTINCT person_id\n",
    "        ,datemedicationstart\n",
    "    FROM\n",
    "        \"\"\" + server_id + \"\"\".\"\"\" + database_id + \"\"\".tbl_srprimarycaremedication\n",
    "        # This CROSS JOIN conveniently creates all possible combinations of values of the\n",
    "        # tbl_srprimarycaremedication table and my `tbl_antidepressants`. This sets up my interim result to \n",
    "        # easily do a row-wise comparison of the medications of interest with the variously-\n",
    "        # worded `nameofmedication` values in the database.\n",
    "    CROSS JOIN\n",
    "        tbl_antidepressants\n",
    "    WHERE\n",
    "        CAST(tbl_srprimarycaremedication.isrepeatmedication AS BOOL) IS TRUE\n",
    "        AND\n",
    "        # This filters for the medications of interest.\n",
    "        REGEXP_CONTAINS(tbl_srprimarycaremedication.nameofmedication, tbl_antidepressants.my_nameofmedication) = True\n",
    "        AND\n",
    "        DATE_DIFF(myIndexDate, CAST(tbl_srprimarycaremedication.datemedicationstart AS DATE), YEAR) < 3\n",
    ")\n",
    "SELECT\n",
    "    DISTINCT person_id\n",
    "    ,CASE \n",
    "        WHEN COUNT(datemedicationstart) >36 THEN 36 #### This might error. I might have to return a query that gives the count and then saturate at 36.\n",
    "        ELSE COUNT(datemedicationstart)\n",
    "    END AS countAntidepressantPrescriptions\n",
    "FROM\n",
    "    tbl_AntidepressantPrescriptions_persons\n",
    "GROUP BY\n",
    "    person_id\n",
    "ORDER BY\n",
    "    person_id\n",
    "\"\"\"\n",
    "\n",
    "fs_countAntidepressantPrescriptions = pandas.read_gbq(sql_declarations + sql_studyPopulation + sql_select)\n",
    "\n",
    "# Join countAntidepressantPrescriptions\n",
    "feature_set_array = feature_set_array.merge(fs_countAntidepressantPrescriptions, on = 'person_id', how = 'left')"
   ]
  },
  {
   "cell_type": "markdown",
   "id": "cdc4f507-60fd-4d96-a771-d06e143125f7",
   "metadata": {
    "tags": []
   },
   "source": [
    "### Count of unique antidepressant medications, in the three years before the index date"
   ]
  },
  {
   "cell_type": "code",
   "execution_count": 8,
   "id": "d9be7414-cba0-4e85-805c-f87083e2b64e",
   "metadata": {
    "jupyter": {
     "source_hidden": true
    },
    "tags": []
   },
   "outputs": [],
   "source": [
    "sql_select = \\\n",
    "\"\"\"\n",
    ",tbl_antidepressants AS (\n",
    "    SELECT\n",
    "        my_nameofmedication\n",
    "    FROM\n",
    "        UNNEST([\n",
    "                '\"\"\" + '\\', \\''.join(map(str, medications_to_query_antidepressants[\"Medication\"].tolist())) + \"\"\"'\n",
    "                ]) AS my_nameofmedication\n",
    ")\n",
    ",tbl_uniqueAntidepressants_persons AS (\n",
    "    SELECT\n",
    "        DISTINCT person_id\n",
    "        ,my_nameofmedication\n",
    "    FROM\n",
    "        \"\"\" + server_id + \"\"\".\"\"\" + database_id + \"\"\".tbl_srprimarycaremedication\n",
    "        # This CROSS JOIN conveniently creates all possible combinations of values of the\n",
    "        # tbl_srprimarycaremedication table and my `tbl_antidepressants`. This sets up my interim result to \n",
    "        # easily do a row-wise comparison of the medications of interest with the variously-\n",
    "        # worded `nameofmedication` values in the database.\n",
    "    CROSS JOIN\n",
    "        tbl_antidepressants\n",
    "    WHERE\n",
    "        CAST(tbl_srprimarycaremedication.isrepeatmedication AS BOOL) IS TRUE\n",
    "        AND\n",
    "        # This filters for the medications of interest.\n",
    "        REGEXP_CONTAINS(tbl_srprimarycaremedication.nameofmedication, tbl_antidepressants.my_nameofmedication) = True\n",
    "        AND\n",
    "        DATE_DIFF(myIndexDate, CAST(tbl_srprimarycaremedication.datemedicationstart AS DATE), YEAR) < 3\n",
    ")\n",
    "SELECT\n",
    "  DISTINCT person_id\n",
    "  ,COUNT(my_nameofmedication) AS countUniqueAntidepressants\n",
    "FROM\n",
    "  tbl_uniqueAntidepressants_persons\n",
    "GROUP BY\n",
    "    person_id\n",
    "ORDER BY\n",
    "    person_id\n",
    "\"\"\"\n",
    "\n",
    "fs_countUniqueAntidepressants = pandas.read_gbq(sql_declarations + sql_studyPopulation + sql_select)\n",
    "\n",
    "# Join countUniqueAntidepressants.\n",
    "feature_set_array = feature_set_array.merge(fs_countUniqueAntidepressants, on = 'person_id', how = 'left')"
   ]
  },
  {
   "cell_type": "markdown",
   "id": "f287ba27-0a11-421a-85cf-d8e2e700c30e",
   "metadata": {
    "tags": []
   },
   "source": [
    "### Count of hyponotics or anxiolytics prescriptions, in the three years before the index date"
   ]
  },
  {
   "cell_type": "code",
   "execution_count": 9,
   "id": "25962767-ad80-406b-8263-483efb534198",
   "metadata": {
    "jupyter": {
     "source_hidden": true
    },
    "tags": []
   },
   "outputs": [],
   "source": [
    "sql_select = \\\n",
    "\"\"\"\n",
    ",tbl_hypnoticsAndAnxiolytics AS (\n",
    "    SELECT\n",
    "        my_nameofmedication\n",
    "    FROM\n",
    "        UNNEST([\n",
    "                '\"\"\" + '\\', \\''.join(map(str, medications_to_query_hypnoticsAndAnxiolytics[\"Medication\"].tolist())) + \"\"\"'\n",
    "                ]) AS my_nameofmedication\n",
    ")\n",
    ",tbl_hypnoticsAndAnxiolyticsPrescriptions_persons AS (\n",
    "    SELECT\n",
    "        DISTINCT person_id\n",
    "        ,datemedicationstart\n",
    "    FROM\n",
    "        \"\"\" + server_id + \"\"\".\"\"\" + database_id + \"\"\".tbl_srprimarycaremedication\n",
    "        # This CROSS JOIN conveniently creates all possible combinations of values of the\n",
    "        # tbl_srprimarycaremedication table and my `tbl_hypnoticsAndAnxiolytics`. This sets up my interim result to \n",
    "        # easily do a row-wise comparison of the medications of interest with the variously-\n",
    "        # worded `nameofmedication` values in the database.\n",
    "    CROSS JOIN\n",
    "        tbl_hypnoticsAndAnxiolytics\n",
    "    WHERE\n",
    "        CAST(tbl_srprimarycaremedication.isrepeatmedication AS BOOL) IS TRUE\n",
    "        AND\n",
    "        # This filters for the medications of interest.\n",
    "        REGEXP_CONTAINS(tbl_srprimarycaremedication.nameofmedication, tbl_hypnoticsAndAnxiolytics.my_nameofmedication) = True\n",
    "        AND\n",
    "        DATE_DIFF(myIndexDate, CAST(tbl_srprimarycaremedication.datemedicationstart AS DATE), YEAR) < 3\n",
    ")\n",
    "SELECT\n",
    "  DISTINCT person_id\n",
    "  ,COUNT(datemedicationstart) AS countHypnoticsAndAnxiolyticsPrescriptions\n",
    "FROM\n",
    "  tbl_hypnoticsAndAnxiolyticsPrescriptions_persons\n",
    "GROUP BY\n",
    "    person_id\n",
    "ORDER BY\n",
    "    person_id\n",
    "\"\"\"\n",
    "\n",
    "fs_countHypnoticsAndAnxiolyticsPrescriptions = pandas.read_gbq(sql_declarations + sql_studyPopulation + sql_select)\n",
    "\n",
    "# Join countHypnoticsAndAnxiolyticsPrescriptions\n",
    "feature_set_array = feature_set_array.merge(fs_countHypnoticsAndAnxiolyticsPrescriptions, on = 'person_id', how = 'left')"
   ]
  },
  {
   "cell_type": "markdown",
   "id": "f6cf1f4e-8e7e-46a3-9aab-8f04f9d23412",
   "metadata": {
    "tags": []
   },
   "source": [
    "### Count of unique hyponotic and anxiolytic medications, in the three years before the index date"
   ]
  },
  {
   "cell_type": "code",
   "execution_count": 10,
   "id": "34a9dc4b-5096-4770-b1cf-9dde424d4a58",
   "metadata": {
    "jupyter": {
     "source_hidden": true
    },
    "tags": []
   },
   "outputs": [],
   "source": [
    "sql_select = \\\n",
    "\"\"\"\n",
    ",tbl_hypnoticsAndAnxiolytics AS (\n",
    "    SELECT\n",
    "        my_nameofmedication\n",
    "    FROM\n",
    "        UNNEST([\n",
    "                '\"\"\" + '\\', \\''.join(map(str, medications_to_query_hypnoticsAndAnxiolytics[\"Medication\"].tolist())) + \"\"\"'\n",
    "                ]) AS my_nameofmedication\n",
    ")\n",
    ",tbl_uniquehypnoticsAndAnxiolytics_persons AS (\n",
    "    SELECT\n",
    "        DISTINCT person_id\n",
    "        ,my_nameofmedication\n",
    "    FROM\n",
    "        \"\"\" + server_id + \"\"\".\"\"\" + database_id + \"\"\".tbl_srprimarycaremedication\n",
    "        # This CROSS JOIN conveniently creates all possible combinations of values of the\n",
    "        # tbl_srprimarycaremedication table and my `tbl_hypnoticsAndAnxiolytics`. This sets up my interim result to \n",
    "        # easily do a row-wise comparison of the medications of interest with the variously-\n",
    "        # worded `nameofmedication` values in the database.\n",
    "    CROSS JOIN\n",
    "        tbl_hypnoticsAndAnxiolytics\n",
    "    WHERE\n",
    "        CAST(tbl_srprimarycaremedication.isrepeatmedication AS BOOL) IS TRUE\n",
    "        AND\n",
    "        # This filters for the medications of interest.\n",
    "        REGEXP_CONTAINS(tbl_srprimarycaremedication.nameofmedication, tbl_hypnoticsAndAnxiolytics.my_nameofmedication) = True\n",
    "        AND\n",
    "        DATE_DIFF(myIndexDate, CAST(tbl_srprimarycaremedication.datemedicationstart AS DATE), YEAR) < 3\n",
    ")\n",
    "SELECT\n",
    "  DISTINCT person_id\n",
    "  ,COUNT(my_nameofmedication) AS countUniqueHypnoticsAndAnxiolytics\n",
    "FROM\n",
    "  tbl_uniquehypnoticsAndAnxiolytics_persons\n",
    "GROUP BY\n",
    "    person_id\n",
    "ORDER BY\n",
    "    person_id\n",
    "\"\"\"\n",
    "\n",
    "fs_countUniqueHypnoticsAndAnxiolytics = pandas.read_gbq(sql_declarations + sql_studyPopulation + sql_select)\n",
    "\n",
    "# Join countUniqueHypnoticsAndAnxiolytics.\n",
    "feature_set_array = feature_set_array.merge(fs_countUniqueHypnoticsAndAnxiolytics, on = 'person_id', how = 'left')"
   ]
  },
  {
   "cell_type": "markdown",
   "id": "6df74f79-bb64-4887-841b-cc693c0cffb9",
   "metadata": {
    "tags": []
   },
   "source": [
    "### Antipsychotic prescriptions, in the three years before the index date"
   ]
  },
  {
   "cell_type": "code",
   "execution_count": 11,
   "id": "935dd231-eb2b-482e-a8c6-54574afd51cc",
   "metadata": {
    "jupyter": {
     "source_hidden": true
    },
    "tags": []
   },
   "outputs": [],
   "source": [
    "sql_select = \\\n",
    "\"\"\"\n",
    ",tbl_antipsychotics AS (\n",
    "    SELECT\n",
    "        my_nameofmedication\n",
    "    FROM\n",
    "        UNNEST([\n",
    "                '\"\"\" + '\\', \\''.join(map(str, medications_to_query_psychosisAndRelated[\"Medication\"].tolist())) + \"\"\"'\n",
    "                ]) AS my_nameofmedication\n",
    ")\n",
    "SELECT\n",
    "    DISTINCT person_id\n",
    "    ,TRUE AS antipsychoticsPrescription\n",
    "FROM\n",
    "    \"\"\" + server_id + \"\"\".\"\"\" + database_id + \"\"\".tbl_srprimarycaremedication\n",
    "    # This CROSS JOIN conveniently creates all possible combinations of values of the\n",
    "    # tbl_srprimarycaremedication table and my `tbl_antipsychotics`. This sets up my interim result to \n",
    "    # easily do a row-wise comparison of the medications of interest with the variously-\n",
    "    # worded `nameofmedication` values in the database.\n",
    "CROSS JOIN\n",
    "    tbl_antipsychotics\n",
    "WHERE\n",
    "    CAST(tbl_srprimarycaremedication.isrepeatmedication AS BOOL) IS TRUE\n",
    "    AND\n",
    "    # This filters for the medications of interest.\n",
    "    REGEXP_CONTAINS(tbl_srprimarycaremedication.nameofmedication, tbl_antipsychotics.my_nameofmedication) = True\n",
    "    AND\n",
    "    DATE_DIFF(myIndexDate, CAST(tbl_srprimarycaremedication.datemedicationstart AS DATE), YEAR) < 3\n",
    "\"\"\"\n",
    "\n",
    "fs_antipsychoticsPrescription = pandas.read_gbq(sql_declarations + sql_studyPopulation + sql_select)\n",
    "\n",
    "# Join antipsychoticsPrescription\n",
    "feature_set_array = feature_set_array.merge(fs_antipsychoticsPrescription, on = 'person_id', how = 'left')"
   ]
  },
  {
   "cell_type": "markdown",
   "id": "6bded972-0ab5-4e8e-8f61-7b1540ff51ad",
   "metadata": {},
   "source": [
    "### Count of aborted antidepressant medication regimes"
   ]
  },
  {
   "cell_type": "code",
   "execution_count": 12,
   "id": "1d051b92-741b-460f-bc86-c3382d259d4b",
   "metadata": {
    "jupyter": {
     "source_hidden": true
    },
    "tags": []
   },
   "outputs": [],
   "source": [
    "sql_select = \\\n",
    "\"\"\"\n",
    ",tbl_antidepressants AS (\n",
    "    SELECT\n",
    "        my_nameofmedication\n",
    "    FROM\n",
    "        UNNEST([\n",
    "                '\"\"\" + '\\', \\''.join(map(str, medications_to_query_antidepressants[\"Medication\"].tolist())) + \"\"\"'\n",
    "                ]) AS my_nameofmedication\n",
    ")\n",
    ",tbl_laggedAndLeadPrescriptions_persons AS (\n",
    "    SELECT\n",
    "        DISTINCT person_id\n",
    "        ,datemedicationstart\n",
    "        ,LAG(datemedicationstart) OVER(PARTITION BY person_id ORDER BY dateevent) AS lagged_datemedicationstart\n",
    "        ,LEAD(datemedicationstart, 1) OVER(PARTITION BY person_id ORDER BY dateevent) AS leadBy1_datemedicationstart\n",
    "        ,LEAD(datemedicationstart, 2) OVER(PARTITION BY person_id ORDER BY dateevent) AS leadBy2_datemedicationstart\n",
    "        #,EXTRACT(YEAR FROM datemedicationstart) AS year_prescription\n",
    "        #,EXTRACT(MONTH FROM datemedicationstart) AS month_prescription\n",
    "    FROM\n",
    "        \"\"\" + server_id + \"\"\".\"\"\" + database_id + \"\"\".tbl_srprimarycaremedication\n",
    "        # This CROSS JOIN conveniently creates all possible combinations of values of the\n",
    "        # tbl_srprimarycaremedication table and my `tbl_antidepressants`. This sets up my interim result to \n",
    "        # easily do a row-wise comparison of the medications of interest with the variously-\n",
    "        # worded `nameofmedication` values in the database.\n",
    "    CROSS JOIN\n",
    "        tbl_antidepressants\n",
    "    WHERE\n",
    "        CAST(tbl_srprimarycaremedication.isrepeatmedication AS BOOL) IS TRUE\n",
    "        AND\n",
    "        # This filters for the medications of interest.\n",
    "        REGEXP_CONTAINS(tbl_srprimarycaremedication.nameofmedication, tbl_antidepressants.my_nameofmedication) = True\n",
    "        AND\n",
    "        DATE_DIFF(myIndexDate, CAST(tbl_srprimarycaremedication.datemedicationstart AS DATE), YEAR) < 3\n",
    ")\n",
    "SELECT\n",
    "    DISTINCT person_id\n",
    "    ,COUNT(*) AS countAbortedAntidepressantMedicationRegimes\n",
    "FROM\n",
    "    tbl_laggedAndLeadPrescriptions_persons\n",
    "WHERE\n",
    "    # No prescription in previous month.\n",
    "    DATE_DIFF(datemedicationstart, lagged_datemedicationstart, MONTH) > 1\n",
    "    AND\n",
    "    # No prescription in next month.\n",
    "    DATE_DIFF(leadBy1_datemedicationstart, datemedicationstart, MONTH) > 1\n",
    "    AND\n",
    "    # No prescription in next next month.\n",
    "    DATE_DIFF(leadBy2_datemedicationstart, datemedicationstart, MONTH) > 2\n",
    "GROUP BY\n",
    "    person_id\n",
    "ORDER BY\n",
    "    person_id\n",
    "\"\"\"\n",
    "\n",
    "fs_countAbortedAntidepressantMedicationRegimes = pandas.read_gbq(sql_declarations + sql_studyPopulation + sql_select)\n",
    "\n",
    "# Join countAbortedAntidepressantMedicationRegimes\n",
    "feature_set_array = feature_set_array.merge(fs_countAbortedAntidepressantMedicationRegimes, on = 'person_id',how = 'left')"
   ]
  },
  {
   "cell_type": "markdown",
   "id": "b7aeb820-cbb1-416b-b019-a157fc2e660d",
   "metadata": {},
   "source": [
    "### Recurring mental symptoms"
   ]
  },
  {
   "cell_type": "code",
   "execution_count": 13,
   "id": "b7a7b3be-a7f5-47e1-8270-812ebf3f62ac",
   "metadata": {
    "jupyter": {
     "source_hidden": true
    },
    "tags": []
   },
   "outputs": [],
   "source": [
    "# RecurringMentalSymptoms\n",
    "toAdd = \\\n",
    "pandas.DataFrame(data = {\n",
    "    'person_id' : feature_set_array.person_id,\n",
    "    'RecurringMentalSymptoms_CYPA' : feature_set_array[['paranoia_CYPA', 'auditoryHallucinations_CYPA', 'dissociation_CYPA', 'NESA_CYPA', 'violentBehaviour_CYPA']].sum(axis = 1) > 1,\n",
    "    'RecurringMentalSymptoms_EA' : feature_set_array[['paranoia_EA', 'auditoryHallucinations_EA', 'dissociation_EA', 'NESA_EA', 'violentBehaviour_EA']].sum(axis = 1) > 1,\n",
    "    'RecurringMentalSymptoms_Adult' : feature_set_array[['paranoia_Adult', 'auditoryHallucinations_Adult', 'dissociation_CYPA', 'NESA_Adult', 'violentBehaviour_Adult']].sum(axis = 1) > 1\n",
    "                        }\n",
    "                )\n",
    "feature_set_array = feature_set_array.merge(toAdd, on = 'person_id', how = 'left')"
   ]
  },
  {
   "cell_type": "markdown",
   "id": "22d10bc7-5b69-45d4-b970-76f6757b1230",
   "metadata": {
    "tags": []
   },
   "source": [
    "### Mental health treatments"
   ]
  },
  {
   "cell_type": "code",
   "execution_count": 14,
   "id": "c1a00e39-3018-442b-a146-a9cd79501d84",
   "metadata": {
    "jupyter": {
     "source_hidden": true
    },
    "tags": []
   },
   "outputs": [],
   "source": [
    "# MentalHealthTreatments\n",
    "toAdd = \\\n",
    "pandas.DataFrame(data = {\n",
    "    'person_id' : feature_set_array.person_id,\n",
    "    'MentalHealthTreatments_CYPA' : feature_set_array[['CAMHSrefsAndDisch_CYPA', 'IAPTrevolvingDoor_CYPA', 'substanceMisuse_CYPA', 'relevantPrescriptions_CYPA']].any(True),\n",
    "    'MentalHealthTreatments_EA' : feature_set_array[['CAMHSrefsAndDisch_EA', 'IAPTrevolvingDoor_EA', 'substanceMisuse_EA', 'relevantPrescriptions_EA']].any(True),\n",
    "    'MentalHealthTreatments_Adult' : feature_set_array[['IAPTrevolvingDoor_Adult', 'substanceMisuse_Adult', 'relevantPrescriptions_Adult']].any(True)\n",
    "                        }\n",
    "                )\n",
    "feature_set_array = feature_set_array.merge(toAdd, on = 'person_id', how = 'left')"
   ]
  },
  {
   "cell_type": "markdown",
   "id": "47242915-19ad-4a61-905e-d05d9bf94a97",
   "metadata": {},
   "source": [
    "## Store of feature_set_array."
   ]
  },
  {
   "cell_type": "code",
   "execution_count": 15,
   "id": "620e64f5-d277-4eae-b2be-f4403669fdc9",
   "metadata": {
    "jupyter": {
     "source_hidden": true
    },
    "tags": []
   },
   "outputs": [
    {
     "name": "stdout",
     "output_type": "stream",
     "text": [
      "Stored 'feature_set_array' (DataFrame)\n"
     ]
    }
   ],
   "source": [
    "feature_set_array.fillna(0, inplace = True)\n",
    "%store feature_set_array"
   ]
  },
  {
   "cell_type": "markdown",
   "id": "389f9c08-ac73-411e-a839-2b8b04dceca5",
   "metadata": {
    "tags": []
   },
   "source": [
    "# ---------------------------------------------------------------------------------"
   ]
  },
  {
   "cell_type": "markdown",
   "id": "f9ec0518-a537-4b52-9050-74c1617115eb",
   "metadata": {
    "tags": []
   },
   "source": [
    "# Rationale for the threshold I used for 'recurrentEDattendance'\n",
    "The threshold for what constitutes \"recurrent\" in the definition of `recurrentEDattendance` was based on my investigation into the tallies of attendances at the emergency department within a year (i.e. 365 days), in patients' records.\n",
    "\n",
    "The BigQuery syntax returns a Python pandas.DataFrame containing this count, `cnt_annual_ED_attedence`."
   ]
  },
  {
   "cell_type": "code",
   "execution_count": 16,
   "id": "dca4ad84-2219-4269-8c22-c27346327b68",
   "metadata": {
    "jupyter": {
     "source_hidden": true
    },
    "tags": []
   },
   "outputs": [],
   "source": [
    "sql = \\\n",
    "\"\"\"\n",
    "WITH\n",
    "tbl_a AS (\n",
    "    SELECT\n",
    "        person_id\n",
    "        ,CASE\n",
    "            WHEN ( EXTRACT( YEAR FROM tbl_ae_start_date) - CAST(birth_year AS INT) ) < 18 THEN 'CYPA'\n",
    "            WHEN ( EXTRACT( YEAR FROM tbl_ae_start_date) - CAST(birth_year AS INT) ) BETWEEN 18 AND 29 THEN 'EA'\n",
    "            ELSE 'Adult'\n",
    "        END AS period\n",
    "        ,tbl_ae_start_date AS visit_date\n",
    "        ,LAG(tbl_ae_start_date) OVER(PARTITION BY person_id ORDER BY tbl_ae_start_date) AS lag_visit_date \n",
    "    FROM\n",
    "        `\"\"\" + server_id + \"\"\".CB_FDM_Warehouse_V2.tbl_ae`\n",
    ")\n",
    "SELECT\n",
    "    person_id\n",
    "    ,period\n",
    "    ,COUNT(person_id) AS cnt_annual_ED_attendence\n",
    "FROM\n",
    "    tbl_a\n",
    "WHERE\n",
    "    DATE_DIFF(visit_date, lag_visit_date, DAY) BETWEEN 1 AND 365\n",
    "GROUP BY\n",
    "    person_id\n",
    "    ,period\n",
    "ORDER BY\n",
    "    person_id\n",
    "    ,period\n",
    "\"\"\"\n",
    "fs_recurrentEDattednances = pandas.read_gbq(sql)"
   ]
  },
  {
   "cell_type": "markdown",
   "id": "f70c0e0f-d371-4b74-a388-99096ef8f5cf",
   "metadata": {
    "tags": []
   },
   "source": [
    "Below are histograms of the frequency of patients' annual count of ED attendances, stratified by whether the person is <18 years of age (Child or Young Person or Adolescent, 'CYPA'), between 19 and 29 (Emerging Adult, 'EA'), or greater than 29 years of age (Adult, 'Adult')."
   ]
  },
  {
   "cell_type": "code",
   "execution_count": 17,
   "id": "e0304c71-ff1d-469b-9f7c-8fc013fd5cdb",
   "metadata": {
    "jupyter": {
     "source_hidden": true
    },
    "tags": []
   },
   "outputs": [
    {
     "data": {
      "image/png": "[encoded data removed]",
      "text/plain": [
       "<Figure size 1800x400 with 3 Axes>"
      ]
     },
     "metadata": {},
     "output_type": "display_data"
    }
   ],
   "source": [
    "# Plot parameters.\n",
    "fig, axs = matplotlib.pyplot.subplots(1, 3, figsize = (18, 4))\n",
    "\n",
    "# CYPA histogram.\n",
    "axs[0].hist(\n",
    "    fs_recurrentEDattednances.cnt_annual_ED_attendence.loc[(fs_recurrentEDattednances.period == 'CYPA') & (fs_recurrentEDattednances.cnt_annual_ED_attendence < 40)]\n",
    "    ,bins = 40\n",
    ")\n",
    "axs[0].set_title('Frequency of \\'CYPA\\' patients\\' annual\\ncount of ED attendances (capped at 40)')\n",
    "axs[0].set_xticks(\n",
    "        numpy.concatenate((numpy.arange(0, 19, 2), numpy.arange(20, 41, 20)))\n",
    ")\n",
    "\n",
    "# EA histogram.\n",
    "axs[1].hist(\n",
    "    fs_recurrentEDattednances.cnt_annual_ED_attendence.loc[(fs_recurrentEDattednances.period == 'EA') & (fs_recurrentEDattednances.cnt_annual_ED_attendence < 40)]\n",
    "    ,bins = 40\n",
    ")\n",
    "axs[1].set_title('Frequency of \\'Emerging Adult\\' patients\\' annual\\ncount of ED attendances (capped at 40)')\n",
    "axs[1].set_xticks(\n",
    "        numpy.concatenate((numpy.arange(0, 19, 2), numpy.arange(20, 41, 20)))\n",
    ")\n",
    "\n",
    "# Adult histogram.\n",
    "axs[2].hist(\n",
    "    fs_recurrentEDattednances.cnt_annual_ED_attendence.loc[(fs_recurrentEDattednances.period == 'Adult') & (fs_recurrentEDattednances.cnt_annual_ED_attendence < 40)]\n",
    "    ,bins = 40\n",
    ")\n",
    "axs[2].set_title('Frequency of \\'Adult\\' patients\\' annual\\ncount of ED attendances (capped at 40)')\n",
    "axs[2].set_xticks(\n",
    "        numpy.concatenate((numpy.arange(0, 19, 2), numpy.arange(20, 41, 20)))\n",
    ")\n",
    "\n",
    "# Show full plot.\n",
    "matplotlib.pyplot.show()"
   ]
  },
  {
   "cell_type": "markdown",
   "id": "c3114e75-4aea-4869-989c-8341e7df28a7",
   "metadata": {},
   "source": [
    "Qualitatively, all histograms have the same shape at the same counts of ED attendances. Differences arise only with the density (in other words, the counts). Therefore, only one rule is needed to distinguish infrequent, frequent, and very frequent ED users.\n",
    "\n",
    "From the histograms I note:\n",
    "- Most patients have 4 or fewer ED attendances within a year.\n",
    "- The bulk of the histogram occurs within 20 of fewer ED attendences.\n",
    "- Few patients have annual ED attendance counts greater than 20.\n",
    "\n",
    "__I decided that there are three cohorts, defined as:__\n",
    "- __'Infrequent user' - four or fewer ED attendences within a year.__\n",
    "- __'Frequent user' - between five and twenty ED attendences within a year.__\n",
    "- __'Very frequent user' - more than twenty ED attendences within a year.__\n",
    "\n",
    "These criteria define the three values for the `recurrentEDattendance` variable."
   ]
  }
 ],
 "metadata": {
  "environment": {
   "kernel": "python3",
   "name": "r-cpu.4-2.m111",
   "type": "gcloud",
   "uri": "gcr.io/deeplearning-platform-release/r-cpu.4-2:m111"
  },
  "kernelspec": {
   "display_name": "Python 3",
   "language": "python",
   "name": "python3"
  },
  "language_info": {
   "codemirror_mode": {
    "name": "ipython",
    "version": 3
   },
   "file_extension": ".py",
   "mimetype": "text/x-python",
   "name": "python",
   "nbconvert_exporter": "python",
   "pygments_lexer": "ipython3",
   "version": "3.7.12"
  }
 },
 "nbformat": 4,
 "nbformat_minor": 5
}
