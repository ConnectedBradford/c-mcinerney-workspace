{
 "cells": [
  {
   "cell_type": "code",
   "execution_count": null,
   "id": "019a640d-ce87-4967-871a-167c8b95a3a5",
   "metadata": {},
   "outputs": [],
   "source": [
    "The purpose of this notebook is to produce prevalence estimates for the initial sets of diagnostic codes and medication codes that might indicate patients with complex mental health difficulties.\n",
    "\n",
    "\n",
    "\n",
    "\n",
    "Below, we calculate the prevalence for the first set of complex mental health difficulties: 'Bipolar disorder', 'Developmental academic disorder', and 'Schizophrenia'.\n",
    "\n",
    "First, we load the required libraries."
   ]
  },
  {
   "cell_type": "code",
   "execution_count": 1,
   "id": "c63b0b60-0fc5-4667-bb74-e0ef8e9be5be",
   "metadata": {},
   "outputs": [
    {
     "name": "stderr",
     "output_type": "stream",
     "text": [
      "── \u001b[1mAttaching packages\u001b[22m ─────────────────────────────────────── tidyverse 1.3.2 ──\n",
      "\u001b[32m✔\u001b[39m \u001b[34mggplot2\u001b[39m 3.3.6     \u001b[32m✔\u001b[39m \u001b[34mpurrr  \u001b[39m 0.3.4\n",
      "\u001b[32m✔\u001b[39m \u001b[34mtibble \u001b[39m 3.1.8     \u001b[32m✔\u001b[39m \u001b[34mdplyr  \u001b[39m 1.0.9\n",
      "\u001b[32m✔\u001b[39m \u001b[34mtidyr  \u001b[39m 1.2.0     \u001b[32m✔\u001b[39m \u001b[34mstringr\u001b[39m 1.4.0\n",
      "\u001b[32m✔\u001b[39m \u001b[34mreadr  \u001b[39m 2.1.2     \u001b[32m✔\u001b[39m \u001b[34mforcats\u001b[39m 0.5.1\n",
      "── \u001b[1mConflicts\u001b[22m ────────────────────────────────────────── tidyverse_conflicts() ──\n",
      "\u001b[31m✖\u001b[39m \u001b[34mdplyr\u001b[39m::\u001b[32mfilter()\u001b[39m masks \u001b[34mstats\u001b[39m::filter()\n",
      "\u001b[31m✖\u001b[39m \u001b[34mdplyr\u001b[39m::\u001b[32mlag()\u001b[39m    masks \u001b[34mstats\u001b[39m::lag()\n"
     ]
    }
   ],
   "source": [
    "library(tidyverse)\n",
    "library(bigrquery)"
   ]
  },
  {
   "cell_type": "code",
   "execution_count": null,
   "id": "3c6e5011-932b-4206-86ad-24b69e244cea",
   "metadata": {},
   "outputs": [],
   "source": [
    "Set some parameters."
   ]
  },
  {
   "cell_type": "code",
   "execution_count": 7,
   "id": "0735ff05-91a4-40cc-9fb7-28eaf9b06e39",
   "metadata": {},
   "outputs": [],
   "source": [
    "project <- \"yhcr-prd-phm-bia-core\"\n",
    "cdm_source_dataset <- \"CY_FDM_V1\"\n",
    "fdm_source_dataset <- \"CY_FDM_PrimaryCare_v5\"\n",
    "target_dataset <- \"CY_MYSPACE_CMC\"\n",
    "target_table_prefix <- \"\"\n",
    "project_start_date <- \"2019-01-01\"\n",
    "project_end_date <- \"2019-12-31\""
   ]
  },
  {
   "cell_type": "markdown",
   "id": "8ceb8de0-de0f-45fb-ad5d-ed3d6e1cbc20",
   "metadata": {},
   "source": [
    "Do a sense check of parameters. Running `bq_projects()` should only return `yhcr-prd-phm-bia-core`."
   ]
  },
  {
   "cell_type": "code",
   "execution_count": 12,
   "id": "2d9205c9-e4c1-4bed-8ac5-d618a9584bad",
   "metadata": {},
   "outputs": [
    {
     "data": {
      "text/html": [
       "'yhcr-prd-phm-bia-core'"
      ],
      "text/latex": [
       "'yhcr-prd-phm-bia-core'"
      ],
      "text/markdown": [
       "'yhcr-prd-phm-bia-core'"
      ],
      "text/plain": [
       "[1] \"yhcr-prd-phm-bia-core\""
      ]
     },
     "metadata": {},
     "output_type": "display_data"
    }
   ],
   "source": [
    "bq_projects()"
   ]
  },
  {
   "cell_type": "markdown",
   "id": "5cfdb351-7bb2-4816-b297-3147643694a8",
   "metadata": {},
   "source": [
    "Make a dataset handle where all the new tables will be saved"
   ]
  },
  {
   "cell_type": "code",
   "execution_count": 13,
   "id": "746b6be4-59b2-49de-85f9-39115d66bf5f",
   "metadata": {},
   "outputs": [],
   "source": [
    "dbh <- bq_dataset(project, target_dataset)"
   ]
  },
  {
   "cell_type": "markdown",
   "id": "48968d07-0c21-4112-b595-797e16ba2adf",
   "metadata": {},
   "source": [
    "Load the SNOMED codes for the sets of complex mental health difficulties."
   ]
  },
  {
   "cell_type": "code",
   "execution_count": 17,
   "id": "4ca1b55c-3161-4c1d-aa5f-7e39821abecb",
   "metadata": {},
   "outputs": [
    {
     "name": "stdout",
     "output_type": "stream",
     "text": [
      "[1] \"6 complex mental health difficulties loaded.\"\n"
     ]
    },
    {
     "name": "stderr",
     "output_type": "stream",
     "text": [
      "Warning message in read.table(file = file, header = header, sep = sep, quote = quote, :\n",
      "“incomplete final line found by readTableHeader on 'CHD2.csv'”\n"
     ]
    },
    {
     "name": "stdout",
     "output_type": "stream",
     "text": [
      "[1] \"3 complex mental health difficulties loaded.\"\n",
      "      V11       V12       V13       V14       V15       V16       V11       V12 \n",
      " 20010003 192080009 313182004 443919007  78667006  33449004  13746004    185002 \n",
      "      V13 \n",
      " 58214004 \n",
      "[1] \"Combined set of 9 complex mental health difficulties loaded.\"\n"
     ]
    }
   ],
   "source": [
    "chmd_set_1 <- read.csv(\"CHD1.csv\", header = FALSE, sep = \",\") %>% unlist()\n",
    "print(paste0(length(chmd_set_1), \" complex mental health difficulties loaded.\"))\n",
    "chmd_set_2 <- read.csv(\"CHD2.csv\", header = FALSE, sep = \",\") %>% unlist()\n",
    "print(paste0(length(chmd_set_2), \" complex mental health difficulties loaded.\"))\n",
    "chmd_set_3 <- c(chmd_set_1, chmd_set_2)\n",
    "print(chmd_set_3)\n",
    "print(paste0(\"Combined set of \",length(chmd_set_3), \" complex mental health difficulties loaded.\"))"
   ]
  },
  {
   "cell_type": "code",
   "execution_count": null,
   "id": "601cb0e5-142b-46a6-bfa9-5c07f9365e10",
   "metadata": {},
   "outputs": [],
   "source": [
    "Run SQL scripts."
   ]
  },
  {
   "cell_type": "code",
   "execution_count": null,
   "id": "63945802-1659-4dce-8dd3-b82db217e30a",
   "metadata": {},
   "outputs": [],
   "source": [
    "source(\"~/build_sql.R\")"
   ]
  }
 ],
 "metadata": {
  "environment": {
   "kernel": "ir",
   "name": "r-cpu.4-1.m95",
   "type": "gcloud",
   "uri": "gcr.io/deeplearning-platform-release/r-cpu.4-1:m95"
  },
  "kernelspec": {
   "display_name": "R",
   "language": "R",
   "name": "ir"
  },
  "language_info": {
   "codemirror_mode": "r",
   "file_extension": ".r",
   "mimetype": "text/x-r-source",
   "name": "R",
   "pygments_lexer": "r",
   "version": "4.2.1"
  }
 },
 "nbformat": 4,
 "nbformat_minor": 5
}
