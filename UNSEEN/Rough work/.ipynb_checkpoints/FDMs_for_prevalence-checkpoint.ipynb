{
 "cells": [
  {
   "cell_type": "markdown",
   "id": "90ec1e37-18b7-41ef-a63b-eb20e0d0472e",
   "metadata": {},
   "source": [
    "The purpose of this workbook is to ensure that the required tables have been FDMd and copied into my workspace.\n",
    "\n",
    "As per usual, this notebook starts with some fundamental imports and setting the `DATASET_ID`."
   ]
  },
  {
   "cell_type": "code",
   "execution_count": 11,
   "id": "6e51e7c2-7c74-4e15-b730-ba02df53d12d",
   "metadata": {},
   "outputs": [
    {
     "name": "stdout",
     "output_type": "stream",
     "text": [
      "/home/jupyter/UNSEEN\n"
     ]
    },
    {
     "ename": "TypeError",
     "evalue": "'str' object is not callable",
     "output_type": "error",
     "traceback": [
      "\u001b[0;31m---------------------------------------------------------------------------\u001b[0m",
      "\u001b[0;31mTypeError\u001b[0m                                 Traceback (most recent call last)",
      "\u001b[0;32m/tmp/ipykernel_3147/3587128827.py\u001b[0m in \u001b[0;36m<module>\u001b[0;34m\u001b[0m\n\u001b[1;32m      2\u001b[0m \u001b[0;32mimport\u001b[0m \u001b[0mos\u001b[0m\u001b[0;34m\u001b[0m\u001b[0;34m\u001b[0m\u001b[0m\n\u001b[1;32m      3\u001b[0m \u001b[0mprint\u001b[0m\u001b[0;34m(\u001b[0m\u001b[0mos\u001b[0m\u001b[0;34m.\u001b[0m\u001b[0mpath\u001b[0m\u001b[0;34m.\u001b[0m\u001b[0mabspath\u001b[0m\u001b[0;34m(\u001b[0m\u001b[0mos\u001b[0m\u001b[0;34m.\u001b[0m\u001b[0mcurdir\u001b[0m\u001b[0;34m)\u001b[0m\u001b[0;34m)\u001b[0m\u001b[0;34m\u001b[0m\u001b[0;34m\u001b[0m\u001b[0m\n\u001b[0;32m----> 4\u001b[0;31m \u001b[0mos\u001b[0m\u001b[0;34m.\u001b[0m\u001b[0mcurdir\u001b[0m\u001b[0;34m(\u001b[0m\u001b[0;34m'../'\u001b[0m\u001b[0;34m)\u001b[0m\u001b[0;34m\u001b[0m\u001b[0;34m\u001b[0m\u001b[0m\n\u001b[0m\u001b[1;32m      5\u001b[0m \u001b[0mprint\u001b[0m\u001b[0;34m(\u001b[0m\u001b[0mos\u001b[0m\u001b[0;34m.\u001b[0m\u001b[0mpath\u001b[0m\u001b[0;34m.\u001b[0m\u001b[0mabspath\u001b[0m\u001b[0;34m(\u001b[0m\u001b[0mos\u001b[0m\u001b[0;34m.\u001b[0m\u001b[0mcurdir\u001b[0m\u001b[0;34m)\u001b[0m\u001b[0;34m)\u001b[0m\u001b[0;34m\u001b[0m\u001b[0;34m\u001b[0m\u001b[0m\n",
      "\u001b[0;31mTypeError\u001b[0m: 'str' object is not callable"
     ]
    }
   ],
   "source": [
    "import sys\n",
    "import os\n",
    "print(os.path.abspath(os.curdir))\n",
    "os.curdir('../')\n",
    "print(os.path.abspath(os.curdir))"
   ]
  },
  {
   "cell_type": "code",
   "execution_count": 12,
   "id": "ab3e6513-2ce4-4a8c-8731-5f335cd09973",
   "metadata": {},
   "outputs": [
    {
     "ename": "ModuleNotFoundError",
     "evalue": "No module named 'FDMBuilder'",
     "output_type": "error",
     "traceback": [
      "\u001b[0;31m---------------------------------------------------------------------------\u001b[0m",
      "\u001b[0;31mModuleNotFoundError\u001b[0m                       Traceback (most recent call last)",
      "\u001b[0;32m/tmp/ipykernel_3147/2038045794.py\u001b[0m in \u001b[0;36m<module>\u001b[0;34m\u001b[0m\n\u001b[1;32m      4\u001b[0m \u001b[0msys\u001b[0m\u001b[0;34m.\u001b[0m\u001b[0mpath\u001b[0m\u001b[0;34m.\u001b[0m\u001b[0mappend\u001b[0m\u001b[0;34m(\u001b[0m\u001b[0;34m'../tutorials/cy_fdm_builder/FDMBuilder'\u001b[0m\u001b[0;34m)\u001b[0m\u001b[0;34m\u001b[0m\u001b[0;34m\u001b[0m\u001b[0m\n\u001b[1;32m      5\u001b[0m \u001b[0;31m# Import the requisite functions.\u001b[0m\u001b[0;34m\u001b[0m\u001b[0;34m\u001b[0m\u001b[0;34m\u001b[0m\u001b[0m\n\u001b[0;32m----> 6\u001b[0;31m \u001b[0;32mfrom\u001b[0m \u001b[0mFDMTable\u001b[0m \u001b[0;32mimport\u001b[0m \u001b[0;34m*\u001b[0m\u001b[0;34m\u001b[0m\u001b[0;34m\u001b[0m\u001b[0m\n\u001b[0m\u001b[1;32m      7\u001b[0m \u001b[0;32mfrom\u001b[0m \u001b[0mFDMDataset\u001b[0m \u001b[0;32mimport\u001b[0m \u001b[0;34m*\u001b[0m\u001b[0;34m\u001b[0m\u001b[0;34m\u001b[0m\u001b[0m\n\u001b[1;32m      8\u001b[0m \u001b[0;32mfrom\u001b[0m \u001b[0mtesting_helpers\u001b[0m \u001b[0;32mimport\u001b[0m \u001b[0;34m*\u001b[0m\u001b[0;34m\u001b[0m\u001b[0;34m\u001b[0m\u001b[0m\n",
      "\u001b[0;32m~/tutorials/cy_fdm_builder/FDMBuilder/FDMTable.py\u001b[0m in \u001b[0;36m<module>\u001b[0;34m\u001b[0m\n\u001b[1;32m      2\u001b[0m \u001b[0;32mimport\u001b[0m \u001b[0mdatetime\u001b[0m\u001b[0;34m\u001b[0m\u001b[0;34m\u001b[0m\u001b[0m\n\u001b[1;32m      3\u001b[0m \u001b[0;32mfrom\u001b[0m \u001b[0mdateutil\u001b[0m\u001b[0;34m.\u001b[0m\u001b[0mparser\u001b[0m \u001b[0;32mimport\u001b[0m \u001b[0mparse\u001b[0m\u001b[0;34m\u001b[0m\u001b[0;34m\u001b[0m\u001b[0m\n\u001b[0;32m----> 4\u001b[0;31m \u001b[0;32mfrom\u001b[0m \u001b[0mFDMBuilder\u001b[0m\u001b[0;34m.\u001b[0m\u001b[0mFDM_helpers\u001b[0m \u001b[0;32mimport\u001b[0m \u001b[0;34m*\u001b[0m\u001b[0;34m\u001b[0m\u001b[0;34m\u001b[0m\u001b[0m\n\u001b[0m\u001b[1;32m      5\u001b[0m \u001b[0;32mfrom\u001b[0m \u001b[0mgoogle\u001b[0m\u001b[0;34m.\u001b[0m\u001b[0mcloud\u001b[0m \u001b[0;32mimport\u001b[0m \u001b[0mbigquery\u001b[0m\u001b[0;34m\u001b[0m\u001b[0;34m\u001b[0m\u001b[0m\n\u001b[1;32m      6\u001b[0m \u001b[0;32mfrom\u001b[0m \u001b[0mgoogle\u001b[0m\u001b[0;34m.\u001b[0m\u001b[0mcloud\u001b[0m\u001b[0;34m.\u001b[0m\u001b[0mexceptions\u001b[0m \u001b[0;32mimport\u001b[0m \u001b[0mNotFound\u001b[0m\u001b[0;34m\u001b[0m\u001b[0;34m\u001b[0m\u001b[0m\n",
      "\u001b[0;31mModuleNotFoundError\u001b[0m: No module named 'FDMBuilder'"
     ]
    }
   ],
   "source": [
    "# Import some high-level functions.\n",
    "import sys\n",
    "# Add the sibling folder path to access the requisite functions.\n",
    "sys.path.append('../tutorials/cy_fdm_builder/FDMBuilder')\n",
    "# Import the requisite functions.\n",
    "from FDMTable import *\n",
    "from FDMDataset import *\n",
    "from testing_helpers import *\n",
    "\n",
    "# Set and set the `DATASET_ID`.\n",
    "DATASET_ID = \"CY_MYSPACE_CMC\"\n",
    "if check_dataset_exists(DATASET_ID):\n",
    "    clear_dataset(DATASET_ID)\n",
    "    print(\"Good to go!\")\n",
    "else:\n",
    "    print(\"#\" * 33 + \" PROBLEM!! \" + 33 * \"#\" + \"\\n\")\n",
    "    print(\"Something doesn't look right. Check you spelled everything correctly,\\n\" \n",
    "          \"your dataset has been created in GCP, and you have the right permisssions\\n\")\n",
    "    print(\"#\" * 80)"
   ]
  },
  {
   "cell_type": "markdown",
   "id": "bd1e3169-7e1a-42da-b9b9-6767603fa73b",
   "metadata": {},
   "source": [
    "The code below adds the `person` table and the `obervation_period` to my workspace. The first two steps just copy a couple of tables into our workspace, made sure the person_id is in good order, and adds a couple of dates. The `test_dataset.build()` command builds our first FDMTables."
   ]
  },
  {
   "cell_type": "code",
   "execution_count": null,
   "id": "c5834691-3427-47f1-b1b8-55622d162ad5",
   "metadata": {},
   "outputs": [],
   "source": [
    "# Define the FDMTable objects.\n",
    "snomed_code_table = FDMTable(\n",
    "    source_table_id=\"yhcr-prd-phm-bia-core.CY_FDM_PrimaryCare_v5.tbl_SRCode\",\n",
    "    dataset_id=DATASET_ID\n",
    ")\n",
    "medicines_table = FDMTable(\n",
    "    source_table_id=\"yhcr-prd-phm-bia-core.CY_FDM_PrimaryCare_v5.tbl_SPrimaryCareMedication\",\n",
    "    dataset_id=DATASET_ID\n",
    ")\n",
    "\n",
    "# Build the FDMTable objects.\n",
    "# This just copies the source table, tidies it, and adds some columns.\n",
    "snomed_code_table.build()\n",
    "medicines_table.build()\n",
    "\n",
    "# Add our first FDMTables: the person table and the observation_period table.\n",
    "prevalence_dataset = FDMDataset(\n",
    "    dataset_id=DATASET_ID\n",
    ")\n",
    "prevalence_dataset.build()"
   ]
  }
 ],
 "metadata": {
  "environment": {
   "kernel": "python3",
   "name": "r-cpu.4-1.m95",
   "type": "gcloud",
   "uri": "gcr.io/deeplearning-platform-release/r-cpu.4-1:m95"
  },
  "kernelspec": {
   "display_name": "Python 3",
   "language": "python",
   "name": "python3"
  },
  "language_info": {
   "codemirror_mode": {
    "name": "ipython",
    "version": 3
   },
   "file_extension": ".py",
   "mimetype": "text/x-python",
   "name": "python",
   "nbconvert_exporter": "python",
   "pygments_lexer": "ipython3",
   "version": "3.7.12"
  }
 },
 "nbformat": 4,
 "nbformat_minor": 5
}
