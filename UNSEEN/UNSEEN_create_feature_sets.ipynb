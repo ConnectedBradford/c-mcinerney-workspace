{
 "cells": [
  {
   "cell_type": "markdown",
   "id": "2ba9d747-34c1-41a3-98d1-c501c8130fa9",
   "metadata": {},
   "source": [
    "# Create feature sets.\n",
    "\n",
    "The purpose of this notebook is to call all the notebooks that contribute to creating the features."
   ]
  },
  {
   "cell_type": "code",
   "execution_count": null,
   "id": "b37895fe-755d-4ad5-85d9-5beafac81a1f",
   "metadata": {
    "jupyter": {
     "source_hidden": true
    },
    "tags": []
   },
   "outputs": [],
   "source": [
    "# Initial, major query of the databse.\n",
    "%run \"UNSEEN_create_feature_sets_base.ipynb\""
   ]
  },
  {
   "cell_type": "code",
   "execution_count": null,
   "id": "cb099b8b-1904-4ce0-825f-51459bd7a229",
   "metadata": {
    "jupyter": {
     "source_hidden": true
    },
    "tags": []
   },
   "outputs": [],
   "source": [
    "# Append feature sets that are calculated from the base.\n",
    "%run \"UNSEEN_create_feature_sets_appendix1.ipynb\""
   ]
  },
  {
   "cell_type": "code",
   "execution_count": null,
   "id": "e7827329-7d6a-4d08-813d-17fad7a4e53b",
   "metadata": {
    "jupyter": {
     "source_hidden": true
    },
    "tags": []
   },
   "outputs": [],
   "source": [
    "# Append feature sets that are based on entropy statistics.\n",
    "%run \"UNSEEN_create_feature_sets_appendix2.ipynb\""
   ]
  },
  {
   "cell_type": "code",
   "execution_count": null,
   "id": "553170b2-9e1a-4603-befb-e261241ec1de",
   "metadata": {
    "jupyter": {
     "source_hidden": true
    },
    "tags": []
   },
   "outputs": [],
   "source": [
    "# Append feature sets that are collations of oter feature sets.\n",
    "%run \"UNSEEN_create_feature_sets_appendix3.ipynb\""
   ]
  },
  {
   "cell_type": "code",
   "execution_count": null,
   "id": "ac67e91f-097e-421d-8812-4a91081a4ea9",
   "metadata": {
    "jupyter": {
     "source_hidden": true
    },
    "tags": []
   },
   "outputs": [],
   "source": [
    "# Append feature sets that are combinations of the collations.\n",
    "%run \"UNSEEN_create_feature_sets_appendix4.ipynb\""
   ]
  },
  {
   "cell_type": "markdown",
   "id": "0bc372f0-6d62-4d5c-9eda-04eafe05b7f7",
   "metadata": {},
   "source": [
    "## Show feature names.\n",
    "\n",
    "Below I print the names of the features that are in `feature_set_array`. Most feature sets that I evaluate are combinations of these feature sets, as explained in `UNSEEN_create_feature_sets_appendix3.ipynb` and `UNSEEN_create_feature_sets_appendix4.ipynb`."
   ]
  },
  {
   "cell_type": "code",
   "execution_count": 21,
   "id": "d768671c-3823-40dc-80c0-d3d6a1620d6e",
   "metadata": {
    "jupyter": {
     "source_hidden": true
    },
    "tags": []
   },
   "outputs": [
    {
     "name": "stdout",
     "output_type": "stream",
     "text": [
      "Stored 'feature_set_array' (DataFrame)\n",
      "The feature sets are ['person_id', 'homeless', 'poverty', 'sleepDisturbance', 'suicidal', 'tinnitus', 'foodInsecurity', 'ageAtFirstAdmissionToPsychRehabServices', 'incarcerationImprisonment', 'metabolicSyndrome', 'sleepDysfunction', 'countAppointmentsPreviousYear', 'medianAnnualCountAppointments', 'countDNAsPreviousYear', 'medianAnnualCountDNAs', 'ratioDNAtoAppointmentPreviousYear', 'medianAnnualRatioDNAtoAppointment', 'trafficked', 'tortured', 'OCD', 'nonNativeEnglishSpeaker', 'hoarder', 'historyOfOrCurrentAddiction', 'familyHistoryOfPsychosis', 'familyHistoryOfAlcoholism', 'extremeSelfNeglect', 'bodyDysmorphicDisorder', 'raisedInCareSystem', 'brainInjury', 'socialServicesInvolvedCYP_countOfCodes', 'countPsychologicalDisorders', 'schoolRefusal', 'crisisContraceptionCYP', 'UPSI', 'UPSICYP', 'teenagePregnancy', 'attemptedSuicide', 'attemptedSuicideCYP', 'selfHarmAdult', 'selfHarmCYP', 'CAMHSrefsAndDisch', 'IAPTrevolvingDoor', 'substanceMisuseAdult', 'substanceMisuseCYP', 'CYPmentalDisorder', 'childAbuse', 'familialSubstanceMisuse', 'socialServicesInvolvedAdult', 'socialServicesInvolvedCYP', 'childProtection', 'familialMentalHealthConditions', 'partedParents', 'depressionNotDysthymiaOrChronic', 'IAPTuse', 'anxietyOrPanic', 'agorophobia', 'eatingDisorders', 'poorBodyImage', 'CYPneurodevDisorder', 'ADHD', 'autism', 'SpLD', 'adultVictimOfAbuse', 'manyDNA', 'violentBehaviour', 'IAPTreferral', 'paranoia', 'auditoryHallucinations', 'dissociation', 'NESA', 'alcoholMisuse', 'drugMisuse', 'relevantPrescriptions', 'MentalHealthTreatments', 'CYPmentalHealthConcern', 'FamilyConcerns', 'AdulthoodConcerns', 'recurrentEDattednances', 'AccessToHealthcare', 'countAntidepressantPrescriptions', 'countUniqueAntidepressants', 'countHypnoticsAndAnxiolyticsPrescriptions', 'countUniqueHypnoticsAndAnxiolytics', 'antipsychoticsPrescription', 'countAbortedMedicationRegimes', 'RecurringMentalSymptoms']\n"
     ]
    }
   ],
   "source": [
    "%store -r\n",
    "print(f'The feature sets are {list(feature_set_array.columns)}')"
   ]
  }
 ],
 "metadata": {
  "environment": {
   "kernel": "python3",
   "name": "r-cpu.4-2.m111",
   "type": "gcloud",
   "uri": "gcr.io/deeplearning-platform-release/r-cpu.4-2:m111"
  },
  "kernelspec": {
   "display_name": "Python 3",
   "language": "python",
   "name": "python3"
  },
  "language_info": {
   "codemirror_mode": {
    "name": "ipython",
    "version": 3
   },
   "file_extension": ".py",
   "mimetype": "text/x-python",
   "name": "python",
   "nbconvert_exporter": "python",
   "pygments_lexer": "ipython3",
   "version": "3.7.12"
  }
 },
 "nbformat": 4,
 "nbformat_minor": 5
}
