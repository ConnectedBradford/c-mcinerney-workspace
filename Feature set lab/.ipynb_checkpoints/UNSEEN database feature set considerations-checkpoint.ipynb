{
 "cells": [
  {
   "cell_type": "markdown",
   "id": "c3cf206f-210d-44e7-98ab-f8fa95970380",
   "metadata": {
    "tags": []
   },
   "source": [
    "# Feature-set array\n",
    "\n",
    "The purpose of this notebook is to produce the initial feature-set array. The initial feature set-array is an n-by-p array containing patient ID and categorical vectors for each feature indicating which level of the feature the patient is recorded to have expressed.\n",
    "\n",
    "### Imports"
   ]
  },
  {
   "cell_type": "code",
   "execution_count": 1,
   "id": "e31d250f-954f-4721-bcb3-82b3df071694",
   "metadata": {
    "jupyter": {
     "source_hidden": true
    },
    "tags": []
   },
   "outputs": [],
   "source": [
    "import pandas\n",
    "pandas.set_option('display.max_colwidth', None)\n",
    "import numpy\n",
    "from google.cloud import bigquery\n",
    "from datetime import date\n",
    "import scipy.stats\n",
    "import math\n",
    "import sklearn.metrics\n",
    "import itertools\n",
    "from IPython.display import display, Markdown, Latex\n",
    "\n",
    "# Instantiate the BigQuery client.\n",
    "client = bigquery.Client()"
   ]
  },
  {
   "cell_type": "markdown",
   "id": "cf5babb7-2224-4348-a5bf-471273d8e230",
   "metadata": {
    "tags": []
   },
   "source": [
    "## Which feature sets to start with?\n",
    "\n",
    "The intended use of the feature sets is to support clinicians in identifying patients with complex mental health difficulties so that resources can be appropriately delivered. Without information like feature sets, the clinician’s expected accuracy in identifying patients with complex mental difficulties is 50% - a coin toss. Alternatively, with no other information, one could assume everyone has complex mental health difficulties or no one does. A balance must be struck between these extremes to facilitate optimal and appropriate use of healthcare resources that maximises benefit for the unidentified patients in need. Some boundaries can be defined for this purpose.\n",
    "\n",
    "The first boundary is that any useful feature set must not be more than 50% prevalent because although a greater prevalence might improve informativeness in the worst-case scenario, it would be at the cost of positive and negative predictive values in any scenario.\n",
    "\n",
    "The second boundary requires some analysis. If the caseness of complex mental health difficulties was a fundamental concept, then any useful feature set must be at least as prevalent as complex mental health difficulties because a lesser prevalence would, at best, disimprove informativeness and negative predictive value with no benefit to positive predictive value. However, the caseness of complex mental health difficulties is a composite of independent component criteria about records of medications and diagnoses. Specifically, it is the indicated by the presence of a diagnosis and then further qualified by the presence of a presciption within three months of our data extraction.\n",
    "\n",
    "Therefore, if we consider prevalence as a probability, the sentiment of the second boundary is better worded as \"any useful feature set must be at least as prevalent _as the least-prevalent combination of criterion diagnosis and medication_\". Practically, this equates to the product of the smallest condition and medication prevalence values.\n",
    "\n",
    "The prevalence of the component criteria diagnoses are available in our script calculating the caseness variable for complex mental health difficulties. \n",
    "</br>\n",
    "</br>\n",
    "\n",
    "__*__ Note that for all arguments presented, we assume that the only signal of interest is the presence of the feature set rather than its absence because it is not possible to distinguish missingness from the genuine absence of a feature set (and each would provide different, indistinguishable information)."
   ]
  },
  {
   "cell_type": "code",
   "execution_count": 4,
   "id": "94ca5ef0-a5d6-4798-9f6d-1ada3ba7c5d1",
   "metadata": {
    "jupyter": {
     "source_hidden": true
    },
    "tags": []
   },
   "outputs": [
    {
     "data": {
      "text/markdown": [
       "\n",
       "Running our script to calculate the prevalence of our caseness variable shows that\n",
       "no component diagnosis has a prevalence greater than $0.03\\%$. This sets the lower bound for feature-set prevalence.\n",
       "\n",
       "We conclude based on our arguments that a feature set prevalence must satisfy $0.03 \\le prevalence_{feature\\ set_{i}} \\le 0.50$,\n",
       "or $210 \\le count\\ of\\ patients_{feature\\ set_{i}} \\le 351,605$\n"
      ],
      "text/plain": [
       "<IPython.core.display.Markdown object>"
      ]
     },
     "metadata": {},
     "output_type": "display_data"
    }
   ],
   "source": [
    "%run ./\"UNSEEN create caseness array.ipynb\"\n",
    "display(\n",
    "    Markdown(\"\"\"\n",
    "Running our script to calculate the prevalence of our caseness variable shows that\n",
    "no component diagnosis has a prevalence greater than $%s\\%%$. This sets the lower bound for feature-set prevalence.\n",
    "\n",
    "We conclude based on our arguments that a feature set prevalence must satisfy $%s \\le prevalence_{feature\\ set_{i}} \\le 0.50$,\n",
    "or $%s \\le count\\ of\\ patients_{feature\\ set_{i}} \\le %s$\n",
    "\"\"\"\n",
    "       %(min_criterion_prev,\n",
    "         min_criterion_prev,\n",
    "         f'{int(min_criterion_prev / 100 * denominator_as_int):,}', \n",
    "         f'{int(0.5 * denominator_as_int):,}' )\n",
    "       )\n",
    ")"
   ]
  },
  {
   "cell_type": "markdown",
   "id": "58428e76-cf33-4dfa-a409-426ece931a3d",
   "metadata": {},
   "source": [
    "### What is the prevalence of single-SNOMED-CT code feature sets?\n",
    "The first feature sets to be assessed are individual SNOMED-CT codes found in the Connected Bradford primary care table.\n",
    "\n",
    "The tables outputted below shows the count of patient records in which unique SNOMED-CT codes occur. The first table provides counts are aggregated in ranges from $<10$ to $>10,000,000$ by factors of 10. The second table presents counts aggregate in the ranges defined by the arguments made previously."
   ]
  },
  {
   "cell_type": "code",
   "execution_count": 7,
   "id": "bbb44c4e-71e7-42d1-87e0-1af13f81671e",
   "metadata": {
    "jupyter": {
     "source_hidden": true
    },
    "tags": []
   },
   "outputs": [
    {
     "data": {
      "text/html": [
       "<div>\n",
       "<style scoped>\n",
       "    .dataframe tbody tr th:only-of-type {\n",
       "        vertical-align: middle;\n",
       "    }\n",
       "\n",
       "    .dataframe tbody tr th {\n",
       "        vertical-align: top;\n",
       "    }\n",
       "\n",
       "    .dataframe thead th {\n",
       "        text-align: right;\n",
       "    }\n",
       "</style>\n",
       "<table border=\"1\" class=\"dataframe\">\n",
       "  <thead>\n",
       "    <tr style=\"text-align: right;\">\n",
       "      <th></th>\n",
       "      <th>This_many_codes__</th>\n",
       "      <th>__occur_for_this_many_patients</th>\n",
       "    </tr>\n",
       "  </thead>\n",
       "  <tbody>\n",
       "    <tr>\n",
       "      <th>0</th>\n",
       "      <td>40287</td>\n",
       "      <td>&lt;10</td>\n",
       "    </tr>\n",
       "    <tr>\n",
       "      <th>1</th>\n",
       "      <td>22996</td>\n",
       "      <td>10 =&lt; code &lt; 100</td>\n",
       "    </tr>\n",
       "    <tr>\n",
       "      <th>2</th>\n",
       "      <td>12139</td>\n",
       "      <td>100 =&lt; code &lt; 1,000</td>\n",
       "    </tr>\n",
       "    <tr>\n",
       "      <th>3</th>\n",
       "      <td>5483</td>\n",
       "      <td>1,000 =&lt; code &lt; 10,000</td>\n",
       "    </tr>\n",
       "    <tr>\n",
       "      <th>4</th>\n",
       "      <td>1357</td>\n",
       "      <td>10,000 =&lt; code &lt; 100,000</td>\n",
       "    </tr>\n",
       "    <tr>\n",
       "      <th>5</th>\n",
       "      <td>146</td>\n",
       "      <td>100,000 =&lt; code &lt; 1,000,000</td>\n",
       "    </tr>\n",
       "  </tbody>\n",
       "</table>\n",
       "</div>"
      ],
      "text/plain": [
       "   This_many_codes__ __occur_for_this_many_patients\n",
       "0              40287                            <10\n",
       "1              22996               10 =< code < 100\n",
       "2              12139            100 =< code < 1,000\n",
       "3               5483         1,000 =< code < 10,000\n",
       "4               1357       10,000 =< code < 100,000\n",
       "5                146    100,000 =< code < 1,000,000"
      ]
     },
     "metadata": {},
     "output_type": "display_data"
    },
    {
     "data": {
      "text/html": [
       "<div>\n",
       "<style scoped>\n",
       "    .dataframe tbody tr th:only-of-type {\n",
       "        vertical-align: middle;\n",
       "    }\n",
       "\n",
       "    .dataframe tbody tr th {\n",
       "        vertical-align: top;\n",
       "    }\n",
       "\n",
       "    .dataframe thead th {\n",
       "        text-align: right;\n",
       "    }\n",
       "</style>\n",
       "<table border=\"1\" class=\"dataframe\">\n",
       "  <thead>\n",
       "    <tr style=\"text-align: right;\">\n",
       "      <th></th>\n",
       "      <th>This_many_codes__</th>\n",
       "      <th>__occur_this_often</th>\n",
       "    </tr>\n",
       "  </thead>\n",
       "  <tbody>\n",
       "    <tr>\n",
       "      <th>0</th>\n",
       "      <td>68164</td>\n",
       "      <td>too infrequent (occurs in &lt; 210 patients' records)</td>\n",
       "    </tr>\n",
       "    <tr>\n",
       "      <th>1</th>\n",
       "      <td>14210</td>\n",
       "      <td>within bounds</td>\n",
       "    </tr>\n",
       "    <tr>\n",
       "      <th>2</th>\n",
       "      <td>34</td>\n",
       "      <td>too frequent (occurs in &gt; 351,605 patients' records)</td>\n",
       "    </tr>\n",
       "  </tbody>\n",
       "</table>\n",
       "</div>"
      ],
      "text/plain": [
       "   This_many_codes__                                    __occur_this_often\n",
       "0              68164    too infrequent (occurs in < 210 patients' records)\n",
       "1              14210                                         within bounds\n",
       "2                 34  too frequent (occurs in > 351,605 patients' records)"
      ]
     },
     "metadata": {},
     "output_type": "display_data"
    }
   ],
   "source": [
    "# Declare your redaction threshold and target rounding number.\n",
    "redaction_threshold = 7\n",
    "target_round = 10\n",
    "sql_variables = \\\n",
    "\"\"\"\n",
    "DECLARE redaction_threshold INT64 DEFAULT \"\"\" + str(redaction_threshold) + \"\"\";\n",
    "DECLARE target_round INT64 DEFAULT \"\"\" + str(target_round) + \"\"\";\n",
    "\"\"\"\n",
    "\n",
    "# Declare lower and upp boundaries for feature-set prevalence\n",
    "lower_bound = int(min_criterion_prev / 100 * denominator_as_int)\n",
    "upper_bound = int(0.5 * denominator_as_int)\n",
    "sql_variables = \\\n",
    "    sql_variables + \\\n",
    "\"\"\"\n",
    "DECLARE lower_bound INT64 DEFAULT \"\"\" + str(lower_bound) + \"\"\";\n",
    "DECLARE upper_bound INT64 DEFAULT \"\"\" + str(upper_bound) + \"\"\";\n",
    "\"\"\"\n",
    "\n",
    "\n",
    "sql_base = \\\n",
    "\"\"\"\n",
    "WITH\n",
    "tbl_persons AS (\n",
    "SELECT\n",
    "    DISTINCT person_id\n",
    "FROM\n",
    "    yhcr-prd-phm-bia-core.CY_MYSPACE_CMC.person\n",
    "# Limiting to age range 18-70.\n",
    "WHERE\n",
    "    (EXTRACT(YEAR FROM CURRENT_DATE()) - year_of_birth) BETWEEN 18 AND 70\n",
    ")\n",
    ",tbl_patients_per_code AS (\n",
    "SELECT\n",
    "    DISTINCT a.src_snomedcode,\n",
    "    COUNT(DISTINCT tbl_persons.person_id) AS count_patients_with_code\n",
    "FROM\n",
    "    `yhcr-prd-phm-bia-core.CY_FDM_PrimaryCare_v5.tbl_SRCode` AS a    \n",
    "RIGHT JOIN\n",
    "    tbl_persons\n",
    "    ON a.person_id = tbl_persons.person_id\n",
    "GROUP BY\n",
    "    a.src_snomedcode\n",
    "ORDER BY\n",
    "    count_patients_with_code DESC\n",
    ")\n",
    "\"\"\"\n",
    "\n",
    "sql_full_table = \\\n",
    "\"\"\"\n",
    ",tbl_category_full AS\n",
    "(\n",
    "SELECT\n",
    "  DISTINCT src_snomedcode\n",
    "  ,CASE\n",
    "    WHEN count_patients_with_code < 10 THEN \"<10\"\n",
    "    WHEN count_patients_with_code < 100 THEN \"10 =< code < 100\"\n",
    "    WHEN count_patients_with_code < 1000 THEN \"100 =< code < 1,000\"\n",
    "    WHEN count_patients_with_code < 10000 THEN \"1,000 =< code < 10,000\"\n",
    "    WHEN count_patients_with_code < 100000 THEN \"10,000 =< code < 100,000\"\n",
    "    WHEN count_patients_with_code < 1000000 THEN \"100,000 =< code < 1,000,000\"\n",
    "    WHEN count_patients_with_code < 10000000 THEN \"1,000,000 =< code < 10,000,000\"\n",
    "    WHEN count_patients_with_code >= 10000000 THEN \"code >= 10,000,000\"\n",
    "  END AS cnt_SNOMED\n",
    "FROM tbl_patients_per_code\n",
    "ORDER BY cnt_SNOMED\n",
    ")\n",
    "\n",
    "SELECT\n",
    "  COUNT(cnt_SNOMED) AS This_many_codes__\n",
    "  ,cnt_SNOMED AS __occur_for_this_many_patients\n",
    "FROM tbl_category_full\n",
    "GROUP BY cnt_SNOMED\n",
    "ORDER BY This_many_codes__ DESC\n",
    "\"\"\"\n",
    "full_Table = client.query(sql_variables + sql_base + sql_full_table).to_dataframe()\n",
    "display(full_Table)\n",
    "\n",
    "sql_boundary_table = \\\n",
    "\"\"\"\n",
    ",tbl_category_boundary AS\n",
    "(\n",
    "SELECT\n",
    "  DISTINCT src_snomedcode\n",
    "  ,CASE\n",
    "    WHEN count_patients_with_code < lower_bound THEN \"too infrequent (occurs in < \"\"\" + f'{lower_bound:,}' + \"\"\" patients' records)\"\n",
    "    WHEN count_patients_with_code <= upper_bound THEN \"within bounds\"\n",
    "    ELSE \"too frequent (occurs in > \"\"\" + f'{upper_bound:,}' + \"\"\" patients' records)\"\n",
    "  END AS cnt_SNOMED\n",
    "FROM tbl_patients_per_code\n",
    "ORDER BY cnt_SNOMED\n",
    ")\n",
    "\n",
    "SELECT\n",
    "  COUNT(cnt_SNOMED) AS This_many_codes__\n",
    "  ,cnt_SNOMED AS __occur_this_often\n",
    "FROM tbl_category_boundary\n",
    "GROUP BY cnt_SNOMED\n",
    "ORDER BY This_many_codes__ DESC\n",
    "\"\"\"\n",
    "boundary_Table = client.query(sql_variables + sql_base + sql_boundary_table).to_dataframe()\n",
    "display(boundary_Table)\n",
    "\n",
    "# Prepare the table for extracting data.\n",
    "boundary_Table.set_index('__occur_this_often', inplace = True)\n",
    "n_within_bounds = int(boundary_Table.loc['within bounds'])"
   ]
  },
  {
   "cell_type": "code",
   "execution_count": 8,
   "id": "63ec8cb2-327d-48c5-977d-1d5a75cbafe0",
   "metadata": {
    "jupyter": {
     "source_hidden": true
    },
    "tags": []
   },
   "outputs": [
    {
     "data": {
      "text/markdown": [
       "\n",
       "The table above shows that most SNOMED-CT codes occur infrequently in patients' records, with a\n",
       "handfull of codes showing up in many patient's records.\n",
       "\n",
       "Recall that for a feature to be informative, it must occur in\n",
       "$210 \\le count\\ of\\ patients_{feature\\ set_{i}} \\le 351,605$ patients' records.\n",
       "\n",
       "#### Interim conclusion\n",
       "We can infer that __14,210 feature sets (defined solely by the presence of a single SNOMED-CT code) might be\n",
       "informative of the caseness of complex mental health difficulties, in our particular cohort within the Connected Bradford dataset__.\n"
      ],
      "text/plain": [
       "<IPython.core.display.Markdown object>"
      ]
     },
     "metadata": {},
     "output_type": "display_data"
    }
   ],
   "source": [
    "# Display message.\n",
    "display(\n",
    "    Markdown(\n",
    "\"\"\"\n",
    "The table above shows that most SNOMED-CT codes occur infrequently in patients' records, with a\n",
    "handfull of codes showing up in many patient's records.\n",
    "\n",
    "Recall that for a feature to be informative, it must occur in\n",
    "$%s \\le count\\ of\\ patients_{feature\\ set_{i}} \\le %s$ patients' records.\n",
    "\n",
    "#### Interim conclusion\n",
    "We can infer that __%s feature sets (defined solely by the presence of a single SNOMED-CT code) might be\n",
    "informative of the caseness of complex mental health difficulties, in our particular cohort within the Connected Bradford dataset__.\n",
    "\"\"\"\n",
    "        %(f'{int(min_criterion_prev / 100 * denominator_as_int):,}',\n",
    "          f'{int(0.5 * denominator_as_int):,}',\n",
    "         f'{n_within_bounds:,}')\n",
    "    )\n",
    ")"
   ]
  },
  {
   "cell_type": "markdown",
   "id": "011410e4-1330-4169-83ee-f55ef01a09fd",
   "metadata": {},
   "source": [
    "#### Making a list of the single-feature feature sets of interest\n",
    "The following code defines a list of SNOMED-CT codes (that appear in our cohort from the Connected Bradford dataset) that we will carry forward as single-feature feature sets."
   ]
  },
  {
   "cell_type": "code",
   "execution_count": 10,
   "id": "813d0223-e4a9-47a2-9b19-3dfa7307cdd2",
   "metadata": {
    "tags": []
   },
   "outputs": [
    {
     "data": {
      "text/html": [
       "<div>\n",
       "<style scoped>\n",
       "    .dataframe tbody tr th:only-of-type {\n",
       "        vertical-align: middle;\n",
       "    }\n",
       "\n",
       "    .dataframe tbody tr th {\n",
       "        vertical-align: top;\n",
       "    }\n",
       "\n",
       "    .dataframe thead th {\n",
       "        text-align: right;\n",
       "    }\n",
       "</style>\n",
       "<table border=\"1\" class=\"dataframe\">\n",
       "  <thead>\n",
       "    <tr style=\"text-align: right;\">\n",
       "      <th></th>\n",
       "      <th>src_snomedcode</th>\n",
       "    </tr>\n",
       "  </thead>\n",
       "  <tbody>\n",
       "    <tr>\n",
       "      <th>0</th>\n",
       "      <td>1020291000000106</td>\n",
       "    </tr>\n",
       "    <tr>\n",
       "      <th>1</th>\n",
       "      <td>1022791000000101</td>\n",
       "    </tr>\n",
       "    <tr>\n",
       "      <th>2</th>\n",
       "      <td>78564009</td>\n",
       "    </tr>\n",
       "    <tr>\n",
       "      <th>3</th>\n",
       "      <td>279991000000102</td>\n",
       "    </tr>\n",
       "    <tr>\n",
       "      <th>4</th>\n",
       "      <td>773011000000101</td>\n",
       "    </tr>\n",
       "    <tr>\n",
       "      <th>...</th>\n",
       "      <td>...</td>\n",
       "    </tr>\n",
       "    <tr>\n",
       "      <th>14205</th>\n",
       "      <td>184076002</td>\n",
       "    </tr>\n",
       "    <tr>\n",
       "      <th>14206</th>\n",
       "      <td>73103007</td>\n",
       "    </tr>\n",
       "    <tr>\n",
       "      <th>14207</th>\n",
       "      <td>224973000</td>\n",
       "    </tr>\n",
       "    <tr>\n",
       "      <th>14208</th>\n",
       "      <td>310088004</td>\n",
       "    </tr>\n",
       "    <tr>\n",
       "      <th>14209</th>\n",
       "      <td>7951001</td>\n",
       "    </tr>\n",
       "  </tbody>\n",
       "</table>\n",
       "<p>14210 rows × 1 columns</p>\n",
       "</div>"
      ],
      "text/plain": [
       "         src_snomedcode\n",
       "0      1020291000000106\n",
       "1      1022791000000101\n",
       "2              78564009\n",
       "3       279991000000102\n",
       "4       773011000000101\n",
       "...                 ...\n",
       "14205         184076002\n",
       "14206          73103007\n",
       "14207         224973000\n",
       "14208         310088004\n",
       "14209           7951001\n",
       "\n",
       "[14210 rows x 1 columns]"
      ]
     },
     "metadata": {},
     "output_type": "display_data"
    }
   ],
   "source": [
    "sql_singleFS_select = \\\n",
    "\"\"\"\n",
    "SELECT\n",
    "    src_snomedcode\n",
    "FROM\n",
    "    tbl_patients_per_code\n",
    "WHERE\n",
    "    count_patients_with_code BETWEEN lower_bound AND upper_bound\n",
    "\"\"\"\n",
    "ls_single_feature_featureSet = client.query(sql_variables + sql_base + sql_singleFS_select).to_dataframe()\n",
    "display(ls_single_feature_featureSet)\n",
    "ls_single_feature_featureSet.to_csv(\"Feature set lab/\" + \"ls_single_feature_featureSet.csv\", index = False)"
   ]
  },
  {
   "cell_type": "markdown",
   "id": "6dcb63ef-6cf8-4f37-92e0-6cd2bc85b899",
   "metadata": {},
   "source": [
    "### What is the prevalence of pair- and triplet-composite feature sets?\n",
    "The next question we might ask is whether pairs or triplets of SNOMED-CT codes might be informative of the cases of complex mental health difficulties.\n",
    "\n",
    "Re-running the previous SQL and Python scripts isn't a good idea because the volume of combinations quickly becomes too great. Instead, we will handle composite feature sets in a loop during the evaluation stage so as not to overburden memnory."
   ]
  }
 ],
 "metadata": {
  "environment": {
   "kernel": "python3",
   "name": "r-cpu.4-1.m95",
   "type": "gcloud",
   "uri": "gcr.io/deeplearning-platform-release/r-cpu.4-1:m95"
  },
  "kernelspec": {
   "display_name": "Python 3",
   "language": "python",
   "name": "python3"
  },
  "language_info": {
   "codemirror_mode": {
    "name": "ipython",
    "version": 3
   },
   "file_extension": ".py",
   "mimetype": "text/x-python",
   "name": "python",
   "nbconvert_exporter": "python",
   "pygments_lexer": "ipython3",
   "version": "3.7.12"
  }
 },
 "nbformat": 4,
 "nbformat_minor": 5
}
