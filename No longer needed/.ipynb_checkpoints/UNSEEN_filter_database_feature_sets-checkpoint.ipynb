{
 "cells": [
  {
   "cell_type": "markdown",
   "id": "1a794520-cc39-42d3-b040-3aeab1a3049f",
   "metadata": {},
   "source": [
    "# Filter database feature sets.\n",
    "\n",
    "Candidate feature sets inspired by a database review are filtered based on their entropy. Further details are in this notebook's parent notebook \"UNSEEN filter feature sets.ipynb\".\n",
    "\n",
    "## Imports"
   ]
  },
  {
   "cell_type": "code",
   "execution_count": 16,
   "id": "c626ecea-669d-47c9-a27a-432b9cb97756",
   "metadata": {},
   "outputs": [],
   "source": [
    "%run 'UNSEEN_helper_functions.ipynb'\n",
    "#%store -d df_database_1\n",
    "%store -r"
   ]
  },
  {
   "cell_type": "markdown",
   "id": "eb22bd79-604f-4d88-a8d2-5aa57073e2d9",
   "metadata": {},
   "source": [
    "## Load database feature-set array\n",
    "\n",
    "Here, we run the notebook that creates the database feature-set array. We will then save the feature-set array as \"my_featureSet_array\", so that the remaining syntax in this notebook is common for all feature-set sources.\n",
    "\n",
    "\n",
    "It is assumed that the caseness variables have already been created in the parent notebook."
   ]
  },
  {
   "cell_type": "code",
   "execution_count": 4,
   "id": "7be5bb17-1f3c-4b07-aa36-8d4138f2d1ed",
   "metadata": {
    "tags": []
   },
   "outputs": [],
   "source": [
    "%%capture\n",
    "try:\n",
    "    df_minMax_store = pandas.read_csv(\"df_minMax_store.csv\")\n",
    "except FileNotFoundError:\n",
    "    print(\"df_minMax_store.csv is not the in the directory.\",\n",
    "         \" Running UNSEEN_create_database_feature_sets.ipynb will take not more than 20 minutes.\")\n",
    "    %run ./\"UNSEEN_create_database_feature_sets.ipynb\"\n",
    "\n",
    "if 'df_fs_database' not in globals():\n",
    "    %run ./\"UNSEEN_create_database_feature_sets.ipynb\"\n",
    "my_featureSet_array = df_fs_database"
   ]
  },
  {
   "cell_type": "markdown",
   "id": "7016d268-ee44-45ea-9d18-73c6a23c989a",
   "metadata": {
    "tags": []
   },
   "source": [
    "## Filter feature sets."
   ]
  },
  {
   "cell_type": "markdown",
   "id": "91084bca-e139-417a-8667-9c9db014bd54",
   "metadata": {},
   "source": [
    "### 1. Mutual information of individual feature sets and the caseness variables."
   ]
  },
  {
   "cell_type": "code",
   "execution_count": 9,
   "id": "bed25afd-cad7-41de-8a57-628ef7d1a5f3",
   "metadata": {
    "tags": []
   },
   "outputs": [],
   "source": [
    "# Set the order of the composite: 1 = individual, 2 = pair, 3 = triplet.\n",
    "m = 2\n",
    "my_featureSet_array = df_fs_database"
   ]
  },
  {
   "cell_type": "markdown",
   "id": "8aa6dc72-56d9-4bf9-9fb2-936000c95f6d",
   "metadata": {},
   "source": [
    "#### 1.1. Multinomial caseness"
   ]
  },
  {
   "cell_type": "markdown",
   "id": "f6b43fe8-0e68-4bad-8ca3-fd5bdc6bf87a",
   "metadata": {},
   "source": [
    "##### 1.1.1. ALL representation."
   ]
  },
  {
   "cell_type": "code",
   "execution_count": 17,
   "id": "2ae24a5a-5d11-4019-a4b9-98ca33460d17",
   "metadata": {
    "tags": []
   },
   "outputs": [
    {
     "name": "stdout",
     "output_type": "stream",
     "text": [
      "\n",
      "No save location provided.\n",
      "...Defaulting to ~/Mutual information saves/Pairs\n",
      "\n",
      "\n",
      "\n",
      "****************************************\n",
      "Calculating mutual information values...\n",
      "Threshold f_MI is 0.02173830818393592\n",
      "Overriding 'verbose == True' because there are too many feature sets. Messages would become unweidly and slow down processing.\n"
     ]
    },
    {
     "ename": "KeyboardInterrupt",
     "evalue": "",
     "output_type": "error",
     "traceback": [
      "\u001b[0;31m---------------------------------------------------------------------------\u001b[0m",
      "\u001b[0;31mKeyboardInterrupt\u001b[0m                         Traceback (most recent call last)",
      "\u001b[0;32m/tmp/ipykernel_9586/1946581013.py\u001b[0m in \u001b[0;36m<module>\u001b[0;34m\u001b[0m\n\u001b[1;32m      5\u001b[0m              \u001b[0msource\u001b[0m \u001b[0;34m=\u001b[0m \u001b[0;34m'database'\u001b[0m\u001b[0;34m,\u001b[0m\u001b[0;34m\u001b[0m\u001b[0;34m\u001b[0m\u001b[0m\n\u001b[1;32m      6\u001b[0m              \u001b[0mdf_ppl_and_codes\u001b[0m \u001b[0;34m=\u001b[0m \u001b[0mdf_ppl_and_codes\u001b[0m\u001b[0;34m,\u001b[0m\u001b[0;34m\u001b[0m\u001b[0;34m\u001b[0m\u001b[0m\n\u001b[0;32m----> 7\u001b[0;31m              verbose = True)\n\u001b[0m",
      "\u001b[0;32m/tmp/ipykernel_9586/707655652.py\u001b[0m in \u001b[0;36mfeaturesetmi\u001b[0;34m(featureSet_array, casenessVector, m, savelocation, representation, source, df_ppl_and_codes, verbose)\u001b[0m\n\u001b[1;32m    142\u001b[0m \u001b[0;34m\u001b[0m\u001b[0m\n\u001b[1;32m    143\u001b[0m         \u001b[0;31m# Process feature sets.\u001b[0m\u001b[0;34m\u001b[0m\u001b[0;34m\u001b[0m\u001b[0;34m\u001b[0m\u001b[0m\n\u001b[0;32m--> 144\u001b[0;31m         \u001b[0mlist\u001b[0m\u001b[0;34m(\u001b[0m\u001b[0mitertools\u001b[0m\u001b[0;34m.\u001b[0m\u001b[0mstarmap\u001b[0m\u001b[0;34m(\u001b[0m\u001b[0mprocessdatabasefs\u001b[0m\u001b[0;34m,\u001b[0m \u001b[0mlist\u001b[0m\u001b[0;34m(\u001b[0m\u001b[0mg_fs_combins\u001b[0m\u001b[0;34m)\u001b[0m\u001b[0;34m)\u001b[0m\u001b[0;34m)\u001b[0m\u001b[0;34m\u001b[0m\u001b[0;34m\u001b[0m\u001b[0m\n\u001b[0m\u001b[1;32m    145\u001b[0m \u001b[0;34m\u001b[0m\u001b[0m\n\u001b[1;32m    146\u001b[0m         \u001b[0;31m# Calculate the total count of feature sets processed.\u001b[0m\u001b[0;34m\u001b[0m\u001b[0;34m\u001b[0m\u001b[0;34m\u001b[0m\u001b[0m\n",
      "\u001b[0;32m/tmp/ipykernel_9586/712559811.py\u001b[0m in \u001b[0;36mprocessdatabasefs\u001b[0;34m(*snomedcodes)\u001b[0m\n\u001b[1;32m     24\u001b[0m     \u001b[0;31m# Calculate the mutual information between the feature set and\u001b[0m\u001b[0;34m\u001b[0m\u001b[0;34m\u001b[0m\u001b[0;34m\u001b[0m\u001b[0m\n\u001b[1;32m     25\u001b[0m     \u001b[0;31m# caseness variable.\u001b[0m\u001b[0;34m\u001b[0m\u001b[0;34m\u001b[0m\u001b[0;34m\u001b[0m\u001b[0m\n\u001b[0;32m---> 26\u001b[0;31m     \u001b[0mf_MI\u001b[0m \u001b[0;34m=\u001b[0m \u001b[0msklearn\u001b[0m\u001b[0;34m.\u001b[0m\u001b[0mmetrics\u001b[0m\u001b[0;34m.\u001b[0m\u001b[0mmutual_info_score\u001b[0m\u001b[0;34m(\u001b[0m\u001b[0mfs_val\u001b[0m\u001b[0;34m[\u001b[0m\u001b[0;34m'ary_pAc_in_fsdf'\u001b[0m\u001b[0;34m]\u001b[0m\u001b[0;34m,\u001b[0m \u001b[0mfs_val\u001b[0m\u001b[0;34m[\u001b[0m\u001b[0mcaseness_array\u001b[0m\u001b[0;34m.\u001b[0m\u001b[0mcolumns\u001b[0m\u001b[0;34m[\u001b[0m\u001b[0;36m1\u001b[0m\u001b[0;34m]\u001b[0m\u001b[0;34m]\u001b[0m\u001b[0;34m)\u001b[0m\u001b[0;34m\u001b[0m\u001b[0;34m\u001b[0m\u001b[0m\n\u001b[0m\u001b[1;32m     27\u001b[0m \u001b[0;34m\u001b[0m\u001b[0m\n\u001b[1;32m     28\u001b[0m     \u001b[0;32mif\u001b[0m \u001b[0mf_MI\u001b[0m \u001b[0;34m<\u001b[0m \u001b[0mentropy_caseness\u001b[0m\u001b[0;34m:\u001b[0m\u001b[0;34m\u001b[0m\u001b[0;34m\u001b[0m\u001b[0m\n",
      "\u001b[0;32m/opt/conda/lib/python3.7/site-packages/sklearn/metrics/cluster/_supervised.py\u001b[0m in \u001b[0;36mmutual_info_score\u001b[0;34m(labels_true, labels_pred, contingency)\u001b[0m\n\u001b[1;32m    781\u001b[0m     \u001b[0;32mif\u001b[0m \u001b[0mcontingency\u001b[0m \u001b[0;32mis\u001b[0m \u001b[0;32mNone\u001b[0m\u001b[0;34m:\u001b[0m\u001b[0;34m\u001b[0m\u001b[0;34m\u001b[0m\u001b[0m\n\u001b[1;32m    782\u001b[0m         \u001b[0mlabels_true\u001b[0m\u001b[0;34m,\u001b[0m \u001b[0mlabels_pred\u001b[0m \u001b[0;34m=\u001b[0m \u001b[0mcheck_clusterings\u001b[0m\u001b[0;34m(\u001b[0m\u001b[0mlabels_true\u001b[0m\u001b[0;34m,\u001b[0m \u001b[0mlabels_pred\u001b[0m\u001b[0;34m)\u001b[0m\u001b[0;34m\u001b[0m\u001b[0;34m\u001b[0m\u001b[0m\n\u001b[0;32m--> 783\u001b[0;31m         \u001b[0mcontingency\u001b[0m \u001b[0;34m=\u001b[0m \u001b[0mcontingency_matrix\u001b[0m\u001b[0;34m(\u001b[0m\u001b[0mlabels_true\u001b[0m\u001b[0;34m,\u001b[0m \u001b[0mlabels_pred\u001b[0m\u001b[0;34m,\u001b[0m \u001b[0msparse\u001b[0m\u001b[0;34m=\u001b[0m\u001b[0;32mTrue\u001b[0m\u001b[0;34m)\u001b[0m\u001b[0;34m\u001b[0m\u001b[0;34m\u001b[0m\u001b[0m\n\u001b[0m\u001b[1;32m    784\u001b[0m     \u001b[0;32melse\u001b[0m\u001b[0;34m:\u001b[0m\u001b[0;34m\u001b[0m\u001b[0;34m\u001b[0m\u001b[0m\n\u001b[1;32m    785\u001b[0m         contingency = check_array(\n",
      "\u001b[0;32m/opt/conda/lib/python3.7/site-packages/sklearn/metrics/cluster/_supervised.py\u001b[0m in \u001b[0;36mcontingency_matrix\u001b[0;34m(labels_true, labels_pred, eps, sparse, dtype)\u001b[0m\n\u001b[1;32m    144\u001b[0m         \u001b[0;34m(\u001b[0m\u001b[0mnp\u001b[0m\u001b[0;34m.\u001b[0m\u001b[0mones\u001b[0m\u001b[0;34m(\u001b[0m\u001b[0mclass_idx\u001b[0m\u001b[0;34m.\u001b[0m\u001b[0mshape\u001b[0m\u001b[0;34m[\u001b[0m\u001b[0;36m0\u001b[0m\u001b[0;34m]\u001b[0m\u001b[0;34m)\u001b[0m\u001b[0;34m,\u001b[0m \u001b[0;34m(\u001b[0m\u001b[0mclass_idx\u001b[0m\u001b[0;34m,\u001b[0m \u001b[0mcluster_idx\u001b[0m\u001b[0;34m)\u001b[0m\u001b[0;34m)\u001b[0m\u001b[0;34m,\u001b[0m\u001b[0;34m\u001b[0m\u001b[0;34m\u001b[0m\u001b[0m\n\u001b[1;32m    145\u001b[0m         \u001b[0mshape\u001b[0m\u001b[0;34m=\u001b[0m\u001b[0;34m(\u001b[0m\u001b[0mn_classes\u001b[0m\u001b[0;34m,\u001b[0m \u001b[0mn_clusters\u001b[0m\u001b[0;34m)\u001b[0m\u001b[0;34m,\u001b[0m\u001b[0;34m\u001b[0m\u001b[0;34m\u001b[0m\u001b[0m\n\u001b[0;32m--> 146\u001b[0;31m         \u001b[0mdtype\u001b[0m\u001b[0;34m=\u001b[0m\u001b[0mdtype\u001b[0m\u001b[0;34m,\u001b[0m\u001b[0;34m\u001b[0m\u001b[0;34m\u001b[0m\u001b[0m\n\u001b[0m\u001b[1;32m    147\u001b[0m     )\n\u001b[1;32m    148\u001b[0m     \u001b[0;32mif\u001b[0m \u001b[0msparse\u001b[0m\u001b[0;34m:\u001b[0m\u001b[0;34m\u001b[0m\u001b[0;34m\u001b[0m\u001b[0m\n",
      "\u001b[0;32m/opt/conda/lib/python3.7/site-packages/scipy/sparse/coo.py\u001b[0m in \u001b[0;36m__init__\u001b[0;34m(self, arg1, shape, dtype, copy)\u001b[0m\n\u001b[1;32m    158\u001b[0m                 \u001b[0mself\u001b[0m\u001b[0;34m.\u001b[0m\u001b[0mrow\u001b[0m \u001b[0;34m=\u001b[0m \u001b[0mnp\u001b[0m\u001b[0;34m.\u001b[0m\u001b[0marray\u001b[0m\u001b[0;34m(\u001b[0m\u001b[0mrow\u001b[0m\u001b[0;34m,\u001b[0m \u001b[0mcopy\u001b[0m\u001b[0;34m=\u001b[0m\u001b[0mcopy\u001b[0m\u001b[0;34m,\u001b[0m \u001b[0mdtype\u001b[0m\u001b[0;34m=\u001b[0m\u001b[0midx_dtype\u001b[0m\u001b[0;34m)\u001b[0m\u001b[0;34m\u001b[0m\u001b[0;34m\u001b[0m\u001b[0m\n\u001b[1;32m    159\u001b[0m                 \u001b[0mself\u001b[0m\u001b[0;34m.\u001b[0m\u001b[0mcol\u001b[0m \u001b[0;34m=\u001b[0m \u001b[0mnp\u001b[0m\u001b[0;34m.\u001b[0m\u001b[0marray\u001b[0m\u001b[0;34m(\u001b[0m\u001b[0mcol\u001b[0m\u001b[0;34m,\u001b[0m \u001b[0mcopy\u001b[0m\u001b[0;34m=\u001b[0m\u001b[0mcopy\u001b[0m\u001b[0;34m,\u001b[0m \u001b[0mdtype\u001b[0m\u001b[0;34m=\u001b[0m\u001b[0midx_dtype\u001b[0m\u001b[0;34m)\u001b[0m\u001b[0;34m\u001b[0m\u001b[0;34m\u001b[0m\u001b[0m\n\u001b[0;32m--> 160\u001b[0;31m                 \u001b[0mself\u001b[0m\u001b[0;34m.\u001b[0m\u001b[0mdata\u001b[0m \u001b[0;34m=\u001b[0m \u001b[0mgetdata\u001b[0m\u001b[0;34m(\u001b[0m\u001b[0mobj\u001b[0m\u001b[0;34m,\u001b[0m \u001b[0mcopy\u001b[0m\u001b[0;34m=\u001b[0m\u001b[0mcopy\u001b[0m\u001b[0;34m,\u001b[0m \u001b[0mdtype\u001b[0m\u001b[0;34m=\u001b[0m\u001b[0mdtype\u001b[0m\u001b[0;34m)\u001b[0m\u001b[0;34m\u001b[0m\u001b[0;34m\u001b[0m\u001b[0m\n\u001b[0m\u001b[1;32m    161\u001b[0m                 \u001b[0mself\u001b[0m\u001b[0;34m.\u001b[0m\u001b[0mhas_canonical_format\u001b[0m \u001b[0;34m=\u001b[0m \u001b[0;32mFalse\u001b[0m\u001b[0;34m\u001b[0m\u001b[0;34m\u001b[0m\u001b[0m\n\u001b[1;32m    162\u001b[0m         \u001b[0;32melse\u001b[0m\u001b[0;34m:\u001b[0m\u001b[0;34m\u001b[0m\u001b[0;34m\u001b[0m\u001b[0m\n",
      "\u001b[0;32m/opt/conda/lib/python3.7/site-packages/scipy/sparse/sputils.py\u001b[0m in \u001b[0;36mgetdata\u001b[0;34m(obj, dtype, copy)\u001b[0m\n\u001b[1;32m    122\u001b[0m     \u001b[0mthat\u001b[0m \u001b[0mwill\u001b[0m \u001b[0mgenerate\u001b[0m \u001b[0ma\u001b[0m \u001b[0mwarning\u001b[0m \u001b[0;32mif\u001b[0m \u001b[0mthe\u001b[0m \u001b[0mresult\u001b[0m \u001b[0;32mis\u001b[0m \u001b[0man\u001b[0m \u001b[0mobject\u001b[0m \u001b[0marray\u001b[0m\u001b[0;34m.\u001b[0m\u001b[0;34m\u001b[0m\u001b[0;34m\u001b[0m\u001b[0m\n\u001b[1;32m    123\u001b[0m     \"\"\"\n\u001b[0;32m--> 124\u001b[0;31m     \u001b[0mdata\u001b[0m \u001b[0;34m=\u001b[0m \u001b[0mnp\u001b[0m\u001b[0;34m.\u001b[0m\u001b[0marray\u001b[0m\u001b[0;34m(\u001b[0m\u001b[0mobj\u001b[0m\u001b[0;34m,\u001b[0m \u001b[0mdtype\u001b[0m\u001b[0;34m=\u001b[0m\u001b[0mdtype\u001b[0m\u001b[0;34m,\u001b[0m \u001b[0mcopy\u001b[0m\u001b[0;34m=\u001b[0m\u001b[0mcopy\u001b[0m\u001b[0;34m)\u001b[0m\u001b[0;34m\u001b[0m\u001b[0;34m\u001b[0m\u001b[0m\n\u001b[0m\u001b[1;32m    125\u001b[0m     \u001b[0;31m# Defer to getdtype for checking that the dtype is OK.\u001b[0m\u001b[0;34m\u001b[0m\u001b[0;34m\u001b[0m\u001b[0;34m\u001b[0m\u001b[0m\n\u001b[1;32m    126\u001b[0m     \u001b[0;31m# This is called for the validation only; we don't need the return value.\u001b[0m\u001b[0;34m\u001b[0m\u001b[0;34m\u001b[0m\u001b[0;34m\u001b[0m\u001b[0m\n",
      "\u001b[0;31mKeyboardInterrupt\u001b[0m: "
     ]
    }
   ],
   "source": [
    "%%time\n",
    "featuresetmi(featureSet_array = my_featureSet_array[0:4],\n",
    "             casenessVector = caseness_array[['person_id','CMHD']],\n",
    "             m = m,\n",
    "             representation = 'all',\n",
    "             source = 'database',\n",
    "             df_ppl_and_codes = df_ppl_and_codes,\n",
    "             verbose = True)"
   ]
  },
  {
   "cell_type": "markdown",
   "id": "cb7bfb0d-0900-4c88-a69a-78bb48a131a9",
   "metadata": {},
   "source": [
    "##### 1.1.2. MULTI representation."
   ]
  },
  {
   "cell_type": "code",
   "execution_count": null,
   "id": "e68a5997-0c4d-4c79-9b20-7e7b50ef9829",
   "metadata": {
    "tags": []
   },
   "outputs": [],
   "source": [
    "featuresetmi(featureSet_array = my_featureSet_array,\n",
    "             casenessVector = caseness_array[['person_id','CMHD']],\n",
    "             m = m,\n",
    "             representation = 'multi',\n",
    "             source = 'database')"
   ]
  },
  {
   "cell_type": "markdown",
   "id": "a9bc82d1-509b-447c-adba-3d14561f3ee5",
   "metadata": {},
   "source": [
    "#### 1.2. Definitive caseness"
   ]
  },
  {
   "cell_type": "markdown",
   "id": "c5ce5be9-386e-4fae-b16d-dd0d736cce16",
   "metadata": {},
   "source": [
    "##### 1.2.1. ALL representation."
   ]
  },
  {
   "cell_type": "code",
   "execution_count": 22,
   "id": "fc3615cb-aae2-487e-b334-2fbcc580e93d",
   "metadata": {
    "tags": []
   },
   "outputs": [
    {
     "name": "stdout",
     "output_type": "stream",
     "text": [
      "\n",
      "No save location provided.\n",
      "...Defaulting to ~/Mutual information saves/Individuals\n",
      "\n",
      "\n",
      "\n",
      "****************************************\n",
      "Calculating mutual information values...\n",
      "Threshold f_MI is 0.0025190024330529024\n",
      "Overriding 'verbose == True' because there are too many feature sets.  Messages would become unweidly and slow down processing.\n"
     ]
    },
    {
     "name": "stderr",
     "output_type": "stream",
     "text": [
      "First feature-set list:   2%|▏         | 871/42578 [2:21:42<113:05:43,  9.76s/feature set]\n"
     ]
    },
    {
     "ename": "KeyboardInterrupt",
     "evalue": "",
     "output_type": "error",
     "traceback": [
      "\u001b[0;31m---------------------------------------------------------------------------\u001b[0m",
      "\u001b[0;31mKeyboardInterrupt\u001b[0m                         Traceback (most recent call last)",
      "\u001b[0;32m/tmp/ipykernel_30066/2001597810.py\u001b[0m in \u001b[0;36m<module>\u001b[0;34m\u001b[0m\n\u001b[1;32m      5\u001b[0m              \u001b[0msource\u001b[0m \u001b[0;34m=\u001b[0m \u001b[0;34m'database'\u001b[0m\u001b[0;34m,\u001b[0m\u001b[0;34m\u001b[0m\u001b[0;34m\u001b[0m\u001b[0m\n\u001b[1;32m      6\u001b[0m              \u001b[0mdf_ppl_and_codes\u001b[0m \u001b[0;34m=\u001b[0m \u001b[0mdf_ppl_and_codes\u001b[0m\u001b[0;34m,\u001b[0m\u001b[0;34m\u001b[0m\u001b[0;34m\u001b[0m\u001b[0m\n\u001b[0;32m----> 7\u001b[0;31m              verbose = True)\n\u001b[0m",
      "\u001b[0;32m/tmp/ipykernel_30066/2969610849.py\u001b[0m in \u001b[0;36mfeaturesetmi\u001b[0;34m(featureSet_array, casenessVector, m, savelocation, representation, source, df_ppl_and_codes, verbose)\u001b[0m\n\u001b[1;32m    327\u001b[0m                         \u001b[0mary_pAc_in_fsdf\u001b[0m\u001b[0;34m.\u001b[0m\u001b[0mappend\u001b[0m\u001b[0;34m(\u001b[0m\u001b[0;32mFalse\u001b[0m\u001b[0;34m)\u001b[0m\u001b[0;34m\u001b[0m\u001b[0;34m\u001b[0m\u001b[0m\n\u001b[1;32m    328\u001b[0m                     \u001b[0;32melse\u001b[0m\u001b[0;34m:\u001b[0m\u001b[0;34m\u001b[0m\u001b[0;34m\u001b[0m\u001b[0m\n\u001b[0;32m--> 329\u001b[0;31m                         \u001b[0mary_pAc_in_fsdf\u001b[0m\u001b[0;34m.\u001b[0m\u001b[0mappend\u001b[0m\u001b[0;34m(\u001b[0m\u001b[0;34m(\u001b[0m\u001b[0mi\u001b[0m \u001b[0;34m==\u001b[0m \u001b[0mfs_df\u001b[0m\u001b[0;34m)\u001b[0m\u001b[0;34m.\u001b[0m\u001b[0many\u001b[0m\u001b[0;34m(\u001b[0m\u001b[0;34m)\u001b[0m\u001b[0;34m[\u001b[0m\u001b[0;36m0\u001b[0m\u001b[0;34m]\u001b[0m\u001b[0;34m)\u001b[0m\u001b[0;34m\u001b[0m\u001b[0;34m\u001b[0m\u001b[0m\n\u001b[0m\u001b[1;32m    330\u001b[0m \u001b[0;34m\u001b[0m\u001b[0m\n\u001b[1;32m    331\u001b[0m                 \u001b[0mdf_temp\u001b[0m \u001b[0;34m=\u001b[0m \u001b[0mdf_ppl_and_codes\u001b[0m\u001b[0;34m\u001b[0m\u001b[0;34m\u001b[0m\u001b[0m\n",
      "\u001b[0;32m/opt/conda/lib/python3.7/site-packages/pandas/core/generic.py\u001b[0m in \u001b[0;36many\u001b[0;34m(self, axis, bool_only, skipna, level, **kwargs)\u001b[0m\n\u001b[1;32m  10529\u001b[0m         )\n\u001b[1;32m  10530\u001b[0m         \u001b[0;32mdef\u001b[0m \u001b[0many\u001b[0m\u001b[0;34m(\u001b[0m\u001b[0mself\u001b[0m\u001b[0;34m,\u001b[0m \u001b[0maxis\u001b[0m\u001b[0;34m=\u001b[0m\u001b[0;36m0\u001b[0m\u001b[0;34m,\u001b[0m \u001b[0mbool_only\u001b[0m\u001b[0;34m=\u001b[0m\u001b[0;32mNone\u001b[0m\u001b[0;34m,\u001b[0m \u001b[0mskipna\u001b[0m\u001b[0;34m=\u001b[0m\u001b[0;32mTrue\u001b[0m\u001b[0;34m,\u001b[0m \u001b[0mlevel\u001b[0m\u001b[0;34m=\u001b[0m\u001b[0;32mNone\u001b[0m\u001b[0;34m,\u001b[0m \u001b[0;34m**\u001b[0m\u001b[0mkwargs\u001b[0m\u001b[0;34m)\u001b[0m\u001b[0;34m:\u001b[0m\u001b[0;34m\u001b[0m\u001b[0;34m\u001b[0m\u001b[0m\n\u001b[0;32m> 10531\u001b[0;31m             \u001b[0;32mreturn\u001b[0m \u001b[0mNDFrame\u001b[0m\u001b[0;34m.\u001b[0m\u001b[0many\u001b[0m\u001b[0;34m(\u001b[0m\u001b[0mself\u001b[0m\u001b[0;34m,\u001b[0m \u001b[0maxis\u001b[0m\u001b[0;34m,\u001b[0m \u001b[0mbool_only\u001b[0m\u001b[0;34m,\u001b[0m \u001b[0mskipna\u001b[0m\u001b[0;34m,\u001b[0m \u001b[0mlevel\u001b[0m\u001b[0;34m,\u001b[0m \u001b[0;34m**\u001b[0m\u001b[0mkwargs\u001b[0m\u001b[0;34m)\u001b[0m\u001b[0;34m\u001b[0m\u001b[0;34m\u001b[0m\u001b[0m\n\u001b[0m\u001b[1;32m  10532\u001b[0m \u001b[0;34m\u001b[0m\u001b[0m\n\u001b[1;32m  10533\u001b[0m         \u001b[0msetattr\u001b[0m\u001b[0;34m(\u001b[0m\u001b[0mcls\u001b[0m\u001b[0;34m,\u001b[0m \u001b[0;34m\"any\"\u001b[0m\u001b[0;34m,\u001b[0m \u001b[0many\u001b[0m\u001b[0;34m)\u001b[0m\u001b[0;34m\u001b[0m\u001b[0;34m\u001b[0m\u001b[0m\n",
      "\u001b[0;32m/opt/conda/lib/python3.7/site-packages/pandas/core/generic.py\u001b[0m in \u001b[0;36many\u001b[0;34m(self, axis, bool_only, skipna, level, **kwargs)\u001b[0m\n\u001b[1;32m  10220\u001b[0m     \u001b[0;32mdef\u001b[0m \u001b[0many\u001b[0m\u001b[0;34m(\u001b[0m\u001b[0mself\u001b[0m\u001b[0;34m,\u001b[0m \u001b[0maxis\u001b[0m\u001b[0;34m=\u001b[0m\u001b[0;36m0\u001b[0m\u001b[0;34m,\u001b[0m \u001b[0mbool_only\u001b[0m\u001b[0;34m=\u001b[0m\u001b[0;32mNone\u001b[0m\u001b[0;34m,\u001b[0m \u001b[0mskipna\u001b[0m\u001b[0;34m=\u001b[0m\u001b[0;32mTrue\u001b[0m\u001b[0;34m,\u001b[0m \u001b[0mlevel\u001b[0m\u001b[0;34m=\u001b[0m\u001b[0;32mNone\u001b[0m\u001b[0;34m,\u001b[0m \u001b[0;34m**\u001b[0m\u001b[0mkwargs\u001b[0m\u001b[0;34m)\u001b[0m\u001b[0;34m:\u001b[0m\u001b[0;34m\u001b[0m\u001b[0;34m\u001b[0m\u001b[0m\n\u001b[1;32m  10221\u001b[0m         return self._logical_func(\n\u001b[0;32m> 10222\u001b[0;31m             \u001b[0;34m\"any\"\u001b[0m\u001b[0;34m,\u001b[0m \u001b[0mnanops\u001b[0m\u001b[0;34m.\u001b[0m\u001b[0mnanany\u001b[0m\u001b[0;34m,\u001b[0m \u001b[0maxis\u001b[0m\u001b[0;34m,\u001b[0m \u001b[0mbool_only\u001b[0m\u001b[0;34m,\u001b[0m \u001b[0mskipna\u001b[0m\u001b[0;34m,\u001b[0m \u001b[0mlevel\u001b[0m\u001b[0;34m,\u001b[0m \u001b[0;34m**\u001b[0m\u001b[0mkwargs\u001b[0m\u001b[0;34m\u001b[0m\u001b[0;34m\u001b[0m\u001b[0m\n\u001b[0m\u001b[1;32m  10223\u001b[0m         )\n\u001b[1;32m  10224\u001b[0m \u001b[0;34m\u001b[0m\u001b[0m\n",
      "\u001b[0;32m/opt/conda/lib/python3.7/site-packages/pandas/core/generic.py\u001b[0m in \u001b[0;36m_logical_func\u001b[0;34m(self, name, func, axis, bool_only, skipna, level, **kwargs)\u001b[0m\n\u001b[1;32m  10215\u001b[0m             \u001b[0mskipna\u001b[0m\u001b[0;34m=\u001b[0m\u001b[0mskipna\u001b[0m\u001b[0;34m,\u001b[0m\u001b[0;34m\u001b[0m\u001b[0;34m\u001b[0m\u001b[0m\n\u001b[1;32m  10216\u001b[0m             \u001b[0mnumeric_only\u001b[0m\u001b[0;34m=\u001b[0m\u001b[0mbool_only\u001b[0m\u001b[0;34m,\u001b[0m\u001b[0;34m\u001b[0m\u001b[0;34m\u001b[0m\u001b[0m\n\u001b[0;32m> 10217\u001b[0;31m             \u001b[0mfilter_type\u001b[0m\u001b[0;34m=\u001b[0m\u001b[0;34m\"bool\"\u001b[0m\u001b[0;34m,\u001b[0m\u001b[0;34m\u001b[0m\u001b[0;34m\u001b[0m\u001b[0m\n\u001b[0m\u001b[1;32m  10218\u001b[0m         )\n\u001b[1;32m  10219\u001b[0m \u001b[0;34m\u001b[0m\u001b[0m\n",
      "\u001b[0;32m/opt/conda/lib/python3.7/site-packages/pandas/core/frame.py\u001b[0m in \u001b[0;36m_reduce\u001b[0;34m(self, op, name, axis, skipna, numeric_only, filter_type, **kwds)\u001b[0m\n\u001b[1;32m   9849\u001b[0m             \u001b[0;31m# After possibly _get_data and transposing, we are now in the\u001b[0m\u001b[0;34m\u001b[0m\u001b[0;34m\u001b[0m\u001b[0;34m\u001b[0m\u001b[0m\n\u001b[1;32m   9850\u001b[0m             \u001b[0;31m#  simple case where we can use BlockManager.reduce\u001b[0m\u001b[0;34m\u001b[0m\u001b[0;34m\u001b[0m\u001b[0;34m\u001b[0m\u001b[0m\n\u001b[0;32m-> 9851\u001b[0;31m             \u001b[0mres\u001b[0m\u001b[0;34m,\u001b[0m \u001b[0m_\u001b[0m \u001b[0;34m=\u001b[0m \u001b[0mdf\u001b[0m\u001b[0;34m.\u001b[0m\u001b[0m_mgr\u001b[0m\u001b[0;34m.\u001b[0m\u001b[0mreduce\u001b[0m\u001b[0;34m(\u001b[0m\u001b[0mblk_func\u001b[0m\u001b[0;34m,\u001b[0m \u001b[0mignore_failures\u001b[0m\u001b[0;34m=\u001b[0m\u001b[0mignore_failures\u001b[0m\u001b[0;34m)\u001b[0m\u001b[0;34m\u001b[0m\u001b[0;34m\u001b[0m\u001b[0m\n\u001b[0m\u001b[1;32m   9852\u001b[0m             \u001b[0mout\u001b[0m \u001b[0;34m=\u001b[0m \u001b[0mdf\u001b[0m\u001b[0;34m.\u001b[0m\u001b[0m_constructor\u001b[0m\u001b[0;34m(\u001b[0m\u001b[0mres\u001b[0m\u001b[0;34m)\u001b[0m\u001b[0;34m.\u001b[0m\u001b[0miloc\u001b[0m\u001b[0;34m[\u001b[0m\u001b[0;36m0\u001b[0m\u001b[0;34m]\u001b[0m\u001b[0;34m\u001b[0m\u001b[0;34m\u001b[0m\u001b[0m\n\u001b[1;32m   9853\u001b[0m             \u001b[0;32mif\u001b[0m \u001b[0mout_dtype\u001b[0m \u001b[0;32mis\u001b[0m \u001b[0;32mnot\u001b[0m \u001b[0;32mNone\u001b[0m\u001b[0;34m:\u001b[0m\u001b[0;34m\u001b[0m\u001b[0;34m\u001b[0m\u001b[0m\n",
      "\u001b[0;32m/opt/conda/lib/python3.7/site-packages/pandas/core/internals/managers.py\u001b[0m in \u001b[0;36mreduce\u001b[0;34m(self, func, ignore_failures)\u001b[0m\n\u001b[1;32m   1284\u001b[0m             \u001b[0mres_blocks\u001b[0m\u001b[0;34m.\u001b[0m\u001b[0mextend\u001b[0m\u001b[0;34m(\u001b[0m\u001b[0mnbs\u001b[0m\u001b[0;34m)\u001b[0m\u001b[0;34m\u001b[0m\u001b[0;34m\u001b[0m\u001b[0m\n\u001b[1;32m   1285\u001b[0m \u001b[0;34m\u001b[0m\u001b[0m\n\u001b[0;32m-> 1286\u001b[0;31m         \u001b[0mindex\u001b[0m \u001b[0;34m=\u001b[0m \u001b[0mIndex\u001b[0m\u001b[0;34m(\u001b[0m\u001b[0;34m[\u001b[0m\u001b[0;32mNone\u001b[0m\u001b[0;34m]\u001b[0m\u001b[0;34m)\u001b[0m  \u001b[0;31m# placeholder\u001b[0m\u001b[0;34m\u001b[0m\u001b[0;34m\u001b[0m\u001b[0m\n\u001b[0m\u001b[1;32m   1287\u001b[0m         \u001b[0;32mif\u001b[0m \u001b[0mignore_failures\u001b[0m\u001b[0;34m:\u001b[0m\u001b[0;34m\u001b[0m\u001b[0;34m\u001b[0m\u001b[0m\n\u001b[1;32m   1288\u001b[0m             \u001b[0;32mif\u001b[0m \u001b[0mres_blocks\u001b[0m\u001b[0;34m:\u001b[0m\u001b[0;34m\u001b[0m\u001b[0;34m\u001b[0m\u001b[0m\n",
      "\u001b[0;32m/opt/conda/lib/python3.7/site-packages/pandas/core/indexes/base.py\u001b[0m in \u001b[0;36m__new__\u001b[0;34m(cls, data, dtype, copy, name, tupleize_cols, **kwargs)\u001b[0m\n\u001b[1;32m    493\u001b[0m \u001b[0;34m\u001b[0m\u001b[0m\n\u001b[1;32m    494\u001b[0m             \u001b[0msubarr\u001b[0m \u001b[0;34m=\u001b[0m \u001b[0mcom\u001b[0m\u001b[0;34m.\u001b[0m\u001b[0masarray_tuplesafe\u001b[0m\u001b[0;34m(\u001b[0m\u001b[0mdata\u001b[0m\u001b[0;34m,\u001b[0m \u001b[0mdtype\u001b[0m\u001b[0;34m=\u001b[0m\u001b[0mnp\u001b[0m\u001b[0;34m.\u001b[0m\u001b[0mdtype\u001b[0m\u001b[0;34m(\u001b[0m\u001b[0;34m\"object\"\u001b[0m\u001b[0;34m)\u001b[0m\u001b[0;34m)\u001b[0m\u001b[0;34m\u001b[0m\u001b[0;34m\u001b[0m\u001b[0m\n\u001b[0;32m--> 495\u001b[0;31m             \u001b[0;32mreturn\u001b[0m \u001b[0mIndex\u001b[0m\u001b[0;34m(\u001b[0m\u001b[0msubarr\u001b[0m\u001b[0;34m,\u001b[0m \u001b[0mdtype\u001b[0m\u001b[0;34m=\u001b[0m\u001b[0mdtype\u001b[0m\u001b[0;34m,\u001b[0m \u001b[0mcopy\u001b[0m\u001b[0;34m=\u001b[0m\u001b[0mcopy\u001b[0m\u001b[0;34m,\u001b[0m \u001b[0mname\u001b[0m\u001b[0;34m=\u001b[0m\u001b[0mname\u001b[0m\u001b[0;34m,\u001b[0m \u001b[0;34m**\u001b[0m\u001b[0mkwargs\u001b[0m\u001b[0;34m)\u001b[0m\u001b[0;34m\u001b[0m\u001b[0;34m\u001b[0m\u001b[0m\n\u001b[0m\u001b[1;32m    496\u001b[0m \u001b[0;34m\u001b[0m\u001b[0m\n\u001b[1;32m    497\u001b[0m     \u001b[0;34m@\u001b[0m\u001b[0mclassmethod\u001b[0m\u001b[0;34m\u001b[0m\u001b[0;34m\u001b[0m\u001b[0m\n",
      "\u001b[0;32m/opt/conda/lib/python3.7/site-packages/pandas/core/indexes/base.py\u001b[0m in \u001b[0;36m__new__\u001b[0;34m(cls, data, dtype, copy, name, tupleize_cols, **kwargs)\u001b[0m\n\u001b[1;32m    460\u001b[0m \u001b[0;34m\u001b[0m\u001b[0m\n\u001b[1;32m    461\u001b[0m                 \u001b[0;32mif\u001b[0m \u001b[0mdtype\u001b[0m \u001b[0;32mis\u001b[0m \u001b[0;32mNone\u001b[0m\u001b[0;34m:\u001b[0m\u001b[0;34m\u001b[0m\u001b[0;34m\u001b[0m\u001b[0m\n\u001b[0;32m--> 462\u001b[0;31m                     \u001b[0marr\u001b[0m \u001b[0;34m=\u001b[0m \u001b[0m_maybe_cast_data_without_dtype\u001b[0m\u001b[0;34m(\u001b[0m\u001b[0marr\u001b[0m\u001b[0;34m)\u001b[0m\u001b[0;34m\u001b[0m\u001b[0;34m\u001b[0m\u001b[0m\n\u001b[0m\u001b[1;32m    463\u001b[0m                     \u001b[0mdtype\u001b[0m \u001b[0;34m=\u001b[0m \u001b[0marr\u001b[0m\u001b[0;34m.\u001b[0m\u001b[0mdtype\u001b[0m\u001b[0;34m\u001b[0m\u001b[0;34m\u001b[0m\u001b[0m\n\u001b[1;32m    464\u001b[0m \u001b[0;34m\u001b[0m\u001b[0m\n",
      "\u001b[0;32m/opt/conda/lib/python3.7/site-packages/pandas/core/indexes/base.py\u001b[0m in \u001b[0;36m_maybe_cast_data_without_dtype\u001b[0;34m(subarr)\u001b[0m\n\u001b[1;32m   6415\u001b[0m         \u001b[0mconvert_period\u001b[0m\u001b[0;34m=\u001b[0m\u001b[0;32mTrue\u001b[0m\u001b[0;34m,\u001b[0m\u001b[0;34m\u001b[0m\u001b[0;34m\u001b[0m\u001b[0m\n\u001b[1;32m   6416\u001b[0m         \u001b[0mconvert_interval\u001b[0m\u001b[0;34m=\u001b[0m\u001b[0;32mTrue\u001b[0m\u001b[0;34m,\u001b[0m\u001b[0;34m\u001b[0m\u001b[0;34m\u001b[0m\u001b[0m\n\u001b[0;32m-> 6417\u001b[0;31m         \u001b[0mdtype_if_all_nat\u001b[0m\u001b[0;34m=\u001b[0m\u001b[0mnp\u001b[0m\u001b[0;34m.\u001b[0m\u001b[0mdtype\u001b[0m\u001b[0;34m(\u001b[0m\u001b[0;34m\"datetime64[ns]\"\u001b[0m\u001b[0;34m)\u001b[0m\u001b[0;34m,\u001b[0m\u001b[0;34m\u001b[0m\u001b[0;34m\u001b[0m\u001b[0m\n\u001b[0m\u001b[1;32m   6418\u001b[0m     )\n\u001b[1;32m   6419\u001b[0m     \u001b[0;32mif\u001b[0m \u001b[0mresult\u001b[0m\u001b[0;34m.\u001b[0m\u001b[0mdtype\u001b[0m\u001b[0;34m.\u001b[0m\u001b[0mkind\u001b[0m \u001b[0;32min\u001b[0m \u001b[0;34m[\u001b[0m\u001b[0;34m\"b\"\u001b[0m\u001b[0;34m,\u001b[0m \u001b[0;34m\"c\"\u001b[0m\u001b[0;34m]\u001b[0m\u001b[0;34m:\u001b[0m\u001b[0;34m\u001b[0m\u001b[0;34m\u001b[0m\u001b[0m\n",
      "\u001b[0;31mKeyboardInterrupt\u001b[0m: "
     ]
    }
   ],
   "source": [
    "featuresetmi(featureSet_array = my_featureSet_array,\n",
    "             casenessVector = caseness_array[['person_id','CMHD_dx_and_rx']],\n",
    "             m = m,\n",
    "             representation = 'all',\n",
    "             source = 'database',\n",
    "             df_ppl_and_codes = df_ppl_and_codes,\n",
    "             verbose = True)"
   ]
  },
  {
   "cell_type": "markdown",
   "id": "f9b269c2-c57f-4f37-aaa7-5cbbd015b02c",
   "metadata": {},
   "source": [
    "##### 1.2.2. MULTI representation."
   ]
  },
  {
   "cell_type": "code",
   "execution_count": null,
   "id": "bc55b6a9-1006-4963-9186-fe8dcc7178c6",
   "metadata": {
    "tags": []
   },
   "outputs": [],
   "source": [
    "featuresetmi(featureSet_array = my_featureSet_array,\n",
    "             casenessVector = caseness_array[['person_id','CMHD_dx_and_rx']],\n",
    "             m = m,\n",
    "             representation = 'multi',\n",
    "             source = 'database')"
   ]
  },
  {
   "cell_type": "markdown",
   "id": "64a0e692-34a7-48b4-8a2d-1b0132ca2752",
   "metadata": {},
   "source": [
    "#### 1.3. Possible caseness"
   ]
  },
  {
   "cell_type": "markdown",
   "id": "08750d83-e0c8-4547-a78b-48cb720345b1",
   "metadata": {},
   "source": [
    "##### 1.3.1. ALL representation."
   ]
  },
  {
   "cell_type": "code",
   "execution_count": null,
   "id": "dcf5f7be-da60-465c-8b9b-0f949608b9fe",
   "metadata": {
    "tags": []
   },
   "outputs": [],
   "source": [
    "featuresetmi(featureSet_array = my_featureSet_array,\n",
    "             casenessVector = caseness_array[['person_id','CMHD_rx_not_dx']],\n",
    "             m = m,\n",
    "             representation = 'all',\n",
    "             source = 'database',\n",
    "             df_ppl_and_codes = df_ppl_and_codes,\n",
    "             verbose = True)"
   ]
  },
  {
   "cell_type": "markdown",
   "id": "54d680b1-41a5-429b-90a4-3886ffc2deb7",
   "metadata": {},
   "source": [
    "##### 1.3.2. MULTI representation."
   ]
  },
  {
   "cell_type": "code",
   "execution_count": null,
   "id": "b408d50c-c902-4237-aca0-0c18f05f4d93",
   "metadata": {
    "tags": []
   },
   "outputs": [],
   "source": [
    "featuresetmi(featureSet_array = my_featureSet_array,\n",
    "             casenessVector = caseness_array[['person_id','CMHD_rx_not_dx']],\n",
    "             m = m,\n",
    "             representation = 'multi',\n",
    "             source = 'database')"
   ]
  },
  {
   "cell_type": "markdown",
   "id": "feb4a09f-cf24-4113-aaa9-aa6bfc879a0f",
   "metadata": {},
   "source": [
    "#### 1.4. No caseness (i.e. control group)"
   ]
  },
  {
   "cell_type": "markdown",
   "id": "a25e3dcb-a08d-4de1-b92c-7703f215efe2",
   "metadata": {},
   "source": [
    "##### 1.4.1. ALL representation."
   ]
  },
  {
   "cell_type": "code",
   "execution_count": null,
   "id": "b89274e9-4ada-43da-9ac1-4adeffa20452",
   "metadata": {
    "tags": []
   },
   "outputs": [],
   "source": [
    "featuresetmi(featureSet_array = my_featureSet_array,\n",
    "             casenessVector = caseness_array[['person_id','CMHD_control']],\n",
    "             m = m,\n",
    "             representation = 'all',\n",
    "             source = 'database',\n",
    "             df_ppl_and_codes = df_ppl_and_codes,\n",
    "             verbose = True)"
   ]
  },
  {
   "cell_type": "markdown",
   "id": "198d8124-dff7-4349-bfab-5015487d9e47",
   "metadata": {},
   "source": [
    "##### 1.4.2. MULTI representation."
   ]
  },
  {
   "cell_type": "code",
   "execution_count": null,
   "id": "0ad4b532-13df-4bf9-be96-aaa032ef65f5",
   "metadata": {
    "tags": []
   },
   "outputs": [],
   "source": [
    "featuresetmi(featureSet_array = my_featureSet_array,\n",
    "             casenessVector = caseness_array[['person_id','CMHD_control']],\n",
    "             m = m,\n",
    "             representation = 'multi', source = 'database')"
   ]
  },
  {
   "cell_type": "markdown",
   "id": "9631fa3f-1a3f-4e47-9dd3-988c68212fc1",
   "metadata": {
    "tags": []
   },
   "source": [
    "### 2. Mutual information of pair-composite feature sets and the caseness variables."
   ]
  },
  {
   "cell_type": "code",
   "execution_count": null,
   "id": "8d921a9c-7992-4505-b805-b56dc8dbf61e",
   "metadata": {},
   "outputs": [],
   "source": [
    "# Set the order of the composite: 1 = individual, 2 = pair, 3 = triplet.\n",
    "m = 2"
   ]
  },
  {
   "cell_type": "markdown",
   "id": "effc1197-ee43-4ef3-968d-4efc062f9885",
   "metadata": {},
   "source": [
    "#### 1.1. Multinomial caseness"
   ]
  },
  {
   "cell_type": "markdown",
   "id": "1e9ed6c3-915b-45d7-8f90-e65cb1589575",
   "metadata": {},
   "source": [
    "##### 1.1.1. ALL representation."
   ]
  },
  {
   "cell_type": "code",
   "execution_count": null,
   "id": "5c35347d-6113-425d-85d3-019c8fb3f1e9",
   "metadata": {
    "tags": []
   },
   "outputs": [],
   "source": [
    "featuresetmi(featureSet_array = my_featureSet_array,\n",
    "             casenessVector = caseness_array[['person_id','CMHD']],\n",
    "             m = m,\n",
    "             representation = 'all',\n",
    "             source = 'database',\n",
    "             df_ppl_and_codes = df_ppl_and_codes,\n",
    "             verbose = True)"
   ]
  },
  {
   "cell_type": "markdown",
   "id": "941990b5-bd26-4e4d-8fb0-1c9408abae7d",
   "metadata": {},
   "source": [
    "##### 1.1.2. MULTI representation."
   ]
  },
  {
   "cell_type": "code",
   "execution_count": null,
   "id": "0a676d38-7173-48e6-9849-b99bf1f9f981",
   "metadata": {
    "tags": []
   },
   "outputs": [],
   "source": [
    "featuresetmi(featureSet_array = my_featureSet_array,\n",
    "             casenessVector = caseness_array[['person_id','CMHD']],\n",
    "             m = m,\n",
    "             representation = 'multi',\n",
    "             source = 'database')"
   ]
  },
  {
   "cell_type": "markdown",
   "id": "e9784a71-814a-45b9-a8b9-cc6e246357b0",
   "metadata": {},
   "source": [
    "#### 1.2. Definitive caseness"
   ]
  },
  {
   "cell_type": "markdown",
   "id": "e20088e3-1e78-4684-9076-a939bb4b10ff",
   "metadata": {},
   "source": [
    "##### 1.2.1. ALL representation."
   ]
  },
  {
   "cell_type": "code",
   "execution_count": null,
   "id": "49dcd050-9162-40d4-b306-97f52de13f17",
   "metadata": {
    "tags": []
   },
   "outputs": [],
   "source": [
    "featuresetmi(featureSet_array = my_featureSet_array,\n",
    "             casenessVector = caseness_array[['person_id','CMHD_dx_and_rx']],\n",
    "             m = m,\n",
    "             representation = 'all',\n",
    "             source = 'database',\n",
    "             df_ppl_and_codes = df_ppl_and_codes,\n",
    "             verbose = True)"
   ]
  },
  {
   "cell_type": "markdown",
   "id": "c6276f1d-f696-4ec6-ba34-617f94aa880d",
   "metadata": {},
   "source": [
    "##### 1.2.2. MULTI representation."
   ]
  },
  {
   "cell_type": "code",
   "execution_count": null,
   "id": "0258d594-4170-4c08-b932-e92a65373607",
   "metadata": {
    "tags": []
   },
   "outputs": [],
   "source": [
    "featuresetmi(featureSet_array = my_featureSet_array,\n",
    "             casenessVector = caseness_array[['person_id','CMHD_dx_and_rx']],\n",
    "             m = m,\n",
    "             representation = 'multi',\n",
    "             source = 'database')"
   ]
  },
  {
   "cell_type": "markdown",
   "id": "0b40cdb0-87e5-4cad-a5fc-f92f96654f8c",
   "metadata": {},
   "source": [
    "#### 1.3. Possible caseness"
   ]
  },
  {
   "cell_type": "markdown",
   "id": "eb9c491c-5c5a-4d72-aab3-62de79acc8ed",
   "metadata": {},
   "source": [
    "##### 1.3.1. ALL representation."
   ]
  },
  {
   "cell_type": "code",
   "execution_count": null,
   "id": "11f948ca-9135-4219-b6a5-00dc3630165a",
   "metadata": {
    "tags": []
   },
   "outputs": [],
   "source": [
    "featuresetmi(featureSet_array = my_featureSet_array,\n",
    "             casenessVector = caseness_array[['person_id','CMHD_rx_not_dx']],\n",
    "             m = m,\n",
    "             representation = 'all',\n",
    "             source = 'database',\n",
    "             df_ppl_and_codes = df_ppl_and_codes,\n",
    "             verbose = True)"
   ]
  },
  {
   "cell_type": "markdown",
   "id": "58de659d-e49d-4fe8-9649-97086594f44a",
   "metadata": {},
   "source": [
    "##### 1.3.2. MULTI representation."
   ]
  },
  {
   "cell_type": "code",
   "execution_count": null,
   "id": "4f3cb70f-087e-44db-bcfa-1f24302071d2",
   "metadata": {
    "tags": []
   },
   "outputs": [],
   "source": [
    "featuresetmi(featureSet_array = my_featureSet_array,\n",
    "             casenessVector = caseness_array[['person_id','CMHD_rx_not_dx']],\n",
    "             m = m,\n",
    "             representation = 'multi',\n",
    "             source = 'database')"
   ]
  },
  {
   "cell_type": "markdown",
   "id": "0166c3b1-431a-4456-a065-535f8ffe5e6f",
   "metadata": {},
   "source": [
    "#### 1.4. No caseness (i.e. control group)"
   ]
  },
  {
   "cell_type": "markdown",
   "id": "1b0b6eae-ebf2-4f47-814e-bd3bc34a2220",
   "metadata": {},
   "source": [
    "##### 1.4.1. ALL representation."
   ]
  },
  {
   "cell_type": "code",
   "execution_count": null,
   "id": "9f3ebbec-7783-4919-9c90-28183fdc1c65",
   "metadata": {
    "tags": []
   },
   "outputs": [],
   "source": [
    "featuresetmi(featureSet_array = my_featureSet_array,\n",
    "             casenessVector = caseness_array[['person_id','CMHD_control']],\n",
    "             m = m,\n",
    "             representation = 'all',\n",
    "             source = 'database',\n",
    "             df_ppl_and_codes = df_ppl_and_codes,\n",
    "             verbose = True)"
   ]
  },
  {
   "cell_type": "markdown",
   "id": "1e25e070-d808-4231-ae69-675b0e215266",
   "metadata": {},
   "source": [
    "##### 1.4.2. MULTI representation."
   ]
  },
  {
   "cell_type": "code",
   "execution_count": null,
   "id": "9f0cf584-61ea-42d9-86c5-fb7f98c75f84",
   "metadata": {
    "tags": []
   },
   "outputs": [],
   "source": [
    "featuresetmi(featureSet_array = my_featureSet_array,\n",
    "             casenessVector = caseness_array[['person_id','CMHD_control']],\n",
    "             m = m,\n",
    "             representation = 'multi',\n",
    "             source = 'database')"
   ]
  },
  {
   "cell_type": "markdown",
   "id": "c7bc2c12-bc95-4c4a-ae84-82ef4ddc87cc",
   "metadata": {
    "tags": []
   },
   "source": [
    "### 3. Mutual information of triplet-composite feature sets and the caseness variables."
   ]
  },
  {
   "cell_type": "code",
   "execution_count": null,
   "id": "88ce171c-4be8-44e5-ba00-5fafccf184d2",
   "metadata": {},
   "outputs": [],
   "source": [
    "# Set the order of the composite: 1 = individual, 2 = pair, 3 = triplet.\n",
    "m = 3"
   ]
  },
  {
   "cell_type": "markdown",
   "id": "b3f651a4-b14a-4cb9-95d6-0cac87c2b9ca",
   "metadata": {},
   "source": [
    "#### 1.1. Multinomial caseness"
   ]
  },
  {
   "cell_type": "markdown",
   "id": "dfed5c9c-a5fd-4a40-9e82-adb0302dfdbe",
   "metadata": {},
   "source": [
    "##### 1.1.1. ALL representation."
   ]
  },
  {
   "cell_type": "code",
   "execution_count": null,
   "id": "77517bcb-b25f-459e-a918-76ddd570e0df",
   "metadata": {
    "tags": []
   },
   "outputs": [],
   "source": [
    "featuresetmi(featureSet_array = my_featureSet_array,\n",
    "             casenessVector = caseness_array[['person_id','CMHD']],\n",
    "             m = m,\n",
    "             representation = 'all',\n",
    "             source = 'database',\n",
    "             df_ppl_and_codes = df_ppl_and_codes,\n",
    "             verbose = True)"
   ]
  },
  {
   "cell_type": "markdown",
   "id": "73780878-f444-4775-9eeb-a094bf7469df",
   "metadata": {},
   "source": [
    "##### 1.1.2. MULTI representation."
   ]
  },
  {
   "cell_type": "code",
   "execution_count": null,
   "id": "39644a80-9dca-44cc-b2e2-1f659ba4d2fb",
   "metadata": {
    "tags": []
   },
   "outputs": [],
   "source": [
    "featuresetmi(featureSet_array = my_featureSet_array,\n",
    "             casenessVector = caseness_array[['person_id','CMHD']],\n",
    "             m = m,\n",
    "             representation = 'multi',\n",
    "             source = 'database')"
   ]
  },
  {
   "cell_type": "markdown",
   "id": "ccb1931d-8f35-44eb-b340-dcc846bdfcaa",
   "metadata": {},
   "source": [
    "#### 1.2. Definitive caseness"
   ]
  },
  {
   "cell_type": "markdown",
   "id": "42e42636-2576-47fd-b4f7-9c09f24c9b8a",
   "metadata": {},
   "source": [
    "##### 1.2.1. ALL representation."
   ]
  },
  {
   "cell_type": "code",
   "execution_count": null,
   "id": "400e8e14-38cf-4592-a3f3-81cb73b1ab5a",
   "metadata": {
    "tags": []
   },
   "outputs": [],
   "source": [
    "featuresetmi(featureSet_array = my_featureSet_array,\n",
    "             casenessVector = caseness_array[['person_id','CMHD_dx_and_rx']],\n",
    "             m = m,\n",
    "             representation = 'all',\n",
    "             source = 'database',\n",
    "             df_ppl_and_codes = df_ppl_and_codes,\n",
    "             verbose = True)"
   ]
  },
  {
   "cell_type": "markdown",
   "id": "a251c37c-1762-4634-a90f-d49d697b65ac",
   "metadata": {},
   "source": [
    "##### 1.2.2. MULTI representation."
   ]
  },
  {
   "cell_type": "code",
   "execution_count": null,
   "id": "8cbea023-44cc-421b-9bd9-78cfc52eb1ab",
   "metadata": {
    "tags": []
   },
   "outputs": [],
   "source": [
    "featuresetmi(featureSet_array = my_featureSet_array,\n",
    "             casenessVector = caseness_array[['person_id','CMHD_dx_and_rx']],\n",
    "             m = m,\n",
    "             representation = 'multi',\n",
    "             source = 'database')"
   ]
  },
  {
   "cell_type": "markdown",
   "id": "e58104a9-16c1-4c65-854c-9a43c208d694",
   "metadata": {},
   "source": [
    "#### 1.3. Possible caseness"
   ]
  },
  {
   "cell_type": "markdown",
   "id": "d84602f3-4ab1-463f-bee8-9b7d56c8205a",
   "metadata": {},
   "source": [
    "##### 1.3.1. ALL representation."
   ]
  },
  {
   "cell_type": "code",
   "execution_count": null,
   "id": "b7b6f74d-9bcb-4b5b-8e5a-979caa6e8097",
   "metadata": {
    "tags": []
   },
   "outputs": [],
   "source": [
    "featuresetmi(featureSet_array = my_featureSet_array,\n",
    "             casenessVector = caseness_array[['person_id','CMHD_rx_not_dx']],\n",
    "             m = m,\n",
    "             representation = 'all',\n",
    "             source = 'database',\n",
    "             df_ppl_and_codes = df_ppl_and_codes,\n",
    "             verbose = True)"
   ]
  },
  {
   "cell_type": "markdown",
   "id": "ce56d7ed-679d-41dd-8dd7-41057ef4b948",
   "metadata": {},
   "source": [
    "##### 1.3.2. MULTI representation."
   ]
  },
  {
   "cell_type": "code",
   "execution_count": null,
   "id": "ff976624-b018-4987-b638-b17308f1fea1",
   "metadata": {
    "tags": []
   },
   "outputs": [],
   "source": [
    "featuresetmi(featureSet_array = my_featureSet_array,\n",
    "             casenessVector = caseness_array[['person_id','CMHD_rx_not_dx']],\n",
    "             m = m,\n",
    "             representation = 'multi',\n",
    "             source = 'database')"
   ]
  },
  {
   "cell_type": "markdown",
   "id": "cc8f9d45-fea7-4bcf-b333-e260adce6ea4",
   "metadata": {},
   "source": [
    "#### 1.4. No caseness (i.e. control group)"
   ]
  },
  {
   "cell_type": "markdown",
   "id": "0b86b08b-bced-430b-935a-d99515ef431c",
   "metadata": {},
   "source": [
    "##### 1.4.1. ALL representation."
   ]
  },
  {
   "cell_type": "code",
   "execution_count": null,
   "id": "a1fad7cb-ae2a-4e82-b2de-8a172a17cada",
   "metadata": {
    "tags": []
   },
   "outputs": [],
   "source": [
    "featuresetmi(featureSet_array = my_featureSet_array,\n",
    "             casenessVector = caseness_array[['person_id','CMHD_control']],\n",
    "             m = m,\n",
    "             representation = 'all',\n",
    "             source = 'database',\n",
    "             df_ppl_and_codes = df_ppl_and_codes,\n",
    "             verbose = True)"
   ]
  },
  {
   "cell_type": "markdown",
   "id": "c3568511-13e8-4e15-b7e1-63c2cc28c244",
   "metadata": {},
   "source": [
    "##### 1.4.2. MULTI representation."
   ]
  },
  {
   "cell_type": "code",
   "execution_count": null,
   "id": "b169c831-d77b-496d-9a7b-fcff70835b1a",
   "metadata": {
    "tags": []
   },
   "outputs": [],
   "source": [
    "featuresetmi(featureSet_array = my_featureSet_array,\n",
    "             casenessVector = caseness_array[['person_id','CMHD_control']],\n",
    "             m = m,\n",
    "             representation = 'multi',\n",
    "             source = 'database')"
   ]
  },
  {
   "cell_type": "markdown",
   "id": "c15351f9-5b76-468d-9155-bd499c28398d",
   "metadata": {
    "jp-MarkdownHeadingCollapsed": true,
    "tags": []
   },
   "source": [
    "# Initial results (\\*needs editing because caseness variable has changed\\*)\n",
    "\n",
    "__\\*__ _Note: these initial results were calculated using a previous version of the script where the mutual information of all feature sets was saved. This approach was dropped in favour of only saving mutual information values for feature sets whose mutual information with the caseness variable is greater than the entropy of the caseness variable._\n",
    "<br/><br/><br/>\n",
    "\n",
    "All individual feature sets score very low for two-way mutual information: all less than 0.05. A $I_{2}=0.05$ represents 7.9% of the theoretical maximal situatons where the feature set either _is exactly_ the caseness variable or _is exactly not_ the variable. The top five individal feature sets (which only have $I_{2}≥0.033$) are defined as having at least one recording of the following SNOMED CT codes in their primary-care electronic health records:\n",
    "\n",
    "| SNOMED code | Feature set | Topic | Mutual Information | Scaled mutual information | Odds ratio | P(CMHD given X=1) | P(CMHD given X=0) |\n",
    "| ----------- | ----------- | ----- | ------------------ | ------------------------- | ---------- | ----------------- | ----------------- |\n",
    "| 314530002 | Medication review done | Medication | ~0.055 | 7.9% | 8.5 | 4.1 | 26.8 |\n",
    "| 182888003 | Medication requested  | Medication | ~0.035 | 5.0% | 4.9 | 7.9 | 29.5 |\n",
    "| 1018251000000107 | Serum alanine aminotransferase level (observable entity) | Liver test | ~0.033 | 4.7% | 5.5 | 4.7 | 21.6 |\n",
    "| 1000621000000104 | Serum alkaline phosphatase level | Liver test | ~0.033 | 4.7% | 5.5 | 4.7 | 21.5 |\n",
    "| 1022791000000101 | TSH (thyroid stimulating hormone) level | Endocrine | ~0.033 | 4.7% | 5.0 | 5.4 | 22.5 |\n",
    "\n",
    "The paradoxes of commonly-reported classification statistics are clearly shown. A medication _review_ has the largest odds ratio but the probability of having a record of the caseness variable given that medication was _requested_ is higher. One might propose that a record of a medication request is a better indicator than a record of a medication review, if they prefer the probability statistic over the odds-ratio statistic. But when we look at the probability of the caseness variable given that there is _no_ record of medication being requested, we see that this is also the largest of the top five feature sets! The odds ratio tries to balance these ambiguous probability statistics but it is, therefore, harder to interpret. Note, the odds ratio for a record of a medication _review_ scores better than for a record of medication _request_ because the distinction between the ambiguous probabilities is greater (multiplicatively).\n",
    "\n",
    "The scaled mutual information is simply a percentage measure of how much the caseness variable is described by the feature set (in terms of information). Unlike the odds ratio, it will give the same value whether the odds are multiplicatively greater or less than equal - e.g. $I_{2}$ will be the same for $OR = 4.0$ and $OR = 0.25$  - so it only measures magnitude of association."
   ]
  }
 ],
 "metadata": {
  "environment": {
   "kernel": "python3",
   "name": "r-cpu.4-1.m95",
   "type": "gcloud",
   "uri": "gcr.io/deeplearning-platform-release/r-cpu.4-1:m95"
  },
  "kernelspec": {
   "display_name": "Python 3",
   "language": "python",
   "name": "python3"
  },
  "language_info": {
   "codemirror_mode": {
    "name": "ipython",
    "version": 3
   },
   "file_extension": ".py",
   "mimetype": "text/x-python",
   "name": "python",
   "nbconvert_exporter": "python",
   "pygments_lexer": "ipython3",
   "version": "3.7.12"
  }
 },
 "nbformat": 4,
 "nbformat_minor": 5
}
