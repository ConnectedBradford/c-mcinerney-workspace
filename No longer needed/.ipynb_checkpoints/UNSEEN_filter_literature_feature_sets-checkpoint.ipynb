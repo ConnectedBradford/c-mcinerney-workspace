{
 "cells": [
  {
   "cell_type": "markdown",
   "id": "1a794520-cc39-42d3-b040-3aeab1a3049f",
   "metadata": {},
   "source": [
    "# Filter literature feature sets.\n",
    "\n",
    "Candidate feature sets inspired by a literature review are filtered based on their entropy. Further details are in this notebook's parent notebook \"UNSEEN filter feature sets.ipynb\".\n",
    "\n",
    "## Imports and helper functions"
   ]
  },
  {
   "cell_type": "code",
   "execution_count": 106,
   "id": "c626ecea-669d-47c9-a27a-432b9cb97756",
   "metadata": {
    "tags": []
   },
   "outputs": [],
   "source": [
    "%run 'UNSEEN_helper_functions.ipynb'\n",
    "%store -r"
   ]
  },
  {
   "cell_type": "markdown",
   "id": "eb22bd79-604f-4d88-a8d2-5aa57073e2d9",
   "metadata": {},
   "source": [
    "## Load literature feature-set array\n",
    "\n",
    "Here, we run the notebook that creates the literature feature-set array. We will then save the feature-set array as \"my_featureSet_array\", so that the remaining syntax in this notebook is common for all feature-set sources.\n",
    "\n",
    "\n",
    "It is assumed that the caseness variables have already been created in the parent notebook."
   ]
  },
  {
   "cell_type": "code",
   "execution_count": 107,
   "id": "7be5bb17-1f3c-4b07-aa36-8d4138f2d1ed",
   "metadata": {
    "tags": []
   },
   "outputs": [],
   "source": [
    "%%capture\n",
    "if 'fs_literature' not in globals():\n",
    "    %run ./\"UNSEEN_create_literature_feature_sets.ipynb\"\n",
    "    %store fs_literature\n",
    "my_featureSet_array = fs_literature"
   ]
  },
  {
   "cell_type": "markdown",
   "id": "7016d268-ee44-45ea-9d18-73c6a23c989a",
   "metadata": {
    "tags": []
   },
   "source": [
    "## Filter feature sets."
   ]
  },
  {
   "cell_type": "markdown",
   "id": "91084bca-e139-417a-8667-9c9db014bd54",
   "metadata": {},
   "source": [
    "### 1. Mutual information of individual feature sets and the caseness variables."
   ]
  },
  {
   "cell_type": "code",
   "execution_count": 108,
   "id": "bed25afd-cad7-41de-8a57-628ef7d1a5f3",
   "metadata": {
    "tags": []
   },
   "outputs": [],
   "source": [
    "# Set the order of the composite: 1 = individual, 2 = pair, 3 = triplet.\n",
    "m = 1"
   ]
  },
  {
   "cell_type": "markdown",
   "id": "8aa6dc72-56d9-4bf9-9fb2-936000c95f6d",
   "metadata": {},
   "source": [
    "#### 1.1. Multinomial caseness"
   ]
  },
  {
   "cell_type": "markdown",
   "id": "f6b43fe8-0e68-4bad-8ca3-fd5bdc6bf87a",
   "metadata": {},
   "source": [
    "##### 1.1.1. ALL representation."
   ]
  },
  {
   "cell_type": "code",
   "execution_count": 109,
   "id": "2ae24a5a-5d11-4019-a4b9-98ca33460d17",
   "metadata": {
    "tags": []
   },
   "outputs": [
    {
     "name": "stdout",
     "output_type": "stream",
     "text": [
      "\n",
      "No save location provided.\n",
      "...Defaulting to ~/Mutual information saves/Individuals\n",
      "\n",
      "\n",
      "\n",
      "****************************************\n",
      "Calculating mutual information values...\n"
     ]
    },
    {
     "name": "stderr",
     "output_type": "stream",
     "text": [
      "100%|██████████| 5/5 [00:00<00:00,  7.95it/s]"
     ]
    },
    {
     "name": "stdout",
     "output_type": "stream",
     "text": [
      "...\n",
      "\n",
      "1 batch(es) of feature sets processed.\n",
      "5 / 5 feature sets dropped due to low entropy.\n",
      "****************************************\n"
     ]
    },
    {
     "name": "stderr",
     "output_type": "stream",
     "text": [
      "\n"
     ]
    }
   ],
   "source": [
    "featuresetmi(featureSet_array = my_featureSet_array,\n",
    "             casenessVector = caseness_array[['person_id','CMHD']],\n",
    "             m = m,\n",
    "             representation = 'all',\n",
    "             source = 'literature')"
   ]
  },
  {
   "cell_type": "markdown",
   "id": "cb7bfb0d-0900-4c88-a69a-78bb48a131a9",
   "metadata": {},
   "source": [
    "##### 1.1.2. MULTI representation."
   ]
  },
  {
   "cell_type": "code",
   "execution_count": 110,
   "id": "e68a5997-0c4d-4c79-9b20-7e7b50ef9829",
   "metadata": {
    "tags": []
   },
   "outputs": [
    {
     "name": "stdout",
     "output_type": "stream",
     "text": [
      "\n",
      "No save location provided.\n",
      "...Defaulting to ~/Mutual information saves/Individuals\n",
      "\n",
      "\n",
      "\n",
      "****************************************\n",
      "Calculating mutual information values...\n"
     ]
    },
    {
     "name": "stderr",
     "output_type": "stream",
     "text": [
      "100%|██████████| 5/5 [00:00<00:00,  5.03it/s]"
     ]
    },
    {
     "name": "stdout",
     "output_type": "stream",
     "text": [
      "...\n",
      "\n",
      "1 batch(es) of feature sets processed.\n",
      "5 / 5 feature sets dropped due to low entropy.\n",
      "****************************************\n"
     ]
    },
    {
     "name": "stderr",
     "output_type": "stream",
     "text": [
      "\n"
     ]
    }
   ],
   "source": [
    "featuresetmi(featureSet_array = my_featureSet_array,\n",
    "             casenessVector = caseness_array[['person_id','CMHD']],\n",
    "             m = m,\n",
    "             representation = 'multi',\n",
    "             source = 'literature')"
   ]
  },
  {
   "cell_type": "markdown",
   "id": "a9bc82d1-509b-447c-adba-3d14561f3ee5",
   "metadata": {},
   "source": [
    "#### 1.2. Definitive caseness"
   ]
  },
  {
   "cell_type": "markdown",
   "id": "c5ce5be9-386e-4fae-b16d-dd0d736cce16",
   "metadata": {},
   "source": [
    "##### 1.2.1. ALL representation."
   ]
  },
  {
   "cell_type": "code",
   "execution_count": 111,
   "id": "fc3615cb-aae2-487e-b334-2fbcc580e93d",
   "metadata": {
    "tags": []
   },
   "outputs": [
    {
     "name": "stdout",
     "output_type": "stream",
     "text": [
      "\n",
      "No save location provided.\n",
      "...Defaulting to ~/Mutual information saves/Individuals\n",
      "\n",
      "\n",
      "\n",
      "****************************************\n",
      "Calculating mutual information values...\n"
     ]
    },
    {
     "name": "stderr",
     "output_type": "stream",
     "text": [
      "100%|██████████| 5/5 [00:00<00:00,  9.24it/s]"
     ]
    },
    {
     "name": "stdout",
     "output_type": "stream",
     "text": [
      "/home/jupyter/UNSEEN/c-mcinerney-workspaceMutual information saves/Individuals\n",
      "...\n",
      "\n",
      "1 batch(es) of feature sets processed.\n",
      "4 / 5 feature sets dropped due to low entropy.\n",
      "****************************************\n"
     ]
    },
    {
     "name": "stderr",
     "output_type": "stream",
     "text": [
      "\n"
     ]
    }
   ],
   "source": [
    "featuresetmi(featureSet_array = my_featureSet_array,\n",
    "             casenessVector = caseness_array[['person_id','CMHD_dx_and_rx']],\n",
    "             m = m,\n",
    "             representation = 'all',\n",
    "             source = 'literature')"
   ]
  },
  {
   "cell_type": "markdown",
   "id": "f9b269c2-c57f-4f37-aaa7-5cbbd015b02c",
   "metadata": {},
   "source": [
    "##### 1.2.2. MULTI representation."
   ]
  },
  {
   "cell_type": "code",
   "execution_count": 112,
   "id": "bc55b6a9-1006-4963-9186-fe8dcc7178c6",
   "metadata": {
    "tags": []
   },
   "outputs": [
    {
     "name": "stdout",
     "output_type": "stream",
     "text": [
      "\n",
      "No save location provided.\n",
      "...Defaulting to ~/Mutual information saves/Individuals\n",
      "\n",
      "\n",
      "\n",
      "****************************************\n",
      "Calculating mutual information values...\n"
     ]
    },
    {
     "name": "stderr",
     "output_type": "stream",
     "text": [
      "100%|██████████| 5/5 [00:00<00:00,  5.92it/s]"
     ]
    },
    {
     "name": "stdout",
     "output_type": "stream",
     "text": [
      "/home/jupyter/UNSEEN/c-mcinerney-workspaceMutual information saves/Individuals\n",
      "...\n",
      "\n",
      "1 batch(es) of feature sets processed.\n",
      "4 / 5 feature sets dropped due to low entropy.\n",
      "****************************************\n"
     ]
    },
    {
     "name": "stderr",
     "output_type": "stream",
     "text": [
      "\n"
     ]
    }
   ],
   "source": [
    "featuresetmi(featureSet_array = my_featureSet_array,\n",
    "             casenessVector = caseness_array[['person_id','CMHD_dx_and_rx']],\n",
    "             m = m,\n",
    "             representation = 'multi',\n",
    "             source = 'literature')"
   ]
  },
  {
   "cell_type": "markdown",
   "id": "64a0e692-34a7-48b4-8a2d-1b0132ca2752",
   "metadata": {},
   "source": [
    "#### 1.3. Possible caseness"
   ]
  },
  {
   "cell_type": "markdown",
   "id": "08750d83-e0c8-4547-a78b-48cb720345b1",
   "metadata": {},
   "source": [
    "##### 1.3.1. ALL representation."
   ]
  },
  {
   "cell_type": "code",
   "execution_count": 113,
   "id": "dcf5f7be-da60-465c-8b9b-0f949608b9fe",
   "metadata": {
    "tags": []
   },
   "outputs": [
    {
     "name": "stdout",
     "output_type": "stream",
     "text": [
      "\n",
      "No save location provided.\n",
      "...Defaulting to ~/Mutual information saves/Individuals\n",
      "\n",
      "\n",
      "\n",
      "****************************************\n",
      "Calculating mutual information values...\n"
     ]
    },
    {
     "name": "stderr",
     "output_type": "stream",
     "text": [
      "100%|██████████| 5/5 [00:00<00:00,  8.70it/s]"
     ]
    },
    {
     "name": "stdout",
     "output_type": "stream",
     "text": [
      "...\n",
      "\n",
      "1 batch(es) of feature sets processed.\n",
      "5 / 5 feature sets dropped due to low entropy.\n",
      "****************************************\n"
     ]
    },
    {
     "name": "stderr",
     "output_type": "stream",
     "text": [
      "\n"
     ]
    }
   ],
   "source": [
    "featuresetmi(featureSet_array = my_featureSet_array,\n",
    "             casenessVector = caseness_array[['person_id','CMHD_rx_not_dx']],\n",
    "             m = m,\n",
    "             representation = 'all',\n",
    "             source = 'literature')"
   ]
  },
  {
   "cell_type": "markdown",
   "id": "54d680b1-41a5-429b-90a4-3886ffc2deb7",
   "metadata": {},
   "source": [
    "##### 1.3.2. MULTI representation."
   ]
  },
  {
   "cell_type": "code",
   "execution_count": 114,
   "id": "b408d50c-c902-4237-aca0-0c18f05f4d93",
   "metadata": {
    "tags": []
   },
   "outputs": [
    {
     "name": "stdout",
     "output_type": "stream",
     "text": [
      "\n",
      "No save location provided.\n",
      "...Defaulting to ~/Mutual information saves/Individuals\n",
      "\n",
      "\n",
      "\n",
      "****************************************\n",
      "Calculating mutual information values...\n"
     ]
    },
    {
     "name": "stderr",
     "output_type": "stream",
     "text": [
      "100%|██████████| 5/5 [00:00<00:00,  5.87it/s]"
     ]
    },
    {
     "name": "stdout",
     "output_type": "stream",
     "text": [
      "...\n",
      "\n",
      "1 batch(es) of feature sets processed.\n",
      "5 / 5 feature sets dropped due to low entropy.\n",
      "****************************************\n"
     ]
    },
    {
     "name": "stderr",
     "output_type": "stream",
     "text": [
      "\n"
     ]
    }
   ],
   "source": [
    "featuresetmi(featureSet_array = my_featureSet_array,\n",
    "             casenessVector = caseness_array[['person_id','CMHD_rx_not_dx']],\n",
    "             m = m,\n",
    "             representation = 'multi',\n",
    "             source = 'literature')"
   ]
  },
  {
   "cell_type": "markdown",
   "id": "feb4a09f-cf24-4113-aaa9-aa6bfc879a0f",
   "metadata": {},
   "source": [
    "#### 1.4. No caseness (i.e. control group)"
   ]
  },
  {
   "cell_type": "markdown",
   "id": "a25e3dcb-a08d-4de1-b92c-7703f215efe2",
   "metadata": {},
   "source": [
    "##### 1.4.1. ALL representation."
   ]
  },
  {
   "cell_type": "code",
   "execution_count": 115,
   "id": "b89274e9-4ada-43da-9ac1-4adeffa20452",
   "metadata": {
    "tags": []
   },
   "outputs": [
    {
     "name": "stdout",
     "output_type": "stream",
     "text": [
      "\n",
      "No save location provided.\n",
      "...Defaulting to ~/Mutual information saves/Individuals\n",
      "\n",
      "\n",
      "\n",
      "****************************************\n",
      "Calculating mutual information values...\n"
     ]
    },
    {
     "name": "stderr",
     "output_type": "stream",
     "text": [
      "100%|██████████| 5/5 [00:00<00:00,  9.25it/s]"
     ]
    },
    {
     "name": "stdout",
     "output_type": "stream",
     "text": [
      "...\n",
      "\n",
      "1 batch(es) of feature sets processed.\n",
      "5 / 5 feature sets dropped due to low entropy.\n",
      "****************************************\n"
     ]
    },
    {
     "name": "stderr",
     "output_type": "stream",
     "text": [
      "\n"
     ]
    }
   ],
   "source": [
    "featuresetmi(featureSet_array = my_featureSet_array,\n",
    "             casenessVector = caseness_array[['person_id','CMHD_control']],\n",
    "             m = m,\n",
    "             representation = 'all',\n",
    "             source = 'literature')"
   ]
  },
  {
   "cell_type": "markdown",
   "id": "198d8124-dff7-4349-bfab-5015487d9e47",
   "metadata": {},
   "source": [
    "##### 1.4.2. MULTI representation."
   ]
  },
  {
   "cell_type": "code",
   "execution_count": 116,
   "id": "0ad4b532-13df-4bf9-be96-aaa032ef65f5",
   "metadata": {
    "tags": []
   },
   "outputs": [
    {
     "name": "stdout",
     "output_type": "stream",
     "text": [
      "\n",
      "No save location provided.\n",
      "...Defaulting to ~/Mutual information saves/Individuals\n",
      "\n",
      "\n",
      "\n",
      "****************************************\n",
      "Calculating mutual information values...\n"
     ]
    },
    {
     "name": "stderr",
     "output_type": "stream",
     "text": [
      "100%|██████████| 5/5 [00:00<00:00,  5.04it/s]"
     ]
    },
    {
     "name": "stdout",
     "output_type": "stream",
     "text": [
      "...\n",
      "\n",
      "1 batch(es) of feature sets processed.\n",
      "5 / 5 feature sets dropped due to low entropy.\n",
      "****************************************\n"
     ]
    },
    {
     "name": "stderr",
     "output_type": "stream",
     "text": [
      "\n"
     ]
    }
   ],
   "source": [
    "featuresetmi(featureSet_array = my_featureSet_array,\n",
    "             casenessVector = caseness_array[['person_id','CMHD_control']],\n",
    "             m = m,\n",
    "             representation = 'multi',\n",
    "             source = 'literature')"
   ]
  },
  {
   "cell_type": "markdown",
   "id": "9631fa3f-1a3f-4e47-9dd3-988c68212fc1",
   "metadata": {
    "tags": []
   },
   "source": [
    "### 2. Mutual information of pair-composite feature sets and the caseness variables."
   ]
  },
  {
   "cell_type": "code",
   "execution_count": 117,
   "id": "8d921a9c-7992-4505-b805-b56dc8dbf61e",
   "metadata": {
    "tags": []
   },
   "outputs": [],
   "source": [
    "# Set the order of the composite: 1 = individual, 2 = pair, 3 = triplet.\n",
    "m = 2"
   ]
  },
  {
   "cell_type": "markdown",
   "id": "effc1197-ee43-4ef3-968d-4efc062f9885",
   "metadata": {},
   "source": [
    "#### 2.1. Multinomial caseness"
   ]
  },
  {
   "cell_type": "markdown",
   "id": "1e9ed6c3-915b-45d7-8f90-e65cb1589575",
   "metadata": {},
   "source": [
    "##### 2.1.1. ALL representation."
   ]
  },
  {
   "cell_type": "code",
   "execution_count": 118,
   "id": "5c35347d-6113-425d-85d3-019c8fb3f1e9",
   "metadata": {
    "tags": []
   },
   "outputs": [
    {
     "name": "stdout",
     "output_type": "stream",
     "text": [
      "\n",
      "No save location provided.\n",
      "...Defaulting to ~/Mutual information saves/Pairs\n",
      "\n",
      "\n",
      "\n",
      "****************************************\n",
      "Calculating mutual information values...\n"
     ]
    },
    {
     "name": "stderr",
     "output_type": "stream",
     "text": [
      "100%|██████████| 10/10 [00:01<00:00,  7.48it/s]"
     ]
    },
    {
     "name": "stdout",
     "output_type": "stream",
     "text": [
      "...\n",
      "\n",
      "1 batch(es) of feature sets processed.\n",
      "10 / 10 feature sets dropped due to low entropy.\n",
      "****************************************\n"
     ]
    },
    {
     "name": "stderr",
     "output_type": "stream",
     "text": [
      "\n"
     ]
    }
   ],
   "source": [
    "featuresetmi(featureSet_array = my_featureSet_array,\n",
    "             casenessVector = caseness_array[['person_id','CMHD']],\n",
    "             m = m,\n",
    "             representation = 'all',\n",
    "             source = 'literature')"
   ]
  },
  {
   "cell_type": "markdown",
   "id": "941990b5-bd26-4e4d-8fb0-1c9408abae7d",
   "metadata": {},
   "source": [
    "##### 2.1.2. MULTI representation."
   ]
  },
  {
   "cell_type": "code",
   "execution_count": 119,
   "id": "0a676d38-7173-48e6-9849-b99bf1f9f981",
   "metadata": {
    "tags": []
   },
   "outputs": [
    {
     "name": "stdout",
     "output_type": "stream",
     "text": [
      "\n",
      "No save location provided.\n",
      "...Defaulting to ~/Mutual information saves/Pairs\n",
      "\n",
      "\n",
      "\n",
      "****************************************\n",
      "Calculating mutual information values...\n"
     ]
    },
    {
     "name": "stderr",
     "output_type": "stream",
     "text": [
      "100%|██████████| 10/10 [00:02<00:00,  4.66it/s]"
     ]
    },
    {
     "name": "stdout",
     "output_type": "stream",
     "text": [
      "...\n",
      "\n",
      "1 batch(es) of feature sets processed.\n",
      "10 / 10 feature sets dropped due to low entropy.\n",
      "****************************************\n"
     ]
    },
    {
     "name": "stderr",
     "output_type": "stream",
     "text": [
      "\n"
     ]
    }
   ],
   "source": [
    "featuresetmi(featureSet_array = my_featureSet_array,\n",
    "             casenessVector = caseness_array[['person_id','CMHD']],\n",
    "             m = m,\n",
    "             representation = 'multi',\n",
    "             source = 'literature')"
   ]
  },
  {
   "cell_type": "markdown",
   "id": "e9784a71-814a-45b9-a8b9-cc6e246357b0",
   "metadata": {},
   "source": [
    "#### 2.2. Definitive caseness"
   ]
  },
  {
   "cell_type": "markdown",
   "id": "e20088e3-1e78-4684-9076-a939bb4b10ff",
   "metadata": {},
   "source": [
    "##### 2.2.1. ALL representation."
   ]
  },
  {
   "cell_type": "code",
   "execution_count": 120,
   "id": "49dcd050-9162-40d4-b306-97f52de13f17",
   "metadata": {
    "tags": []
   },
   "outputs": [
    {
     "name": "stdout",
     "output_type": "stream",
     "text": [
      "\n",
      "No save location provided.\n",
      "...Defaulting to ~/Mutual information saves/Pairs\n",
      "\n",
      "\n",
      "\n",
      "****************************************\n",
      "Calculating mutual information values...\n"
     ]
    },
    {
     "name": "stderr",
     "output_type": "stream",
     "text": [
      "100%|██████████| 10/10 [00:01<00:00,  7.59it/s]"
     ]
    },
    {
     "name": "stdout",
     "output_type": "stream",
     "text": [
      "...\n",
      "\n",
      "1 batch(es) of feature sets processed.\n",
      "10 / 10 feature sets dropped due to low entropy.\n",
      "****************************************\n"
     ]
    },
    {
     "name": "stderr",
     "output_type": "stream",
     "text": [
      "\n"
     ]
    }
   ],
   "source": [
    "featuresetmi(featureSet_array = my_featureSet_array,\n",
    "             casenessVector = caseness_array[['person_id','CMHD_dx_and_rx']],\n",
    "             m = m,\n",
    "             representation = 'all',\n",
    "             source = 'literature')"
   ]
  },
  {
   "cell_type": "markdown",
   "id": "c6276f1d-f696-4ec6-ba34-617f94aa880d",
   "metadata": {},
   "source": [
    "##### 2.2.2. MULTI representation."
   ]
  },
  {
   "cell_type": "code",
   "execution_count": 121,
   "id": "0258d594-4170-4c08-b932-e92a65373607",
   "metadata": {
    "tags": []
   },
   "outputs": [
    {
     "name": "stdout",
     "output_type": "stream",
     "text": [
      "\n",
      "No save location provided.\n",
      "...Defaulting to ~/Mutual information saves/Pairs\n",
      "\n",
      "\n",
      "\n",
      "****************************************\n",
      "Calculating mutual information values...\n"
     ]
    },
    {
     "name": "stderr",
     "output_type": "stream",
     "text": [
      "100%|██████████| 10/10 [00:02<00:00,  4.92it/s]"
     ]
    },
    {
     "name": "stdout",
     "output_type": "stream",
     "text": [
      "/home/jupyter/UNSEEN/c-mcinerney-workspaceMutual information saves/Pairs\n",
      "...\n",
      "\n",
      "1 batch(es) of feature sets processed.\n",
      "6 / 10 feature sets dropped due to low entropy.\n",
      "****************************************\n"
     ]
    },
    {
     "name": "stderr",
     "output_type": "stream",
     "text": [
      "\n"
     ]
    }
   ],
   "source": [
    "featuresetmi(featureSet_array = my_featureSet_array,\n",
    "             casenessVector = caseness_array[['person_id','CMHD_dx_and_rx']],\n",
    "             m = m,\n",
    "             representation = 'multi',\n",
    "             source = 'literature')"
   ]
  },
  {
   "cell_type": "markdown",
   "id": "0b40cdb0-87e5-4cad-a5fc-f92f96654f8c",
   "metadata": {},
   "source": [
    "#### 2.3. Possible caseness"
   ]
  },
  {
   "cell_type": "markdown",
   "id": "eb9c491c-5c5a-4d72-aab3-62de79acc8ed",
   "metadata": {},
   "source": [
    "##### 2.3.1. ALL representation."
   ]
  },
  {
   "cell_type": "code",
   "execution_count": 122,
   "id": "11f948ca-9135-4219-b6a5-00dc3630165a",
   "metadata": {
    "tags": []
   },
   "outputs": [
    {
     "name": "stdout",
     "output_type": "stream",
     "text": [
      "\n",
      "No save location provided.\n",
      "...Defaulting to ~/Mutual information saves/Pairs\n",
      "\n",
      "\n",
      "\n",
      "****************************************\n",
      "Calculating mutual information values...\n"
     ]
    },
    {
     "name": "stderr",
     "output_type": "stream",
     "text": [
      "100%|██████████| 10/10 [00:01<00:00,  7.79it/s]"
     ]
    },
    {
     "name": "stdout",
     "output_type": "stream",
     "text": [
      "...\n",
      "\n",
      "1 batch(es) of feature sets processed.\n",
      "10 / 10 feature sets dropped due to low entropy.\n",
      "****************************************\n"
     ]
    },
    {
     "name": "stderr",
     "output_type": "stream",
     "text": [
      "\n"
     ]
    }
   ],
   "source": [
    "featuresetmi(featureSet_array = my_featureSet_array,\n",
    "             casenessVector = caseness_array[['person_id','CMHD_rx_not_dx']],\n",
    "             m = m,\n",
    "             representation = 'all',\n",
    "             source = 'literature')"
   ]
  },
  {
   "cell_type": "markdown",
   "id": "58de659d-e49d-4fe8-9649-97086594f44a",
   "metadata": {},
   "source": [
    "##### 2.3.2. MULTI representation."
   ]
  },
  {
   "cell_type": "code",
   "execution_count": 123,
   "id": "4f3cb70f-087e-44db-bcfa-1f24302071d2",
   "metadata": {
    "tags": []
   },
   "outputs": [
    {
     "name": "stdout",
     "output_type": "stream",
     "text": [
      "\n",
      "No save location provided.\n",
      "...Defaulting to ~/Mutual information saves/Pairs\n",
      "\n",
      "\n",
      "\n",
      "****************************************\n",
      "Calculating mutual information values...\n"
     ]
    },
    {
     "name": "stderr",
     "output_type": "stream",
     "text": [
      "100%|██████████| 10/10 [00:02<00:00,  4.74it/s]"
     ]
    },
    {
     "name": "stdout",
     "output_type": "stream",
     "text": [
      "...\n",
      "\n",
      "1 batch(es) of feature sets processed.\n",
      "10 / 10 feature sets dropped due to low entropy.\n",
      "****************************************\n"
     ]
    },
    {
     "name": "stderr",
     "output_type": "stream",
     "text": [
      "\n"
     ]
    }
   ],
   "source": [
    "featuresetmi(featureSet_array = my_featureSet_array,\n",
    "             casenessVector = caseness_array[['person_id','CMHD_rx_not_dx']],\n",
    "             m = m,\n",
    "             representation = 'multi',\n",
    "             source = 'literature')"
   ]
  },
  {
   "cell_type": "markdown",
   "id": "0166c3b1-431a-4456-a065-535f8ffe5e6f",
   "metadata": {},
   "source": [
    "#### 2.4. No caseness (i.e. control group)"
   ]
  },
  {
   "cell_type": "markdown",
   "id": "1b0b6eae-ebf2-4f47-814e-bd3bc34a2220",
   "metadata": {},
   "source": [
    "##### 2.4.1. ALL representation."
   ]
  },
  {
   "cell_type": "code",
   "execution_count": 124,
   "id": "9f3ebbec-7783-4919-9c90-28183fdc1c65",
   "metadata": {
    "tags": []
   },
   "outputs": [
    {
     "name": "stdout",
     "output_type": "stream",
     "text": [
      "\n",
      "No save location provided.\n",
      "...Defaulting to ~/Mutual information saves/Pairs\n",
      "\n",
      "\n",
      "\n",
      "****************************************\n",
      "Calculating mutual information values...\n"
     ]
    },
    {
     "name": "stderr",
     "output_type": "stream",
     "text": [
      "100%|██████████| 10/10 [00:01<00:00,  7.86it/s]"
     ]
    },
    {
     "name": "stdout",
     "output_type": "stream",
     "text": [
      "...\n",
      "\n",
      "1 batch(es) of feature sets processed.\n",
      "10 / 10 feature sets dropped due to low entropy.\n",
      "****************************************\n"
     ]
    },
    {
     "name": "stderr",
     "output_type": "stream",
     "text": [
      "\n"
     ]
    }
   ],
   "source": [
    "featuresetmi(featureSet_array = my_featureSet_array,\n",
    "             casenessVector = caseness_array[['person_id','CMHD_control']],\n",
    "             m = m,\n",
    "             representation = 'all',\n",
    "             source = 'literature')"
   ]
  },
  {
   "cell_type": "markdown",
   "id": "1e25e070-d808-4231-ae69-675b0e215266",
   "metadata": {},
   "source": [
    "##### 2.4.2. MULTI representation."
   ]
  },
  {
   "cell_type": "code",
   "execution_count": 125,
   "id": "9f0cf584-61ea-42d9-86c5-fb7f98c75f84",
   "metadata": {
    "tags": []
   },
   "outputs": [
    {
     "name": "stdout",
     "output_type": "stream",
     "text": [
      "\n",
      "No save location provided.\n",
      "...Defaulting to ~/Mutual information saves/Pairs\n",
      "\n",
      "\n",
      "\n",
      "****************************************\n",
      "Calculating mutual information values...\n"
     ]
    },
    {
     "name": "stderr",
     "output_type": "stream",
     "text": [
      "100%|██████████| 10/10 [00:02<00:00,  4.83it/s]"
     ]
    },
    {
     "name": "stdout",
     "output_type": "stream",
     "text": [
      "...\n",
      "\n",
      "1 batch(es) of feature sets processed.\n",
      "10 / 10 feature sets dropped due to low entropy.\n",
      "****************************************\n"
     ]
    },
    {
     "name": "stderr",
     "output_type": "stream",
     "text": [
      "\n"
     ]
    }
   ],
   "source": [
    "featuresetmi(featureSet_array = my_featureSet_array,\n",
    "             casenessVector = caseness_array[['person_id','CMHD_control']],\n",
    "             m = m,\n",
    "             representation = 'multi',\n",
    "             source = 'literature')"
   ]
  },
  {
   "cell_type": "markdown",
   "id": "c7bc2c12-bc95-4c4a-ae84-82ef4ddc87cc",
   "metadata": {
    "tags": []
   },
   "source": [
    "### 3. Mutual information of triplet-composite feature sets and the caseness variables."
   ]
  },
  {
   "cell_type": "code",
   "execution_count": 126,
   "id": "88ce171c-4be8-44e5-ba00-5fafccf184d2",
   "metadata": {
    "tags": []
   },
   "outputs": [],
   "source": [
    "# Set the order of the composite: 1 = individual, 2 = pair, 3 = triplet.\n",
    "m = 3"
   ]
  },
  {
   "cell_type": "markdown",
   "id": "b3f651a4-b14a-4cb9-95d6-0cac87c2b9ca",
   "metadata": {},
   "source": [
    "#### 3.1. Multinomial caseness"
   ]
  },
  {
   "cell_type": "markdown",
   "id": "dfed5c9c-a5fd-4a40-9e82-adb0302dfdbe",
   "metadata": {},
   "source": [
    "##### 3.1.1. ALL representation."
   ]
  },
  {
   "cell_type": "code",
   "execution_count": 127,
   "id": "77517bcb-b25f-459e-a918-76ddd570e0df",
   "metadata": {
    "tags": []
   },
   "outputs": [
    {
     "name": "stdout",
     "output_type": "stream",
     "text": [
      "\n",
      "No save location provided.\n",
      "...Defaulting to ~/Mutual information saves/Triplets\n",
      "\n",
      "\n",
      "\n",
      "****************************************\n",
      "Calculating mutual information values...\n"
     ]
    },
    {
     "name": "stderr",
     "output_type": "stream",
     "text": [
      "100%|██████████| 10/10 [00:01<00:00,  7.69it/s]"
     ]
    },
    {
     "name": "stdout",
     "output_type": "stream",
     "text": [
      "...\n",
      "\n",
      "1 batch(es) of feature sets processed.\n",
      "10 / 10 feature sets dropped due to low entropy.\n",
      "****************************************\n"
     ]
    },
    {
     "name": "stderr",
     "output_type": "stream",
     "text": [
      "\n"
     ]
    }
   ],
   "source": [
    "featuresetmi(featureSet_array = my_featureSet_array,\n",
    "             casenessVector = caseness_array[['person_id','CMHD']],\n",
    "             m = m,\n",
    "             representation = 'all',\n",
    "             source = 'literature')"
   ]
  },
  {
   "cell_type": "markdown",
   "id": "73780878-f444-4775-9eeb-a094bf7469df",
   "metadata": {},
   "source": [
    "##### 3.1.2. MULTI representation."
   ]
  },
  {
   "cell_type": "code",
   "execution_count": 128,
   "id": "39644a80-9dca-44cc-b2e2-1f659ba4d2fb",
   "metadata": {
    "tags": []
   },
   "outputs": [
    {
     "name": "stdout",
     "output_type": "stream",
     "text": [
      "\n",
      "No save location provided.\n",
      "...Defaulting to ~/Mutual information saves/Triplets\n",
      "\n",
      "\n",
      "\n",
      "****************************************\n",
      "Calculating mutual information values...\n"
     ]
    },
    {
     "name": "stderr",
     "output_type": "stream",
     "text": [
      "100%|██████████| 10/10 [00:02<00:00,  4.25it/s]"
     ]
    },
    {
     "name": "stdout",
     "output_type": "stream",
     "text": [
      "...\n",
      "\n",
      "1 batch(es) of feature sets processed.\n",
      "10 / 10 feature sets dropped due to low entropy.\n",
      "****************************************\n"
     ]
    },
    {
     "name": "stderr",
     "output_type": "stream",
     "text": [
      "\n"
     ]
    }
   ],
   "source": [
    "featuresetmi(featureSet_array = my_featureSet_array,\n",
    "             casenessVector = caseness_array[['person_id','CMHD']],\n",
    "             m = m,\n",
    "             representation = 'multi',\n",
    "             source = 'literature')"
   ]
  },
  {
   "cell_type": "markdown",
   "id": "ccb1931d-8f35-44eb-b340-dcc846bdfcaa",
   "metadata": {},
   "source": [
    "#### 3.2. Definitive caseness"
   ]
  },
  {
   "cell_type": "markdown",
   "id": "42e42636-2576-47fd-b4f7-9c09f24c9b8a",
   "metadata": {},
   "source": [
    "##### 3.2.1. ALL representation."
   ]
  },
  {
   "cell_type": "code",
   "execution_count": 129,
   "id": "400e8e14-38cf-4592-a3f3-81cb73b1ab5a",
   "metadata": {
    "tags": []
   },
   "outputs": [
    {
     "name": "stdout",
     "output_type": "stream",
     "text": [
      "\n",
      "No save location provided.\n",
      "...Defaulting to ~/Mutual information saves/Triplets\n",
      "\n",
      "\n",
      "\n",
      "****************************************\n",
      "Calculating mutual information values...\n"
     ]
    },
    {
     "name": "stderr",
     "output_type": "stream",
     "text": [
      "100%|██████████| 10/10 [00:01<00:00,  7.71it/s]"
     ]
    },
    {
     "name": "stdout",
     "output_type": "stream",
     "text": [
      "...\n",
      "\n",
      "1 batch(es) of feature sets processed.\n",
      "10 / 10 feature sets dropped due to low entropy.\n",
      "****************************************\n"
     ]
    },
    {
     "name": "stderr",
     "output_type": "stream",
     "text": [
      "\n"
     ]
    }
   ],
   "source": [
    "featuresetmi(featureSet_array = my_featureSet_array,\n",
    "             casenessVector = caseness_array[['person_id','CMHD_dx_and_rx']],\n",
    "             m = m,\n",
    "             representation = 'all',\n",
    "             source = 'literature')"
   ]
  },
  {
   "cell_type": "markdown",
   "id": "a251c37c-1762-4634-a90f-d49d697b65ac",
   "metadata": {},
   "source": [
    "##### 3.2.2. MULTI representation."
   ]
  },
  {
   "cell_type": "code",
   "execution_count": 130,
   "id": "8cbea023-44cc-421b-9bd9-78cfc52eb1ab",
   "metadata": {
    "tags": []
   },
   "outputs": [
    {
     "name": "stdout",
     "output_type": "stream",
     "text": [
      "\n",
      "No save location provided.\n",
      "...Defaulting to ~/Mutual information saves/Triplets\n",
      "\n",
      "\n",
      "\n",
      "****************************************\n",
      "Calculating mutual information values...\n"
     ]
    },
    {
     "name": "stderr",
     "output_type": "stream",
     "text": [
      "100%|██████████| 10/10 [00:02<00:00,  4.31it/s]"
     ]
    },
    {
     "name": "stdout",
     "output_type": "stream",
     "text": [
      "/home/jupyter/UNSEEN/c-mcinerney-workspaceMutual information saves/Triplets\n",
      "...\n",
      "\n",
      "1 batch(es) of feature sets processed.\n",
      "4 / 10 feature sets dropped due to low entropy.\n",
      "****************************************\n"
     ]
    },
    {
     "name": "stderr",
     "output_type": "stream",
     "text": [
      "\n"
     ]
    }
   ],
   "source": [
    "featuresetmi(featureSet_array = my_featureSet_array,\n",
    "             casenessVector = caseness_array[['person_id','CMHD_dx_and_rx']],\n",
    "             m = m,\n",
    "             representation = 'multi',\n",
    "             source = 'literature')"
   ]
  },
  {
   "cell_type": "markdown",
   "id": "e58104a9-16c1-4c65-854c-9a43c208d694",
   "metadata": {},
   "source": [
    "#### 3.3. Possible caseness"
   ]
  },
  {
   "cell_type": "markdown",
   "id": "d84602f3-4ab1-463f-bee8-9b7d56c8205a",
   "metadata": {},
   "source": [
    "##### 3.3.1. ALL representation."
   ]
  },
  {
   "cell_type": "code",
   "execution_count": 131,
   "id": "b7b6f74d-9bcb-4b5b-8e5a-979caa6e8097",
   "metadata": {
    "tags": []
   },
   "outputs": [
    {
     "name": "stdout",
     "output_type": "stream",
     "text": [
      "\n",
      "No save location provided.\n",
      "...Defaulting to ~/Mutual information saves/Triplets\n",
      "\n",
      "\n",
      "\n",
      "****************************************\n",
      "Calculating mutual information values...\n"
     ]
    },
    {
     "name": "stderr",
     "output_type": "stream",
     "text": [
      "100%|██████████| 10/10 [00:01<00:00,  7.71it/s]"
     ]
    },
    {
     "name": "stdout",
     "output_type": "stream",
     "text": [
      "...\n",
      "\n",
      "1 batch(es) of feature sets processed.\n",
      "10 / 10 feature sets dropped due to low entropy.\n",
      "****************************************\n"
     ]
    },
    {
     "name": "stderr",
     "output_type": "stream",
     "text": [
      "\n"
     ]
    }
   ],
   "source": [
    "featuresetmi(featureSet_array = my_featureSet_array,\n",
    "             casenessVector = caseness_array[['person_id','CMHD_rx_not_dx']],\n",
    "             m = m,\n",
    "             representation = 'all',\n",
    "             source = 'literature')"
   ]
  },
  {
   "cell_type": "markdown",
   "id": "ce56d7ed-679d-41dd-8dd7-41057ef4b948",
   "metadata": {},
   "source": [
    "##### 3.3.2. MULTI representation."
   ]
  },
  {
   "cell_type": "code",
   "execution_count": 132,
   "id": "ff976624-b018-4987-b638-b17308f1fea1",
   "metadata": {
    "tags": []
   },
   "outputs": [
    {
     "name": "stdout",
     "output_type": "stream",
     "text": [
      "\n",
      "No save location provided.\n",
      "...Defaulting to ~/Mutual information saves/Triplets\n",
      "\n",
      "\n",
      "\n",
      "****************************************\n",
      "Calculating mutual information values...\n"
     ]
    },
    {
     "name": "stderr",
     "output_type": "stream",
     "text": [
      "100%|██████████| 10/10 [00:02<00:00,  4.08it/s]"
     ]
    },
    {
     "name": "stdout",
     "output_type": "stream",
     "text": [
      "...\n",
      "\n",
      "1 batch(es) of feature sets processed.\n",
      "10 / 10 feature sets dropped due to low entropy.\n",
      "****************************************\n"
     ]
    },
    {
     "name": "stderr",
     "output_type": "stream",
     "text": [
      "\n"
     ]
    }
   ],
   "source": [
    "featuresetmi(featureSet_array = my_featureSet_array,\n",
    "             casenessVector = caseness_array[['person_id','CMHD_rx_not_dx']],\n",
    "             m = m,\n",
    "             representation = 'multi',\n",
    "             source = 'literature')"
   ]
  },
  {
   "cell_type": "markdown",
   "id": "cc8f9d45-fea7-4bcf-b333-e260adce6ea4",
   "metadata": {},
   "source": [
    "#### 3.4. No caseness (i.e. control group)"
   ]
  },
  {
   "cell_type": "markdown",
   "id": "0b86b08b-bced-430b-935a-d99515ef431c",
   "metadata": {},
   "source": [
    "##### 3.4.1. ALL representation."
   ]
  },
  {
   "cell_type": "code",
   "execution_count": 133,
   "id": "a1fad7cb-ae2a-4e82-b2de-8a172a17cada",
   "metadata": {
    "tags": []
   },
   "outputs": [
    {
     "name": "stdout",
     "output_type": "stream",
     "text": [
      "\n",
      "No save location provided.\n",
      "...Defaulting to ~/Mutual information saves/Triplets\n",
      "\n",
      "\n",
      "\n",
      "****************************************\n",
      "Calculating mutual information values...\n"
     ]
    },
    {
     "name": "stderr",
     "output_type": "stream",
     "text": [
      "100%|██████████| 10/10 [00:01<00:00,  5.41it/s]"
     ]
    },
    {
     "name": "stdout",
     "output_type": "stream",
     "text": [
      "...\n",
      "\n",
      "1 batch(es) of feature sets processed.\n",
      "10 / 10 feature sets dropped due to low entropy.\n",
      "****************************************\n"
     ]
    },
    {
     "name": "stderr",
     "output_type": "stream",
     "text": [
      "\n"
     ]
    }
   ],
   "source": [
    "featuresetmi(featureSet_array = my_featureSet_array,\n",
    "             casenessVector = caseness_array[['person_id','CMHD_control']],\n",
    "             m = m,\n",
    "             representation = 'all',\n",
    "             source = 'literature')"
   ]
  },
  {
   "cell_type": "markdown",
   "id": "c3568511-13e8-4e15-b7e1-63c2cc28c244",
   "metadata": {},
   "source": [
    "##### 3.4.2. MULTI representation."
   ]
  },
  {
   "cell_type": "code",
   "execution_count": 134,
   "id": "b169c831-d77b-496d-9a7b-fcff70835b1a",
   "metadata": {
    "tags": []
   },
   "outputs": [
    {
     "name": "stdout",
     "output_type": "stream",
     "text": [
      "\n",
      "No save location provided.\n",
      "...Defaulting to ~/Mutual information saves/Triplets\n",
      "\n",
      "\n",
      "\n",
      "****************************************\n",
      "Calculating mutual information values...\n"
     ]
    },
    {
     "name": "stderr",
     "output_type": "stream",
     "text": [
      "100%|██████████| 10/10 [00:03<00:00,  3.15it/s]"
     ]
    },
    {
     "name": "stdout",
     "output_type": "stream",
     "text": [
      "...\n",
      "\n",
      "1 batch(es) of feature sets processed.\n",
      "10 / 10 feature sets dropped due to low entropy.\n",
      "****************************************\n"
     ]
    },
    {
     "name": "stderr",
     "output_type": "stream",
     "text": [
      "\n"
     ]
    }
   ],
   "source": [
    "featuresetmi(featureSet_array = my_featureSet_array,\n",
    "             casenessVector = caseness_array[['person_id','CMHD_control']],\n",
    "             m = m,\n",
    "             representation = 'multi',\n",
    "             source = 'literature')"
   ]
  }
 ],
 "metadata": {
  "environment": {
   "kernel": "python3",
   "name": "r-cpu.4-1.m95",
   "type": "gcloud",
   "uri": "gcr.io/deeplearning-platform-release/r-cpu.4-1:m95"
  },
  "kernelspec": {
   "display_name": "Python 3",
   "language": "python",
   "name": "python3"
  },
  "language_info": {
   "codemirror_mode": {
    "name": "ipython",
    "version": 3
   },
   "file_extension": ".py",
   "mimetype": "text/x-python",
   "name": "python",
   "nbconvert_exporter": "python",
   "pygments_lexer": "ipython3",
   "version": "3.7.12"
  }
 },
 "nbformat": 4,
 "nbformat_minor": 5
}
