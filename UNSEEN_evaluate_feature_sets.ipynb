{
 "cells": [
  {
   "cell_type": "markdown",
   "id": "2c117869-3004-4f7a-a0aa-2848bb353739",
   "metadata": {},
   "source": [
    "# Evaluating feature sets\n",
    "\n",
    "This notebook contains the subprotocol for evaluating feature sets that have already been filtered in previous stages of the overall protocol. The following are the expected outputs for each feature set, with respect to each of the 'active caseness', 'possible caseness', and 'no caseness' variables (18 in total):\n",
    "1. A contingency table.\n",
    "2. A prevalence value per 1,000.\n",
    "3. A [class balance accuracy value](http://search.proquest.com/docview/1500559170?accountid=37552).\n",
    "4. An odds ratio value.\n",
    "5. A positive predictive value.\n",
    "6. A negative predictive value.\n",
    "\n",
    "This notebook defines a function that accepts a feature set as an n-by-1 vector and a caseness variable as an n-by-1 vector, and computes the six outputs mentioned above.\n",
    "\n",
    "## What\n",
    "\n",
    "## How"
   ]
  },
  {
   "cell_type": "markdown",
   "id": "68b07795-5502-48b9-bffd-0d720f7f92ce",
   "metadata": {
    "tags": []
   },
   "source": [
    "## Define the function to compute the evaluation outputs."
   ]
  },
  {
   "cell_type": "code",
   "execution_count": 113,
   "id": "faf4ca0e-dc5c-4be4-9661-e478d50633c0",
   "metadata": {
    "jupyter": {
     "source_hidden": true
    },
    "tags": []
   },
   "outputs": [],
   "source": [
    "# Define function that will compute the evalaution outputs.\n",
    "# The function automatically saves the contingency table but \n",
    "# also returns it.\n",
    "def evaloutputs(vec_featureSet,\n",
    "                vec_caseness,\n",
    "                savelocation = None):\n",
    "    # ## Assess argument validty.\n",
    "    \n",
    "    # Check that both vectors are the same length.\n",
    "    if len(vec_featureSet) != len(vec_caseness):\n",
    "        print(\"\\n**\",\n",
    "              \"Feature-set and caseness vectors are of different lengths.\",\n",
    "             \"**\\n\")\n",
    "        return\n",
    "    \n",
    "    # Check and set save location.\n",
    "    if chk_savelocation == False:\n",
    "        # This ^^^ first check is to supress repeatedly telling the user\n",
    "        # that we've set the save location.\n",
    "        if savelocation == None:\n",
    "            savelocation = \"Evaluation/\"\n",
    "            print(\"\\nNo save location provided.\" +\n",
    "                  \"\\n...Defaulting to ~/\" + savelocation)\n",
    "            chk_savelocation = True\n",
    "        else:\n",
    "            print(\"\\nSave location is\" + savelocation)\n",
    "            chk_savelocation = True\n",
    "        \n",
    "        \n",
    "    \n",
    "    \n",
    "    # ## Contingency table.\n",
    "    # Make contingency table.\n",
    "    contingencyTable = \\\n",
    "        pandas.crosstab(\n",
    "            index = vec_featureSet,\n",
    "            columns = vec_caseness\n",
    "    )\n",
    "    # Save contingency table.\n",
    "    contingencyTable.to_csv(\n",
    "        savelocation + \\\n",
    "        \"ct__\" + \\\n",
    "        vec_featureSet.name + \"__\" + \\\n",
    "        vec_caseness.name + \"__\" + \\\n",
    "    \".csv\", index = False)\n",
    "    \n",
    "    # Extract components of contingency table\n",
    "    tn = contingencyTable.loc[0,0]\n",
    "    fn = contingencyTable.loc[0,1]\n",
    "    fp = contingencyTable.loc[1,0]\n",
    "    tp = contingencyTable.loc[1,1]\n",
    "    \n",
    "    # ## Compute outputs.\n",
    "    \n",
    "    # Prevalence value per 1,000.\n",
    "    #\n",
    "    # I use 1 minus the prevalence of zeros because that\n",
    "    # combines all the possibly-many values that indicate\n",
    "    # the presence of the feature set.\n",
    "    prevalence = \\\n",
    "        round(\n",
    "            1 - \\\n",
    "             sum(vec_featureSet == 0) / \\\n",
    "              len(vec_featureSet),\n",
    "        2)\n",
    "    \n",
    "    # Class balance accuracy.\n",
    "    cba = \\\n",
    "        round( 0.5 * \\\n",
    "              ( (tp / max( (tp + fn), (tp + fp) ) ) + \\\n",
    "               (tn / max( (tn + fp), (tn +fn) ) ) ), 2)\n",
    "    \n",
    "    # Odds ratio.\n",
    "    if min( (tp * tn) , (fp * fn) ) == 0:\n",
    "        oddsRatio = 'Not\\ a\\ number:\\ One\\ of\\ the\\ odds\\ is\\ zero.'\n",
    "    else:\n",
    "        oddsRatio = round( (tp * tn) / (fp * fn), 2)\n",
    "    \n",
    "    # Positive predictive value.\n",
    "    ppv = 0 if (tp + fp) == 0 else round( tp / (tp + fp), 2)\n",
    "    \n",
    "    # Negative predictive value.\n",
    "    npv = 0 if (tn + fn) == 0 else round( tn / (tn + fn), 2)\n",
    "    \n",
    "    \n",
    "    \n",
    "    return contingencyTable, prevalence, cba, oddsRatio, ppv, npv"
   ]
  },
  {
   "cell_type": "markdown",
   "id": "970c5f01-fab8-47d5-a53d-afc551be96c8",
   "metadata": {},
   "source": [
    "## Define function to iterate through the three caseness variables with a given feature set"
   ]
  },
  {
   "cell_type": "code",
   "execution_count": null,
   "id": "fafa7329-484e-4588-ad62-13ccb40977a5",
   "metadata": {
    "jupyter": {
     "source_hidden": true
    },
    "tags": []
   },
   "outputs": [],
   "source": [
    "# Define function to iterate through the three caseness variables with a given feature set.\n",
    "#\n",
    "# This function will be called by another, for each feature set.\n",
    "#\n",
    "\n",
    "def evaleachcaseness(vec_featureSet,\n",
    "                     vec_caseness,\n",
    "                     savelocation = None):\n",
    "    counter = 0\n",
    "    for vec_caseness in caseness_array[[\"CMHD_dx_and_rx\", \"CMHD_rx_not_dx\",\"CMHD_control\"]]:\n",
    "        contingencyTable,\n",
    "        prevalence[counter],\n",
    "        cba[counter],\n",
    "        oddsRatio[counter],\n",
    "        ppv[counter],\n",
    "        npv[counter] = \\\n",
    "            evaloutputs(vec_featureSet,\n",
    "                        vec_caseness,\n",
    "                        savelocation = None)\n",
    "        counter = counter + 1"
   ]
  }
 ],
 "metadata": {
  "environment": {
   "kernel": "python3",
   "name": "r-cpu.4-1.m95",
   "type": "gcloud",
   "uri": "gcr.io/deeplearning-platform-release/r-cpu.4-1:m95"
  },
  "kernelspec": {
   "display_name": "Python 3",
   "language": "python",
   "name": "python3"
  },
  "language_info": {
   "codemirror_mode": {
    "name": "ipython",
    "version": 3
   },
   "file_extension": ".py",
   "mimetype": "text/x-python",
   "name": "python",
   "nbconvert_exporter": "python",
   "pygments_lexer": "ipython3",
   "version": "3.7.12"
  }
 },
 "nbformat": 4,
 "nbformat_minor": 5
}
