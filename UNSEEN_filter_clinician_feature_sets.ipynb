{
 "cells": [
  {
   "cell_type": "markdown",
   "id": "1a794520-cc39-42d3-b040-3aeab1a3049f",
   "metadata": {},
   "source": [
    "# Filter clinician feature sets.\n",
    "\n",
    "Candidate feature sets inspired by a clinician review are filtered based on their entropy. Further details are in this notebook's parent notebook \"UNSEEN filter feature sets.ipynb\".\n",
    "\n",
    "## Imports"
   ]
  },
  {
   "cell_type": "code",
   "execution_count": 1,
   "id": "c626ecea-669d-47c9-a27a-432b9cb97756",
   "metadata": {},
   "outputs": [],
   "source": [
    "import os\n",
    "import itertools\n",
    "import sklearn.metrics"
   ]
  },
  {
   "cell_type": "markdown",
   "id": "6a5537a2-677f-4af8-9691-a51e302d8e99",
   "metadata": {},
   "source": [
    "## Define functions is needed"
   ]
  },
  {
   "cell_type": "code",
   "execution_count": 2,
   "id": "156a6d7d-b942-4055-b419-806961699116",
   "metadata": {
    "jupyter": {
     "source_hidden": true
    },
    "tags": []
   },
   "outputs": [],
   "source": [
    "if \"mutlinomRepresentation\" not in dir(os):\n",
    "    # Define function that will calculate the multinomial\n",
    "    # representation of a feature set.\n",
    "    #\n",
    "    # The function takes an n-by-m array of n patients and m features\n",
    "    # and produces an n-by-1 array indicating the multinomial category\n",
    "    # to which each patient record belongs.\n",
    "    def mutlinomRepresentation(var_vals):\n",
    "        # Check that the variables have two or fewer values and\n",
    "        # only progress if True.\n",
    "        for i_col in range(var_vals.shape[1]-1):\n",
    "            unique_feature_vals = var_vals.iloc[:, i_col].drop_duplicates()\n",
    "            if (len(unique_feature_vals) > 2):\n",
    "                print(\"\\n** Error: At least one of the\",\n",
    "                      \"component features has more than\",\n",
    "                      \"two values so the multinomial\",\n",
    "                      \"representation will not be computed.**\\n\")\n",
    "                print(i_col, \"th variable:\", var_vals.columns.values[i_col])\n",
    "                unique_feature_vals\n",
    "                next_iter = True\n",
    "                return 0, next_iter\n",
    "\n",
    "        # Get all combinations of values of the component features\n",
    "        # and define feature set values for each multinomial combination.\n",
    "        feature_combins = var_vals.drop_duplicates()\n",
    "        feature_combins =\\\n",
    "            pandas.DataFrame(data = feature_combins, columns = var_vals.columns)\\\n",
    "            .reset_index()\\\n",
    "            .drop(['index'], axis = 1)\n",
    "        feature_combins['multinom_vals'] = feature_combins.index\n",
    "\n",
    "\n",
    "        # Define a vector indicating the feature set value.\n",
    "        myMerge =\\\n",
    "            pandas.merge(\n",
    "                var_vals,\n",
    "                feature_combins,\n",
    "                how = 'left',\n",
    "                on = list(var_vals.columns.values)\n",
    "        )\n",
    "\n",
    "        # Extract multinomial representation as output variable.\n",
    "        featureSet = myMerge['multinom_vals']\n",
    "        next_iter = False\n",
    "        return featureSet, next_iter"
   ]
  },
  {
   "cell_type": "code",
   "execution_count": 3,
   "id": "f7f11be9-a53c-4d67-87fe-f969d9753efd",
   "metadata": {
    "jupyter": {
     "source_hidden": true
    },
    "tags": []
   },
   "outputs": [],
   "source": [
    "if \"featuresetmi\" not in dir(os):\n",
    "    # Define function that will calculate two-way mutual\n",
    "    # information for the features of order m.\n",
    "    def featuresetmi(featureSet_array,\n",
    "                     casenessVector,\n",
    "                     m = None,\n",
    "                     savelocation = None,\n",
    "                     representation = None):\n",
    "        # ## Assess argument validty.\n",
    "\n",
    "        # Check order of feature set. If not provided,\n",
    "        # default to m = 1.    \n",
    "        if m == None:\n",
    "            order_int = 1\n",
    "            order_label = \"Individuals\"\n",
    "            print(\"\\nNo value for m provided.\" +\n",
    "                  \"\\n...Default value of m = 1 will be used.\")\n",
    "        elif m == 1:\n",
    "            order_int = m\n",
    "            order_label = \"Individuals\"\n",
    "        elif m == 2:\n",
    "            order_int = m\n",
    "            order_label = \"Pairs\"\n",
    "        elif m == 3:\n",
    "            order_int = m\n",
    "            order_label = \"Triplets\"\n",
    "        else:\n",
    "            print(\"\\n** Error: Integer value between 1\",\n",
    "                  \"and 3 not supplied for m.**\\n\")\n",
    "            return\n",
    "\n",
    "        # Check and set save location.\n",
    "        if savelocation == None:\n",
    "            savelocation = \\\n",
    "               (\"Mutual information saves/\"+\\\n",
    "                order_label)\n",
    "            print(\"\\nNo save location provided.\" +\n",
    "                  \"\\n...Defaulting to ~/\" + savelocation)    \n",
    "\n",
    "        # ## Check encoding. If not provided, \n",
    "        # ## default to OR encoding.\n",
    "        if representation == None:\n",
    "            representation_label = \"ALLrepresentation\"\n",
    "            print(\"\\nNo representation provided.\" +\n",
    "                  \"\\n...Defaulting to '\" + representation_label + \"' representation.\")\n",
    "        elif representation == \"all\":\n",
    "            representation_label = \"ALLrepresentation\"\n",
    "        elif representation == \"multi\":\n",
    "            representation_label = \"MULTIrepresentation\"\n",
    "        else:\n",
    "            print(\"\\n** Error: Representation value from \",\n",
    "                  \"{'or', 'and', 'multi'} not provided.**\\n\")\n",
    "            return\n",
    "\n",
    "        print(\"\\n\\n\\n****************************************\")  \n",
    "        print(\"Calculating mutual information values...\")\n",
    "        # Define the m-way tuples of features sets as a numpy array. We will loop\n",
    "        # through the rows of this array to create the feature sets.\n",
    "        combins = \\\n",
    "            numpy.asarray(\n",
    "                list(\n",
    "                    itertools.combinations(\n",
    "                        featureSet_array.columns[featureSet_array.columns != 'person_id'],\n",
    "                        order_int)\n",
    "                    )\n",
    "                )\n",
    "\n",
    "        # Ensure feature-set and casenesss values are matched for person_id.\n",
    "        full_array = featureSet_array.merge(casenessVector, on = 'person_id')\n",
    "\n",
    "        # Instantiate specific storage for mutual information.\n",
    "        featureSet_MI = \\\n",
    "            pandas.DataFrame(columns = ['Feature set', 'Mutual information'])\n",
    "\n",
    "        # Instantiate batch number.\n",
    "        batch = 0\n",
    "\n",
    "        # Instantiate tally of feature sets that are dropped due to low entropy.\n",
    "        drop_tally = 0\n",
    "\n",
    "        # Define entropy of the particular caseness variable.\n",
    "        entropy_caseness = \\\n",
    "            scipy.stats.entropy(casenessVector.iloc[:,-1].value_counts(),\n",
    "                                base = math.e)\n",
    "\n",
    "        # ## loop through the feature sets.\n",
    "        for i_fs in range(len(combins)):\n",
    "\n",
    "            # Define a vector indicating the feature set value.\n",
    "            var_vals = full_array[combins[i_fs]]\n",
    "            if representation_label == \"ALLrepresentation\":\n",
    "                fs_val = var_vals.all(True)\n",
    "            elif representation_label == \"MULTIrepresentation\":\n",
    "                fs_val, next_iter = mutlinomRepresentation(var_vals)\n",
    "                if next_iter:\n",
    "                    continue\n",
    "\n",
    "\n",
    "            # Calculate the mutual information between the feature set and\n",
    "            # caseness variable.\n",
    "            f_MI = sklearn.metrics.mutual_info_score(fs_val, full_array.iloc[:,-1])\n",
    "\n",
    "            if f_MI < entropy_caseness:\n",
    "                drop_tally += 1\n",
    "                continue\n",
    "            else:\n",
    "                # Name the feature set.\n",
    "                # ...\n",
    "                # Store the name and mutual information value.\n",
    "                featureSet_MI.loc[len(featureSet_MI)] = name_var, f_MI\n",
    "\n",
    "            if len(featureSet_MI) > 9:\n",
    "                    # Increment batch.\n",
    "                    batch += 1\n",
    "\n",
    "                    # Make an interim save of results.\n",
    "                    featureSet_MI.to_csv(savelocation +\n",
    "                                      order_label + \"_\" +\n",
    "                                      representation_label + \"_\" +\n",
    "                                      \"_batch\" + \\\n",
    "                                      str(batch) + \\\n",
    "                                      \".csv\", index = False)\n",
    "                    # Instantiate new storage.\n",
    "                    featureSet_MI = \\\n",
    "                        pandas.DataFrame(columns = ['Feature set', 'Mutual information'])\n",
    "\n",
    "\n",
    "        # Increment counter.\n",
    "        batch += 1\n",
    "\n",
    "        # Final save.\n",
    "        if len(featureSet_MI) != 0:\n",
    "            featureSet_MI.to_csv(savelocation +\n",
    "                              order_label + \"_\" +\n",
    "                              representation_label + \"_\" +\n",
    "                              \"_batch\" + \\\n",
    "                              str(batch) + \\\n",
    "                              \".csv\", index = False)\n",
    "\n",
    "        # Feedback messages.\n",
    "        print(\"...\\n\")\n",
    "        print(str(batch), \"batch(es) of feature sets processed.\")\n",
    "        print(str(drop_tally), \"/\",\n",
    "              str(len(combins)),\n",
    "              \"feature sets dropped due to low entropy.\")\n",
    "        print(\"****************************************\")  "
   ]
  },
  {
   "cell_type": "markdown",
   "id": "eb22bd79-604f-4d88-a8d2-5aa57073e2d9",
   "metadata": {
    "tags": []
   },
   "source": [
    "## Load clinician feature-set array\n",
    "\n",
    "Here, we run the notebook that creates the clinician feature-set array. We will then save the feature-set array as \"my_featureSet_array\", so that the remaining syntax in this notebook is common for all feature-set sources.\n",
    "\n",
    "\n",
    "It is assumed that the caseness variables have already been created in the parent notebook."
   ]
  },
  {
   "cell_type": "code",
   "execution_count": 4,
   "id": "7be5bb17-1f3c-4b07-aa36-8d4138f2d1ed",
   "metadata": {
    "tags": []
   },
   "outputs": [],
   "source": [
    "%%capture\n",
    "%run ./\"UNSEEN_create_clinician_feature_sets.ipynb\"\n",
    "my_featureSet_array = fs_clinician"
   ]
  },
  {
   "cell_type": "code",
   "execution_count": 7,
   "id": "98a63e12-8b98-487d-ba77-96143a738c3e",
   "metadata": {},
   "outputs": [
    {
     "data": {
      "text/html": [
       "<div>\n",
       "<style scoped>\n",
       "    .dataframe tbody tr th:only-of-type {\n",
       "        vertical-align: middle;\n",
       "    }\n",
       "\n",
       "    .dataframe tbody tr th {\n",
       "        vertical-align: top;\n",
       "    }\n",
       "\n",
       "    .dataframe thead th {\n",
       "        text-align: right;\n",
       "    }\n",
       "</style>\n",
       "<table border=\"1\" class=\"dataframe\">\n",
       "  <thead>\n",
       "    <tr style=\"text-align: right;\">\n",
       "      <th></th>\n",
       "      <th>person_id</th>\n",
       "      <th>UPSI</th>\n",
       "      <th>UPSICYP</th>\n",
       "      <th>teenagePregnancy</th>\n",
       "      <th>attemptedSuicide</th>\n",
       "      <th>attemptedSuicideCYP</th>\n",
       "      <th>selfHarm</th>\n",
       "      <th>selfHarmCYP</th>\n",
       "      <th>CAMHSrefsAndDisch</th>\n",
       "      <th>IAPTrevolvingDoor</th>\n",
       "      <th>...</th>\n",
       "      <th>CYPmentalHealthConcern</th>\n",
       "      <th>FamilyConcerns</th>\n",
       "      <th>AdulthoodConcerns</th>\n",
       "      <th>AccessToHealthcare</th>\n",
       "      <th>Meds_PsychosisAndRelated</th>\n",
       "      <th>Meds_hypnoticsAndAnxiolytics</th>\n",
       "      <th>annualCountOfUniqueAntidepressants</th>\n",
       "      <th>newAntidepressentThreeMonths</th>\n",
       "      <th>MentalHealthTreatments</th>\n",
       "      <th>RecurringMentalSymptoms</th>\n",
       "    </tr>\n",
       "  </thead>\n",
       "  <tbody>\n",
       "    <tr>\n",
       "      <th>0</th>\n",
       "      <td>5</td>\n",
       "      <td>0</td>\n",
       "      <td>0</td>\n",
       "      <td>0</td>\n",
       "      <td>0</td>\n",
       "      <td>0</td>\n",
       "      <td>0</td>\n",
       "      <td>0</td>\n",
       "      <td>0</td>\n",
       "      <td>0</td>\n",
       "      <td>...</td>\n",
       "      <td>False</td>\n",
       "      <td>False</td>\n",
       "      <td>False</td>\n",
       "      <td>False</td>\n",
       "      <td>0</td>\n",
       "      <td>0</td>\n",
       "      <td>NaN</td>\n",
       "      <td>0</td>\n",
       "      <td>False</td>\n",
       "      <td>False</td>\n",
       "    </tr>\n",
       "    <tr>\n",
       "      <th>1</th>\n",
       "      <td>6</td>\n",
       "      <td>0</td>\n",
       "      <td>0</td>\n",
       "      <td>0</td>\n",
       "      <td>0</td>\n",
       "      <td>0</td>\n",
       "      <td>0</td>\n",
       "      <td>0</td>\n",
       "      <td>0</td>\n",
       "      <td>0</td>\n",
       "      <td>...</td>\n",
       "      <td>False</td>\n",
       "      <td>False</td>\n",
       "      <td>False</td>\n",
       "      <td>False</td>\n",
       "      <td>0</td>\n",
       "      <td>0</td>\n",
       "      <td>NaN</td>\n",
       "      <td>0</td>\n",
       "      <td>False</td>\n",
       "      <td>False</td>\n",
       "    </tr>\n",
       "    <tr>\n",
       "      <th>2</th>\n",
       "      <td>29</td>\n",
       "      <td>0</td>\n",
       "      <td>0</td>\n",
       "      <td>0</td>\n",
       "      <td>0</td>\n",
       "      <td>0</td>\n",
       "      <td>0</td>\n",
       "      <td>0</td>\n",
       "      <td>0</td>\n",
       "      <td>0</td>\n",
       "      <td>...</td>\n",
       "      <td>False</td>\n",
       "      <td>False</td>\n",
       "      <td>False</td>\n",
       "      <td>False</td>\n",
       "      <td>0</td>\n",
       "      <td>0</td>\n",
       "      <td>NaN</td>\n",
       "      <td>0</td>\n",
       "      <td>False</td>\n",
       "      <td>False</td>\n",
       "    </tr>\n",
       "    <tr>\n",
       "      <th>3</th>\n",
       "      <td>33</td>\n",
       "      <td>0</td>\n",
       "      <td>0</td>\n",
       "      <td>0</td>\n",
       "      <td>0</td>\n",
       "      <td>0</td>\n",
       "      <td>0</td>\n",
       "      <td>0</td>\n",
       "      <td>0</td>\n",
       "      <td>0</td>\n",
       "      <td>...</td>\n",
       "      <td>False</td>\n",
       "      <td>False</td>\n",
       "      <td>False</td>\n",
       "      <td>False</td>\n",
       "      <td>0</td>\n",
       "      <td>0</td>\n",
       "      <td>NaN</td>\n",
       "      <td>0</td>\n",
       "      <td>False</td>\n",
       "      <td>False</td>\n",
       "    </tr>\n",
       "    <tr>\n",
       "      <th>4</th>\n",
       "      <td>39</td>\n",
       "      <td>0</td>\n",
       "      <td>0</td>\n",
       "      <td>1</td>\n",
       "      <td>0</td>\n",
       "      <td>0</td>\n",
       "      <td>0</td>\n",
       "      <td>0</td>\n",
       "      <td>0</td>\n",
       "      <td>0</td>\n",
       "      <td>...</td>\n",
       "      <td>False</td>\n",
       "      <td>False</td>\n",
       "      <td>False</td>\n",
       "      <td>False</td>\n",
       "      <td>0</td>\n",
       "      <td>0</td>\n",
       "      <td>NaN</td>\n",
       "      <td>0</td>\n",
       "      <td>False</td>\n",
       "      <td>False</td>\n",
       "    </tr>\n",
       "  </tbody>\n",
       "</table>\n",
       "<p>5 rows × 47 columns</p>\n",
       "</div>"
      ],
      "text/plain": [
       "   person_id  UPSI  UPSICYP  teenagePregnancy  attemptedSuicide  \\\n",
       "0          5     0        0                 0                 0   \n",
       "1          6     0        0                 0                 0   \n",
       "2         29     0        0                 0                 0   \n",
       "3         33     0        0                 0                 0   \n",
       "4         39     0        0                 1                 0   \n",
       "\n",
       "   attemptedSuicideCYP  selfHarm  selfHarmCYP  CAMHSrefsAndDisch  \\\n",
       "0                    0         0            0                  0   \n",
       "1                    0         0            0                  0   \n",
       "2                    0         0            0                  0   \n",
       "3                    0         0            0                  0   \n",
       "4                    0         0            0                  0   \n",
       "\n",
       "   IAPTrevolvingDoor  ...  CYPmentalHealthConcern  FamilyConcerns  \\\n",
       "0                  0  ...                   False           False   \n",
       "1                  0  ...                   False           False   \n",
       "2                  0  ...                   False           False   \n",
       "3                  0  ...                   False           False   \n",
       "4                  0  ...                   False           False   \n",
       "\n",
       "   AdulthoodConcerns  AccessToHealthcare  Meds_PsychosisAndRelated  \\\n",
       "0              False               False                         0   \n",
       "1              False               False                         0   \n",
       "2              False               False                         0   \n",
       "3              False               False                         0   \n",
       "4              False               False                         0   \n",
       "\n",
       "   Meds_hypnoticsAndAnxiolytics  annualCountOfUniqueAntidepressants  \\\n",
       "0                             0                                 NaN   \n",
       "1                             0                                 NaN   \n",
       "2                             0                                 NaN   \n",
       "3                             0                                 NaN   \n",
       "4                             0                                 NaN   \n",
       "\n",
       "   newAntidepressentThreeMonths  MentalHealthTreatments  \\\n",
       "0                             0                   False   \n",
       "1                             0                   False   \n",
       "2                             0                   False   \n",
       "3                             0                   False   \n",
       "4                             0                   False   \n",
       "\n",
       "   RecurringMentalSymptoms  \n",
       "0                    False  \n",
       "1                    False  \n",
       "2                    False  \n",
       "3                    False  \n",
       "4                    False  \n",
       "\n",
       "[5 rows x 47 columns]"
      ]
     },
     "execution_count": 7,
     "metadata": {},
     "output_type": "execute_result"
    }
   ],
   "source": [
    "#my_featureSet_array.head()"
   ]
  },
  {
   "cell_type": "markdown",
   "id": "7016d268-ee44-45ea-9d18-73c6a23c989a",
   "metadata": {
    "tags": []
   },
   "source": [
    "## Filter feature sets."
   ]
  },
  {
   "cell_type": "markdown",
   "id": "91084bca-e139-417a-8667-9c9db014bd54",
   "metadata": {},
   "source": [
    "### 1. Mutual information of individual feature sets and the caseness variables."
   ]
  },
  {
   "cell_type": "code",
   "execution_count": 8,
   "id": "bed25afd-cad7-41de-8a57-628ef7d1a5f3",
   "metadata": {
    "tags": []
   },
   "outputs": [],
   "source": [
    "# Set the order of the composite: 1 = individual, 2 = pair, 3 = triplet.\n",
    "m = 1"
   ]
  },
  {
   "cell_type": "markdown",
   "id": "8aa6dc72-56d9-4bf9-9fb2-936000c95f6d",
   "metadata": {},
   "source": [
    "#### 1.1. Multinomial caseness"
   ]
  },
  {
   "cell_type": "markdown",
   "id": "f6b43fe8-0e68-4bad-8ca3-fd5bdc6bf87a",
   "metadata": {},
   "source": [
    "##### 1.1.1. ALL representation."
   ]
  },
  {
   "cell_type": "code",
   "execution_count": 9,
   "id": "2ae24a5a-5d11-4019-a4b9-98ca33460d17",
   "metadata": {
    "tags": []
   },
   "outputs": [
    {
     "name": "stdout",
     "output_type": "stream",
     "text": [
      "\n",
      "No save location provided.\n",
      "...Defaulting to ~/Mutual information saves/Individuals\n",
      "\n",
      "\n",
      "\n",
      "****************************************\n",
      "Calculating mutual information values...\n",
      "...\n",
      "\n",
      "1 batch(es) of feature sets processed.\n",
      "46 / 46 feature sets dropped due to low entropy.\n",
      "****************************************\n"
     ]
    }
   ],
   "source": [
    "featuresetmi(featureSet_array = my_featureSet_array,\n",
    "             casenessVector = caseness_array[['person_id','CMHD']],\n",
    "             m = m,\n",
    "             representation = \"all\")"
   ]
  },
  {
   "cell_type": "markdown",
   "id": "cb7bfb0d-0900-4c88-a69a-78bb48a131a9",
   "metadata": {},
   "source": [
    "##### 1.1.2. MULTI representation."
   ]
  },
  {
   "cell_type": "code",
   "execution_count": null,
   "id": "e68a5997-0c4d-4c79-9b20-7e7b50ef9829",
   "metadata": {
    "tags": []
   },
   "outputs": [
    {
     "name": "stdout",
     "output_type": "stream",
     "text": [
      "\n",
      "No save location provided.\n",
      "...Defaulting to ~/Mutual information saves/Triplets\n",
      "\n",
      "\n",
      "\n",
      "****************************************\n",
      "Calculating mutual information values...\n",
      "\n",
      "** Error: At least one of the component features has more than two values so the multinomial representation will not be computed.**\n",
      "\n",
      "1 th variable: annualCountOfUniqueAntidepressants\n",
      "\n",
      "** Error: At least one of the component features has more than two values so the multinomial representation will not be computed.**\n",
      "\n",
      "1 th variable: annualCountOfUniqueAntidepressants\n",
      "\n",
      "** Error: At least one of the component features has more than two values so the multinomial representation will not be computed.**\n",
      "\n",
      "1 th variable: annualCountOfUniqueAntidepressants\n",
      "\n",
      "** Error: At least one of the component features has more than two values so the multinomial representation will not be computed.**\n",
      "\n",
      "1 th variable: annualCountOfUniqueAntidepressants\n",
      "\n",
      "** Error: At least one of the component features has more than two values so the multinomial representation will not be computed.**\n",
      "\n",
      "1 th variable: annualCountOfUniqueAntidepressants\n",
      "\n",
      "** Error: At least one of the component features has more than two values so the multinomial representation will not be computed.**\n",
      "\n",
      "1 th variable: annualCountOfUniqueAntidepressants\n",
      "\n",
      "** Error: At least one of the component features has more than two values so the multinomial representation will not be computed.**\n",
      "\n",
      "1 th variable: annualCountOfUniqueAntidepressants\n",
      "\n",
      "** Error: At least one of the component features has more than two values so the multinomial representation will not be computed.**\n",
      "\n",
      "1 th variable: annualCountOfUniqueAntidepressants\n",
      "\n",
      "** Error: At least one of the component features has more than two values so the multinomial representation will not be computed.**\n",
      "\n",
      "1 th variable: annualCountOfUniqueAntidepressants\n",
      "\n",
      "** Error: At least one of the component features has more than two values so the multinomial representation will not be computed.**\n",
      "\n",
      "1 th variable: annualCountOfUniqueAntidepressants\n",
      "\n",
      "** Error: At least one of the component features has more than two values so the multinomial representation will not be computed.**\n",
      "\n",
      "1 th variable: annualCountOfUniqueAntidepressants\n",
      "\n",
      "** Error: At least one of the component features has more than two values so the multinomial representation will not be computed.**\n",
      "\n",
      "1 th variable: annualCountOfUniqueAntidepressants\n",
      "\n",
      "** Error: At least one of the component features has more than two values so the multinomial representation will not be computed.**\n",
      "\n",
      "1 th variable: annualCountOfUniqueAntidepressants\n",
      "\n",
      "** Error: At least one of the component features has more than two values so the multinomial representation will not be computed.**\n",
      "\n",
      "1 th variable: annualCountOfUniqueAntidepressants\n",
      "\n",
      "** Error: At least one of the component features has more than two values so the multinomial representation will not be computed.**\n",
      "\n",
      "1 th variable: annualCountOfUniqueAntidepressants\n",
      "\n",
      "** Error: At least one of the component features has more than two values so the multinomial representation will not be computed.**\n",
      "\n",
      "1 th variable: annualCountOfUniqueAntidepressants\n",
      "\n",
      "** Error: At least one of the component features has more than two values so the multinomial representation will not be computed.**\n",
      "\n",
      "1 th variable: annualCountOfUniqueAntidepressants\n",
      "\n",
      "** Error: At least one of the component features has more than two values so the multinomial representation will not be computed.**\n",
      "\n",
      "1 th variable: annualCountOfUniqueAntidepressants\n",
      "\n",
      "** Error: At least one of the component features has more than two values so the multinomial representation will not be computed.**\n",
      "\n",
      "1 th variable: annualCountOfUniqueAntidepressants\n",
      "\n",
      "** Error: At least one of the component features has more than two values so the multinomial representation will not be computed.**\n",
      "\n",
      "1 th variable: annualCountOfUniqueAntidepressants\n",
      "\n",
      "** Error: At least one of the component features has more than two values so the multinomial representation will not be computed.**\n",
      "\n",
      "1 th variable: annualCountOfUniqueAntidepressants\n",
      "\n",
      "** Error: At least one of the component features has more than two values so the multinomial representation will not be computed.**\n",
      "\n",
      "1 th variable: annualCountOfUniqueAntidepressants\n",
      "\n",
      "** Error: At least one of the component features has more than two values so the multinomial representation will not be computed.**\n",
      "\n",
      "1 th variable: annualCountOfUniqueAntidepressants\n",
      "\n",
      "** Error: At least one of the component features has more than two values so the multinomial representation will not be computed.**\n",
      "\n",
      "1 th variable: annualCountOfUniqueAntidepressants\n",
      "\n",
      "** Error: At least one of the component features has more than two values so the multinomial representation will not be computed.**\n",
      "\n",
      "1 th variable: annualCountOfUniqueAntidepressants\n",
      "\n",
      "** Error: At least one of the component features has more than two values so the multinomial representation will not be computed.**\n",
      "\n",
      "1 th variable: annualCountOfUniqueAntidepressants\n",
      "\n",
      "** Error: At least one of the component features has more than two values so the multinomial representation will not be computed.**\n",
      "\n",
      "1 th variable: annualCountOfUniqueAntidepressants\n"
     ]
    }
   ],
   "source": [
    "featuresetmi(featureSet_array = my_featureSet_array,\n",
    "             casenessVector = caseness_array[['person_id','CMHD']],\n",
    "             m = m,\n",
    "             representation = \"multi\")"
   ]
  },
  {
   "cell_type": "markdown",
   "id": "a9bc82d1-509b-447c-adba-3d14561f3ee5",
   "metadata": {},
   "source": [
    "#### 1.2. Definitive caseness"
   ]
  },
  {
   "cell_type": "markdown",
   "id": "c5ce5be9-386e-4fae-b16d-dd0d736cce16",
   "metadata": {},
   "source": [
    "##### 1.2.1. ALL representation."
   ]
  },
  {
   "cell_type": "code",
   "execution_count": 10,
   "id": "fc3615cb-aae2-487e-b334-2fbcc580e93d",
   "metadata": {
    "tags": []
   },
   "outputs": [
    {
     "name": "stdout",
     "output_type": "stream",
     "text": [
      "\n",
      "No save location provided.\n",
      "...Defaulting to ~/Mutual information saves/Individuals\n",
      "\n",
      "\n",
      "\n",
      "****************************************\n",
      "Calculating mutual information values...\n",
      "...\n",
      "\n",
      "1 batch(es) of feature sets processed.\n",
      "46 / 46 feature sets dropped due to low entropy.\n",
      "****************************************\n"
     ]
    }
   ],
   "source": [
    "featuresetmi(featureSet_array = my_featureSet_array,\n",
    "             casenessVector = caseness_array[['person_id','CMHD_dx_and_rx']],\n",
    "             m = m,\n",
    "             representation = \"all\")"
   ]
  },
  {
   "cell_type": "markdown",
   "id": "f9b269c2-c57f-4f37-aaa7-5cbbd015b02c",
   "metadata": {},
   "source": [
    "##### 1.2.2. MULTI representation."
   ]
  },
  {
   "cell_type": "code",
   "execution_count": null,
   "id": "bc55b6a9-1006-4963-9186-fe8dcc7178c6",
   "metadata": {
    "tags": []
   },
   "outputs": [],
   "source": [
    "featuresetmi(featureSet_array = my_featureSet_array,\n",
    "             casenessVector = caseness_array[['person_id','CMHD_dx_and_rx']],\n",
    "             m = m,\n",
    "             representation = \"multi\")"
   ]
  },
  {
   "cell_type": "markdown",
   "id": "64a0e692-34a7-48b4-8a2d-1b0132ca2752",
   "metadata": {},
   "source": [
    "#### 1.3. Possible caseness"
   ]
  },
  {
   "cell_type": "markdown",
   "id": "08750d83-e0c8-4547-a78b-48cb720345b1",
   "metadata": {},
   "source": [
    "##### 1.3.1. ALL representation."
   ]
  },
  {
   "cell_type": "code",
   "execution_count": 11,
   "id": "dcf5f7be-da60-465c-8b9b-0f949608b9fe",
   "metadata": {
    "tags": []
   },
   "outputs": [
    {
     "name": "stdout",
     "output_type": "stream",
     "text": [
      "\n",
      "No save location provided.\n",
      "...Defaulting to ~/Mutual information saves/Individuals\n",
      "\n",
      "\n",
      "\n",
      "****************************************\n",
      "Calculating mutual information values...\n",
      "...\n",
      "\n",
      "1 batch(es) of feature sets processed.\n",
      "46 / 46 feature sets dropped due to low entropy.\n",
      "****************************************\n"
     ]
    }
   ],
   "source": [
    "featuresetmi(featureSet_array = my_featureSet_array,\n",
    "             casenessVector = caseness_array[['person_id','CMHD_rx_not_dx']],\n",
    "             m = m,\n",
    "             representation = \"all\")"
   ]
  },
  {
   "cell_type": "markdown",
   "id": "54d680b1-41a5-429b-90a4-3886ffc2deb7",
   "metadata": {},
   "source": [
    "##### 1.3.2. MULTI representation."
   ]
  },
  {
   "cell_type": "code",
   "execution_count": null,
   "id": "b408d50c-c902-4237-aca0-0c18f05f4d93",
   "metadata": {
    "tags": []
   },
   "outputs": [],
   "source": [
    "featuresetmi(featureSet_array = my_featureSet_array,\n",
    "             casenessVector = caseness_array[['person_id','CMHD_rx_not_dx']],\n",
    "             m = m,\n",
    "             representation = \"multi\")"
   ]
  },
  {
   "cell_type": "markdown",
   "id": "feb4a09f-cf24-4113-aaa9-aa6bfc879a0f",
   "metadata": {},
   "source": [
    "#### 1.4. No caseness (i.e. control group)"
   ]
  },
  {
   "cell_type": "markdown",
   "id": "a25e3dcb-a08d-4de1-b92c-7703f215efe2",
   "metadata": {},
   "source": [
    "##### 1.4.1. ALL representation."
   ]
  },
  {
   "cell_type": "code",
   "execution_count": 12,
   "id": "b89274e9-4ada-43da-9ac1-4adeffa20452",
   "metadata": {
    "tags": []
   },
   "outputs": [
    {
     "name": "stdout",
     "output_type": "stream",
     "text": [
      "\n",
      "No save location provided.\n",
      "...Defaulting to ~/Mutual information saves/Individuals\n",
      "\n",
      "\n",
      "\n",
      "****************************************\n",
      "Calculating mutual information values...\n",
      "...\n",
      "\n",
      "1 batch(es) of feature sets processed.\n",
      "46 / 46 feature sets dropped due to low entropy.\n",
      "****************************************\n"
     ]
    }
   ],
   "source": [
    "featuresetmi(featureSet_array = my_featureSet_array,\n",
    "             casenessVector = caseness_array[['person_id','CMHD_control']],\n",
    "             m = m,\n",
    "             representation = \"all\")"
   ]
  },
  {
   "cell_type": "markdown",
   "id": "198d8124-dff7-4349-bfab-5015487d9e47",
   "metadata": {},
   "source": [
    "##### 1.4.2. MULTI representation."
   ]
  },
  {
   "cell_type": "code",
   "execution_count": null,
   "id": "0ad4b532-13df-4bf9-be96-aaa032ef65f5",
   "metadata": {
    "tags": []
   },
   "outputs": [],
   "source": [
    "featuresetmi(featureSet_array = my_featureSet_array,\n",
    "             casenessVector = caseness_array[['person_id','CMHD_control']],\n",
    "             m = m,\n",
    "             representation = \"multi\")"
   ]
  },
  {
   "cell_type": "markdown",
   "id": "9631fa3f-1a3f-4e47-9dd3-988c68212fc1",
   "metadata": {
    "tags": []
   },
   "source": [
    "### 2. Mutual information of pair-composite feature sets and the caseness variables."
   ]
  },
  {
   "cell_type": "code",
   "execution_count": 13,
   "id": "8d921a9c-7992-4505-b805-b56dc8dbf61e",
   "metadata": {},
   "outputs": [],
   "source": [
    "# Set the order of the composite: 1 = individual, 2 = pair, 3 = triplet.\n",
    "m = 2"
   ]
  },
  {
   "cell_type": "markdown",
   "id": "effc1197-ee43-4ef3-968d-4efc062f9885",
   "metadata": {},
   "source": [
    "#### 1.1. Multinomial caseness"
   ]
  },
  {
   "cell_type": "markdown",
   "id": "1e9ed6c3-915b-45d7-8f90-e65cb1589575",
   "metadata": {},
   "source": [
    "##### 1.1.1. ALL representation."
   ]
  },
  {
   "cell_type": "code",
   "execution_count": 14,
   "id": "5c35347d-6113-425d-85d3-019c8fb3f1e9",
   "metadata": {
    "tags": []
   },
   "outputs": [
    {
     "name": "stdout",
     "output_type": "stream",
     "text": [
      "\n",
      "No save location provided.\n",
      "...Defaulting to ~/Mutual information saves/Pairs\n",
      "\n",
      "\n",
      "\n",
      "****************************************\n",
      "Calculating mutual information values...\n",
      "...\n",
      "\n",
      "1 batch(es) of feature sets processed.\n",
      "1035 / 1035 feature sets dropped due to low entropy.\n",
      "****************************************\n"
     ]
    }
   ],
   "source": [
    "featuresetmi(featureSet_array = my_featureSet_array,\n",
    "             casenessVector = caseness_array[['person_id','CMHD']],\n",
    "             m = m,\n",
    "             representation = \"all\")"
   ]
  },
  {
   "cell_type": "markdown",
   "id": "941990b5-bd26-4e4d-8fb0-1c9408abae7d",
   "metadata": {},
   "source": [
    "##### 1.1.2. MULTI representation."
   ]
  },
  {
   "cell_type": "code",
   "execution_count": null,
   "id": "0a676d38-7173-48e6-9849-b99bf1f9f981",
   "metadata": {
    "tags": []
   },
   "outputs": [],
   "source": [
    "featuresetmi(featureSet_array = my_featureSet_array,\n",
    "             casenessVector = caseness_array[['person_id','CMHD']],\n",
    "             m = m,\n",
    "             representation = \"multi\")"
   ]
  },
  {
   "cell_type": "markdown",
   "id": "e9784a71-814a-45b9-a8b9-cc6e246357b0",
   "metadata": {},
   "source": [
    "#### 1.2. Definitive caseness"
   ]
  },
  {
   "cell_type": "markdown",
   "id": "e20088e3-1e78-4684-9076-a939bb4b10ff",
   "metadata": {},
   "source": [
    "##### 1.2.1. ALL representation."
   ]
  },
  {
   "cell_type": "code",
   "execution_count": 15,
   "id": "49dcd050-9162-40d4-b306-97f52de13f17",
   "metadata": {
    "tags": []
   },
   "outputs": [
    {
     "name": "stdout",
     "output_type": "stream",
     "text": [
      "\n",
      "No save location provided.\n",
      "...Defaulting to ~/Mutual information saves/Pairs\n",
      "\n",
      "\n",
      "\n",
      "****************************************\n",
      "Calculating mutual information values...\n",
      "...\n",
      "\n",
      "1 batch(es) of feature sets processed.\n",
      "1035 / 1035 feature sets dropped due to low entropy.\n",
      "****************************************\n"
     ]
    }
   ],
   "source": [
    "featuresetmi(featureSet_array = my_featureSet_array,\n",
    "             casenessVector = caseness_array[['person_id','CMHD_dx_and_rx']],\n",
    "             m = m,\n",
    "             representation = \"all\")"
   ]
  },
  {
   "cell_type": "markdown",
   "id": "c6276f1d-f696-4ec6-ba34-617f94aa880d",
   "metadata": {},
   "source": [
    "##### 1.2.2. MULTI representation."
   ]
  },
  {
   "cell_type": "code",
   "execution_count": null,
   "id": "0258d594-4170-4c08-b932-e92a65373607",
   "metadata": {
    "tags": []
   },
   "outputs": [],
   "source": [
    "featuresetmi(featureSet_array = my_featureSet_array,\n",
    "             casenessVector = caseness_array[['person_id','CMHD_dx_and_rx']],\n",
    "             m = m,\n",
    "             representation = \"multi\")"
   ]
  },
  {
   "cell_type": "markdown",
   "id": "0b40cdb0-87e5-4cad-a5fc-f92f96654f8c",
   "metadata": {},
   "source": [
    "#### 1.3. Possible caseness"
   ]
  },
  {
   "cell_type": "markdown",
   "id": "eb9c491c-5c5a-4d72-aab3-62de79acc8ed",
   "metadata": {},
   "source": [
    "##### 1.3.1. ALL representation."
   ]
  },
  {
   "cell_type": "code",
   "execution_count": 16,
   "id": "11f948ca-9135-4219-b6a5-00dc3630165a",
   "metadata": {
    "tags": []
   },
   "outputs": [
    {
     "name": "stdout",
     "output_type": "stream",
     "text": [
      "\n",
      "No save location provided.\n",
      "...Defaulting to ~/Mutual information saves/Pairs\n",
      "\n",
      "\n",
      "\n",
      "****************************************\n",
      "Calculating mutual information values...\n",
      "...\n",
      "\n",
      "1 batch(es) of feature sets processed.\n",
      "1035 / 1035 feature sets dropped due to low entropy.\n",
      "****************************************\n"
     ]
    }
   ],
   "source": [
    "featuresetmi(featureSet_array = my_featureSet_array,\n",
    "             casenessVector = caseness_array[['person_id','CMHD_rx_not_dx']],\n",
    "             m = m,\n",
    "             representation = \"all\")"
   ]
  },
  {
   "cell_type": "markdown",
   "id": "58de659d-e49d-4fe8-9649-97086594f44a",
   "metadata": {},
   "source": [
    "##### 1.3.2. MULTI representation."
   ]
  },
  {
   "cell_type": "code",
   "execution_count": null,
   "id": "4f3cb70f-087e-44db-bcfa-1f24302071d2",
   "metadata": {
    "tags": []
   },
   "outputs": [],
   "source": [
    "featuresetmi(featureSet_array = my_featureSet_array,\n",
    "             casenessVector = caseness_array[['person_id','CMHD_rx_not_dx']],\n",
    "             m = m,\n",
    "             representation = \"multi\")"
   ]
  },
  {
   "cell_type": "markdown",
   "id": "0166c3b1-431a-4456-a065-535f8ffe5e6f",
   "metadata": {},
   "source": [
    "#### 1.4. No caseness (i.e. control group)"
   ]
  },
  {
   "cell_type": "markdown",
   "id": "1b0b6eae-ebf2-4f47-814e-bd3bc34a2220",
   "metadata": {},
   "source": [
    "##### 1.4.1. ALL representation."
   ]
  },
  {
   "cell_type": "code",
   "execution_count": 17,
   "id": "9f3ebbec-7783-4919-9c90-28183fdc1c65",
   "metadata": {
    "tags": []
   },
   "outputs": [
    {
     "name": "stdout",
     "output_type": "stream",
     "text": [
      "\n",
      "No save location provided.\n",
      "...Defaulting to ~/Mutual information saves/Pairs\n",
      "\n",
      "\n",
      "\n",
      "****************************************\n",
      "Calculating mutual information values...\n",
      "...\n",
      "\n",
      "1 batch(es) of feature sets processed.\n",
      "1035 / 1035 feature sets dropped due to low entropy.\n",
      "****************************************\n"
     ]
    }
   ],
   "source": [
    "featuresetmi(featureSet_array = my_featureSet_array,\n",
    "             casenessVector = caseness_array[['person_id','CMHD_control']],\n",
    "             m = m,\n",
    "             representation = \"all\")"
   ]
  },
  {
   "cell_type": "markdown",
   "id": "1e25e070-d808-4231-ae69-675b0e215266",
   "metadata": {},
   "source": [
    "##### 1.4.2. MULTI representation."
   ]
  },
  {
   "cell_type": "code",
   "execution_count": null,
   "id": "9f0cf584-61ea-42d9-86c5-fb7f98c75f84",
   "metadata": {
    "tags": []
   },
   "outputs": [],
   "source": [
    "featuresetmi(featureSet_array = my_featureSet_array,\n",
    "             casenessVector = caseness_array[['person_id','CMHD_control']],\n",
    "             m = m,\n",
    "             representation = \"multi\")"
   ]
  },
  {
   "cell_type": "markdown",
   "id": "c7bc2c12-bc95-4c4a-ae84-82ef4ddc87cc",
   "metadata": {
    "tags": []
   },
   "source": [
    "### 3. Mutual information of triplet-composite feature sets and the caseness variables."
   ]
  },
  {
   "cell_type": "code",
   "execution_count": 6,
   "id": "88ce171c-4be8-44e5-ba00-5fafccf184d2",
   "metadata": {},
   "outputs": [],
   "source": [
    "# Set the order of the composite: 1 = individual, 2 = pair, 3 = triplet.\n",
    "m = 3"
   ]
  },
  {
   "cell_type": "markdown",
   "id": "b3f651a4-b14a-4cb9-95d6-0cac87c2b9ca",
   "metadata": {},
   "source": [
    "#### 1.1. Multinomial caseness"
   ]
  },
  {
   "cell_type": "markdown",
   "id": "dfed5c9c-a5fd-4a40-9e82-adb0302dfdbe",
   "metadata": {},
   "source": [
    "##### 1.1.1. ALL representation."
   ]
  },
  {
   "cell_type": "code",
   "execution_count": 19,
   "id": "77517bcb-b25f-459e-a918-76ddd570e0df",
   "metadata": {
    "tags": []
   },
   "outputs": [
    {
     "name": "stdout",
     "output_type": "stream",
     "text": [
      "\n",
      "No save location provided.\n",
      "...Defaulting to ~/Mutual information saves/Triplets\n",
      "\n",
      "\n",
      "\n",
      "****************************************\n",
      "Calculating mutual information values...\n",
      "...\n",
      "\n",
      "1 batch(es) of feature sets processed.\n",
      "15180 / 15180 feature sets dropped due to low entropy.\n",
      "****************************************\n"
     ]
    }
   ],
   "source": [
    "featuresetmi(featureSet_array = my_featureSet_array,\n",
    "             casenessVector = caseness_array[['person_id','CMHD']],\n",
    "             m = m,\n",
    "             representation = \"all\")"
   ]
  },
  {
   "cell_type": "markdown",
   "id": "73780878-f444-4775-9eeb-a094bf7469df",
   "metadata": {},
   "source": [
    "##### 1.1.2. MULTI representation."
   ]
  },
  {
   "cell_type": "code",
   "execution_count": null,
   "id": "39644a80-9dca-44cc-b2e2-1f659ba4d2fb",
   "metadata": {
    "tags": []
   },
   "outputs": [],
   "source": [
    "featuresetmi(featureSet_array = my_featureSet_array,\n",
    "             casenessVector = caseness_array[['person_id','CMHD']],\n",
    "             m = m,\n",
    "             representation = \"multi\")"
   ]
  },
  {
   "cell_type": "markdown",
   "id": "ccb1931d-8f35-44eb-b340-dcc846bdfcaa",
   "metadata": {},
   "source": [
    "#### 1.2. Definitive caseness"
   ]
  },
  {
   "cell_type": "markdown",
   "id": "42e42636-2576-47fd-b4f7-9c09f24c9b8a",
   "metadata": {},
   "source": [
    "##### 1.2.1. ALL representation."
   ]
  },
  {
   "cell_type": "code",
   "execution_count": 20,
   "id": "400e8e14-38cf-4592-a3f3-81cb73b1ab5a",
   "metadata": {
    "tags": []
   },
   "outputs": [
    {
     "name": "stdout",
     "output_type": "stream",
     "text": [
      "\n",
      "No save location provided.\n",
      "...Defaulting to ~/Mutual information saves/Triplets\n",
      "\n",
      "\n",
      "\n",
      "****************************************\n",
      "Calculating mutual information values...\n",
      "...\n",
      "\n",
      "1 batch(es) of feature sets processed.\n",
      "15180 / 15180 feature sets dropped due to low entropy.\n",
      "****************************************\n"
     ]
    }
   ],
   "source": [
    "featuresetmi(featureSet_array = my_featureSet_array,\n",
    "             casenessVector = caseness_array[['person_id','CMHD_dx_and_rx']],\n",
    "             m = m,\n",
    "             representation = \"all\")"
   ]
  },
  {
   "cell_type": "markdown",
   "id": "a251c37c-1762-4634-a90f-d49d697b65ac",
   "metadata": {},
   "source": [
    "##### 1.2.2. MULTI representation."
   ]
  },
  {
   "cell_type": "code",
   "execution_count": null,
   "id": "8cbea023-44cc-421b-9bd9-78cfc52eb1ab",
   "metadata": {
    "tags": []
   },
   "outputs": [],
   "source": [
    "featuresetmi(featureSet_array = my_featureSet_array,\n",
    "             casenessVector = caseness_array[['person_id','CMHD_dx_and_rx']],\n",
    "             m = m,\n",
    "             representation = \"multi\")"
   ]
  },
  {
   "cell_type": "markdown",
   "id": "e58104a9-16c1-4c65-854c-9a43c208d694",
   "metadata": {},
   "source": [
    "#### 1.3. Possible caseness"
   ]
  },
  {
   "cell_type": "markdown",
   "id": "d84602f3-4ab1-463f-bee8-9b7d56c8205a",
   "metadata": {},
   "source": [
    "##### 1.3.1. ALL representation."
   ]
  },
  {
   "cell_type": "code",
   "execution_count": 21,
   "id": "b7b6f74d-9bcb-4b5b-8e5a-979caa6e8097",
   "metadata": {
    "tags": []
   },
   "outputs": [
    {
     "name": "stdout",
     "output_type": "stream",
     "text": [
      "\n",
      "No save location provided.\n",
      "...Defaulting to ~/Mutual information saves/Triplets\n",
      "\n",
      "\n",
      "\n",
      "****************************************\n",
      "Calculating mutual information values...\n",
      "...\n",
      "\n",
      "1 batch(es) of feature sets processed.\n",
      "15180 / 15180 feature sets dropped due to low entropy.\n",
      "****************************************\n"
     ]
    }
   ],
   "source": [
    "featuresetmi(featureSet_array = my_featureSet_array,\n",
    "             casenessVector = caseness_array[['person_id','CMHD_rx_not_dx']],\n",
    "             m = m,\n",
    "             representation = \"all\")"
   ]
  },
  {
   "cell_type": "markdown",
   "id": "ce56d7ed-679d-41dd-8dd7-41057ef4b948",
   "metadata": {},
   "source": [
    "##### 1.3.2. MULTI representation."
   ]
  },
  {
   "cell_type": "code",
   "execution_count": null,
   "id": "ff976624-b018-4987-b638-b17308f1fea1",
   "metadata": {
    "tags": []
   },
   "outputs": [],
   "source": [
    "featuresetmi(featureSet_array = my_featureSet_array,\n",
    "             casenessVector = caseness_array[['person_id','CMHD_rx_not_dx']],\n",
    "             m = m,\n",
    "             representation = \"multi\")"
   ]
  },
  {
   "cell_type": "markdown",
   "id": "cc8f9d45-fea7-4bcf-b333-e260adce6ea4",
   "metadata": {},
   "source": [
    "#### 1.4. No caseness (i.e. control group)"
   ]
  },
  {
   "cell_type": "markdown",
   "id": "0b86b08b-bced-430b-935a-d99515ef431c",
   "metadata": {},
   "source": [
    "##### 1.4.1. ALL representation."
   ]
  },
  {
   "cell_type": "code",
   "execution_count": 7,
   "id": "a1fad7cb-ae2a-4e82-b2de-8a172a17cada",
   "metadata": {
    "tags": []
   },
   "outputs": [
    {
     "name": "stdout",
     "output_type": "stream",
     "text": [
      "\n",
      "No save location provided.\n",
      "...Defaulting to ~/Mutual information saves/Triplets\n",
      "\n",
      "\n",
      "\n",
      "****************************************\n",
      "Calculating mutual information values...\n",
      "...\n",
      "\n",
      "1 batch(es) of feature sets processed.\n",
      "15180 / 15180 feature sets dropped due to low entropy.\n",
      "****************************************\n"
     ]
    }
   ],
   "source": [
    "featuresetmi(featureSet_array = my_featureSet_array,\n",
    "             casenessVector = caseness_array[['person_id','CMHD_control']],\n",
    "             m = m,\n",
    "             representation = \"all\")"
   ]
  },
  {
   "cell_type": "markdown",
   "id": "c3568511-13e8-4e15-b7e1-63c2cc28c244",
   "metadata": {},
   "source": [
    "##### 1.4.2. MULTI representation."
   ]
  },
  {
   "cell_type": "code",
   "execution_count": null,
   "id": "b169c831-d77b-496d-9a7b-fcff70835b1a",
   "metadata": {
    "tags": []
   },
   "outputs": [],
   "source": [
    "featuresetmi(featureSet_array = my_featureSet_array,\n",
    "             casenessVector = caseness_array[['person_id','CMHD_control']],\n",
    "             m = m,\n",
    "             representation = \"multi\")"
   ]
  }
 ],
 "metadata": {
  "environment": {
   "kernel": "python3",
   "name": "r-cpu.4-1.m95",
   "type": "gcloud",
   "uri": "gcr.io/deeplearning-platform-release/r-cpu.4-1:m95"
  },
  "kernelspec": {
   "display_name": "Python 3",
   "language": "python",
   "name": "python3"
  },
  "language_info": {
   "codemirror_mode": {
    "name": "ipython",
    "version": 3
   },
   "file_extension": ".py",
   "mimetype": "text/x-python",
   "name": "python",
   "nbconvert_exporter": "python",
   "pygments_lexer": "ipython3",
   "version": "3.7.12"
  }
 },
 "nbformat": 4,
 "nbformat_minor": 5
}
