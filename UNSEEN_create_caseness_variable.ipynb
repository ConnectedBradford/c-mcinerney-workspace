{
 "cells": [
  {
   "cell_type": "markdown",
   "id": "c3cf206f-210d-44e7-98ab-f8fa95970380",
   "metadata": {
    "tags": []
   },
   "source": [
    "# Caseness array\n",
    "\n",
    "The purpose of this notebook is to produce the caseness array. The caseness array is an n-by-2 array containing patient ID and a binary vector indicating whether the patient's record meets our definition for the caseness of complex mental health difficulties.\n",
    "\n",
    "## Imports"
   ]
  },
  {
   "cell_type": "code",
   "execution_count": 2,
   "id": "b476962c-70f3-413c-905e-b784dcc9bb93",
   "metadata": {
    "tags": []
   },
   "outputs": [],
   "source": [
    "# Get helper functions.\n",
    "%run 'UNSEEN_helper_functions.ipynb'\n",
    "# Refresh stored variables, if they are present.\n",
    "%store -r"
   ]
  },
  {
   "cell_type": "markdown",
   "id": "9b0da087-c47e-44c9-b975-8542cf3b871f",
   "metadata": {},
   "source": [
    "## Load requisites"
   ]
  },
  {
   "cell_type": "code",
   "execution_count": 3,
   "id": "089b7cb6-957f-4845-8f26-6f1d446a8912",
   "metadata": {
    "jupyter": {
     "source_hidden": true
    },
    "tags": []
   },
   "outputs": [
    {
     "name": "stdout",
     "output_type": "stream",
     "text": [
      "Stored 'server_id' (str)\n",
      "Stored 'database_id' (str)\n",
      "Stored 'myIndexDate' (str)\n",
      "Stored 'redaction_threshold' (int)\n",
      "Stored 'target_round' (int)\n",
      "Stored 'Dx_window' (int)\n",
      "Stored 'Rx_window' (int)\n",
      "Stored 'Rx_window_caseness' (int)\n",
      "Stored 'min_GP_registeration_duration' (int)\n"
     ]
    }
   ],
   "source": [
    "# Set index date. Usually CURRENT_DATE() but Dec 2021 will be used until cB fixed the missing prescriptions.\n",
    "myIndexDate =  '2021-12-31'\n",
    "\n",
    "# Set the duration for which a person must have been registered with their current general practice, in years.\n",
    "min_GP_registeration_duration = 1\n",
    "\n",
    "# Set the capture window for criteria diagnoses and prescriptions, in years.\n",
    "Dx_window = 10\n",
    "Rx_window = 10\n",
    "Rx_window_caseness = 10 # Must be <= Rx_window because Rx_window is applied first.\n",
    "\n",
    "# Set parameters for disclosivity adjustments.\n",
    "redaction_threshold = 7\n",
    "target_round = 10\n",
    "\n",
    "# Set the database attributes.\n",
    "global server_id\n",
    "server_id = 'yhcr-prd-phm-bia-core'\n",
    "global database_id\n",
    "database_id = 'CB_FDM_PrimaryCare_V7'\n",
    "\n",
    "# Set folder location.\n",
    "folder_loc = os.path.dirname(os.path.abspath(\"UNSEEN create caseness array.ipynb\"))\n",
    "folder = folder_loc + '/codelists/'\n",
    "\n",
    "%store server_id database_id myIndexDate redaction_threshold \\\n",
    "target_round Dx_window Rx_window Rx_window_caseness min_GP_registeration_duration"
   ]
  },
  {
   "cell_type": "markdown",
   "id": "b856c0a6-b568-4720-ba8e-e28ac69a113f",
   "metadata": {},
   "source": [
    "## Load codelist CSV files.\n",
    "We used [opencodelists.org](https://www.opencodelist.org) to define codelists that define the set of SNOMED-CT codes used to identify patients based on various attributes."
   ]
  },
  {
   "cell_type": "code",
   "execution_count": 11,
   "id": "3fc23759-0e6c-4fe4-9d1c-008db17a1825",
   "metadata": {
    "jupyter": {
     "source_hidden": true
    },
    "tags": []
   },
   "outputs": [],
   "source": [
    "# Clinical codes of interest.\n",
    "codes_to_query_mentalIllHealth = pandas.read_csv(folder + \"mental_ill_health_codelist.txt\", sep = '\\t')\n",
    "codes_to_query_bipolar = pandas.read_csv(folder + \"ciaranmci-bipolar-disorder-6a0308d7.csv\")\n",
    "codes_to_query_schizophrenia = pandas.read_csv(folder + \"ciaranmci-schizophrenia-05c53c03.csv\")\n",
    "# ## Exclude bipolar and schizophrenia from the study population.\n",
    "codes_to_query_mentalIllHealth = pandas.DataFrame(\n",
    "    list(\n",
    "        set(codes_to_query_mentalIllHealth[\"Id\"]).difference(\n",
    "            set(codes_to_query_bipolar[\"code\"]).union(\n",
    "                set(codes_to_query_schizophrenia[\"code\"])\n",
    "            )\n",
    "        )\n",
    "    )\n",
    "    ,columns = [\"Id\"]\n",
    ")\n",
    "\n",
    "# ## Create codelist for the cases.\n",
    "codes_to_query_caseness = pandas.read_csv(folder + \"ciaranmci-unseen-snomed-codes-to-identify-cmhd-0e6bb986.csv\")\n",
    "codes_to_query_devAcademicDisorder = pandas.read_csv(folder + \"ciaranmci-developmental-academic-disorder-755c4650.csv\")\n",
    "# ## Exclude Developmental Academic Disorder from the cases.\n",
    "codes_to_query_caseness = pandas.DataFrame(\n",
    "    list(\n",
    "        set(codes_to_query_caseness[\"code\"]).difference(\n",
    "            set(codes_to_query_bipolar[\"code\"]).union(\n",
    "                set(codes_to_query_schizophrenia[\"code\"])\n",
    "            ).union(\n",
    "                set(codes_to_query_devAcademicDisorder[\"code\"])\n",
    "            )\n",
    "        )\n",
    "    )\n",
    "    ,columns = [\"code\"]\n",
    ")\n",
    "codes_to_query_borderline = pandas.read_csv(folder + \"ciaranmci-borderline-personality-disorder-1ed4af38.csv\")\n",
    "codes_to_query_chronicDepression = pandas.read_csv(folder + \"ciaranmci-chronic-depression-53a65598.csv\")\n",
    "codes_to_query_chronicPTSD = pandas.read_csv(folder + \"ciaranmci-chronic-post-traumatic-stress-disorder-3a96e263.csv\")\n",
    "codes_to_query_complexPTSD = pandas.read_csv(folder + \"ciaranmci-complex-post-traumatic-stress-disorder-21876f2e.csv\")\n",
    "codes_to_query_dysthymia = pandas.read_csv(folder + \"ciaranmci-dysthymia-6f6888c3.csv\")\n",
    "codes_to_query_personalityDisorder = pandas.read_csv(folder + \"ciaranmci-personality-disorder-5c4cd31b.csv\")\n",
    "\n",
    "# Medications of interest.\n",
    "medications_to_query_psychosisAndRelated = pandas.read_csv(folder + \"UNSEEN_medications_psychosisAndRelated.csv\")\n",
    "medications_to_query_hypnoticsAndAnxiolytics = pandas.read_csv(folder + \"UNSEEN_medications_hypnoticsAndAnxiolytics.csv\")\n",
    "medications_to_query_antidepressants = pandas.read_csv(folder + \"UNSEEN_medications_antidepressants.csv\")\n",
    "medications_to_query_all = pandas.read_csv(folder + \"UNSEEN_medications_list.csv\")"
   ]
  },
  {
   "cell_type": "markdown",
   "id": "a3149dba-ced5-4cb1-8472-95947812a35c",
   "metadata": {},
   "source": [
    "## Define the BigQuery script that creates the study population.\n",
    "\n",
    "I first specify the population of interest with `person_id` values. These `person_id` values are filtered as follows:\n",
    "1. all people with a `person_id` in Connected Bradford's primary-care table,\n",
    "2. aged between 18 and 70, inclusive, as of today's date (note: today's date is used rather than the `myIndexDate` date),\n",
    "3. who have been registered with their practice for at least `min_GP_registeration_duration` years,\n",
    "4. who have a record of a SNOMED-CT diagnostic code from `codes_to_query_mentalIllHealth` within `Dx_windows` years prior to the `myIndexDate` date, or who have a record of prescriptions for medicines from `medications_to_query_all` within `Rx_windows` years prior to the `myIndexDate` date,\n",
    "5. excluding those people who have a record of a SNOMED-CT diagnostic code from `codes_to_query_schizophrenia` or `codes_to_query_bipolar`.\n",
    "\n",
    "The sequence I apply is to first use a single query to satisfy filters 1, 2, and 3. Then, I run two separate queries to satisfy each of the components of filter 4 and 5: one query considers diagnostic codes, and the other considers medications. Finally, I UNION ALL these two results of `person_id` values and return unique values."
   ]
  },
  {
   "cell_type": "code",
   "execution_count": 12,
   "id": "bc365b3f-cca3-481b-b173-c2aceef40979",
   "metadata": {
    "jupyter": {
     "source_hidden": true
    },
    "tags": []
   },
   "outputs": [],
   "source": [
    "sql_declarations = \\\n",
    "\"\"\"\n",
    "DECLARE myIndexDate DATE DEFAULT '\"\"\" + myIndexDate + \"\"\"';\n",
    "DECLARE min_GP_registeration_duration INT64 DEFAULT \"\"\" + str(min_GP_registeration_duration) + \"\"\";\n",
    "DECLARE Rx_window INT64 DEFAULT \"\"\" + str(Rx_window) + \"\"\";\n",
    "DECLARE Rx_window_caseness INT64 DEFAULT \"\"\" + str(Rx_window_caseness) + \"\"\";\n",
    "DECLARE redaction_threshold INT64 DEFAULT \"\"\" + str(redaction_threshold) + \"\"\";\n",
    "DECLARE target_round INT64 DEFAULT \"\"\" + str(target_round) + \"\"\";\n",
    "\"\"\"\n",
    "\n",
    "sql_studyPopulation = \\\n",
    "\"\"\"\n",
    "WITH\n",
    "# Set up table of SNOMED-CT codes that will be queried for filter 4.\n",
    "tbl_codes_mentalIllHealth AS (\n",
    "    SELECT\n",
    "        my_snomedcode\n",
    "    FROM\n",
    "        UNNEST([\n",
    "                '\"\"\" + '\\', \\''.join(map(str, codes_to_query_mentalIllHealth[\"Id\"].tolist())) + \"\"\"'\n",
    "                ]) AS my_snomedcode\n",
    ")\n",
    "# Set up table of medications that will be queried for filter 4.\n",
    ",tbl_medications AS (\n",
    "    SELECT\n",
    "        my_nameofmedication\n",
    "    FROM\n",
    "        UNNEST([\n",
    "                '\"\"\" + '\\', \\''.join(map(str, medications_to_query_all[\"Medication\"].tolist())) + \"\"\"'\n",
    "                ]) AS my_nameofmedication\n",
    ")\n",
    "# Set up table of SNOMED-CT codes that will be queried to define the caseness of complex mental health difficulties.\n",
    ",tbl_codes_caseness AS (\n",
    "    SELECT\n",
    "        my_snomedcode\n",
    "    FROM\n",
    "        UNNEST([\n",
    "                '\"\"\" + '\\', \\''.join(map(str, codes_to_query_caseness[\"code\"].tolist())) + \"\"\"'\n",
    "                ]) AS my_snomedcode\n",
    ")\n",
    "# First query to satisfy filters 1, 2, and 3.\n",
    ",tbl_persons_firstFilters AS (\n",
    "    SELECT\n",
    "        DISTINCT person.person_id\n",
    "        ,person.year_of_birth\n",
    "    FROM\n",
    "        # Querying this table effectively applies filter 1.\n",
    "        \"\"\" + server_id + \"\"\".\"\"\" + database_id + \"\"\".person\n",
    "    # This join is filtering for GP registration.\n",
    "    JOIN\n",
    "        \"\"\" + server_id + \"\"\".\"\"\" + database_id + \"\"\".tbl_srpatientregistration\n",
    "        ON person.person_id = tbl_srpatientregistration.person_id\n",
    "    WHERE\n",
    "        # Apply filter 2.\n",
    "        (EXTRACT(YEAR FROM CURRENT_DATE()) - person.year_of_birth) BETWEEN 18 AND 70\n",
    "        AND\n",
    "        # Apply filter 3.\n",
    "        tbl_srpatientregistration.tbl_srpatientregistration_start_date <\n",
    "            DATE_SUB(myIndexDate, INTERVAL min_GP_registeration_duration YEAR)\n",
    ")     \n",
    "# First component of filter, part 1: patients with SNOMED-CT codes of interest.\n",
    ",tbl_persons_and_codes AS (\n",
    "    SELECT\n",
    "        DISTINCT tbl_persons_firstFilters.person_id\n",
    "        ,year_of_birth\n",
    "        ,tbl_srcode.snomedcode\n",
    "    FROM\n",
    "        tbl_persons_firstFilters\n",
    "    # This join gets the diagnostic SNOMED-CT codes, and filters for \n",
    "    # the patients for which we have diagnostic codes because it is an\n",
    "    # INNER JOIN.\n",
    "    JOIN\n",
    "        \"\"\" + server_id + \"\"\".\"\"\" + database_id + \"\"\".tbl_srcode\n",
    "        ON tbl_persons_firstFilters.person_id = tbl_srcode.person_id\n",
    "    # This join is filtering for patients with the diagnostic SNOMED-CT codes\n",
    "    # of interest by using an INNER JOIN, which acts like an intersection in\n",
    "    # set operations.\n",
    "    JOIN \n",
    "        tbl_codes_mentalIllHealth\n",
    "        ON tbl_srcode.snomedcode = tbl_codes_mentalIllHealth.my_snomedcode\n",
    "    WHERE\n",
    "        # This filters for diagnoses prior to the index date.\n",
    "        tbl_srcode.dateevent < myIndexDate\n",
    ")\n",
    "# Second component of filter: patients with prescriptions for medications of interest.\n",
    ",tbl_persons_and_medications AS (\n",
    "    SELECT\n",
    "        DISTINCT tbl_persons_firstFilters.person_id\n",
    "        ,year_of_birth\n",
    "        ,tbl_srprimarycaremedication.datemedicationstart # This extra column is needed for a later query to distinguish cases and controls.\n",
    "    FROM\n",
    "        tbl_persons_firstFilters\n",
    "    # This join is adding the medication table so that I can query medications.\n",
    "    # It also, effectively, removes any patients without a prescription because\n",
    "    # it is an INNER JOIN.\n",
    "    JOIN\n",
    "        \"\"\" + server_id + \"\"\".\"\"\" + database_id + \"\"\".tbl_srprimarycaremedication\n",
    "        ON tbl_persons_firstFilters.person_id = tbl_srprimarycaremedication.person_id\n",
    "    # This cross join conveniently creates all possible combinations of values of the\n",
    "    # previous join result and `tbl_medications`. This sets up my interim result to \n",
    "    # easily do a row-wise comparison of the medications of interest with the variously-\n",
    "    # worded `nameofmedication` values in the database.\n",
    "    CROSS JOIN\n",
    "        tbl_medications\n",
    "    WHERE\n",
    "        # This filters for the medications of interest.\n",
    "        REGEXP_CONTAINS(nameofmedication, tbl_medications.my_nameofmedication) = True\n",
    "        AND\n",
    "        DATE_DIFF(myIndexDate, CAST(tbl_srprimarycaremedication.datemedicationstart AS DATE), YEAR) BETWEEN 0 AND \"\"\" + str(Rx_window) + \"\"\"\n",
    ")\n",
    "# Combine components of filter 4 with an OR statement.\n",
    "# This completes the sequence to create the study population.\n",
    ",tbl_studyPopulation_no_caseness AS (\n",
    "    SELECT\n",
    "        DISTINCT person_id\n",
    "        ,year_of_birth\n",
    "    FROM\n",
    "        (\n",
    "        SELECT person_id, year_of_birth FROM tbl_persons_and_codes\n",
    "        UNION ALL\n",
    "        SELECT person_id, year_of_birth FROM tbl_persons_and_medications\n",
    "         )\n",
    ")\n",
    "\"\"\""
   ]
  },
  {
   "cell_type": "markdown",
   "id": "13425aee-6c94-44af-b532-0268f46f96ae",
   "metadata": {},
   "source": [
    "## Define the BigQuery script that distinguishes the control-group patients from the patients with caseness of complex mental health difficulties.\n",
    "\n",
    "The caseness and non-caseness groups are identified from `tbl_studyPopulation_no_caseness` by defining the caseness group as follows:\n",
    "1. all people in `tbl_studyPopulation_no_caseness`,\n",
    "2. who have a record of a SNOMED-CT diagnostic code from `codes_to_query_caseness` at any time prior to the `myIndexDate` date,\n",
    "3. who have record of prescriptions for medications from `medications_to_query_all` within `Rx_windows_caseness` years prior to the `myIndexDate` date.\n",
    "\n",
    "The sequence I apply is to first create a new SQL Common Table Expression (CTE) similar to `tbl_persons_and_codes_pre` but where I select codes in `tbl_codes_caseness` rather than the codes in `tbl_codes_mentalIllHealth`. Then I will create another CTE that filters the results from `tbl_persons_and_medications` for a `datemedicationstart` value within the bounds. I then do an INNER JOIN of these two CTEs to retrieve patients with the diagnostic code from `codes_to_query_caseness` _and_ recent prescriptions for medications from `medications_to_query_all`. I add a column called `caseness_1isYes` that equals 1 for all rows. Finally, I OUTER JOIN this to `tbl_studyPopulation_no_caseness` and use a CASE-WHEN statement to impute a NULL as a 0 value for all rows of `caseness_1isYes` in `tbl_studyPopulation_no_caseness` to indicate that these patient records are controls."
   ]
  },
  {
   "cell_type": "code",
   "execution_count": 13,
   "id": "2c383190-8162-4a7c-8999-24f53f227412",
   "metadata": {
    "jupyter": {
     "source_hidden": true
    },
    "tags": []
   },
   "outputs": [],
   "source": [
    "sql_caseness_CTEs = \\\n",
    "\"\"\"\n",
    ",tbl_persons_with_caseness_codes AS (\n",
    "    SELECT\n",
    "        DISTINCT tbl_persons_firstFilters.person_id\n",
    "    FROM\n",
    "        tbl_persons_firstFilters\n",
    "    # This join gets the diagnostic SNOMED-CT codes, and filters for \n",
    "    # the patients for which we have diagnostic codes because it is an\n",
    "    # INNER JOIN.\n",
    "    JOIN\n",
    "        \"\"\" + server_id + \"\"\".\"\"\" + database_id + \"\"\".tbl_srcode\n",
    "        ON tbl_persons_firstFilters.person_id = tbl_srcode.person_id\n",
    "    # This join is filtering for patients with the diagnostic SNOMED-CT codes\n",
    "    # of interest by using an INNER JOIN, which acts like an intersection in\n",
    "    # set operations.\n",
    "    JOIN \n",
    "        tbl_codes_caseness\n",
    "        ON tbl_srcode.snomedcode = tbl_codes_caseness.my_snomedcode\n",
    "    WHERE\n",
    "        # This filters for diagnoses prior to the index date.\n",
    "        tbl_srcode.dateevent < myIndexDate\n",
    ")\n",
    ",tbl_persons_with_caseness_medications AS (\n",
    "    SELECT\n",
    "        DISTINCT person_id\n",
    "    FROM\n",
    "        tbl_persons_and_medications\n",
    "    WHERE\n",
    "        DATE_DIFF(myIndexDate, CAST(datemedicationstart AS DATE), YEAR) BETWEEN 0 AND \"\"\" + str(Rx_window_caseness) + \"\"\"\n",
    "\n",
    ")\n",
    ",tbl_persons_with_caseness_codes_and_medications AS (\n",
    "    SELECT\n",
    "        DISTINCT tbl_persons_with_caseness_codes.person_id\n",
    "        ,1 AS caseness_1isYes\n",
    "    FROM\n",
    "        tbl_persons_with_caseness_codes\n",
    "    JOIN\n",
    "        tbl_persons_with_caseness_medications\n",
    "        ON tbl_persons_with_caseness_codes.person_id = tbl_persons_with_caseness_medications.person_id\n",
    ")\n",
    ",tbl_studyPopulation AS (\n",
    "    SELECT\n",
    "        DISTINCT tbl_studyPopulation_no_caseness.person_id\n",
    "        ,CASE WHEN caseness_1isYes IS NULL THEN 0 ELSE 1 END AS caseness_1isYes\n",
    "    FROM\n",
    "        tbl_studyPopulation_no_caseness\n",
    "    LEFT JOIN\n",
    "        tbl_persons_with_caseness_codes_and_medications\n",
    "        ON tbl_studyPopulation_no_caseness.person_id = tbl_persons_with_caseness_codes_and_medications.person_id\n",
    ")\n",
    "\"\"\""
   ]
  },
  {
   "cell_type": "markdown",
   "id": "d1faa91b-50b4-435a-b781-b858ed27f459",
   "metadata": {},
   "source": [
    "## Run the BigQuery query to produce the caseness_array."
   ]
  },
  {
   "cell_type": "code",
   "execution_count": 8,
   "id": "d75ca821-6440-44e1-b56f-a85ed244b659",
   "metadata": {
    "jupyter": {
     "source_hidden": true
    },
    "tags": []
   },
   "outputs": [
    {
     "name": "stderr",
     "output_type": "stream",
     "text": [
      "/opt/conda/lib/python3.7/site-packages/google/auth/_default.py:78: UserWarning: Your application has authenticated using end user credentials from Google Cloud SDK without a quota project. You might receive a \"quota exceeded\" or \"API not enabled\" error. See the following page for troubleshooting: https://cloud.google.com/docs/authentication/adc-troubleshooting/user-creds. \n",
      "  warnings.warn(_CLOUD_SDK_CREDENTIALS_WARNING)\n"
     ]
    },
    {
     "name": "stdout",
     "output_type": "stream",
     "text": [
      "The prevalence of caseness among those with mental ill-health in the Connected Bradford dataset is \u001b[1m2.0%\u001b[0m. \n",
      "\n",
      "Stored 'sql_declarations' (str)\n",
      "Stored 'sql_studyPopulation' (str)\n",
      "Stored 'caseness_array' (DataFrame)\n",
      "Stored 'count_studyPopulation' (int)\n",
      "Stored 'count_caseness' (int)\n",
      "Stored 'count_control' (int)\n",
      "Stored 'caseness_prevalence' (float)\n"
     ]
    }
   ],
   "source": [
    "sql_final_select =\\\n",
    "\"\"\"\n",
    "SELECT * FROM tbl_studyPopulation ORDER BY person_id\n",
    "\"\"\"\n",
    "caseness_array = pandas.read_gbq(sql_declarations + sql_studyPopulation + sql_caseness_CTEs + sql_final_select)\n",
    "\n",
    "\n",
    "# Calculate the prevalence of caseness among those with mental ill-health.\n",
    "count_caseness = round(caseness_array.caseness_1isYes.sum() / target_round) * target_round\n",
    "count_studyPopulation = round( len(caseness_array) / target_round ) * target_round\n",
    "caseness_prevalence = count_caseness / count_studyPopulation\n",
    "count_control = count_studyPopulation - count_caseness\n",
    "\n",
    "if count_studyPopulation < redaction_threshold:\n",
    "    print(f'The count of patients in the Connected Bradford dataset demonstrating mental ill-health is so low that does not suffice our redaction threshold.')\n",
    "    print(f'Therefore, no further action will be taken because the study population is too small.')\n",
    "\n",
    "if count_caseness < redaction_threshold:\n",
    "    print(f'The count of patients in the Connected Bradford dataset demonstrating the caseness of complex mental health difficulties is so low that does not suffice our redaction threshold.')\n",
    "    print(f'Therefore, we will use the redaction threshold as the imputed count of caseness.')\n",
    "    count_caseness = redaction_threshold\n",
    "    caseness_prevalence = count_caseness / count_studyPopulation\n",
    "    count_control = count_studyPopulation - count_caseness\n",
    "else:\n",
    "    print(f'The prevalence of caseness among those with mental ill-health in the Connected Bradford dataset is \\033[1m{round(caseness_prevalence * 100, 1)}%\\033[0m. \\n')\n",
    "\n",
    "%store sql_declarations sql_studyPopulation caseness_array count_studyPopulation count_caseness count_control caseness_prevalence"
   ]
  },
  {
   "cell_type": "markdown",
   "id": "2c7fbd1e-887b-4f7f-8ebc-9b69bd67e138",
   "metadata": {},
   "source": [
    "## Calculating the entropy of the caseness"
   ]
  },
  {
   "cell_type": "code",
   "execution_count": 20,
   "id": "1461cc80-5008-4c77-a517-7b2d55171fa9",
   "metadata": {
    "jupyter": {
     "source_hidden": true
    },
    "tags": []
   },
   "outputs": [
    {
     "name": "stdout",
     "output_type": "stream",
     "text": [
      "\n",
      " Calculating the entropy of the caseness variable in nats...\n",
      "\t Caseness variable entropy = 0.097 nats\n",
      "\t The caseness variable's entropy is 14.0 % of its theoretical maximum\n",
      "\n"
     ]
    }
   ],
   "source": [
    "print(\"\\n Calculating the entropy of the caseness variable in nats...\")\n",
    "entropy_caseness_scaled = entropy_output(caseness_array.caseness_1isYes)\n",
    "%store entropy_caseness_scaled"
   ]
  },
  {
   "cell_type": "markdown",
   "id": "d3943e29-b663-4d59-a0a2-9303bd433b37",
   "metadata": {
    "tags": []
   },
   "source": [
    "## Calculating hit rates"
   ]
  },
  {
   "cell_type": "code",
   "execution_count": 10,
   "id": "26f39a30-0d49-4a50-9979-1061f88568be",
   "metadata": {
    "jupyter": {
     "source_hidden": true
    },
    "tags": []
   },
   "outputs": [
    {
     "name": "stdout",
     "output_type": "stream",
     "text": [
      "\n",
      " Calculating the hit rates of the caseness variable in nats...\n",
      "\t Hit rate (all) = 1.969 %\n",
      "\t Hit rate (none) = 98.031 %\n",
      "\t Odds (No : Yes) = 49-times less likely to demonstrate caseness than to not.\n",
      "Stored 'hitRate_none' (float64)\n"
     ]
    }
   ],
   "source": [
    "print(\"\\n Calculating the hit rates of the caseness variable in nats...\")\n",
    "hitRate_none, hitRate_all = hitrate_output(caseness_array.caseness_1isYes)\n",
    "%store hitRate_none"
   ]
  },
  {
   "cell_type": "markdown",
   "id": "a92073d8-a3d7-46e0-a4a4-db2f88c326bb",
   "metadata": {},
   "source": [
    "## Concluding comments."
   ]
  },
  {
   "cell_type": "code",
   "execution_count": 3,
   "id": "88c9643a-b0a7-4c7c-9abb-e58c49510d1f",
   "metadata": {
    "jupyter": {
     "source_hidden": true
    },
    "tags": []
   },
   "outputs": [
    {
     "data": {
      "text/markdown": [
       "    \n",
       "We now know that:\n",
       "1. based on the scaled entropy, our variable indicating the caseness of complex mental health difficulties is $\\le14.0\\%$ as uncertain/surprising/unforeseeable\n",
       "as it could possibly be; _and_\n",
       "\n",
       "2. we would correctly classify $\\ge98.0\\%$ of patient records in this sample if we simply assumed that none met our definition of complex mental health difficulties.\n",
       "\n",
       "The first point tells us that definite caseness of complex mental health difficulties can be known with considerable certainty, in this dataset. There is only so much room for improvement via feature sets.\n",
       "\n",
       "The second point defines a benchmark for the indicative performance of any feature set that we evaluate in our study. Specifically, any feature set that we suggest to improve our certainty of knowing\n",
       "that someone has complex mental health difficulties must correctly identify $\\ge98.0\\%$ of patient records in our sample. Otherwise, the added feature set is a needless\n",
       "complication to our attempt to know whether or not someone has complex mental health difficulties (which we can often safely assume they don't). This is such a high benchmark that we will be very\n",
       "unlikely to find such a feature set.\n",
       "\n",
       "We must remember that we are not trying to out-predict an identification rule based on caseness prevalence. Rather, we are trying to find feature sets that correlate with this\n",
       "caseness prevalence. Large correlations would be difficult to find using variance-based methods like Pearson's product moment correlation or regression methods because the variance of the\n",
       "caseness variable is so low. Our approach based on mutual-information is better suited to this situation because its fundamental concept is coincidence rather than covariance.\n"
      ],
      "text/plain": [
       "<IPython.core.display.Markdown object>"
      ]
     },
     "metadata": {},
     "output_type": "display_data"
    }
   ],
   "source": [
    "display(\n",
    "    Markdown(\n",
    "f\"\"\"    \n",
    "We now know that:\n",
    "1. based on the scaled entropy, our variable indicating the caseness of complex mental health difficulties is $\\le{round(entropy_caseness_scaled, 1)}\\%$ as uncertain/surprising/unforeseeable\n",
    "as it could possibly be; _and_\n",
    "\n",
    "2. we would correctly classify $\\ge{round(hitRate_none, 1)}\\%$ of patient records in this sample if we simply assumed that none met our definition of complex mental health difficulties.\n",
    "\n",
    "The first point tells us that definite caseness of complex mental health difficulties can be known with considerable certainty, in this dataset. There is only so much room for improvement via feature sets.\n",
    "\n",
    "The second point defines a benchmark for the indicative performance of any feature set that we evaluate in our study. Specifically, any feature set that we suggest to improve our certainty of knowing\n",
    "that someone has complex mental health difficulties must correctly identify $\\ge{round(hitRate_none, 1)}\\%$ of patient records in our sample. Otherwise, the added feature set is a needless\n",
    "complication to our attempt to know whether or not someone has complex mental health difficulties (which we can often safely assume they don't). This is such a high benchmark that we will be very\n",
    "unlikely to find such a feature set.\n",
    "\n",
    "We must remember that we are not trying to out-predict an identification rule based on caseness prevalence. Rather, we are trying to find feature sets that correlate with this\n",
    "caseness prevalence. Large correlations would be difficult to find using variance-based methods like Pearson's product moment correlation or regression methods because the variance of the\n",
    "caseness variable is so low. Our approach based on mutual-information is better suited to this situation because its fundamental concept is coincidence rather than covariance.\n",
    "\"\"\"\n",
    "        )\n",
    ")"
   ]
  },
  {
   "cell_type": "code",
   "execution_count": 8,
   "id": "e6d784e3-f641-425c-84f5-fb0e596d6f66",
   "metadata": {
    "jupyter": {
     "source_hidden": true
    },
    "tags": []
   },
   "outputs": [
    {
     "data": {
      "text/markdown": [
       "    \n",
       "If we assume a rule that says no record meets our definition for the caseness of complex mental health difficulties, then we get the following approximate values for our evaluation statistics:\n",
       "\n",
       "| Statistic                      |    Value   |\n",
       "| ------------------------------ | -----------|\n",
       "| Normalised mutual information  | x → 0 |\n",
       "| Class balance accuracy         | 0.49      |\n",
       "| Odds ratio                     | Not a number because one of the odds is zero.       |\n",
       "| Positive predictive value      | 0      |\n",
       "| Negative predictive value      | 0.98      |\n",
       "\n"
      ],
      "text/plain": [
       "<IPython.core.display.Markdown object>"
      ]
     },
     "metadata": {},
     "output_type": "display_data"
    }
   ],
   "source": [
    "# Below, I compute the cells of the contingency table for a rule that says no one has caseness of complex mental health difficulties.\n",
    "#\n",
    "# True positives. Zero because the rule says no one demonstrates 'Definite caseness' so no \"positives\" of any kind exist.\n",
    "tp = 0\n",
    "# False positives. Zero because the rule says no one demonstrates 'Definite caseness' so no \"positives\" of any kind exist.\n",
    "fp = 0\n",
    "# True negatives. The opposite of the hit rates calculated previously, which assumed the rule that everyone demonstrated active caseness.\n",
    "tn = hitRate_none / 100 * count_studyPopulation\n",
    "# False negatives. The opposite of the hit rates calculated previously, which assumed the rule that everyone demonstrated active caseness.\n",
    "fn = hitRate_all / 100 * count_studyPopulation\n",
    "\n",
    "# Below, I compute the evaluation statistics.\n",
    "#\n",
    "# Class balance accuracy.\n",
    "cba = round( 0.5 * ( (tp / max( (tp + fn), (tp + fp) ) ) + (tn / max( (tn + fp), (tn + fn) ) ) ), 2)\n",
    "# Odds ratio.\n",
    "OR = 'Not a number because one of the odds is zero.' if min( (tp * tn) , (fp * fn) ) == 0 else round( (tp * tn) / (fp * fn), 2)\n",
    "# Positive predictive value.\n",
    "ppv = 0 if (tp + fp) == 0 else round( tp / (tp + fp), 2)\n",
    "# Negative predictive value.\n",
    "npv = 0 if (tn + fn) == 0 else round( tn / (tn + fn), 2)\n",
    "\n",
    "display(\n",
    "    Markdown(\n",
    "f\"\"\"    \n",
    "If we assume a rule that says no record meets our definition for the caseness of complex mental health difficulties, then we get the following approximate values for our evaluation statistics:\n",
    "\n",
    "| Statistic                      |    Value   |\n",
    "| ------------------------------ | -----------|\n",
    "| Normalised mutual information  | x \\u2192 0 |\n",
    "| Class balance accuracy         | {cba}      |\n",
    "| Odds ratio                     | {OR}       |\n",
    "| Positive predictive value      | {ppv}      |\n",
    "| Negative predictive value      | {npv}      |\n",
    "\n",
    "\"\"\"\n",
    "    )\n",
    ")"
   ]
  }
 ],
 "metadata": {
  "environment": {
   "kernel": "python3",
   "name": "r-cpu.4-2.m111",
   "type": "gcloud",
   "uri": "gcr.io/deeplearning-platform-release/r-cpu.4-2:m111"
  },
  "kernelspec": {
   "display_name": "Python 3",
   "language": "python",
   "name": "python3"
  },
  "language_info": {
   "codemirror_mode": {
    "name": "ipython",
    "version": 3
   },
   "file_extension": ".py",
   "mimetype": "text/x-python",
   "name": "python",
   "nbconvert_exporter": "python",
   "pygments_lexer": "ipython3",
   "version": "3.7.12"
  }
 },
 "nbformat": 4,
 "nbformat_minor": 5
}
